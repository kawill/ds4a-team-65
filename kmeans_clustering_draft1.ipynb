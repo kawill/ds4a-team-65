{
 "cells": [
  {
   "cell_type": "code",
   "execution_count": 1,
   "metadata": {},
   "outputs": [],
   "source": [
    "import numpy as np\n",
    "import pandas as pd\n",
    "\n",
    "import seaborn as sns\n",
    "import plotly.express as px \n",
    "import matplotlib.pyplot as plt\n",
    "%matplotlib inline\n",
    "\n",
    "from sklearn.cluster import KMeans\n",
    "from sklearn.preprocessing import StandardScaler\n",
    "from sklearn.pipeline import Pipeline\n",
    "from sklearn.manifold import TSNE\n",
    "from sklearn.decomposition import PCA\n",
    "from sklearn.metrics import euclidean_distances\n",
    "from scipy.spatial.distance import cdist\n",
    "\n",
    "import warnings\n",
    "warnings.filterwarnings(\"ignore\")"
   ]
  },
  {
   "cell_type": "code",
   "execution_count": 6,
   "metadata": {},
   "outputs": [],
   "source": [
    "df = pd.read_csv('data.csv')"
   ]
  },
  {
   "cell_type": "code",
   "execution_count": 14,
   "metadata": {},
   "outputs": [],
   "source": [
    "# getting just 2020 data\n",
    "data = df[df['year'] == 2020]"
   ]
  },
  {
   "cell_type": "code",
   "execution_count": 15,
   "metadata": {},
   "outputs": [
    {
     "data": {
      "text/html": [
       "<div>\n",
       "<style scoped>\n",
       "    .dataframe tbody tr th:only-of-type {\n",
       "        vertical-align: middle;\n",
       "    }\n",
       "\n",
       "    .dataframe tbody tr th {\n",
       "        vertical-align: top;\n",
       "    }\n",
       "\n",
       "    .dataframe thead th {\n",
       "        text-align: right;\n",
       "    }\n",
       "</style>\n",
       "<table border=\"1\" class=\"dataframe\">\n",
       "  <thead>\n",
       "    <tr style=\"text-align: right;\">\n",
       "      <th></th>\n",
       "      <th>acousticness</th>\n",
       "      <th>artists</th>\n",
       "      <th>danceability</th>\n",
       "      <th>duration_ms</th>\n",
       "      <th>energy</th>\n",
       "      <th>explicit</th>\n",
       "      <th>id</th>\n",
       "      <th>instrumentalness</th>\n",
       "      <th>key</th>\n",
       "      <th>liveness</th>\n",
       "      <th>loudness</th>\n",
       "      <th>mode</th>\n",
       "      <th>name</th>\n",
       "      <th>popularity</th>\n",
       "      <th>release_date</th>\n",
       "      <th>speechiness</th>\n",
       "      <th>tempo</th>\n",
       "      <th>valence</th>\n",
       "      <th>year</th>\n",
       "    </tr>\n",
       "  </thead>\n",
       "  <tbody>\n",
       "    <tr>\n",
       "      <th>0</th>\n",
       "      <td>0.881</td>\n",
       "      <td>['Joni Mitchell']</td>\n",
       "      <td>0.644</td>\n",
       "      <td>313093</td>\n",
       "      <td>0.212</td>\n",
       "      <td>0</td>\n",
       "      <td>55qyghODi24yaDgKBI6lx0</td>\n",
       "      <td>0.000022</td>\n",
       "      <td>11</td>\n",
       "      <td>0.7980</td>\n",
       "      <td>-14.118</td>\n",
       "      <td>1</td>\n",
       "      <td>The Circle Game - Live at The 2nd Fret, Philad...</td>\n",
       "      <td>19</td>\n",
       "      <td>2020-10-30</td>\n",
       "      <td>0.0347</td>\n",
       "      <td>117.072</td>\n",
       "      <td>0.441</td>\n",
       "      <td>2020</td>\n",
       "    </tr>\n",
       "    <tr>\n",
       "      <th>1</th>\n",
       "      <td>0.955</td>\n",
       "      <td>['Joni Mitchell']</td>\n",
       "      <td>0.627</td>\n",
       "      <td>295093</td>\n",
       "      <td>0.184</td>\n",
       "      <td>0</td>\n",
       "      <td>00xemFYjQNRpOlPhVaLAHa</td>\n",
       "      <td>0.000162</td>\n",
       "      <td>1</td>\n",
       "      <td>0.0986</td>\n",
       "      <td>-15.533</td>\n",
       "      <td>1</td>\n",
       "      <td>Urge For Going - Live at The 2nd Fret, Philade...</td>\n",
       "      <td>19</td>\n",
       "      <td>2020-10-30</td>\n",
       "      <td>0.0450</td>\n",
       "      <td>115.864</td>\n",
       "      <td>0.299</td>\n",
       "      <td>2020</td>\n",
       "    </tr>\n",
       "    <tr>\n",
       "      <th>2</th>\n",
       "      <td>0.888</td>\n",
       "      <td>['Joni Mitchell']</td>\n",
       "      <td>0.581</td>\n",
       "      <td>183440</td>\n",
       "      <td>0.331</td>\n",
       "      <td>0</td>\n",
       "      <td>2lm5FQJRHvc3rUN5YHpEWj</td>\n",
       "      <td>0.000015</td>\n",
       "      <td>6</td>\n",
       "      <td>0.1470</td>\n",
       "      <td>-14.087</td>\n",
       "      <td>1</td>\n",
       "      <td>What's The Story Mr. Blue - Live at The 2nd Fr...</td>\n",
       "      <td>19</td>\n",
       "      <td>2020-10-30</td>\n",
       "      <td>0.2430</td>\n",
       "      <td>88.303</td>\n",
       "      <td>0.642</td>\n",
       "      <td>2020</td>\n",
       "    </tr>\n",
       "    <tr>\n",
       "      <th>3</th>\n",
       "      <td>0.930</td>\n",
       "      <td>['Joni Mitchell']</td>\n",
       "      <td>0.442</td>\n",
       "      <td>147907</td>\n",
       "      <td>0.399</td>\n",
       "      <td>0</td>\n",
       "      <td>26g4FBGTB9YEj7q4HlblFf</td>\n",
       "      <td>0.000499</td>\n",
       "      <td>6</td>\n",
       "      <td>0.9120</td>\n",
       "      <td>-12.661</td>\n",
       "      <td>1</td>\n",
       "      <td>Brandy Eyes - Live at The 2nd Fret, Philadelph...</td>\n",
       "      <td>19</td>\n",
       "      <td>2020-10-30</td>\n",
       "      <td>0.0780</td>\n",
       "      <td>121.662</td>\n",
       "      <td>0.554</td>\n",
       "      <td>2020</td>\n",
       "    </tr>\n",
       "    <tr>\n",
       "      <th>4</th>\n",
       "      <td>0.949</td>\n",
       "      <td>['Joni Mitchell']</td>\n",
       "      <td>0.570</td>\n",
       "      <td>64173</td>\n",
       "      <td>0.176</td>\n",
       "      <td>0</td>\n",
       "      <td>05sxkljafFBW2vEnVczQy1</td>\n",
       "      <td>0.000000</td>\n",
       "      <td>6</td>\n",
       "      <td>0.1470</td>\n",
       "      <td>-22.676</td>\n",
       "      <td>0</td>\n",
       "      <td>Intro To Urge For Going - Live at The 2nd Fret...</td>\n",
       "      <td>19</td>\n",
       "      <td>2020-10-30</td>\n",
       "      <td>0.2990</td>\n",
       "      <td>135.687</td>\n",
       "      <td>0.348</td>\n",
       "      <td>2020</td>\n",
       "    </tr>\n",
       "  </tbody>\n",
       "</table>\n",
       "</div>"
      ],
      "text/plain": [
       "   acousticness            artists  danceability  duration_ms  energy  \\\n",
       "0         0.881  ['Joni Mitchell']         0.644       313093   0.212   \n",
       "1         0.955  ['Joni Mitchell']         0.627       295093   0.184   \n",
       "2         0.888  ['Joni Mitchell']         0.581       183440   0.331   \n",
       "3         0.930  ['Joni Mitchell']         0.442       147907   0.399   \n",
       "4         0.949  ['Joni Mitchell']         0.570        64173   0.176   \n",
       "\n",
       "   explicit                      id  instrumentalness  key  liveness  \\\n",
       "0         0  55qyghODi24yaDgKBI6lx0          0.000022   11    0.7980   \n",
       "1         0  00xemFYjQNRpOlPhVaLAHa          0.000162    1    0.0986   \n",
       "2         0  2lm5FQJRHvc3rUN5YHpEWj          0.000015    6    0.1470   \n",
       "3         0  26g4FBGTB9YEj7q4HlblFf          0.000499    6    0.9120   \n",
       "4         0  05sxkljafFBW2vEnVczQy1          0.000000    6    0.1470   \n",
       "\n",
       "   loudness  mode                                               name  \\\n",
       "0   -14.118     1  The Circle Game - Live at The 2nd Fret, Philad...   \n",
       "1   -15.533     1  Urge For Going - Live at The 2nd Fret, Philade...   \n",
       "2   -14.087     1  What's The Story Mr. Blue - Live at The 2nd Fr...   \n",
       "3   -12.661     1  Brandy Eyes - Live at The 2nd Fret, Philadelph...   \n",
       "4   -22.676     0  Intro To Urge For Going - Live at The 2nd Fret...   \n",
       "\n",
       "   popularity release_date  speechiness    tempo  valence  year  \n",
       "0          19   2020-10-30       0.0347  117.072    0.441  2020  \n",
       "1          19   2020-10-30       0.0450  115.864    0.299  2020  \n",
       "2          19   2020-10-30       0.2430   88.303    0.642  2020  \n",
       "3          19   2020-10-30       0.0780  121.662    0.554  2020  \n",
       "4          19   2020-10-30       0.2990  135.687    0.348  2020  "
      ]
     },
     "execution_count": 15,
     "metadata": {},
     "output_type": "execute_result"
    }
   ],
   "source": [
    "data.reset_index(inplace=True)\n",
    "del data['index']\n",
    "data.head()"
   ]
  },
  {
   "cell_type": "code",
   "execution_count": 18,
   "metadata": {},
   "outputs": [
    {
     "name": "stdout",
     "output_type": "stream",
     "text": [
      "[Pipeline] ............ (step 1 of 2) Processing scaler, total=   0.0s\n",
      "Initialization complete\n",
      "Iteration 0, inertia 40510.49562909471\n",
      "Iteration 1, inertia 30164.670628178752\n",
      "Iteration 2, inertia 29066.986023198067\n",
      "Iteration 3, inertia 28620.64995429569\n",
      "Iteration 4, inertia 28336.2067150934\n",
      "Iteration 5, inertia 28201.36656288552\n",
      "Iteration 6, inertia 28148.439455597432\n",
      "Iteration 7, inertia 28116.90986575879\n",
      "Iteration 8, inertia 28076.2754300886\n",
      "Iteration 9, inertia 27989.95261668311\n",
      "Iteration 10, inertia 27887.22953419975\n",
      "Iteration 11, inertia 27803.11832124109\n",
      "Iteration 12, inertia 27766.58831751689\n",
      "Iteration 13, inertia 27755.292870744815\n",
      "Iteration 14, inertia 27748.148933465793\n",
      "Iteration 15, inertia 27744.7134015034\n",
      "Iteration 16, inertia 27738.747690730157\n",
      "Iteration 17, inertia 27734.064668991516\n",
      "Iteration 18, inertia 27731.605347607067\n",
      "Iteration 19, inertia 27729.155107789757\n",
      "Iteration 20, inertia 27728.097104231045\n",
      "Iteration 21, inertia 27725.51566188527\n",
      "Iteration 22, inertia 27722.443276024314\n",
      "Iteration 23, inertia 27721.50771802946\n",
      "Iteration 24, inertia 27721.177438749048\n",
      "Iteration 25, inertia 27720.883624691618\n",
      "Converged at iteration 25: strict convergence.\n",
      "Initialization complete\n",
      "Iteration 0, inertia 43311.04102381671\n",
      "Iteration 1, inertia 32013.32393424212\n",
      "Iteration 2, inertia 30698.38236264541\n",
      "Iteration 3, inertia 30100.015134527075\n",
      "Iteration 4, inertia 29714.43964574997\n",
      "Iteration 5, inertia 29195.08390011117\n",
      "Iteration 6, inertia 28782.524668572267\n",
      "Iteration 7, inertia 28598.30960850619\n",
      "Iteration 8, inertia 28392.134296452277\n",
      "Iteration 9, inertia 28042.507496902246\n",
      "Iteration 10, inertia 27784.57724594667\n",
      "Iteration 11, inertia 27720.898786592865\n",
      "Iteration 12, inertia 27652.988498910512\n",
      "Iteration 13, inertia 27581.37654872686\n",
      "Iteration 14, inertia 27543.10687088215\n",
      "Iteration 15, inertia 27512.18232616177\n",
      "Iteration 16, inertia 27502.159377741184\n",
      "Iteration 17, inertia 27498.496801916855\n",
      "Iteration 18, inertia 27497.932762568442\n",
      "Iteration 19, inertia 27497.754367320966\n",
      "Iteration 20, inertia 27497.599191636295\n",
      "Converged at iteration 20: strict convergence.\n",
      "Initialization complete\n",
      "Iteration 0, inertia 43309.744151458945\n",
      "Iteration 1, inertia 30902.734782488056\n",
      "Iteration 2, inertia 29863.47847217061\n",
      "Iteration 3, inertia 29481.21584411286\n",
      "Iteration 4, inertia 29183.257361404256\n",
      "Iteration 5, inertia 28956.969621772463\n",
      "Iteration 6, inertia 28810.01979068383\n",
      "Iteration 7, inertia 28696.17434248114\n",
      "Iteration 8, inertia 28592.978813394995\n",
      "Iteration 9, inertia 28484.476998423335\n",
      "Iteration 10, inertia 28336.407379301767\n",
      "Iteration 11, inertia 28112.579256309284\n",
      "Iteration 12, inertia 27986.060033626327\n",
      "Iteration 13, inertia 27959.30158843096\n",
      "Iteration 14, inertia 27946.487207557024\n",
      "Iteration 15, inertia 27939.925136415342\n",
      "Iteration 16, inertia 27936.364290979633\n",
      "Iteration 17, inertia 27932.11523051667\n",
      "Iteration 18, inertia 27926.831567441455\n",
      "Iteration 19, inertia 27919.890099605425\n",
      "Iteration 20, inertia 27917.087283235687\n",
      "Iteration 21, inertia 27916.15310055612\n",
      "Iteration 22, inertia 27916.080143153915\n",
      "Iteration 23, inertia 27916.015054111318\n",
      "Converged at iteration 23: strict convergence.\n",
      "Initialization complete\n",
      "Iteration 0, inertia 42269.853484044404\n",
      "Iteration 1, inertia 30580.172526891456\n",
      "Iteration 2, inertia 29104.284514155388\n",
      "Iteration 3, inertia 28596.08263795712\n",
      "Iteration 4, inertia 28225.652841724554\n",
      "Iteration 5, inertia 28077.75129970748\n",
      "Iteration 6, inertia 28039.999193817872\n",
      "Iteration 7, inertia 28026.093934326287\n",
      "Iteration 8, inertia 28014.0235224764\n",
      "Iteration 9, inertia 28004.125068078392\n",
      "Iteration 10, inertia 27995.637942300997\n",
      "Iteration 11, inertia 27983.942380946664\n",
      "Iteration 12, inertia 27967.914975965654\n",
      "Iteration 13, inertia 27954.832692652362\n",
      "Iteration 14, inertia 27949.697584592002\n",
      "Iteration 15, inertia 27945.693010354393\n",
      "Iteration 16, inertia 27941.876406569518\n",
      "Iteration 17, inertia 27938.529863859967\n",
      "Iteration 18, inertia 27934.70198558787\n",
      "Iteration 19, inertia 27928.654477115433\n",
      "Iteration 20, inertia 27917.528874886197\n",
      "Iteration 21, inertia 27895.490407710266\n",
      "Iteration 22, inertia 27878.24757524178\n",
      "Iteration 23, inertia 27868.03605161097\n",
      "Iteration 24, inertia 27862.888196931282\n",
      "Iteration 25, inertia 27861.104768152873\n",
      "Iteration 26, inertia 27860.908814911494\n",
      "Iteration 27, inertia 27860.822591469423\n",
      "Iteration 28, inertia 27860.67007946703\n",
      "Converged at iteration 28: strict convergence.\n",
      "Initialization complete\n",
      "Iteration 0, inertia 42021.06327165446\n",
      "Iteration 1, inertia 31633.590355769935\n",
      "Iteration 2, inertia 29832.958588509235\n",
      "Iteration 3, inertia 29006.10516160884\n",
      "Iteration 4, inertia 28739.015880044943\n",
      "Iteration 5, inertia 28554.231987796822\n",
      "Iteration 6, inertia 28452.6792527932\n",
      "Iteration 7, inertia 28425.286705202358\n",
      "Iteration 8, inertia 28413.621308690173\n",
      "Iteration 9, inertia 28410.37477956534\n",
      "Iteration 10, inertia 28407.223851665167\n",
      "Iteration 11, inertia 28405.21042593428\n",
      "Iteration 12, inertia 28404.431894420617\n",
      "Iteration 13, inertia 28403.814999121067\n",
      "Iteration 14, inertia 28403.03876133895\n",
      "Iteration 15, inertia 28401.924847361795\n",
      "Iteration 16, inertia 28400.694066879438\n",
      "Iteration 17, inertia 28398.917771387256\n",
      "Iteration 18, inertia 28396.937419669423\n",
      "Iteration 19, inertia 28389.58515473698\n",
      "Iteration 20, inertia 28383.388009063197\n",
      "Iteration 21, inertia 28373.08787319167\n",
      "Iteration 22, inertia 28355.597069567033\n",
      "Iteration 23, inertia 28313.35185260808\n",
      "Iteration 24, inertia 28215.197361659393\n",
      "Iteration 25, inertia 28159.40281130486\n",
      "Iteration 26, inertia 28150.243754076928\n",
      "Iteration 27, inertia 28146.390926769436\n",
      "Iteration 28, inertia 28145.37299848267\n",
      "Iteration 29, inertia 28144.58342886041\n",
      "Iteration 30, inertia 28144.315371187608\n",
      "Converged at iteration 30: strict convergence.\n",
      "Initialization complete\n",
      "Iteration 0, inertia 40754.015705579906\n",
      "Iteration 1, inertia 30702.485333510675\n",
      "Iteration 2, inertia 29470.53503544119\n",
      "Iteration 3, inertia 29044.26731136707\n",
      "Iteration 4, inertia 28724.827380250124\n",
      "Iteration 5, inertia 28447.415191306183\n",
      "Iteration 6, inertia 28306.121879845818\n",
      "Iteration 7, inertia 28226.36627784586\n",
      "Iteration 8, inertia 28179.044642591947\n",
      "Iteration 9, inertia 28152.550492950988\n",
      "Iteration 10, inertia 28129.218208496422\n",
      "Iteration 11, inertia 28104.67512781233\n",
      "Iteration 12, inertia 28090.86546618857\n",
      "Iteration 13, inertia 28080.478087639356\n",
      "Iteration 14, inertia 28070.731881817876\n",
      "Iteration 15, inertia 28062.693762625873\n",
      "Iteration 16, inertia 28054.460019659786\n",
      "Iteration 17, inertia 28045.779203376613\n",
      "Iteration 18, inertia 28035.069521443158\n",
      "Iteration 19, inertia 28019.504279604993\n",
      "Iteration 20, inertia 28001.683749875712\n",
      "Iteration 21, inertia 27987.993193433456\n",
      "Iteration 22, inertia 27983.39673283829\n",
      "Iteration 23, inertia 27978.683971119808\n",
      "Iteration 24, inertia 27976.446652801715\n",
      "Iteration 25, inertia 27975.93213770712\n",
      "Iteration 26, inertia 27975.82976138824\n",
      "Converged at iteration 26: strict convergence.\n",
      "Initialization complete\n",
      "Iteration 0, inertia 43704.23124739229\n",
      "Iteration 1, inertia 31229.40837108024\n",
      "Iteration 2, inertia 29816.73239092099\n",
      "Iteration 3, inertia 29377.73472971749\n",
      "Iteration 4, inertia 29242.317299724164\n",
      "Iteration 5, inertia 29173.063891593345\n",
      "Iteration 6, inertia 29135.01951004879\n",
      "Iteration 7, inertia 29099.689999005514\n",
      "Iteration 8, inertia 29081.331240363503\n",
      "Iteration 9, inertia 29063.807135670733\n",
      "Iteration 10, inertia 29044.773825103824\n",
      "Iteration 11, inertia 29025.663730939974\n",
      "Iteration 12, inertia 29004.65667787584\n",
      "Iteration 13, inertia 28957.916018558786\n",
      "Iteration 14, inertia 28920.03935124237\n",
      "Iteration 15, inertia 28877.91931735028\n",
      "Iteration 16, inertia 28810.111627164857\n",
      "Iteration 17, inertia 28725.053226662414\n",
      "Iteration 18, inertia 28637.17940148868\n",
      "Iteration 19, inertia 28539.117467651442\n",
      "Iteration 20, inertia 28473.042553956115\n",
      "Iteration 21, inertia 28425.240421207567\n",
      "Iteration 22, inertia 28398.59904246148\n",
      "Iteration 23, inertia 28378.50864164818\n",
      "Iteration 24, inertia 28375.254978240573\n",
      "Iteration 25, inertia 28373.929143042256\n",
      "Iteration 26, inertia 28373.473180068653\n",
      "Iteration 27, inertia 28372.78209480581\n",
      "Iteration 28, inertia 28372.260403452357\n",
      "Iteration 29, inertia 28372.14671854728\n",
      "Converged at iteration 29: strict convergence.\n",
      "Initialization complete\n",
      "Iteration 0, inertia 42901.487357597805\n",
      "Iteration 1, inertia 31369.44569443767\n",
      "Iteration 2, inertia 29959.79401379382\n",
      "Iteration 3, inertia 29483.271413158353\n",
      "Iteration 4, inertia 29090.887775904896\n",
      "Iteration 5, inertia 28775.818398423453\n",
      "Iteration 6, inertia 28559.761091238302\n",
      "Iteration 7, inertia 28290.932947925798\n",
      "Iteration 8, inertia 28040.787723439105\n",
      "Iteration 9, inertia 27916.79290128105\n",
      "Iteration 10, inertia 27842.33670272457\n",
      "Iteration 11, inertia 27807.732385328687\n",
      "Iteration 12, inertia 27797.380114624368\n",
      "Iteration 13, inertia 27794.464689897333\n",
      "Iteration 14, inertia 27792.184724556555\n",
      "Iteration 15, inertia 27792.098718757763\n",
      "Converged at iteration 15: strict convergence.\n",
      "Initialization complete\n",
      "Iteration 0, inertia 40277.412717688494\n",
      "Iteration 1, inertia 30834.409631263872\n",
      "Iteration 2, inertia 29989.754223056472\n",
      "Iteration 3, inertia 29581.73100344177\n",
      "Iteration 4, inertia 29221.492733497482\n",
      "Iteration 5, inertia 28974.170152418592\n",
      "Iteration 6, inertia 28849.686068598763\n",
      "Iteration 7, inertia 28777.264790759767\n",
      "Iteration 8, inertia 28735.15509551229\n",
      "Iteration 9, inertia 28707.115111268093\n",
      "Iteration 10, inertia 28663.339157421902\n",
      "Iteration 11, inertia 28564.164293408274\n",
      "Iteration 12, inertia 28330.535219245256\n",
      "Iteration 13, inertia 28068.884700680755\n",
      "Iteration 14, inertia 27980.068369758184\n",
      "Iteration 15, inertia 27934.241262349555\n",
      "Iteration 16, inertia 27890.67098707729\n",
      "Iteration 17, inertia 27844.43688126853\n",
      "Iteration 18, inertia 27812.23972048469\n",
      "Iteration 19, inertia 27797.8119376383\n",
      "Iteration 20, inertia 27788.930061232153\n",
      "Iteration 21, inertia 27776.00035489965\n",
      "Iteration 22, inertia 27763.676903093314\n",
      "Iteration 23, inertia 27753.815946620463\n",
      "Iteration 24, inertia 27742.9823799628\n",
      "Iteration 25, inertia 27735.732777862315\n",
      "Iteration 26, inertia 27727.433595348895\n",
      "Iteration 27, inertia 27716.921613557006\n",
      "Iteration 28, inertia 27711.411383736526\n",
      "Iteration 29, inertia 27707.833860706032\n",
      "Iteration 30, inertia 27707.25965940151\n",
      "Iteration 31, inertia 27707.16597830135\n",
      "Converged at iteration 31: strict convergence.\n",
      "Initialization complete\n",
      "Iteration 0, inertia 42339.5881669361\n",
      "Iteration 1, inertia 31042.521721878722\n",
      "Iteration 2, inertia 29727.697659818212\n",
      "Iteration 3, inertia 29117.470792659722\n",
      "Iteration 4, inertia 28773.419114346667\n",
      "Iteration 5, inertia 28620.81533435761\n",
      "Iteration 6, inertia 28532.42276858513\n",
      "Iteration 7, inertia 28483.128878340518\n",
      "Iteration 8, inertia 28427.538179475694\n",
      "Iteration 9, inertia 28339.117144760585\n",
      "Iteration 10, inertia 28252.543795631227\n",
      "Iteration 11, inertia 28184.875801097354\n",
      "Iteration 12, inertia 28144.83986678097\n",
      "Iteration 13, inertia 28131.733473242693\n",
      "Iteration 14, inertia 28129.574397397744\n",
      "Iteration 15, inertia 28127.712682688474\n",
      "Iteration 16, inertia 28125.100406587557\n",
      "Iteration 17, inertia 28120.933047787203\n",
      "Iteration 18, inertia 28114.984658529003\n",
      "Iteration 19, inertia 28105.443300405965\n",
      "Iteration 20, inertia 28091.00432758475\n",
      "Iteration 21, inertia 28065.95388473761\n",
      "Iteration 22, inertia 28038.17617105999\n",
      "Iteration 23, inertia 28014.556347000478\n",
      "Iteration 24, inertia 27994.10259314076\n",
      "Iteration 25, inertia 27987.425298244023\n",
      "Iteration 26, inertia 27984.44834893858\n",
      "Iteration 27, inertia 27980.408851769527\n",
      "Iteration 28, inertia 27977.69993817501\n",
      "Iteration 29, inertia 27975.660962658196\n",
      "Iteration 30, inertia 27975.04913215191\n",
      "Iteration 31, inertia 27974.004869667107\n",
      "Iteration 32, inertia 27972.932805966866\n",
      "Iteration 33, inertia 27970.479311177325\n",
      "Iteration 34, inertia 27970.139407302613\n",
      "Converged at iteration 34: strict convergence.\n",
      "[Pipeline] ............ (step 2 of 2) Processing kmeans, total=   0.3s\n"
     ]
    }
   ],
   "source": [
    "song_cluster_pipeline = Pipeline([('scaler', StandardScaler()), \n",
    "                                  ('kmeans', KMeans(n_clusters=20, \n",
    "                                   verbose=2, n_jobs=4))],verbose=True)\n",
    "\n",
    "X = data.select_dtypes(np.number)\n",
    "number_cols = list(X.columns)\n",
    "song_cluster_pipeline.fit(X)\n",
    "song_cluster_labels = song_cluster_pipeline.predict(X)\n",
    "data['cluster_label'] = song_cluster_labels"
   ]
  },
  {
   "cell_type": "code",
   "execution_count": 17,
   "metadata": {},
   "outputs": [
    {
     "data": {
      "application/vnd.plotly.v1+json": {
       "config": {
        "plotlyServerURL": "https://plot.ly"
       },
       "data": [
        {
         "customdata": [
          [
           "The Circle Game - Live at The 2nd Fret, Philadelphia, PA, 11/1966"
          ],
          [
           "Urge For Going - Live at The 2nd Fret, Philadelphia, PA, 11/1966"
          ],
          [
           "What's The Story Mr. Blue - Live at The 2nd Fret, Philadelphia, PA, 11/1966"
          ],
          [
           "Brandy Eyes - Live at The 2nd Fret, Philadelphia, PA, 11/1966"
          ],
          [
           "Intro To Urge For Going - Live at The 2nd Fret, Philadelphia, PA, 11/1966"
          ],
          [
           "Intro To The Circle Game - Live at The 2nd Fret, Philadelphia, PA, 11/1966"
          ],
          [
           "Eastern Rain - Live at The 2nd Fret, Philadelphia, PA, 11/1966"
          ],
          [
           "Night In The City - Live at The 2nd Fret, Philadelphia, PA, 11/1966"
          ],
          [
           "Intro To Night In The City - Live at The 2nd Fret, Philadelphia, PA, 11/1966"
          ],
          [
           "Intro To What's The Story Mr. Blue - Live at The 2nd Fret, Philadelphia, PA, 11/1966"
          ],
          [
           "Tristan und Isolde, WWV 90 / Act 3: Mild und leise wie er lächelt - Live at Bayreuther Festspiele / 1966"
          ],
          [
           "To You, In 2000 Years"
          ],
          [
           "2000 Light Years From Home / She’s A Rainbow / Keyboard Duet - Live"
          ],
          [
           "Year 3000"
          ],
          [
           "Year 2000 Flow"
          ],
          [
           "Year 2020"
          ],
          [
           "Longest Year - 2020"
          ],
          [
           "Year,2015"
          ],
          [
           "Poker Face"
          ],
          [
           "2021"
          ],
          [
           "Year 2008 - MSZ Remix"
          ],
          [
           "Dreams - 2004 Remaster"
          ],
          [
           "Lovers and Friends"
          ],
          [
           "Year 2008 - MSZ Remix"
          ],
          [
           "Year,2015"
          ],
          [
           "Don't Shed a Tear - Live at Bonn, Germany, 2005"
          ],
          [
           "When You Walk in the Room - Live at Bonn, Germany, 2005"
          ],
          [
           "Year 2008 - MSZ Remix"
          ],
          [
           "Year 2008 - MSZ Remix"
          ],
          [
           "I'm Movin' On - Remastered 2008"
          ],
          [
           "Always the Same"
          ],
          [
           "Next Dimensional World (Qlimax Anthem 2008)"
          ],
          [
           "Half New Year"
          ],
          [
           "Year 2008 - MSZ Remix"
          ],
          [
           "Scrap Attack (Defqon.1 Anthem 2009)"
          ],
          [
           "A State Of Trance (ASOT 996) - Tune Of The Year 2019 Top 3, Pt. 2"
          ],
          [
           "A State Of Trance (ASOT 996) - Tune Of The Year 2019 Top 3, Pt. 1"
          ],
          [
           "CTRL.ALT.DELETE (In Qontrol Anthem 2009)"
          ],
          [
           "Year 2020"
          ],
          [
           "Year 2008 - MSZ Remix"
          ],
          [
           "Gone (Acoustic 2010)"
          ],
          [
           "Year,2015"
          ],
          [
           "Longest Year - 2020"
          ],
          [
           "We're Gonna Change The World - Remastered 2010"
          ],
          [
           "A State Of Trance (ASOT 996) - A State Of Trance Tune Of The Year 2020"
          ],
          [
           "A State Of Trance (ASOT 995) - ASOT Tune Of The Year 2020 voting now open: vote.astateoftrance.com, Pt. 1"
          ],
          [
           "A State Of Trance (ASOT 995) - ASOT Tune Of The Year 2020 voting now open: vote.astateoftrance.com, Pt. 2"
          ],
          [
           "A State Of Trance (ASOT 995) - ASOT Tune Of The Year 2020 voting now open: vote.astateoftrance.com, Pt. 3"
          ],
          [
           "A State Of Trance (ASOT 996) - Tune Of The Year 2019 Top 3, Pt. 2"
          ],
          [
           "A State Of Trance (ASOT 996) - Tune Of The Year 2019 Top 3, Pt. 1"
          ],
          [
           "A State Of Trance (ASOT 995) - Tune Of The Year 2020 Special Episode, Pt. 1"
          ],
          [
           "A State Of Trance (ASOT 994) - ASOT Tune Of The Year 2020 voting now open: vote.astateoftrance.com, Pt. 1"
          ],
          [
           "A State Of Trance (ASOT 994) - ASOT Tune Of The Year 2020 voting now open: vote.astateoftrance.com, Pt. 2"
          ],
          [
           "A State Of Trance (ASOT 994) - ASOT Tune Of The Year 2020 voting now open: vote.astateoftrance.com, Pt. 3"
          ],
          [
           "All Of A Sudden - Remastered 2010"
          ],
          [
           "Cool for the Summer"
          ],
          [
           "Somebody To You"
          ],
          [
           "Friends"
          ],
          [
           "Each Year - Live in Kyoto 2010"
          ],
          [
           "Thunder"
          ],
          [
           "Year,2015"
          ],
          [
           "A State Of Trance (ASOT 996) - Tune Of The Year 2019 Top 3, Pt. 2"
          ],
          [
           "A State Of Trance (ASOT 996) - Tune Of The Year 2019 Top 3, Pt. 1"
          ],
          [
           "Sun 2011 - Mixed"
          ],
          [
           "Bad Year Blimp - Mixed"
          ],
          [
           "Sun 2011 - Edit"
          ],
          [
           "Year 2020"
          ],
          [
           "Year,2015"
          ],
          [
           "Longest Year - 2020"
          ],
          [
           "A State Of Trance (ASOT 995) - ASOT Tune Of The Year 2020 voting now open: vote.astateoftrance.com, Pt. 1"
          ],
          [
           "A State Of Trance (ASOT 995) - ASOT Tune Of The Year 2020 voting now open: vote.astateoftrance.com, Pt. 2"
          ],
          [
           "A State Of Trance (ASOT 995) - ASOT Tune Of The Year 2020 voting now open: vote.astateoftrance.com, Pt. 3"
          ],
          [
           "A State Of Trance (ASOT 996) - Tune Of The Year 2019 Top 3, Pt. 2"
          ],
          [
           "A State Of Trance (ASOT 996) - Tune Of The Year 2019 Top 3, Pt. 1"
          ],
          [
           "A State Of Trance (ASOT 996) - A State Of Trance Tune Of The Year 2020"
          ],
          [
           "A State Of Trance (ASOT 995) - Tune Of The Year 2020 Special Episode, Pt. 1"
          ],
          [
           "A State Of Trance (ASOT 994) - ASOT Tune Of The Year 2020 voting now open: vote.astateoftrance.com, Pt. 1"
          ],
          [
           "A State Of Trance (ASOT 994) - ASOT Tune Of The Year 2020 voting now open: vote.astateoftrance.com, Pt. 2"
          ],
          [
           "A State Of Trance (ASOT 994) - ASOT Tune Of The Year 2020 voting now open: vote.astateoftrance.com, Pt. 3"
          ],
          [
           "A State Of Trance (ASOT 993) - ASOT Tune Of The Year 2020 voting now open: vote.astateoftrance.com, Pt. 1"
          ],
          [
           "A State Of Trance (ASOT 993) - ASOT Tune Of The Year 2020 voting now open: vote.astateoftrance.com, Pt. 2"
          ],
          [
           "A State Of Trance (ASOT 995) - Tune Of The Year 2020 Special Episode, Pt. 2"
          ],
          [
           "A State Of Trance (ASOT 992) - ASOT Tune Of The Year 2020 voting now open: vote.astateoftrance.com, Pt. 2"
          ],
          [
           "A State Of Trance (ASOT 992) - ASOT Tune Of The Year 2020 voting now open: vote.astateoftrance.com, Pt. 1"
          ],
          [
           "A State Of Trance (ASOT 992) - ASOT Tune Of The Year 2020 voting now open: vote.astateoftrance.com, Pt. 3"
          ],
          [
           "A State Of Trance (ASOT 991) - ASOT Tune Of The Year 2020 voting now open: vote.astateoftrance.com, Pt. 2"
          ],
          [
           "A State Of Trance (ASOT 991) - ASOT Tune Of The Year 2020 voting now open: vote.astateoftrance.com, Pt. 1"
          ],
          [
           "A State Of Trance (ASOT 991) - ASOT Tune Of The Year 2020 voting now open: vote.astateoftrance.com, Pt. 3"
          ],
          [
           "Happy New Year 2012"
          ],
          [
           "Happy New Year 2012 - Instrumental Mix"
          ],
          [
           "The Epoch of Trance"
          ],
          [
           "Enigma - Extended Mix"
          ],
          [
           "Clock, Time of Live!"
          ],
          [
           "Void"
          ],
          [
           "Capacitor"
          ],
          [
           "On The Board"
          ],
          [
           "The First Step"
          ],
          [
           "Fight For Your Dreams - Extended Mix"
          ],
          [
           "Cult"
          ],
          [
           "Listen"
          ],
          [
           "Menjemput Impian - Live at Jakarta Convention Center, Plenary Hall, Senayan, 2013"
          ],
          [
           "Raindrops - Misha Sinal Remix"
          ],
          [
           "Spring Breathing"
          ],
          [
           "2014: Year of Lady Gorilla"
          ],
          [
           "12 Years a Slave (Jfl 2014)"
          ],
          [
           "Year,2015"
          ],
          [
           "Year,2015"
          ],
          [
           "A State Of Trance (ASOT 996) - Tune Of The Year 2019 Top 3, Pt. 2"
          ],
          [
           "A State Of Trance (ASOT 996) - Tune Of The Year 2019 Top 3, Pt. 1"
          ],
          [
           "Last Drop"
          ],
          [
           "Alright Alright"
          ],
          [
           "Hook Me Up"
          ],
          [
           "Get Home"
          ],
          [
           "Personal Space"
          ],
          [
           "Surely That's Enough"
          ],
          [
           "Dribble Down"
          ],
          [
           "Toy Boxing"
          ],
          [
           "Walkingly"
          ],
          [
           "Glassy"
          ],
          [
           "Shared Darkness"
          ],
          [
           "Gloom Unit - Demo"
          ],
          [
           "If You Say So"
          ],
          [
           "One Night In Bangkok - From “Chess” / Remastered 2016"
          ],
          [
           "New Year 2016"
          ],
          [
           "Year 2008 - MSZ Remix"
          ],
          [
           "Year,2015"
          ],
          [
           "A State Of Trance (ASOT 996) - Tune Of The Year 2019 Top 3, Pt. 2"
          ],
          [
           "A State Of Trance (ASOT 996) - Tune Of The Year 2019 Top 3, Pt. 1"
          ],
          [
           "Ten Thousand Years"
          ],
          [
           "Last Drop"
          ],
          [
           "Alright Alright"
          ],
          [
           "Hook Me Up"
          ],
          [
           "Get Home"
          ],
          [
           "Personal Space"
          ],
          [
           "Surely That's Enough"
          ],
          [
           "Dribble Down"
          ],
          [
           "Toy Boxing"
          ],
          [
           "Walkingly"
          ],
          [
           "Shared Darkness"
          ],
          [
           "If You Say So"
          ],
          [
           "Glassy"
          ],
          [
           "Gloom Unit - Demo"
          ],
          [
           "A State Of Trance (ASOT 996) - Tune Of The Year 2019 Top 3, Pt. 2"
          ],
          [
           "A State Of Trance (ASOT 996) - Tune Of The Year 2019 Top 3, Pt. 1"
          ],
          [
           "The Music Played - 2019 Stereo Remix"
          ],
          [
           "It's the Most Wonderful Time of the Year (Trap Remix)"
          ],
          [
           "Ten Thousand Years"
          ],
          [
           "Leap Year 9/14: Red Rocks - Live"
          ],
          [
           "#tb 과거의 오늘 - Remastered"
          ],
          [
           "New Years Countdown - Live at Chase Center, San Francisco, CA, 12/31/2019"
          ],
          [
           "Everybody's Talkin' - 2019 Stereo Remix"
          ],
          [
           "In Between the Years - 2019 remaster"
          ],
          [
           "Santa Maria - Live 2019"
          ],
          [
           "Star Of The County Down - Live 2019"
          ],
          [
           "Acid for Breakfast - Winter 2019 Demo"
          ],
          [
           "Ten Years - 2019 Version"
          ],
          [
           "Mood (feat. iann dior)"
          ],
          [
           "Year 2020"
          ],
          [
           "Good Days"
          ],
          [
           "Dark Beyond the Blue - 2020"
          ],
          [
           "positions"
          ],
          [
           "Longest Year - 2020"
          ],
          [
           "34+35"
          ],
          [
           "A State Of Trance (ASOT 996) - A State Of Trance Tune Of The Year 2020"
          ],
          [
           "Whoopty"
          ],
          [
           "WITHOUT YOU"
          ],
          [
           "A State Of Trance (ASOT 995) - ASOT Tune Of The Year 2020 voting now open: vote.astateoftrance.com, Pt. 1"
          ],
          [
           "For The Night (feat. Lil Baby & DaBaby)"
          ],
          [
           "Therefore I Am"
          ],
          [
           "A State Of Trance (ASOT 995) - ASOT Tune Of The Year 2020 voting now open: vote.astateoftrance.com, Pt. 2"
          ],
          [
           "What You Know Bout Love"
          ],
          [
           "WAP (feat. Megan Thee Stallion)"
          ],
          [
           "A State Of Trance (ASOT 995) - ASOT Tune Of The Year 2020 voting now open: vote.astateoftrance.com, Pt. 3"
          ],
          [
           "Laugh Now Cry Later (feat. Lil Durk)"
          ],
          [
           "HOLIDAY"
          ],
          [
           "A State Of Trance (ASOT 995) - Tune Of The Year 2020 Special Episode, Pt. 1"
          ],
          [
           "DÁKITI"
          ],
          [
           "Body"
          ],
          [
           "A State Of Trance (ASOT 994) - ASOT Tune Of The Year 2020 voting now open: vote.astateoftrance.com, Pt. 1"
          ],
          [
           "Wishing Well"
          ],
          [
           "ROCKSTAR (feat. Roddy Ricch)"
          ],
          [
           "A State Of Trance (ASOT 994) - ASOT Tune Of The Year 2020 voting now open: vote.astateoftrance.com, Pt. 2"
          ],
          [
           "Levitating (feat. DaBaby)"
          ],
          [
           "Heather"
          ],
          [
           "A State Of Trance (ASOT 994) - ASOT Tune Of The Year 2020 voting now open: vote.astateoftrance.com, Pt. 3"
          ],
          [
           "willow"
          ],
          [
           "you broke me first"
          ],
          [
           "A State Of Trance (ASOT 993) - ASOT Tune Of The Year 2020 voting now open: vote.astateoftrance.com, Pt. 1"
          ],
          [
           "Lemonade"
          ],
          [
           "Reminds Me Of You"
          ],
          [
           "A State Of Trance (ASOT 993) - ASOT Tune Of The Year 2020 voting now open: vote.astateoftrance.com, Pt. 2"
          ],
          [
           "Hello (feat. A Boogie Wit da Hoodie)"
          ],
          [
           "Lonely (with benny blanco)"
          ],
          [
           "A State Of Trance (ASOT 995) - Tune Of The Year 2020 Special Episode, Pt. 2"
          ],
          [
           "Come & Go (with Marshmello)"
          ],
          [
           "Put Your Records On"
          ],
          [
           "A State Of Trance (ASOT 992) - ASOT Tune Of The Year 2020 voting now open: vote.astateoftrance.com, Pt. 2"
          ],
          [
           "my ex's best friend (with blackbear)"
          ],
          [
           "Tyler Herro"
          ],
          [
           "A State Of Trance (ASOT 992) - ASOT Tune Of The Year 2020 voting now open: vote.astateoftrance.com, Pt. 1"
          ],
          [
           "Runnin"
          ],
          [
           "WHATS POPPIN (feat. DaBaby, Tory Lanez & Lil Wayne) - Remix"
          ],
          [
           "A State Of Trance (ASOT 992) - ASOT Tune Of The Year 2020 voting now open: vote.astateoftrance.com, Pt. 3"
          ],
          [
           "champagne problems"
          ],
          [
           "Monster (Shawn Mendes & Justin Bieber)"
          ],
          [
           "A State Of Trance (ASOT 991) - ASOT Tune Of The Year 2020 voting now open: vote.astateoftrance.com, Pt. 2"
          ],
          [
           "Martin & Gina"
          ],
          [
           "LA NOCHE DE ANOCHE"
          ],
          [
           "A State Of Trance (ASOT 991) - ASOT Tune Of The Year 2020 voting now open: vote.astateoftrance.com, Pt. 1"
          ],
          [
           "Forever After All"
          ],
          [
           "Cry Baby (feat. DaBaby)"
          ],
          [
           "A State Of Trance (ASOT 991) - ASOT Tune Of The Year 2020 voting now open: vote.astateoftrance.com, Pt. 3"
          ],
          [
           "Holy (feat. Chance The Rapper)"
          ],
          [
           "Lemonade (feat. Gunna, Don Toliver & NAV)"
          ],
          [
           "A State Of Trance (ASOT 990) - ASOT Tune Of The Year 2020 voting now open: vote.astateoftrance.com, Pt. 2"
          ],
          [
           "Bang!"
          ],
          [
           "PRACTICE"
          ],
          [
           "A State Of Trance (ASOT 990) - ASOT Tune Of The Year 2020 voting now open: vote.astateoftrance.com, Pt. 1"
          ],
          [
           "On Me"
          ],
          [
           "pov"
          ],
          [
           "A State Of Trance (ASOT 990) - ASOT Tune Of The Year 2020 voting now open: vote.astateoftrance.com, Pt. 3"
          ],
          [
           "Tequila Shots"
          ],
          [
           "Mr. Right Now (feat. Drake)"
          ],
          [
           "Smile Year 2020 Pick up Line"
          ],
          [
           "Somebody’s Problem"
          ],
          [
           "E-GIRLS ARE RUINING MY LIFE!"
          ],
          [
           "A State Of Trance (ASOT 989) - ASOT Tune Of The Year 2020 voting now open: vote.astateoftrance.com, Pt. 1"
          ],
          [
           "death bed (coffee for your head)"
          ],
          [
           "Daisy"
          ],
          [
           "A State Of Trance (ASOT 989) - ASOT Tune Of The Year 2020 voting now open: vote.astateoftrance.com, Pt. 2"
          ],
          [
           "Moonwalking in Calabasas (feat. Blueface) - Remix"
          ],
          [
           "POPSTAR (feat. Drake)"
          ],
          [
           "A State Of Trance (ASOT 989) - ASOT Tune Of The Year 2020 voting now open: vote.astateoftrance.com, Pt. 3"
          ],
          [
           "Mood Swings (feat. Lil Tjay)"
          ],
          [
           "Drankin N Smokin"
          ],
          [
           "A State Of Trance (ASOT 988) - ASOT Tune Of The Year 2020 voting now open: vote.astateoftrance.com, Pt. 1"
          ],
          [
           "Go Crazy"
          ],
          [
           "GO (feat. Juice WRLD)"
          ],
          [
           "A State Of Trance (ASOT 988) - ASOT Tune Of The Year 2020 voting now open: vote.astateoftrance.com, Pt. 2"
          ],
          [
           "Dead Man Walking"
          ],
          [
           "hot girl bummer"
          ],
          [
           "A State Of Trance (ASOT 988) - ASOT Tune Of The Year 2020 voting now open: vote.astateoftrance.com, Pt. 3"
          ],
          [
           "Life Goes On"
          ],
          [
           "BICHOTA"
          ],
          [
           "Righteous"
          ],
          [
           "After Party"
          ],
          [
           "Hate The Other Side (with Marshmello & The Kid Laroi)"
          ],
          [
           "Dynamite"
          ],
          [
           "21"
          ],
          [
           "Afterglow"
          ],
          [
           "Blueberry Faygo"
          ],
          [
           "gold rush"
          ],
          [
           "Be Like That - feat. Swae Lee & Khalid"
          ],
          [
           "TE MUDASTE"
          ],
          [
           "Wonder"
          ],
          [
           "Godzilla (feat. Juice WRLD)"
          ],
          [
           "Show Out (with Skepta & Pop Smoke)"
          ],
          [
           "Hit Different"
          ],
          [
           "We Paid (feat. 42 Dugg)"
          ],
          [
           "July"
          ],
          [
           "Took Her To The O"
          ],
          [
           "SO DONE"
          ],
          [
           "Errbody"
          ],
          [
           "Hawái - Remix"
          ],
          [
           "DÁKITI"
          ],
          [
           "no body, no crime (feat. HAIM)"
          ],
          [
           "7 Summers"
          ],
          [
           "Prisoner (feat. Dua Lipa)"
          ],
          [
           "Maniac"
          ],
          [
           "‘tis the damn season"
          ],
          [
           "Life Is Good (feat. Drake)"
          ],
          [
           "More Than My Hometown"
          ],
          [
           "The Woo (feat. 50 Cent & Roddy Ricch)"
          ],
          [
           "Way Out (feat. Big Sean)"
          ],
          [
           "DOLLAZ ON MY HEAD (feat. Young Thug)"
          ],
          [
           "Wolves (feat. Post Malone)"
          ],
          [
           "PTSD"
          ],
          [
           "Still Trappin' (with King Von)"
          ],
          [
           "Your New Boyfriend"
          ],
          [
           "Paradise (feat. Dermot Kennedy)"
          ],
          [
           "ALWAYS DO"
          ],
          [
           "THE SCOTTS"
          ],
          [
           "tolerate it"
          ],
          [
           "I Hope"
          ],
          [
           "Spicy (feat. Post Malone)"
          ],
          [
           "Take You Dancing"
          ],
          [
           "Year 2020"
          ],
          [
           "Longest Year - 2020"
          ],
          [
           "Year,2015"
          ],
          [
           "Poker Face"
          ],
          [
           "2021"
          ],
          [
           "New Year's With The Wife - Live On The Ed Sullivan Show, July 31, 1966"
          ],
          [
           "Day 'N' Nite (Nightmare)"
          ],
          [
           "2000000 Year Anniversary"
          ],
          [
           "2000 Years Later (This Is Work)"
          ],
          [
           "Christmas the Whole Year Round"
          ],
          [
           "Year 3000"
          ],
          [
           "2000 Years"
          ],
          [
           "All The Things She Said"
          ],
          [
           "I Gotta Feeling"
          ],
          [
           "Lonely"
          ],
          [
           "Years at My Fingertips (Coyote Hours 2015)"
          ],
          [
           "Until the Day I Die"
          ],
          [
           "Until the Day I Die"
          ],
          [
           "2000 Light Years From Home - Remastered 2017 / Stereo"
          ],
          [
           "Gotta Get Thru This - D'N'D Radio Edit"
          ],
          [
           "Mercy"
          ],
          [
           "Break Your Heart"
          ],
          [
           "A Thousand Miles"
          ],
          [
           "Stacy's Mom"
          ],
          [
           "Dilemma"
          ],
          [
           "This Love"
          ],
          [
           "All The Small Things"
          ],
          [
           "It Wasn't Me"
          ],
          [
           "AM To PM"
          ],
          [
           "Hollaback Girl"
          ],
          [
           "Intro/Promiscuous"
          ],
          [
           "Bulletproof"
          ],
          [
           "Happy New Year"
          ],
          [
           "Blinding Lights (Cardio + Running Workout Mix)"
          ],
          [
           "Kings & Queens (Cardio + Running Workout Mix)"
          ],
          [
           "Celebration - Single Version"
          ],
          [
           "Bang! (Cardio + Running Workout Mix)"
          ],
          [
           "Relax, Take It Easy"
          ],
          [
           "Blurred Lines"
          ],
          [
           "Breaking Me"
          ],
          [
           "Holy (Cardio + Running Workout Mix)"
          ],
          [
           "Holy (Cardio + Running Workout Mix)"
          ],
          [
           "New Year's Swing Fling Jazz"
          ],
          [
           "Happier"
          ],
          [
           "It's Christmas, You Are 13 Years Old and Happy"
          ],
          [
           "Wonder (Cardio + Running Workout Mix)"
          ],
          [
           "Midnight Sky (Cardio + Running Workout Mix)"
          ],
          [
           "Positions (Cardio + Running Workout Mix)"
          ],
          [
           "Savage Love (Cardio + Running Workout Mix)"
          ],
          [
           "Wake Me Up - Radio Edit"
          ],
          [
           "2003"
          ],
          [
           "Liquid Frequency 2003"
          ],
          [
           "Radiant Vision 2003"
          ],
          [
           "Last Year In Hawaii"
          ],
          [
           "Sunny - Live at Buxton Opera House, 2004"
          ],
          [
           "Another Cup of Coffee - Live at Buxton Opera House, 2004"
          ],
          [
           "Don't Dream It's Over - Live at Liverpool Philharmonic Hall, 2004"
          ],
          [
           "Dance to the Music - Live at Buxton Opera House, 2004"
          ],
          [
           "Happy to See You Again - Live at Buxton Opera House, 2004"
          ],
          [
           "Beggar on a Beach of Gold - Live at Liverpool Philharmonic Hall, 2004"
          ],
          [
           "Simple Company"
          ],
          [
           "The Distant Year 2005"
          ],
          [
           "2005"
          ],
          [
           "Earth Child (2005)"
          ],
          [
           "Anthem 2005"
          ],
          [
           "Telepathic Alienation 2005"
          ],
          [
           "Neural Vertex 2005"
          ],
          [
           "Niney Nine Years"
          ],
          [
           "Hanging With Kevin in 2007 (Years Go On)"
          ],
          [
           "2007"
          ],
          [
           "It's The Most Wonderful Time Of The Year - Remastered 2007"
          ],
          [
           "2007"
          ],
          [
           "2008"
          ],
          [
           "2008"
          ],
          [
           "2009"
          ],
          [
           "In a Year of Years"
          ],
          [
           "Another Dream (2009)"
          ],
          [
           "Born Free - From \"Born Free\" Soundtrack / Remastered 2010"
          ],
          [
           "On Days Like These - Remastered 2010 / From \"The Italian Job\" Soundtrack"
          ],
          [
           "Good Time"
          ],
          [
           "Moves Like Jagger - Studio Recording From The Voice Performance"
          ],
          [
           "Stay High - Habits Remix"
          ],
          [
           "Counting Stars"
          ],
          [
           "Dynamite"
          ],
          [
           "Spectrum (Say My Name) - Calvin Harris Remix"
          ],
          [
           "We Own The Night"
          ],
          [
           "Burn"
          ],
          [
           "a fiscal year 201011"
          ],
          [
           "2010"
          ],
          [
           "Simple Company"
          ],
          [
           "2011"
          ],
          [
           "Sunburn (2011)"
          ],
          [
           "Winter II (2011)"
          ],
          [
           "Starcrossed - 2011 - Remaster"
          ],
          [
           "Hit the Dancefloor 2011"
          ],
          [
           "What's Going On - Live in Holland, 2012"
          ],
          [
           "Seduction 2012"
          ],
          [
           "Symbols (Q-Base 2012 O.S.T.)"
          ],
          [
           "Samsara"
          ],
          [
           "Hold On To Me - Extended Mix"
          ],
          [
           "All The Senses"
          ],
          [
           "Myth & Legend - Rave Channel Remix"
          ],
          [
           "Favorite Day of the Year"
          ],
          [
           "Wake Me Up"
          ],
          [
           "Mindreader"
          ],
          [
           "Years at My Fingertips (Coyote Hours 2015)"
          ],
          [
           "Dido Song on the Radio"
          ],
          [
           "BEASTAR"
          ],
          [
           "Cold As Christmas (In The Middle Of The Year) - Remastered 2016"
          ],
          [
           "Copykat"
          ],
          [
           "Diddy Kong + The Red Army"
          ],
          [
           "Funniest Moments"
          ],
          [
           "Vore"
          ],
          [
           "IDWK"
          ],
          [
           "Return 2 Dust"
          ],
          [
           "I Wish"
          ],
          [
           "Maybe Next Year - Live 2018"
          ],
          [
           "Happy New Year Piano Instrumental"
          ],
          [
           "Happy New Year & Christmas Celebration"
          ],
          [
           "Drum Solo - Live 2019"
          ],
          [
           "L - Remastered"
          ],
          [
           "Sonorama 소노라마"
          ],
          [
           "Flex (feat. Juice WRLD)"
          ],
          [
           "Chicago Freestyle (feat. Giveon)"
          ],
          [
           "Goosebumps"
          ],
          [
           "Adderall (Corvette Corvette) - Remix"
          ],
          [
           "Still Goin Down"
          ],
          [
           "Head & Heart (feat. MNEK)"
          ],
          [
           "I Should Probably Go To Bed"
          ],
          [
           "ivy"
          ],
          [
           "100 Years Ago - 2020"
          ],
          [
           "Roses - Imanbek Remix"
          ],
          [
           "F*CK YOU, GOODBYE (feat. Machine Gun Kelly)"
          ],
          [
           "The Voice (Mixed)"
          ],
          [
           "happiness"
          ],
          [
           "Beyond The Comfort Zone (Mixed)"
          ],
          [
           "Stuck with U (with Justin Bieber)"
          ],
          [
           "Illusion (Mixed)"
          ],
          [
           "Real Shit (with benny blanco)"
          ],
          [
           "One Love (Mixed)"
          ],
          [
           "The Business"
          ],
          [
           "Indian Summer - 2020 Encore Mix"
          ],
          [
           "Conversations"
          ],
          [
           "Everywhere I Go (Mixed)"
          ],
          [
           "Savage Love (Laxed - Siren Beat)"
          ],
          [
           "Welcome To Your Life (Mixed) - Jeremy Vancaulart Remix"
          ],
          [
           "Livin’ The Dream"
          ],
          [
           "Jupiter Boulevard (Mixed) - Taylor Torrence Remix"
          ],
          [
           "cardigan"
          ],
          [
           "Live For Tonight (Mixed)"
          ],
          [
           "Got It On Me"
          ],
          [
           "Yesterday (Mixed)"
          ],
          [
           "Heartless (feat. Morgan Wallen)"
          ],
          [
           "In My Head (Part II) [Mixed]"
          ],
          [
           "UN DIA (ONE DAY) (Feat. Tainy)"
          ],
          [
           "Seven Cities (Mixed) - Tom Staar Remix"
          ],
          [
           "TRAGIC (feat. Youngboy Never Broke Again & Internet Money)"
          ],
          [
           "Lost At Sea (Mixed)"
          ],
          [
           "Remember That Night?"
          ],
          [
           "One Another - 2020"
          ],
          [
           "Suicidal (Remix) [feat. Juice WRLD]"
          ],
          [
           "Blue Monday (Mixed)"
          ],
          [
           "GREECE (feat. Drake)"
          ],
          [
           "All On Me (Mixed)"
          ],
          [
           "Dancing in My Room"
          ],
          [
           "Punisher (Mixed)"
          ],
          [
           "Be Kind (with Halsey)"
          ],
          [
           "Water (Mixed)"
          ],
          [
           "Deep End"
          ],
          [
           "Dawn (Mixed)"
          ],
          [
           "Myron"
          ],
          [
           "Zuul (Mixed)"
          ],
          [
           "Blueberry Faygo"
          ],
          [
           "Tokyo (Mixed) - Fatum Remix"
          ],
          [
           "Plastic Hearts"
          ],
          [
           "Tarzan (Mixed)"
          ],
          [
           "Smile (with The Weeknd)"
          ],
          [
           "Walk Away (Mixed)"
          ],
          [
           "...And To Those I Love, Thanks For Sticking Around"
          ],
          [
           "Awakening (Mixed)"
          ],
          [
           "long story short"
          ],
          [
           "Come To Life (Mixed)"
          ],
          [
           "Face Of My City (feat. Lil Baby)"
          ],
          [
           "Lost Souls (Mixed) - AVIRA Remix"
          ],
          [
           "exile (feat. Bon Iver)"
          ],
          [
           "Cruel Sparks - 2020"
          ],
          [
           "She Knows This"
          ],
          [
           "Generation (Mixed)"
          ],
          [
           "Way Out (feat. Big Sean)"
          ],
          [
           "Animus Vox - 2020 Remaster"
          ],
          [
           "Tap In"
          ],
          [
           "Lonely, Some Quietly Wander in the Hall of Stars - 2020"
          ],
          [
           "No Idea"
          ],
          [
           "Reverie (Mixed) - Above & Beyond Club Mix"
          ],
          [
           "coney island (feat. The National)"
          ],
          [
           "In And Out Of Love (Mixed) - ilan Bluestone & Maor Levi Remix"
          ],
          [
           "Party Girl"
          ],
          [
           "What About Us (Mixed)"
          ],
          [
           "GIRL LIKE ME"
          ],
          [
           "No Warning Lights (Mixed) - ALPHA 9 Remix"
          ],
          [
           "SO DONE"
          ],
          [
           "Diving Out Of Love (Mixed)"
          ],
          [
           "One Of Them Girls"
          ],
          [
           "Everything Everything (Mixed)"
          ],
          [
           "Element"
          ],
          [
           "Mask (Mixed)"
          ],
          [
           "forget me too (feat. Halsey)"
          ],
          [
           "A State Of Trance Year Mix 2020 (Mixed) - Intro: What Is Out There?"
          ],
          [
           "Heat Waves"
          ],
          [
           "Say Hello (Mixed)"
          ],
          [
           "You Got It"
          ],
          [
           "Sankthansaften (Mixed)"
          ],
          [
           "Rags2Riches 2 (feat. Lil Baby)"
          ],
          [
           "It's the Most Wonderful Time of the Year (Trap Remix)"
          ],
          [
           "Life's A Mess (feat. Halsey)"
          ],
          [
           "Need You Now (Mixed)"
          ],
          [
           "evermore (feat. Bon Iver)"
          ],
          [
           "Between Two Points (feat. Swan) - 2020 Remaster"
          ],
          [
           "dorothea"
          ],
          [
           "Hollow (Mixed)"
          ],
          [
           "Stay High"
          ],
          [
           "After Tomorrow (Mixed)"
          ],
          [
           "Blood On My Jeans"
          ],
          [
           "Crossroads (Mixed)"
          ],
          [
           "motive (with Doja Cat)"
          ],
          [
           "If We Say Goodbye (Mixed)"
          ],
          [
           "IDK You Yet"
          ],
          [
           "Never Forgotten (Mixed)"
          ],
          [
           "cowboy like me"
          ],
          [
           "Heart Eyes (Mixed)"
          ],
          [
           "Dynamite"
          ],
          [
           "Sail (Mixed)"
          ],
          [
           "Go Stupid"
          ],
          [
           "Who Am I (Mixed)"
          ],
          [
           "bloody valentine"
          ],
          [
           "I Need You To Know (Mixed)"
          ],
          [
           "the 1"
          ],
          [
           "Punk (Mixed) - Tom Staar Remix"
          ],
          [
           "HACIENDO QUE ME AMAS"
          ],
          [
           "Bad Wings - 2020 Remaster"
          ],
          [
           "Slay3r"
          ],
          [
           "An der schönen blauen Donau, Walzer, Op. 314"
          ],
          [
           "Back In Blood (feat. Lil Durk)"
          ],
          [
           "Let The Music Guide You (ASOT 950 Anthem) [Mixed] - Beatsole Remix"
          ],
          [
           "Starting Over"
          ],
          [
           "The Launch (Mixed)"
          ],
          [
           "Savage Remix (feat. Beyoncé)"
          ],
          [
           "Could This Be (Mixed)"
          ],
          [
           "Don't Need Friends (feat. Lil Baby)"
          ],
          [
           "Go (Mixed)"
          ],
          [
           "FRANCHISE (feat. Young Thug & M.I.A.)"
          ],
          [
           "Sunrise Over The Bay (Mixed)"
          ],
          [
           "Rät"
          ],
          [
           "Your Mind (Mixed)"
          ],
          [
           "Love You Like I Used To"
          ],
          [
           "Alive (Mixed)"
          ],
          [
           "Relación - Remix"
          ],
          [
           "You'll Be OK (Mixed)"
          ],
          [
           "Dicked Down in Dallas"
          ],
          [
           "Discopolis 2.0 (Mixed) - MEDUZA Remix"
          ],
          [
           "Back to the Streets (feat. Jhené Aiko)"
          ],
          [
           "Fortune Days - 2020 Remaster"
          ],
          [
           "Girls in the Hood"
          ],
          [
           "Covered In Gold (Mixed) - PvD Extended Club Mix"
          ],
          [
           "Angels Like You"
          ],
          [
           "Our Moon (Mixed)"
          ],
          [
           "Sky"
          ],
          [
           "This I Vow (Mixed)"
          ],
          [
           "BOOKER T"
          ],
          [
           "Hypnotized (Mixed)"
          ],
          [
           "Opp Stoppa"
          ],
          [
           "Take Me Back (Mixed)"
          ],
          [
           "marjorie"
          ],
          [
           "Rooftops (Mixed) - Maarten de Jong Remix"
          ],
          [
           "my future"
          ],
          [
           "Mo Chara (Mixed)"
          ],
          [
           "Safaera"
          ],
          [
           "Drowning (Mixed)"
          ],
          [
           "oops!"
          ],
          [
           "Awakening (Mixed)"
          ],
          [
           "3 Headed Goat (feat. Lil Baby & Polo G)"
          ],
          [
           "Nothing Is Over (Mixed) - Roman Messer Remix"
          ],
          [
           "Man Of The Year"
          ],
          [
           "What Have I Got To Lose (Mixed)"
          ],
          [
           "Heat Waves"
          ],
          [
           "Our Journey (TFSFX Anthem) [Mixed]"
          ],
          [
           "You’re Mines Still (feat. Drake)"
          ],
          [
           "I Need Your Lovin' (Like The Sunshine) [Mixed]"
          ],
          [
           "The Code (feat. Polo G)"
          ],
          [
           "Dancing In The Dark (Mixed) - Alex M.O.R.P.H. Remix"
          ],
          [
           "just like magic"
          ],
          [
           "We Are The World (Mixed)"
          ],
          [
           "Gnat"
          ],
          [
           "Never Going Down (Mixed) - Richard Durand Remix"
          ],
          [
           "Lose You To Love Me"
          ],
          [
           "Oblivion (Mixed)"
          ],
          [
           "That’s It"
          ],
          [
           "Leonie (Mixed) - Beatsole Remix"
          ],
          [
           "LIKE I WANT YOU"
          ],
          [
           "This Year's Love - 2020 Remaster"
          ],
          [
           "Adderall (Corvette Corvette)"
          ],
          [
           "A Dream Within A Dream - 2020 Remaster"
          ],
          [
           "Rain On Me (with Ariana Grande)"
          ],
          [
           "How To Be Eaten By A Woman - 2020 Remaster"
          ],
          [
           "At My Worst"
          ],
          [
           "Drive It Like You Stole It - 2020 Remaster"
          ],
          [
           "B.S. (feat. H.E.R.)"
          ],
          [
           "A State Of Trance (ASOT 997) - ASOT Year Mix 2020 Intro"
          ],
          [
           "Vamp Anthem"
          ],
          [
           "My Remedy (Mixed)"
          ],
          [
           "Throat Baby (Go Baby)"
          ],
          [
           "All For Love (Mixed) - Giuseppe Ottaviani Remix"
          ],
          [
           "La Nota"
          ],
          [
           "A State Of Trance (ASOT 997) - Armin van Buuren Introducing ASOT Year Mix 2020"
          ],
          [
           "Happy New Year"
          ],
          [
           "Blinding Lights (Cardio + Running Workout Mix)"
          ],
          [
           "Kings & Queens (Cardio + Running Workout Mix)"
          ],
          [
           "Celebration - Single Version"
          ],
          [
           "Bang! (Cardio + Running Workout Mix)"
          ],
          [
           "Relax, Take It Easy"
          ],
          [
           "Blurred Lines"
          ],
          [
           "Breaking Me"
          ],
          [
           "Holy (Cardio + Running Workout Mix)"
          ],
          [
           "Holy (Cardio + Running Workout Mix)"
          ],
          [
           "New Year's Swing Fling Jazz"
          ],
          [
           "Happier"
          ],
          [
           "It's Christmas, You Are 13 Years Old and Happy"
          ],
          [
           "Wonder (Cardio + Running Workout Mix)"
          ],
          [
           "Midnight Sky (Cardio + Running Workout Mix)"
          ],
          [
           "Positions (Cardio + Running Workout Mix)"
          ],
          [
           "Savage Love (Cardio + Running Workout Mix)"
          ],
          [
           "Wake Me Up - Radio Edit"
          ],
          [
           "Year 3000"
          ],
          [
           "Year 3000"
          ],
          [
           "What's Going On - Live in Holland, 2012"
          ],
          [
           "Groovin' - Live at Cornbury Festival, 2019"
          ],
          [
           "Half New Year"
          ],
          [
           "Into the Mystic - Live at Royal Albert Hall, London, 2001"
          ],
          [
           "Silent Running - Live at Shepherd's Bush Empire, London, 2000"
          ],
          [
           "Eyes of Blue - Live at Shepherd's Bush Empire, London, 2000"
          ],
          [
           "Love Will Keep Us Alive - Live at Shepherd's Bush Empire, London, 2000"
          ],
          [
           "The Way I'm Feeling Tonight - Live at Shepherd's Bush Empire, London, 2000"
          ],
          [
           "The Living Years - Live at Symphony Hall, Birmingham, 2017"
          ],
          [
           "Mr. Brightside"
          ],
          [
           "Grace Kelly"
          ],
          [
           "The Tide Is High - Radio Mix"
          ],
          [
           "Put Your Records On"
          ],
          [
           "Smooth Criminal"
          ],
          [
           "Swing, Swing"
          ],
          [
           "Everybody's Changing"
          ],
          [
           "Jai Ho! (You Are My Destiny)"
          ],
          [
           "I Like The Way - Radio Edit"
          ],
          [
           "Apologize"
          ],
          [
           "Fergalicious"
          ],
          [
           "Don't Cha"
          ],
          [
           "I Don't Feel Like Dancin' - Radio Edit"
          ],
          [
           "The Reason"
          ],
          [
           "Push The Button"
          ],
          [
           "Heading For - Radio Edit"
          ],
          [
           "Flames Get Higher - Radio Edit"
          ],
          [
           "What You Do - Single Version"
          ],
          [
           "A New Cage - Radio Edit"
          ],
          [
           "Love"
          ],
          [
           "All Those City Lights - Radio Edit"
          ],
          [
           "Since You're Gone - Edit"
          ],
          [
           "Sunny - Live at Buxton Opera House, 2004"
          ],
          [
           "Happy to See You Again - Live at Buxton Opera House, 2004"
          ],
          [
           "Over My Shoulder - Live at Symphony Hall, Birmingham, 2017"
          ],
          [
           "Don't Shed a Tear - Live at Bonn, Germany, 2005"
          ],
          [
           "Beggar on a Beach of Gold - Live at Liverpool Philharmonic Hall, 2004"
          ],
          [
           "Don't Dream It's Over - Live at Liverpool Philharmonic Hall, 2004"
          ],
          [
           "How Long - Live at Symphony Hall, Birmingham, 2017"
          ],
          [
           "Dance to the Music - Live at Buxton Opera House, 2004"
          ],
          [
           "Too Good to Be True - Live at Symphony Hall, Birmingham, 2017"
          ],
          [
           "When You Walk in the Room - Live at Bonn, Germany, 2005"
          ],
          [
           "Another Cup of Coffee - Live at Buxton Opera House, 2004"
          ],
          [
           "Let Me Love Again - Live at Preston Guild Hall, 2016"
          ],
          [
           "If I Should Fall Behind - Live Acoustic Trio, 2018"
          ],
          [
           "Tempted - Live at Symphony Hall, Birmingham, 2017"
          ],
          [
           "Theme from the Immortal"
          ],
          [
           "Life Would Be Different"
          ],
          [
           "Lose Somebody (Cardio + Running Workout Mix)"
          ],
          [
           "ily (i love you baby) Cardio + Running Workout Mix]"
          ],
          [
           "Full Shuffle"
          ],
          [
           "Fine Selection"
          ],
          [
           "Midnight Performance"
          ],
          [
           "Blue Steps"
          ],
          [
           "Mellow Celebration"
          ],
          [
           "Cool Night"
          ],
          [
           "Star Melody"
          ],
          [
           "Chicago Lounge"
          ],
          [
           "Swing Lounge"
          ],
          [
           "Positive Steppers"
          ],
          [
           "Sneaky Moves"
          ],
          [
           "Enjoy Dancing"
          ],
          [
           "Swinging Wine Glass"
          ],
          [
           "Don't Start Now (Cardio + Running Workout Mix)"
          ],
          [
           "Breaking Me (Cardio + Running Workout Mix)"
          ],
          [
           "Levitating (Cardio + Running Workout Mix)"
          ],
          [
           "Watermelon Sugar (Cardio + Running Workout Mix)"
          ],
          [
           "Dance Monkey (Cardio + Running Workout Mix)"
          ],
          [
           "Come & Go (Cardio + Running Workout Mix)"
          ],
          [
           "Stupid Love (Cardio + Running Workout Mix)"
          ],
          [
           "Be Like That (Cardio + Running Workout Mix)"
          ],
          [
           "Happy New Year 2021 Dj Song"
          ],
          [
           "2021 Might Have to Be My Year"
          ],
          [
           "Heather"
          ],
          [
           "Wake Me Up - Radio Edit"
          ],
          [
           "All Swinging Vibes"
          ],
          [
           "君の知らない世界へ"
          ],
          [
           "7 Years"
          ],
          [
           "Sunflower (Cardio + Running Workout Mix)"
          ],
          [
           "7 Years"
          ],
          [
           "Only Human (Cardio + Running Workout Mix)"
          ],
          [
           "Dancing with a Stranger (Cardio + Running Workout Mix)"
          ],
          [
           "Bad Guy (Cardio + Running Workout Mix)"
          ],
          [
           "I Love Me (Cardio + Running Workout Mix)"
          ],
          [
           "Beautiful People (Cardio + Running Workout Mix)"
          ],
          [
           "Never Really Over (Cardio + Running Workout Mix)"
          ],
          [
           "Take What You Want (Cardio + Running Workout Mix)"
          ],
          [
           "One Thing Right (Cardio + Running Workout Mix)"
          ],
          [
           "Lighter (Cardio + Running Workout Mix)"
          ],
          [
           "Shallow (Cardio + Running Workout Mix)"
          ],
          [
           "Circles (Cardio + Running Workout Mix)"
          ],
          [
           "Here With Me (Cardio + Running Workout Mix)"
          ],
          [
           "Say So (Cardio + Running Workout Mix)"
          ],
          [
           "RITMO (Bad Boys For Life) [Cardio + Running Workout Mix]"
          ],
          [
           "Tusa (Cardio + Running Workout Mix)"
          ],
          [
           "Hope For The New Year"
          ],
          [
           "Sugar"
          ],
          [
           "Pursuit Of Happiness - Extended Steve Aoki Remix (Explicit)"
          ],
          [
           "I Took A Pill In Ibiza - Seeb Remix"
          ],
          [
           "Come On Eileen"
          ],
          [
           "Let Me Go"
          ],
          [
           "I Gotta Feeling"
          ],
          [
           "Safe And Sound"
          ],
          [
           "Bad Romance"
          ],
          [
           "My People"
          ],
          [
           "Dynamite"
          ],
          [
           "Dance (A$$)"
          ],
          [
           "Kali Katha Sabu Jaa Re Bhuli"
          ],
          [
           "Move"
          ],
          [
           "Dog Days Are Over"
          ],
          [
           "On Top Of The World"
          ],
          [
           "We Run The Night"
          ],
          [
           "2020年バーチャル年越しASMR RADIO[時間合わせ12月31日23時29分43秒から]"
          ],
          [
           "Kachcha Papad Pakka Papad"
          ],
          [
           "Old Town Road (Cardio + Running Workout Mix)"
          ],
          [
           "10,000 Hours (Cardio + Running Workout Mix)"
          ],
          [
           "Rescue (Cardio + Running Workout Mix)"
          ],
          [
           "Sucker (Cardio + Running Workout Mix)"
          ],
          [
           "Teeth (Cardio + Running Workout Mix)"
          ],
          [
           "2004"
          ],
          [
           "The Trial (2004)"
          ],
          [
           "Part 5 (1989 - 2004)"
          ],
          [
           "Part 6 (2004 - 2018)"
          ],
          [
           "Dead and Buried [Demo 2004]"
          ],
          [
           "Empty Years"
          ],
          [
           "This Year"
          ],
          [
           "It's 2014, the Past Six Years of Your Life Were a Dream (2005 Remix)"
          ],
          [
           "Anthem 2005 - Radio Edit"
          ],
          [
           "Year of the Bat"
          ],
          [
           "New Year"
          ],
          [
           "12 Years Down the Drain"
          ],
          [
           "Ten Years in the Arctic"
          ],
          [
           "first dream of New Year"
          ],
          [
           "Inspire Me - Live at Bonn, Germany, 2005"
          ],
          [
           "Sniffing About - Live at Bonn, Germany, 2005"
          ],
          [
           "2006"
          ],
          [
           "Serious - 2006"
          ],
          [
           "Glam Circüs - 2006"
          ],
          [
           "A Reckoning (2006)"
          ],
          [
           "Pepperoni Live 2006"
          ],
          [
           "Waves of Oblivion (2006)"
          ],
          [
           "Loco Live 2006 Milwookis Fest"
          ],
          [
           "Coming Back to Haunt You [Demo 2006]"
          ],
          [
           "The Lone Soldier (2007)"
          ],
          [
           "Gallowhill - Live at The Bongo Club, Edinburgh, 2007"
          ],
          [
           "Four Years to Be an Artist - Live"
          ],
          [
           "The Power of the Mind (Qlimax Anthem 2007) - Modern Science Mix"
          ],
          [
           "Infinity 2008"
          ],
          [
           "Back to 2008"
          ],
          [
           "Back to 2008"
          ],
          [
           "T Rex - 2008 - Remaster"
          ],
          [
           "A Rose in Time (2008)"
          ],
          [
           "Last Four Years"
          ],
          [
           "Once a Year"
          ],
          [
           "Nano Water 2009 - Nano Age Version"
          ],
          [
           "Esclave En 2010"
          ],
          [
           "Kiss That Kills (2010)"
          ],
          [
           "Surrender To Love (2010)"
          ],
          [
           "Spanish Eyes - Remastered 2010"
          ],
          [
           "Revival (Demo EP 2010)"
          ],
          [
           "Wednesday's Child - Remastered 2010"
          ],
          [
           "5 years"
          ],
          [
           "Revolution No 2010 (refinished 2020)"
          ],
          [
           "For Years - Remastered"
          ],
          [
           "2010 Music Odyssey (refinished 2020)"
          ],
          [
           "Nano Water 2010 - Nano Life Version"
          ],
          [
           "Three Years"
          ],
          [
           "New Year"
          ],
          [
           "Wisdom Gate - Exciting Mix Reloaded 2010"
          ],
          [
           "Honey On The Vine - Remastered 2010"
          ],
          [
           "The Same Things (Demo EP 2010)"
          ],
          [
           "Into The Sunlight (2011)"
          ],
          [
           "Epic Fail (Single 2011)"
          ],
          [
           "Sun 2011 - Extended Mix"
          ],
          [
           "It Must Be Christmas - 2011"
          ],
          [
           "Return Of White Rabbit - 2011 - Remaster"
          ],
          [
           "'Til the End of the Days - 2011"
          ],
          [
           "Leith Walk - Dallonte & Tali Muss Remix"
          ],
          [
           "Vision"
          ],
          [
           "Forgive"
          ],
          [
           "Deep Power"
          ],
          [
           "Thirty Years Ago - Live 2013"
          ],
          [
           "New Years Eve 2013 - Original Mix"
          ],
          [
           "Tell Me"
          ],
          [
           "The Great Divine"
          ],
          [
           "Shame"
          ],
          [
           "Running On Empty"
          ],
          [
           "Nightmare"
          ],
          [
           "2015 Year Old Man - Digitally Remastered"
          ],
          [
           "Pain - Extended Version"
          ],
          [
           "Away"
          ],
          [
           "No Guts No Glory - Defqon.1 Anthem 2015"
          ],
          [
           "Solitary Nights"
          ],
          [
           "Wanna B"
          ],
          [
           "Let Me Love Again - Live at Preston Guild Hall, 2016"
          ],
          [
           "2000 Light Years From Home - Remastered 2017 / Stereo"
          ],
          [
           "The Living Years - Live at Symphony Hall, Birmingham, 2017"
          ],
          [
           "A State Of Trance (ASOT 987) - ASOT Tune Of The Year 2019 Top 3, Pt. 2"
          ],
          [
           "A State Of Trance (ASOT 987) - ASOT Tune Of The Year 2019 Top 3, Pt. 1"
          ],
          [
           "2019 the Year Phunk Broke"
          ],
          [
           "Camellia Flower 동백꽃 - Remastered"
          ],
          [
           "Intro (The Thousand Year Door) - Live in der Columbiahalle Berlin, 09.11.2019"
          ],
          [
           "Groovin' - Live at Cornbury Festival, 2019"
          ],
          [
           "Straight Pride"
          ],
          [
           "Kung Fu - 2019 - Remaster"
          ],
          [
           "Broke In A Minute"
          ],
          [
           "Wasteland (with James Dymond) [Mixed]"
          ],
          [
           "Good News"
          ],
          [
           "What Makes You Feel Alive (Mixed)"
          ],
          [
           "Yo Perreo Sola"
          ],
          [
           "EveryWhen - Bonus Track"
          ],
          [
           "YO VISTO ASÍ"
          ],
          [
           "2020: A Year to Remember"
          ],
          [
           "Si Veo a Tu Mamá"
          ],
          [
           "Fistful of Silence - 2020 Remaster"
          ],
          [
           "Clouded"
          ],
          [
           "The Phoenix (FSOE 650 Anthem) [Mixed]"
          ],
          [
           "Diva (feat. Lil Tecca)"
          ],
          [
           "Bravo (Mixed)"
          ],
          [
           "P2"
          ],
          [
           "We Swarm - 2020 Remaster"
          ],
          [
           "Losses"
          ],
          [
           "Daring To Love (Mixed)"
          ],
          [
           "Kings & Queens"
          ],
          [
           "I Believe (Mixed)"
          ],
          [
           "Another Day"
          ],
          [
           "A State Of Trance Year Mix 2020 (Mixed) - Road To 1000 - Outro"
          ],
          [
           "24 (feat. Lil Baby)"
          ],
          [
           "Silent Waves (Mixed) - Vinny DeGeorge Remix"
          ],
          [
           "Walk Em Down (feat. Roddy Ricch)"
          ],
          [
           "Time Machine (Mixed)"
          ],
          [
           "What A Man Gotta Do"
          ],
          [
           "Another You (Mixed)"
          ],
          [
           "Pussy Talk"
          ],
          [
           "Walk Through Walls (Mixed) - Markus Schulz Remix"
          ],
          [
           "Levitating (feat. DaBaby)"
          ],
          [
           "One Last Time (Mixed) - Roman Messer Remix"
          ],
          [
           "Midnight Sky"
          ],
          [
           "Stars Collide (Mixed)"
          ],
          [
           "Coco (feat. DaBaby)"
          ],
          [
           "A Thousand Years"
          ],
          [
           "Boss Bitch"
          ],
          [
           "Somebody Loves You (Mixed)"
          ],
          [
           "closure"
          ],
          [
           "Till We Meet Again (Mixed)"
          ],
          [
           "Bad Energy"
          ],
          [
           "The Sound Of Letting Go (Tribute To Yotam) [Mixed]"
          ],
          [
           "Toosie Slide"
          ],
          [
           "Wanderlust (Mixed) - Eugenio Tokarev Remix"
          ],
          [
           "Miss YOU!"
          ],
          [
           "Fallen (Mixed) - Richard Durand Remix"
          ],
          [
           "Rich Nigga Shit (feat. Young Thug)"
          ],
          [
           "Starve The Ego, Feed The Soul - 2020 Remaster"
          ],
          [
           "Stay Next To Me (with Chelsea Cutler)"
          ],
          [
           "Waiting On The Other Side (Mixed) - Club Mix"
          ],
          [
           "Tell Me U Luv Me (with Trippie Redd)"
          ],
          [
           "Lit This Year"
          ],
          [
           "Sensitive"
          ],
          [
           "Skyline (Mixed)"
          ],
          [
           "You should be sad"
          ],
          [
           "Close My Eyes (Mixed)"
          ],
          [
           "Epidemic"
          ],
          [
           "Splice (Mixed)"
          ],
          [
           "Monsters (feat. blackbear)"
          ],
          [
           "Telescope (Mixed)"
          ],
          [
           "Intentions (feat. Quavo)"
          ],
          [
           "Only A Heartbeat Away (Mixed)"
          ],
          [
           "GOSHA"
          ],
          [
           "Winter Night on New Years Eve"
          ],
          [
           "Mood (Remix) feat. Justin Bieber, J Balvin & iann dior"
          ],
          [
           "Downfall (Mixed)"
          ],
          [
           "CÓMO SE SIENTE - Remix"
          ],
          [
           "Still Alive (Mixed)"
          ],
          [
           "Blue & Grey"
          ],
          [
           "Don't Give Up (Mixed) - Giuseppe Ottaviani Remix"
          ],
          [
           "How You Like That"
          ],
          [
           "Morpheus (Mixed)"
          ],
          [
           "The Bigger Picture"
          ],
          [
           "The Phuture (Mixed)"
          ],
          [
           "Almost Maybes"
          ],
          [
           "2020 (Sexy Miami Tech House Party Crossfit Workout Hits DJ Club Remix)"
          ],
          [
           "Onna Come Up"
          ],
          [
           "The Legacy (Mixed) - ReOrder Remix"
          ],
          [
           "Up Up And Away"
          ],
          [
           "フラッシュバックモーニングアフター - 2020"
          ],
          [
           "Selfish"
          ],
          [
           "A State Of Trance (ASOT 995) - A State Of Trance Year Mix 2020"
          ],
          [
           "GOOD TIME"
          ],
          [
           "A State Of Trance (ASOT 996) - Previous Tunes Of The Year, Pt. 2"
          ],
          [
           "Borderline"
          ],
          [
           "A State Of Trance (ASOT 996) - Previous Tunes Of The Year, Pt. 1"
          ],
          [
           "Heartless (feat. Mustard)"
          ],
          [
           "It’s Been A Year"
          ],
          [
           "Happy Anywhere (feat. Gwen Stefani)"
          ],
          [
           "VIII. yearning"
          ],
          [
           "nasty"
          ],
          [
           "A State Of Trance (ASOT 996) - ASOT Year Mix 2020 Contest"
          ],
          [
           "Hell Of A View"
          ],
          [
           "A State Of Trance (ASOT 996) - We Wish You A Merry Christmas And A Happy New Year"
          ],
          [
           "willow"
          ],
          [
           "A State Of Trance (ASOT 997) - ASOT Year Mix 2020 Outro"
          ],
          [
           "Die Very Rough"
          ],
          [
           "CHANDELIER"
          ],
          [
           "Prisoner (feat. Dua Lipa)"
          ],
          [
           "A State Of Trance (ASOT 996) - Armin's Highlight Of The Year"
          ],
          [
           "Titanic"
          ],
          [
           "A State Of Trance (ASOT 994) - A State Of Trance Year Mix 2020 Contest"
          ],
          [
           "Costa Rica (feat. The Kid LAROI) - Remix"
          ],
          [
           "Mateluna 2020"
          ],
          [
           "Josslyn"
          ],
          [
           "400 Years"
          ],
          [
           "Paparazzi"
          ],
          [
           "The Blackest Years - 2020 Remaster"
          ],
          [
           "Potential Breakup Song"
          ],
          [
           "A State Of Trance (ASOT 996) - Last Show Of The Year"
          ],
          [
           "Me and My Guitar"
          ],
          [
           "DJ's Party on Sunset Boulevard Living the Hollywood Life (Electronic Dance Music Festival Hits Remix)"
          ],
          [
           "Take It To Trial (feat. Yak Gotti)"
          ],
          [
           "NY Lipps - Dries Van Noten 2020 Remix"
          ],
          [
           "Broken"
          ],
          [
           "More Love, Techno, & Rave DJ (Amsterdam Electronic Dance Music Festival Hits Radio Version)"
          ],
          [
           "safety net (feat. Ty Dolla $ign)"
          ],
          [
           "Feeling It Feel It DJ (Jakarta Electronic Dance Music Festival Hits Remix)"
          ],
          [
           "One Too Many"
          ],
          [
           "Reach in the Sky DJ (Favorite Progressive House EDM Crossfit Workout Hits DJ Club Remix)"
          ],
          [
           "Intentions"
          ],
          [
           "Drop the Bass DJ (Melbourne Bounce Shuffle Cutting Shapes Hits Remix)"
          ],
          [
           "Emotionally Scarred"
          ],
          [
           "The Sign (NYC Deep House Party Crossfit Workout Hits DJ Club Remix)"
          ],
          [
           "TELL ME WHY"
          ],
          [
           "Gravity Pulls Us Together Djs (Usa Deep House Party Crossfit Workout Hits DJ Club Remix)"
          ],
          [
           "Captain Hook"
          ],
          [
           "Tell Me You Want Me DJ (Ktown Electronic Dance Music Festival DJ Hits Remix)"
          ],
          [
           "white tee"
          ],
          [
           "Welcome to Los Angeles (Electronic Dance Music Festival DJ Hits Remix)"
          ],
          [
           "Savage"
          ],
          [
           "After Party DJ (UK Progressive Trance Edm Gym Workout Hits Remix)"
          ],
          [
           "Ay, DiOs Mío!"
          ],
          [
           "Rise Together DJ (Las Vegas Electronic Dance Music Festival Edm Hits Radio Version)"
          ],
          [
           "Mad at Disney"
          ],
          [
           "Take Me Higher to Tomorrowland DJ (Electronic Dance Music Festival EDM Hits Club Remix)"
          ],
          [
           "New N3on"
          ],
          [
           "Exchange of Love (Los Angeles Late Night Dance Party EDM DJ Hits Club Remix)"
          ],
          [
           "Moon & Stars (feat. Maggie Lindemann)"
          ],
          [
           "A State Of Trance (ASOT 997) - Intro"
          ],
          [
           "Glock In My Lap"
          ],
          [
           "A State Of Trance (ASOT 996) - Tune Of The Year Top 10"
          ],
          [
           "Violent"
          ],
          [
           "At That Point In Time - Mixed"
          ],
          [
           "ILoveUIHateU"
          ],
          [
           "Nothing Lasts (Mixed) - Progressive Mix"
          ],
          [
           "WRONG (feat. Lil Mosey)"
          ],
          [
           "A State Of Trance (ASOT 996) - Special Video Year Mix"
          ],
          [
           "off the table (with The Weeknd)"
          ],
          [
           "I Have a Dream (Deep House Dance Party Remix)"
          ],
          [
           "HOY COBRÉ"
          ],
          [
           "Can't Stop This Feeling (Deep House Dance Party Remix)"
          ],
          [
           "What’s Your Country Song"
          ],
          [
           "Light It Up (Chill Electronic Music Remix)"
          ],
          [
           "Break My Heart"
          ],
          [
           "Oh Baby Baby (Electronic Dance Party Remix)"
          ],
          [
           "Rags2Riches (feat. ATR Son Son)"
          ],
          [
           "Feel Love in the Music (Chill Electronic Music Remix)"
          ],
          [
           "Don't Start Now"
          ],
          [
           "A State Of Trance (ASOT 996) - Tune Of The Year 2019 Top 3, Pt. 2"
          ],
          [
           "Tommy Lee (feat. Post Malone)"
          ],
          [
           "Can We Take This to the Next Level (Fitness Workout Music Remix)"
          ],
          [
           "La Santa"
          ],
          [
           "One More Time Hands up Hollywood (Electronic Dance Party Remix)"
          ],
          [
           "Fuck The World (Summer in London)"
          ],
          [
           "Lose My Defenses (Yoga & Pilates Chill Electronic Music Remix)"
          ],
          [
           "Blastoff (feat. Juice Wrld & Trippie Redd)"
          ],
          [
           "Follow Me (Chill Electronic Music Remix)"
          ],
          [
           "pov"
          ],
          [
           "I Just Want You Baby (Chill Electronic Music Remix)"
          ],
          [
           "La Difícil"
          ],
          [
           "Thinking About You (Chill Deep House Remix)"
          ],
          [
           "august"
          ],
          [
           "All My Life (Chill Electronic Music Remix)"
          ],
          [
           "Backyard Boy"
          ],
          [
           "Baby You're One of a Kind (Chill Electronic Music Remix)"
          ],
          [
           "You Should Probably Leave"
          ],
          [
           "I Can Feel the Love from You (Deep House Dance Party Remix)"
          ],
          [
           "Dive"
          ],
          [
           "Paradise Like Islands in the Sky (Deep House Dance Party Remix)"
          ],
          [
           "Heart Of Glass (Live from the iHeart Festival)"
          ],
          [
           "Two Hearts All In (Deep House Dance Party Remix)"
          ],
          [
           "Know Your Worth"
          ],
          [
           "Let's Play (Deep House Dance Party Remix)"
          ],
          [
           "Without You"
          ],
          [
           "The DJ Played My Favorite Song (Deep House Dance Party Remix)"
          ],
          [
           "BEST INTEREST"
          ],
          [
           "My Body Is so into You (Deep House Dance Party Remix)"
          ],
          [
           "Single Saturday Night"
          ],
          [
           "A State Of Trance (ASOT 996) - Tune Of The Year 2019 Top 3, Pt. 1"
          ],
          [
           "Una Locura"
          ],
          [
           "A State Of Trance (ASOT 993) - Pre-Order: A State Of Trance Year Mix 2020"
          ],
          [
           "Space Girl"
          ],
          [
           "Worst Year of My Life (2020)"
          ],
          [
           "Con Tus Besos"
          ],
          [
           "Famous Friends"
          ],
          [
           "Holding On"
          ],
          [
           "It's the Most Wonderful Time of the Year"
          ],
          [
           "Lose Somebody (Cardio + Running Workout Mix)"
          ],
          [
           "ily (i love you baby) Cardio + Running Workout Mix]"
          ],
          [
           "Full Shuffle"
          ],
          [
           "Fine Selection"
          ],
          [
           "Midnight Performance"
          ],
          [
           "Blue Steps"
          ],
          [
           "Mellow Celebration"
          ],
          [
           "Cool Night"
          ],
          [
           "Star Melody"
          ],
          [
           "Shallow (Cardio + Running Workout Mix)"
          ],
          [
           "Circles (Cardio + Running Workout Mix)"
          ],
          [
           "Here With Me (Cardio + Running Workout Mix)"
          ],
          [
           "Say So (Cardio + Running Workout Mix)"
          ],
          [
           "RITMO (Bad Boys For Life) [Cardio + Running Workout Mix]"
          ],
          [
           "Tusa (Cardio + Running Workout Mix)"
          ],
          [
           "Hope For The New Year"
          ],
          [
           "Sugar"
          ],
          [
           "Pursuit Of Happiness - Extended Steve Aoki Remix (Explicit)"
          ],
          [
           "I Took A Pill In Ibiza - Seeb Remix"
          ],
          [
           "Come On Eileen"
          ],
          [
           "Let Me Go"
          ],
          [
           "I Gotta Feeling"
          ],
          [
           "Safe And Sound"
          ],
          [
           "Bad Romance"
          ],
          [
           "My People"
          ],
          [
           "Dynamite"
          ],
          [
           "Kali Katha Sabu Jaa Re Bhuli"
          ],
          [
           "Dance (A$$)"
          ],
          [
           "On Top Of The World"
          ],
          [
           "Move"
          ],
          [
           "Dog Days Are Over"
          ],
          [
           "We Run The Night"
          ],
          [
           "2020年バーチャル年越しASMR RADIO[時間合わせ12月31日23時29分43秒から]"
          ],
          [
           "Kachcha Papad Pakka Papad"
          ],
          [
           "Old Town Road (Cardio + Running Workout Mix)"
          ],
          [
           "10,000 Hours (Cardio + Running Workout Mix)"
          ],
          [
           "Rescue (Cardio + Running Workout Mix)"
          ],
          [
           "Sucker (Cardio + Running Workout Mix)"
          ],
          [
           "Teeth (Cardio + Running Workout Mix)"
          ],
          [
           "2000 Years"
          ],
          [
           "2000 Years"
          ],
          [
           "2000 Years"
          ],
          [
           "Year 2000"
          ],
          [
           "2000 Years"
          ],
          [
           "2000 Years"
          ],
          [
           "2000 Years"
          ],
          [
           "2000 Years"
          ],
          [
           "Year 2000"
          ],
          [
           "2000 Years"
          ],
          [
           "2000 Years"
          ],
          [
           "Year 2000"
          ],
          [
           "2000 Years"
          ],
          [
           "2000 Years"
          ],
          [
           "2000 Years"
          ],
          [
           "Radioприемник - Year 2000"
          ],
          [
           "2000 Years Ago"
          ],
          [
           "20000 Years After"
          ],
          [
           "10,000 Hours (Cardio + Running Workout Mix)"
          ],
          [
           "Rescue (Cardio + Running Workout Mix)"
          ],
          [
           "Lose You to Love Me (Cardio + Running Workout Mix)"
          ],
          [
           "Stressed Out (Cardio + Running Workout Mix)"
          ],
          [
           "How Do You Sleep? (Cardio + Running Workout Mix)"
          ],
          [
           "High Hopes (Cardio + Running Workout Mix)"
          ],
          [
           "I'm Ready (Cardio + Running Workout Mix)"
          ],
          [
           "Taki Taki (Cardio + Running Workout Mix)"
          ],
          [
           "Raising Hell (Cardio + Running Workout Mix)"
          ],
          [
           "Lights Up (Cardio + Running Workout Mix)"
          ],
          [
           "Senorita (Cardio + Running Workout Mix)"
          ],
          [
           "Despacito (Cardio + Running Workout Mix)"
          ],
          [
           "Good as Hell (Cardio + Running Workout Mix)"
          ],
          [
           "The Champion (Cardio + Running Workout Mix)"
          ],
          [
           "Love Me Anyway (Cardio + Running Workout Mix)"
          ],
          [
           "Rewrite the Stars (Cardio + Running Workout Mix)"
          ],
          [
           "Better Now (Cardio + Running Workout Mix)"
          ],
          [
           "Love Yourself (Cardio + Running Workout Mix)"
          ],
          [
           "Hymn for the Weekend (Cardio + Running Workout Mix)"
          ],
          [
           "Truth Hurts (Cardio + Running Workout Mix)"
          ],
          [
           "Million Reasons (Cardio + Running Workout Mix)"
          ],
          [
           "Someone You Loved (Cardio + Running Workout Mix)"
          ],
          [
           "Photograph (Cardio + Running Workout Mix)"
          ],
          [
           "This is Me (Cardio + Running Workout Mix)"
          ],
          [
           "High on Life (Cardio + Running Workout Mix)"
          ],
          [
           "Photograph (Cardio + Running Workout Mix)"
          ],
          [
           "Heartless (Cardio + Running Workout Mix)"
          ],
          [
           "ME! (Cardio + Running Workout Mix)"
          ],
          [
           "Alone (Cardio + Running Workout Mix)"
          ],
          [
           "Good Things Fall Apart (Running Mix)"
          ],
          [
           "The Middle (Cardio + Running Workout Mix)"
          ],
          [
           "Something Just Like This (Cardio + Running Workout Mix)"
          ],
          [
           "Electricity (Cardio + Running Workout Mix)"
          ],
          [
           "You Need to Calm Down (Cardio + Running Workout Mix)"
          ],
          [
           "Lover (Cardio + Running Workout Mix)"
          ],
          [
           "Natural (Cardio + Running Workout Mix)"
          ],
          [
           "You Say (Cardio + Running Workout Mix)"
          ],
          [
           "Shape of You (Cardio + Running Workout Mix)"
          ],
          [
           "Thunder (Cardio + Running Workout Mix)"
          ],
          [
           "Timber (Cardio + Running Workout Mix)"
          ],
          [
           "My House (Cardio + Running Workout Mix)"
          ],
          [
           "I Don't Care (Cardio + Running Workout Mix)"
          ],
          [
           "Sour Candy (Cardio + Running Workout Mix)"
          ],
          [
           "Youngblood (Cardio + Running Workout Mix)"
          ],
          [
           "Bad Liar (Cardio + Running Workout Mix)"
          ],
          [
           "Maps (Cardio + Running Workout Mix)"
          ],
          [
           "Without Me (Cardio + Running Workout Mix)"
          ],
          [
           "Secrets (Cardio + Running Workout Mix)"
          ],
          [
           "Never Be the Same (Cardio + Running Workout Mix)"
          ],
          [
           "Ex’s & Oh’s (Cardio + Running Workout Mix)"
          ],
          [
           "CAN'T STOP THE FEELING (Cardio + Running Workout Mix)"
          ],
          [
           "Uptown Funk (Cardio + Running Workout Mix)"
          ],
          [
           "24K Magic (Cardio + Running Workout Mix)"
          ],
          [
           "The Git Up (Cardio + Running Workout Mix)"
          ],
          [
           "Workin' On It (Cardio + Running Workout Mix)"
          ],
          [
           "Juice (Cardio + Running Workout Mix)"
          ],
          [
           "Happier (Cardio + Running Workout Mix)"
          ],
          [
           "Radioactive (Cardio + Running Workout Mix)"
          ],
          [
           "Paradise"
          ],
          [
           "This Year (2021)"
          ],
          [
           "New Years 2021"
          ],
          [
           "New Year 2021"
          ],
          [
           "New Year 2021"
          ],
          [
           "Happy Year 2021"
          ],
          [
           "2021 My Year"
          ],
          [
           "2021 New Year"
          ],
          [
           "2021 (Graduation Year)"
          ],
          [
           "New Years 2021 intro"
          ],
          [
           "2021 New Year Bounce"
          ],
          [
           "Happy New Year 2021"
          ],
          [
           "Happy New Year 2021"
          ],
          [
           "Rocking New Year 2021"
          ],
          [
           "Happy New (2021) Year"
          ],
          [
           "2021 Is My Year"
          ],
          [
           "New Year Collection 2021"
          ],
          [
           "ნამეტანია (Zoommer New Year 2021)"
          ],
          [
           "New Years Eve 2021 Countdown"
          ],
          [
           "Bad Christmas (New Year 2021)"
          ],
          [
           "Happy New Year 2021 (Fireworks)"
          ],
          [
           "A Good Year"
          ],
          [
           "Years Ago"
          ],
          [
           "SEA WAS THE BIGGEST (2004)"
          ],
          [
           "くちぶえ (feat. ウェイウェイ・ウー) - Live at ROOTS OF THE MUSIC 2004, 湯島聖堂, 2004.9.26, 2020 Remaster"
          ],
          [
           "My Kind - Live at Buxton Opera House, 2004"
          ],
          [
           "One Small Step - Live at Buxton Opera House, 2004"
          ],
          [
           "Never Too Late - Live at Buxton Opera House, 2004"
          ],
          [
           "A 15 Year Old's Letters to Nick Endo"
          ],
          [
           "No Easy Way Out - Live at Bonn, Germany, 2005"
          ],
          [
           "Harvest for the World - Live at Bonn, Germany, 2005"
          ],
          [
           "A 15 Year Old's Letters to Nick Endo (Acoustic)"
          ],
          [
           "Where Did I Go Wrong - Live at Bonn, Germany, 2005"
          ],
          [
           "Dresden, den 15.05.2005 - Mixed"
          ],
          [
           "We Don't Care Anymore"
          ],
          [
           "Friday Night Song"
          ],
          [
           "Brand New Day"
          ],
          [
           "Rollercoaster"
          ],
          [
           "Chopper"
          ],
          [
           "ZZ"
          ],
          [
           "One Eye Opened"
          ],
          [
           "The Answer"
          ],
          [
           "Mexico"
          ],
          [
           "Something About the Waiting"
          ],
          [
           "End of Summer"
          ],
          [
           "Say Goodbye"
          ],
          [
           "Hard Year"
          ],
          [
           "Five Years Ahead Of My Time"
          ],
          [
           "Remember in 2006 When It Was Fashionable to Have the Longest Song Names You Could Think Of, Literally Like a Short Story"
          ],
          [
           "Come Back Anytime"
          ],
          [
           "Under the Radar"
          ],
          [
           "Everytime This Happens"
          ],
          [
           "Hey, That's No Way to Say Goodbye"
          ],
          [
           "Regret Is All"
          ],
          [
           "Moving On"
          ],
          [
           "Elijah's Lullaby"
          ],
          [
           "Sunlight Shines Through Me"
          ],
          [
           "Way Gone By"
          ],
          [
           "Lifetime of Deception"
          ],
          [
           "Repeat My Fate"
          ],
          [
           "Exactly (Paul Miller 2008 Rework) - Mixed"
          ],
          [
           "Not New Year's History"
          ],
          [
           "All That You Were (Demo EP 2010)"
          ],
          [
           "Changing Seasons (Main 2010 Instrumental Mix)"
          ],
          [
           "Don't Answer Me (Ti Vedo Uscire) - Remastered 2010"
          ],
          [
           "14 Hormonal Years - Ginola Remix"
          ],
          [
           "New Year's Eve - Live"
          ],
          [
           "Five Years Ahead Of My Time"
          ],
          [
           "On A Clear Day You Can See Forever - Remastered 2010"
          ],
          [
           "Good Year to Be on Top"
          ],
          [
           "Thirty Days, Sixty Years (Live)"
          ],
          [
           "A Thousand Years"
          ],
          [
           "Happy New Year (Kicking Ass!)"
          ],
          [
           "Follow Me (Ultrasoni'K 2011 Tech It Up Vox Mix)"
          ],
          [
           "2012"
          ],
          [
           "2012"
          ],
          [
           "2012"
          ],
          [
           "Beautiful Mind (2012)"
          ],
          [
           "Supernal - 2012 Re-Edit"
          ],
          [
           "Late Nights in Horto, 2012"
          ],
          [
           "2013"
          ],
          [
           "Superhot (2013)"
          ],
          [
           "Memories Misconstrued (2013)"
          ],
          [
           "Mother Earth (2013)"
          ],
          [
           "We Grind Everyday 2013"
          ],
          [
           "Yearning"
          ],
          [
           "Shitty Blues (Fall 2013)"
          ],
          [
           "2014-2016 Best Years"
          ],
          [
           "2014 Was a Gooddd Year"
          ],
          [
           "You Know That I Need You"
          ],
          [
           "Who Will Die For Us"
          ],
          [
           "It's So Sexy"
          ],
          [
           "My Life"
          ],
          [
           "Peponi - Jewel Dance Radio Remix"
          ],
          [
           "Polarity"
          ],
          [
           "The girl on that merry-go-round looks all too sad"
          ],
          [
           "2016 Years"
          ],
          [
           "Chinese New Year 2016 – Year of Monkey"
          ],
          [
           "2014-2016 Best Years"
          ],
          [
           "The Year Was 2016"
          ],
          [
           "Tempted - Live at Symphony Hall, Birmingham, 2017"
          ],
          [
           "Itami - Live at Cafe Oto, June 11/09/2017"
          ],
          [
           "How Long - Live at Symphony Hall, Birmingham, 2017"
          ],
          [
           "Over My Shoulder - Live at Symphony Hall, Birmingham, 2017"
          ],
          [
           "Too Good to Be True - Live at Symphony Hall, Birmingham, 2017"
          ],
          [
           "Wake Me Up"
          ],
          [
           "If I Should Fall Behind - Live Acoustic Trio, 2018"
          ],
          [
           "Tell Me"
          ],
          [
           "The Great Divine"
          ],
          [
           "Nightmare"
          ],
          [
           "Shame"
          ],
          [
           "Running On Empty"
          ],
          [
           "Crash (CC652)"
          ],
          [
           "Freefall (CC652) - DIM3NSION Remix"
          ],
          [
           "Run (CC652)"
          ],
          [
           "Fell In Love With An Alien - Live 2019"
          ],
          [
           "A Trip Down the Highway - Summer 2019 Demo"
          ],
          [
           "Three Years Gone- Caroline Daisy - Live"
          ],
          [
           "Carry On (FYHYM2019) - Myon Return To 95 Remix"
          ],
          [
           "Losing Game 더 좋아한 내가 진 거야 - Remastered"
          ],
          [
           "I Hate You - Remastered"
          ],
          [
           "Murky Time"
          ],
          [
           "You Are No Good 넌 내게 모욕을 줬어"
          ],
          [
           "Knightvision (CC652)"
          ],
          [
           "Amber Sun (CC652)"
          ],
          [
           "Carpe Noctum (CC652) - Mark Sherry Remix"
          ],
          [
           "Racing Against Time (CC652) - Ferry Corsten Edit"
          ],
          [
           "Come With Me (CC652)"
          ],
          [
           "Helsinki Scorchin' (CC652)"
          ],
          [
           "Galaxia (CC652)"
          ],
          [
           "Horizon Dawn (CC652)"
          ],
          [
           "Panama (CC652)"
          ],
          [
           "Hate Crime"
          ],
          [
           "Surga (CC652)"
          ],
          [
           "Tokyo (CC652)"
          ],
          [
           "I Am You (CC652)"
          ],
          [
           "Memento (CC652)"
          ],
          [
           "Blue Deck (CC652)"
          ],
          [
           "Another Angel (CC652)"
          ],
          [
           "Budapest (CC652)"
          ],
          [
           "Corsten's Countdown 652 Intro"
          ],
          [
           "Santa Monica (CC652)"
          ],
          [
           "Lunar Lander (CC652)"
          ],
          [
           "Parallel Dimension (CC652)"
          ],
          [
           "Homeward (CC652)"
          ],
          [
           "Let Me In M'lady"
          ],
          [
           "Hear It Now (CC652) - Ferry’s Fix"
          ],
          [
           "4 Thangs (feat. Big Sean & Hit-Boy)"
          ],
          [
           "Gavotte"
          ],
          [
           "Mean"
          ],
          [
           "You'll Be OK"
          ],
          [
           "TE DESEO LO MEJOR"
          ],
          [
           "Lost At Sea"
          ],
          [
           "M3tamorphosis (feat. Kid Cudi)"
          ],
          [
           "La Curiosidad"
          ],
          [
           "A State Of Trance (ASOT 992) - Pre-Order: A State Of Trance Year Mix 2020, Pt. 1"
          ],
          [
           "Hecha Pa' Mi"
          ],
          [
           "Eyes Blue Like The Atlantic (feat. Subvrbs)"
          ],
          [
           "Breathe"
          ],
          [
           "Place"
          ],
          [
           "A State Of Trance (ASOT 992) - Pre-Order: A State Of Trance Year Mix 2020, Pt. 2"
          ],
          [
           "Solo Dolo, Pt. III"
          ],
          [
           "Can't Die"
          ],
          [
           "sometimes it’s scary…but it’s still you and me - Mixed"
          ],
          [
           "Lovesick Girls"
          ],
          [
           "A State Of Trance (ASOT 997) - Outro"
          ],
          [
           "Bitter"
          ],
          [
           "Blue World"
          ],
          [
           "Big H 2020 - Mixed"
          ],
          [
           "Sad People"
          ],
          [
           "Year 2020"
          ],
          [
           "Crazy Train"
          ],
          [
           "Mantra - David Elston Extended Remix"
          ],
          [
           "Said Sum (feat. City Girls & DaBaby) - Remix"
          ],
          [
           "BLIND (feat. Young Thug)"
          ],
          [
           "Upswing - Mixed"
          ],
          [
           "betty"
          ],
          [
           "New Years Eve 2020"
          ],
          [
           "Quicksand"
          ],
          [
           "Another Riff For The Good Times - Mixed"
          ],
          [
           "Fly To My Room"
          ],
          [
           "In And Out Of Love - ilan Bluestone & Maor Levi Remix"
          ],
          [
           "Buss It"
          ],
          [
           "It's the Most Wonderful Time of the Year (Trap Remix)"
          ],
          [
           "Need It"
          ],
          [
           "Yesterday"
          ],
          [
           "Hawái"
          ],
          [
           "Go2DaMoon (feat. Kanye West)"
          ],
          [
           "Yesterday (FYHYM2020)"
          ],
          [
           "Love Not War (The Tampa Beat)"
          ],
          [
           "Infinity (FYHYM2020)"
          ],
          [
           "I CAN'T STOP ME"
          ],
          [
           "2020 Is Our Year...... Ahhh Fukk"
          ],
          [
           "Mi Niña"
          ],
          [
           "Walk Away (FYHYM2020)"
          ],
          [
           "Cat Girls Are Ruining My Life!"
          ],
          [
           "Best Years - 2020 Remix"
          ],
          [
           "Diamonds"
          ],
          [
           "Black & Blue (FYHYM2020)"
          ],
          [
           "Life Is Good (feat. Drake)"
          ],
          [
           "Moonwalker (FYHYM2020)"
          ],
          [
           "Move On"
          ],
          [
           "Elise (FYHYM2020)"
          ],
          [
           "Doing Life With Me"
          ],
          [
           "Leka (FYHYM2020)"
          ],
          [
           "Dis-ease"
          ],
          [
           "Elements (FYHYM2020)"
          ],
          [
           "Telepathy"
          ],
          [
           "Pure - Mixed"
          ],
          [
           "Said Sum"
          ],
          [
           "Diving Out Of Love (FYHYM2020)"
          ],
          [
           "Sum 2 Prove"
          ],
          [
           "Tied Up - Kenny Dope Remix (Mixed)"
          ],
          [
           "Stuck On You"
          ],
          [
           "Under Water (FYHYM2020)"
          ],
          [
           "Damage"
          ],
          [
           "Everything Everything (FYHYM2020)"
          ],
          [
           "Funny Thing"
          ],
          [
           "The South (FYHYM2020)"
          ],
          [
           "Heaven On Earth"
          ],
          [
           "Something Real (FYHYM2020) - Cosmic Gate Remix"
          ],
          [
           "OK Not To Be OK"
          ],
          [
           "MALDITA POBREZA"
          ],
          [
           "This World - Mixed"
          ],
          [
           "Beers And Sunshine"
          ],
          [
           "It's The Most Wonderful Time Of The Year"
          ],
          [
           "Slide (Remix) (feat. Pop Smoke, A Boogie Wit da Hoodie & Chris Brown)"
          ],
          [
           "Reverie - Above & Beyond Club Mix"
          ],
          [
           "Worship You"
          ],
          [
           "Stuck In The Middle"
          ],
          [
           "Somebody Loves You (with Plumb)"
          ],
          [
           "Bandido"
          ],
          [
           "21 Years"
          ],
          [
           "Ashes"
          ],
          [
           "ny90"
          ],
          [
           "Rehab (Winter In Paris)"
          ],
          [
           "Far From Home"
          ],
          [
           "Blastoff (feat. Juice Wrld & Trippie Redd)"
          ],
          [
           "Lasers (FYHYM2020)"
          ],
          [
           "Sick and Tired (ft. Machine Gun Kelly and Travis Barker)"
          ],
          [
           "Perpetual (FYHYM2020)"
          ],
          [
           "Fallin’ (Adrenaline)"
          ],
          [
           "Sonata (FYHYM2020)"
          ],
          [
           "May I"
          ],
          [
           "Destination (FYHYM2020) - Orjan Nilsen Remix"
          ],
          [
           "Fighting Demons"
          ],
          [
           "Bittersweet & Blue (FYHYM2020) - Above & Beyond Club Mix"
          ],
          [
           "BELIEVE IT"
          ],
          [
           "Welcome To Your Life - Jeremy Vancaulart Remix"
          ],
          [
           "obvious"
          ],
          [
           "Come To Life"
          ],
          [
           "Over"
          ],
          [
           "Stranger Inside (FYHYM2020)"
          ],
          [
           "I Hope You’re Happy Now"
          ],
          [
           "Universal Love (FYHYM2020)"
          ],
          [
           "DRUGS"
          ],
          [
           "Wake Me Up - Tale Of Us Remix (Mixed)"
          ],
          [
           "Rockstar Knights (with Trippie Redd)"
          ],
          [
           "Let It Snow! Let It Snow! Let It Snow!"
          ],
          [
           "shut up"
          ],
          [
           "Grey Area"
          ],
          [
           "White Tee"
          ],
          [
           "5th Dimension (FYHYM2020)"
          ],
          [
           "SORRY PAPI"
          ],
          [
           "What About Us (FYHYM2020)"
          ],
          [
           "Lets Link"
          ],
          [
           "Losing My Mind (FYHYM2020)"
          ],
          [
           "Cabrón y Vago - En Vivo"
          ],
          [
           "Diving Out Of Love"
          ],
          [
           "Rain On Me (with Ariana Grande)"
          ],
          [
           "Horsepower (FYHYM2020)"
          ],
          [
           "the last great american dynasty"
          ],
          [
           "Phantom (FYHYM2020)"
          ],
          [
           "six thirty"
          ],
          [
           "Aura (FYHYM2020)"
          ],
          [
           "Daylight"
          ],
          [
           "Silence - Mixed"
          ],
          [
           "Stargazing"
          ],
          [
           "Mirage"
          ],
          [
           "Get Back"
          ],
          [
           "What Was Before"
          ],
          [
           "LA DROGA"
          ],
          [
           "Plants"
          ],
          [
           "Screw Juice"
          ],
          [
           "Keep Going"
          ],
          [
           "Stay"
          ],
          [
           "Waiting On The Other Side - Club Mix"
          ],
          [
           "Chica Ideal"
          ],
          [
           "Tokyo - Fatum Remix"
          ],
          [
           "Lose You"
          ],
          [
           "Mi Cuarto"
          ],
          [
           "New Years 2020"
          ],
          [
           "ANTES QUE SE ACABE"
          ],
          [
           "Come Together - Matthias Meyer Remix (Mixed)"
          ],
          [
           "cheers (with Wiz Khalifa)"
          ],
          [
           "Nightwhisper - Mixed"
          ],
          [
           "The Void"
          ],
          [
           "Lion - Mixed"
          ],
          [
           "120"
          ],
          [
           "New Day - Mixed"
          ],
          [
           "Sweet but Psycho"
          ],
          [
           "Pandemic Love or the Year Without a Spring (Live in Johnson City 10/30/2020)"
          ],
          [
           "my tears ricochet"
          ],
          [
           "Years"
          ],
          [
           "invisible string"
          ],
          [
           "Happy New Year Piano Instrumental"
          ],
          [
           "Zeus (feat. White Gold)"
          ],
          [
           "Beyond The Comfort Zone"
          ],
          [
           "Papi Chulo"
          ],
          [
           "In My Head (Part II)"
          ],
          [
           "The Good Ones"
          ],
          [
           "Qiu Hu Yue Yie"
          ],
          [
           "Something Special"
          ],
          [
           "Witch Hat"
          ],
          [
           "Wild (feat. Gary Clark Jr.)"
          ],
          [
           "After Dark"
          ],
          [
           "HEARTBREAK ANNIVERSARY"
          ],
          [
           "Redshift (FYHYM2020)"
          ],
          [
           "La Tóxica"
          ],
          [
           "Moonwave (FYHYM2020)"
          ],
          [
           "Easy (with Kacey Musgraves feat. Mark Ronson)"
          ],
          [
           "Ecstasy (FYHYM2020)"
          ],
          [
           "Lose Somebody"
          ],
          [
           "Moonchild (FYHYM2020)"
          ],
          [
           "Freak"
          ],
          [
           "Satellites (FYHYM2020)"
          ],
          [
           "Yessirskiii"
          ],
          [
           "Paid For Love - Mixed"
          ],
          [
           "Handgun (feat. NoCap & Polo G)"
          ],
          [
           "Reverie (FYHYM2020) - Above & Beyond Club Mix"
          ],
          [
           "Every Other Memory"
          ],
          [
           "Live For Tonight"
          ],
          [
           "Tyler Herro"
          ],
          [
           "Escape The Night (FYHYM2020)"
          ],
          [
           "my hair"
          ],
          [
           "What Are You Doing New Year's Eve?"
          ],
          [
           "10,000 Hours (Cardio + Running Workout Mix)"
          ],
          [
           "Rescue (Cardio + Running Workout Mix)"
          ],
          [
           "Lose You to Love Me (Cardio + Running Workout Mix)"
          ],
          [
           "Stressed Out (Cardio + Running Workout Mix)"
          ],
          [
           "How Do You Sleep? (Cardio + Running Workout Mix)"
          ],
          [
           "High Hopes (Cardio + Running Workout Mix)"
          ],
          [
           "I'm Ready (Cardio + Running Workout Mix)"
          ],
          [
           "Taki Taki (Cardio + Running Workout Mix)"
          ],
          [
           "Raising Hell (Cardio + Running Workout Mix)"
          ],
          [
           "Lights Up (Cardio + Running Workout Mix)"
          ],
          [
           "Senorita (Cardio + Running Workout Mix)"
          ],
          [
           "Despacito (Cardio + Running Workout Mix)"
          ],
          [
           "Good as Hell (Cardio + Running Workout Mix)"
          ],
          [
           "The Champion (Cardio + Running Workout Mix)"
          ],
          [
           "Love Me Anyway (Cardio + Running Workout Mix)"
          ],
          [
           "Rewrite the Stars (Cardio + Running Workout Mix)"
          ],
          [
           "Better Now (Cardio + Running Workout Mix)"
          ],
          [
           "Love Yourself (Cardio + Running Workout Mix)"
          ],
          [
           "Hymn for the Weekend (Cardio + Running Workout Mix)"
          ],
          [
           "Truth Hurts (Cardio + Running Workout Mix)"
          ],
          [
           "Million Reasons (Cardio + Running Workout Mix)"
          ],
          [
           "Someone You Loved (Cardio + Running Workout Mix)"
          ],
          [
           "Photograph (Cardio + Running Workout Mix)"
          ],
          [
           "This is Me (Cardio + Running Workout Mix)"
          ],
          [
           "High on Life (Cardio + Running Workout Mix)"
          ],
          [
           "Photograph (Cardio + Running Workout Mix)"
          ],
          [
           "Heartless (Cardio + Running Workout Mix)"
          ],
          [
           "ME! (Cardio + Running Workout Mix)"
          ],
          [
           "Alone (Cardio + Running Workout Mix)"
          ],
          [
           "Good Things Fall Apart (Running Mix)"
          ],
          [
           "The Middle (Cardio + Running Workout Mix)"
          ],
          [
           "Something Just Like This (Cardio + Running Workout Mix)"
          ],
          [
           "Electricity (Cardio + Running Workout Mix)"
          ],
          [
           "You Need to Calm Down (Cardio + Running Workout Mix)"
          ],
          [
           "Lover (Cardio + Running Workout Mix)"
          ],
          [
           "Natural (Cardio + Running Workout Mix)"
          ],
          [
           "You Say (Cardio + Running Workout Mix)"
          ],
          [
           "Shape of You (Cardio + Running Workout Mix)"
          ],
          [
           "Thunder (Cardio + Running Workout Mix)"
          ],
          [
           "Timber (Cardio + Running Workout Mix)"
          ],
          [
           "My House (Cardio + Running Workout Mix)"
          ],
          [
           "I Don't Care (Cardio + Running Workout Mix)"
          ],
          [
           "Sour Candy (Cardio + Running Workout Mix)"
          ],
          [
           "Youngblood (Cardio + Running Workout Mix)"
          ],
          [
           "Bad Liar (Cardio + Running Workout Mix)"
          ],
          [
           "Maps (Cardio + Running Workout Mix)"
          ],
          [
           "Without Me (Cardio + Running Workout Mix)"
          ],
          [
           "Secrets (Cardio + Running Workout Mix)"
          ],
          [
           "Never Be the Same (Cardio + Running Workout Mix)"
          ],
          [
           "Ex’s & Oh’s (Cardio + Running Workout Mix)"
          ],
          [
           "CAN'T STOP THE FEELING (Cardio + Running Workout Mix)"
          ],
          [
           "Uptown Funk (Cardio + Running Workout Mix)"
          ],
          [
           "Happier (Cardio + Running Workout Mix)"
          ],
          [
           "Radioactive (Cardio + Running Workout Mix)"
          ],
          [
           "24K Magic (Cardio + Running Workout Mix)"
          ],
          [
           "The Git Up (Cardio + Running Workout Mix)"
          ],
          [
           "Workin' On It (Cardio + Running Workout Mix)"
          ],
          [
           "Juice (Cardio + Running Workout Mix)"
          ],
          [
           "Paradise"
          ],
          [
           "This Year (2021)"
          ],
          [
           "New Years 2021"
          ],
          [
           "New Year 2021"
          ],
          [
           "New Year 2021"
          ],
          [
           "Happy Year 2021"
          ],
          [
           "2021 My Year"
          ],
          [
           "2021 New Year"
          ],
          [
           "2021 (Graduation Year)"
          ],
          [
           "New Years 2021 intro"
          ],
          [
           "2021 New Year Bounce"
          ],
          [
           "Happy New Year 2021"
          ],
          [
           "Happy New Year 2021"
          ],
          [
           "Rocking New Year 2021"
          ],
          [
           "Happy New (2021) Year"
          ],
          [
           "2021 Is My Year"
          ],
          [
           "New Year Collection 2021"
          ],
          [
           "ნამეტანია (Zoommer New Year 2021)"
          ],
          [
           "New Years Eve 2021 Countdown"
          ],
          [
           "Bad Christmas (New Year 2021)"
          ],
          [
           "Happy New Year 2021 (Fireworks)"
          ],
          [
           "Can't Buy Me Love"
          ],
          [
           "I Want to Hold Your Hand"
          ],
          [
           "If I Fell"
          ],
          [
           "Twist and Shout"
          ],
          [
           "Help!"
          ],
          [
           "A Hard Day's Night"
          ],
          [
           "Yesterday"
          ],
          [
           "Eleanor Rigby"
          ],
          [
           "And I Love Her"
          ],
          [
           "Love Me Do"
          ],
          [
           "Michelle"
          ],
          [
           "Nowhere Man"
          ],
          [
           "Got to Get You Into My Life"
          ],
          [
           "Ticket to Ride"
          ],
          [
           "She Loves You"
          ],
          [
           "20000 Years After"
          ],
          [
           "The Year 2000"
          ],
          [
           "in 2000 years"
          ],
          [
           "2000 Years Ago"
          ],
          [
           "2000 Year Prelude"
          ],
          [
           "Deep House Years 2000"
          ],
          [
           "2000 Years from Now"
          ],
          [
           "2000 Years (Sheffield Release)"
          ],
          [
           "2000 Light Years Away"
          ],
          [
           "2000 Light Years Away"
          ],
          [
           "2000 Years From Now"
          ],
          [
           "Back to Year 2000"
          ],
          [
           "In the Year 2000"
          ],
          [
           "Nam 75 Year 2000 Unknown"
          ],
          [
           "2000 Light Years From Home"
          ],
          [
           "Destroy 2000 Years Of Culture"
          ],
          [
           "Year of the Lord 2021"
          ],
          [
           "New Year Dandiya Fest 2021"
          ],
          [
           "New Year 2021 - Hangar Theme 2"
          ],
          [
           "New Year 2021 - Hangar Guitar Theme"
          ],
          [
           "Brawl Stars — Lunar New Year 2021"
          ],
          [
           "Your YEAR 2021 Expectation Miracles Praise"
          ],
          [
           "New Year 2021 - Hangar Theme 3"
          ],
          [
           "Happy New Year 2021 Party Song"
          ],
          [
           "New Year 2021 - Hangar Theme 1"
          ],
          [
           "Jaan Happy New Year 2021 - 2020"
          ],
          [
           "YEARFIXZ2021"
          ],
          [
           "Astrit Brahja Orkestrale happy new year 2021"
          ],
          [
           "2021 Might Have to Be My Year"
          ],
          [
           "Happy new year 2021 (Deep house style)"
          ],
          [
           "A Mor Jaan Happy New Year 2021"
          ],
          [
           "Griting Naya Sal Ke - New Year Song 2021"
          ],
          [
           "Happy New Year 2021 (The DJ Kor Remixes)"
          ],
          [
           "Jingle Bells (Merry Christmas & Happy New Year 2021)"
          ],
          [
           "2021"
          ],
          [
           "2021"
          ],
          [
           "2021 New Years Mixtape (Punjabi v.s. HipHop Edition) [DJ NICK]"
          ],
          [
           "2021 Song"
          ],
          [
           "Number Mange Greeting Card Dukan Wala - Happy New Year 2021 Song"
          ],
          [
           "my philosophy 2021"
          ],
          [
           "Billions Light Years - Progressive Goa Psytrance 2021 Top 100 Hits DJ Mixed"
          ],
          [
           "The \" Brood X\" Periodical Cicada Will Emerge in 2021 After 17 Years"
          ],
          [
           "Nekropolis"
          ],
          [
           "Alkohol tötet langsam"
          ],
          [
           "Liebeslied"
          ],
          [
           "Nick of Time - Live at Liverpool Philharmonic Hall, 2004"
          ],
          [
           "It Ain't Over - Live at Buxton Opera House, 2004"
          ],
          [
           "Any Day Now - Live at Buxton Opera House, 2004"
          ],
          [
           "Nothing to Lose - Live at Liverpool Philharmonic Hall, 2004"
          ],
          [
           "Just a Little Lie - Live at Liverpool Philharmonic Hall, 2004"
          ],
          [
           "If I Were You - Live at Liverpool Philharmonic Hall, 2004"
          ],
          [
           "Running Out of Time - Live at Liverpool Philharmonic Hall, 2004"
          ],
          [
           "For Once in Our Lives - Live at Liverpool Philharmonic Hall, 2004"
          ],
          [
           "Nothing More Than a Memory - Live at Buxton Opera House, 2004"
          ],
          [
           "She Lived Down the Street - Live at Liverpool Philharmonic Hall, 2004"
          ],
          [
           "Until the Day I Die"
          ],
          [
           "Less Than Wonderful"
          ],
          [
           "Ölme"
          ],
          [
           "Asshole Of The Month"
          ],
          [
           "My Shoes"
          ],
          [
           "The Road Less Travelled"
          ],
          [
           "Abşeronun Üzümü"
          ],
          [
           "Heç Kime Men Seni Veren Deyilem"
          ],
          [
           "Gecdi Daha"
          ],
          [
           "Welcome To Our Show"
          ],
          [
           "We Can’t Skate"
          ],
          [
           "Yalan Dünya"
          ],
          [
           "Oceanborn - John Askew Rework"
          ],
          [
           "Azerbaycanım"
          ],
          [
           "Keren or Hebrew"
          ],
          [
           "Küsdürdün Meni"
          ],
          [
           "Yasu Yasu Hebrew"
          ],
          [
           "Shrinks Suck"
          ],
          [
           "Pakize"
          ],
          [
           "Aurora - DJ Kristoff Mix"
          ],
          [
           "Nigaranam Juhuri"
          ],
          [
           "Troublebound"
          ],
          [
           "Хочешь"
          ],
          [
           "Mektub"
          ],
          [
           "Metaltheme"
          ],
          [
           "Neynirem Sensiz"
          ],
          [
           "Tu Gereki Mere Juhuri"
          ],
          [
           "Slaves to the Machine - Original Mix"
          ],
          [
           "Global System - Original Mix"
          ],
          [
           "Cold Fusion - Sean Tyas Mix"
          ],
          [
           "String Theory - Original Mix"
          ],
          [
           "Lift - Original Mix"
          ],
          [
           "Evaporate - Stoneface & Terminal Mix"
          ],
          [
           "Ellipse - Araich Mix"
          ],
          [
           "Good Year to Be on Top"
          ],
          [
           "A 15 Year Old's Letters to Nick Endo"
          ],
          [
           "99 Year Blues - Live - Show 1"
          ],
          [
           "99 Year Blues - Live - Set 2"
          ],
          [
           "A 15 Year Old's Letters to Nick Endo (Acoustic)"
          ],
          [
           "first dream of New Year"
          ],
          [
           "99 Year Blues - Live"
          ],
          [
           "I am, The Originator of Afro Acid Beat (2010 To 2020 Vision Mix)"
          ],
          [
           "That Film From Last Year Isn't A Musical And We Didn't Score It, But If We Did It Would Sound Like This"
          ],
          [
           "Gyal Passion Riddim"
          ],
          [
           "Reality Check Riddim"
          ],
          [
           "More Life Riddim"
          ],
          [
           "She a Bounce Riddim"
          ],
          [
           "So Sweet Riddim"
          ],
          [
           "G Force Riddim"
          ],
          [
           "Better Times Riddim"
          ],
          [
           "Fire Foot Riddim"
          ],
          [
           "Vybz up Riddim"
          ],
          [
           "Summa Fuck Riddim"
          ],
          [
           "The En4orcer Riddim"
          ],
          [
           "Simple Life Riddim"
          ],
          [
           "Sunlight Riddim"
          ],
          [
           "Main Square Riddim"
          ],
          [
           "Main Square Riddim"
          ],
          [
           "Come Back Anytime"
          ],
          [
           "Under the Radar"
          ],
          [
           "Way Gone By"
          ],
          [
           "Hey, That's No Way to Say Goodbye"
          ],
          [
           "Lifetime of Deception"
          ],
          [
           "Everytime This Happens"
          ],
          [
           "Repeat My Fate"
          ],
          [
           "Elijah's Lullaby"
          ],
          [
           "Sunlight Shines Through Me"
          ],
          [
           "Regret Is All"
          ],
          [
           "Moving On"
          ],
          [
           "Royals"
          ],
          [
           "Don't You Worry Child - Radio Edit"
          ],
          [
           "Inkondlo (Original 2012 Mix)"
          ],
          [
           "Street Party - 2012 Re-Work Version"
          ],
          [
           "New Year"
          ],
          [
           "All I Can Say [Acoustic 2012] - Live"
          ],
          [
           "Years Of The Dragon"
          ],
          [
           "This Year"
          ],
          [
           "Twenty Years Ago"
          ],
          [
           "Hey!! - Live at Jakarta Convention Center, Plenary Hall, Senayan, 2013"
          ],
          [
           "Dekadensi - Live at Jakarta Convention Center, Plenary Hall, Senayan, 2013"
          ],
          [
           "Prahara - Live at Jakarta Convention Center, Plenary Hall, Senayan, 2013"
          ],
          [
           "Baiknya - Live at Jakarta Convention Center, Plenary Hall, Senayan, 2013"
          ],
          [
           "Laguku - Live at Jakarta Convention Center, Plenary Hall, Senayan, 2013"
          ],
          [
           "Saujana - Live at Jakarta Convention Center, Plenary Hall, Senayan, 2013"
          ],
          [
           "Romansa - Live at Jakarta Convention Center, Plenary Hall, Senayan, 2013"
          ],
          [
           "Yogyakarta - Live at Jakarta Convention Center, Plenary Hall, Senayan, 2013"
          ],
          [
           "While the Years Go Drifting By (Victor 20147) [Recorded 1926]"
          ],
          [
           "2014"
          ],
          [
           "2014"
          ],
          [
           "Echoes (2014)"
          ],
          [
           "Mr Weirdo (2014)"
          ],
          [
           "Lookout! (2014)"
          ],
          [
           "Be Trash - 2014"
          ],
          [
           "No Promises - 2014"
          ],
          [
           "Hey Girl - 2014"
          ],
          [
           "Party On - 2014"
          ],
          [
           "Eastland (Remastered) (2014)"
          ],
          [
           "Tell Me (2014)"
          ],
          [
           "It's 2014, the Past Six Years of Your Life Were a Dream (2005 Remix)"
          ],
          [
           "This Frown (2014)"
          ],
          [
           "Let Me Be - 2014"
          ],
          [
           "You're the One - Demo 2014"
          ],
          [
           "Enlightenment on the Path (2014)"
          ],
          [
           "First of the Year 2015"
          ],
          [
           "A Year in This Home - 2015"
          ],
          [
           "January 15, 2015 (Five Years On)"
          ],
          [
           "January 15, 2015 (Five Years On)"
          ],
          [
           "2015"
          ],
          [
           "2015"
          ],
          [
           "Cold As Christmas (In The Middle Of The Year) - Remastered 2016"
          ],
          [
           "Bot (2016)"
          ],
          [
           "Milkshake (2016)"
          ],
          [
           "A Foreboding (2016)"
          ],
          [
           "2016 Hollywood Blvd"
          ],
          [
           "Time Travel (2016)"
          ],
          [
           "No Gas (Nov 2016)"
          ],
          [
           "In The Year 2017"
          ],
          [
           "To the Year 2017"
          ],
          [
           "Silver Years (Pelican Sessions 2017)"
          ],
          [
           "Grace - Live from Asbury Park"
          ],
          [
           "Pieces - Live from Asbury Park"
          ],
          [
           "Fade Away - Live from Asbury Park"
          ],
          [
           "Sorry - Live from Asbury Park"
          ],
          [
           "Burn the Ships - Live from Asbury Park"
          ],
          [
           "Happy New Year 2018"
          ],
          [
           "2018 Happy New Year"
          ],
          [
           "To the Year 2018"
          ],
          [
           "Drive on week (S.B.N Live ver.)"
          ],
          [
           "gr8est journey (S.B.N Live ver.)"
          ],
          [
           "PUMP ME UP (S.B.N Live ver.)"
          ],
          [
           "On & On (S.B.N Live ver.)"
          ],
          [
           "Billion Beats (S.B.N Live ver.)"
          ],
          [
           "Year 2019"
          ],
          [
           "dec / year 2019"
          ],
          [
           "Happy New Year 2019"
          ],
          [
           "New Year Eve 2019"
          ],
          [
           "Happy New Year 2019"
          ],
          [
           "New Year Collection 2019"
          ],
          [
           "New Year Eve 2019"
          ],
          [
           "New Year Eve 2019"
          ],
          [
           "30 Years [2019 Edit]"
          ],
          [
           "New Year Eve 2019"
          ],
          [
           "New Year Eve 2019"
          ],
          [
           "New Year Eve 2019"
          ],
          [
           "New Year Eve 2019"
          ],
          [
           "⧼ THE YEAR IS 2019 A.D. ⧽"
          ],
          [
           "Santa Claus New Year 2019"
          ],
          [
           "What A Year (Rak-su 2019)"
          ],
          [
           "The Best Of Last Year 2019"
          ],
          [
           "Daisies"
          ],
          [
           "Runaway (FYHYM2020) - Fisherman Remix"
          ],
          [
           "Damaged"
          ],
          [
           "All In Good Spirit"
          ],
          [
           "Trap Anthem"
          ],
          [
           "In the Night of New Year's Eve - The 2020 Version"
          ],
          [
           "Deep End Freestyle"
          ],
          [
           "Awakening"
          ],
          [
           "Next Girl"
          ],
          [
           "Blue Monday"
          ],
          [
           "I Want It"
          ],
          [
           "Arizona - Mixed"
          ],
          [
           "Fly Away"
          ],
          [
           "Lost Souls - AVIRA Remix"
          ],
          [
           "Turks (feat. Travis Scott)"
          ],
          [
           "Don't Give Up - Giuseppe Ottaviani Remix"
          ],
          [
           "Down To One"
          ],
          [
           "Everything Everything"
          ],
          [
           "Vida de Rico"
          ],
          [
           "Part Of Me - Mixed"
          ],
          [
           "Be Something (feat. Lil Baby)"
          ],
          [
           "Rinascimento - Mixed"
          ],
          [
           "me & ur ghost"
          ],
          [
           "Punisher (FYHYM2020)"
          ],
          [
           "Beno!"
          ],
          [
           "Crash (FYHYM2020)"
          ],
          [
           "Invincible"
          ],
          [
           "The Beast With Five Hands"
          ],
          [
           "La Luz"
          ],
          [
           "BETTER DAYS"
          ],
          [
           "EL MUNDO ES MÍO"
          ],
          [
           "Ocean Patio"
          ],
          [
           "Die From A Broken Heart"
          ],
          [
           "Canary Forest"
          ],
          [
           "Gone"
          ],
          [
           "Sleepover"
          ],
          [
           "i'm so tired..."
          ],
          [
           "Harvest"
          ],
          [
           "Excitement"
          ],
          [
           "Happy New Year & Christmas Celebration"
          ],
          [
           "Girl Of My Dreams"
          ],
          [
           "Years - Remastered 2020"
          ],
          [
           "Not Another Love Song"
          ],
          [
           "Seven Years In Tibet - Live at Radio City Music Hall New York, 15th October, 1997; 2020 Remaster"
          ],
          [
           "Se Te Nota (with Guaynaa)"
          ],
          [
           "Say Hello"
          ],
          [
           "I'm in Love With an E-Girl"
          ],
          [
           "Hollow"
          ],
          [
           "Head Shoulders Knees & Toes (feat. Norma Jean Martine)"
          ],
          [
           "Water"
          ],
          [
           "Flex Up (feat. Future & Playboi Carti)"
          ],
          [
           "What About Us"
          ],
          [
           "A Tu Merced"
          ],
          [
           "Walk Away"
          ],
          [
           "Overwhelmed"
          ],
          [
           "No Warning Lights - ALPHA 9 Remix"
          ],
          [
           "Hasta Que Dios Diga"
          ],
          [
           "One Love"
          ],
          [
           "Weeeeee"
          ],
          [
           "Keep On - Mixed"
          ],
          [
           "I Know"
          ],
          [
           "The Blind Navigator - Mixed"
          ],
          [
           "Killer"
          ],
          [
           "Blackbirds - Mixed"
          ],
          [
           "Do It On The Tip (feat. City Girls & Hot Girl Meg)"
          ],
          [
           "Come Back - Mixed"
          ],
          [
           "SUPERBLOOM"
          ],
          [
           "Pam Pam (Phat Bass) [FYMYM2020]"
          ],
          [
           "Me Vs Me"
          ],
          [
           "Something Bigger (FYHYM2020) - Elevven Remix"
          ],
          [
           "Stop Breathing"
          ],
          [
           "Reindeer Boogie"
          ],
          [
           "Still Be Friends (feat. Tory Lanez & Tyga)"
          ],
          [
           "No Woman, No Cry - Live At Rainbow Theatre, London / 1977 / Remastered 2020"
          ],
          [
           "Pretty Girls"
          ],
          [
           "Falling Out Of The Sky (FYHYM2020)"
          ],
          [
           "No Time To Die"
          ],
          [
           "False Hope"
          ],
          [
           "BEBÉ"
          ],
          [
           "Inside"
          ],
          [
           "Moonlight (feat. Big Sean)"
          ],
          [
           "Aqueduct"
          ],
          [
           "Never Satisfied"
          ],
          [
           "Anything Like You (FYHYM2020) - Daxson Remix"
          ],
          [
           "La Jeepeta - Remix"
          ],
          [
           "If We Say Goodbye"
          ],
          [
           "Naughty List (with Dixie D’Amelio)"
          ],
          [
           "Water (FYHYM2020)"
          ],
          [
           "Leave Some Day"
          ],
          [
           "Lovecraft (FYHYM2020)"
          ],
          [
           "Memory I Don't Mess With"
          ],
          [
           "After Tomorrow"
          ],
          [
           "Stuntin' On You (feat. DaBaby)"
          ],
          [
           "Mystery Lady (feat. Don Toliver)"
          ],
          [
           "Let The Light Shine In (FYHYM2020) - Crusy & Jose de Mara Remix"
          ],
          [
           "Riot"
          ],
          [
           "Walk The Line - Mixed"
          ],
          [
           "Reloj"
          ],
          [
           "Close To Me - Mixed"
          ],
          [
           "BEST ON EARTH (feat. BIA) - Bonus"
          ],
          [
           "Pursuance - Mixed"
          ],
          [
           "Hate The Way (feat. blackbear)"
          ],
          [
           "Phases - Mixed"
          ],
          [
           "I Hope (feat. Charlie Puth)"
          ],
          [
           "Christmas Will Be Different This Year"
          ],
          [
           "Pretty Savage"
          ],
          [
           "Never Been Alone (FYHYM2020)"
          ],
          [
           "Blueberry Eyes (feat. SUGA of BTS)"
          ],
          [
           "Feel The Waves (FYHYM2020)"
          ],
          [
           "Black And White"
          ],
          [
           "Close My Eyes"
          ],
          [
           "Angels & Demons"
          ],
          [
           "Fallen - Richard Durand Remix"
          ],
          [
           "Broken Up"
          ],
          [
           "All On Me"
          ],
          [
           "24 (feat. Lil Baby)"
          ],
          [
           "Backyard Puddles"
          ],
          [
           "The Parables"
          ],
          [
           "Bookshelves"
          ],
          [
           "west side"
          ],
          [
           "Through Trees"
          ],
          [
           "acting like that (feat. Machine Gun Kelly)"
          ],
          [
           "Anemone"
          ],
          [
           "FEEL SOMETHING (feat. Marshmello)"
          ],
          [
           "Ocean View"
          ],
          [
           "Cardigan"
          ],
          [
           "Tokyo (feat. XIRA) - Seven Lions Remix (Mixed)"
          ],
          [
           "Rockstar Made"
          ],
          [
           "Eternal Summer - Mixed"
          ],
          [
           "Lovin’ Me (feat. Phoebe Bridgers)"
          ],
          [
           "Foggy August - Mixed"
          ],
          [
           "love language"
          ],
          [
           "Collide - Mixed"
          ],
          [
           "Hard To Forget"
          ],
          [
           "It's All Over - Mixed"
          ],
          [
           "Honeypie"
          ],
          [
           "This I Vow"
          ],
          [
           "Midnight Sky"
          ],
          [
           "Sail"
          ],
          [
           "Walk Em Down (feat. Roddy Ricch)"
          ],
          [
           "The Love You Give (FYHYM2020) - BUMA Remix"
          ],
          [
           "Long Live"
          ],
          [
           "Christmas the Whole Year Round"
          ],
          [
           "24"
          ],
          [
           "Tell Me (FYHYM2020)"
          ],
          [
           "It's About Time (feat. Florida Georgia Line)"
          ],
          [
           "One Love (FYHYM2020)"
          ],
          [
           "Stay Down (with 6LACK & Young Thug)"
          ],
          [
           "Out Of The Blue (FYHYM2020) - Ilan Bluestone Remix"
          ],
          [
           "Onna Come Up"
          ],
          [
           "Calm"
          ],
          [
           "3 Musketeers"
          ],
          [
           "Cloud Carpets"
          ],
          [
           "Nothing's Better"
          ],
          [
           "p i c k m e u p"
          ],
          [
           "E-ER (feat. Danny Towers & Lil Yachty)"
          ],
          [
           "Light Side Of The Harmony (FYH 200 Anthem) [FYHYM2020]"
          ],
          [
           "Filter"
          ],
          [
           "The Epoch of Trance"
          ],
          [
           "New Tank"
          ],
          [
           "B4 Montreal - TSHA Remix (Mixed)"
          ],
          [
           "Monster (Shawn Mendes & Justin Bieber)"
          ],
          [
           "We’re All In This Together - Above & Beyond Respray (Mixed)"
          ],
          [
           "Said Sum (feat. City Girls & DaBaby) - Remix"
          ],
          [
           "Feel Free - Mixed"
          ],
          [
           "Baby Pluto"
          ],
          [
           "Static - Mixed"
          ],
          [
           "Parce (feat. Justin Quiles)"
          ],
          [
           "Breathing - Boris Brejcha Remix (Mixed)"
          ],
          [
           "Circles"
          ],
          [
           "The Accord - Mixed"
          ],
          [
           "All We Got (feat. KIDDO)"
          ],
          [
           "What Have I Got To Lose"
          ],
          [
           "Gifted (feat. Roddy Ricch)"
          ],
          [
           "Need You Now"
          ],
          [
           "Moral of the Story (feat. Niall Horan)"
          ],
          [
           "Rooftops - Maarten de Jong Remix"
          ],
          [
           "Toosie Slide"
          ],
          [
           "Nothing Is Over - Roman Messer Remix"
          ],
          [
           "PIKACHU"
          ],
          [
           "P*$$Y Fairy (OTW)"
          ],
          [
           "The Copper War (Remastered 2020)"
          ],
          [
           "Walked Through Hell"
          ],
          [
           "1 YEAR"
          ],
          [
           "Black Magic (feat. Skylar Grey)"
          ],
          [
           "Are You Lonesome Tonight (Remastered 2020)"
          ],
          [
           "Numbers (feat. Roddy Ricch, Gunna and London On Da Track)"
          ],
          [
           "Good Year"
          ],
          [
           "Gone Too Soon"
          ],
          [
           "Blood, Sweat and Tears (Remastered 2020)"
          ],
          [
           "Burn 'Em All"
          ],
          [
           "Oceania"
          ],
          [
           "Dance with Me (feat. Thomas Rhett & Young Thug)"
          ],
          [
           "Cascada"
          ],
          [
           "Hawái"
          ],
          [
           "Wrong Way"
          ],
          [
           "Take Me Home For Christmas"
          ],
          [
           "Girls Just Wanna Have Sun"
          ],
          [
           "Year of the Lord 2021"
          ],
          [
           "New Year Dandiya Fest 2021"
          ],
          [
           "New Year 2021 - Hangar Theme 2"
          ],
          [
           "New Year 2021 - Hangar Guitar Theme"
          ],
          [
           "Brawl Stars — Lunar New Year 2021"
          ],
          [
           "Your YEAR 2021 Expectation Miracles Praise"
          ],
          [
           "New Year 2021 - Hangar Theme 3"
          ],
          [
           "Happy New Year 2021 Party Song"
          ],
          [
           "New Year 2021 - Hangar Theme 1"
          ],
          [
           "Jaan Happy New Year 2021 - 2020"
          ],
          [
           "YEARFIXZ2021"
          ],
          [
           "Astrit Brahja Orkestrale happy new year 2021"
          ],
          [
           "2021 Might Have to Be My Year"
          ],
          [
           "Happy new year 2021 (Deep house style)"
          ],
          [
           "A Mor Jaan Happy New Year 2021"
          ],
          [
           "Griting Naya Sal Ke - New Year Song 2021"
          ],
          [
           "Happy New Year 2021 (The DJ Kor Remixes)"
          ],
          [
           "Jingle Bells (Merry Christmas & Happy New Year 2021)"
          ],
          [
           "2021"
          ],
          [
           "2021"
          ],
          [
           "2021 New Years Mixtape (Punjabi v.s. HipHop Edition) [DJ NICK]"
          ],
          [
           "2021 Song"
          ],
          [
           "Number Mange Greeting Card Dukan Wala - Happy New Year 2021 Song"
          ],
          [
           "my philosophy 2021"
          ],
          [
           "Billions Light Years - Progressive Goa Psytrance 2021 Top 100 Hits DJ Mixed"
          ],
          [
           "The \" Brood X\" Periodical Cicada Will Emerge in 2021 After 17 Years"
          ],
          [
           "Anthem For The Year 2000"
          ],
          [
           "The Legend of 2000 Years"
          ],
          [
           "We're in the Year 2000"
          ],
          [
           "2000 Light Years from Home"
          ],
          [
           "Anthem For The Year 2000"
          ],
          [
           "From Petra to Istanbul, 2000 Years"
          ],
          [
           "Когда всё пошло не так - Year 2000"
          ],
          [
           "The Legend of 2000 Years (Bootleg version)"
          ],
          [
           "Billions Light Years"
          ],
          [
           "Happy New Year Bitch"
          ],
          [
           "7 Years"
          ],
          [
           "Billions Light Years"
          ],
          [
           "New Year Jazz Party"
          ],
          [
           "This Is Next Year"
          ],
          [
           "New Year - Version 6"
          ],
          [
           "New Year Collection 2019"
          ],
          [
           "New Year - Version 3"
          ],
          [
           "New Year - Version 1"
          ],
          [
           "New Year - Version 2"
          ],
          [
           "New Year - Piano Version"
          ],
          [
           "New Year - Version 5"
          ],
          [
           "New Year - Version 4"
          ],
          [
           "New Year Collection 2020"
          ],
          [
           "Happy Years"
          ],
          [
           "Country Dawg (early years)"
          ],
          [
           "Hard Year"
          ],
          [
           "Lunar New Year - Version 4"
          ],
          [
           "Magic New Year - Piano Version"
          ],
          [
           "Lunar New Year - Version 3"
          ],
          [
           "Lunar New Year - Version 2"
          ],
          [
           "Lunar New Year - Version 6"
          ],
          [
           "Lunar New Year - Version 5"
          ],
          [
           "Magic New Year - Version 5"
          ],
          [
           "Lunar New Year - Version 1"
          ],
          [
           "Magic New Year - Version 1"
          ],
          [
           "Lunar New Year - Piano Version"
          ],
          [
           "Magic New Year - Version 2"
          ],
          [
           "Magic New Year - Version 3"
          ],
          [
           "Magic New Year - Version 4"
          ],
          [
           "Happy New Year"
          ],
          [
           "Happy New Year (I Don't Want to Fight Tonight)"
          ],
          [
           "Lost a Ticked"
          ],
          [
           "Energy Driver - Extended Mix"
          ],
          [
           "Werd nicht alt"
          ],
          [
           "Stupid white men"
          ],
          [
           "Lauf"
          ],
          [
           "Phony Punk"
          ],
          [
           "Achse des Bösen"
          ],
          [
           "München"
          ],
          [
           "Ready for us"
          ],
          [
           "Picture"
          ],
          [
           "Hey Ya!"
          ],
          [
           "Crazy in Love"
          ],
          [
           "Here Without You"
          ],
          [
           "Big Yellow Taxi"
          ],
          [
           "Get My Party On"
          ],
          [
           "White Flag"
          ],
          [
           "California - From \"The O.C.\""
          ],
          [
           "Fighter"
          ],
          [
           "P.I.M.P."
          ],
          [
           "Reign"
          ],
          [
           "It's My Life"
          ],
          [
           "Going Under"
          ],
          [
           "Come Undone"
          ],
          [
           "Sorry Seems to Be the Hardest Word"
          ],
          [
           "Sing for the Moment"
          ],
          [
           "Where's the Love?"
          ],
          [
           "The Way You Move"
          ],
          [
           "When the Lights Go Down"
          ],
          [
           "Baby Boy"
          ],
          [
           "Bring Me to Life"
          ],
          [
           "Dance with My Father"
          ],
          [
           "Aicha"
          ],
          [
           "Feel Good Time - From \"Charlie's Angels: Full Throttle\""
          ],
          [
           "Come Away with Me"
          ],
          [
           "Satisfaction"
          ],
          [
           "Right Thurr"
          ],
          [
           "Shake Ya Tailfeather"
          ],
          [
           "I Drove All Night"
          ],
          [
           "In the Shadows"
          ],
          [
           "Shut Up"
          ],
          [
           "Mesmerize"
          ],
          [
           "Are You Happy Now?"
          ],
          [
           "Forever and for Always"
          ],
          [
           "Set Me Free - From \"Hulk\""
          ],
          [
           "Miss You"
          ],
          [
           "Get Busy"
          ],
          [
           "Tu Gereki Mere Juhuri"
          ],
          [
           "Ain't Talking to You (Lounge Version)"
          ],
          [
           "Start My Life"
          ],
          [
           "Done"
          ],
          [
           "Skyline - Arizona Mix"
          ],
          [
           "Russian Mail Order Bride"
          ],
          [
           "Take It"
          ],
          [
           "Bala Gelin"
          ],
          [
           "No Cover"
          ],
          [
           "Equilibrium - Original Mix"
          ],
          [
           "Time To Say Goodbye"
          ],
          [
           "Yeni Il"
          ],
          [
           "Nağıllar Dünyası"
          ],
          [
           "Ain't Talking to You (Alternative Version)"
          ],
          [
           "Ghost"
          ],
          [
           "Different Way - Woody Van Eyden Dub"
          ],
          [
           "Deniz"
          ],
          [
           "Kids Today"
          ],
          [
           "Motivation"
          ],
          [
           "Unexpected Error"
          ],
          [
           "Game Over - Version 1"
          ],
          [
           "And They Say Ox City"
          ],
          [
           "So What"
          ],
          [
           "Train of Thought - Original Mix"
          ],
          [
           "Kissed - Original Mix"
          ],
          [
           "Progress"
          ],
          [
           "Poetry"
          ],
          [
           "I Hate You Love"
          ],
          [
           "Xeyir Ola"
          ],
          [
           "Milgram Sheep"
          ],
          [
           "Two for Me, One for Jesus"
          ],
          [
           "I've Got a Dream"
          ],
          [
           "Sintra - Original Mix"
          ],
          [
           "Boogie Down Revolution"
          ],
          [
           "Everybodys Queen"
          ],
          [
           "Daddy's Little Girl"
          ],
          [
           "Ayrılsak da Beraberiz"
          ],
          [
           "Working Ant"
          ],
          [
           "B-Boy's Anthem"
          ],
          [
           "It Ain't Nothin' like"
          ],
          [
           "Nothing But The Fun Of It"
          ],
          [
           "Drop A Bomb"
          ],
          [
           "Lather, Rinse, Repeat"
          ],
          [
           "Shadows of My Reflection"
          ],
          [
           "Ugly Nation"
          ],
          [
           "Küsme Küsme"
          ],
          [
           "Tilt My Girl on the Tilt-a-Whirl"
          ],
          [
           "Date On A Plate"
          ],
          [
           "Giroshte Ruzho Juhuri"
          ],
          [
           "Everybody Rise"
          ],
          [
           "Popuri Juhuri"
          ],
          [
           "First Day Of Spring"
          ],
          [
           "Vurulmuşam"
          ],
          [
           "Now That You’re Gone"
          ],
          [
           "War"
          ],
          [
           "Brand New Day"
          ],
          [
           "Selfcentered Bastards"
          ],
          [
           "Giroshte Ruzho Juhuri Club"
          ],
          [
           "Futuristic - John Askew's Acid Mix"
          ],
          [
           "Get Her Grandma Drunk"
          ],
          [
           "Stalker"
          ],
          [
           "Slip"
          ],
          [
           "Yerine Sevemem"
          ],
          [
           "All or Nothing - Original Mix"
          ],
          [
           "Stay Away - Original Mix"
          ],
          [
           "K.i.a. - Original Mix"
          ],
          [
           "Danger - Original Mix"
          ],
          [
           "Drop - Original Mix"
          ],
          [
           "Moving On - Original Mix"
          ],
          [
           "Lluminate - Original Mix"
          ],
          [
           "Suspect - Apogee Remix"
          ],
          [
           "War"
          ],
          [
           "Brand New Day"
          ],
          [
           "Say the Words - Johan Ekman Remix"
          ],
          [
           "Treat You Better"
          ],
          [
           "Hideaway"
          ],
          [
           "Jealous - Remix"
          ],
          [
           "Love Myself"
          ],
          [
           "Stay"
          ],
          [
           "Wolves"
          ],
          [
           "This Girl - Kungs Vs. Cookin' On 3 Burners"
          ],
          [
           "Love Me Again"
          ],
          [
           "Best Day Of My Life - Single Version"
          ],
          [
           "Party Rock Anthem"
          ],
          [
           "Fancy"
          ],
          [
           "Party Rock Anthem"
          ],
          [
           "I Got U"
          ],
          [
           "Panda"
          ],
          [
           "Cake By The Ocean"
          ],
          [
           "Pianorolka - Mixed"
          ],
          [
           "State of Mind - Mixed"
          ],
          [
           "The Way You Treat Me - Mixed"
          ],
          [
           "Herr Glotz - Mixed"
          ],
          [
           "Beautiful World - Live in Holland, 2012"
          ],
          [
           "World of Madness - Defqon.1 Anthem 2012"
          ],
          [
           "The Pipe Hunter (Original 2012 Mix)"
          ],
          [
           "Long Ago - Live in Holland, 2012"
          ],
          [
           "Five Years & Change"
          ],
          [
           "Nothing Without You - Live in Holland, 2012"
          ],
          [
           "From Now On - Live in Holland, 2012"
          ],
          [
           "14 Hormonal Years - Ginola Remix"
          ],
          [
           "My Baby Said She Loved Me (Highway 125) [2012]"
          ],
          [
           "Semoga - Live at Jakarta Convention Center, Plenary Hall, Senayan, 2013"
          ],
          [
           "Lusaka Ritual (Elis Iluht's 2013 Drum & Bass Rerub)"
          ],
          [
           "Lara Melanda - Live at Jakarta Convention Center, Plenary Hall, Senayan, 2013"
          ],
          [
           "Tentang Kita - Live at Jakarta Convention Center, Plenary Hall, Senayan, 2013"
          ],
          [
           "Belahan Jiwa - Live at Jakarta Convention Center, Plenary Hall, Senayan, 2013"
          ],
          [
           "Mana Kutahu - Live at Jakarta Convention Center, Plenary Hall, Senayan, 2013"
          ],
          [
           "Waktu Tersisa - Live at Jakarta Convention Center, Plenary Hall, Senayan, 2013"
          ],
          [
           "Kidung Mesra - Live at Jakarta Convention Center, Plenary Hall, Senayan, 2013"
          ],
          [
           "Bahagia Tanpamu - Live at Jakarta Convention Center, Plenary Hall, Senayan, 2013"
          ],
          [
           "Jiwa Merapuh - Live at Jakarta Convention Center, Plenary Hall, Senayan, 2013"
          ],
          [
           "Anak Dara - Live at Jakarta Convention Center, Plenary Hall, Senayan, 2013"
          ],
          [
           "They Walk Among Us / 1000 Year Stare"
          ],
          [
           "Wasting My Young Years"
          ],
          [
           "Sudi Turun Kebumi - Live at Jakarta Convention Center, Plenary Hall, Senayan, 2013"
          ],
          [
           "Satu Kayuh Berdua - Live at Jakarta Convention Center, Plenary Hall, Senayan, 2013"
          ],
          [
           "Kau Pulihkan Luka - Live at Jakarta Convention Center, Plenary Hall, Senayan, 2013"
          ],
          [
           "Terpuruk Ku Disini - Live at Jakarta Convention Center, Plenary Hall, Senayan, 2013"
          ],
          [
           "Meski Tlah Jauh - Live at Jakarta Convention Center, Plenary Hall, Senayan, 2013"
          ],
          [
           "99 Year Blues - Live - Set 2"
          ],
          [
           "Tak Bisa Ke Lain Hati - Live at Jakarta Convention Center, Plenary Hall, Senayan, 2013"
          ],
          [
           "People Crossing The City At The End Of The Year"
          ],
          [
           "3years All My Love"
          ],
          [
           "Accelerate (Official XXlerator Anthem 2014)"
          ],
          [
           "In a Dark Place (2014)"
          ],
          [
           "A Little Bit Free - 2014 remastered"
          ],
          [
           "La La La (Brazil 2014)"
          ],
          [
           "Monsters (MrDEGHT's 2014 Night Edit)"
          ],
          [
           "You Don't Know My Mind (2014)"
          ],
          [
           "One Piece of Your Heart - 2014 remastered"
          ],
          [
           "Another Bad Year"
          ],
          [
           "Dhahabu Meets Elis Iluht (Original 2014 Mix)"
          ],
          [
           "Re: T. S. Eliot // 2015-2020"
          ],
          [
           "Stoneheart (2015)"
          ],
          [
           "Guilt (2015)"
          ],
          [
           "2015"
          ],
          [
           "2015 Suicidal"
          ],
          [
           "Heartless One (2015)"
          ],
          [
           "Harmony (2015)"
          ],
          [
           "Bass Down Low (2015)"
          ],
          [
           "Nature (2015) - Uplifting Mix"
          ],
          [
           "Walk on Boy (2015)"
          ],
          [
           "Hallmansgården 2015-12-06"
          ],
          [
           "All Year Summer"
          ],
          [
           "Philosophy Of Life (2016)"
          ],
          [
           "Back Block of Brooklyn 2016"
          ],
          [
           "Slumz 2016 - 2017 (Bonus Track)"
          ],
          [
           "New Year Eve 2019"
          ],
          [
           "Love Hangover - 2016 Remaster Edit"
          ],
          [
           "7 Years"
          ],
          [
           "Shabaneh (2017)"
          ],
          [
           "10 YEARS FROM NOW (Live at Irorikan, Kozagawa, 2018)"
          ],
          [
           "Angel - 2018"
          ],
          [
           "Alone (2018)"
          ],
          [
           "I will not send New Year's cards anymore (Live at Irorikan, Kozagawa, 2018)"
          ],
          [
           "Eclipse - 2018 Remaster"
          ],
          [
           "Live It - 2018"
          ],
          [
           "Technoisj - 2018 Remaster"
          ],
          [
           "Demoniac Woman - 2018"
          ],
          [
           "Rock'n'roll Greetings - 2018"
          ],
          [
           "The Raid - 2018"
          ],
          [
           "Part 6 (2004 - 2018)"
          ],
          [
           "Sepia Tone (2018)"
          ],
          [
           "Shah Rah (2018)"
          ],
          [
           "New Year 2020"
          ],
          [
           "Noi_sj-04 - 2018 Remaster"
          ],
          [
           "You're the One - 2018"
          ],
          [
           "Distorted Sentience - 2018 Remaster"
          ],
          [
           "For Beauty's Sake - 2018"
          ],
          [
           "Oppressed Masses - 2018 Remaster"
          ],
          [
           "Waiting for You - 2018"
          ],
          [
           "Marching Out - 2018 Remaster"
          ],
          [
           "Reunion after a Couple of Years"
          ],
          [
           "Dark Water - Rework 2019"
          ],
          [
           "Reunion after a Couple of Years"
          ],
          [
           "Reunion after a Couple of Years"
          ],
          [
           "Sweet Freedom - Live 2019"
          ],
          [
           "Good Neighbor - Live 2019"
          ],
          [
           "The Wolf - Live 2019"
          ],
          [
           "Fathers Nose - Live 2019"
          ],
          [
           "Party Girl"
          ],
          [
           "Take Me Back"
          ],
          [
           "TKN (feat. Travis Scott)"
          ],
          [
           "Dancing In The Dark with Christian Burns - Alex M.O.R.P.H. Remix"
          ],
          [
           "TRELLAS"
          ],
          [
           "Loneliest Time Of Year"
          ],
          [
           "Graveyard"
          ],
          [
           "I Need Your Lovin' (Like The Sunshine)"
          ],
          [
           "r u ok"
          ],
          [
           "I Need You To Know"
          ],
          [
           "drunk face"
          ],
          [
           "We Are The World"
          ],
          [
           "Champagne Night - From Songland"
          ],
          [
           "The Death of the Cog (Remastered 2020)"
          ],
          [
           "Yikes"
          ],
          [
           "Lailonie - Mixed"
          ],
          [
           "FRANCHISE (feat. Future, Young Thug & M.I.A.) - REMIX"
          ],
          [
           "Water - Mixed"
          ],
          [
           "Lemonade (Feat. Roddy Ricch & Don Toliver) [Remix]"
          ],
          [
           "Colours - Mixed"
          ],
          [
           "Oprah’s Bank Account (Lil Yachty & DaBaby feat. Drake)"
          ],
          [
           "Blue Monday - Mixed"
          ],
          [
           "I Love Me"
          ],
          [
           "Under The Mistletoe"
          ],
          [
           "All That I Can - Mixed"
          ],
          [
           "Baby, I'm Jealous (feat. Doja Cat)"
          ],
          [
           "Clones - 2020 - Remaster"
          ],
          [
           "Nah Nah Nah (feat. DaBaby & 2 Chainz) - Remix"
          ],
          [
           "In The Party"
          ],
          [
           "Level of Concern"
          ],
          [
           "Cozy Fire"
          ],
          [
           "illicit affairs"
          ],
          [
           "Ever Forward"
          ],
          [
           "That Way"
          ],
          [
           "Teen X (feat. Future)"
          ],
          [
           "On Me (feat. Ava Max)"
          ],
          [
           "Midnight (feat. Liam Payne)"
          ],
          [
           "Last Night"
          ],
          [
           "We Go Together Like"
          ],
          [
           "London Love Letters"
          ],
          [
           "Sept. 16"
          ],
          [
           "Velocities"
          ],
          [
           "The Climb Back"
          ],
          [
           "Les Vacances"
          ],
          [
           "mirrorball"
          ],
          [
           "The Thrill"
          ],
          [
           "Let You Go - Mixed"
          ],
          [
           "Bean (Kobe) [feat. Chief Keef]"
          ],
          [
           "Sacrifice - Mixed"
          ],
          [
           "Come & Go (with Marshmello)"
          ],
          [
           "Afterglow - Kryder Remix (Mixed)"
          ],
          [
           "CRY FOR ME"
          ],
          [
           "Reverie - Above & Beyond Club Mix (Mixed)"
          ],
          [
           "Alien Boy"
          ],
          [
           "Days Pass - Mixed"
          ],
          [
           "ON"
          ],
          [
           "Many Men"
          ],
          [
           "Cyberpunk (FYHYM2020)"
          ],
          [
           "ALL GIRLS ARE THE SAME"
          ],
          [
           "Cova (FYHYM2020)"
          ],
          [
           "this is me trying"
          ],
          [
           "NVRLND (FYHYM2020)"
          ],
          [
           "Toxic"
          ],
          [
           "Black Is The Colour Of My True Love's Hair - Live In Dublin / Remastered 2020"
          ],
          [
           "What That Speed Bout!?"
          ],
          [
           "Never Going Down - Richard Durand Remix"
          ],
          [
           "The Pale Moonlight"
          ],
          [
           "Walk Through Walls - Markus Schulz Remix"
          ],
          [
           "MORE"
          ],
          [
           "All For Love - Giuseppe Ottaviani Remix"
          ],
          [
           "GTA (feat. 42 Dugg)"
          ],
          [
           "Enigma - Extended Mix"
          ],
          [
           "fuck, i'm lonely (with Anne-Marie)"
          ],
          [
           "Embers"
          ],
          [
           "B.B. King Freestyle (with Drake)"
          ],
          [
           "comfortable"
          ],
          [
           "Prospect (ft. Lil Baby)"
          ],
          [
           "bringmesun"
          ],
          [
           "seven"
          ],
          [
           "Casual"
          ],
          [
           "Brothers (feat. Luh Kel)"
          ],
          [
           "Cloud Dance"
          ],
          [
           "Psycho!"
          ],
          [
           "Sonar"
          ],
          [
           "Stupid Love"
          ],
          [
           "Anywhere But Here"
          ],
          [
           "Agua (with J Balvin) - Music From \"Sponge On The Run\" Movie"
          ],
          [
           "Can’t Find the Words"
          ],
          [
           "Control"
          ],
          [
           "Calm The Storm (FYHYM2020)"
          ],
          [
           "queen of broken hearts"
          ],
          [
           "Lagoons"
          ],
          [
           "Lady"
          ],
          [
           "Fireplace"
          ],
          [
           "Out Of Love (feat. Internet Money)"
          ],
          [
           "Secret (FYHYM2020) - KhoMha Remix"
          ],
          [
           "Lord I Know"
          ],
          [
           "Die Landstreicher: Ouvertüre"
          ],
          [
           "Baby"
          ],
          [
           "Radetzky-Marsch, Op. 228"
          ],
          [
           "This Side of Paradise"
          ],
          [
           "Polvo"
          ],
          [
           "The Darkest Light - Myon Club Mix (Mixed)"
          ],
          [
           "Una Vez"
          ],
          [
           "Lucky Ones - Leaving Laurel Remix (Mixed)"
          ],
          [
           "Freak (feat. REI AMI)"
          ],
          [
           "Stranger - Mixed"
          ],
          [
           "no body, no crime (feat. HAIM)"
          ],
          [
           "Wherever You Go (FYHYM2020) - Eximinds Remix"
          ],
          [
           "WTF Do I Know"
          ],
          [
           "Our Song (FYHYM2020) - Orjan Nilsen Remix"
          ],
          [
           "I Am (feat. Flo Milli)"
          ],
          [
           "Seven Cities - Tom Staar Remix"
          ],
          [
           "Falling"
          ],
          [
           "Stars Collide"
          ],
          [
           "Not A Rapper (feat. Lil Baby & Yo Gotti)"
          ],
          [
           "Loverboy (Remastered 2020)"
          ],
          [
           "Eenie Meenie"
          ],
          [
           "Ice Cream (with Selena Gomez)"
          ],
          [
           "Hearts on Fire"
          ],
          [
           "Another"
          ],
          [
           "Clock, Time of Live!"
          ],
          [
           "Nightlight"
          ],
          [
           "Like Me (feat. iann dior)"
          ],
          [
           "Void"
          ],
          [
           "Wonder"
          ],
          [
           "I Would've Stayed (Mixed)"
          ],
          [
           "Elsie's Baby Boy (flashback)"
          ],
          [
           "Beautiful Chains (Mixed)"
          ],
          [
           "Mente Positiva"
          ],
          [
           "Becoming (Mixed)"
          ],
          [
           "Young & Alive"
          ],
          [
           "Book of Rhymes (feat. DJ Premier)"
          ],
          [
           "Somebody (FYHYM2020)"
          ],
          [
           "Starting Over"
          ],
          [
           "Stay (FYHYM2020)"
          ],
          [
           "Already Best Friends (feat. Chris Brown)"
          ],
          [
           "Pieces (FYHYM2020)"
          ],
          [
           "I Need You Christmas"
          ],
          [
           "Heartcore (FYHYM2020)"
          ],
          [
           "4 Da Kidz"
          ],
          [
           "Imagination"
          ],
          [
           "Amazing Grace (My Chains Are Gone)"
          ],
          [
           "Such Great Heights"
          ],
          [
           "Over Now (with The Weeknd)"
          ],
          [
           "Sundown"
          ],
          [
           "Better Off Dead"
          ],
          [
           "Back (feat. Yo Gotti)"
          ],
          [
           "400 Years"
          ],
          [
           "Desde Morro"
          ],
          [
           "The Depths Below (Remastered 2020)"
          ],
          [
           "Internet Ruined Me"
          ],
          [
           "Better One (FYHYM2020)"
          ],
          [
           "All I Want"
          ],
          [
           "The Launch (FYHYM2020)"
          ],
          [
           "COOLER THAN A BITCH (feat. Roddy Ricch)"
          ],
          [
           "Stars Collide (FYHYM2020)"
          ],
          [
           "Más De La Una"
          ],
          [
           "Manaya - Mixed"
          ],
          [
           "When You Down (with Polo G feat. Lil Durk)"
          ],
          [
           "Tower - Mixed"
          ],
          [
           "Christmas Without You"
          ],
          [
           "Surreal - Mixed"
          ],
          [
           "Can I"
          ],
          [
           "Heat Waves"
          ],
          [
           "Overtones - Mixed"
          ],
          [
           "MAYBE"
          ],
          [
           "Dawn"
          ],
          [
           "Jenny (I Wanna Ruin Our Friendship)"
          ],
          [
           "Somebody Loves You (FYHYM2020)"
          ],
          [
           "Do It"
          ],
          [
           "Happy New Year"
          ],
          [
           "Old Streets"
          ],
          [
           "Capacitor"
          ],
          [
           "Grace (feat. 42 Dugg)"
          ],
          [
           "On The Board"
          ],
          [
           "Lasting Lover"
          ],
          [
           "Fight For Your Dreams - Extended Mix"
          ],
          [
           "My Kind Of Present"
          ],
          [
           "The First Step"
          ],
          [
           "Stacy"
          ],
          [
           "Malam (FYHYM2020) - Richard Durand Remix"
          ],
          [
           "Lonely"
          ],
          [
           "Till We Meet Again (FYHYM2020)"
          ],
          [
           "Billions Light Years"
          ],
          [
           "Happy New Year Bitch"
          ],
          [
           "7 Years"
          ],
          [
           "Billions Light Years"
          ],
          [
           "New Year Jazz Party"
          ],
          [
           "This Is Next Year"
          ],
          [
           "New Year - Version 6"
          ],
          [
           "New Year Collection 2019"
          ],
          [
           "New Year - Version 3"
          ],
          [
           "New Year - Version 1"
          ],
          [
           "New Year - Version 2"
          ],
          [
           "New Year - Piano Version"
          ],
          [
           "New Year - Version 5"
          ],
          [
           "New Year - Version 4"
          ],
          [
           "New Year Collection 2020"
          ],
          [
           "Happy Years"
          ],
          [
           "Country Dawg (early years)"
          ],
          [
           "Hard Year"
          ],
          [
           "Lunar New Year - Version 4"
          ],
          [
           "Magic New Year - Piano Version"
          ],
          [
           "Lunar New Year - Version 3"
          ],
          [
           "Lunar New Year - Version 2"
          ],
          [
           "Lunar New Year - Version 6"
          ],
          [
           "Lunar New Year - Version 5"
          ],
          [
           "Magic New Year - Version 5"
          ],
          [
           "Lunar New Year - Version 1"
          ],
          [
           "Magic New Year - Version 1"
          ],
          [
           "Lunar New Year - Piano Version"
          ],
          [
           "Magic New Year - Version 2"
          ],
          [
           "Magic New Year - Version 3"
          ],
          [
           "Magic New Year - Version 4"
          ],
          [
           "Happy New Year"
          ],
          [
           "Happy New Year (I Don't Want to Fight Tonight)"
          ],
          [
           "Lost a Ticked"
          ],
          [
           "Energy Driver - Extended Mix"
          ],
          [
           "A 2000-year-old pretty teenage vampire girl"
          ],
          [
           "2000 Light Years Away (8-Bit Computer Game Version)"
          ],
          [
           "2000"
          ],
          [
           "Smile House 2000"
          ],
          [
           "Disco 2000"
          ],
          [
           "2000 Guns - Edit"
          ],
          [
           "When I Sleep [Demo 2000]"
          ],
          [
           "7 Years"
          ],
          [
           "10 Thousand Years - Remastered"
          ],
          [
           "My First Two Years"
          ],
          [
           "Тати"
          ],
          [
           "Fuga"
          ],
          [
           "Close Your Eyes"
          ],
          [
           "Spirits In My Life - Vatan Remix"
          ],
          [
           "Sorry"
          ],
          [
           "Captain"
          ],
          [
           "Colorful"
          ],
          [
           "Cocoon"
          ],
          [
           "Mental Disorder"
          ],
          [
           "Fuck the Shit"
          ],
          [
           "X-10"
          ],
          [
           "Kids Under Speeds"
          ],
          [
           "Control - Drum & Bass Mix"
          ],
          [
           "See You Light"
          ],
          [
           "Atmosphere"
          ],
          [
           "Strike"
          ],
          [
           "See You Light"
          ],
          [
           "Анаконда"
          ],
          [
           "Thunder"
          ],
          [
           "God of War"
          ],
          [
           "No No"
          ],
          [
           "Close"
          ],
          [
           "Ur so F**kIng COol"
          ],
          [
           "Rush - Hotknife Remix"
          ],
          [
           "Hot In Herre"
          ],
          [
           "Ocean Breeze - Radio Edit"
          ],
          [
           "Bella Ciao - Radio Edit"
          ],
          [
           "Intentions"
          ],
          [
           "Gossamer - ANTON%F Remix"
          ],
          [
           "Stop This Flame"
          ],
          [
           "21 Questions"
          ],
          [
           "Anyone of Us"
          ],
          [
           "No Letting Go"
          ],
          [
           "Love's Divine"
          ],
          [
           "Señorita"
          ],
          [
           "Rock Your Body"
          ],
          [
           "Seven Nation Army"
          ],
          [
           "Bump Bump Bump"
          ],
          [
           "In Da Club"
          ],
          [
           "Like Glue"
          ],
          [
           "Move Your Feet"
          ],
          [
           "Trouble"
          ],
          [
           "Never Leave You (Uh Ooh, Uh Oooh)"
          ],
          [
           "Metaltheme"
          ],
          [
           "Everybodys Queen"
          ],
          [
           "Working Ant"
          ],
          [
           "Poetry"
          ],
          [
           "Asshole Of The Month"
          ],
          [
           "Date On A Plate"
          ],
          [
           "Nothing But The Fun Of It"
          ],
          [
           "Drop A Bomb"
          ],
          [
           "First Day Of Spring"
          ],
          [
           "Now That You’re Gone"
          ],
          [
           "Selfcentered Bastards"
          ],
          [
           "Relativity - Greg Downey Remix"
          ],
          [
           "Welcome To Our Show"
          ],
          [
           "Start My Life"
          ],
          [
           "We Can’t Skate"
          ],
          [
           "The Rider - Arc In The Sky Mix"
          ],
          [
           "Unexpected Error"
          ],
          [
           "Blackout - Original Mix"
          ],
          [
           "So What"
          ],
          [
           "Progress"
          ],
          [
           "Nairobi - Alex M.O.R.P.H's Synthetic Empire Remix"
          ],
          [
           "Troublebound"
          ],
          [
           "Different Way - Electraglide Club Mix"
          ],
          [
           "Tranquility Bass - Original Mix"
          ],
          [
           "Vainqueur - 7AM At Heavens Gate Mix"
          ],
          [
           "Electraglide - Original Mix"
          ],
          [
           "Flow - John O'Callaghan Remix"
          ],
          [
           "Ugly Nation"
          ],
          [
           "My Shoes"
          ],
          [
           "Get Her Grandma Drunk"
          ],
          [
           "Stalker"
          ],
          [
           "Slip"
          ],
          [
           "Kids Today"
          ],
          [
           "Astra - Original Mix"
          ],
          [
           "Motivation"
          ],
          [
           "Time To Say Goodbye"
          ],
          [
           "Touch the Sky"
          ],
          [
           "Ain't No Other Man"
          ],
          [
           "London Bridge"
          ],
          [
           "Candyman"
          ],
          [
           "Buttons"
          ],
          [
           "Hips Don't Lie"
          ],
          [
           "Sexyback"
          ],
          [
           "U and Ur Hand"
          ],
          [
           "Upside Down - From \"Curious George\""
          ],
          [
           "I Belong to You (Il Ritmo Della Passione)"
          ],
          [
           "Rock This Party (Everybody Dance Now)"
          ],
          [
           "Smile"
          ],
          [
           "Glamorous"
          ],
          [
           "Goodbye My Lover"
          ],
          [
           "Take the Lead (Wanna Ride)"
          ],
          [
           "Boogie 2Nite"
          ],
          [
           "Distance - Original Mix"
          ],
          [
           "Chime - Original Mix"
          ],
          [
           "Black - Original Mix"
          ],
          [
           "Halfway Home - Peetu S Remix"
          ],
          [
           "Season - Original Mix"
          ],
          [
           "The Road Less Travelled"
          ],
          [
           "Express - Original Mix"
          ],
          [
           "Miss Understood"
          ],
          [
           "B-Boy's Anthem"
          ],
          [
           "It Ain't Nothin' like"
          ],
          [
           "Giving You Acid - Original Mix"
          ],
          [
           "One Way - Original Mix"
          ],
          [
           "Salt Drops - Original Mix"
          ],
          [
           "The Vault - John Askew Remix"
          ],
          [
           "Faceplant - Original Mix"
          ],
          [
           "You - Original Mix"
          ],
          [
           "Lost Odyssey - Original Mix"
          ],
          [
           "The Door - Activa Remix"
          ],
          [
           "Shade of Your Soul - Sly One Vs Jurrane Remix"
          ],
          [
           "I Am DJ - Original Mix"
          ],
          [
           "Vandalism - Original Mix"
          ],
          [
           "I Got U"
          ],
          [
           "Panda"
          ],
          [
           "Cake By The Ocean"
          ],
          [
           "Let Me Go"
          ],
          [
           "Blurred Lines - Physical Version"
          ],
          [
           "Ain't Nobody (Loves Me Better)"
          ],
          [
           "Pompeii"
          ],
          [
           "I Took A Pill In Ibiza - Seeb Remix"
          ],
          [
           "Hold Back The River"
          ],
          [
           "Wake Me Up - Radio Edit"
          ],
          [
           "On My Mind"
          ],
          [
           "I Will Follow You - Early Demo"
          ],
          [
           "Vicious Circle"
          ],
          [
           "Mexico - Early Demo"
          ],
          [
           "On My Mind - Early Demo"
          ],
          [
           "Therapeutic"
          ],
          [
           "I Will Follow You"
          ],
          [
           "Cage - Early Demo"
          ],
          [
           "Mexico"
          ],
          [
           "False - Alvaro Hylander Remix - Mixed"
          ],
          [
           "Round Numbers - Mixed"
          ],
          [
           "Cream Soda - Blakkat Remix - Mixed"
          ],
          [
           "Just A Dream - Mixed"
          ],
          [
           "Station Novembre - Mixed"
          ],
          [
           "Tears from Spain - Mixed"
          ],
          [
           "Forgotten By The Universe - Jeff Fontaine and Deep Spelle Lost In Space Remix - Mixed"
          ],
          [
           "Everything to Me - Giuseppe Ottaviani Remix"
          ],
          [
           "Shrinks Suck"
          ],
          [
           "Velocity - Original Mix"
          ],
          [
           "Dub 4 Delightin' & Not Debatin' (Elis Iluht's 2012 Why & How Edit)"
          ],
          [
           "Kekkonnouta"
          ],
          [
           "The World Turned White Again"
          ],
          [
           "Cesare's Song"
          ],
          [
           "The Overwhelming Flame"
          ],
          [
           "Chronos"
          ],
          [
           "Another Image Taken from a Dream"
          ],
          [
           "Spaces"
          ],
          [
           "Slip Through the Cracks"
          ],
          [
           "Icarus"
          ],
          [
           "I'm Losing You - Live at London Palladium, 2014"
          ],
          [
           "Good Feelin' About It - Live at London Palladium, 2014"
          ],
          [
           "One in a Million - Live at London Palladium, 2014"
          ],
          [
           "Come Rain or Shine - Live at London Palladium, 2014"
          ],
          [
           "Time Waits for No One - Live at London Palladium, 2014"
          ],
          [
           "I Think It's Going to Rain Today - Live at London Palladium, 2014"
          ],
          [
           "Svt Kulturnyheterna 2015-12-02"
          ],
          [
           "The New Year"
          ],
          [
           "All My Years"
          ],
          [
           "30 years old"
          ],
          [
           "Out There (Robert Nickson 2016 Remix) - Mixed"
          ],
          [
           "Spread Love - Dave Lee 2016 Retouch Edit"
          ],
          [
           "7 Years"
          ],
          [
           "Can't Get High Without You - 2016 Remaster Edit"
          ],
          [
           "Home (2017)"
          ],
          [
           "Setareh (2017)"
          ],
          [
           "Eternal Being (2017)"
          ],
          [
           "Alininha 2017"
          ],
          [
           "2017 Kaise Mani"
          ],
          [
           "Turn This Train (2017)"
          ],
          [
           "The Last Time (2017)"
          ],
          [
           "Slumz 2016 - 2017 (Bonus Track)"
          ],
          [
           "Life Ain't Fair (Jul 2017)"
          ],
          [
           "Alone - September 2017 Demo"
          ],
          [
           "New Year Eve 2019"
          ],
          [
           "A Fine Sin - 2018 Remaster"
          ],
          [
           "Im So Dope (Jan 2018)"
          ],
          [
           "Count Us In - 2018 Remaster"
          ],
          [
           "Machine of Death - 2018 Remaster"
          ],
          [
           "What's That Noisj - 2018 Remaster"
          ],
          [
           "Listen & Learn - 2018 Remaster"
          ],
          [
           "Egad - Winter 2018 Demo"
          ],
          [
           "Caged Fury - Part 1 - 2018 Remaster"
          ],
          [
           "Carefree - Live, Berlin, 2018"
          ],
          [
           "E Samba 2018 - Original Short Edit"
          ],
          [
           "Battlefield - Carnage & Cluster Remix - 2018 Remaster"
          ],
          [
           "Evolution - Helios Is Dead Remix - 2018 Remaster"
          ],
          [
           "An Angel - Live 2019"
          ],
          [
           "White Christmas - Live 2019"
          ],
          [
           "Ares Qui - Live 2019"
          ],
          [
           "She's Crazy - Live 2019"
          ],
          [
           "Break Free - Live 2019"
          ],
          [
           "24 Nights (Dec 2019)"
          ],
          [
           "El Camino - Live 2019"
          ],
          [
           "Six S Nov (2019)"
          ],
          [
           "First Time - Live 2019"
          ],
          [
           "Black Ops (Oct 2019)"
          ],
          [
           "Baby Smile - Live 2019"
          ],
          [
           "Technology [generation 2018-2019]."
          ],
          [
           "The Remix of Dance 2019"
          ],
          [
           "Night Sky - 2019 Mix"
          ],
          [
           "Baila Mi Corazon - Live 2019"
          ],
          [
           "Roses Of Red - Live 2019"
          ],
          [
           "Why Why Why - Live 2019"
          ],
          [
           "Over The Hump - Live 2019"
          ],
          [
           "Dat's So True (Sep 2019)"
          ],
          [
           "Oh Holy Night - Live 2019"
          ],
          [
           "The Raid - Acoustic Session 2019"
          ],
          [
           "Take My Hand - Live 2019"
          ],
          [
           "Cover The Road - Live 2019"
          ],
          [
           "Glimpse of a Dream (2019)"
          ],
          [
           "388859 (flumpool Year-End Live\"FOR ROOTS\" Shiroten Feels Once More at Osaka Jo-Hall 2019.12.30)"
          ],
          [
           "Harukaze (flumpool Year-End Live\"FOR ROOTS\" Shiroten Feels Once More at Osaka Jo-Hall 2019.12.30)"
          ],
          [
           "Falling - November 2019 Demo"
          ],
          [
           "HELP (flumpool Year-End Live\"FOR ROOTS\" Shiroten Feels Once More at Osaka Jo-Hall 2019.12.30)"
          ],
          [
           "I Was Born About Four Thousand Years Ago - In the Shadow of the Hill Outtake, 2019"
          ],
          [
           "Brace Yourself (IMPAQT 2019 Anthem)"
          ],
          [
           "I Can't Help Myself - Live 2019"
          ],
          [
           "We Are The World - Live 2019"
          ],
          [
           "Let My People Go - Live 2019"
          ],
          [
           "Once In A While - Live 2019"
          ],
          [
           "We Had A Dream - Live 2019"
          ],
          [
           "Key To My Heart - Live 2019"
          ],
          [
           "Path Of You (2019) - Darbuka Version"
          ],
          [
           "Jack Names the Planets - 2019 - Remaster"
          ],
          [
           "Blues Loop - Fall 2019 Demo"
          ],
          [
           "Alfred’s Theme"
          ],
          [
           "King"
          ],
          [
           "Blinding Lights (with ROSALÍA) - Remix"
          ],
          [
           "One Margarita"
          ],
          [
           "Ando Más Que Mal"
          ],
          [
           "Catharsis - Mixed"
          ],
          [
           "Wayne's Story"
          ],
          [
           "2020 (New Year)"
          ],
          [
           "Redman"
          ],
          [
           "Let's Put the Year to Bed"
          ],
          [
           "Lonely (with Jonas Brothers)"
          ],
          [
           "secret base 〜君がくれたもの〜(10 years after Ver.) (あの日見た花の名前を僕達はまだ知らない。)"
          ],
          [
           "Havin My Way (feat. Lil Durk)"
          ],
          [
           "The Legacy - ReOrder Remix"
          ],
          [
           "One Whole Day (feat. Wiz Khalifa)"
          ],
          [
           "Illusion"
          ],
          [
           "The Lighthouse Keeper"
          ],
          [
           "Isis (feat. Logic)"
          ],
          [
           "Never Really Get There - Mixed"
          ],
          [
           "‘tis the damn season"
          ],
          [
           "Tunnel Vision - Mixed"
          ],
          [
           "Gimme What I Want"
          ],
          [
           "Giant Steps - Mixed"
          ],
          [
           "Just About Over You - Radio Edit"
          ],
          [
           "The Next Chapter - Mixed"
          ],
          [
           "Time Flies"
          ],
          [
           "The Adventures of Moon Man & Slim Shady (with Eminem)"
          ],
          [
           "Letter From Houston"
          ],
          [
           "Something Bigger - Elevven Remix (Mixed)"
          ],
          [
           "Narrow Road (feat. Lil Baby)"
          ],
          [
           "Night Crawling (feat. Billy Idol)"
          ],
          [
           "The Launch - Mixed"
          ],
          [
           "Heatin Up (feat. Gunna)"
          ],
          [
           "The Sound Of Letting Go (Tribute To Yotam) [FYHYM2020]"
          ],
          [
           "Deep End Freestyle"
          ],
          [
           "Bichiyal"
          ],
          [
           "CANCIÓN CON YANDEL"
          ],
          [
           "Cult"
          ],
          [
           "All These Niggas (feat. Lil Durk)"
          ],
          [
           "A State Of Trance (ASOT 987) - ASOT Tune Of The Year 2020 Random Tracks"
          ],
          [
           "A Little Bit Yours"
          ],
          [
           "The Most Wonderful Time Of The Year - Live From The Royal Albert Hall / 2020"
          ],
          [
           "Mmmh"
          ],
          [
           "Girls in the Hood"
          ],
          [
           "F2020"
          ],
          [
           "We Ball"
          ],
          [
           "Awakening (FYHYM2020)"
          ],
          [
           "Deep Sleep Recovery Noise"
          ],
          [
           "Oblivion (FYHYM2020)"
          ],
          [
           "Despeinada"
          ],
          [
           "Stardust (FYHYM2020)"
          ],
          [
           "Fade Away"
          ],
          [
           "Happy New Year - 2020 Edit"
          ],
          [
           "Bih Yah"
          ],
          [
           "The Journey (FYHYM2020)"
          ],
          [
           "Drip Like ME"
          ],
          [
           "Mindreader"
          ],
          [
           "Levitating"
          ],
          [
           "Another You (FYHYM2020)"
          ],
          [
           "I Like Him"
          ],
          [
           "I Believe (FYHYM2020)"
          ],
          [
           "Don’t Stop (feat. Young Thug)"
          ],
          [
           "2020: One Hell of a Year"
          ],
          [
           "What If I Told You That I Love You"
          ],
          [
           "Hold Me Now (Mixed)"
          ],
          [
           "None of Your Love"
          ],
          [
           "Can I Count On You (Mixed)"
          ],
          [
           "FIND MY WAY"
          ],
          [
           "Time To Play (FYHYM2020)"
          ],
          [
           "Lonely If You Are"
          ],
          [
           "In My Mind (FYHYM2020)"
          ],
          [
           "Armed & Dangerous"
          ],
          [
           "Tale Of Light (FYHYM2020)"
          ],
          [
           "Drinkin' Beer. Talkin' God. Amen. (feat. Florida Georgia Line)"
          ],
          [
           "You'll Be OK (FYHYM2020)"
          ],
          [
           "Higher"
          ],
          [
           "Back To Life (FYHYM2020)"
          ],
          [
           "Jeans"
          ],
          [
           "This I Vow (FYHYM2020)"
          ],
          [
           "Kyoto"
          ],
          [
           "Into The Light - Mixed"
          ],
          [
           "(i hope you) miss me"
          ],
          [
           "Recovery (John O’Callaghan Remix) - Mixed"
          ],
          [
           "Backdoor"
          ],
          [
           "Life Half Lived - Mixed"
          ],
          [
           "Cabin Fever"
          ],
          [
           "Jupiter Boulevard - Taylor Torrence Remix"
          ],
          [
           "Boku no Sensou - TV Size"
          ],
          [
           "Punisher"
          ],
          [
           "Together"
          ],
          [
           "I Am The God (FYHYM2020)"
          ],
          [
           "Zoo York (feat. Fivio Foreign & Pop Smoke)"
          ],
          [
           "We Are The World (FYHYM2020)"
          ],
          [
           "Dough"
          ],
          [
           "Afterlight (FYHYM2020) - Extended Club Mix"
          ],
          [
           "Excitement (feat. PARTYNEXTDOOR)"
          ],
          [
           "D.A.A.D. (FYHYM2020)"
          ],
          [
           "Sum 2 Prove"
          ],
          [
           "Welcome To Your Life (FYHYM2020)"
          ],
          [
           "Lo Mein"
          ],
          [
           "Heart Of Glass (Live from the iHeart Festival)"
          ],
          [
           "Tone Deaf"
          ],
          [
           "Tattoos Together"
          ],
          [
           "Turning Point (FYHYM2020) - Billy Gillies Remix"
          ],
          [
           "Physical"
          ],
          [
           "Leichte Kavallerie: Ouvertüre"
          ],
          [
           "Guns Blazing (feat. Dr. Dre & Sly Pyper)"
          ],
          [
           "peace"
          ],
          [
           "Liebesgrüße, Walzer, Op. 56"
          ],
          [
           "Demon"
          ],
          [
           "Liechtenstein-Marsch, Op. 36"
          ],
          [
           "Slidin"
          ],
          [
           "That Way - Bonus Track"
          ],
          [
           "The Light - Mixed"
          ],
          [
           "Pardon (feat. Lil Baby)"
          ],
          [
           "Words Cannot Describe - 2020 Version"
          ],
          [
           "Then Leave (feat. Queendome Come)"
          ],
          [
           "Del Mar"
          ],
          [
           "SELFISH"
          ],
          [
           "Coffee (feat. Marc E. Bassy)"
          ],
          [
           "Listen"
          ],
          [
           "Stayin Alive"
          ],
          [
           "Never Going Down (FYHYM2020) - Richard Durand Remix"
          ],
          [
           "Perfect"
          ],
          [
           "What Have I Got To Lose (FYHYM2020)"
          ],
          [
           "Beautiful Pain (Losin My Mind)"
          ],
          [
           "hole in the bottle (with Shania Twain)"
          ],
          [
           "Momma’s House"
          ],
          [
           "Shake The Room (feat. Quavo)"
          ],
          [
           "In Search Of Sunrise (FYHYM2020) - Dream Sequence Remix"
          ],
          [
           "Whats Poppin (feat. DaBaby, Tory Lanez & Lil Wayne) [Remix] - Bonus Track"
          ],
          [
           "I Need Your Lovin' (Like The Sunshine) [FYHYM2020]"
          ],
          [
           "T.D (Lil Yachty & Tierra Whack feat. A$AP Rocky & Tyler, The Creator)"
          ],
          [
           "The Phuture"
          ],
          [
           "Under My Skin"
          ],
          [
           "Clouds - Mixed"
          ],
          [
           "Beautiful Trip"
          ],
          [
           "Silent Waves - Mixed"
          ],
          [
           "2020 Freestyle"
          ],
          [
           "Winden - Mixed"
          ],
          [
           "33"
          ],
          [
           "Meraxes - Mixed"
          ],
          [
           "Cigarette Ahegao"
          ],
          [
           "High Right Now (feat. Wiz Khalifa) - Remix"
          ],
          [
           "Commercial (feat. Lil Uzi Vert)"
          ],
          [
           "Gimme Love"
          ],
          [
           "Dirt Road"
          ],
          [
           "Without Me"
          ],
          [
           "NEED YOU MOST (So Sick)"
          ],
          [
           "Meh"
          ],
          [
           "THROWBACK"
          ],
          [
           "BookBag 2.0 (feat. Polo G)"
          ],
          [
           "Starstruck (FYHYM2020)"
          ],
          [
           "Blue Hour"
          ],
          [
           "Paradise (FYHYM2020)"
          ],
          [
           "Azul"
          ],
          [
           "Flash (FYHYM2020)"
          ],
          [
           "Dame Tu Calor"
          ],
          [
           "Bliss (FYHYM2020)"
          ],
          [
           "GOOBA"
          ],
          [
           "Raindrops - Misha Sinal Remix"
          ],
          [
           "Better"
          ],
          [
           "The Phuture (FYHYM2020)"
          ],
          [
           "La Curiosidad (feat. Dj Nelson, Jhay Cortez, Lunay & Kendo Kaponi) - Blue Grand Prix Remix"
          ],
          [
           "Re-Election (FYHYM2020)"
          ],
          [
           "She Got That"
          ],
          [
           "The Voice (FYHYM2020)"
          ],
          [
           "Prospect (ft. Lil Baby)"
          ],
          [
           "Dark Lullabies (FYHYM2020)"
          ],
          [
           "Safe With Me (with Audrey Mika)"
          ],
          [
           "My Remedy (FYHYM2020)"
          ],
          [
           "Тати"
          ],
          [
           "Fuga"
          ],
          [
           "Close Your Eyes"
          ],
          [
           "Spirits In My Life - Vatan Remix"
          ],
          [
           "Sorry"
          ],
          [
           "Captain"
          ],
          [
           "Colorful"
          ],
          [
           "Cocoon"
          ],
          [
           "Mental Disorder"
          ],
          [
           "Fuck the Shit"
          ],
          [
           "X-10"
          ],
          [
           "Kids Under Speeds"
          ],
          [
           "Control - Drum & Bass Mix"
          ],
          [
           "See You Light"
          ],
          [
           "Atmosphere"
          ],
          [
           "Strike"
          ],
          [
           "See You Light"
          ],
          [
           "Анаконда"
          ],
          [
           "Thunder"
          ],
          [
           "God of War"
          ],
          [
           "No No"
          ],
          [
           "Close"
          ],
          [
           "Ur so F**kIng COol"
          ],
          [
           "Rush - Hotknife Remix"
          ],
          [
           "Hot In Herre"
          ],
          [
           "Ocean Breeze - Radio Edit"
          ],
          [
           "Bella Ciao - Radio Edit"
          ],
          [
           "Intentions"
          ],
          [
           "Gossamer - ANTON%F Remix"
          ],
          [
           "Stop This Flame"
          ],
          [
           "Not New Year's History"
          ],
          [
           "Naked Fruit (The Six Year Song)"
          ],
          [
           "My Next Thirty Years"
          ],
          [
           "My Next Thirty Years"
          ],
          [
           "99 Year Blues - Live"
          ],
          [
           "Together - Live at Shepherd's Bush Empire, London 2000"
          ],
          [
           "Ultra2000"
          ],
          [
           "Coffemaker2000"
          ],
          [
           "If You Ever Needed - Live at Shepherd's Bush Empire, London, 2000"
          ],
          [
           "Shine"
          ],
          [
           "Rabbit Hole"
          ],
          [
           "Almost Nest You - Haveck Remix"
          ],
          [
           "Close"
          ],
          [
           "Ur so F**kIng COol"
          ],
          [
           "Rush - Hotknife Remix"
          ],
          [
           "Hot In Herre"
          ],
          [
           "Ocean Breeze - Radio Edit"
          ],
          [
           "Bella Ciao - Radio Edit"
          ],
          [
           "Intentions"
          ],
          [
           "Tarantella 2K20"
          ],
          [
           "Dark Room"
          ],
          [
           "Lonely"
          ],
          [
           "Level of Awareness"
          ],
          [
           "Those Kinda Nights"
          ],
          [
           "Friendly Fire"
          ],
          [
           "Blue (Da Ba Dee) 2K21 - Radio Edit"
          ],
          [
           "Falling"
          ],
          [
           "Freedom Forever - Kelle Remix"
          ],
          [
           "I Like To Party - Kardano & Joel West VIP Remix"
          ],
          [
           "Beast Mode Edm"
          ],
          [
           "Medusa"
          ],
          [
           "Losing My Mind - Radio Edit"
          ],
          [
           "High As A Mafk"
          ],
          [
           "Don't Take It Away"
          ],
          [
           "Freedom Forever - Kelle Remix"
          ],
          [
           "I Like To Party - Kardano & Joel West VIP Remix"
          ],
          [
           "Beast Mode Edm"
          ],
          [
           "Instant History"
          ],
          [
           "Breathe"
          ],
          [
           "Work It"
          ],
          [
           "A Different Way"
          ],
          [
           "Alone, Pt. II"
          ],
          [
           "Wasting Time"
          ],
          [
           "Lust"
          ],
          [
           "Lift Me Up"
          ],
          [
           "Gimme The Light - Radio Edit"
          ],
          [
           "Alcohol"
          ],
          [
           "Lift Me Up"
          ],
          [
           "Gimme The Light - Radio Edit"
          ],
          [
           "Akhire Nua Swapna"
          ],
          [
           "Lockdown"
          ],
          [
           "Come On - Radio Edit"
          ],
          [
           "You & Me - Flume Remix"
          ],
          [
           "Midnight (The Hanging Tree)"
          ],
          [
           "All Night, All Day - Radio Edit"
          ],
          [
           "By Your Side"
          ],
          [
           "Holiday"
          ],
          [
           "My Body"
          ],
          [
           "Meet Me"
          ],
          [
           "I'm The One"
          ],
          [
           "Akhire Nua Swapna"
          ],
          [
           "Empty Your Mind"
          ],
          [
           "She's A Nobody - Banju's Deep Remix"
          ],
          [
           "Breaking Me"
          ],
          [
           "Be Yourself"
          ],
          [
           "This Girl - Kungs Vs. Cookin' On 3 Burners"
          ],
          [
           "Lockdown"
          ],
          [
           "Come On - Radio Edit"
          ],
          [
           "Let's Do This"
          ],
          [
           "Infinity - Radio Edit"
          ],
          [
           "Lose Somebody"
          ],
          [
           "The Moment"
          ],
          [
           "Ncs Style 2020"
          ],
          [
           "Juliet & Romeo"
          ],
          [
           "Zombie Safe-House"
          ],
          [
           "The Ramjet Revolution"
          ],
          [
           "The Universal Cage"
          ],
          [
           "The Spirit of a Rootless Mountain"
          ],
          [
           "Spinejuice Cocktails"
          ],
          [
           "Fostertank Alter"
          ],
          [
           "The Instant Army Ray-Gun"
          ],
          [
           "Return of the Millipede World-Eater"
          ],
          [
           "Living With Bugs"
          ],
          [
           "Something in a Pit"
          ],
          [
           "Uranium Grail"
          ],
          [
           "Smack That"
          ],
          [
           "Mas Que Nada"
          ],
          [
           "Dreamgirls"
          ],
          [
           "Life Is a Highway"
          ],
          [
           "Chasing Cars"
          ],
          [
           "Money Maker"
          ],
          [
           "One"
          ],
          [
           "Promiscuous"
          ],
          [
           "Put Your Hands up for Detroit"
          ],
          [
           "Fergalicious"
          ],
          [
           "Maneater"
          ],
          [
           "You Know My Name - From \"James Bond: Casino Royale\""
          ],
          [
           "Me & U"
          ],
          [
           "I Write Sins Not Tragedies"
          ],
          [
           "What Hurts the Most"
          ],
          [
           "Irreplaceable"
          ],
          [
           "(When You Gonna) Give It up to Me"
          ],
          [
           "I Don't Feel Like Dancin'"
          ],
          [
           "Sway"
          ],
          [
           "Suddenly I See"
          ],
          [
           "Supermassive Black Hole"
          ],
          [
           "Who Knew"
          ],
          [
           "S.O.S"
          ],
          [
           "Keep Holding On - From \"Eragon\""
          ],
          [
           "My Love"
          ],
          [
           "Say It Right"
          ],
          [
           "Unfaithful"
          ],
          [
           "All Good Things (Come to an End)"
          ],
          [
           "Breaking Free - From \"High School Musical\""
          ],
          [
           "Hurt"
          ],
          [
           "There It Go! (The Whistle Song)"
          ],
          [
           "I Wanna Love You"
          ],
          [
           "Patience"
          ],
          [
           "Crazy"
          ],
          [
           "Fairytale Gone Bad"
          ],
          [
           "Relax, Take It Easy"
          ],
          [
           "Summer Wine"
          ],
          [
           "Our Song"
          ],
          [
           "Do You Know? (The Ping Pong Song)"
          ],
          [
           "1973"
          ],
          [
           "Grace Kelly"
          ],
          [
           "With Every Heartbeat"
          ],
          [
           "Push"
          ],
          [
           "Dear Mr. President"
          ],
          [
           "Party Like a Rockstar"
          ],
          [
           "Stronger"
          ],
          [
           "Bartender"
          ],
          [
           "Sweetest Girl (Dollar Bill)"
          ],
          [
           "What I've Done"
          ],
          [
           "Umbrella"
          ],
          [
           "Give It to Me"
          ],
          [
           "Makes Me Wonder"
          ],
          [
           "Lovestoned"
          ],
          [
           "Don't Matter"
          ],
          [
           "Hey There Delilah"
          ],
          [
           "Gimme More"
          ],
          [
           "Bubbly"
          ],
          [
           "The Sweet Escape"
          ],
          [
           "Lift - John Askew Rework"
          ],
          [
           "From Dubai with Love - Original Mix"
          ],
          [
           "Everybody Rise"
          ],
          [
           "From Dubai with Love - Original Mix"
          ],
          [
           "And They Say Ox City"
          ],
          [
           "Ties That Bind"
          ],
          [
           "Small World"
          ],
          [
           "Cage"
          ],
          [
           "You Want Me (La-La-La)"
          ],
          [
           "Movin' In"
          ],
          [
           "Sunburn (2011)"
          ],
          [
           "Beautiful Mind (2012)"
          ],
          [
           "Changes - Original Mix"
          ],
          [
           "Last Secret (2019)"
          ],
          [
           "Time Travel (2016)"
          ],
          [
           "My Fault - Bissen Remix"
          ],
          [
           "Ain't Talking to You (Lounge Version)"
          ],
          [
           "Less Than Wonderful"
          ],
          [
           "The Witch - Peetu S 'Witch Hunt' Remix"
          ],
          [
           "Done"
          ],
          [
           "Russian Mail Order Bride"
          ],
          [
           "Future Forward - Intro Mix"
          ],
          [
           "Capricorn - Original Mix"
          ],
          [
           "Tilt My Girl on the Tilt-a-Whirl"
          ],
          [
           "Tilt My Girl on the Tilt-a-Whirl"
          ],
          [
           "Ain't Talking to You (Alternative Version)"
          ],
          [
           "Milgram Sheep"
          ],
          [
           "Two for Me, One for Jesus"
          ],
          [
           "Steam - Dark Mix"
          ],
          [
           "Shady - Original Mix"
          ],
          [
           "Take It"
          ],
          [
           "No Cover"
          ],
          [
           "Daddy's Little Girl"
          ],
          [
           "Let Go - Indecent Noise Dark Sessions Edit"
          ],
          [
           "Lather, Rinse, Repeat"
          ],
          [
           "Speed of Light - Original Mix"
          ],
          [
           "24"
          ],
          [
           "Sailor"
          ],
          [
           "Zombie"
          ],
          [
           "The Distance Between Us and the Sea"
          ],
          [
           "A Tree Falls in the Forest"
          ],
          [
           "Second Sight"
          ],
          [
           "Curiosity"
          ],
          [
           "Dark Town"
          ],
          [
           "Mellow"
          ],
          [
           "Fierce"
          ],
          [
           "Smooth"
          ],
          [
           "Hard Knocker"
          ],
          [
           "Earth Karma"
          ],
          [
           "Trap"
          ],
          [
           "Bbp 20"
          ],
          [
           "Go Your Own Way"
          ],
          [
           "Save Me"
          ],
          [
           "2 Side Story"
          ],
          [
           "As the Fates Might Have It (2015)"
          ],
          [
           "It Took 50 Years"
          ],
          [
           "Get on out there - F & B Club Mix 2016"
          ],
          [
           "The Last Day of the Year"
          ],
          [
           "Falling Through the Years (Live)"
          ],
          [
           "That's How I Feel - Live at Preston Guild Hall, 2016"
          ],
          [
           "Stars on My Wrist - 2017 Version"
          ],
          [
           "Take Me Higher 2017 - Club Mix"
          ],
          [
           "Move on Down the Line (2017)"
          ],
          [
           "The One That Got Away (2017)"
          ],
          [
           "Lust, Love & Broken Hearts (2017)"
          ],
          [
           "Loneliness Ain't Got Nothin' on Me (2017)"
          ],
          [
           "Imagined Conversations (2017) for Trumpet and Piano: I. Ponderous and Yearning; II. Still and Tender; III. Frenetic and Exuberant"
          ],
          [
           "Dig Deep - Live Acoustic Trio, 2018"
          ],
          [
           "Sanga Abakuá - Live, Berlin, 2018"
          ],
          [
           "Deathrow - Carnage & Cluster's Distorted Edit - 2018 Remaster"
          ],
          [
           "Life's Too Short - Live Acoustic Trio, 2018"
          ],
          [
           "Melody for Melonae - Live, Berlin, 2018"
          ],
          [
           "Villanelle for Six - Live, Berlin, 2018"
          ],
          [
           "Let's Cool One - Live, Berlin, 2018"
          ],
          [
           "Dedicated - Live at Royal Theatre Carré, Amsterdam, 2018"
          ],
          [
           "This Year"
          ],
          [
           "30 years old"
          ],
          [
           "A Good Year"
          ],
          [
           "That's All That Matters to Me - Live Acoustic Trio, 2018"
          ],
          [
           "Remind Me - Summer 2019 Demo"
          ],
          [
           "Dark Drones - Spring 2019 Demo"
          ],
          [
           "Broken Stars - Winter 2019 Demo"
          ],
          [
           "Do What You Do - 2019 Mix"
          ],
          [
           "Never Gonna Break Me Down - Live 2019"
          ],
          [
           "Celestia (UNTOLD Fortune 2019 Anthem) [FYHYM2019]"
          ],
          [
           "Vegan Asses of Rock'n'roll - 2019 John's Version"
          ],
          [
           "Two Years"
          ],
          [
           "Long Way From Home - Acoustic Session 2019"
          ],
          [
           "End of Me - Winter 2019 Demo"
          ],
          [
           "A Fresh Start - November 2019 Demo"
          ],
          [
           "Fly to Mars - Fall 2019 Demo"
          ],
          [
           "Two Years..."
          ],
          [
           "This Year"
          ],
          [
           "A Year Ago"
          ],
          [
           "Nano Water 2019 - From Inner To Outer Space Version"
          ],
          [
           "Shadow Of Us (Electronic Family 2019 Anthem) [FYHYM2019]"
          ],
          [
           "Years (Written in 2018)"
          ],
          [
           "One Thousand Years"
          ],
          [
           "Fifteen Long Years (Live)"
          ],
          [
           "Summer Feelings (feat. Charlie Puth) - From 'SCOOB!' The Album"
          ],
          [
           "Blumenfest-Polka, Op. 111"
          ],
          [
           "Moana"
          ],
          [
           "Wo die Zitronen blüh'n, Walzer, Op. 364"
          ],
          [
           "Window"
          ],
          [
           "Monsters (feat. Demi Lovato and blackbear)"
          ],
          [
           "Bittersweet & Blue - Above & Beyond Club Mix (Mixed)"
          ],
          [
           "Trust"
          ],
          [
           "Refugee"
          ],
          [
           "Catharsis - Mixed"
          ],
          [
           "mad woman"
          ],
          [
           "U Played (feat. Lil Baby)"
          ],
          [
           "wAnt me back"
          ],
          [
           "Fake"
          ],
          [
           "Past Life (with Selena Gomez)"
          ],
          [
           "Everything (FYHYM2020) - STANDERWICK Remix"
          ],
          [
           "Outta Time (feat. Drake)"
          ],
          [
           "Come Back Home (FYHYM2020)"
          ],
          [
           "Sweet Night"
          ],
          [
           "Close My Eyes (FYHYM2020)"
          ],
          [
           "Stunnin' (feat. Harm Franklin)"
          ],
          [
           "Stars (Oscar Wilde)"
          ],
          [
           "Don Don"
          ],
          [
           "I'm Ready"
          ],
          [
           "Enjoy Yourself (feat. Karol G)"
          ],
          [
           "Raccoon"
          ],
          [
           "Not PLaying"
          ],
          [
           "Gold (FYHYM2020) - Richard Durand Remix"
          ],
          [
           "Jubilee Line"
          ],
          [
           "Away From The Sun (FYHYM2020)"
          ],
          [
           "Control"
          ],
          [
           "Castles In The Sky (FYHYM2020)"
          ],
          [
           "Break Shit"
          ],
          [
           "Only A Heartbeat Away (FYHYM2020)"
          ],
          [
           "Whole Lotta Choppas"
          ],
          [
           "Eyes Blue Like The Atlantic, Pt. 2 (feat. Powfu, Alec Benjamin & Rxseboy)"
          ],
          [
           "Reach Out (FYHYM2020) - Madwave Remix"
          ],
          [
           "Happy Does"
          ],
          [
           "Rambling Robin - Remastered 2020"
          ],
          [
           "Cold World"
          ],
          [
           "Mask"
          ],
          [
           "Route 66 (feat. EST Gee)"
          ],
          [
           "Time Machine"
          ],
          [
           "Stunnin' (feat. Harm Franklin)"
          ],
          [
           "Take It Easy"
          ],
          [
           "Zuul"
          ],
          [
           "Solitaires (feat. Travis Scott)"
          ],
          [
           "Morpheus"
          ],
          [
           "THICK"
          ],
          [
           "Splice"
          ],
          [
           "Patek"
          ],
          [
           "Till We Meet Again"
          ],
          [
           "Wet (She Got That…)"
          ],
          [
           "Only A Heartbeat Away"
          ],
          [
           "Young Wheezy (with Gunna)"
          ],
          [
           "All the Smoke (feat. Gunna & Wiz Khalifa)"
          ],
          [
           "i don't want another sorry"
          ],
          [
           "Tarzan"
          ],
          [
           "VILLAIN"
          ],
          [
           "De Cora <3"
          ],
          [
           "OK"
          ],
          [
           "Internet Sensation"
          ],
          [
           "Skechers"
          ],
          [
           "Addison Rae"
          ],
          [
           "Waiting On The Other Side (FYHYM2020)"
          ],
          [
           "Ice Cream (with Selena Gomez)"
          ],
          [
           "Wine, Beer, Whiskey"
          ],
          [
           "Dark Warrior (FYHYM2020) - Chris Schweizer Remix"
          ],
          [
           "King Vamp"
          ],
          [
           "Love Will Find Its Way (FYHYM2020)"
          ],
          [
           "Discombobulated"
          ],
          [
           "Lion King On Ice"
          ],
          [
           "that way"
          ],
          [
           "Happiest Year"
          ],
          [
           "El Envidioso"
          ],
          [
           "All I Want (FYHYM2020) - Mark Sherry Remix"
          ],
          [
           "Hurt"
          ],
          [
           "Church by the sea"
          ],
          [
           "Punk Monk"
          ],
          [
           "One With Me (FYHYM2020) - Joel Hirsch Remix"
          ],
          [
           "Chosen (feat. Ty Dolla $ign)"
          ],
          [
           "Symphonic - Mixed"
          ],
          [
           "THICK (feat. Megan Thee Stallion) - Remix"
          ],
          [
           "Frozen - Mixed"
          ],
          [
           "Ponte Pa' Mi"
          ],
          [
           "Say My Name (Paul Denton Remix) - Mixed"
          ],
          [
           "JumpOutTheHouse"
          ],
          [
           "Heaven (FYHYM2020) - Robbie Seed & Digital Vision Remix"
          ],
          [
           "Heartless (with Julia Michaels & Morgan Wallen)"
          ],
          [
           "Learn To Fly (FYHYM2020) - Mhammed El Alami Remix"
          ],
          [
           "I Love You's"
          ],
          [
           "Say So (feat. Nicki Minaj)"
          ],
          [
           "These Demons (feat. MAJ)"
          ],
          [
           "Steady Forest Rain"
          ],
          [
           "Steam Powered Stories (Intro) [Remastered 2020]"
          ],
          [
           "Teach Me How To Love"
          ],
          [
           "Oh Santa! (feat. Ariana Grande & Jennifer Hudson)"
          ],
          [
           "In Euphoria We Rise (Mixed) - Progressive Mix"
          ],
          [
           "High"
          ],
          [
           "Nothing Lasts (Mixed) - Deep Instrumental Mix"
          ],
          [
           "blind"
          ],
          [
           "I've Been Needing You (FYHYM2020) - Mhammed El Alami Remix"
          ],
          [
           "Relación"
          ],
          [
           "From Dust To Ground (Mixed) - Progressive Mix"
          ],
          [
           "Snow On Tha Bluff"
          ],
          [
           "Dark Side Of The Harmony (FYH 200 Anthem) [FYHYM2020]"
          ],
          [
           "Tattoo - Remix with Camilo"
          ],
          [
           "Happy New Year"
          ],
          [
           "Coffin"
          ],
          [
           "Spring Breathing"
          ],
          [
           "FAVORITE MISTAKE"
          ],
          [
           "A Thousand Years"
          ],
          [
           "A Little Bit Off"
          ],
          [
           "Graduation 2020 (Worst Year Ever)"
          ],
          [
           "Pain 1993 (with Playboi Carti)"
          ],
          [
           "祝你 Happy New Year"
          ],
          [
           "epiphany"
          ],
          [
           "Neujahrsgruß / New Year's Address / Allocution du Nouvel An"
          ],
          [
           "Tinted Eyes (feat. blackbear & 24kGoldn)"
          ],
          [
           "Cupido, Polka française, Op. 81"
          ],
          [
           "Caramelo"
          ],
          [
           "Knall und Fall, Polka schnell, Op. 132"
          ],
          [
           "Pick Up Your Feelings"
          ],
          [
           "Tritsch-Tratsch Polka, Op. 214"
          ],
          [
           "La Vi Llorar"
          ],
          [
           "Freuet euch des Lebens, Walzer, Op. 340"
          ],
          [
           "Freakin' Out On the Interstate"
          ],
          [
           "Beat Box"
          ],
          [
           "Never Forget - Mixed"
          ],
          [
           "Movie (feat. Lil Durk)"
          ],
          [
           "The Great Story - Mixed"
          ],
          [
           "Nobody's Love"
          ],
          [
           "Daisy 2.0 (feat. Hatsune Miku)"
          ],
          [
           "Don't Take It Away"
          ],
          [
           "Freedom Forever - Kelle Remix"
          ],
          [
           "I Like To Party - Kardano & Joel West VIP Remix"
          ],
          [
           "Beast Mode Edm"
          ],
          [
           "Instant History"
          ],
          [
           "Breathe"
          ],
          [
           "Work It"
          ],
          [
           "A Different Way"
          ],
          [
           "Alone, Pt. II"
          ],
          [
           "Wasting Time"
          ],
          [
           "Lust"
          ],
          [
           "Lift Me Up"
          ],
          [
           "Gimme The Light - Radio Edit"
          ],
          [
           "Alcohol"
          ],
          [
           "Lift Me Up"
          ],
          [
           "Gimme The Light - Radio Edit"
          ],
          [
           "Akhire Nua Swapna"
          ],
          [
           "Lockdown"
          ],
          [
           "Come On - Radio Edit"
          ],
          [
           "You & Me - Flume Remix"
          ],
          [
           "Midnight (The Hanging Tree)"
          ],
          [
           "All Night, All Day - Radio Edit"
          ],
          [
           "By Your Side"
          ],
          [
           "Holiday"
          ],
          [
           "My Body"
          ],
          [
           "Meet Me"
          ],
          [
           "I'm The One"
          ],
          [
           "Akhire Nua Swapna"
          ],
          [
           "Empty Your Mind"
          ],
          [
           "She's A Nobody - Banju's Deep Remix"
          ],
          [
           "Breaking Me"
          ],
          [
           "Be Yourself"
          ],
          [
           "This Girl - Kungs Vs. Cookin' On 3 Burners"
          ],
          [
           "Lockdown"
          ],
          [
           "Come On - Radio Edit"
          ],
          [
           "Let's Do This"
          ],
          [
           "Infinity - Radio Edit"
          ],
          [
           "Lose Somebody"
          ],
          [
           "The Moment"
          ],
          [
           "Ncs Style 2020"
          ],
          [
           "Juliet & Romeo"
          ],
          [
           "Master Player - Rokka Remix"
          ],
          [
           "Master Player - Rokka Remix Edit"
          ],
          [
           "Empty Box"
          ],
          [
           "Coming Home"
          ],
          [
           "Mona Lisa Cries"
          ],
          [
           "Fables in Feline"
          ],
          [
           "Lil 2020"
          ],
          [
           "Free"
          ],
          [
           "Legacy"
          ],
          [
           "Soul for Sale"
          ],
          [
           "Groove"
          ],
          [
           "Wild Side"
          ],
          [
           "Dinga Dinga - Radio Edit"
          ],
          [
           "Be Kind"
          ],
          [
           "Wip It"
          ],
          [
           "What's going on"
          ],
          [
           "I Got U"
          ],
          [
           "Go Up"
          ],
          [
           "Lost And Found - Radio Edit"
          ],
          [
           "Memories"
          ],
          [
           "Silence"
          ],
          [
           "What U Need - Radio Edit"
          ],
          [
           "Out of Control"
          ],
          [
           "Faded Edm"
          ],
          [
           "Love Got You - Radio Edit"
          ],
          [
           "Friky Snake"
          ],
          [
           "Twisted"
          ],
          [
           "The Bones"
          ],
          [
           "Daylight"
          ],
          [
           "Destination - Extended Mix"
          ],
          [
           "Idti - Anton Kholodny Remix"
          ],
          [
           "Murder On The Dancefloor - Radio Edit"
          ],
          [
           "There's Nothing Holdin' Me Back"
          ],
          [
           "Your Love"
          ],
          [
           "Need You - Radio Edit"
          ],
          [
           "Vulnerable"
          ],
          [
           "No One Like U"
          ],
          [
           "Happy People - Radio Edit"
          ],
          [
           "Time to Party - Extended Mix"
          ],
          [
           "Righteous"
          ],
          [
           "City of Angels"
          ],
          [
           "Natalie Don't"
          ],
          [
           "Calling on Me"
          ],
          [
           "The Key to Life on Earth"
          ],
          [
           "Lost in Yesterday"
          ],
          [
           "The Reaper"
          ],
          [
           "You Should Be Sad"
          ],
          [
           "Forever"
          ],
          [
           "Out of Control"
          ],
          [
           "Boyfriend"
          ],
          [
           "Say Something"
          ],
          [
           "The Other Side"
          ],
          [
           "Birthday"
          ],
          [
           "Atlas"
          ],
          [
           "Level of Concern"
          ],
          [
           "Bloody Valentine"
          ],
          [
           "Worry About Me"
          ],
          [
           "911"
          ],
          [
           "Now I'm in It"
          ],
          [
           "The Woodchuck Song"
          ],
          [
           "Stupid Love"
          ],
          [
           "Power over Me"
          ],
          [
           "Levitating"
          ],
          [
           "Rockstar"
          ],
          [
           "Godzilla"
          ],
          [
           "That Time of Year"
          ],
          [
           "Happy New Year"
          ],
          [
           "7 Years"
          ],
          [
           "That Time of Year"
          ],
          [
           "Happy New Year"
          ],
          [
           "New Years Celebration"
          ],
          [
           "That Time of Year"
          ],
          [
           "New Year's Eve Jazz"
          ],
          [
           "New Year’s Eve Beats"
          ],
          [
           "Chill House – Happy New Year"
          ],
          [
           "We Belong Together"
          ],
          [
           "Cool"
          ],
          [
           "Too"
          ],
          [
           "Hung Up"
          ],
          [
           "Don't Lie"
          ],
          [
           "Chopped"
          ],
          [
           "Feel - Doza's Remix"
          ],
          [
           "Lose Control"
          ],
          [
           "Pump It"
          ],
          [
           "Candy Shop"
          ],
          [
           "Ghetto Gospel"
          ],
          [
           "Werkin With"
          ],
          [
           "Solid Ground - Fred Everything Unreleased Lazy Dub"
          ],
          [
           "Speed of Sound"
          ],
          [
           "Memories"
          ],
          [
           "Unbreakable"
          ],
          [
           "Oh"
          ],
          [
           "Simply Yes"
          ],
          [
           "Friday - Trentemoller Remix"
          ],
          [
           "Since U Been Gone"
          ],
          [
           "Have a Nice Day"
          ],
          [
           "How We Do"
          ],
          [
           "Fix You"
          ],
          [
           "Remember the Name"
          ],
          [
           "Gold Digger"
          ],
          [
           "Photograph"
          ],
          [
           "Don't Cha"
          ],
          [
           "On My Mind - Montreal Dub"
          ],
          [
           "Nine Million Bicycles"
          ],
          [
           "Laffy Taffy"
          ],
          [
           "On The Highway"
          ],
          [
           "Sunset"
          ],
          [
           "The Bell That Never Rang - Radio Edit"
          ],
          [
           "Strike the Colours"
          ],
          [
           "Latenite"
          ],
          [
           "My Favourite Dress"
          ],
          [
           "Gallowhill - Live at The Bongo Club, Edinburgh, 2007"
          ],
          [
           "Half Alive"
          ],
          [
           "I Love the Sun"
          ],
          [
           "Poor Man's Son - Remastered"
          ],
          [
           "Dreamland"
          ],
          [
           "Awake Isn't Good"
          ],
          [
           "For About a Month"
          ],
          [
           "Strange Sky"
          ],
          [
           "Hinba"
          ],
          [
           "Dolly"
          ],
          [
           "The Portal"
          ],
          [
           "Give Away Your Heart, Pt.1"
          ],
          [
           "Beautiful Disguise"
          ],
          [
           "Shoot Out the Stars"
          ],
          [
           "Vigil I"
          ],
          [
           "Sister in Song"
          ],
          [
           "Tomorrow - Gustaf Remix"
          ],
          [
           "I Defy"
          ],
          [
           "I Saw the Dead"
          ],
          [
           "To America"
          ],
          [
           "Human"
          ],
          [
           "Whitechapel"
          ],
          [
           "She Put on Her Headphones - Radio Edit"
          ],
          [
           "Tin Drum"
          ],
          [
           "Love Is the Answer"
          ],
          [
           "Far from Portland"
          ],
          [
           "Take Me to Your Leader"
          ],
          [
           "Silhouette"
          ],
          [
           "More Than You Know"
          ],
          [
           "Real Life"
          ],
          [
           "Mark the Hard Earth"
          ],
          [
           "Red Flowers"
          ],
          [
           "Shining Bright"
          ],
          [
           "Wild Mountainside"
          ],
          [
           "Weightlifting - Instrumental"
          ],
          [
           "In Luck - Radio Edit"
          ],
          [
           "Tricky Love Stuff"
          ],
          [
           "The Poorest Company"
          ],
          [
           "The Flow Country"
          ],
          [
           "The State of the English"
          ],
          [
           "If You Want It"
          ],
          [
           "Atomise"
          ],
          [
           "The Language of Love"
          ],
          [
           "Ghosts"
          ],
          [
           "Scapa Flow 1919"
          ],
          [
           "Blooming"
          ],
          [
           "Vagabond"
          ],
          [
           "Valid Jagger - Live"
          ],
          [
           "Broke Me in Two"
          ],
          [
           "Marina Blue"
          ],
          [
           "Love Has Left the Room"
          ],
          [
           "Return of the Millipede World-Eater"
          ],
          [
           "Living With Bugs"
          ],
          [
           "Something in a Pit"
          ],
          [
           "Zombie Safe-House"
          ],
          [
           "Spinejuice Cocktails"
          ],
          [
           "The Ramjet Revolution"
          ],
          [
           "The Universal Cage"
          ],
          [
           "The Spirit of a Rootless Mountain"
          ],
          [
           "Uranium Grail"
          ],
          [
           "The Instant Army Ray-Gun"
          ],
          [
           "Fostertank Alter"
          ],
          [
           "Ruby"
          ],
          [
           "Girlfriend"
          ],
          [
           "Shine"
          ],
          [
           "Don't Stop the Music"
          ],
          [
           "The Way I Are"
          ],
          [
           "Good Life"
          ],
          [
           "Apologize"
          ],
          [
           "Ayo Technology"
          ],
          [
           "Same Mistake"
          ],
          [
           "Low"
          ],
          [
           "Big Girls Don't Cry"
          ],
          [
           "Kiss Kiss"
          ],
          [
           "Rehab"
          ],
          [
           "No One"
          ],
          [
           "When You're Gone"
          ],
          [
           "S.O.S"
          ],
          [
           "Beautiful Girls"
          ],
          [
           "Rockstar"
          ],
          [
           "Hate That I Love You"
          ],
          [
           "Me Love"
          ],
          [
           "This Ain't a Scene, It's an Arms Race"
          ],
          [
           "Teardrops on My Guitar"
          ],
          [
           "Me & Mr Jones"
          ],
          [
           "Beautiful Liar"
          ],
          [
           "Bleeding Love"
          ],
          [
           "Sexy Movimiento"
          ],
          [
           "Shadows of My Reflection"
          ],
          [
           "I Hate You Love"
          ],
          [
           "I've Got a Dream"
          ],
          [
           "Boogie Down Revolution"
          ],
          [
           "Shape Up - Paul Miller Remix"
          ],
          [
           "King Dong - Original Mix"
          ],
          [
           "Paradigm Shift - Terrafusion Remix"
          ],
          [
           "Timebomb - Original Mix"
          ],
          [
           "Ghost"
          ],
          [
           "Shah Rah (2018)"
          ],
          [
           "Mother Earth (2013)"
          ],
          [
           "Into The Sunlight (2011)"
          ],
          [
           "All or Nothing - Haris C Remix"
          ],
          [
           "Everblue - Original Mix"
          ],
          [
           "Southern Voice (2019)"
          ],
          [
           "Nature (2015) - Uplifting Mix"
          ],
          [
           "Path Of You (2019) - Darbuka Version"
          ],
          [
           "Home (2017)"
          ],
          [
           "Say the Words - Aly & Fila Remix"
          ],
          [
           "Hope (2020)"
          ],
          [
           "If We Want (2020)"
          ],
          [
           "Alone (2018)"
          ],
          [
           "Setareh (2017)"
          ],
          [
           "Shabaneh (2017)"
          ],
          [
           "Fade to Black - Sean Tyas Remix"
          ],
          [
           "Sunyata - Original Mix"
          ],
          [
           "Eastland (Remastered) (2014)"
          ],
          [
           "Harmony (2015)"
          ],
          [
           "Everything to Me - Acute Remix"
          ],
          [
           "Philosophy Of Life (2016)"
          ],
          [
           "Footprints - Before The Sunset Mix"
          ],
          [
           "Sail over the Storm"
          ],
          [
           "Golden Chalk - Version Idjut"
          ],
          [
           "DF Bounce"
          ],
          [
           "Kaze"
          ],
          [
           "Arunatsunohi"
          ],
          [
           "It's all right"
          ],
          [
           "Arunatsunohi"
          ],
          [
           "It's all right"
          ],
          [
           "YumejyaAenaikara"
          ],
          [
           "Borderline - Live at Symphony Hall, Birmingham, 2017"
          ],
          [
           "Hope Amongst the Yearlings"
          ],
          [
           "Satisfy My Soul - Live at Symphony Hall, Birmingham, 2017"
          ],
          [
           "Watching over Me - Live at Symphony Hall, Birmingham, 2017"
          ],
          [
           "Late at Night - Live at Symphony Hall, Birmingham, 2017"
          ],
          [
           "Better Than Nothing - Live at Symphony Hall, Birmingham, 2017"
          ],
          [
           "Bet Your Life - Live at Symphony Hall, Birmingham, 2017"
          ],
          [
           "40 Year Old Libertarian"
          ],
          [
           "Sleep on It - Live at Symphony Hall, Birmingham, 2017"
          ],
          [
           "10 Thousand Years - Remastered"
          ],
          [
           "Four Years - Live"
          ],
          [
           "Pretty Polly - From \"Pretty Polly\" Soundtrack / 2019 Stereo Remix"
          ],
          [
           "Hope Amongst the Yearlings"
          ],
          [
           "Perfect Storm - Live at Cork Opera House, 2019"
          ],
          [
           "These Days - Live at The Brighton Centre, 2019"
          ],
          [
           "Freestyle of the Year"
          ],
          [
           "Twenty Years Ago"
          ],
          [
           "Happy New Years!! (Clear Vision)"
          ],
          [
           "Light Years (WYM302)"
          ],
          [
           "A Year With My Love"
          ],
          [
           "What's Another Year - Live"
          ],
          [
           "Last Day of Another Year"
          ],
          [
           "The Green Hinge of the Year"
          ],
          [
           "Light Years (WYM300)"
          ],
          [
           "Life in a Bubble - Live at The Brighton Centre, 2019"
          ],
          [
           "Raining in My Heart - Live at The Brighton Centre, 2019"
          ],
          [
           "5 Years (Live at ERA)"
          ],
          [
           "Make Your Mind Up - Live at Cork Opera House, 2019"
          ],
          [
           "Too Many Years - Live"
          ],
          [
           "Creature"
          ],
          [
           "20/20"
          ],
          [
           "Burn The Hoods"
          ],
          [
           "Tomahawk (FYHYM2020)"
          ],
          [
           "Dime Cómo Quieres"
          ],
          [
           "Hypnotized (FYHYM2020)"
          ],
          [
           "Muwop (feat. Gucci Mane)"
          ],
          [
           "Paradise (FYHYM2020)"
          ],
          [
           "Whole Lotta Choppas (Remix) [feat. Nicki Minaj]"
          ],
          [
           "Leonie (FYHYM2020)"
          ],
          [
           "Stripes Like Burberry"
          ],
          [
           "The Crack Was Ninety In The Isle Of Man - Live In Dublin / Remastered 2020"
          ],
          [
           "drink my piss you nasty slut yeah yeah"
          ],
          [
           "Stardust (Nikolauss Remix) - Mixed"
          ],
          [
           "Turks (with Gunna & ft. Travis Scott)"
          ],
          [
           "Buenos (Paul Denton Remix) - Mixed"
          ],
          [
           "Power"
          ],
          [
           "Tale Of Light - Mixed"
          ],
          [
           "Green Dot"
          ],
          [
           "Faustino - Mixed"
          ],
          [
           "Tequila Shots"
          ],
          [
           "All About You - Mixed"
          ],
          [
           "Favorite Bitch (feat. Ty Dolla $ign)"
          ],
          [
           "Time Machine (FYHYM2020)"
          ],
          [
           "Forever (feat. Post Malone & Clever)"
          ],
          [
           "Stay Down (with 6LACK & Young Thug)"
          ],
          [
           "Fly (FYHYM2020) - Tycoos Remix"
          ],
          [
           "hellboy"
          ],
          [
           "I Love You (FYHYM2020)"
          ],
          [
           "Gangstas"
          ],
          [
           "Shakespeare Road"
          ],
          [
           "Lil Bit"
          ],
          [
           "Trance At The Opera (FYHYM2020)"
          ],
          [
           "RELENTLESS (feat. Lil Uzi Vert)"
          ],
          [
           "You'll Be Fine (Mixed) - Progressive Mix"
          ],
          [
           "Between You & Me"
          ],
          [
           "Rise Again (We Shall Overcome) [FYHYM2020]"
          ],
          [
           "No Sl33p"
          ],
          [
           "2020"
          ],
          [
           "Come Back To Bed"
          ],
          [
           "No Warning Lights (FYHYM2020) - Sean Tyas Remix"
          ],
          [
           "Circles"
          ],
          [
           "All For Love (FYHYM2020) - Giuseppe Ottaviani Remix"
          ],
          [
           "Nada"
          ],
          [
           "Psa 2020"
          ],
          [
           "Chasing_(Demo)"
          ],
          [
           "2020 Interlude"
          ],
          [
           "Be A Light"
          ],
          [
           "Crossroads"
          ],
          [
           "Bet You Wanna (feat. Cardi B)"
          ],
          [
           "Skyline"
          ],
          [
           "3 Headed Goat (feat. Lil Baby & Polo G)"
          ],
          [
           "Sankthansaften"
          ],
          [
           "Around"
          ],
          [
           "Everywhere I Go"
          ],
          [
           "Share That Love (feat. G-Eazy)"
          ],
          [
           "Heart Eyes"
          ],
          [
           "All Week"
          ],
          [
           "Let The Music Guide You (ASOT 950 Anthem) - Beatsole Remix"
          ],
          [
           "Hate Me"
          ],
          [
           "Seid umschlungen, Millionen! Walzer, Op. 443"
          ],
          [
           "lie to me"
          ],
          [
           "Eisblume, Polka mazur, Op. 55"
          ],
          [
           "Secrets"
          ],
          [
           "12 Contretänze, WoO 14"
          ],
          [
           "champagne problems"
          ],
          [
           "Im Fluge, Polka schnell, Op. 230"
          ],
          [
           "Tap In (feat. Post Malone, DaBaby & Jack Harlow)"
          ],
          [
           "Postillon Galop, Op. 16/2"
          ],
          [
           "Pardon Me (Lil Yachty feat. Future & Mike WiLL Made-It)"
          ],
          [
           "Amazing Grace"
          ],
          [
           "Wrong Direction"
          ],
          [
           "No Eres La Oficial"
          ],
          [
           "Vortex - Mixed"
          ],
          [
           "Saline Solution"
          ],
          [
           "Unsaid Emily (feat. Charlie Gillespie)"
          ],
          [
           "Tic Tac"
          ],
          [
           "8.06 - Mixed"
          ],
          [
           "21C/Delta"
          ],
          [
           "Summer Sincerity - Mixed"
          ],
          [
           "i miss u (with Au/Ra)"
          ],
          [
           "Cool Again"
          ],
          [
           "Atom - Mixed"
          ],
          [
           "Heavy Rain"
          ],
          [
           "Our Destiny - Mixed"
          ],
          [
           "PICK UP (feat. Quavo)"
          ],
          [
           "DND"
          ],
          [
           "In My Head - Mixed"
          ],
          [
           "Some Say - Felix Jaehn Remix"
          ],
          [
           "Better Days"
          ],
          [
           "Midnight - Mixed"
          ],
          [
           "Yummy"
          ],
          [
           "桜 - 2020 Remaster"
          ],
          [
           "Texas Sun"
          ],
          [
           "Spancilhill - Remastered 2020"
          ],
          [
           "Photo ID"
          ],
          [
           "SHINING"
          ],
          [
           "Smile (with The Weeknd)"
          ],
          [
           "Aimee (Remastered 2020)"
          ],
          [
           "hoax"
          ],
          [
           "hooligan"
          ],
          [
           "concert for aliens"
          ],
          [
           "Take a Ride"
          ],
          [
           "Like You Do"
          ],
          [
           "Sweet Hibiscus Tea"
          ],
          [
           "Don't Rush (feat. DaBaby)"
          ],
          [
           "Prices"
          ],
          [
           "Lil Top"
          ],
          [
           "The Adults Are Talking"
          ],
          [
           "Demons and Monsters"
          ],
          [
           "Pero Ya No"
          ],
          [
           "Afterthought"
          ],
          [
           "Joe McCann - Remastered 2020"
          ],
          [
           "On That Time"
          ],
          [
           "HAPPY NEW BPM 2020"
          ],
          [
           "Easier"
          ],
          [
           "Time Machine (Remastered 2020)"
          ],
          [
           "Freedom"
          ],
          [
           "Mechanical Menagerie (Remastered 2020)"
          ],
          [
           "Goodbye"
          ],
          [
           "New Year"
          ],
          [
           "BYE ME FUI"
          ],
          [
           "Our Year"
          ],
          [
           "Ridin’ Roads"
          ],
          [
           "The Inventor's Daughter (Remastered 2020)"
          ],
          [
           "Too Much (feat. Usher)"
          ],
          [
           "Mauna Kea - Mixed"
          ],
          [
           "The Story"
          ],
          [
           "Bravo - Mixed"
          ],
          [
           "Good In Goodbye"
          ],
          [
           "Emotions - Mixed"
          ],
          [
           "Wishing For A Hero (feat. BJ The Chicago Kid)"
          ],
          [
           "Vicious Tickle - Mixed"
          ],
          [
           "I Don't Know Why"
          ],
          [
           "Élivágar - Mixed"
          ],
          [
           "body bag (feat. YUNGBLUD & Bert McCracken of The Used)"
          ],
          [
           "Falling Apart"
          ],
          [
           "Silly Watch"
          ],
          [
           "Demolition - Mixed"
          ],
          [
           "Let Me Move You - From the Netflix film Work It"
          ],
          [
           "The Cliffs Of Dooneen - Remastered 2020"
          ],
          [
           "Good Days"
          ],
          [
           "7 Years"
          ],
          [
           "Vete"
          ],
          [
           "A Letter to Michelle (Remastered 2020)"
          ],
          [
           "Moonwalking in Calabasas - YG Remix"
          ],
          [
           "I Want Only You (Remastered 2020)"
          ],
          [
           "2021"
          ],
          [
           "Chanel Bag"
          ],
          [
           "Ignorantes"
          ],
          [
           "Ignorantes"
          ],
          [
           "Given-Taken"
          ],
          [
           "Hey Sandy - Live In Dublin / Remastered 2020"
          ],
          [
           "BOYSHIT"
          ],
          [
           "New Year Resolutions"
          ],
          [
           "YES! (feat. Rich The Kid & K CAMP)"
          ],
          [
           "Holding Back the Year"
          ],
          [
           "The Christmas Song (Shawn Mendes & Camila Cabello)"
          ],
          [
           "Let Me Be Your Man (Remastered 2020)"
          ],
          [
           "Bad Karma (feat. Joan Jett)"
          ],
          [
           "Light Years - Mixed"
          ],
          [
           "Travesuras"
          ],
          [
           "Forever of Light Years"
          ],
          [
           "Soda (feat. Take A Daytrip)"
          ],
          [
           "Hold On To Me - Extended Mix"
          ],
          [
           "Still Your Best"
          ],
          [
           "Be Happy"
          ],
          [
           "Samsara"
          ],
          [
           "No No No (feat. A Boogie Wit Da Hoodie)"
          ],
          [
           "New Year New You"
          ],
          [
           "Never Be Me"
          ],
          [
           "Christmas the Whole Year Round"
          ],
          [
           "Eleven (feat. Summer Walker)"
          ],
          [
           "Best Time Of The Year"
          ],
          [
           "Infinity - Radio Edit"
          ],
          [
           "Lose Somebody"
          ],
          [
           "The Moment"
          ],
          [
           "Ncs Style 2020"
          ],
          [
           "Alla"
          ],
          [
           "Focus"
          ],
          [
           "Who's Laughing Now"
          ],
          [
           "In My Head"
          ],
          [
           "Lineage"
          ],
          [
           "Your Love"
          ],
          [
           "Need You - Radio Edit"
          ],
          [
           "Vulnerable"
          ],
          [
           "No One Like U"
          ],
          [
           "Happy People - Radio Edit"
          ],
          [
           "Time to Party - Extended Mix"
          ],
          [
           "Righteous"
          ],
          [
           "Alla"
          ],
          [
           "Focus"
          ],
          [
           "Who's Laughing Now"
          ],
          [
           "In My Head"
          ],
          [
           "Lineage"
          ],
          [
           "Time to Party - Extended Mix"
          ],
          [
           "Righteous"
          ],
          [
           "Way Down"
          ],
          [
           "The Money - Melleefresh Tech Remix"
          ],
          [
           "Another Way"
          ],
          [
           "Church"
          ],
          [
           "Lights & Music"
          ],
          [
           "Can't Stop Me - Radio Edit"
          ],
          [
           "frontLine"
          ],
          [
           "Marshmello and Hot Chocolate"
          ],
          [
           "Five"
          ],
          [
           "Life Is A Rollercoaster"
          ],
          [
           "Roll"
          ],
          [
           "Wish I Knew"
          ],
          [
           "Five"
          ],
          [
           "Move My Body - Club Mix"
          ],
          [
           "Diadem"
          ],
          [
           "What's Your Love"
          ],
          [
           "Wannabe"
          ],
          [
           "Break Free - Radio Edit"
          ],
          [
           "Caution"
          ],
          [
           "Never Go Away - Radio Edit"
          ],
          [
           "Caramello - Danny Jay Remix"
          ],
          [
           "Falling - Radio Edit"
          ],
          [
           "Bliss"
          ],
          [
           "Dreams (Will Come Alive) - Radio Edit"
          ],
          [
           "Cake By The Ocean"
          ],
          [
           "Can't Stop Me - Radio Edit"
          ],
          [
           "frontLine"
          ],
          [
           "Marshmello and Hot Chocolate"
          ],
          [
           "New Love"
          ],
          [
           "Talking To Myself"
          ],
          [
           "Conversation After Hours"
          ],
          [
           "Free"
          ],
          [
           "Miss You"
          ],
          [
           "Talking To Myself"
          ],
          [
           "Conversation After Hours"
          ],
          [
           "T Shirt (Interlude)"
          ],
          [
           "At Midnight"
          ],
          [
           "Celebrating"
          ],
          [
           "Big Serpent"
          ],
          [
           "Vent"
          ],
          [
           "Just Be Alone"
          ],
          [
           "Noche Junto al Mar"
          ],
          [
           "Body Shake"
          ],
          [
           "Gawi Bawi Bo - Radio Edit"
          ],
          [
           "(BONUS) Cold Summers [feat. QuickBandz & YPC Kool]"
          ],
          [
           "Go Up"
          ],
          [
           "No Naps"
          ],
          [
           "Issue"
          ],
          [
           "Ocean Breeze - Radio Edit"
          ],
          [
           "Joy & Fun"
          ],
          [
           "The Middle"
          ],
          [
           "Weekend"
          ],
          [
           "Get Down"
          ],
          [
           "Sea"
          ],
          [
           "Smooth Funky Moods"
          ],
          [
           "Relaxing Coffee Time"
          ],
          [
           "Palm Angels Freestyle"
          ],
          [
           "Best Moments"
          ],
          [
           "Take On The World"
          ],
          [
           "Yes No Yes"
          ],
          [
           "Wild Side"
          ],
          [
           "The Moment"
          ],
          [
           "Our Way - Niels Van Gogh Remix Edit"
          ],
          [
           "So Toast!"
          ],
          [
           "Come On - Radio Edit"
          ],
          [
           "Legacy"
          ],
          [
           "Forever In Paradise"
          ],
          [
           "Saturday"
          ],
          [
           "Snot Thot"
          ],
          [
           "Periscope"
          ],
          [
           "Signals - Radio Edit"
          ],
          [
           "Only Tonight - Radio Edit"
          ],
          [
           "LayUp"
          ],
          [
           "The One"
          ],
          [
           "Together"
          ],
          [
           "Improvisations"
          ],
          [
           "I Know What You're Thinking"
          ],
          [
           "Linda"
          ],
          [
           "I See Stars"
          ],
          [
           "Bitch"
          ],
          [
           "Silver Space Shoes (Acoustic Version)"
          ],
          [
           "Hit the Ground"
          ],
          [
           "'til Death Do Us Part"
          ],
          [
           "My Girlfriend"
          ],
          [
           "Blow Up!"
          ],
          [
           "Wakin' Up"
          ],
          [
           "Crackers at Tea Parties"
          ],
          [
           "Lights Out"
          ],
          [
           "Everyone"
          ],
          [
           "Silver Space Shoes"
          ],
          [
           "Goodbye Goodnight"
          ],
          [
           "Rollercoaster Ride"
          ],
          [
           "Reggie Dwight"
          ],
          [
           "What an Afternoon"
          ],
          [
           "You're a Star"
          ],
          [
           "Lemon Shaker (Sunnyday Version)"
          ],
          [
           "The Weekend"
          ],
          [
           "Down So Low"
          ],
          [
           "Grind with Me"
          ],
          [
           "Pon De Replay"
          ],
          [
           "Bad Day"
          ],
          [
           "I Predict a Riot"
          ],
          [
           "La Camisa Negra"
          ],
          [
           "Like Toy Soldiers"
          ],
          [
           "Mr. Brightside"
          ],
          [
           "Feel Good Inc."
          ],
          [
           "Run It!"
          ],
          [
           "Lonely"
          ],
          [
           "I Said"
          ],
          [
           "Love Generation"
          ],
          [
           "Don't Phunk with My Heart"
          ],
          [
           "Drop It on Me"
          ],
          [
           "We Be Burnin' (Recognize It)"
          ],
          [
           "My Humps"
          ],
          [
           "Back Together"
          ],
          [
           "Boulevard of Broken Dreams"
          ],
          [
           "Because of You"
          ],
          [
           "Wake Me up When September Ends"
          ],
          [
           "N2Deep"
          ],
          [
           "Galvanize"
          ],
          [
           "Lift Me Up"
          ],
          [
           "Signs"
          ],
          [
           "Feeling Good"
          ],
          [
           "Hollaback Girl"
          ],
          [
           "Stickwitu"
          ],
          [
           "Werd nicht alt"
          ],
          [
           "München"
          ],
          [
           "Alkohol tötet langsam"
          ],
          [
           "Emellanåt, stundom"
          ],
          [
           "The Accidental Triumphs of Pulcinella, Prince of Everything: III. Serenata"
          ],
          [
           "Diptychon"
          ],
          [
           "Light Winter Light"
          ],
          [
           "Isär"
          ],
          [
           "The Accidental Triumphs of Pulcinella, Prince of Everything: IV. Toccata"
          ],
          [
           "Reflections on the Self"
          ],
          [
           "La Princesse de Babylone"
          ],
          [
           "Konsert för flöjt och ensemble"
          ],
          [
           "The Accidental Triumphs of Pulcinella, Prince of Everything: II. Scherzino Cadenza - Presto"
          ],
          [
           "Madrigali, hommage á Barbara Strozzi"
          ],
          [
           "Fantasia per sei strumenti"
          ],
          [
           "The Secrets of Eros"
          ],
          [
           "House of False Things"
          ],
          [
           "The Accidental Triumphs of Pulcinella, Prince of Everything: I. Sinfonia"
          ],
          [
           "Fluorescences naturelles"
          ],
          [
           "Silent Plan"
          ],
          [
           "Rebellion in Greenery"
          ],
          [
           "Run This Town"
          ],
          [
           "Not Fair"
          ],
          [
           "The Source - Mudd's Slow Rave Mix"
          ],
          [
           "Falling Petals"
          ],
          [
           "She Walks - Pete Herbert Remix"
          ],
          [
           "Doldrums"
          ],
          [
           "New Day"
          ],
          [
           "Les Portes De La Perception"
          ],
          [
           "Numbers Game"
          ],
          [
           "Luna"
          ],
          [
           "Susta - Instrumental"
          ],
          [
           "North Shore - Max Essa Instrumental"
          ],
          [
           "Saturnine"
          ],
          [
           "Backward Love"
          ],
          [
           "Secret About You"
          ],
          [
           "Hikaridasu"
          ],
          [
           "Love Is Blind"
          ],
          [
           "Sunset"
          ],
          [
           "Beautiful my life"
          ],
          [
           "SURF"
          ],
          [
           "ever blue"
          ],
          [
           "Bye, Bye Baby"
          ],
          [
           "It Never Rains but It Pours - Mixed"
          ],
          [
           "Rockin' angel"
          ],
          [
           "Summertime"
          ],
          [
           "Take a Chance on Me"
          ],
          [
           "TSU.BA.SA"
          ],
          [
           "You Don't Know Me - Live at Symphony Hall, Birmingham, 2017"
          ],
          [
           "99 Year Blues - Live"
          ],
          [
           "Don't Let the Sun Catch You Crying - Live at Symphony Hall, Birmingham, 2017"
          ],
          [
           "7 Years - Extended House Drum Mix"
          ],
          [
           "02.02.2018 Part 4 - Instrumental"
          ],
          [
           "02.02.2018 Part 3 - Instrumental"
          ],
          [
           "02.02.2018 Part 2 - Instrumental"
          ],
          [
           "02.02.2018 Part 1 - Instrumental"
          ],
          [
           "A Year Gone By"
          ],
          [
           "Midnight Adventures - 10 Years Special Mix"
          ],
          [
           "You Make Me Feel Good - Live at The Brighton Centre, 2019"
          ],
          [
           "Avalanche (FYHYM2019)"
          ],
          [
           "Eli (FYHYM2019)"
          ],
          [
           "Rebound (FYHYM2019)"
          ],
          [
           "Allies (FYHYM2019)"
          ],
          [
           "Rabbithole (FYHYM2019)"
          ],
          [
           "Thrive (FYHYM2019)"
          ],
          [
           "A Thousand Years (arr. L. Moore)"
          ],
          [
           "U (FYHYM2019)"
          ],
          [
           "Magitek (FYHYM2019)"
          ],
          [
           "Trigger (FYHYM2019)"
          ],
          [
           "Diamonds (FYHYM2019)"
          ],
          [
           "Runaway (FYHYM2019)"
          ],
          [
           "Revolution (FYHYM2019)"
          ],
          [
           "Paradox (FYHYM2019)"
          ],
          [
           "Solar (FYHYM2019)"
          ],
          [
           "Hologram (FYHYM2019)"
          ],
          [
           "Misconception (FYHYM2019)"
          ],
          [
           "Serenity (FYHYM2019)"
          ],
          [
           "Panama (FYHYM2019)"
          ],
          [
           "Anjunafamily (FYHYM2019)"
          ],
          [
           "Rave (FYHYM2019)"
          ],
          [
           "Surga (FYHYM2019)"
          ],
          [
           "Fauda (FYHYM2019)"
          ],
          [
           "Cosmos (FYHYM2019)"
          ],
          [
           "Anasthasia (FYHYM2019)"
          ],
          [
           "Whisper (FYHYM2019)"
          ],
          [
           "Lionheart (FYHYM2019)"
          ],
          [
           "Happy New Year (Kicking Ass!)"
          ],
          [
           "Blackhawk (FYHYM2019)"
          ],
          [
           "Benedictus (FYHYM2019)"
          ],
          [
           "The Connection (FYHYM2019)"
          ],
          [
           "Cosmic Order (FYHYM2019)"
          ],
          [
           "God's Creation (FYHYM2019)"
          ],
          [
           "Alpha Centauri (FYHYM2019)"
          ],
          [
           "Escape Time (FYHYM2019)"
          ],
          [
           "Karpe Noktem (FYHYM2019)"
          ],
          [
           "Empty World (FYHYM2019)"
          ],
          [
           "Kingdom United (FYHYM2019)"
          ],
          [
           "The Awakening (FYHYM2019)"
          ],
          [
           "Save You (FYHYM2019)"
          ],
          [
           "The Network (FYHYM2019)"
          ],
          [
           "Get Down (FYHYM2019)"
          ],
          [
           "Sapphire (Recut) [FYHYM2019]"
          ],
          [
           "8K (FYHYM2019)"
          ],
          [
           "Distorted Truth (FYHYM2019)"
          ],
          [
           "Thousand Pieces (FYHYM2019)"
          ],
          [
           "Lucky Penny (FYHYM2019)"
          ],
          [
           "Mr. Navigator (FYHYM2019)"
          ],
          [
           "Saving Angel (FYHYM2019)"
          ],
          [
           "Voltage Control (FYHYM2019)"
          ],
          [
           "The Melody (FYHYM2019)"
          ],
          [
           "Connected [Year Mix '19] - Mix Cut"
          ],
          [
           "Stratocumulus [Year Mix '19] - Mix Cut"
          ],
          [
           "Paper Mountains [Year Mix'19] - Mix Cut"
          ],
          [
           "Freefall [Year Mix '19] - Mix Cut"
          ],
          [
           "Serenity [Year Mix '19] - Mix Cut"
          ],
          [
           "Awakening [Year Mix '19] - Mix Cut"
          ],
          [
           "See The End (FYHYM2019)"
          ],
          [
           "Arcade (feat. FLETCHER)"
          ],
          [
           "The Raggle Taggle Gypsy; Tabhair Dom Do Lámh - Remastered 2020"
          ],
          [
           "To Die For"
          ],
          [
           "The Most Wonderful Time Of The Year"
          ],
          [
           "cobain"
          ],
          [
           "The Most Wonderful Time Of The Year"
          ],
          [
           "Black Mamba"
          ],
          [
           "Sunrise Over The Bay"
          ],
          [
           "Ego Death (feat. Kanye West, FKA twigs & Skrillex)"
          ],
          [
           "Never Forgotten"
          ],
          [
           "Death Ain't Easy"
          ],
          [
           "Downfall"
          ],
          [
           "Schlafmittel"
          ],
          [
           "Go"
          ],
          [
           "THE BADDEST"
          ],
          [
           "Covered In Gold - PvD Club Mix"
          ],
          [
           "Woah"
          ],
          [
           "Who Am I"
          ],
          [
           "Back Again (feat. Lil Durk)"
          ],
          [
           "Drowning"
          ],
          [
           "La Mejor de Todas"
          ],
          [
           "The Launch"
          ],
          [
           "PERSIAN RUGS"
          ],
          [
           "Oblivion"
          ],
          [
           "Savage Remix (feat. Beyoncé)"
          ],
          [
           "Punk - Tom Staar Remix"
          ],
          [
           "White Tee - Alternate Bass Boosted Version"
          ],
          [
           "Our Moon"
          ],
          [
           "Freaky Girls (feat. SZA)"
          ],
          [
           "Mo Chara"
          ],
          [
           "Reggaetonera"
          ],
          [
           "Our Journey (TFSFX Anthem)"
          ],
          [
           "Pretty Boy (feat. Lil Yachty)"
          ],
          [
           "CHAIN BREAKER"
          ],
          [
           "Madrid (feat. Myke Towers)"
          ],
          [
           "Hark! The Herald Angels Sing"
          ],
          [
           "LOYAL (feat. Drake)"
          ],
          [
           "Wake Me Up - Radio Edit"
          ],
          [
           "Breaking Up Was Easy In The 90's"
          ],
          [
           "I Gotta Feeling"
          ],
          [
           "Backdoor"
          ],
          [
           "Years at My Fingertips (Coyote Hours 2015)"
          ],
          [
           "Daechwita"
          ],
          [
           "lil jeep"
          ],
          [
           "Dynamiden, Walzer, Op. 173"
          ],
          [
           "Maria"
          ],
          [
           "My Time"
          ],
          [
           "Frozen - Mixed"
          ],
          [
           "Garden Song"
          ],
          [
           "Teenage Dream"
          ],
          [
           "Mimosa - Mixed"
          ],
          [
           "Lost In Yesterday"
          ],
          [
           "Libra Rising - Mixed"
          ],
          [
           "MAYBE"
          ],
          [
           "Plastic"
          ],
          [
           "Break The Chain - Mixed"
          ],
          [
           "Let Me Down"
          ],
          [
           "Reconnected - Mixed"
          ],
          [
           "Qué Maldición"
          ],
          [
           "Nebular - Mixed"
          ],
          [
           "De Vuelta Pa' La Vuelta"
          ],
          [
           "Time - Mixed"
          ],
          [
           "Mi Vicio"
          ],
          [
           "Euphoria (feat. Travis Scott & Kaash Paige)"
          ],
          [
           "Snow Pure - Mixed"
          ],
          [
           "survivin'"
          ],
          [
           "Come in from the Cold - Mixed"
          ],
          [
           "LOST IN PARADISE"
          ],
          [
           "I'll Be Your Chemical - Mixed"
          ],
          [
           "Is It True"
          ],
          [
           "17"
          ],
          [
           "Mirage - Mixed"
          ],
          [
           "all I know (feat. Trippie Redd)"
          ],
          [
           "Head Over Heels - Mixed"
          ],
          [
           "ZTFO"
          ],
          [
           "Year 2020"
          ],
          [
           "God’s Menu"
          ],
          [
           "Year 2020"
          ],
          [
           "Michelle"
          ],
          [
           "Breathe"
          ],
          [
           "Lose Somebody"
          ],
          [
           "King"
          ],
          [
           "damn!"
          ],
          [
           "Firefly"
          ],
          [
           "CIVIL WAR - Bonus"
          ],
          [
           "Drifting"
          ],
          [
           "Six Feet Apart"
          ],
          [
           "Malibu Mornings"
          ],
          [
           "By Yourself (feat. Jhené Aiko & Mustard)"
          ],
          [
           "Breathe"
          ],
          [
           "Camelot"
          ],
          [
           "Romance 22"
          ],
          [
           "Imperfections (Interlude)"
          ],
          [
           "BERETTA (feat. Wifisfuneral)"
          ],
          [
           "2020 Is My Year"
          ],
          [
           "Free Jamell (with YNW Melly)"
          ],
          [
           "2020 (Year Of Fear)"
          ],
          [
           "Trying My Best"
          ],
          [
           "Complex Solution - Mixed"
          ],
          [
           "Good Example (with Andy Grammer)"
          ],
          [
           "We Are Not Alone - Mixed"
          ],
          [
           "How Many Times"
          ],
          [
           "Rewind - Mixed"
          ],
          [
           "Break My Heart"
          ],
          [
           "Adrenaline (James Dymond Remix) - Mixed"
          ],
          [
           "dreamy night"
          ],
          [
           "Revelations - Mixed"
          ],
          [
           "Home"
          ],
          [
           "Stay Close - Mixed"
          ],
          [
           "Hallucinate"
          ],
          [
           "Fluidity - Mixed"
          ],
          [
           "More Hearts Than Mine"
          ],
          [
           "Origins (Billy Gillies Remix) - Mixed"
          ],
          [
           "PRIMADONA"
          ],
          [
           "Smile (with The Weeknd)"
          ],
          [
           "Beef FloMix"
          ],
          [
           "Molly (feat. Sheff G)"
          ],
          [
           "Real Baby Pluto"
          ],
          [
           "Diosa"
          ],
          [
           "El Tóxico"
          ],
          [
           "Chinese New Year Song 2020"
          ],
          [
           "Back Door"
          ],
          [
           "OHFR?"
          ],
          [
           "All The Senses"
          ],
          [
           "Long Beach"
          ],
          [
           "Chopper City"
          ],
          [
           "Wild, Wild Heart"
          ],
          [
           "Tonight (feat. iann dior)"
          ],
          [
           "Bravo"
          ],
          [
           "NOT FAIR (feat. Corbin)"
          ],
          [
           "Awakening"
          ],
          [
           "Bummerland"
          ],
          [
           "Alive"
          ],
          [
           "Crying Over You"
          ],
          [
           "The Phoenix (FSOE 650 Anthem)"
          ],
          [
           "Edge of Midnight (Midnight Sky Remix) (feat. Stevie Nicks)"
          ],
          [
           "Your Mind"
          ],
          [
           "Compensating (feat. Young Thug)"
          ],
          [
           "The Voice"
          ],
          [
           "WANNABE"
          ],
          [
           "Leonie - Beatsole Remix"
          ],
          [
           "On The Way (feat. Mila J)"
          ],
          [
           "Daring To Love"
          ],
          [
           "Kinfolks"
          ],
          [
           "What Makes You Feel Alive"
          ],
          [
           "Flood My Wrist (feat. Lil Uzi Vert)"
          ],
          [
           "One Last Time - Roman Messer Remix"
          ],
          [
           "Arriba"
          ],
          [
           "I Believe"
          ],
          [
           "MODUS"
          ],
          [
           "Discopolis 2.0 - MEDUZA Remix"
          ],
          [
           "I’m Ready (with Demi Lovato)"
          ],
          [
           "My Remedy"
          ],
          [
           "Savage Love (Laxed - Siren Beat)"
          ],
          [
           "Silent Waves - Vinny DeGeorge Remix"
          ],
          [
           "Roses"
          ],
          [
           "Wasteland"
          ],
          [
           "LMK"
          ],
          [
           "Hypnotized"
          ],
          [
           "25/8"
          ],
          [
           "Could This Be"
          ],
          [
           "Know My Rights (feat. Lil Baby)"
          ],
          [
           "Step It Up"
          ],
          [
           "CHRISTMAS 2020 (my favorite time of the year)"
          ],
          [
           "gold rush"
          ],
          [
           "Turn Me On (Dr. Love) - 132 Bpm, 32 Count Pro Edition"
          ],
          [
           "JUMP (feat. YoungBoy Never Broke Again)"
          ],
          [
           "Kingslayer (feat. BABYMETAL)"
          ],
          [
           "A State Of Trance Year Mix 2020 - Intro: What Is Out There?"
          ],
          [
           "Just for a Moment - From \"High School Musical: The Musical: The Series\""
          ],
          [
           "10years vintage - LiVE from 2020.3.5 @EBISU LIQUIDROOM"
          ],
          [
           "People I Don't Like"
          ],
          [
           "Saint Bernard"
          ],
          [
           "Common Enemy"
          ],
          [
           "Black Swan"
          ],
          [
           "Diverger"
          ],
          [
           "Regardless"
          ],
          [
           "King of the Blind"
          ],
          [
           "Crisis"
          ],
          [
           "Indigo Child"
          ],
          [
           "@ MEH"
          ],
          [
           "Bastard Paradise"
          ],
          [
           "Wish I Knew"
          ],
          [
           "Five"
          ],
          [
           "Move My Body - Club Mix"
          ],
          [
           "Diadem"
          ],
          [
           "What's Your Love"
          ],
          [
           "Wannabe"
          ],
          [
           "Break Free - Radio Edit"
          ],
          [
           "Caution"
          ],
          [
           "Never Go Away - Radio Edit"
          ],
          [
           "Caramello - Danny Jay Remix"
          ],
          [
           "Falling - Radio Edit"
          ],
          [
           "Bliss"
          ],
          [
           "Dreams (Will Come Alive) - Radio Edit"
          ],
          [
           "Cake By The Ocean"
          ],
          [
           "Can't Stop Me - Radio Edit"
          ],
          [
           "frontLine"
          ],
          [
           "Marshmello and Hot Chocolate"
          ],
          [
           "New Love"
          ],
          [
           "Talking To Myself"
          ],
          [
           "Conversation After Hours"
          ],
          [
           "Free"
          ],
          [
           "Miss You"
          ],
          [
           "Talking To Myself"
          ],
          [
           "Conversation After Hours"
          ],
          [
           "T Shirt (Interlude)"
          ],
          [
           "At Midnight"
          ],
          [
           "Celebrating"
          ],
          [
           "Big Serpent"
          ],
          [
           "Vent"
          ],
          [
           "Just Be Alone"
          ],
          [
           "Noche Junto al Mar"
          ],
          [
           "Body Shake"
          ],
          [
           "Gawi Bawi Bo - Radio Edit"
          ],
          [
           "(BONUS) Cold Summers [feat. QuickBandz & YPC Kool]"
          ],
          [
           "Go Up"
          ],
          [
           "No Naps"
          ],
          [
           "Issue"
          ],
          [
           "Ocean Breeze - Radio Edit"
          ],
          [
           "Joy & Fun"
          ],
          [
           "The Middle"
          ],
          [
           "Weekend"
          ],
          [
           "Get Down"
          ],
          [
           "Sea"
          ],
          [
           "Smooth Funky Moods"
          ],
          [
           "Relaxing Coffee Time"
          ],
          [
           "Palm Angels Freestyle"
          ],
          [
           "Best Moments"
          ],
          [
           "Take On The World"
          ],
          [
           "Yes No Yes"
          ],
          [
           "Wild Side"
          ],
          [
           "The Moment"
          ],
          [
           "Our Way - Niels Van Gogh Remix Edit"
          ],
          [
           "So Toast!"
          ],
          [
           "Come On - Radio Edit"
          ],
          [
           "Legacy"
          ],
          [
           "Forever In Paradise"
          ],
          [
           "Saturday"
          ],
          [
           "Snot Thot"
          ],
          [
           "Periscope"
          ],
          [
           "Signals - Radio Edit"
          ],
          [
           "Only Tonight - Radio Edit"
          ],
          [
           "LayUp"
          ],
          [
           "The One"
          ],
          [
           "Together"
          ],
          [
           "Improvisations"
          ]
         ],
         "hovertemplate": "x=%{x}<br>y=%{y}<br>title=%{customdata[0]}<br>cluster=%{marker.color}<extra></extra>",
         "legendgroup": "",
         "marker": {
          "color": [
           4,
           4,
           4,
           10,
           16,
           7,
           4,
           4,
           16,
           7,
           4,
           11,
           10,
           0,
           6,
           7,
           9,
           16,
           1,
           4,
           13,
           1,
           15,
           13,
           16,
           10,
           10,
           13,
           13,
           4,
           5,
           17,
           4,
           13,
           5,
           6,
           6,
           15,
           7,
           13,
           17,
           16,
           9,
           0,
           6,
           6,
           6,
           6,
           6,
           6,
           6,
           6,
           17,
           6,
           4,
           18,
           1,
           0,
           17,
           5,
           16,
           6,
           6,
           13,
           13,
           3,
           7,
           16,
           9,
           6,
           6,
           6,
           6,
           6,
           6,
           6,
           6,
           17,
           6,
           6,
           6,
           6,
           6,
           6,
           6,
           17,
           6,
           6,
           3,
           3,
           13,
           11,
           13,
           11,
           3,
           3,
           13,
           13,
           13,
           17,
           5,
           13,
           13,
           4,
           19,
           16,
           16,
           6,
           6,
           7,
           7,
           7,
           7,
           3,
           16,
           7,
           7,
           16,
           6,
           11,
           7,
           16,
           15,
           13,
           13,
           16,
           6,
           6,
           17,
           7,
           7,
           7,
           7,
           3,
           16,
           7,
           7,
           16,
           11,
           16,
           6,
           7,
           6,
           6,
           4,
           15,
           17,
           9,
           12,
           9,
           0,
           16,
           10,
           10,
           3,
           17,
           2,
           7,
           2,
           16,
           2,
           9,
           2,
           6,
           8,
           2,
           6,
           8,
           14,
           6,
           19,
           19,
           6,
           2,
           8,
           6,
           2,
           8,
           6,
           8,
           2,
           17,
           14,
           12,
           6,
           12,
           12,
           6,
           2,
           2,
           6,
           8,
           12,
           6,
           2,
           12,
           6,
           2,
           8,
           6,
           8,
           8,
           6,
           12,
           14,
           17,
           2,
           14,
           6,
           14,
           19,
           6,
           14,
           2,
           6,
           14,
           19,
           6,
           19,
           12,
           6,
           2,
           8,
           4,
           12,
           2,
           6,
           12,
           2,
           5,
           8,
           8,
           6,
           8,
           19,
           6,
           2,
           2,
           6,
           8,
           8,
           6,
           14,
           8,
           2,
           2,
           2,
           14,
           19,
           12,
           2,
           12,
           14,
           8,
           17,
           8,
           2,
           2,
           19,
           12,
           19,
           14,
           19,
           8,
           2,
           14,
           14,
           14,
           14,
           12,
           19,
           14,
           2,
           8,
           2,
           2,
           8,
           8,
           12,
           14,
           8,
           2,
           12,
           14,
           2,
           14,
           7,
           9,
           16,
           1,
           4,
           6,
           15,
           15,
           6,
           1,
           0,
           15,
           8,
           1,
           18,
           15,
           15,
           15,
           17,
           15,
           1,
           1,
           0,
           1,
           18,
           15,
           5,
           1,
           10,
           18,
           15,
           15,
           4,
           0,
           15,
           1,
           15,
           15,
           0,
           15,
           17,
           17,
           7,
           0,
           3,
           15,
           15,
           0,
           15,
           1,
           4,
           13,
           13,
           16,
           10,
           10,
           10,
           10,
           10,
           10,
           5,
           0,
           11,
           3,
           13,
           13,
           13,
           1,
           10,
           7,
           4,
           18,
           3,
           3,
           4,
           15,
           17,
           4,
           4,
           1,
           15,
           3,
           5,
           1,
           15,
           0,
           5,
           16,
           0,
           5,
           7,
           3,
           3,
           5,
           0,
           10,
           3,
           5,
           5,
           0,
           5,
           15,
           19,
           5,
           6,
           15,
           17,
           10,
           4,
           18,
           17,
           18,
           5,
           17,
           4,
           18,
           10,
           16,
           16,
           3,
           15,
           15,
           8,
           19,
           2,
           8,
           14,
           14,
           12,
           12,
           17,
           2,
           2,
           15,
           12,
           17,
           14,
           11,
           2,
           17,
           14,
           5,
           8,
           17,
           2,
           5,
           2,
           6,
           14,
           11,
           2,
           17,
           2,
           11,
           14,
           11,
           2,
           10,
           14,
           16,
           8,
           1,
           2,
           5,
           8,
           10,
           14,
           10,
           8,
           10,
           8,
           11,
           2,
           5,
           14,
           2,
           8,
           17,
           2,
           11,
           14,
           3,
           19,
           11,
           12,
           16,
           8,
           11,
           8,
           13,
           8,
           16,
           14,
           5,
           12,
           1,
           12,
           11,
           2,
           11,
           14,
           17,
           14,
           17,
           2,
           1,
           2,
           10,
           14,
           17,
           2,
           11,
           8,
           0,
           2,
           17,
           12,
           17,
           12,
           3,
           2,
           17,
           2,
           11,
           8,
           17,
           12,
           17,
           2,
           17,
           14,
           6,
           2,
           11,
           2,
           17,
           2,
           11,
           8,
           13,
           8,
           9,
           8,
           11,
           12,
           11,
           8,
           11,
           2,
           11,
           8,
           11,
           2,
           17,
           14,
           17,
           14,
           11,
           2,
           17,
           2,
           3,
           8,
           11,
           14,
           17,
           2,
           11,
           19,
           17,
           2,
           17,
           12,
           11,
           12,
           11,
           19,
           11,
           8,
           11,
           8,
           6,
           2,
           11,
           14,
           11,
           2,
           11,
           8,
           17,
           2,
           11,
           8,
           5,
           12,
           11,
           8,
           10,
           12,
           4,
           19,
           13,
           14,
           3,
           12,
           13,
           8,
           10,
           8,
           17,
           8,
           5,
           14,
           6,
           4,
           0,
           15,
           1,
           15,
           15,
           0,
           15,
           17,
           17,
           7,
           0,
           3,
           15,
           15,
           0,
           15,
           1,
           0,
           0,
           10,
           10,
           4,
           10,
           10,
           4,
           10,
           10,
           10,
           5,
           1,
           0,
           0,
           15,
           5,
           1,
           15,
           1,
           0,
           18,
           1,
           0,
           5,
           0,
           1,
           1,
           5,
           15,
           17,
           1,
           0,
           10,
           10,
           10,
           10,
           10,
           10,
           10,
           10,
           10,
           10,
           10,
           10,
           10,
           10,
           17,
           5,
           1,
           15,
           7,
           4,
           4,
           7,
           7,
           4,
           7,
           7,
           7,
           7,
           16,
           7,
           7,
           0,
           15,
           15,
           0,
           15,
           1,
           0,
           1,
           1,
           18,
           4,
           1,
           7,
           17,
           4,
           1,
           4,
           1,
           0,
           3,
           1,
           5,
           15,
           1,
           15,
           1,
           0,
           1,
           0,
           15,
           15,
           1,
           7,
           18,
           18,
           18,
           1,
           0,
           1,
           1,
           1,
           5,
           1,
           19,
           15,
           15,
           5,
           1,
           18,
           9,
           15,
           0,
           15,
           6,
           0,
           1,
           3,
           7,
           9,
           9,
           15,
           17,
           4,
           3,
           11,
           17,
           3,
           5,
           16,
           5,
           10,
           10,
           15,
           0,
           5,
           3,
           18,
           7,
           5,
           5,
           3,
           4,
           6,
           5,
           5,
           0,
           0,
           5,
           16,
           5,
           17,
           11,
           7,
           1,
           16,
           4,
           5,
           4,
           5,
           5,
           4,
           5,
           4,
           4,
           3,
           13,
           7,
           17,
           13,
           18,
           13,
           4,
           15,
           5,
           15,
           13,
           13,
           13,
           0,
           13,
           17,
           5,
           17,
           5,
           17,
           19,
           1,
           3,
           17,
           13,
           0,
           10,
           17,
           10,
           6,
           11,
           11,
           17,
           7,
           10,
           18,
           5,
           2,
           17,
           12,
           11,
           14,
           16,
           14,
           7,
           14,
           10,
           12,
           11,
           8,
           11,
           8,
           13,
           19,
           17,
           14,
           17,
           8,
           6,
           2,
           11,
           2,
           11,
           14,
           5,
           2,
           5,
           14,
           11,
           14,
           17,
           2,
           4,
           14,
           11,
           14,
           11,
           2,
           0,
           2,
           5,
           2,
           11,
           2,
           11,
           6,
           5,
           2,
           1,
           2,
           11,
           2,
           11,
           19,
           10,
           2,
           11,
           14,
           17,
           19,
           4,
           2,
           10,
           2,
           11,
           14,
           5,
           14,
           11,
           19,
           11,
           14,
           3,
           19,
           11,
           2,
           15,
           12,
           6,
           14,
           6,
           14,
           5,
           8,
           16,
           14,
           16,
           8,
           6,
           14,
           6,
           12,
           6,
           2,
           1,
           14,
           0,
           2,
           6,
           19,
           13,
           2,
           15,
           2,
           5,
           8,
           6,
           8,
           17,
           2,
           13,
           2,
           0,
           14,
           3,
           14,
           15,
           14,
           3,
           2,
           3,
           8,
           3,
           8,
           3,
           8,
           3,
           8,
           3,
           14,
           3,
           14,
           5,
           8,
           17,
           2,
           5,
           8,
           6,
           14,
           11,
           2,
           5,
           2,
           10,
           12,
           0,
           8,
           15,
           5,
           3,
           14,
           1,
           2,
           7,
           14,
           6,
           2,
           1,
           2,
           15,
           12,
           7,
           2,
           3,
           12,
           15,
           8,
           13,
           12,
           15,
           14,
           0,
           14,
           15,
           8,
           0,
           14,
           3,
           14,
           7,
           14,
           3,
           2,
           13,
           14,
           6,
           14,
           6,
           12,
           0,
           2,
           14,
           2,
           4,
           1,
           15,
           7,
           4,
           4,
           7,
           7,
           4,
           7,
           0,
           1,
           0,
           15,
           15,
           1,
           7,
           18,
           18,
           18,
           1,
           0,
           1,
           1,
           1,
           5,
           1,
           15,
           19,
           1,
           15,
           5,
           18,
           9,
           15,
           0,
           15,
           6,
           0,
           1,
           15,
           11,
           19,
           1,
           15,
           15,
           18,
           5,
           0,
           6,
           15,
           0,
           17,
           1,
           15,
           1,
           13,
           4,
           15,
           6,
           15,
           0,
           15,
           1,
           1,
           15,
           1,
           15,
           1,
           15,
           15,
           15,
           0,
           0,
           15,
           0,
           10,
           1,
           1,
           1,
           1,
           1,
           15,
           1,
           0,
           0,
           1,
           1,
           1,
           15,
           1,
           15,
           0,
           15,
           1,
           15,
           1,
           0,
           0,
           1,
           15,
           15,
           5,
           15,
           0,
           1,
           1,
           15,
           1,
           15,
           1,
           15,
           0,
           15,
           1,
           5,
           3,
           18,
           19,
           6,
           15,
           18,
           19,
           18,
           18,
           18,
           3,
           7,
           1,
           3,
           7,
           0,
           16,
           15,
           6,
           5,
           0,
           4,
           1,
           15,
           4,
           10,
           4,
           10,
           18,
           10,
           10,
           18,
           10,
           7,
           17,
           5,
           1,
           5,
           0,
           1,
           4,
           0,
           5,
           4,
           0,
           5,
           1,
           4,
           5,
           15,
           1,
           5,
           4,
           5,
           1,
           4,
           5,
           15,
           1,
           1,
           11,
           13,
           18,
           3,
           4,
           3,
           4,
           4,
           5,
           4,
           10,
           5,
           1,
           3,
           15,
           13,
           18,
           15,
           13,
           4,
           5,
           18,
           3,
           7,
           18,
           4,
           0,
           1,
           13,
           15,
           17,
           6,
           17,
           15,
           15,
           3,
           0,
           3,
           1,
           0,
           10,
           18,
           10,
           10,
           10,
           5,
           10,
           17,
           5,
           17,
           17,
           5,
           11,
           5,
           15,
           10,
           10,
           9,
           17,
           4,
           4,
           1,
           0,
           11,
           17,
           11,
           15,
           17,
           3,
           11,
           0,
           11,
           18,
           11,
           6,
           11,
           11,
           11,
           17,
           17,
           6,
           11,
           11,
           11,
           11,
           18,
           17,
           8,
           16,
           19,
           5,
           2,
           5,
           2,
           14,
           6,
           14,
           19,
           0,
           2,
           6,
           8,
           2,
           13,
           14,
           6,
           8,
           19,
           13,
           8,
           7,
           14,
           13,
           8,
           8,
           0,
           2,
           16,
           8,
           13,
           14,
           5,
           8,
           15,
           8,
           17,
           8,
           19,
           5,
           14,
           17,
           14,
           18,
           14,
           17,
           19,
           17,
           14,
           5,
           19,
           11,
           2,
           17,
           12,
           17,
           14,
           11,
           14,
           11,
           8,
           11,
           19,
           13,
           14,
           10,
           14,
           17,
           6,
           11,
           2,
           5,
           14,
           8,
           13,
           14,
           4,
           14,
           5,
           12,
           2,
           5,
           14,
           0,
           2,
           7,
           12,
           7,
           2,
           5,
           14,
           11,
           14,
           5,
           2,
           11,
           8,
           17,
           8,
           1,
           2,
           1,
           8,
           11,
           14,
           6,
           2,
           13,
           8,
           4,
           2,
           8,
           8,
           5,
           2,
           11,
           8,
           5,
           14,
           17,
           14,
           5,
           2,
           17,
           2,
           17,
           2,
           3,
           14,
           7,
           8,
           7,
           2,
           7,
           8,
           7,
           14,
           17,
           14,
           1,
           14,
           12,
           18,
           14,
           3,
           14,
           3,
           2,
           17,
           8,
           13,
           14,
           5,
           12,
           4,
           12,
           16,
           8,
           17,
           8,
           13,
           14,
           16,
           2,
           7,
           14,
           7,
           12,
           11,
           14,
           11,
           14,
           5,
           14,
           11,
           2,
           17,
           8,
           17,
           19,
           11,
           14,
           17,
           8,
           5,
           14,
           4,
           15,
           6,
           15,
           0,
           15,
           1,
           1,
           15,
           1,
           15,
           1,
           15,
           15,
           15,
           0,
           0,
           15,
           0,
           10,
           1,
           1,
           1,
           1,
           1,
           15,
           1,
           0,
           0,
           1,
           1,
           1,
           15,
           1,
           15,
           0,
           15,
           1,
           15,
           1,
           0,
           0,
           1,
           15,
           15,
           5,
           15,
           0,
           1,
           1,
           15,
           1,
           15,
           1,
           5,
           1,
           15,
           0,
           15,
           3,
           18,
           19,
           6,
           15,
           18,
           19,
           18,
           18,
           18,
           3,
           7,
           1,
           3,
           7,
           0,
           16,
           15,
           6,
           5,
           0,
           1,
           4,
           4,
           0,
           4,
           1,
           4,
           4,
           7,
           4,
           7,
           10,
           1,
           0,
           10,
           4,
           4,
           4,
           13,
           16,
           7,
           5,
           0,
           0,
           10,
           3,
           13,
           18,
           6,
           17,
           18,
           15,
           9,
           16,
           16,
           11,
           9,
           16,
           1,
           16,
           0,
           1,
           15,
           18,
           13,
           17,
           0,
           13,
           5,
           7,
           15,
           10,
           10,
           6,
           3,
           13,
           4,
           11,
           11,
           0,
           10,
           10,
           10,
           10,
           10,
           5,
           10,
           10,
           5,
           4,
           15,
           5,
           15,
           5,
           5,
           18,
           1,
           4,
           4,
           1,
           5,
           1,
           13,
           15,
           15,
           15,
           15,
           5,
           15,
           13,
           15,
           5,
           17,
           4,
           5,
           1,
           1,
           13,
           13,
           13,
           13,
           13,
           13,
           13,
           4,
           18,
           4,
           10,
           18,
           5,
           10,
           13,
           18,
           15,
           3,
           11,
           0,
           0,
           15,
           15,
           3,
           7,
           3,
           1,
           15,
           3,
           15,
           15,
           15,
           1,
           15,
           4,
           1,
           5,
           1,
           4,
           5,
           5,
           1,
           0,
           15,
           13,
           13,
           0,
           4,
           16,
           0,
           7,
           10,
           10,
           10,
           10,
           10,
           17,
           10,
           10,
           4,
           13,
           13,
           0,
           1,
           0,
           5,
           10,
           4,
           0,
           16,
           1,
           3,
           5,
           4,
           4,
           0,
           18,
           4,
           4,
           4,
           13,
           1,
           4,
           0,
           18,
           3,
           18,
           16,
           6,
           16,
           16,
           17,
           10,
           10,
           10,
           10,
           17,
           6,
           0,
           16,
           17,
           10,
           5,
           10,
           10,
           19,
           7,
           6,
           3,
           1,
           16,
           3,
           3,
           16,
           3,
           3,
           3,
           3,
           6,
           3,
           0,
           1,
           14,
           10,
           2,
           3,
           8,
           4,
           19,
           17,
           14,
           5,
           2,
           13,
           14,
           3,
           8,
           5,
           14,
           17,
           14,
           17,
           19,
           3,
           2,
           11,
           19,
           11,
           8,
           1,
           14,
           10,
           14,
           7,
           12,
           7,
           14,
           7,
           14,
           7,
           17,
           16,
           2,
           5,
           14,
           10,
           14,
           5,
           12,
           3,
           14,
           17,
           8,
           17,
           14,
           17,
           12,
           11,
           8,
           17,
           2,
           1,
           8,
           13,
           8,
           3,
           19,
           13,
           14,
           11,
           8,
           5,
           8,
           0,
           2,
           10,
           2,
           10,
           12,
           3,
           14,
           7,
           8,
           16,
           19,
           11,
           8,
           17,
           14,
           11,
           2,
           11,
           14,
           17,
           8,
           14,
           17,
           19,
           17,
           8,
           5,
           2,
           13,
           2,
           13,
           14,
           4,
           14,
           11,
           14,
           11,
           14,
           17,
           2,
           11,
           14,
           17,
           2,
           7,
           19,
           7,
           14,
           7,
           2,
           7,
           2,
           3,
           14,
           5,
           8,
           11,
           14,
           13,
           8,
           13,
           14,
           16,
           14,
           5,
           14,
           17,
           2,
           5,
           14,
           1,
           2,
           11,
           14,
           10,
           8,
           11,
           19,
           7,
           2,
           7,
           14,
           16,
           19,
           10,
           14,
           13,
           8,
           11,
           14,
           17,
           8,
           3,
           8,
           1,
           14,
           13,
           8,
           17,
           2,
           17,
           8,
           17,
           2,
           5,
           2,
           17,
           2,
           2,
           17,
           12,
           1,
           2,
           5,
           8,
           4,
           14,
           15,
           14,
           7,
           14,
           7,
           8,
           7,
           14,
           4,
           15,
           9,
           16,
           16,
           11,
           9,
           16,
           1,
           16,
           0,
           1,
           15,
           18,
           13,
           17,
           0,
           13,
           5,
           7,
           15,
           10,
           10,
           6,
           3,
           13,
           4,
           16,
           13,
           16,
           5,
           16,
           4,
           15,
           3,
           13,
           18,
           4,
           13,
           0,
           7,
           16,
           16,
           3,
           3,
           16,
           16,
           16,
           16,
           16,
           7,
           9,
           1,
           16,
           16,
           3,
           3,
           16,
           16,
           16,
           16,
           3,
           16,
           4,
           7,
           4,
           7,
           5,
           11,
           11,
           11,
           1,
           15,
           11,
           11,
           11,
           11,
           0,
           15,
           15,
           17,
           0,
           15,
           5,
           5,
           17,
           6,
           6,
           15,
           17,
           5,
           4,
           17,
           0,
           0,
           4,
           0,
           17,
           4,
           15,
           15,
           4,
           0,
           1,
           1,
           0,
           15,
           15,
           6,
           1,
           5,
           5,
           4,
           15,
           1,
           4,
           0,
           18,
           13,
           18,
           4,
           10,
           18,
           13,
           0,
           15,
           4,
           18,
           18,
           13,
           15,
           5,
           17,
           1,
           13,
           18,
           17,
           13,
           13,
           5,
           1,
           18,
           1,
           18,
           15,
           18,
           13,
           18,
           11,
           18,
           15,
           5,
           18,
           18,
           5,
           5,
           18,
           18,
           5,
           15,
           18,
           0,
           15,
           18,
           1,
           5,
           0,
           5,
           18,
           18,
           5,
           15,
           13,
           17,
           5,
           15,
           4,
           13,
           13,
           13,
           13,
           13,
           13,
           13,
           13,
           18,
           18,
           13,
           6,
           15,
           18,
           17,
           15,
           15,
           15,
           17,
           1,
           15,
           2,
           15,
           15,
           19,
           18,
           13,
           3,
           7,
           3,
           10,
           13,
           13,
           10,
           16,
           10,
           10,
           3,
           1,
           10,
           15,
           10,
           10,
           10,
           10,
           10,
           10,
           10,
           10,
           4,
           7,
           4,
           10,
           10,
           10,
           17,
           10,
           10,
           10,
           4,
           5,
           17,
           4,
           5,
           0,
           15,
           1,
           4,
           19,
           13,
           13,
           1,
           18,
           18,
           19,
           0,
           4,
           18,
           3,
           15,
           7,
           13,
           7,
           19,
           19,
           3,
           1,
           0,
           4,
           10,
           1,
           3,
           10,
           11,
           1,
           11,
           1,
           17,
           11,
           9,
           3,
           7,
           7,
           11,
           1,
           5,
           5,
           11,
           0,
           11,
           7,
           13,
           7,
           7,
           10,
           10,
           10,
           10,
           12,
           5,
           19,
           5,
           12,
           0,
           14,
           17,
           2,
           5,
           2,
           5,
           14,
           17,
           19,
           3,
           8,
           17,
           2,
           5,
           2,
           5,
           2,
           14,
           10,
           14,
           11,
           6,
           8,
           14,
           7,
           12,
           7,
           8,
           2,
           14,
           14,
           7,
           14,
           7,
           12,
           7,
           19,
           4,
           12,
           8,
           5,
           19,
           17,
           2,
           13,
           14,
           5,
           2,
           13,
           14,
           2,
           11,
           8,
           11,
           12,
           5,
           2,
           4,
           8,
           5,
           8,
           17,
           14,
           11,
           2,
           11,
           2,
           16,
           19,
           7,
           2,
           7,
           12,
           7,
           8,
           16,
           2,
           4,
           14,
           7,
           14,
           7,
           2,
           5,
           2,
           7,
           14,
           7,
           8,
           17,
           2,
           16,
           14,
           10,
           14,
           14,
           17,
           2,
           16,
           6,
           11,
           14,
           17,
           8,
           11,
           2,
           11,
           14,
           5,
           8,
           15,
           14,
           6,
           5,
           12,
           13,
           14,
           2,
           11,
           17,
           5,
           2,
           13,
           2,
           17,
           2,
           19,
           5,
           12,
           11,
           8,
           17,
           12,
           10,
           2,
           16,
           12,
           16,
           8,
           7,
           2,
           2,
           15,
           14,
           1,
           12,
           11,
           12,
           11,
           8,
           5,
           8,
           3,
           19,
           11,
           14,
           17,
           2,
           14,
           3,
           2,
           11,
           14,
           5,
           14,
           5,
           19,
           3,
           19,
           3,
           14,
           13,
           14,
           13,
           14,
           11,
           12,
           11,
           13,
           18,
           4,
           13,
           0,
           7,
           16,
           16,
           3,
           3,
           16,
           16,
           16,
           16,
           16,
           7,
           9,
           1,
           16,
           16,
           3,
           3,
           16,
           16,
           16,
           16,
           3,
           16,
           4,
           7,
           4,
           7,
           5,
           11,
           11,
           4,
           6,
           16,
           13,
           0,
           1,
           0,
           0,
           3,
           1,
           18,
           5,
           15,
           3,
           5,
           11,
           15,
           3,
           1,
           19,
           3,
           13,
           3,
           17,
           11,
           13,
           17,
           0,
           3,
           13,
           3,
           15,
           15,
           15,
           18,
           0,
           15,
           0,
           13,
           15,
           15,
           1,
           15,
           4,
           0,
           15,
           15,
           15,
           1,
           6,
           15,
           0,
           15,
           5,
           11,
           5,
           1,
           5,
           0,
           5,
           5,
           5,
           5,
           5,
           13,
           1,
           0,
           5,
           13,
           1,
           13,
           17,
           5,
           13,
           5,
           13,
           13,
           13,
           13,
           13,
           5,
           5,
           17,
           5,
           15,
           5,
           13,
           17,
           0,
           0,
           0,
           1,
           6,
           1,
           15,
           0,
           1,
           15,
           4,
           15,
           15,
           1,
           4,
           15,
           1,
           13,
           13,
           13,
           13,
           13,
           18,
           13,
           18,
           18,
           18,
           13,
           13,
           13,
           13,
           13,
           13,
           13,
           13,
           13,
           13,
           13,
           15,
           19,
           18,
           0,
           0,
           15,
           0,
           18,
           0,
           1,
           1,
           4,
           1,
           4,
           4,
           4,
           1,
           4,
           0,
           3,
           3,
           7,
           13,
           13,
           3,
           7,
           13,
           5,
           13,
           13,
           4,
           4,
           4,
           3,
           4,
           4,
           4,
           16,
           4,
           4,
           10,
           10,
           10,
           10,
           10,
           6,
           16,
           4,
           0,
           13,
           15,
           0,
           0,
           7,
           3,
           3,
           3,
           15,
           15,
           5,
           19,
           6,
           11,
           3,
           11,
           10,
           3,
           11,
           11,
           13,
           13,
           11,
           9,
           0,
           11,
           11,
           10,
           10,
           10,
           11,
           10,
           6,
           10,
           4,
           10,
           6,
           10,
           3,
           7,
           15,
           10,
           10,
           10,
           10,
           6,
           10,
           4,
           10,
           4,
           4,
           10,
           10,
           7,
           10,
           4,
           17,
           10,
           10,
           5,
           10,
           10,
           10,
           3,
           11,
           7,
           19,
           17,
           14,
           14,
           12,
           11,
           19,
           18,
           8,
           16,
           14,
           4,
           8,
           11,
           14,
           3,
           12,
           2,
           0,
           12,
           17,
           14,
           11,
           14,
           13,
           2,
           2,
           8,
           17,
           2,
           14,
           3,
           19,
           17,
           19,
           8,
           19,
           13,
           8,
           6,
           12,
           4,
           14,
           8,
           2,
           8,
           11,
           16,
           11,
           14,
           11,
           8,
           15,
           2,
           11,
           2,
           6,
           14,
           11,
           8,
           17,
           2,
           4,
           12,
           13,
           2,
           13,
           8,
           11,
           14,
           11,
           19,
           11,
           14,
           11,
           8,
           5,
           2,
           17,
           14,
           13,
           19,
           11,
           19,
           3,
           2,
           5,
           14,
           11,
           14,
           11,
           19,
           11,
           19,
           5,
           17,
           11,
           8,
           5,
           19,
           14,
           2,
           2,
           11,
           14,
           16,
           8,
           12,
           16,
           8,
           7,
           19,
           8,
           13,
           8,
           4,
           19,
           2,
           2,
           14,
           17,
           14,
           17,
           2,
           11,
           19,
           14,
           14,
           2,
           5,
           8,
           11,
           8,
           11,
           14,
           11,
           6,
           17,
           19,
           11,
           19,
           3,
           2,
           8,
           8,
           12,
           12,
           2,
           2,
           19,
           10,
           19,
           11,
           14,
           5,
           14,
           11,
           12,
           11,
           19,
           13,
           12,
           11,
           2,
           11,
           14,
           5,
           2,
           11,
           14,
           17,
           18,
           5,
           15,
           3,
           5,
           11,
           15,
           3,
           1,
           19,
           3,
           13,
           3,
           17,
           11,
           13,
           17,
           0,
           3,
           13,
           3,
           15,
           15,
           15,
           18,
           0,
           15,
           0,
           13,
           15,
           13,
           5,
           0,
           0,
           10,
           1,
           13,
           13,
           10,
           15,
           1,
           13,
           15,
           15,
           15,
           18,
           0,
           15,
           0,
           15,
           13,
           0,
           3,
           0,
           15,
           13,
           4,
           13,
           15,
           11,
           3,
           15,
           0,
           13,
           13,
           15,
           11,
           15,
           15,
           1,
           0,
           5,
           0,
           15,
           13,
           15,
           15,
           13,
           15,
           1,
           1,
           15,
           4,
           1,
           17,
           17,
           0,
           1,
           15,
           15,
           1,
           10,
           15,
           15,
           3,
           15,
           1,
           15,
           15,
           6,
           1,
           0,
           1,
           0,
           0,
           11,
           3,
           3,
           3,
           11,
           3,
           3,
           3,
           0,
           3,
           15,
           15,
           15,
           1,
           4,
           1,
           5,
           15,
           0,
           0,
           15,
           17,
           0,
           15,
           0,
           15,
           0,
           0,
           0,
           5,
           15,
           0,
           0,
           5,
           15,
           1,
           4,
           1,
           17,
           4,
           1,
           7,
           5,
           0,
           15,
           15,
           15,
           1,
           0,
           0,
           0,
           17,
           15,
           4,
           15,
           1,
           0,
           0,
           5,
           1,
           1,
           15,
           15,
           15,
           4,
           15,
           4,
           15,
           13,
           13,
           18,
           13,
           18,
           5,
           0,
           3,
           0,
           15,
           3,
           15,
           13,
           13,
           16,
           17,
           4,
           5,
           3,
           18,
           18,
           13,
           13,
           18,
           18,
           18,
           18,
           15,
           13,
           13,
           4,
           18,
           18,
           13,
           18,
           13,
           1,
           5,
           5,
           4,
           5,
           17,
           4,
           7,
           3,
           3,
           7,
           3,
           7,
           3,
           7,
           7,
           15,
           1,
           7,
           3,
           1,
           16,
           15,
           10,
           19,
           3,
           1,
           15,
           4,
           0,
           9,
           4,
           9,
           11,
           10,
           9,
           9,
           9,
           10,
           4,
           0,
           4,
           10,
           16,
           7,
           13,
           4,
           10,
           17,
           15,
           7,
           4,
           7,
           16,
           4,
           7,
           19,
           4,
           3,
           17,
           4,
           4,
           10,
           14,
           16,
           19,
           9,
           2,
           2,
           17,
           8,
           19,
           11,
           2,
           2,
           14,
           2,
           14,
           11,
           14,
           11,
           12,
           17,
           8,
           5,
           8,
           14,
           8,
           13,
           2,
           5,
           12,
           11,
           12,
           5,
           19,
           11,
           2,
           12,
           11,
           14,
           4,
           2,
           13,
           8,
           17,
           8,
           14,
           3,
           2,
           13,
           19,
           11,
           2,
           11,
           2,
           5,
           2,
           2,
           2,
           18,
           14,
           8,
           14,
           2,
           2,
           8,
           17,
           6,
           14,
           11,
           8,
           11,
           2,
           8,
           12,
           1,
           14,
           11,
           2,
           4,
           19,
           5,
           2,
           11,
           19,
           13,
           14,
           11,
           2,
           11,
           2,
           5,
           2,
           8,
           19,
           10,
           6,
           14,
           14,
           13,
           14,
           13,
           14,
           17,
           14,
           13,
           12,
           11,
           14,
           5,
           8,
           13,
           12,
           4,
           2,
           1,
           2,
           1,
           12,
           10,
           14,
           16,
           14,
           7,
           14,
           7,
           12,
           16,
           14,
           19,
           3,
           8,
           11,
           12,
           2,
           13,
           13,
           15,
           11,
           15,
           15,
           1,
           0,
           5,
           0,
           15,
           13,
           15,
           15,
           13,
           15,
           1,
           1,
           15,
           4,
           1,
           17,
           17,
           0,
           1,
           15,
           15,
           1,
           10,
           15,
           15,
           3,
           15,
           1,
           15,
           15,
           6,
           1,
           0,
           1,
           0,
           13,
           11,
           1,
           4,
           17,
           4,
           18,
           0,
           16,
           1,
           0,
           3,
           0,
           0,
           1,
           3,
           15,
           1,
           17,
           13,
           3,
           15,
           0,
           0,
           0,
           10,
           3,
           15,
           0,
           3,
           3,
           15,
           15,
           17,
           1,
           0,
           13,
           15,
           15,
           1,
           0,
           15,
           17,
           15,
           5,
           15,
           1,
           15,
           0,
           15,
           15,
           0,
           0,
           17,
           0,
           17,
           15,
           0,
           0,
           6,
           0,
           6,
           15,
           15,
           0,
           7,
           7,
           4,
           7,
           3,
           7,
           7,
           7,
           7,
           7,
           1,
           1,
           0,
           1,
           15,
           13,
           13,
           15,
           1,
           0,
           15,
           13,
           13,
           15,
           13,
           7,
           0,
           13,
           3,
           0,
           15,
           6,
           5,
           0,
           0,
           5,
           15,
           13,
           4,
           6,
           13,
           4,
           4,
           4,
           4,
           4,
           4,
           4,
           7,
           4,
           17,
           16,
           16,
           4,
           4,
           4,
           3,
           4,
           4,
           4,
           16,
           4,
           16,
           15,
           4,
           4,
           4,
           4,
           4,
           4,
           4,
           16,
           7,
           4,
           4,
           16,
           4,
           4,
           0,
           4,
           16,
           6,
           0,
           4,
           4,
           3,
           4,
           4,
           4,
           4,
           1,
           16,
           4,
           7,
           1,
           4,
           5,
           3,
           3,
           0,
           0,
           3,
           11,
           3,
           3,
           3,
           3,
           11,
           17,
           15,
           0,
           15,
           3,
           6,
           0,
           17,
           4,
           1,
           0,
           0,
           10,
           15,
           17,
           0,
           0,
           1,
           0,
           1,
           0,
           5,
           10,
           0,
           0,
           15,
           18,
           18,
           18,
           18,
           13,
           13,
           13,
           13,
           18,
           7,
           7,
           13,
           13,
           13,
           4,
           3,
           3,
           7,
           13,
           7,
           3,
           3,
           3,
           4,
           13,
           3,
           16,
           4,
           13,
           7,
           13,
           3,
           13,
           15,
           5,
           0,
           0,
           0,
           0,
           1,
           10,
           7,
           10,
           10,
           10,
           10,
           10,
           1,
           10,
           3,
           5,
           4,
           7,
           10,
           10,
           18,
           7,
           16,
           13,
           4,
           5,
           16,
           9,
           13,
           10,
           4,
           1,
           10,
           4,
           2,
           19,
           8,
           11,
           14,
           17,
           8,
           11,
           8,
           11,
           8,
           10,
           8,
           11,
           8,
           11,
           2,
           11,
           19,
           11,
           14,
           17,
           19,
           11,
           14,
           8,
           11,
           2,
           11,
           2,
           5,
           2,
           11,
           19,
           13,
           14,
           10,
           2,
           18,
           14,
           11,
           12,
           11,
           14,
           19,
           12,
           15,
           14,
           11,
           14,
           5,
           8,
           17,
           8,
           17,
           8,
           17,
           2,
           11,
           14,
           9,
           14,
           16,
           8,
           16,
           12,
           7,
           2,
           7,
           8,
           12,
           12,
           14,
           11,
           12,
           12,
           8,
           11,
           8,
           11,
           14,
           14,
           5,
           10,
           11,
           19,
           19,
           11,
           14,
           14,
           11,
           14,
           4,
           14,
           4,
           2,
           17,
           8,
           10,
           12,
           8,
           2,
           13,
           12,
           12,
           19,
           2,
           8,
           14,
           12,
           14,
           12,
           4,
           2,
           17,
           14,
           4,
           14,
           5,
           14,
           15,
           8,
           4,
           14,
           0,
           14,
           11,
           12,
           11,
           8,
           11,
           2,
           11,
           14,
           11,
           2,
           11,
           19,
           11,
           14,
           4,
           10,
           4,
           2,
           5,
           8,
           1,
           12,
           8,
           2,
           2,
           14,
           10,
           2,
           16,
           8,
           0,
           12,
           1,
           2,
           3,
           2,
           0,
           8,
           0,
           12,
           2,
           5,
           19,
           16,
           17,
           1,
           14,
           1,
           6,
           1,
           0,
           1,
           13,
           15,
           5,
           17,
           13,
           17,
           1,
           0,
           13,
           15,
           15,
           1,
           13,
           15,
           5,
           17,
           13,
           15,
           1,
           15,
           0,
           17,
           17,
           10,
           1,
           7,
           3,
           3,
           1,
           13,
           18,
           3,
           15,
           3,
           3,
           0,
           0,
           5,
           0,
           13,
           17,
           17,
           10,
           18,
           1,
           7,
           3,
           15,
           0,
           0,
           1,
           15,
           0,
           0,
           19,
           7,
           7,
           18,
           19,
           3,
           3,
           10,
           15,
           18,
           1,
           18,
           19,
           0,
           7,
           1,
           15,
           17,
           7,
           7,
           7,
           19,
           15,
           15,
           15,
           3,
           0,
           6,
           15,
           15,
           19,
           5,
           0,
           18,
           3,
           1,
           1,
           18,
           17,
           7,
           7,
           1,
           1,
           1,
           18,
           0,
           15,
           1,
           1,
           5,
           4,
           5,
           1,
           5,
           0,
           0,
           5,
           1,
           4,
           5,
           4,
           15,
           0,
           1,
           15,
           1,
           17,
           0,
           15,
           5,
           15,
           15,
           0,
           13,
           1,
           10,
           15,
           1,
           15,
           13,
           17,
           17,
           5,
           3,
           1,
           5,
           15,
           4,
           1,
           0,
           11,
           11,
           11,
           16,
           16,
           16,
           9,
           9,
           16,
           9,
           9,
           9,
           16,
           9,
           9,
           9,
           9,
           16,
           9,
           9,
           9,
           15,
           1,
           13,
           7,
           13,
           3,
           3,
           10,
           3,
           13,
           3,
           3,
           13,
           1,
           3,
           5,
           1,
           5,
           5,
           5,
           1,
           1,
           13,
           0,
           0,
           0,
           0,
           10,
           4,
           10,
           3,
           17,
           15,
           0,
           7,
           16,
           13,
           17,
           11,
           17,
           11,
           11,
           11,
           10,
           4,
           11,
           5,
           5,
           17,
           17,
           6,
           11,
           11,
           11,
           11,
           10,
           11,
           17,
           5,
           11,
           17,
           11,
           17,
           5,
           17,
           1,
           11,
           5,
           6,
           10,
           17,
           11,
           11,
           11,
           5,
           17,
           6,
           11,
           17,
           17,
           11,
           11,
           11,
           17,
           11,
           11,
           11,
           6,
           6,
           11,
           13,
           11,
           6,
           17,
           17,
           5,
           12,
           4,
           12,
           4,
           2,
           4,
           14,
           17,
           14,
           17,
           19,
           5,
           16,
           11,
           14,
           11,
           8,
           11,
           19,
           5,
           14,
           11,
           2,
           11,
           8,
           11,
           2,
           17,
           2,
           11,
           2,
           11,
           2,
           15,
           8,
           7,
           12,
           1,
           14,
           1,
           19,
           15,
           2,
           2,
           9,
           14,
           14,
           17,
           12,
           14,
           11,
           1,
           11,
           2,
           19,
           11,
           2,
           13,
           8,
           11,
           14,
           11,
           12,
           12,
           11,
           14,
           11,
           14,
           11,
           14,
           12,
           13,
           2,
           11,
           2,
           3,
           14,
           15,
           12,
           0,
           14,
           17,
           2,
           16,
           19,
           7,
           14,
           3,
           2,
           0,
           19,
           13,
           2,
           19,
           1,
           8,
           19,
           12,
           3,
           12,
           11,
           14,
           11,
           14,
           13,
           12,
           11,
           12,
           11,
           14,
           11,
           12,
           11,
           2,
           14,
           8,
           19,
           19,
           2,
           14,
           16,
           14,
           19,
           5,
           2,
           19,
           4,
           14,
           11,
           2,
           11,
           14,
           3,
           12,
           11,
           14,
           17,
           2,
           17,
           14,
           17,
           8,
           5,
           14,
           11,
           2,
           17,
           2,
           17,
           14,
           11,
           5,
           5,
           14,
           11,
           14,
           11,
           14,
           17,
           14,
           11,
           2,
           19,
           4,
           12,
           3,
           19,
           2,
           4,
           12,
           4,
           8,
           12,
           0,
           14,
           4,
           14,
           4,
           8,
           4,
           8,
           4,
           18,
           3,
           15,
           3,
           3,
           0,
           0,
           5,
           0,
           13,
           17,
           17,
           10,
           18,
           1,
           7,
           3,
           15,
           0,
           0,
           1,
           15,
           0,
           0,
           19,
           7,
           7,
           18,
           19,
           3,
           3,
           10,
           15,
           18,
           1,
           18,
           19,
           0,
           7,
           1,
           15,
           17,
           7,
           7,
           7,
           19,
           15,
           15,
           15,
           3,
           0,
           6,
           15,
           15,
           19,
           5,
           0,
           18,
           3,
           1,
           1,
           18,
           17,
           7,
           7
          ],
          "coloraxis": "coloraxis",
          "symbol": "circle"
         },
         "mode": "markers",
         "name": "",
         "showlegend": false,
         "type": "scattergl",
         "x": [
          2.5493262815968616,
          3.255882516679572,
          2.0100245742922347,
          2.098015782880261,
          2.950208753636882,
          2.9288059909597375,
          3.01823928481114,
          2.1332189910964585,
          3.0513995631497766,
          2.3554748604979716,
          4.546283595134508,
          0.607488688553788,
          1.0374518020515335,
          -0.5968682899398136,
          -0.6652999581954375,
          1.5114933014251306,
          4.862472999032278,
          4.728364758485185,
          -1.545282071548383,
          1.216707846654841,
          0.09680042589739565,
          -0.036239104164508075,
          -0.07280596249557941,
          0.09680042589739565,
          4.728364758485185,
          0.6588506616652927,
          -0.4435750197142441,
          0.09680042589739565,
          0.09680042589739565,
          1.9100975942522604,
          -0.37775501350164487,
          -0.03888368098520575,
          2.1551599604060017,
          0.09680042589739565,
          -0.49092451177959767,
          -0.6689568050435869,
          -1.792522351408773,
          -1.0603966903052073,
          1.5114933014251306,
          0.09680042589739565,
          0.6427613335902276,
          4.728364758485185,
          4.862472999032278,
          0.7237051477173704,
          -2.123884286634987,
          -1.5788739890506795,
          -1.396506912053404,
          -1.412520341636585,
          -0.6689568050435869,
          -1.792522351408773,
          -1.6952290896678193,
          -1.4139587650479166,
          -1.1073667179713869,
          -0.9648959107975024,
          2.5006792528573305,
          -0.819428011653356,
          -1.1511025534558015,
          -0.8933261457403487,
          -0.456443741099314,
          -0.670800617165087,
          4.728364758485185,
          -0.6689568050435869,
          -1.792522351408773,
          0.7907213486189056,
          0.5321529625742831,
          0.3787689715771999,
          1.5114933014251306,
          4.728364758485185,
          4.862472999032278,
          -1.5788739890506795,
          -1.396506912053404,
          -1.412520341636585,
          -0.6689568050435869,
          -1.792522351408773,
          -2.123884286634987,
          -1.6952290896678193,
          -1.4139587650479166,
          -1.1073667179713869,
          -0.9648959107975024,
          -0.9503160970691754,
          -1.40033511676693,
          -1.398615345538326,
          -1.5182819247955115,
          -1.1972658518324,
          -1.468539781887803,
          -1.3988325526886993,
          -1.0922546351706661,
          -1.8149011313332966,
          0.6998353468161419,
          0.9521313299043552,
          0.3977267931556819,
          0.28476387640570877,
          -0.3029217193522382,
          -0.5170925187405517,
          0.2409979816425657,
          1.0372104305405125,
          -0.88114975823141,
          -0.2744020964394345,
          -0.6919650769821117,
          0.17966025250969253,
          1.0641066065610225,
          -0.44704861479961766,
          0.27736492225924203,
          3.6216394461647488,
          0.44582855831612217,
          4.728364758485185,
          4.728364758485185,
          -0.6689568050435869,
          -1.792522351408773,
          0.9957522374878344,
          1.6240978301216813,
          2.517892088481861,
          2.4113301569574572,
          1.4578023282500752,
          5.173228716459687,
          0.8940628295691243,
          1.4412885419332548,
          4.607297082903606,
          -0.6486503851907811,
          1.6663646256032332,
          2.1691807843564153,
          6.367496865821698,
          -0.5845435700250657,
          1.1360852455506774,
          0.09680042589739565,
          4.728364758485185,
          -0.6689568050435869,
          -1.792522351408773,
          0.9148475377069922,
          0.9957522374878344,
          1.6240978301216813,
          2.517892088481861,
          2.4113301569574572,
          1.4578023282500752,
          5.173228716459687,
          0.8940628295691243,
          1.4412885419332548,
          4.607297082903606,
          1.6663646256032332,
          6.367496865821698,
          -0.6486503851907811,
          2.1691807843564153,
          -0.6689568050435869,
          -1.792522351408773,
          2.0221261840219644,
          -1.6049201673552262,
          0.9148475377069922,
          3.44661920362732,
          0.9349360186706338,
          3.2623030767373247,
          0.5231463504181415,
          4.213000312703287,
          0.10050171165350404,
          -0.9025711711681673,
          1.192274924938143,
          1.602293256985159,
          -2.1579813513287704,
          1.5114933014251306,
          -0.24634495434589826,
          5.017715037667551,
          -1.9524830348605997,
          4.862472999032278,
          -1.42178084400235,
          -2.123884286634987,
          -2.0946640492471165,
          -0.4999764769277031,
          -1.5788739890506795,
          -1.9473562726193172,
          -0.6714020005559773,
          -1.396506912053404,
          -0.9131329757534765,
          -2.137798312874514,
          -1.412520341636585,
          -1.0284979140542923,
          -2.429559918175328,
          -1.6952290896678193,
          -0.2914363480059309,
          -2.558715337912761,
          -1.4139587650479166,
          -1.6613644983722817,
          -1.4080651956259391,
          -1.1073667179713869,
          -2.1316430262026516,
          1.2427881777270704,
          -0.9648959107975024,
          1.1098059376381022,
          1.3521873339415518,
          -0.9503160970691754,
          -1.7686989369694712,
          -1.4958005212036671,
          -1.40033511676693,
          -2.4176747094839857,
          0.8669060488992957,
          -1.398615345538326,
          -2.0421114080599447,
          0.7966139456107142,
          -1.5182819247955115,
          -1.8891229971162706,
          -2.425250878457844,
          -1.1972658518324,
          -2.5211815939673645,
          -3.337499328602116,
          -1.468539781887803,
          1.428576665038547,
          -0.7006635311458617,
          -1.3988325526886993,
          -0.9747494668672247,
          -1.5332846668763267,
          -1.0922546351706661,
          -0.4808907301045823,
          -2.5306579774773663,
          -1.8149011313332966,
          -0.8644412734167481,
          -1.7519112998109752,
          -1.3083102527443318,
          -1.2647794770862046,
          -2.1194795206650934,
          -1.8192534574069976,
          -2.3539301290572716,
          0.1689897364756945,
          -1.601748419464258,
          -0.9306366189294518,
          -2.432473669350014,
          1.9747923964776197,
          0.09727665651024596,
          -1.6179488316884525,
          -1.261911509423855,
          0.11132364452782274,
          -2.212595962684123,
          -0.7894127274831187,
          -1.6815866626247662,
          -2.5955893560636696,
          -1.5176398794386323,
          -1.536611417098107,
          -2.255714661447839,
          -1.5687471965516777,
          -1.0545774006169122,
          -1.1887914037087026,
          -0.8943787698845748,
          0.3854159265021134,
          -1.8807280135458413,
          -1.4213657001012054,
          -0.582504635333156,
          -2.970117614019363,
          -1.07059853372018,
          -1.4032008464041348,
          -1.3237082589310873,
          -2.0121796643995142,
          -2.267115550107356,
          0.7391151894054876,
          -0.728433087711752,
          0.9722030775732694,
          -0.3315947538285617,
          -1.7825041780081186,
          -0.21860116811696137,
          -3.4271039759865074,
          -0.6809219979593806,
          -1.341385795797871,
          -2.3964189951437955,
          1.5645036776718642,
          -2.2027962608518754,
          -0.7971107658106018,
          -2.200446865046457,
          -2.8550448229639294,
          -0.2615818707473183,
          0.2244958650845904,
          -0.8470901922816325,
          -1.7796355891488869,
          -0.942790157813498,
          0.9028868919192554,
          -2.578132182865736,
          -0.6348178474318747,
          -0.9132691892020608,
          -2.1934377925267516,
          -0.9332221468278936,
          -1.81397812885432,
          -3.1447757684818343,
          -3.164846278092912,
          0.6608893478888282,
          -0.7644896892026805,
          -1.8825901931170452,
          -0.9160157597938767,
          1.8908988375107785,
          0.2194679749232669,
          -1.0070578494569336,
          -1.6556484581269297,
          1.5114933014251306,
          4.862472999032278,
          4.728364758485185,
          -1.545282071548383,
          1.216707846654841,
          0.821990857328116,
          -0.5577871959297952,
          -1.3968914815021396,
          -1.0020399253412302,
          -1.9720190490945433,
          -0.5371593354225886,
          -0.9725295270847607,
          -1.676704355110988,
          -0.8345553155744998,
          -0.4532101942001557,
          0.7189149410012644,
          -0.86081793056213,
          -0.8531813155838051,
          1.0546756831141766,
          -1.845798816097557,
          -1.3347965858194932,
          -0.9969402166092459,
          -0.14551082048342712,
          -1.3136928775606838,
          -1.2540667790426345,
          -1.289649664028314,
          -0.8697256313570957,
          -0.808557192978258,
          -1.9554521321678229,
          -2.5904969446851025,
          -1.671317415407472,
          -1.5301289887239191,
          1.8652121725004882,
          -2.2228138511934477,
          -1.1918551280558594,
          -1.2830165740495618,
          -1.1055738739469796,
          -1.3243333182831203,
          -0.7629754471129753,
          -1.333632631500184,
          -0.10326755202234239,
          -0.10326755202234239,
          1.546354968175471,
          -0.9089679814365181,
          0.5036655031140043,
          -1.2520885124618064,
          -1.6477824066471511,
          -1.1082391584473275,
          -1.8334476426807171,
          -0.7911671078785,
          2.809038669100205,
          0.9844537256583614,
          1.0521438134737653,
          4.27220055739599,
          -0.20995596197440308,
          0.011384939730561325,
          1.2026190835793638,
          -0.9378231711125745,
          -0.6593114128924364,
          -0.17736828790930115,
          -0.20454587124472492,
          1.0984861796658971,
          -0.01607613989106397,
          1.5061201296437612,
          0.5137947336381936,
          0.5248248725505492,
          0.7292373798229304,
          0.8036523749591759,
          0.9368324512913417,
          1.6811339718495903,
          1.8383774004706732,
          -1.4152340645880963,
          1.4217311705687417,
          1.3489368049915649,
          3.160269094437364,
          0.03011089367313011,
          2.018109815170522,
          3.14949816000612,
          2.844876158987293,
          -1.2843355474896327,
          -1.5035259270559522,
          0.6398812207391341,
          -0.6909470333615452,
          -1.5553096648831883,
          -1.3844352648807832,
          -1.1640030509501842,
          0.44200039500956256,
          4.796500407262713,
          -0.9973992814714873,
          -0.20454587124472492,
          1.1614964879627703,
          1.3155386086241274,
          1.433121841034171,
          0.16124356965895748,
          -0.9008865082510482,
          -0.36681922481602286,
          1.7638125610173283,
          -0.7444772863131677,
          -0.4309612452027864,
          -0.521720212751576,
          0.034991292053423675,
          -1.690423403139144,
          -1.302499253855789,
          -0.6159860573354569,
          -0.6273759215041972,
          0.7189149410012644,
          0.18151633046466176,
          0.23413398189096357,
          1.5687569029448627,
          -0.16113343671658706,
          -0.826254483541164,
          -1.6346744744860162,
          0.7727208191254996,
          -0.43212846163226093,
          2.3551661463144846,
          -0.25154872552163066,
          -0.8980713961697285,
          5.881538512427737,
          5.901985169277837,
          1.2922426548239785,
          -0.5402691970611133,
          -0.5544040568767913,
          -2.3402058108715567,
          -0.5006619302092272,
          -1.1434025424323149,
          -3.1283716071850916,
          -0.8316910866000925,
          -2.2055548746205096,
          0.7904975043510073,
          0.7982522444097676,
          -0.5666088144935457,
          -2.3628295829444745,
          -1.2354981069876743,
          -0.9749770003685311,
          1.29664023944423,
          -0.9537371734517692,
          -0.6441106026839833,
          -0.03992723651538353,
          -1.0622456147613502,
          -0.4837826256976685,
          -0.8267216729607997,
          0.76041886124608,
          -1.9891154440683931,
          -0.5650955144931668,
          -1.5750939564692195,
          -0.6120602148768653,
          -0.9219423277162198,
          -1.717455677131748,
          0.15554661055461144,
          0.00401540097647676,
          -1.159999751909924,
          -0.435907954956595,
          -0.9445358342755642,
          0.2759904398245886,
          -1.014402186756116,
          0.34335027375783317,
          -1.6587626058614902,
          -0.3039492659082399,
          0.2719666045939035,
          5.136231892885036,
          -0.7239240285619155,
          -1.053432808102306,
          0.12820524439909506,
          -0.4987499646317328,
          -0.8387930015503028,
          -1.2988730237744073,
          -0.5119700491248638,
          -0.7381418058866622,
          -1.0568780428229287,
          -0.4540551794196541,
          -2.5698111217576565,
          -0.006115006394068462,
          -0.7209694683970991,
          -0.5016877344279659,
          -1.4911009150662062,
          -1.4659814320157178,
          -1.7079893542597064,
          -0.7703217851642226,
          -0.7653371104696008,
          0.15528836630370288,
          0.16380226213452637,
          -0.4331785953020671,
          -2.1207528774320377,
          0.20145633520380032,
          2.345271392227037,
          3.7833338282191136,
          -1.1490988333850753,
          -0.8223279931159354,
          -2.1859741732120987,
          1.1481620112276218,
          -2.399366955216822,
          5.076652395618536,
          -0.4130766174237053,
          -0.9556672076840317,
          1.5699405429234758,
          -1.099715376274697,
          0.33406514191101394,
          -0.3718171463405769,
          -1.5088827111971403,
          0.0031681271202373264,
          -0.7821835271812957,
          -0.5959421050211737,
          -0.8351452806347852,
          -0.34418196415274693,
          -2.280375393960132,
          -0.7298038714587952,
          -1.9484272948606443,
          1.2148643689006553,
          -0.0825032302021042,
          -1.0002280314743497,
          -0.725746076619737,
          -0.31412770772109566,
          -1.1818252259508857,
          -0.17837750947123318,
          -0.05459311666961943,
          -1.6400905855334234,
          2.429837879686611,
          0.4574325341658027,
          0.9360951286559538,
          -0.12885705416542773,
          -0.6862090142950534,
          -0.9931586185045284,
          -1.8072469372476752,
          -0.1465548022843413,
          -2.341746077130006,
          -0.6637721008412444,
          2.3526974344405667,
          -0.8535302051619233,
          0.3396116116861172,
          -0.9240886156326988,
          -1.9823251871409016,
          -0.9964463249579271,
          -3.2789646274610487,
          -0.5013280455991098,
          -2.1724556867455496,
          -0.45396229479780514,
          0.21328722141567874,
          -0.09827743240431148,
          -0.25476292021905944,
          0.7896107052683295,
          -2.28806983171232,
          5.131107884578527,
          -2.493753329213904,
          -0.5168561179764231,
          0.6724194136906984,
          0.10524779536520576,
          -2.6460971878485084,
          0.08488362570340639,
          -2.566763512751905,
          0.22472194218842578,
          -2.9777868865694157,
          -0.4585000470653576,
          0.27220262351172164,
          -0.572875169347089,
          -1.2805315287914047,
          -0.5165999911288943,
          -2.494067449063304,
          -0.32561221636907395,
          -1.733966440142719,
          -0.6815346986822258,
          -2.067875374649652,
          1.7906060849157361,
          -4.0271224145985105,
          -0.34063527761164347,
          -1.0230577607443794,
          -0.8924693817917757,
          -2.531764741808336,
          -0.3114039926101277,
          -2.503506918921333,
          -1.3261398864826701,
          -0.739573782899681,
          -0.4233096168539446,
          1.8076269706704176,
          -0.3892336305052595,
          2.2683833924997123,
          -1.0859965789693677,
          -2.5332300429617063,
          -0.6921887668192197,
          -2.8069787686658816,
          -0.736623356301434,
          -1.8567134254242215,
          -1.5094716839964015,
          -1.9399328475196607,
          -0.6050046481034486,
          -0.07503961088745062,
          -0.6219879222017674,
          -0.8330284807576394,
          -0.3363441645696812,
          -2.327959004570548,
          -1.1854423683757194,
          -1.9289267616433594,
          -0.7088948531805708,
          -3.2425138179614232,
          -0.7170857479706614,
          1.5727821015964658,
          0.07906331612640508,
          -2.6175124917035304,
          -0.4558806661713423,
          0.756394297193686,
          1.8469598127328855,
          -1.8286489365968757,
          0.9617229713807154,
          -1.8320622582051882,
          3.301081962638204,
          0.3073921310378199,
          0.9849006102374782,
          -0.2509508251647481,
          0.577575059942392,
          -2.783520073553388,
          -0.9082939993622465,
          -1.620500811851277,
          -0.5642794769618793,
          -1.0780354485282724,
          -0.621716542369095,
          1.8652121725004882,
          -2.2228138511934477,
          -1.1918551280558594,
          -1.2830165740495618,
          -1.1055738739469796,
          -1.3243333182831203,
          -0.7629754471129753,
          -1.333632631500184,
          -0.10326755202234239,
          -0.10326755202234239,
          1.546354968175471,
          -0.9089679814365181,
          0.5036655031140043,
          -1.2520885124618064,
          -1.6477824066471511,
          -1.1082391584473275,
          -1.8334476426807171,
          -0.7911671078785,
          -0.4998412388493231,
          -0.9813021492686361,
          -0.36681922481602286,
          -0.34860986676263833,
          2.1551599604060017,
          1.7909462751388059,
          0.3858731021479094,
          2.761204316279201,
          1.6446113277766403,
          -0.18836354829828586,
          0.7190246405344041,
          -0.5203140095260799,
          -1.0359265299117066,
          -1.2171782834760017,
          0.2564249480914564,
          -1.7615180850170642,
          -0.053237553043192935,
          -0.36488676928620845,
          -1.982534078316245,
          -1.245197006044633,
          0.12000406401762445,
          -2.12431333788187,
          -1.0561695899526857,
          -1.7492838741505639,
          0.5844894528334631,
          -1.4333461527518603,
          -0.9818526326921804,
          -0.8746104587587644,
          -0.537130121919248,
          -0.9148821551056505,
          0.298228837407202,
          -0.913948698346403,
          0.26132694493719194,
          -0.20995596197440308,
          -0.6593114128924364,
          -0.5168994852386427,
          0.6588506616652927,
          -0.17736828790930115,
          1.2026190835793638,
          -0.9367465018998707,
          -0.9378231711125745,
          -0.7323703639977026,
          -0.4435750197142441,
          0.011384939730561325,
          1.450273405088136,
          1.5324055882278855,
          0.4428784292608075,
          0.2812201995838761,
          -0.4320302153644035,
          -0.7296299017808225,
          -0.5354458274106463,
          3.749101977226213,
          2.4189267712201503,
          1.7909220930075453,
          2.468086285748091,
          2.9951639378124093,
          1.8825742207105527,
          3.790486232576622,
          3.460529623189733,
          1.8560544415383093,
          2.7925995219203394,
          4.073336417449094,
          1.8902202619884174,
          1.4641878230413112,
          -1.6444784415482399,
          -1.6657446898454704,
          -1.4010911161797275,
          -1.6907151476667721,
          -0.4402839384999172,
          -0.8221267454244616,
          -1.6506464898541882,
          -0.7963785560462697,
          -1.4835655980435614,
          -0.2907266300517972,
          2.1435935130930854,
          -0.7687762499345404,
          3.6635442205626316,
          -0.3531364393278002,
          1.9037842886857976,
          -1.3467143747105021,
          1.893377267578758,
          -1.0384100373178649,
          -1.6516043697866694,
          -0.2643040655910833,
          -1.6752391232194956,
          -0.8621230486479025,
          -1.7283456970764994,
          -0.7445482342840264,
          -1.8254934673927798,
          -0.40885635786901275,
          -1.096105126952338,
          -1.1930648053877446,
          -1.325460071338952,
          -1.9411542640530275,
          -1.5696660934279287,
          -1.8658986466761394,
          2.765832890520698,
          -1.5612625805477913,
          -1.1805537704468088,
          -1.7193917077771887,
          0.9445344613251563,
          -0.9163958045904448,
          -0.8196280769451937,
          -1.002279161242297,
          -1.8497648242060454,
          -0.7811078130237117,
          -1.5926277614564532,
          -2.2098968317561805,
          -1.2351757061479194,
          -1.6542498857525205,
          -0.49918847231333685,
          -1.0022092916174878,
          -2.4441023975296585,
          4.298245234987285,
          -1.596067312434786,
          -0.6430339331644843,
          -1.6562036097168966,
          -1.8225035260241327,
          -1.1718501667026244,
          -0.1973197863322878,
          2.3826172988077254,
          2.794541191500855,
          3.2412887529800924,
          3.205234164354546,
          -1.0285855983355057,
          0.2366088319529147,
          0.9985008017523752,
          1.9475581798720873,
          0.3060820140011105,
          0.038635540344031126,
          1.150733803914636,
          -0.2364597236711097,
          4.218209890691408,
          0.5660495503373537,
          0.3581792144384304,
          0.10528285300115708,
          -0.37867216701611467,
          0.19782702187143264,
          -0.0456290312739876,
          2.1655300437858602,
          0.6064262264788073,
          3.2741403131268516,
          0.2903854407996415,
          -0.29760025356368347,
          1.8212980751074006,
          4.205435492412437,
          1.5540791169123467,
          -0.2456124930451967,
          0.13453333380879,
          -0.19201321590942425,
          -0.20694045453873058,
          -0.5706496781299012,
          4.233388828229711,
          0.35579315256033583,
          -0.7797862204568617,
          1.947091302204353,
          1.8593906525366704,
          -0.2919353735981208,
          5.106565135239552,
          1.9779721269479578,
          -0.052943292493777154,
          3.692298463247008,
          -0.29147926381043027,
          -0.0902824592513434,
          2.9404666965466157,
          -0.44601559910792266,
          2.958338346177158,
          1.8460884630167618,
          0.28691443722727306,
          1.1173721029377945,
          1.2999606994115283,
          -0.2684520542146769,
          0.674641640243087,
          -0.9664065362550375,
          0.819326521525557,
          1.8764447945642635,
          -1.3211744508167849,
          0.969634776688808,
          -0.9694539827965479,
          0.6318056302606424,
          1.3653491716539166,
          -0.02633417187372107,
          1.0923829549538802,
          0.8403279392886189,
          -0.3831303366209941,
          -0.7550081983360826,
          -0.32066065161382656,
          -0.6179936195791653,
          -0.15135013244987813,
          -1.1128631862650782,
          0.8608772282713785,
          1.0371348287195974,
          -0.7501050601127075,
          1.4367322876547188,
          -0.08164370544774625,
          1.450273405088136,
          1.0546756831141766,
          0.7190246405344041,
          -1.443513838376753,
          0.5479273118277772,
          0.0639864426788424,
          -0.012356750924867687,
          3.049942255203714,
          -0.34860986676263833,
          -1.5355993884236452,
          -0.9982248866332458,
          -2.51920527034165,
          -1.1884301730265134,
          1.2484792019453526,
          -0.34850663619489713,
          -1.5356352643742015,
          4.719080899142638,
          -1.7889796488555587,
          1.0489903924622939,
          -1.2596420516772275,
          0.36366364707134924,
          0.7517421771463153,
          -0.4739819986190157,
          -1.9990981231329072,
          -0.5301740322799641,
          -2.6332826187819776,
          0.5457231907590521,
          -0.8194864081989421,
          -1.0235697494495413,
          -1.351409992617802,
          -0.975029004370339,
          -0.7966279026067887,
          0.3685410618204888,
          -1.4308958316754183,
          -0.3931126960344176,
          -2.013363132111721,
          -0.45628956411456234,
          -1.0776521557402337,
          -0.7960172291350945,
          -1.8176133148178955,
          -0.7709680956905243,
          -2.0943249296293858,
          -0.42088837143396607,
          -1.1242661957255062,
          -0.7044060464781975,
          -2.0203518714749347,
          1.5219392556820763,
          -2.3416945330193357,
          -0.4169308400409916,
          -0.5132390202192905,
          -0.24444956687699304,
          -1.1075275595395375,
          -0.318133810377681,
          -1.0856258599872308,
          -0.6283276339225313,
          -1.9329192762777503,
          -0.04651624259363572,
          -1.6687422551511861,
          2.2842228144765397,
          -1.8362565661092332,
          -0.675831281416202,
          -1.368509062835372,
          -0.32976926403579926,
          -0.9409257315782278,
          -0.22104187886884863,
          -0.7159210616104421,
          -0.7587192407925646,
          -2.2446012369514627,
          -0.46101843405917076,
          -1.7399163781407374,
          -0.06903596470369093,
          -1.2142509585169858,
          -1.308497408622853,
          -0.3992659913543889,
          1.3254427688315022,
          -2.126798988307007,
          -1.1049567337058457,
          -1.0309274859116548,
          -0.4290589577636184,
          0.160529700471061,
          -0.7241836680453081,
          -1.7097258830817794,
          -0.4766903843688168,
          -1.2599865418622036,
          -0.04224176297538383,
          -1.1313147506645915,
          0.3232072279161109,
          -0.9175871574964123,
          -0.2627896248681844,
          -0.6211052939030378,
          -0.5838181414374982,
          1.3680935237519947,
          -2.0088141143671585,
          -1.2138007197941265,
          -1.6972956325221895,
          -1.8398114586046503,
          -0.8296215066668695,
          -1.6530694423866206,
          5.099362561406017,
          -1.2957036821713985,
          5.30763047326103,
          -1.6645852823762202,
          -0.6668703883828869,
          -0.8091616185171558,
          -1.0980580587809379,
          1.1554583848331665,
          -0.3362868082074959,
          -2.084922503737405,
          -1.6600649923338269,
          -1.7423174925756206,
          -0.9015669130641694,
          -1.0679722681740713,
          -1.4950726848153029,
          -2.077201565753461,
          0.35141708133181876,
          -1.4090322602804473,
          -1.668384248358389,
          -1.152596559128715,
          0.011485982456689532,
          -2.400234633737278,
          -1.9426473600248082,
          -2.0814969177080185,
          -0.1516131128449163,
          -2.0488245018463207,
          0.86790691364362,
          -1.7138964559333583,
          0.24713549606975863,
          -0.4806131107320596,
          1.0956104234059938,
          -0.2891187904032533,
          -0.3165120560641905,
          -1.175771639739092,
          0.2453797741202127,
          -1.4037317438318826,
          0.6320406884560009,
          -2.0842831937093065,
          0.5274519071160874,
          -3.071866925468166,
          -0.005861302082803523,
          -1.4432176552932978,
          0.7967005677895382,
          -3.3119812682150838,
          0.3499675881116983,
          -1.514481184127985,
          0.2512867059992136,
          -0.550539863259658,
          -0.5160489836042849,
          -2.944917761872945,
          -0.2731234723209754,
          0.385861751613267,
          -0.8574297214492307,
          -2.1293319963681934,
          -0.8901438262473176,
          -0.9173748939996698,
          0.5215496083669752,
          -1.439996717949537,
          -0.3952723977309011,
          -1.3312550870000837,
          -1.0454542433518126,
          0.9711015406321661,
          -0.8865427853484233,
          -2.479912685458172,
          -0.04809303642147287,
          -0.8578827402255021,
          0.07525916349014544,
          -1.417897773518187,
          -0.4683677994153407,
          0.5000880025733447,
          1.5139479381286869,
          -2.158404939392687,
          -0.6689568050435869,
          -0.9635111492657177,
          0.08301635114287954,
          -2.015906831773004,
          -0.0687974616822809,
          1.667268376116712,
          1.2285998545884609,
          -1.4868266794860157,
          0.8056101841243718,
          0.26672841017618093,
          -0.1815541503001922,
          -3.0125800729008656,
          -0.22385233596285511,
          0.9220487943874337,
          -0.4976808437458913,
          -0.9783388976172034,
          0.4427172000131595,
          -0.3761998297361251,
          -1.384911281884385,
          -0.4050095444801172,
          -0.36321009173967655,
          -1.111065822323449,
          0.27816772222982905,
          -1.0117870742471982,
          0.876183716958773,
          -0.16959679940139927,
          0.34531694526542167,
          -0.9197675084626213,
          0.05618328883871202,
          -0.9889693500038635,
          -1.792522351408773,
          -2.152749762421154,
          -1.676537801391694,
          0.5574467059989219,
          0.44942142027436566,
          -1.2424133659182035,
          -1.3682447078768585,
          -1.87696439562591,
          0.802569461459913,
          -0.7296299017808225,
          -0.5354458274106463,
          3.749101977226213,
          2.4189267712201503,
          1.7909220930075453,
          2.468086285748091,
          2.9951639378124093,
          1.8825742207105527,
          3.790486232576622,
          -1.096105126952338,
          -1.1930648053877446,
          -1.325460071338952,
          -1.9411542640530275,
          -1.5696660934279287,
          -1.8658986466761394,
          2.765832890520698,
          -1.5612625805477913,
          -1.1805537704468088,
          -1.7193917077771887,
          0.9445344613251563,
          -0.9163958045904448,
          -0.8196280769451937,
          -1.002279161242297,
          -1.8497648242060454,
          -0.7811078130237117,
          -1.5926277614564532,
          -1.2351757061479194,
          -2.2098968317561805,
          -1.0022092916174878,
          -1.6542498857525205,
          -0.49918847231333685,
          -2.4441023975296585,
          4.298245234987285,
          -1.596067312434786,
          -0.6430339331644843,
          -1.6562036097168966,
          -1.8225035260241327,
          -1.1718501667026244,
          -0.1973197863322878,
          0.1633929978283042,
          1.1426638330971783,
          -1.2630319873285452,
          -0.7863524895797818,
          0.1633929978283042,
          -1.565890701739855,
          -0.7854841001803505,
          0.24090492052917234,
          -1.6053207430664829,
          -0.9362430713428032,
          -1.564582937109083,
          -1.6053207430664829,
          -0.0959081515942785,
          -0.5390251376979748,
          0.1633929978283042,
          0.059972043420566265,
          -0.1751222424408389,
          3.0440670783440607,
          -1.6562036097168966,
          -1.8225035260241327,
          -1.0155127847831815,
          -1.1762676687920766,
          -1.6968063025428262,
          -1.3060562969643748,
          -0.5643313051417232,
          -1.8765661828367945,
          -1.8439496832055375,
          -1.1365912020820048,
          -1.426099981411201,
          -1.84317969607299,
          -2.007685036155633,
          -1.4060204863357113,
          -1.1022001899915481,
          -2.125992532984828,
          -1.407537214979527,
          0.4714630797127887,
          -0.8642066820575535,
          -1.5678844446765987,
          -0.5887791752863549,
          -0.8305611343297832,
          -0.6548557843108782,
          -1.0597258615456635,
          -1.207776268465721,
          -0.6548557843108782,
          -1.557324700999681,
          -1.4605231446899472,
          -1.7060511231147504,
          -1.7713439606171566,
          -0.7056554843009671,
          -0.8348903222997319,
          -1.364022796368393,
          -1.8391354371057709,
          -0.7249077630221928,
          -1.300652341425279,
          -0.8037833053479467,
          -0.6212260568287757,
          -1.1114536338063286,
          -1.7616566622747505,
          -1.4008695307232872,
          -0.1552333694365417,
          -0.9144082738992108,
          -1.542693723431061,
          -1.402566637418846,
          -1.4739914285413624,
          -0.8184929826674482,
          -1.426099981411201,
          -1.0998407014074743,
          -1.7380901780069966,
          -1.0583042862952738,
          -1.7848824385948692,
          -1.1574815337260869,
          -1.9854380302598214,
          -1.4291042973839336,
          -2.1178991956313187,
          -1.170755507522497,
          -0.492934291986964,
          1.5305593220668983,
          -0.594156389549185,
          -0.7274090996774588,
          0.10121496426265202,
          0.24063326224593176,
          -1.2391082966460996,
          -1.157693609066515,
          -1.8299783235953218,
          -0.3133082807590195,
          1.3514989947691614,
          1.0164971780983507,
          3.1250416981087743,
          -1.7025412310697745,
          1.0253010102828624,
          2.5555055948896466,
          -0.6435332736120936,
          5.998579725355168,
          -1.6606054725297215,
          -2.3360061761695894,
          -0.09992077727551305,
          -0.4413322350555341,
          1.5526509638901842,
          -0.7193191725765302,
          0.14548419746161778,
          2.9755637338769416,
          1.1610646346353795,
          2.8054061559125123,
          -0.5727210533969352,
          0.37435988721744495,
          0.06487905754852552,
          -0.4756401216079397,
          0.6634838230741124,
          0.1093078886009951,
          2.658175822325318,
          -0.891957497025645,
          -0.22286426018814096,
          -0.7564285213897601,
          -0.44168222209667224,
          -0.5483032843105661,
          -0.8126131056575782,
          1.1004270969532555,
          1.0411449140139692,
          0.40691109237786904,
          2.3320879918500887,
          0.6881818575793784,
          -0.2491400336943983,
          -0.07897641996932246,
          2.365050292848368,
          -0.8963867944242259,
          -1.303551206222354,
          0.9322228284034049,
          -0.3863447760754144,
          1.3077185771303235,
          -0.4558936895065574,
          0.38130520375361543,
          2.336371723293211,
          0.13648115946122943,
          0.5511239825070661,
          -0.739066350025209,
          -0.13953235257850263,
          0.6104135464714303,
          2.3906027619706807,
          -0.5469853854061799,
          0.7648779688396649,
          2.7418779413807837,
          2.5969201183598987,
          3.557677031031999,
          2.365050292848368,
          0.55581646989423,
          1.7592401588933835,
          0.5770667115540092,
          1.142181088359057,
          -0.9647521851686087,
          1.068925922453236,
          -1.1953680951134154,
          1.0667047546489261,
          -1.0314006826815203,
          -0.08010179411174313,
          0.20521693292636942,
          2.9409275491667923,
          -0.10801162303188304,
          -0.15435580132987278,
          1.9172772483617742,
          2.399724730361621,
          -2.3639087143829576,
          1.5252994770105093,
          0.13689137076552566,
          0.04097453371395502,
          0.28742621742019164,
          -0.831070068253578,
          -0.11850284680874437,
          0.3528980995284443,
          -0.0093340173094934,
          -0.7291274951495651,
          -1.2050283056617668,
          1.707898388516347,
          0.7187403987818599,
          0.2865278071095651,
          0.04097453371395502,
          0.8668993461160446,
          0.4428784292608075,
          0.43301709832106716,
          -0.9367465018998707,
          -0.5168994852386427,
          -0.7323703639977026,
          -0.6159860573354569,
          1.5324055882278855,
          -0.3831303366209941,
          -0.7550081983360826,
          -0.15135013244987813,
          -0.32066065161382656,
          -0.6179936195791653,
          -0.12699724748484348,
          -0.12395872412630889,
          -0.9490026162133035,
          0.08838190673844655,
          0.71511069683966,
          2.7258286632033712,
          -0.6503106364978671,
          0.6536660357210826,
          2.1521798676063275,
          0.01772356139226749,
          -0.6284318508895893,
          0.44576056656701835,
          0.043008299355263076,
          -0.26666132608302917,
          -1.2438153012414657,
          -1.0968153774849303,
          0.019944148247382637,
          -0.07579700622047425,
          -1.3877980126004903,
          -0.30710332072497765,
          -2.0434559549716442,
          0.09461364608593044,
          -1.610178042151601,
          -0.5211548484002066,
          -0.482913848889451,
          0.3513585738131788,
          -1.063961330502016,
          -1.3598610158517572,
          -1.6125882371095435,
          -0.32888009758906495,
          0.33256485161903027,
          -0.13498992609610813,
          0.2703494042331203,
          -1.1371530924710516,
          -0.9228503043208915,
          -2.0091559421130296,
          5.453664149115687,
          -2.2344174443917684,
          1.1168890912945464,
          -1.2388752849996023,
          -0.23483398042279985,
          -0.3962973185803701,
          -1.5182875258860022,
          -1.302333329551772,
          -1.158303718675417,
          -0.15678807222923077,
          0.3195343595147718,
          -1.5534606687181935,
          -1.6758209511664808,
          -1.5578493881851831,
          -1.0281940967592735,
          0.3798584952580804,
          -1.266551236348802,
          -1.5981581530524707,
          -1.1610619372781985,
          -1.1570992145333865,
          0.2540475310351493,
          -1.3344167353821077,
          0.7432362734967689,
          -0.8889571950357658,
          0.10257607976523854,
          -2.446826898106833,
          -3.080567048634994,
          -0.06344432696060825,
          0.6477278022298145,
          6.645146316840146,
          -2.5071147950411303,
          0.041458737703351775,
          -1.1548546140515328,
          0.030991328331469108,
          -2.3957193902714127,
          -1.6049201673552262,
          -3.3649534034200537,
          -0.09316845704963007,
          -2.7254061287744786,
          -1.7731163726590426,
          -0.8364284432489965,
          -1.9922607043683624,
          -0.9037310327466196,
          -2.3225040403625634,
          -1.2190699465263601,
          -2.0464656292283983,
          -0.9028940768037814,
          -3.05337829894126,
          -0.6139958012301431,
          -0.8119866137435021,
          -0.24419112899929,
          -2.5973239168615594,
          -0.4779388469953843,
          -0.457825624715912,
          -1.2588369392881467,
          0.96344617279225,
          -0.9004524086469355,
          -1.4567407092071978,
          0.2901648792929415,
          -1.4873576476031471,
          0.886537374704092,
          -2.5473592376255656,
          0.035043146679584414,
          -2.0358963758603523,
          -0.6963675702382103,
          0.0240333222768213,
          -0.07700791413669103,
          -0.028116377562229667,
          -1.0129506696546198,
          -0.4664284113654533,
          0.9681605342919656,
          -0.7322896251452898,
          -0.9740738919560404,
          -1.2662302355152164,
          -2.4386280212869273,
          -0.06071447899104321,
          -0.45520794230902983,
          1.964888537117524,
          -0.33805179058324103,
          0.3616214503618336,
          0.516001936547884,
          -1.1780205066812877,
          -0.5560025929621792,
          -1.6755348692104002,
          0.18023515369645265,
          -1.369621421697234,
          1.7478931118366483,
          1.2233450287942245,
          3.0522634814957215,
          -1.4718994408567092,
          -0.5664539700039136,
          -0.6065937898656681,
          -0.06138698725039117,
          -1.2520540890867442,
          0.2357135199878905,
          -2.8728473132019077,
          -0.9053405819681007,
          -2.092133313961332,
          -0.5892853113132592,
          -2.1936899529287035,
          -0.4699336068338608,
          -1.563951559763074,
          -0.49292460960519763,
          -2.2735562194071472,
          0.15215358566927617,
          -0.7774287919015901,
          -0.922679474537923,
          -1.520442788599053,
          0.09027609310439545,
          -1.5179025164711892,
          1.055356342829306,
          0.00982515226985669,
          -2.7109234165461835,
          -2.993750478577007,
          -0.26197000891662,
          -1.6823886706457396,
          -0.5582347224544678,
          -2.005538679976667,
          -0.6806461800326273,
          -1.197473853577388,
          0.3085302203652416,
          -1.8096714002612282,
          0.0852154246825113,
          -1.0323351518018051,
          -0.8928384012539413,
          -0.2379521371854383,
          -0.35560121546834506,
          -1.8994620540212175,
          1.1616511292119418,
          -0.1451490059486099,
          1.8534208570061868,
          -2.5962220453882097,
          2.217624489844459,
          -1.1608208863024692,
          3.215798955730545,
          -1.4105470621830045,
          2.7056197943053353,
          -0.7026372494969807,
          -0.8069874155654625,
          -1.8214219288774873,
          -0.4733442819070246,
          -0.24744415334607853,
          -0.4161268882023727,
          0.8398823740273687,
          -0.1873002215471579,
          0.558235075519168,
          -1.300488321644229,
          0.5681528671797782,
          0.5347583484301297,
          -0.11964136693637042,
          -1.4684867268050834,
          -0.3020678843176328,
          -1.3773247839771499,
          0.9484108042725037,
          2.3175994446069863,
          1.7046452678058386,
          1.4586223175674702,
          5.881538512427737,
          -1.9287190276146962,
          -0.5581379359960369,
          -1.6649467358233792,
          0.2459020254411151,
          0.19542160251252066,
          3.9187421805624427,
          -1.2955875764318654,
          2.04629746032191,
          0.03625033776766764,
          2.751661250604818,
          1.0355699409930106,
          0.2371803106681195,
          -1.4477535129334578,
          0.1930226786592152,
          -0.8242174833219796,
          -0.22399950249158823,
          -0.21599287623521823,
          0.011969591030571743,
          -1.31350135697089,
          -0.46821751041994397,
          -2.8892895121557376,
          -0.3408570740907426,
          -2.2206073992028617,
          0.2804154323714484,
          -0.5990600075902058,
          -0.9563388071143725,
          -2.4451471844270523,
          -0.8954291200324578,
          -0.12637447766231896,
          2.903547166208649,
          -1.6562036097168966,
          -1.8225035260241327,
          -1.0155127847831815,
          -1.1762676687920766,
          -1.6968063025428262,
          -1.3060562969643748,
          -0.5643313051417232,
          -1.8765661828367945,
          -1.8439496832055375,
          -1.1365912020820048,
          -1.426099981411201,
          -1.84317969607299,
          -2.007685036155633,
          -1.4060204863357113,
          -1.1022001899915481,
          -2.125992532984828,
          -1.407537214979527,
          0.4714630797127887,
          -0.8642066820575535,
          -1.5678844446765987,
          -0.5887791752863549,
          -0.8305611343297832,
          -0.6548557843108782,
          -1.0597258615456635,
          -1.207776268465721,
          -0.6548557843108782,
          -1.557324700999681,
          -1.4605231446899472,
          -1.7060511231147504,
          -1.7713439606171566,
          -0.7056554843009671,
          -0.8348903222997319,
          -1.364022796368393,
          -1.8391354371057709,
          -0.7249077630221928,
          -1.300652341425279,
          -0.8037833053479467,
          -0.6212260568287757,
          -1.1114536338063286,
          -1.7616566622747505,
          -1.4008695307232872,
          -0.1552333694365417,
          -0.9144082738992108,
          -1.542693723431061,
          -1.402566637418846,
          -1.4739914285413624,
          -0.8184929826674482,
          -1.426099981411201,
          -1.0998407014074743,
          -1.7380901780069966,
          -1.0583042862952738,
          -1.7848824385948692,
          -1.170755507522497,
          -0.492934291986964,
          -1.1574815337260869,
          -1.9854380302598214,
          -1.4291042973839336,
          -2.1178991956313187,
          1.5305593220668983,
          -0.594156389549185,
          -0.7274090996774588,
          0.10121496426265202,
          0.24063326224593176,
          -1.2391082966460996,
          -1.157693609066515,
          -1.8299783235953218,
          -0.3133082807590195,
          1.3514989947691614,
          1.0164971780983507,
          3.1250416981087743,
          -1.7025412310697745,
          1.0253010102828624,
          2.5555055948896466,
          -0.6435332736120936,
          5.998579725355168,
          -1.6606054725297215,
          -2.3360061761695894,
          -0.09992077727551305,
          -0.4413322350555341,
          0.22085145219927818,
          1.0782865617874302,
          1.584379600239038,
          0.6998012220814953,
          1.5167321014968507,
          0.5587870611460274,
          3.771326876023447,
          1.7884497571062976,
          0.9431785661160001,
          1.2259169915303691,
          3.552827680690617,
          0.24845519042092742,
          0.49955168374558745,
          1.062402922668525,
          0.027351968370085123,
          3.0440670783440607,
          3.0572518617351108,
          2.916920295979455,
          -0.18258586175549185,
          2.7811472919683715,
          1.9456437972590406,
          1.1294225433126683,
          0.8600910703130537,
          0.18327274785057845,
          0.10985472259720727,
          0.8381137972058517,
          1.9236046152895308,
          -0.6143451294206033,
          -0.3469281389604784,
          -0.07148251942460238,
          -1.553224668416507,
          0.6959814903490062,
          2.562728826126467,
          6.4175091726456035,
          3.9462040804227145,
          0.7770345204805676,
          1.0248514052984519,
          5.784264771714657,
          -1.4627511140680363,
          6.992461472007597,
          0.18863964219377927,
          -1.149464452743219,
          -0.09372614882828639,
          -0.2608721527931847,
          -0.3781277294227181,
          -0.44423324541181675,
          -1.4595744613378987,
          0.5788440721076133,
          -0.11528009881085664,
          0.6677717369212868,
          0.2828911926207936,
          -0.5782377940189659,
          -0.3455097900409727,
          -2.118516643922627,
          -0.17081435630611547,
          -0.7006641088653597,
          1.6834948983811748,
          -0.396232464232619,
          -0.008178568786244188,
          -1.0173804425459303,
          0.20298603466332546,
          0.7985197334426039,
          2.250267899575162,
          -0.3217317654361835,
          -0.8200135944925447,
          1.2124201036292837,
          1.1360595825982978,
          0.9310078526237573,
          0.9350097538474599,
          2.458417701642423,
          -0.8083995996958864,
          0.12097571742702798,
          -1.2972553618352665,
          0.15361893285853423,
          0.43634897208419854,
          -0.831643463809274,
          -0.13662929098219076,
          2.4929681326689366,
          1.7099086823340721,
          -0.34574540748460025,
          -0.6303605738394081,
          0.3329593579963191,
          0.43328538482934287,
          0.7387646188983672,
          -0.5686536980715016,
          0.04520420237716641,
          -0.6741305302609506,
          0.1790715461659772,
          0.2493514134279263,
          0.6098495859829354,
          0.12311140799053215,
          -0.07919596320538322,
          0.7500203848900753,
          1.1382461368091694,
          -0.20226321539983275,
          -0.3283641778142899,
          -0.147476898852919,
          0.2006781232520457,
          -0.06956694165363903,
          0.40722789438285023,
          0.32281967282770196,
          0.5170960272205114,
          0.11080969314426832,
          1.13619701043438,
          1.7592401588933835,
          0.37435988721744495,
          2.489804922864446,
          1.966337119353704,
          0.6634838230741124,
          0.5660495503373537,
          3.0470284280595825,
          -0.6903694269183904,
          -0.037616478592637774,
          -0.9238589556643884,
          0.9075803601889054,
          0.22125669022052985,
          0.3741908715459981,
          -0.7496344154209863,
          0.0630187579746552,
          0.29933841833091784,
          0.4640900901729536,
          1.5345436546990654,
          -0.035888546734782235,
          -0.7300999489102922,
          -0.6007198881639961,
          1.154121875370059,
          0.19935556164558035,
          0.19935556164558035,
          -1.303551206222354,
          0.9322228284034049,
          0.5511239825070661,
          1.3077185771303235,
          -0.739066350025209,
          -0.3863447760754144,
          -0.13953235257850263,
          2.336371723293211,
          0.13648115946122943,
          -0.4558936895065574,
          0.38130520375361543,
          0.3920695651927845,
          -1.0636409472544557,
          0.3966329910309698,
          0.5893982528231404,
          -0.7309001951071836,
          1.204417979024773,
          4.005171406511671,
          -0.34958495495269903,
          3.710067640154537,
          -0.42098215230652547,
          -0.6842313412083243,
          0.3567678051689922,
          0.45242930216494115,
          -0.4882314914134799,
          1.3703287512787974,
          0.9517954200250804,
          0.07354580878467341,
          2.140886451342689,
          0.5794509800260585,
          0.7035027327137223,
          0.9098722757761173,
          0.20259295825491733,
          -0.11471070671626048,
          0.7414275829007704,
          0.8863454646935961,
          1.172731832445776,
          0.36051417635638944,
          3.8317779585465543,
          -0.8542551208253042,
          1.9475581798720873,
          -0.09335426524072409,
          3.4633849559091328,
          2.328318671974633,
          0.8302859821390124,
          0.894465469556038,
          1.4885480083429643,
          2.0525330169512968,
          2.0525330169512968,
          0.30504502652812426,
          -0.2815179738522278,
          1.6508567154060474,
          -0.9946847660068618,
          -1.7338047050762586,
          1.978112663429474,
          -1.5723927635893853,
          3.90240904018186,
          -0.7667970398711429,
          3.7041427526485626,
          4.704347682779591,
          1.0858728469195345,
          0.1633481240139481,
          -0.10102414213118972,
          1.3632728395611626,
          0.45563799886411194,
          0.34446397667704104,
          -1.9554077506842433,
          -1.3000015197469434,
          6.244161810545171,
          -0.5230929659819915,
          0.4518871228576164,
          -0.4883609228963795,
          -0.13907419957412967,
          -0.08337737278341946,
          -1.0590462925820743,
          2.486456949448251,
          -1.776086085557283,
          1.4351732755007502,
          -1.7601358695913054,
          6.235470923773312,
          1.4351732755007502,
          1.4351732755007502,
          4.91449715958886,
          1.4351732755007502,
          1.4351732755007502,
          1.4351732755007502,
          1.4351732755007502,
          -1.502868131853134,
          1.322129063836736,
          -0.24185258599987441,
          0.5070583476586147,
          -0.2445002648579281,
          -0.5235227820819353,
          -0.4065829271582831,
          1.66493352438822,
          -3.0426622974775266,
          2.237921887549368,
          -1.9842636428655958,
          -0.9867756274054542,
          -2.076898690487271,
          -0.5253093191700041,
          0.009169435523500838,
          0.7267268823054688,
          -0.7483640301708397,
          0.7644865096583386,
          -2.2030638323028744,
          -0.700562580074801,
          -0.6023627267007766,
          -0.8046500101803311,
          -1.1041990469897307,
          0.17108794220527995,
          -1.4288884132456745,
          0.8320484427409299,
          -2.0225603636357827,
          0.1449097704144515,
          -2.301881468297856,
          -0.2434953669372987,
          -2.590947908764011,
          -1.639934621456742,
          -0.9403066953560317,
          0.4505840639960072,
          0.07900638078368787,
          2.435450044100566,
          0.3601856601451462,
          2.3058362147031,
          -0.9087225120094933,
          1.0315684419764155,
          -0.9735355047241234,
          1.6679787125081307,
          -0.37597137556698634,
          5.901985169277837,
          -0.11225992985210673,
          -0.27636913168793087,
          -0.5389443952962444,
          0.27228371408981444,
          -2.1077305647612867,
          0.09076685651852535,
          1.724470859889099,
          0.4014553027266308,
          -1.9655993914795025,
          -0.046408772723777775,
          -2.5646325317017733,
          -1.046425573436542,
          -1.610385593370529,
          -0.8556274181745579,
          0.05328013995013001,
          0.18989307404952063,
          -2.2206753667038943,
          -0.4427415970386527,
          -0.71246876353004,
          0.28167475301020206,
          -2.773123682465815,
          -0.006250032419998512,
          -2.819287814483499,
          0.5628300110558828,
          -1.8881546155727875,
          0.406303236142586,
          -1.847262076300152,
          0.4329385634571136,
          -2.7079353482360964,
          -0.560694296612297,
          -2.2727140965185857,
          0.3388430213890708,
          -1.9184646306832853,
          0.6249127344659097,
          -0.9863505230138416,
          -0.23320080050811406,
          3.1926736939916887,
          1.3500253101517077,
          -1.5622002660001129,
          2.3835147208478475,
          -1.5916087730084971,
          3.8412029558197998,
          -3.095322203098325,
          0.241345163569403,
          -2.6780847003379473,
          -0.4496979508125822,
          -1.5387379575102489,
          -0.1639219233918539,
          -1.681369985618546,
          -0.5632832097556139,
          -0.46294024656921207,
          0.14641078814589076,
          -3.302489776929693,
          -0.10374414719613179,
          -0.4214071201885724,
          -1.336412445619477,
          -0.47967436853481693,
          -2.730650304489759,
          -0.1998905278744853,
          -2.1604890304169637,
          0.34689121217822255,
          -2.0247001504785054,
          0.32582819179500216,
          0.16071247136764186,
          2.276370722574869,
          -1.097540414905889,
          0.10750313612238019,
          -0.5793001745109511,
          -0.2987872643342801,
          -0.2579811732953155,
          -0.7211019403241598,
          -1.7106766776272262,
          0.36042417024009915,
          -1.7178407770483524,
          -0.9335619527784951,
          -1.4085049737314586,
          2.528007901592756,
          -2.272837374423006,
          2.956635640929351,
          -0.5123245384146671,
          3.0504012726167957,
          -2.601348168474754,
          2.2799790579173123,
          -1.312195709586725,
          1.6635799853643527,
          -0.21988158363798083,
          -0.1563595276693386,
          -2.126239377815307,
          -0.08806753068520703,
          -0.02410523034862493,
          -0.12197953018611055,
          -2.0070040056229055,
          0.4113041601512164,
          -0.9881252955877897,
          4.126800064715247,
          -1.9765171632072929,
          0.510361475098433,
          -1.0211907160767664,
          -1.301899721255614,
          -1.9835086548531087,
          -0.8365034279425192,
          -1.3840109970017356,
          -1.9645554297798893,
          -1.8896753453349608,
          -0.07307015353447317,
          -1.8845012003414363,
          -0.3635205644290514,
          -1.9287613075192258,
          -0.2874645432720647,
          -0.8951962995524535,
          1.7261377957582338,
          -1.0202971584771547,
          2.2805888111958477,
          -1.3419565288952109,
          3.592715597179899,
          -1.4725720261105628,
          0.41760233696963167,
          -1.9875497283453238,
          0.3977267931556819,
          -2.4368575519757165,
          0.05534131064209855,
          -0.579961583379144,
          -0.24573947207593272,
          -2.4318996594775264,
          0.06885295926964091,
          -2.520107540765197,
          -0.35926439056077875,
          -1.5720921157973857,
          0.8736059525260983,
          -2.429054333967771,
          0.2916413564695811,
          -1.9205121058905317,
          -0.49146550428060903,
          -1.9155082631605287,
          -0.840132091102317,
          0.3020097645862222,
          -0.4523648018522607,
          -1.2806117529789196,
          -0.9738073980415212,
          -0.990925767662531,
          -0.5951578185695183,
          -1.0851346473357557,
          1.8653089514549888,
          -1.2782599202098754,
          -2.1725479146554627,
          -0.015104137431375857,
          -1.4706982638448098,
          3.064891267808117,
          -0.8463785065966916,
          -0.6624292403927646,
          -1.6727005649042093,
          1.5780106921828108,
          -1.774374051687628,
          1.5863039978640592,
          -2.7305900725114425,
          2.5683074625562234,
          -1.0202810674429066,
          2.4290921787967634,
          0.6959814903490062,
          2.562728826126467,
          6.4175091726456035,
          3.9462040804227145,
          0.7770345204805676,
          1.0248514052984519,
          5.784264771714657,
          -1.4627511140680363,
          6.992461472007597,
          0.18863964219377927,
          -1.149464452743219,
          -0.09372614882828639,
          -0.2608721527931847,
          -0.3781277294227181,
          -0.44423324541181675,
          -1.4595744613378987,
          0.5788440721076133,
          -0.11528009881085664,
          0.6677717369212868,
          0.2828911926207936,
          -0.5782377940189659,
          -0.3455097900409727,
          -2.118516643922627,
          -0.17081435630611547,
          -0.7006641088653597,
          1.6834948983811748,
          4.991521029048662,
          0.36989413499945395,
          4.8938563269485815,
          -0.36491872099826705,
          5.136180108399915,
          2.9506692392066673,
          -0.5563145585246204,
          0.8277143997248858,
          0.18249243182092054,
          -0.7703719952402023,
          2.0809333825982943,
          0.18249243182092054,
          0.3409402246826219,
          1.7544897406823206,
          3.7167986811845037,
          6.235470923773312,
          2.2964747283159075,
          1.599599537074389,
          4.064571865693097,
          4.186125570962363,
          3.2106221995685114,
          3.3676894835888405,
          5.603953785450012,
          2.3378152733750595,
          4.294748057976113,
          -0.07897641996932246,
          3.947736942596342,
          4.200583641686966,
          2.003210942356664,
          2.9443677999908484,
          3.824411877169004,
          4.096830341083534,
          4.009737185822868,
          3.870869754933407,
          2.498382443781567,
          4.299402819131421,
          2.7132503810574344,
          1.8683440425757223,
          2.816747187732226,
          1.9689563529311158,
          -0.012936000559493998,
          0.4954509579865526,
          -1.1826885813967278,
          0.2552260358822996,
          -0.5225896644678939,
          -0.3159756512372851,
          -0.8106166535157449,
          0.15379617030905215,
          -1.1844903099574484,
          0.22455957233364604,
          1.010285974846107,
          -1.216295338639155,
          -0.9185503404939376,
          0.5332152079731185,
          -0.7029559957282575,
          -1.084130740370432,
          0.3025128532966728,
          0.7447749703410879,
          -0.41979871623020604,
          -1.1320740973476686,
          -0.44019867960478143,
          -1.1329447431311477,
          -1.124491600783814,
          0.5084917348081408,
          1.1839154694989402,
          0.14124018085263765,
          -0.4808344808652758,
          -0.6056626155304573,
          1.6011483867374303,
          0.11794967313720206,
          -0.0059810166949094915,
          2.0215175249212884,
          -0.4445791436451104,
          -1.2003141043691696,
          3.1752792721957275,
          -0.5137901219338554,
          -0.8757703647354524,
          -0.9308662967294811,
          -0.9388461204798892,
          -0.5855785901885344,
          -0.44336172884904407,
          -0.34518471203039,
          -0.6664206362770299,
          0.2273191336674364,
          -0.5228742475515111,
          2.148933400787864,
          -0.3376210083534843,
          -0.147476898852919,
          1.8635398524434754,
          -0.4777450604093163,
          -0.12173924545687131,
          0.22452938506889625,
          0.48031486741435164,
          1.8251081964038043,
          0.23134681823109127,
          -0.46199076697665425,
          0.5064557391479905,
          0.16329357651311494,
          0.3143144093738337,
          1.1285075473446677,
          0.22723472559092714,
          -1.7238725673802944,
          0.4279385085362836,
          0.1297098250323021,
          0.015049736447370341,
          -0.25824706066012953,
          -0.8676354547836447,
          0.5913611339230551,
          -1.5211244310145826,
          0.14016105983214994,
          0.46614147222800334,
          0.6432643826535808,
          -0.2834563948046819,
          0.10297374942829338,
          -0.31121794947806913,
          0.3091531565283797,
          0.8608875425643087,
          -0.5031110890352789,
          -0.6413601615987803,
          0.7197461876217346,
          -2.2777577846379966,
          0.9087850864898515,
          0.7691654005727475,
          0.13545127549066077,
          -0.1389242473280153,
          -1.6973909209795017,
          -0.8709682582520533,
          -0.5524547919198007,
          -0.06134255844204926,
          0.09649122945537648,
          -1.4207261249182177,
          0.14373149671373153,
          -0.34371335879586357,
          0.16889139149819038,
          -0.3677052258752751,
          -0.858179093818741,
          -1.0011094002843506,
          0.5133889043651962,
          -0.695325308478489,
          -0.21201863475343727,
          -0.3247482312833483,
          -0.35689069156031417,
          -0.6018870457218906,
          -0.023865733432901416,
          -0.6147198864072779,
          -0.0826512388966462,
          0.11253981732624155,
          0.1284425006409961,
          -0.4390005762471739,
          1.6812912844217591,
          -0.5420027700802433,
          0.3383361719284345,
          0.3028569167300281,
          0.25829343001027893,
          0.5149214159938803,
          0.645330492107641,
          -0.6159710932695227,
          0.6375274783501093,
          -0.35689069156031417,
          -0.6018870457218906,
          0.5755013350872232,
          -1.3851701147238362,
          -0.6579936708612677,
          -1.4547750899500642,
          -0.5925719961940912,
          -0.27539281743933175,
          -0.8885682078565951,
          -0.7789397313822244,
          -0.580802829310031,
          -0.9671540849892692,
          -1.042196552355442,
          -1.555337750519238,
          -1.042196552355442,
          -0.34788064568909827,
          -2.2851328888934836,
          -1.8398301067100626,
          1.9837454854232526,
          0.8445587898111392,
          2.5658226986418615,
          0.8854636760126142,
          0.2595545884931392,
          -0.3095944074445273,
          0.5668907368292201,
          1.2694706456843732,
          4.560734267010809,
          -0.3927475997569369,
          1.2950748212259682,
          2.5969201183598987,
          -1.3970386096012044,
          2.013026202024357,
          0.3901080519302942,
          2.6197557092313035,
          -0.1446193907615824,
          -0.2619388696322704,
          0.38309630170114234,
          0.9605720949725696,
          0.2510204975793908,
          -0.1940270875966497,
          1.1440314430575227,
          3.101952552101447,
          2.4276942095475427,
          2.2320385149798074,
          0.30910192946641674,
          0.11177920610361332,
          0.07954456834902052,
          0.7607539483416897,
          1.1193353243536772,
          3.048433846576763,
          0.15237988543575048,
          2.815298610761656,
          -1.4209004255321622,
          -1.966428063653937,
          1.3860970857339734,
          -0.14299334484438805,
          -0.9397233569072136,
          0.31143741481399156,
          -0.7167613268365297,
          1.6084989985853724,
          0.3392311354070867,
          0.9892196306539381,
          2.254857946528482,
          -0.24523777685359052,
          -1.3710764065555012,
          -2.1575689455138725,
          -1.0873543877234397,
          -0.8118434524500743,
          3.6623040820383266,
          -0.9185693711749358,
          1.112855651581103,
          0.7191264323048602,
          2.3940554871409945,
          0.7847038107970841,
          2.079259208240021,
          -1.231702828565126,
          0.08764602753523879,
          1.4351732755007502,
          0.11982963458463261,
          0.9197828643238708,
          2.372014372311616,
          1.4698232034499272,
          0.17328719202556814,
          1.602965589685034,
          1.7618349862137392,
          -0.26286903312502724,
          -0.5814155371657362,
          -0.5245284187143453,
          0.3731788212976034,
          0.417743927486082,
          1.030599285345232,
          3.205234164354546,
          1.9902317814253887,
          1.92747012906485,
          1.3251363303775905,
          -0.41262050564785124,
          0.009305687521320511,
          -1.0353607323696807,
          0.3624037639189794,
          -0.4610158715720302,
          0.8196202188125615,
          -0.5954870223327163,
          3.248291219022607,
          0.7540811124504343,
          3.248291219022607,
          3.248291219022607,
          1.5703312096707533,
          -0.14880210095183746,
          0.12663474820001602,
          -0.9911123248901145,
          0.36485470380195717,
          0.09430504500779657,
          -1.4285594948936042,
          -0.7452555008571842,
          0.8049518266487645,
          0.3542432118313179,
          -0.3631108770501613,
          -0.2779904116881683,
          -0.948657099796283,
          -0.06505098848408826,
          -1.7643012836512768,
          -0.45092693568950926,
          -2.1253378140639745,
          0.08267926446602947,
          -2.9014637268044954,
          0.23873575179848597,
          -2.9960636417245343,
          -0.033758430383787355,
          -1.2855121771440314,
          -0.2765371758140071,
          -2.173874565363991,
          -0.5580846660040983,
          -1.699186901241057,
          -1.5231082035544343,
          -1.499240274007131,
          -1.9410971800223642,
          -0.23215013449615216,
          -2.25997006298684,
          -2.570361943687755,
          -0.7606472675073215,
          2.612740648758317,
          1.5925347887255819,
          2.384899820242949,
          -1.7635288367605564,
          -1.4380825732084934,
          -1.5959747297034008,
          -0.7421455333800782,
          2.392544485893053,
          -0.9869436933026319,
          2.9389189353636764,
          0.29670765882022465,
          3.0663303232712353,
          -1.0198695126787063,
          3.134828639714438,
          1.4349092997020665,
          -2.4391161384805713,
          0.19817361196419236,
          -1.2967870681618106,
          -0.019354275832585775,
          -1.94452613132895,
          0.2750020220094602,
          -1.2436110350691916,
          0.1406976550618073,
          -1.6458632959467658,
          0.2948112760114192,
          -1.1248055472208345,
          -0.9378420254691432,
          0.3071757304309137,
          -0.12393187718478718,
          -0.09360446775125322,
          0.49101452602719914,
          -0.667851746301714,
          -0.42668663676783913,
          2.136198790947956,
          -2.3008711945247726,
          -0.07451979646259357,
          -1.8111488474491158,
          -0.09966860790594423,
          -1.1907970787948214,
          0.3810554508509005,
          -1.4485448556169402,
          0.28476387640570877,
          -1.0255567501539475,
          3.5477606600641463,
          -1.271957219912957,
          2.407679240802624,
          -1.2485127784880383,
          2.87124566636363,
          1.661901821434922,
          3.1198447388228625,
          -1.3681396067952678,
          4.747798847575286,
          -0.10725246290817642,
          2.946870235517645,
          -1.8561622393353496,
          2.93450851902348,
          -1.4923385086708172,
          3.1830658867846426,
          -1.6786090171796961,
          -0.3743211285975505,
          -1.8789654248987504,
          3.5006811210557207,
          0.317744381916749,
          3.3597541079291036,
          -1.6884476094776442,
          -1.074468640915622,
          0.14787669520266788,
          3.7259924617838367,
          -0.9211797694857625,
          2.6369799622216634,
          0.2650439958730215,
          -1.1634892310408278,
          -0.45230947577616726,
          -1.1995776725653953,
          3.4843171209857022,
          -0.7186480366319897,
          0.3356139950196521,
          0.3143128613136884,
          0.062339387433562994,
          -3.0837354129423793,
          -0.5640796052572069,
          -3.1919066540796046,
          0.9233224714852344,
          -0.2849714439632179,
          -0.5348907930674667,
          -2.942731843303511,
          -1.6285905704521344,
          -1.501320704484568,
          -2.7893798353078028,
          -0.7442635559625006,
          0.40078343889636703,
          -0.3029217193522382,
          -0.7545164852213732,
          -1.3185051922932267,
          -0.5170925187405517,
          -0.27932190606706747,
          -0.653233818578511,
          0.1148823524284095,
          -0.14410225134483143,
          -0.9978997960785247,
          -0.3527868345226056,
          -0.8076459646857143,
          -2.0745506003907788,
          -0.7554892479917235,
          0.717201129578617,
          -0.030033942773337482,
          -2.020088268520541,
          -0.8055986222324224,
          1.4517343258793507,
          0.6526679488386193,
          0.058634071814179886,
          3.3149617942313943,
          0.9653616604542161,
          6.139981601351513,
          -2.693274465475994,
          2.033495174301802,
          -1.3286307381713147,
          -2.043169092914952,
          -1.586284435897205,
          -1.4090739975286304,
          -1.1594142522942446,
          1.0333350530259353,
          0.1155686345377818,
          0.8169524147852304,
          0.19124200889873297,
          -1.4275245787645334,
          -0.39886019111612214,
          -1.9850755695416995,
          -0.10559144606329961,
          -0.9239229697106814,
          -0.23242327485594322,
          -0.19929313111391175,
          0.32943226697447775,
          -1.4665859530462795,
          -0.04518513362883854,
          0.044753153476251396,
          -0.9665442196406068,
          -0.07676857331990433,
          -1.443093322721327,
          -0.3078790839810705,
          -0.7366800152305196,
          -0.29683430355901846,
          -1.0199857740588016,
          0.2409979816425657,
          -1.556574299654791,
          1.0372104305405125,
          -1.0386139552050198,
          -0.2744020964394345,
          -0.7133586501811654,
          -0.88114975823141,
          -0.5804397026477138,
          0.2004042910900538,
          1.3996270353309839,
          -0.2471774007894683,
          0.18249243182092054,
          -0.7703719952402023,
          2.0809333825982943,
          0.18249243182092054,
          0.3409402246826219,
          1.7544897406823206,
          3.7167986811845037,
          6.235470923773312,
          2.2964747283159075,
          1.599599537074389,
          4.064571865693097,
          4.186125570962363,
          3.2106221995685114,
          3.3676894835888405,
          5.603953785450012,
          2.3378152733750595,
          4.294748057976113,
          -0.07897641996932246,
          3.947736942596342,
          4.200583641686966,
          2.003210942356664,
          2.9443677999908484,
          3.824411877169004,
          4.096830341083534,
          4.009737185822868,
          3.870869754933407,
          2.498382443781567,
          4.299402819131421,
          2.7132503810574344,
          1.8683440425757223,
          2.816747187732226,
          1.9689563529311158,
          -0.012936000559493998,
          0.4954509579865526,
          -1.1826885813967278,
          3.2031426582157416,
          -1.7511159130491425,
          4.340687039667542,
          0.2707902812617519,
          0.21783117874537822,
          -0.0534650101162068,
          1.0366433271863007,
          0.30382603447272893,
          1.9038261497599858,
          -0.6521655183945064,
          -0.036683814833019024,
          0.3017580836530289,
          0.31383581699210605,
          0.4657068767621445,
          0.7645816992756103,
          0.2648444112957467,
          -0.9555652712553768,
          0.5725184322649476,
          -0.16262575387141012,
          0.19289683639529204,
          1.9173353783695932,
          -0.4409983894223711,
          -0.5094662720211957,
          0.030915119467082457,
          -0.6228807977519266,
          -0.6672198119316197,
          0.030915119467082457,
          -0.3153292056828834,
          0.7062197154403246,
          0.33428597428327744,
          0.9270585706667474,
          -0.21101722137813858,
          -0.37475445663029294,
          -1.1722833402448198,
          -2.2664076184652986,
          -1.21104136850358,
          -0.6167212203695623,
          -0.05825491255085082,
          0.2608534190761714,
          -0.1552645911864235,
          0.005170253110412681,
          0.40049213146733303,
          -0.06646697763751533,
          1.868668558603038,
          -0.1452592750246756,
          -1.1144755867121459,
          0.3989620199824528,
          -0.7913622425599484,
          -1.0721218269424173,
          -0.10363550417285276,
          -1.0608195220235477,
          -1.4842154349587091,
          -0.9551933176402218,
          -0.20226321539983275,
          0.9087850864898515,
          -0.1389242473280153,
          0.10297374942829338,
          0.15361893285853423,
          -0.3677052258752751,
          -0.5524547919198007,
          -0.06134255844204926,
          -0.695325308478489,
          -0.3247482312833483,
          -0.023865733432901416,
          0.34662168072964267,
          -0.34574540748460025,
          -0.4777450604093163,
          -0.6303605738394081,
          0.4535141741282103,
          -0.8676354547836447,
          0.002763956132345016,
          0.14016105983214994,
          -0.2834563948046819,
          -0.2739517128994956,
          -0.07919596320538322,
          0.6604319773341499,
          0.8334102805662708,
          0.3296444044983543,
          -0.5180696541151858,
          0.007664539643973357,
          0.14373149671373153,
          0.43634897208419854,
          0.11253981732624155,
          0.1284425006409961,
          -0.4390005762471739,
          0.015049736447370341,
          0.8462782218918494,
          -0.25824706066012953,
          0.16329357651311494,
          -0.7115254445209854,
          -1.0267398136548138,
          -0.6317808715025284,
          -2.25147021908376,
          -0.38777803968590263,
          -1.1684375896463925,
          -1.2006220376306238,
          -1.4302897988640568,
          0.10817756599213023,
          1.8258852673395256,
          -0.673659935183812,
          -0.1360277275676166,
          -0.27934281140981376,
          2.3876294700299705,
          -1.3049191422163993,
          -0.915174517273443,
          0.6000436006045259,
          -0.09193494003288087,
          0.4750097224350762,
          0.044728155254911264,
          -0.006026472828812089,
          -0.831643463809274,
          -0.3181154163724225,
          -1.0328274030321023,
          -1.6973909209795017,
          -0.8709682582520533,
          -0.42874139795839816,
          0.4602398338763563,
          1.2110654645672931,
          0.4573392958801684,
          0.5032389085205232,
          0.038256029565103676,
          0.3336227929411395,
          -0.06169822664945129,
          -0.16872119367174873,
          0.21275302629589785,
          -0.070607924809187,
          -0.34788064568909827,
          -2.2851328888934836,
          -1.8398301067100626,
          -0.8865413273318324,
          -1.0735965621981427,
          0.5796120742936551,
          -0.5622264424100749,
          -1.6522191339453107,
          -0.547435110490308,
          -0.7165309147319687,
          -0.1297434247869575,
          2.1107890886572998,
          -0.24233528774515362,
          1.9883163176735292,
          2.59174841789161,
          3.3737023576468874,
          0.13716170100446345,
          3.7775703979125677,
          -0.44295781940734064,
          1.9318183790288739,
          0.4263511629299957,
          1.4934544656952866,
          1.1150385142726464,
          1.7038672667565962,
          1.5926082506076524,
          1.3311230653730095,
          0.3600946436109062,
          0.1790715461659772,
          0.4189976787771638,
          0.554105876066121,
          1.2101440870800657,
          1.9701637825535485,
          2.085999837885507,
          2.6687948046912027,
          2.1327845276611903,
          1.2661650933615352,
          3.9645735655702588,
          4.25070362985792,
          3.2700492566066655,
          2.7658871681111634,
          -0.3103610602342994,
          1.167183984458534,
          1.936578002680813,
          0.25482798029534,
          1.0884413129389483,
          0.9401633748139157,
          4.999431634463598,
          1.7450118031729975,
          -1.1149326754708324,
          0.4485408380246326,
          -0.9255591515682166,
          0.914959492720118,
          -1.1234355794749122,
          3.2250201933121008,
          1.1689189044627732,
          1.643496553235301,
          1.4675954636986648,
          -1.9120497486331507,
          0.9285777169653932,
          -0.16434077688226484,
          0.08764602753523879,
          0.17517716650355136,
          1.0215101382739968,
          1.4351732755007502,
          -0.49428280722166484,
          -0.22936113163685884,
          -0.1468161465113062,
          -0.533405984383568,
          -0.977892410450261,
          -0.05536225973015462,
          0.5490654848084475,
          -0.567685044896151,
          4.226211205576255,
          -0.0857779085006982,
          -0.8183523701895656,
          -0.5084629983144417,
          1.159316825546609,
          0.20550019316399068,
          -0.8605544820517355,
          2.9453834369893435,
          -1.1767969996738965,
          -1.7618879999921488,
          1.1151039196480952,
          1.4081452814244138,
          1.536262424980462,
          -0.8026131557254124,
          -0.9946782041009985,
          0.5233142245019176,
          2.4456556686012005,
          -0.9001106603104568,
          -0.5263769148278544,
          0.5270452898748246,
          -0.050823227698514675,
          -0.7062679266105842,
          -0.22077926863302882,
          2.2806389653786496,
          0.9860967424681937,
          0.005401207470081407,
          2.4676051607075147,
          3.4578631693151776,
          -0.40960608716931307,
          0.09867663066021042,
          3.011000801975362,
          -0.40424372518427815,
          3.028099137106473,
          -1.02056689432386,
          0.8377060713486548,
          0.37788620413948243,
          -0.2618635560151341,
          -0.3680335054466045,
          1.259538442058215,
          -1.1179258144258066,
          0.29175467266608235,
          -0.35241586910959044,
          2.5106622507758347,
          -2.758564390909091,
          -0.7776545385441828,
          -0.9424723115085248,
          -1.253855250638813,
          1.1101373464147313,
          0.366449113890178,
          -1.7125366736746586,
          -1.2912880188106224,
          -1.6236165389745851,
          5.068272148431966,
          -1.0785169703104396,
          0.6097231079693355,
          -2.1200573759984307,
          -0.17191127391578245,
          -1.3912725829822241,
          1.1163148543961958,
          2.403319169562714,
          -2.7485931476118997,
          0.43453916552865235,
          0.9681042952625462,
          0.6357299318960729,
          -0.9180068119543405,
          0.4364820658297647,
          -1.2161698663427845,
          -0.3131692373367092,
          -1.5241345162906106,
          -2.0350889637825698,
          -1.532120981279417,
          -0.5894834307850951,
          -1.0841746054548511,
          -1.8096444135841707,
          0.8011020292768558,
          -1.3530909974018328,
          -0.8256422545572875,
          -1.9799261151948644,
          -1.847539499504884,
          -1.8865917976957556,
          -0.6919650769821117,
          -1.5981557548001184,
          -1.2409965772964797,
          1.7268709968640221,
          1.3242180113558504,
          -0.897944069813459,
          -3.7415460605414825,
          -0.44947507241267703,
          -1.2174112394267482,
          -0.13016972002511876,
          7.05647303104726,
          -0.21495227280077112,
          -1.919316489270173,
          -0.24398456890734949,
          -0.7750642747290376,
          0.8953584284747927,
          -2.181644543702919,
          0.3288720134946386,
          -1.7871164130238701,
          -0.6273759215041972,
          -2.293879367436763,
          -0.09772045668732143,
          -1.8554601063325145,
          -0.6129642654353479,
          -2.7371535641369493,
          1.8081462346276893,
          1.575813626690259,
          -0.508299896402975,
          -2.073359604934119,
          0.04296062873030913,
          -1.9808792096176262,
          -0.4548933928378713,
          -1.0467140212918788,
          0.3316204139025951,
          -1.9800725602013216,
          0.12983942152943143,
          -0.8256838735820893,
          -0.369473252805157,
          -2.779803945225102,
          -0.6800285035408015,
          -2.4499833912355835,
          -1.0110191534762243,
          -0.660350484904398,
          0.06390908499646121,
          -1.309953274358017,
          0.7655534206857181,
          -1.0918127470211947,
          0.6654393745325724,
          -2.074045146707651,
          -0.45952815099040384,
          -1.5714176072535013,
          0.011422150294680565,
          -1.2090219441858185,
          -0.6213715029971569,
          -1.5517600124349373,
          -0.11621329925474698,
          -1.994684884965576,
          -0.8130056870611253,
          0.4741303051859456,
          0.5705965829113464,
          -1.906639123908276,
          -0.24424228860490654,
          -2.3781485541245937,
          -1.0812113450648364,
          -2.257153210057369,
          -1.444852020133192,
          -0.14189185816219232,
          -1.8658259036543,
          4.404055529630478,
          -2.953053744435564,
          1.1805145676394815,
          4.7662864797845845,
          -1.8952311603703045,
          2.7177199633071116,
          -2.4086202889376698,
          -1.6984492029760336,
          0.18907127623798944,
          -2.7809267127123336,
          1.5619858983871904,
          -2.697270497809787,
          -1.6789466579387722,
          0.05643407457300039,
          -0.8572919419177436,
          0.17966025250969253,
          -1.2290939282967388,
          -0.9081307025695627,
          -2.601764789298791,
          -0.21773271261007943,
          -1.5302025147117195,
          -1.4788117351202181,
          -1.3187880995107708,
          -1.98988863431166,
          -0.5331762611643073,
          -3.2404722775116244,
          -0.12152288347139792,
          -2.590887882169311,
          -0.21797116962996932,
          -0.6094188943783371,
          0.3103776546962441,
          1.3990672680392255,
          -0.27519977012382585,
          -0.01447513129421888,
          0.44209342509732014,
          -1.5572369167979676,
          -0.08450799097957763,
          0.6646533976580417,
          -1.402902632703016,
          -2.1856610990878518,
          0.8732844898275497,
          0.12710517148321118,
          -1.0851391495440899,
          -1.3417428564881497,
          -1.6928160012856464,
          -1.4802851268975656,
          -2.690041560329341,
          -0.47318459434840643,
          -1.844135301823735,
          -0.6001928084576693,
          -2.153077318968082,
          -0.08048269067653885,
          0.793184013590734,
          -0.5429640350801562,
          -2.434521538206572,
          -0.44704861479961766,
          0.3400409040726934,
          -0.031205112906867387,
          -1.7408813580802114,
          -0.31079257605169974,
          -0.7401567595016325,
          -0.4410859480035531,
          -1.2261219205440785,
          -0.21899107639045368,
          -1.552752202955265,
          -0.6317447701158357,
          -0.036683814833019024,
          0.3017580836530289,
          0.31383581699210605,
          0.4657068767621445,
          0.7645816992756103,
          0.2648444112957467,
          -0.9555652712553768,
          0.5725184322649476,
          -0.16262575387141012,
          0.19289683639529204,
          1.9173353783695932,
          -0.4409983894223711,
          -0.5094662720211957,
          0.030915119467082457,
          -0.6228807977519266,
          -0.6672198119316197,
          0.030915119467082457,
          -0.3153292056828834,
          0.7062197154403246,
          0.33428597428327744,
          0.9270585706667474,
          -0.21101722137813858,
          -0.37475445663029294,
          -1.1722833402448198,
          -2.2664076184652986,
          -1.21104136850358,
          -0.6167212203695623,
          -0.05825491255085082,
          0.2608534190761714,
          -0.1552645911864235,
          2.3906027619706807,
          -0.30046371974958663,
          0.7462946799507019,
          0.7462946799507019,
          3.5456454646508515,
          0.691394432894907,
          0.3091735321549256,
          -0.15780013383068398,
          -0.2858048308939584,
          -0.06576541107613976,
          -1.155486789132711,
          0.23357654912371525,
          -0.21101722137813858,
          -0.37475445663029294,
          -1.1722833402448198,
          -2.2664076184652986,
          -1.21104136850358,
          -0.6167212203695623,
          -0.05825491255085082,
          -1.1618380293926391,
          0.6536988135426735,
          -0.4558010355427195,
          0.7190199988056075,
          -0.5068004559740059,
          -0.5994918444650069,
          -0.6864001272073526,
          1.7249680569740897,
          0.9249592452476172,
          -0.6626227707180484,
          0.25562055699726305,
          0.47866911117607625,
          -1.1855841328539578,
          -0.7408239040427022,
          0.685398580713449,
          0.9249592452476172,
          -0.6626227707180484,
          0.25562055699726305,
          -0.4530920274734301,
          -1.1368916014055097,
          -0.09729182875235673,
          -0.399144518319702,
          0.20563504618949532,
          -0.48348918462359985,
          -1.0325112007398116,
          0.6380126708770351,
          -0.8714924112963748,
          0.05787951628791748,
          0.6380126708770351,
          -0.8714924112963748,
          -1.6463945494024277,
          -0.23359442295725572,
          -1.8357698291892321,
          1.2555810010272759,
          -0.4810421167753037,
          -0.0678936700810166,
          0.19523962326477393,
          -0.643824548393836,
          -0.7327510873041314,
          -0.6472405250577081,
          -1.7394744717769972,
          -1.6463945494024277,
          -0.9956517873539085,
          -0.5144440596315251,
          -0.5015554669073314,
          1.437944570028127,
          -0.8087942086408372,
          -0.23359442295725572,
          -1.8357698291892321,
          -0.4483311286355745,
          -1.0065742454223556,
          0.43611976997414326,
          -0.7952889305257858,
          0.2556558934066288,
          -0.40612083689075185,
          0.8543351579555509,
          0.02447404407863721,
          0.9689719590504808,
          1.3347004881920965,
          0.2923950602670566,
          0.5637425907634616,
          2.3347892068342406,
          0.6193915254340541,
          1.0816831006508116,
          0.5796790050158662,
          0.8559287856787134,
          -1.074446322339344,
          -1.6068346465396708,
          -1.1547928242069585,
          -0.7840173431245335,
          1.7365248438836096,
          0.323833959409153,
          0.30693960601855524,
          -0.37471482559288644,
          -1.092844359702647,
          -1.2813958302849882,
          -0.925906186227379,
          -0.25406882949676385,
          -0.037073327751211575,
          -1.2067543755840917,
          0.24536639243448718,
          -0.7380308787080966,
          -0.6163704876542901,
          -1.3514528059410889,
          0.10031168699684112,
          -0.6571726485617198,
          -0.8330087817761782,
          -0.2506118115951629,
          -0.8448690847534337,
          0.08831643302739721,
          -1.2157724052294374,
          -1.220314910268839,
          1.4844470354767907,
          1.1975795435817655,
          -0.002487934385666235,
          2.4394556351063605,
          -0.4162396514069212,
          0.868302010322997,
          0.2499834256847733,
          0.2522202291583888,
          -0.7063416579254342,
          -1.146443780645858,
          0.12543486814815843,
          -1.2325116297284469,
          -0.3613971646427323,
          0.13145422772443482,
          -0.6817919481005968,
          0.25020970075523463,
          -0.41642968985880047,
          1.767877750643947,
          -1.183766430196067,
          -0.34917786808374673,
          0.4812081702873564,
          0.10512712493776155,
          -0.33510417654789176,
          -1.1923063059362207,
          -0.8106041796366635,
          -1.452844343757789,
          -0.5045427937886747,
          -0.669970610439278,
          2.7537977696439455,
          -0.5057296741611378,
          1.586952878373705,
          -0.8707041266724238,
          0.23528380306508206,
          -0.333510093766127,
          -1.0011094002843506,
          -0.333510093766127,
          -1.5211244310145826,
          0.6638170750158294,
          -0.6586989425249785,
          1.350601300673325,
          -0.21659033651916704,
          -0.6571758963091516,
          1.3155386086241274,
          -0.08010179411174313,
          -0.11545518717767587,
          0.583354560283197,
          3.90240904018186,
          -0.07816028019584827,
          1.8635398524434754,
          0.12097571742702798,
          1.015548373908521,
          -0.12173924545687131,
          0.48031486741435164,
          0.589873027858801,
          0.8729174681790141,
          0.16889139149819038,
          0.16889139149819038,
          0.22723472559092714,
          0.8608875425643087,
          -0.5031110890352789,
          0.626146097743682,
          -0.01638324456566392,
          1.8251081964038043,
          -0.46199076697665425,
          0.7691654005727475,
          0.7586414225230123,
          0.09649122945537648,
          0.4951352816540919,
          -0.9519120959760241,
          -1.0998523373939957,
          -1.314887368947634,
          2.572816026808676,
          0.9831945706877974,
          0.19108380723283735,
          2.4057701659815294,
          1.6093564201984651,
          1.6937755132158272,
          0.2330161244957581,
          1.2566649256925062,
          0.8169381864971575,
          1.8377786353339711,
          0.627093759726668,
          0.731902598208441,
          1.9038753178614178,
          -0.3612260354485008,
          -0.24918438998188916,
          1.7801164440256674,
          0.9527893602364357,
          -0.7772786045431757,
          4.470243229786719,
          0.904797103213613,
          1.3950411639916132,
          -0.3382214167801029,
          0.5673444793544257,
          0.4856228607960431,
          0.6893333979876186,
          1.380743649706673,
          0.21979064746022198,
          6.848825365632216,
          1.719941497889971,
          2.728452153889673,
          0.061619307132093966,
          -0.6031674209228076,
          2.6397730780405317,
          3.3457430150583836,
          3.6300198900099194,
          1.4750118440151032,
          0.9985008017523752,
          -1.1149326754708324,
          1.5526509638901842,
          1.019637438122408,
          4.632666259930426,
          3.1074510494015426,
          1.7614511202495364,
          2.5126126750115483,
          1.0415474720479712,
          -0.9684166193786633,
          -0.5374668235289861,
          4.023004478378873,
          1.0227552798064834,
          0.965480855351442,
          5.643365084992444,
          3.055804459513138,
          3.810265175319663,
          -1.5857281929741507,
          2.557307713844248,
          1.9951246866858923,
          -0.3283651066539812,
          3.035874987390129,
          2.381519686906089,
          -1.1287143975997977,
          -0.999546458230313,
          4.511106914067917,
          -2.0959138439115925,
          5.7974477606593355,
          -0.7973619045023053,
          -2.462452558387475,
          -0.29183868152400444,
          -2.6065497993921065,
          -1.007381994764751,
          0.09931668341399087,
          -0.25954036570246175,
          -3.3585442122850986,
          -1.1701845588854891,
          -1.2919965743355741,
          -0.07287192642127838,
          -0.2725800500429203,
          -0.5214038760226971,
          -0.7091790582810286,
          1.553555651142314,
          -0.7418926878306861,
          -2.144666584414265,
          -1.0016459697890616,
          -2.366669553865146,
          -0.8099065316037454,
          -1.2389716714655143,
          0.9631769145010132,
          -2.386207030148499,
          -0.8583440464246392,
          2.1168199960454706,
          -0.08085332132664469,
          0.8582692532583417,
          -0.6899049225523983,
          -1.934069973366916,
          0.174190777156822,
          -2.7400808932300134,
          -0.4453066443897579,
          0.07560624854511619,
          -0.663506710654556,
          1.1974615252449248,
          -1.3304384968159761,
          1.9039529816024465,
          -1.7343787745967525,
          0.0528735780849543,
          -2.122275726470306,
          -1.007051954985149,
          0.22610241288323862,
          -1.4239142343280147,
          0.3709046641635732,
          -2.874201939355565,
          0.0006401320648403063,
          -1.2076331182085753,
          0.3135597578576767,
          -1.4317862161348873,
          0.19045911275894242,
          -1.996201335443269,
          -2.191344225951827,
          -0.8761929402570054,
          -0.8792587970912117,
          -1.0470034065337586,
          -2.866109596178031,
          -1.1123522381113284,
          -0.5219098529003178,
          -0.3464208464777896,
          -1.6131574548298986,
          -0.7816739988500834,
          -2.875811075572287,
          -0.9145792051251924,
          0.05959292829381955,
          -2.643426452342835,
          -0.5875767646212426,
          -2.122700529541454,
          -1.603845516341684,
          1.5980634964128295,
          -0.7559548897959962,
          -0.5644037916978775,
          0.03371779876316604,
          -1.2577849070526705,
          1.2355075082952176,
          -0.9880223152676604,
          -0.2842550661530189,
          -1.5690747395261113,
          0.5729883282276671,
          -3.0012737769732856,
          0.29093619008974153,
          -1.703544258286795,
          0.4180964445092155,
          -2.072589631258259,
          0.1262770226372348,
          -0.7591184667544246,
          -0.8744419919035332,
          -1.8747223230581032,
          -2.620000935220372,
          -2.816145022961643,
          3.2462316295644067,
          -0.7433782655213367,
          -1.6198033264824598,
          -1.7714910794260625,
          -0.33307014193930873,
          0.37690743436996044,
          0.8776084440160716,
          -1.393859501867358,
          -0.828209901668971,
          -2.2022085666900564,
          -0.21589027397540628,
          0.6424567093610906,
          -0.18486376167462615,
          -1.621538977105794,
          -0.28190706492971224,
          -2.856913238794313,
          0.27736492225924203,
          0.9965289519136186,
          2.4570023590328876,
          -1.9290955092170075,
          0.5102562727129767,
          -0.7702275998772445,
          -1.2088914051119215,
          3.0680295930159955,
          2.9058268434733945,
          -1.5320449488502523,
          4.359451342936816,
          -2.1113316861819746,
          2.173320477159511,
          -0.13294004385897987,
          3.0963422828144385,
          1.4743066764441588,
          5.196757010765932,
          -0.27653300222418203,
          -1.7835930308016135,
          0.007295186134197531,
          -3.1284976692382425,
          0.6758431934009282,
          0.6924398522336651,
          -1.9204956950385783,
          0.685398580713449,
          0.9249592452476172,
          -0.6626227707180484,
          0.25562055699726305,
          -0.4530920274734301,
          -1.1368916014055097,
          -0.09729182875235673,
          -0.399144518319702,
          0.20563504618949532,
          -0.48348918462359985,
          -1.0325112007398116,
          0.6380126708770351,
          -0.8714924112963748,
          0.05787951628791748,
          0.6380126708770351,
          -0.8714924112963748,
          -1.6463945494024277,
          -0.23359442295725572,
          -1.8357698291892321,
          1.2555810010272759,
          -0.4810421167753037,
          -0.0678936700810166,
          0.19523962326477393,
          -0.643824548393836,
          -0.7327510873041314,
          -0.6472405250577081,
          -1.7394744717769972,
          -1.6463945494024277,
          -0.9956517873539085,
          -0.5144440596315251,
          -0.5015554669073314,
          1.437944570028127,
          -0.8087942086408372,
          -0.23359442295725572,
          -1.8357698291892321,
          -0.4483311286355745,
          -1.0065742454223556,
          0.43611976997414326,
          -0.7952889305257858,
          0.2556558934066288,
          -0.40612083689075185,
          0.2709773119132776,
          -0.37123891748533727,
          0.05981645608315886,
          1.1007268558008132,
          0.6956846562804192,
          1.7437278560694316,
          -0.7618107011557848,
          0.9513705315867045,
          3.663176874732593,
          1.1521283825948263,
          0.21540106389496805,
          -0.2453875436369583,
          -1.9848721750423446,
          0.4509995847103293,
          -0.8332056446774271,
          0.963781380185673,
          -0.37773512294771067,
          -1.9101961793706945,
          0.5979238536044142,
          -0.6621570821724639,
          0.485807721238544,
          -1.6802771445533613,
          -0.533097157008551,
          1.7007258844164188,
          -0.20754287803002963,
          0.4460200851725274,
          0.524842842719253,
          0.18863020912326423,
          -1.0234201411855353,
          1.0424022259359889,
          0.609702037489078,
          -1.4316768314836086,
          -1.547983263150414,
          -0.6212449084413009,
          0.17249810866222387,
          -0.4591608012628054,
          0.003440704360211693,
          -1.7134140832681726,
          -0.43021394701253646,
          0.5120154387638776,
          -0.4585974928456383,
          -0.40305014902899394,
          0.4524551811584478,
          -0.9365582957376815,
          -0.5295873842039331,
          0.10817124129616357,
          0.5392524912220844,
          0.14422594438521127,
          -0.5620309937850912,
          -0.6589531286468548,
          -0.09381490368112393,
          -0.25961522882304505,
          -1.0609317830987202,
          0.22058734189362286,
          0.26047929146823584,
          -0.8828974389054355,
          -0.6749962469082831,
          -1.0646245225866862,
          0.6315826009992538,
          -1.21926439590604,
          -0.8291127036139079,
          -0.649307354940576,
          -0.691372348631703,
          0.20018240545463759,
          -0.8875766074864908,
          3.254641410485411,
          4.045327445727725,
          2.072504131130433,
          3.254641410485411,
          2.447323495638171,
          1.5676970415762868,
          3.254641410485411,
          2.469564044613256,
          1.8516772585985308,
          2.347102718278245,
          -0.4839414654616312,
          -0.9021686595769839,
          -0.4455656040451525,
          -0.25090711564398077,
          -0.5728481795341532,
          0.12254225594365666,
          0.06995856506855094,
          -1.0356660676274696,
          -1.428606614418328,
          0.05608016313438526,
          0.06069726518201443,
          0.6274733314019298,
          0.36430519208443424,
          -0.3195864703880728,
          -0.3022808812326123,
          1.5482741940439855,
          -0.3191243191174096,
          0.0044068560248452515,
          1.400277220102186,
          -0.750399955228838,
          -1.0767591454684482,
          -1.0746860245429688,
          1.6377386784757677,
          -0.4588186023608121,
          -0.6238373295814654,
          -0.4059893897383755,
          -0.8722854367282479,
          -0.4903356931254834,
          2.659000851595141,
          -1.008600195230738,
          0.36543267360532034,
          3.000778520505468,
          3.135375613846219,
          2.4336197884852764,
          1.5773090315184357,
          3.0876370551678556,
          4.205435492412437,
          1.4812544558165939,
          3.1400170661936593,
          1.3391748616906007,
          0.929714285487555,
          5.74222114937152,
          5.231827213951297,
          3.1370296210052917,
          1.0758299612021787,
          3.8528427269671797,
          0.31814307732378644,
          3.108966271253232,
          1.1613002975625748,
          1.9065780544351978,
          5.328802749841141,
          3.808258642919773,
          3.636291637436294,
          -0.1564200139912137,
          3.9213812321125245,
          2.357283393720419,
          3.8881514707726232,
          1.8594029423412874,
          3.15683555657067,
          2.8397555926379945,
          1.3022029618208606,
          4.075733701217267,
          2.715667068073305,
          3.106612096463102,
          2.0367244508863567,
          4.619138843465415,
          2.274243997411614,
          3.301303652715627,
          -1.0069842443986454,
          3.1232561152233296,
          4.396178863522211,
          -0.3362785352118371,
          -1.1334678251779124,
          3.0617931068485196,
          2.891013078892364,
          2.2246340953341,
          1.166230016167477,
          1.3376878674119443,
          2.6563147097038016,
          3.5047676309615965,
          0.8965480057206773,
          3.9157488601194084,
          1.3663823991641304,
          2.9737253193147604,
          -0.5484852749343803,
          2.247749582052734,
          0.5015331130544114,
          0.6193915254340541,
          1.0816831006508116,
          0.5796790050158662,
          0.8543351579555509,
          0.2923950602670566,
          0.02447404407863721,
          0.9689719590504808,
          1.3347004881920965,
          0.8559287856787134,
          2.3347892068342406,
          0.5637425907634616,
          -0.7777286819398179,
          -1.7879520410253817,
          -0.17734588335861837,
          -1.1973862544333795,
          0.23638199732273665,
          0.009076844961475507,
          0.5778338278429214,
          0.06596992467834419,
          2.050037420569817,
          -0.08683240987294595,
          0.1816562486332717,
          -0.9872523459325365,
          -0.2844933347966675,
          0.9394729846121317,
          0.4020369469908345,
          -0.7918420041359906,
          -0.02900269456061197,
          -0.16305111797204122,
          0.05388133373426805,
          -1.0946145155361562,
          -0.6514290258077546,
          -0.11199051586738773,
          -0.23714975247684664,
          -0.6673223634628295,
          0.7931060499868647,
          -0.7041666554093593,
          -1.4207261249182177,
          -0.31121794947806913,
          -0.6413601615987803,
          -2.2777577846379966,
          0.7179498566618835,
          -0.11177359948456604,
          0.6556246387270683,
          -0.2284023974422881,
          -1.7238725673802944,
          1.92747012906485,
          2.399724730361621,
          0.674641640243087,
          0.609087676832754,
          0.6494333940044872,
          2.196091907040212,
          1.112855651581103,
          0.29175467266608235,
          3.2250201933121008,
          0.15270812703737235,
          2.298311417280089,
          2.0582731349661922,
          1.602965589685034,
          1.1689189044627732,
          2.372014372311616,
          1.1347886917224215,
          0.3031097861419207,
          3.8317779585465543,
          3.6623040820383266,
          0.5080077457064816,
          2.079259208240021,
          0.4279072121082377,
          0.24547745178236918,
          1.6720747056345968,
          0.33228906378409295,
          -1.4203641659066042,
          -1.7614659752689128,
          -1.3568101073138485,
          -1.7614659752689128,
          -1.3568101073138485,
          -1.3317743211730917,
          2.026740928036645,
          3.0556791196420585,
          1.1642756530804048,
          0.04145876610943945,
          -0.6002067905664075,
          0.20693945462854613,
          -0.27229351929248463,
          -0.9642910268461529,
          -0.4229875913230775,
          1.9038261497599858,
          2.0028027207306995,
          3.1697600078226533,
          3.0556791196420585,
          -0.4956462384067632,
          -0.6337980640451214,
          -1.1140659915670592,
          3.710067640154537,
          4.84309811331335,
          1.0459139305717597,
          1.8591121910503086,
          1.1131931948766023,
          5.373401871779814,
          8.662035799560178,
          0.8794416754792578,
          -0.033329004025162215,
          2.5722105214501982,
          -0.23474819131431554,
          -0.36317738296293306,
          3.0129341267550283,
          -1.0144489763625528,
          -0.005650356227238946,
          -1.9933407533768182,
          -0.3326126618661204,
          -1.7857050676562354,
          -1.2134299813788623,
          -2.0656110374278835,
          -0.7869739139584443,
          -2.81829944067318,
          0.12744252150720928,
          -1.8531423749148672,
          0.691758256855847,
          -4.525211293187699,
          0.3175014446007134,
          -2.211654700866321,
          0.32542777320408833,
          -0.7403118109911633,
          0.21267786205559308,
          -2.9079617426785322,
          0.06309870729702902,
          -0.22282745287309655,
          -0.32766114969326443,
          -2.7495742125147196,
          -0.13994719149199414,
          -1.0019566868563285,
          -1.898906830260613,
          0.005161784869465565,
          -1.2423079548298797,
          -0.3593481608490117,
          -0.9651908595232168,
          -1.2569709640367712,
          -1.4903011240009907,
          -0.9431204377198392,
          -2.098954504283645,
          -0.29854389185791047,
          -0.37666450961706066,
          -0.7882588457639448,
          -2.3815863913872555,
          0.4883194735478907,
          -1.1021568152089247,
          0.0055823962964961175,
          2.401259419508517,
          -0.14007363219062133,
          -2.165711904469687,
          -0.8654183312416664,
          3.1297200955858107,
          -0.8162647496972975,
          0.3354253329042791,
          1.0210243519949678,
          -1.497218973621119,
          -0.4921251991392881,
          -1.8104922236552603,
          0.04905030297431151,
          -2.157019373695833,
          -0.3267803108304782,
          -2.572350864604898,
          -0.7753636625797979,
          -0.5712580587119933,
          -0.4102997318588036,
          -0.4613487022757481,
          5.75920293912301,
          -0.0036839873305103,
          5.360598907345822,
          -2.574987512163776,
          4.17425017688257,
          2.1292053640243624,
          2.984049945491989,
          -1.795143052911615,
          2.6239922864334746,
          -2.3117307887514422,
          2.8823526792796565,
          1.7189877487387344,
          -0.8488331463735371,
          -0.1290667267653851,
          2.341240427673943,
          0.616034959291228,
          -2.3843255089872177,
          0.6578901937264044,
          -1.3436470709646877,
          0.44550805630824936,
          -0.9153918149558458,
          -1.0358235110140566,
          -0.9944027771218373,
          2.3278135881303017,
          0.5028412413336909,
          -3.0179949721961155,
          -2.615254996829987,
          0.5511748110496403,
          -0.7244576410902754,
          -0.3370414571963177,
          0.35316276310809913,
          -0.6159276854761423,
          2.284724629120651,
          -0.17175515107170755,
          2.1546339492071547,
          -2.1257567024336756,
          -0.9195372074669662,
          -1.6333531611131744,
          0.7891464482217974,
          2.4068120469276164,
          -1.2459352037191869,
          -2.289072751418474,
          0.5450664331844677,
          2.679482237232319,
          0.9390947324266877,
          -1.4814879724251824,
          -2.0569620372011244,
          -2.771568938849918,
          -1.2319382988869763,
          1.5379524195222387,
          -1.7824295766873295,
          0.8364034318525109,
          1.6173512999011865,
          -1.0840367493720444,
          -1.161059061521745,
          -0.9807952664190549,
          1.030740547734734,
          -0.6397364965915487,
          -0.5252543779936663,
          -2.176989216865496,
          -0.6525985596152848,
          -1.7509392392975272,
          1.2864652908596055,
          -1.2973314298932768,
          -0.9208070360186316,
          -2.2780159969649723,
          -0.017345250226345144,
          1.8303383413736214,
          0.3742976263444644,
          -1.6648494794612814,
          0.8252607286599514,
          -0.8509862085613131,
          1.3665464442889887,
          -1.539100952037888,
          0.8183236199357438,
          -2.5878830471714904,
          -0.05264847597777869,
          -1.8468653759830143,
          0.37199444503222195,
          -1.1484157517620919,
          1.586703010852435,
          0.4647793936732125,
          2.028688047395722,
          -2.1253790633415615,
          1.230691208891222,
          -2.1474226714653453,
          -0.7703291957695199,
          0.467947104447784,
          -2.128560824194147,
          -1.1512368087313498,
          -1.166164047360656,
          -0.8337745427512895,
          0.6666324526805779,
          -1.592343420892804,
          4.673385315142741,
          -2.145424363805133,
          0.14254886070076342,
          2.9116061173560293,
          -2.0704673940023848,
          -1.4026435283071945,
          1.9663734366976882,
          -2.1822171798812393,
          -0.29700763939631286,
          -2.315442997162536,
          -0.521720212751576,
          1.0857118709108018,
          -1.398587676541227,
          -0.4309612452027864,
          -1.16260286287263,
          4.721752558541294,
          -0.11688656333083129,
          -1.949628191150583,
          0.23061234635826733,
          -0.39935505760628814,
          -1.0065742454223556,
          0.43611976997414326,
          -0.7952889305257858,
          0.2556558934066288,
          0.7871181215361127,
          -0.658867637784411,
          -0.6601938018182063,
          -0.7834923818915124,
          -0.4369119472041195,
          -0.6212449084413009,
          0.17249810866222387,
          -0.4591608012628054,
          0.003440704360211693,
          -1.7134140832681726,
          -0.43021394701253646,
          0.5120154387638776,
          0.7871181215361127,
          -0.658867637784411,
          -0.6601938018182063,
          -0.7834923818915124,
          -0.4369119472041195,
          -0.43021394701253646,
          0.5120154387638776,
          -0.6120837246010978,
          -0.49886249752144673,
          0.6444967452862049,
          -0.16652098781170432,
          -1.0714929359197942,
          -1.009034749029214,
          1.0294550995270964,
          1.8804713794668868,
          0.36122056241651523,
          -0.705717902226341,
          0.9166666627615646,
          -1.1641924391100185,
          0.36122056241651523,
          -0.2773130594240757,
          0.5066945971308027,
          1.285492342484921,
          -1.2570371509388776,
          -1.4017977705235203,
          -0.7155723492035071,
          -1.2388323478359924,
          0.5479647016418148,
          0.3331348050864841,
          -0.5331332854364504,
          -0.730869565395982,
          -1.869684583968675,
          -1.009034749029214,
          1.0294550995270964,
          1.8804713794668868,
          0.2353944572165072,
          -0.34007271894580593,
          0.9949204715099659,
          -0.4557321563204071,
          0.06743654000332705,
          -0.34007271894580593,
          0.9949204715099659,
          -0.9525887149331984,
          0.9533080097551395,
          2.9325584932534636,
          0.6589950955787838,
          -1.326956130473461,
          0.47087960853130767,
          0.6952914048761525,
          -1.727813469350189,
          -1.808394521923122,
          0.26173944682367556,
          -1.9101961793706945,
          -1.3265329728802353,
          -1.723399712760948,
          -1.21104136850358,
          1.17620288313069,
          -1.035146088922918,
          0.44000799625024867,
          -0.46751100084729036,
          2.5437118577526108,
          1.5921687535463904,
          1.0932486135273167,
          -1.0345306453517533,
          0.00033593917783041277,
          -1.0565198135720608,
          -2.007172952191171,
          -0.2379239243223052,
          -0.7952889305257858,
          -1.6498701907892512,
          0.1395279033763316,
          -1.8357698291892321,
          -0.9929164884881453,
          -0.5910688593672297,
          0.8323350963528395,
          -1.5704970265532816,
          0.4195222036520003,
          -1.025468403793034,
          -0.933408880078599,
          0.08525871401740434,
          -0.9285045568388114,
          2.125295527703002,
          1.5059656394726746,
          -0.42310508910270167,
          0.4835046237254172,
          -0.9244845459591048,
          -0.9997371618168727,
          0.6903846608927253,
          -0.1653357693615018,
          -0.05892780139770835,
          -0.2458841668931856,
          -0.895639745605533,
          2.358561782187742,
          1.1520067342325766,
          0.1279974363118328,
          0.2680124405242939,
          -0.290852897707257,
          0.0314089408050549,
          -0.17767693242324797,
          -0.4074201286429997,
          2.1845552122248035,
          -0.15914508055036902,
          2.1232900638868037,
          -1.50283205105642,
          0.02765368113464368,
          0.16395067990343082,
          -0.7936689574290188,
          0.022591159330293778,
          -1.0978679113201255,
          -0.4699820663130219,
          -0.6513649774818363,
          0.1686879575604797,
          -1.590184119791359,
          -0.48423246148651033,
          0.4470217212545101,
          0.0039392078018819915,
          -0.913838813829289,
          -1.4791865427221857,
          -1.614667211916525,
          -0.7602228786810257,
          -1.4641526573428076,
          1.2033056216019882,
          0.4704839398412994,
          0.3781007704637826,
          0.037975209826557936,
          0.37978546193151497,
          -0.3798930128219799,
          -0.7166502323121837,
          -1.5706764144270664,
          1.3391577702260058,
          -0.7373795322409054,
          0.8175124016886357,
          0.2552260358822996,
          -1.1844903099574484,
          -0.008178568786244188,
          5.859497648375832,
          6.339813126792858,
          6.549205413935543,
          5.022677539888844,
          6.823547629655187,
          5.354175792032868,
          6.794227428391478,
          5.995626011241323,
          6.452963434968663,
          5.880666735235154,
          7.889328286341658,
          5.2797774966990225,
          6.569943338558785,
          5.146359437708189,
          5.308793746502784,
          3.000227868493088,
          7.225342483012425,
          5.779889450667781,
          -0.3702709228503859,
          -0.4514003727524872,
          0.649219523056764,
          2.639476897709051,
          0.7155147898480819,
          3.116719219927706,
          2.2639258934865882,
          -0.39440394660759814,
          1.2898035378028816,
          1.9092178255444168,
          1.0956043815117509,
          1.3070945622305188,
          2.692565507754588,
          -0.24050351371282222,
          3.1343275627895966,
          -1.2232250289932936,
          -1.5665631785022767,
          -1.7055008248253647,
          -1.1290204349525153,
          -1.819817996773816,
          -1.204511629714089,
          -0.6481294287404921,
          1.3623700756105344,
          -0.4956762546970528,
          0.7015793726033087,
          0.05367188393983638,
          0.6633898409335538,
          0.4701395610811218,
          2.2293652822216754,
          1.3982946535665413,
          0.4999262866579484,
          1.0895528087122692,
          0.2574466070347349,
          1.3304129337713666,
          1.3807405541648752,
          4.563212617882135,
          0.07861426926463383,
          -1.217445795362161,
          0.1734054410684973,
          -0.49230017286645184,
          -0.29449974732218964,
          -0.0030295746783228434,
          0.012144310700317925,
          0.004014037931931074,
          3.7961273969887595,
          -0.3269075947070722,
          -0.2984636785894772,
          -0.7264117895316425,
          0.13894433516617508,
          -1.1376656200884003,
          -2.2280548076490465,
          0.8099613522534621,
          -0.2871862201812754,
          0.36715461082236367,
          -0.35100639927871097,
          -0.6839064018773807,
          -0.17241638773520482,
          -1.4851231545751695,
          -0.8065996526853614,
          -0.07392461990678506,
          -0.41015786364484585,
          -0.6645737456703154,
          -0.9139521508820785,
          -0.037455535431278573,
          -0.12929052925749854,
          -0.9647521851686087,
          -0.11157708222131157,
          -0.09827363489980966,
          -0.9780522998845971,
          -0.8054413209455931,
          0.3750505284681241,
          -0.1471458631688226,
          0.11384668180472765,
          -0.04055496360762153,
          -0.42451703569902016,
          -0.9370916774530231,
          -1.6845343777353239,
          0.1066679543830503,
          -1.093455442938849,
          -0.9845989794519938,
          -0.25874207589996384,
          0.026571823290029804,
          -0.2744521312471583,
          -0.5837691049693261,
          0.06503031343144583,
          -0.266669804814733,
          -0.08962008680249949,
          -1.727698817704649,
          -1.6078087564641947,
          0.9846493905961552,
          0.9957532452949419,
          0.29206917877163774,
          -0.9218141687130522,
          0.268892185470593,
          -0.11823164674763328,
          -0.7096542391135944,
          2.1440318029535,
          1.686321987324085,
          1.1291226792936273,
          0.8463578993366335,
          -1.4600031332355434,
          0.9433849504271233,
          -1.2796731034626962,
          0.5112484602831708,
          -1.1301514790105969,
          -0.39651181270807456,
          -1.2545165528155147,
          -0.6205467004909315,
          7.210391283770788,
          0.07004120097458358,
          -2.17488093854706,
          0.7327824712603936,
          -2.3953673026524425,
          -0.013976757156924239,
          -2.7919607665213464,
          -0.2134246428862332,
          -0.013543360300743122,
          0.38346143745573447,
          -0.6094041888512484,
          0.2984928743554625,
          -3.18208509081975,
          0.1271341046502822,
          -2.783373395957673,
          -0.40028566037769125,
          -1.5627551193172833,
          0.41306826768017074,
          -1.221707925351554,
          0.33701755676331335,
          -1.6891349733671914,
          -1.385887652958738,
          -2.7025726655966285,
          2.0627935895937757,
          0.08686769276513975,
          -0.7239945340466217,
          -0.5331790113495963,
          -0.774846361057275,
          -1.1075646407496758,
          0.7189149410012644,
          -1.910371173383059,
          -0.6515482397686683,
          5.883195566787008,
          -1.3696092458217055,
          -0.8175582431296857,
          -0.279182944961206,
          2.935101905741091,
          -0.5146610104574181,
          0.12017975087953937,
          -1.9489522676394309,
          0.8199030734600657,
          -0.9518113046045216,
          -2.7607751756313483,
          0.4962815931848888,
          -1.8417415609826648,
          0.5606310790024837,
          -1.4433525528116,
          0.3036361497665866,
          -1.1395547550124117,
          0.2798757088979946,
          0.20650940433217585,
          0.8942441316056934,
          0.10986112153576362,
          -1.3330789491881943,
          0.36649454208120114,
          -1.6541903186620432,
          0.5178047849231353,
          -0.7865830776318328,
          0.47970010503092986,
          0.11495873374596438,
          -1.064706029115669,
          0.38678505738691854,
          -0.6732213094455193,
          1.163028512252619,
          -1.7674300235972251,
          0.13724282778088007,
          0.5524288811850154,
          0.38670693334664985,
          -0.17121116034729975,
          -0.7179455840269577,
          -1.4592110850897126,
          5.3191543441818565,
          -2.010093999865657,
          0.8838225296349408,
          -0.3139658842505878,
          1.0830991235761946,
          -0.8858645087657187,
          0.42402502991991564,
          -3.3404520423146122,
          0.44063227265331173,
          -0.1297428992339702,
          -1.4060338316355108,
          -0.641004331521512,
          -2.664648670050189,
          -0.10315949695709405,
          3.2811747707233825,
          0.03816930959670525,
          0.6708973141427591,
          0.6435209196717382,
          -0.4894641769225779,
          0.21222292634312057,
          -1.3513374265065345,
          0.5560127954663219,
          0.9046777476707887,
          0.5724518160055274,
          2.1895788892832093,
          0.09825558287227217,
          -1.5066246478147023,
          0.07573901260332579,
          0.9522923012656453,
          -0.38196972405680324,
          -1.7685771169941509,
          -0.8799649289783346,
          -2.874264131764881,
          -1.1548365791548771,
          -2.370998216585599,
          -1.4530012965872043,
          -0.45761748553676374,
          7.1109861617424945,
          -2.1238120975267147,
          -3.076802307909659,
          0.034991292053423675,
          -1.3757210405607025,
          -2.4376722239030455,
          2.9198968606926163,
          -0.8656528901615147,
          0.11034161436887235,
          -0.6556543607870758,
          0.26125981956416916,
          -0.8098402187910513,
          0.747409093502402,
          1.1697665562945274,
          -0.1889892620218921,
          -0.865876141448675,
          -0.6387598425402815,
          -1.6867642446231381,
          -0.17305672350982873,
          -2.1582629361647108,
          -0.35217924106035037,
          -0.009096931623439367,
          -0.2262042164153092,
          -1.0184050068010497,
          0.4097808008877481,
          -2.1379833771127736,
          -0.9948992201335243,
          -0.4906787025229122,
          -0.036053981594061466,
          -0.20872979232237054,
          0.4585069555407898,
          -0.4707850418389147,
          -0.40484459350599233,
          -0.7285896955695905,
          0.0426342019292628,
          -1.2185935421071856,
          0.1241452147629327,
          -0.5135866006558196,
          -1.1548269859406715,
          -1.4879786367075871,
          0.032089813052332716,
          -0.832544715518291,
          -2.632365749109609,
          2.207661250166341,
          1.6237448687755585,
          -0.31377003156695826,
          -3.057548702104415,
          -1.7837905928668374,
          2.316747791436637,
          0.3781369873151577,
          1.1440015865305104,
          -1.737308097441709,
          1.5149926361755415,
          -1.1564096620309532,
          -1.439238721776014,
          2.504759045640117,
          -1.3638584668492888,
          2.555439511368927,
          -3.0799301588651784,
          2.0947254832237054,
          -1.9287160346383085,
          1.0884162477066952,
          -1.1641924391100185,
          0.36122056241651523,
          -0.2773130594240757,
          0.5066945971308027,
          1.285492342484921,
          -1.2570371509388776,
          -1.4017977705235203,
          -0.7155723492035071,
          -1.2388323478359924,
          0.5479647016418148,
          0.3331348050864841,
          -0.5331332854364504,
          -0.730869565395982,
          -1.869684583968675,
          -1.009034749029214,
          1.0294550995270964,
          1.8804713794668868,
          0.2353944572165072,
          -0.34007271894580593,
          0.9949204715099659,
          -0.4557321563204071,
          0.06743654000332705,
          -0.34007271894580593,
          0.9949204715099659,
          -0.9525887149331984,
          0.9533080097551395,
          2.9325584932534636,
          0.6589950955787838,
          -1.326956130473461,
          0.47087960853130767,
          0.6952914048761525,
          -1.727813469350189,
          -1.808394521923122,
          0.26173944682367556,
          -1.9101961793706945,
          -1.3265329728802353,
          -1.723399712760948,
          -1.21104136850358,
          1.17620288313069,
          -1.035146088922918,
          0.44000799625024867,
          -0.46751100084729036,
          2.5437118577526108,
          1.5921687535463904,
          1.0932486135273167,
          -1.0345306453517533,
          0.00033593917783041277,
          -1.0565198135720608,
          -2.007172952191171,
          -0.2379239243223052,
          -0.7952889305257858,
          -1.6498701907892512,
          0.1395279033763316,
          -1.8357698291892321,
          -0.9929164884881453,
          -0.5910688593672297,
          0.8323350963528395,
          -1.5704970265532816,
          0.4195222036520003,
          -1.025468403793034,
          -0.933408880078599,
          0.08525871401740434,
          -0.9285045568388114,
          2.125295527703002,
          1.5059656394726746
         ],
         "xaxis": "x",
         "y": [
          1.1366308489286856,
          2.1115360824944633,
          2.4534928736412542,
          0.7143048459357189,
          3.0504819859048182,
          2.992503172008767,
          1.392198958542541,
          0.1499218571869841,
          4.074349753342686,
          3.473359588557711,
          0.9536003498966448,
          -1.893619917504985,
          -1.9382012063757033,
          -0.3324784721764732,
          1.526908836671297,
          0.41772744106550197,
          0.27881844916607695,
          1.6813269171246568,
          0.1703431354412637,
          1.608646178635888,
          -1.8797330482286725,
          0.5073084962687208,
          0.6823913666159168,
          -1.8797330482286725,
          1.6813269171246568,
          -1.0441451774553034,
          -1.1913301741689666,
          -1.8797330482286725,
          -1.8797330482286725,
          1.2654489742657538,
          -1.2133533548999182,
          -1.333488115157928,
          -0.14594989302995307,
          -1.8797330482286725,
          -1.1081081123509229,
          -0.13059970310544505,
          0.20668912210738186,
          -1.0510830321511382,
          0.41772744106550197,
          -1.8797330482286725,
          -0.7453527153692262,
          1.6813269171246568,
          0.27881844916607695,
          0.9368058027124528,
          0.37536936976201946,
          1.0850375913137076,
          -0.6158416665000437,
          0.9324410590385157,
          -0.13059970310544505,
          0.20668912210738186,
          0.143057356343585,
          0.7069468562894621,
          -0.7255912747152452,
          0.8864882212621057,
          -0.08757459305668876,
          0.7511800786785651,
          -1.2815854730553264,
          -0.4375298657903507,
          -1.6900592642623118,
          -1.2265065288918604,
          1.6813269171246568,
          -0.13059970310544505,
          0.20668912210738186,
          -2.0966449970544536,
          -1.5602963626709818,
          -1.9453791045444127,
          0.41772744106550197,
          1.6813269171246568,
          0.27881844916607695,
          1.0850375913137076,
          -0.6158416665000437,
          0.9324410590385157,
          -0.13059970310544505,
          0.20668912210738186,
          0.37536936976201946,
          0.143057356343585,
          0.7069468562894621,
          -0.7255912747152452,
          0.8864882212621057,
          -0.08709878196997263,
          -0.3685701913516202,
          0.5634719493516409,
          -0.16852115375446605,
          0.9681212912236633,
          -0.4766420994433223,
          -0.8622346196851606,
          0.1642405593067066,
          1.4740281233363333,
          -0.9733896647042405,
          -0.968367997165027,
          -1.188775304811817,
          -2.514932955383069,
          -1.3645077272242494,
          -2.085527269710493,
          -1.3451602596125873,
          -1.2197407756687433,
          -2.188701344254995,
          -1.8604868679685773,
          -2.1435978226356553,
          -1.1297073284698096,
          -0.48117907164055573,
          -1.959118672250531,
          -1.9582907678763979,
          0.6801644140535579,
          5.0162034432003075,
          1.6813269171246568,
          1.6813269171246568,
          -0.13059970310544505,
          0.20668912210738186,
          0.4787968256869152,
          2.2114113112259313,
          1.6450417826160695,
          3.325639282348466,
          -0.4264063494132838,
          1.9894394484093476,
          1.6467513709363484,
          0.2835549496877042,
          2.4478179671029547,
          2.5542082099614856,
          -1.2533178442388144,
          1.142498026665642,
          1.6968806464976418,
          1.4610666098345135,
          -1.6763173647979361,
          -1.8797330482286725,
          1.6813269171246568,
          -0.13059970310544505,
          0.20668912210738186,
          0.09167047068355944,
          0.4787968256869152,
          2.2114113112259313,
          1.6450417826160695,
          3.325639282348466,
          -0.4264063494132838,
          1.9894394484093476,
          1.6467513709363484,
          0.2835549496877042,
          2.4478179671029547,
          -1.2533178442388144,
          1.6968806464976418,
          2.5542082099614856,
          1.142498026665642,
          -0.13059970310544505,
          0.20668912210738186,
          0.836853451017571,
          -0.7202606898510263,
          0.09167047068355944,
          -1.9330017494678322,
          1.0447072485654179,
          -1.3506045853114135,
          0.2124103564843681,
          0.1472331468732515,
          -1.5135046809986874,
          -1.4749377400710821,
          0.08187461024441263,
          -0.9502355304993249,
          2.0791400173553614,
          0.41772744106550197,
          1.5407084094685997,
          1.045820380172754,
          2.2868742206461654,
          0.27881844916607695,
          2.7220048927216487,
          0.37536936976201946,
          2.6551154727783084,
          2.892426154940146,
          1.0850375913137076,
          2.557978902481562,
          2.2233672693104984,
          -0.6158416665000437,
          4.0494934538198235,
          3.5443322658080283,
          0.9324410590385157,
          2.758916343812715,
          2.724597277754752,
          0.143057356343585,
          2.7726600253692304,
          2.7040328487830925,
          0.7069468562894621,
          1.492177880561712,
          2.7632178190615884,
          -0.7255912747152452,
          0.566776314853858,
          1.2398937890695854,
          0.8864882212621057,
          2.0647305269508607,
          2.2422815623504055,
          -0.08709878196997263,
          2.2541898813236467,
          1.7935438904334895,
          -0.3685701913516202,
          1.9252437499767519,
          3.7634170474127355,
          0.5634719493516409,
          1.254757540035733,
          0.950276881462579,
          -0.16852115375446605,
          1.708593124750714,
          2.115117761943049,
          0.9681212912236633,
          1.948364617040675,
          2.256870744107514,
          -0.4766420994433223,
          3.148739773712365,
          1.20441381608681,
          -0.8622346196851606,
          3.3861319007293917,
          1.9428461302279065,
          0.1642405593067066,
          0.21100634787208508,
          3.3645903788247358,
          1.4740281233363333,
          1.9372879197358395,
          2.2237812555673693,
          0.6367591331166581,
          0.9618204082621339,
          3.0239521053928216,
          -0.18787952287910248,
          3.4127757313005844,
          0.8595510412533944,
          -0.0066053465211209725,
          1.8959395924926428,
          2.2129141727829738,
          3.5429109750753773,
          1.5159048000140944,
          1.7930451249589565,
          0.3495388536376735,
          1.5863281757921617,
          2.37876621057741,
          -0.4868883251886069,
          3.0408141529147166,
          2.3191704993704234,
          0.4512793184174075,
          2.3747078169950013,
          2.4628307862781074,
          1.5005487347193525,
          2.949010036203165,
          1.4321554442892688,
          -0.03873326486098076,
          2.618551467092784,
          2.081003048205656,
          0.08489310108945614,
          0.48608881392899356,
          2.3890921972338215,
          1.6714932071827362,
          0.7175209984499952,
          2.6009716287116014,
          0.7447831369497001,
          3.524108878431401,
          1.7876805680246182,
          2.6291650479280877,
          2.8847600245413676,
          1.1462436585677669,
          2.5062242598496396,
          0.03039830884824287,
          2.1554719532551694,
          2.05907544211204,
          2.340835917496264,
          3.06135437911324,
          3.019193968032488,
          2.4547408630651733,
          0.9764439624299333,
          2.6388168318295273,
          0.6783865952243209,
          2.7210502218079995,
          1.2251463695983527,
          -0.1877264823742799,
          0.7359406738043438,
          0.39815233550147777,
          1.4941404774750826,
          2.7861884314003498,
          0.5775976817211964,
          1.700994033600273,
          2.7329335979397524,
          2.352743966294619,
          1.4058704940401776,
          1.9443688494963376,
          2.6152425579954994,
          1.885924177879098,
          0.7088733452180908,
          2.291618718011395,
          2.294718538719368,
          3.1577897891762854,
          0.854124817487433,
          2.412531944786258,
          0.8797677556730353,
          0.41772744106550197,
          0.27881844916607695,
          1.6813269171246568,
          0.1703431354412637,
          1.608646178635888,
          2.2448060004368235,
          0.9889095693714548,
          -0.6513101473723018,
          1.227380179145954,
          -1.2018418347394533,
          -0.43569807929893734,
          -0.7112574539658881,
          0.03425134309382057,
          -0.7533023820584048,
          1.295314453971551,
          0.11456945511772858,
          -0.7197358060509254,
          -0.7157465175585547,
          -0.929070101900775,
          -0.013285772191250503,
          -0.2933236227926928,
          -0.9768360899937404,
          -0.782629554110428,
          -0.28049568970718325,
          1.1571717929329708,
          -0.3929593266057312,
          -1.5365318693863572,
          0.10036733410404274,
          -0.786235158766987,
          1.2103263024142974,
          -0.6846894022222716,
          -0.8631103157207168,
          0.8001291327019953,
          -0.7851783246288889,
          -0.6853373835634832,
          -0.05158103738268656,
          0.23052841104102437,
          -0.5490837338515983,
          0.46173131148379504,
          0.4796566797834514,
          -1.440719403937927,
          -1.440719403937927,
          1.3586607765967211,
          -0.2745481967206063,
          -0.6496356374808904,
          -0.8096600478278885,
          -0.6931006538256539,
          -0.46571885915882605,
          -0.20524086047728968,
          -0.9261257534474677,
          -0.4521742826563076,
          -2.454552820007537,
          -2.850448605156356,
          0.7126740713313869,
          -1.3788336471691245,
          -1.2332919246607568,
          -0.43746930024108166,
          -1.6220182056228116,
          -1.4929960148907095,
          -1.5140826426698162,
          -1.5390855304785744,
          0.5271789549238327,
          -1.4995324740835985,
          -0.9621357322929425,
          -2.247046881817784,
          -2.09515257815579,
          -2.6879145469791084,
          -0.24766990242855655,
          -1.0501566422026456,
          0.9947080250098395,
          0.8458515426338195,
          1.6281661901451905,
          -0.7876505306673278,
          -1.386677208911889,
          0.20714193080387755,
          -1.501887914548669,
          -1.3093149774260289,
          1.1280229436146696,
          1.3837207821585755,
          -1.0486062161620195,
          -1.0099880552840161,
          -1.083744501637809,
          -1.2955596903232955,
          -0.34920173096134105,
          -1.2793979363698094,
          -1.1148510383177008,
          -0.6375362330636926,
          0.03902548314329209,
          -1.9319631265828932,
          -1.5390855304785744,
          -0.38604948746357287,
          -1.7672394452017333,
          -0.5126240913862222,
          -1.6620210865072762,
          0.08506759344807725,
          -1.264815432731014,
          -1.3113514704418636,
          -1.1098674473870573,
          -1.59135115062915,
          -0.589878289378211,
          -1.652907709847144,
          -1.1474058101067346,
          4.295571847438945,
          -1.1476182170658265,
          -0.24381985251315755,
          0.11456945511772858,
          -0.45234421529566765,
          -0.29386218403606845,
          0.6151701365077382,
          0.8824527730815261,
          -1.6667447493375234,
          -0.06770985258446777,
          -0.3528533229146928,
          -0.8021858237941022,
          -0.6679505310106478,
          1.006624538287559,
          -0.48712691350375403,
          2.576410799927349,
          2.5232749442760136,
          -1.4784487104565602,
          0.5715695055570867,
          -0.37062806834615397,
          1.655653116567744,
          3.5641955440565103,
          2.4353533890885912,
          2.5393682279630876,
          0.3433095497357012,
          0.6280588420956619,
          2.0408611149545073,
          3.0194907884769915,
          -0.9041647186286795,
          1.4999501812904568,
          1.9389559639243918,
          -1.1407490764497743,
          3.047274196395779,
          -0.897492586901695,
          0.44351796212422573,
          -0.8815474991364158,
          2.973312553180687,
          -1.3963088271923882,
          1.860315955881467,
          -0.9108806062162295,
          1.796748710015451,
          -0.6596221172282477,
          2.5245416808831957,
          -0.2187591510677485,
          1.713344518790068,
          0.2061709590371676,
          1.1535734975746685,
          -1.2036457112238605,
          2.4443952438723104,
          -0.2018434075191874,
          2.3449149509798572,
          -1.307355406211798,
          0.03305464929772509,
          -0.7508204446460245,
          2.284390721634295,
          -0.8854620984066051,
          1.4221435972729441,
          0.33037436319157293,
          2.3064656686641083,
          -0.8896846924705187,
          2.8790636494564814,
          -0.3334518046849994,
          3.8350105471349893,
          -0.896450659102583,
          0.9486124001202937,
          -0.8610586605498403,
          3.336420090142624,
          -0.7835938188862311,
          2.145801699704203,
          -1.4655845195188615,
          2.6162625970377795,
          -0.5847429461778823,
          -0.07942058035130274,
          0.8194895813859644,
          1.78210995264303,
          -0.34253088391859876,
          2.3300786710063925,
          -1.1570012903089935,
          0.6993497832760351,
          -0.5097299693148967,
          2.116646863301428,
          -0.4032623850969464,
          1.618321548687027,
          0.14696058231478498,
          0.7376809001187764,
          -1.2672047507555533,
          2.7200311470494434,
          -0.45319477399725755,
          2.665670050694597,
          0.35901598885752944,
          1.1468961379928782,
          -0.8234854058652942,
          1.6884621776031463,
          0.17701911964961678,
          2.1912533145040713,
          -1.3292250978719538,
          3.0619287110963564,
          -1.2986672709487963,
          0.9506390606493167,
          -0.8461887972803821,
          0.8421241569111955,
          -0.5294217197915968,
          2.4879325835182926,
          -0.11977163202706285,
          1.4225585454048186,
          0.8114518687748377,
          1.8402157100943923,
          -0.6379415421956965,
          3.2663805644414796,
          -0.6908954412371628,
          3.096537836090192,
          -0.4981869193398832,
          2.2616491896306306,
          -1.0245602559072335,
          1.9550742891257296,
          -0.49222899100582373,
          1.5557247259010336,
          -0.31297698278264974,
          3.171338897536599,
          -0.4811662534221594,
          2.9265996843591386,
          -1.2359585826547632,
          1.790489814340486,
          -1.0372265530949214,
          2.7378817046432786,
          -0.783729267321555,
          2.755153924518292,
          -1.1457836473087986,
          0.693173333388468,
          -0.48447608975524625,
          2.1401781530322714,
          -1.2099807532325442,
          0.7564180171835172,
          -0.6758960962545805,
          3.1685383975957064,
          -1.8432368355046966,
          2.734722850439703,
          -1.556015574850578,
          2.0147232555328616,
          0.4262806524014131,
          2.9759663030629397,
          -1.0362741240646247,
          1.39887354437509,
          -1.4021352250866568,
          2.442467635002336,
          -1.4584722446942653,
          2.2357577887700155,
          -1.4285494304916837,
          2.033345839176278,
          -1.6169769229895228,
          3.412137489622877,
          -0.7427741021688049,
          -0.25661117140058737,
          -0.8536604236105183,
          0.1619867190806701,
          -1.3574891227518897,
          0.8177432015752182,
          -0.9289970907750154,
          2.0388543572887508,
          -0.05791152420395982,
          1.9123164708328833,
          -1.144350042087697,
          0.5815471339998352,
          -0.542364559023565,
          1.838542151522013,
          -1.468744339754637,
          3.367160267512636,
          -1.1423784788630305,
          3.2633916136393286,
          -1.178145511908423,
          1.8488512648822382,
          -1.7398797426609183,
          1.7318271688304157,
          -1.184361180462472,
          2.2342068010678577,
          -1.5498547073733622,
          2.1182928243717196,
          -1.1843910901916377,
          3.2745406674987887,
          -0.2843792663260825,
          1.2271569583103052,
          -1.5136794324744618,
          1.8273132592040842,
          -1.3656084709848273,
          2.2917165707502263,
          -1.3211230753255743,
          2.7521858207560577,
          -1.150265593943279,
          2.1479022269139993,
          -1.2844830912231433,
          1.8075369246950226,
          -0.5459183077994648,
          1.6305863446549185,
          -1.5651545336495378,
          3.1073579355797394,
          -1.2583394621043216,
          1.8773740813083517,
          0.49022262065152156,
          3.9881730534513875,
          -1.4316296611712516,
          -0.0886495285880165,
          -0.3292608604090528,
          2.523741509616025,
          -0.6305039245007005,
          2.593404961201236,
          0.18423613533808816,
          1.5859700730067645,
          -1.274817848347627,
          2.3769093893933206,
          -1.0747574363392878,
          0.9022203695878529,
          1.840999880477703,
          0.8001291327019953,
          -0.7851783246288889,
          -0.6853373835634832,
          -0.05158103738268656,
          0.23052841104102437,
          -0.5490837338515983,
          0.46173131148379504,
          0.4796566797834514,
          -1.440719403937927,
          -1.440719403937927,
          1.3586607765967211,
          -0.2745481967206063,
          -0.6496356374808904,
          -0.8096600478278885,
          -0.6931006538256539,
          -0.46571885915882605,
          -0.20524086047728968,
          -0.9261257534474677,
          -0.5002103337504773,
          -0.6511994909229953,
          -1.264815432731014,
          -0.3408714597172506,
          -0.14594989302995307,
          -0.6872316833176754,
          -0.9720663202149123,
          0.49623620612312697,
          -0.17759729709226735,
          -1.1461273531161584,
          -0.954133026455505,
          -1.5608168322888414,
          -0.9845178364782388,
          -0.3269739177838771,
          0.42817003328190845,
          -0.9958675123095392,
          -0.8950961333154192,
          -0.9151124490710486,
          -0.7222277432593535,
          -0.8049306912423024,
          -0.321025053224162,
          1.9535306529480416,
          -0.00669906506280806,
          -0.4717586992830547,
          -0.7065582835174894,
          0.17260068372437218,
          -0.29856619379157734,
          -0.716719619842731,
          -1.1532997121935147,
          -1.0736319478308314,
          -0.8925896671447201,
          -0.23617608953765346,
          0.25937251998210575,
          -1.3788336471691245,
          -1.4929960148907095,
          -1.4593944380876724,
          -1.0441451774553034,
          -1.5140826426698162,
          -0.43746930024108166,
          -1.498398300947874,
          -1.6220182056228116,
          -1.3261167904897406,
          -1.1913301741689666,
          -1.2332919246607568,
          -0.07181582127967136,
          -0.1834332607114022,
          -0.36917253746925827,
          -1.1912539944934135,
          -1.4091744589408723,
          -0.16615327504844488,
          0.2750091908029578,
          1.7419229366607774,
          1.5235794712997055,
          1.9244714270422985,
          2.1523305197789284,
          0.973244729421598,
          1.703653873822743,
          2.0729662726523124,
          1.4489731722430375,
          1.762617544623172,
          1.0201915975347957,
          2.7888216330397757,
          0.8728522482783535,
          0.71633841739877,
          -0.3905854786615277,
          -0.1402500466308514,
          -0.7469836479987403,
          -0.5362542831391975,
          -0.6333824624024581,
          -0.93376861799714,
          -0.909699126766544,
          0.03597877758784452,
          -0.9835284198205131,
          1.3822879106955235,
          0.6311112067590968,
          -0.9648331061183917,
          1.3716648077807065,
          -1.420639617872378,
          1.303801194409086,
          -0.9028116027079198,
          1.315878429400946,
          -0.577194788182971,
          -1.3224186847048718,
          -0.9102602123600849,
          -1.1621944268788724,
          -1.3056314959007527,
          -0.6059634800691661,
          -0.8362461256411294,
          -0.5323456828226346,
          0.2984116504947783,
          -1.2228630738359003,
          -0.16351454794739728,
          0.17541409663239838,
          -0.6010918322997932,
          -0.5218188975637288,
          -0.6622104054155242,
          1.7414132324721634,
          0.9653474133008253,
          0.7151725428393767,
          0.5882863589279197,
          0.14976956975986486,
          -0.2686161840984537,
          -0.7791072838390207,
          -0.5771114395339234,
          0.32055290430133665,
          -1.4373872500245866,
          -0.28468947650980087,
          1.4029295119828846,
          -0.5506788960967134,
          -0.4151658894506592,
          -1.1199089174030017,
          -0.22713183617817784,
          0.07481297574655127,
          1.3601499693644512,
          0.31291572263332773,
          -0.06287221846035959,
          -2.182274397926141,
          -0.3094187728351983,
          -0.3723050462503121,
          -0.2705783985981596,
          -0.7137169599394857,
          -0.08606852620889502,
          0.016190249517935854,
          -0.7425917647203586,
          -1.357966004173889,
          -0.7520043286279859,
          0.1244762892114707,
          -0.7416387039245318,
          -2.292229126861772,
          -0.3711930914323505,
          -0.7249548253075884,
          -1.4853350884578789,
          -0.14765417072710596,
          -0.6216133144182089,
          -0.888153374120332,
          -1.871329890258319,
          -0.572077016498532,
          -1.0440334886531515,
          -1.916491906127807,
          -0.46185294983333663,
          0.533453846170113,
          -0.2370242355333457,
          -0.6195151502835565,
          -1.3287723560596156,
          -1.6494658201042722,
          0.4662616338840986,
          0.4366759694431914,
          -1.2484830905331505,
          -0.9544721146175963,
          -0.7744151059480366,
          -0.7486102041674206,
          -2.4089696625089116,
          -0.20688541248588546,
          -1.958836794521388,
          -1.6699949756640387,
          -0.6848930022184625,
          -0.37759357613467265,
          -0.9357458257997093,
          0.2780190646409894,
          1.2062769179198594,
          -0.6236488834213454,
          1.3523483575439759,
          -1.8640941614046023,
          -0.7948814124933328,
          0.677512682129144,
          -1.5521290068300388,
          0.44129232632556126,
          -0.3935595093317662,
          -1.882144153695119,
          -0.9034994223415999,
          1.2710219566295773,
          -0.4839875254483225,
          -0.5475797199747033,
          -0.31132662593135,
          -2.036314381763163,
          0.34106296876079184,
          -1.215486709791779,
          -1.0066382352856644,
          -1.5257066843032296,
          -2.3051695948860935,
          -0.7180494428963514,
          -2.207782178833687,
          -0.03153225659283807,
          -1.1620517273955413,
          -0.901085842343832,
          -1.4152397934694698,
          -1.384007462142627,
          -1.4648201306457855,
          -1.0192685968404998,
          4.084963520205629,
          0.4580362971784283,
          -0.7714070046768879,
          -1.9499769531178055,
          -0.9111754540844841,
          -0.02557880957797136,
          -0.07181582127967136,
          -0.929070101900775,
          -0.954133026455505,
          0.6022674298671625,
          -2.04268950896332,
          -1.628364786019109,
          -0.6020684105087978,
          0.14673449109010878,
          -0.3408714597172506,
          1.1769485886984299,
          -1.2903787702217189,
          2.2021278145139114,
          -0.5600241309933995,
          2.262249108084851,
          -1.6352471633947538,
          0.6397972110899015,
          0.5233756917902993,
          0.23896590831236034,
          1.9552577873146533,
          1.582036636432703,
          -1.8653008050123514,
          3.7318820914272948,
          -1.3234891423734434,
          1.4612007351152525,
          -1.4822564414502113,
          1.6437350454433906,
          -1.0868326985292112,
          3.4886011940506947,
          -1.1620444100404328,
          0.34993585169671254,
          -1.0374899961485395,
          1.4329810087047687,
          0.5457918235209414,
          2.3049468452419455,
          -1.3060125661321347,
          2.945867798793378,
          -0.8819122426773911,
          0.9056923719878192,
          -1.1953787505546611,
          2.47005074590667,
          -1.026891310757825,
          0.5022640604023182,
          -1.5736007927834545,
          0.1726757860773811,
          -0.5606449231547248,
          1.8468382882415366,
          0.44343882301875126,
          0.4652555884654633,
          -1.414633026393526,
          1.995877703328458,
          -1.3278476283697902,
          2.094249325363288,
          -0.21831218542036349,
          3.6699126059687086,
          -0.5934124491206977,
          1.8904115492405795,
          -1.546676020073374,
          2.4685806942420974,
          -0.7027571428833274,
          0.5542241835903466,
          -1.2745884834356531,
          1.3324384169191121,
          0.18984725823443505,
          2.1859399995491064,
          -1.5139707447653072,
          1.8964660087505407,
          -1.5021706812213487,
          2.7129541973016584,
          -1.416232879784402,
          0.9528900211651757,
          -1.7394122725301335,
          1.2442935282138112,
          -0.7240976585465885,
          4.691682581607732,
          2.182634315175854,
          1.6539857945187781,
          -1.4378471640512342,
          2.497710504031029,
          -1.3012501411024928,
          0.8369657255695336,
          -0.685458059910988,
          0.44574300859477517,
          -1.2421628938347455,
          2.259787766181745,
          -1.517927638705002,
          0.21126228806147823,
          -1.0310108809235423,
          3.62835829819849,
          -1.2932785097339452,
          2.6551417312118697,
          0.4767773085756134,
          1.0908017594954584,
          0.46010255863517324,
          0.5364942342436572,
          0.6789549738773669,
          0.12760827222209892,
          -0.9816970553776448,
          2.0927935191810816,
          0.834685632128312,
          -0.07459357994347322,
          2.6996140123187113,
          2.2697184463085405,
          2.3283812691162016,
          1.0734801877725997,
          -0.1965275352324894,
          1.9456038995757452,
          -0.09272538396382247,
          1.161657965759476,
          -0.16984627514196607,
          0.6714284193528037,
          -0.03892555085763087,
          1.4668582853883412,
          0.07533782110559976,
          3.495073769768281,
          -2.436605143996466,
          0.9262914169152536,
          -0.6614014073842333,
          1.8416501366578606,
          -2.2240131918431176,
          0.5224869321866035,
          0.5065791960120666,
          2.753807373454675,
          -1.191130381701753,
          2.5926869007233857,
          -1.2434326637570476,
          1.7648118053428359,
          -0.9571724908506994,
          0.07851508264870487,
          -0.3524842339246015,
          1.0625353894563567,
          -1.4687497523414892,
          1.2198613318670823,
          -0.16290507823950726,
          1.628465391327761,
          -0.41437261179958584,
          1.4212078601657616,
          -0.8200656915535803,
          1.993052368503116,
          -0.8067914274359659,
          2.460229332697908,
          -0.7338575441842031,
          2.2041900587731345,
          -1.5882039222838045,
          0.9497231442265123,
          -1.2296632278927435,
          1.0368256631067327,
          -1.4934217938216932,
          1.9031745075563298,
          -1.0369891375314362,
          2.9484747364906916,
          -0.9248247633482675,
          1.7832173438234418,
          0.5596023014054234,
          0.8584304897112396,
          -1.9531355872618832,
          1.0488531579954723,
          -1.6541885018888765,
          1.7773112960671675,
          0.3198862934925122,
          1.1216014781140657,
          -0.6460901066714589,
          2.236398104231757,
          0.013073958451820817,
          -0.6525948214243775,
          -0.836031393829605,
          0.5043280513760596,
          0.21678938004813494,
          3.811060694999556,
          0.504139281598719,
          0.5164060288843242,
          -0.13059970310544505,
          2.1132160044201176,
          -0.38029846264138817,
          1.6894627385574346,
          -0.3036674016497846,
          4.319689440640433,
          0.17219692325343836,
          2.1151121429520834,
          -0.5113910195549731,
          0.7224229192264233,
          -0.6165517729672403,
          1.0992318297152401,
          -1.3151034749792698,
          1.2558423385834891,
          -0.8677895554257777,
          1.5172351083147637,
          -0.055461170709086835,
          0.5138815389558347,
          -0.546810117494933,
          2.252441348470996,
          0.6058068910437411,
          -0.11764332335390632,
          -0.5198585351586691,
          0.8892536941906465,
          -0.1420817231204401,
          0.2960818581980372,
          -0.15494946594784273,
          1.804991042621774,
          -1.2891826691349486,
          0.45271322764864796,
          0.20668912210738186,
          0.1585047402687121,
          0.29871103658270054,
          1.0476876843133711,
          0.8937383648698299,
          2.3327090539385877,
          -0.25582023578872226,
          1.6677553376145309,
          0.7056294573221505,
          -0.16615327504844488,
          0.2750091908029578,
          1.7419229366607774,
          1.5235794712997055,
          1.9244714270422985,
          2.1523305197789284,
          0.973244729421598,
          1.703653873822743,
          2.0729662726523124,
          -1.2228630738359003,
          -0.16351454794739728,
          0.17541409663239838,
          -0.6010918322997932,
          -0.5218188975637288,
          -0.6622104054155242,
          1.7414132324721634,
          0.9653474133008253,
          0.7151725428393767,
          0.5882863589279197,
          0.14976956975986486,
          -0.2686161840984537,
          -0.7791072838390207,
          -0.5771114395339234,
          0.32055290430133665,
          -1.4373872500245866,
          -0.28468947650980087,
          -0.5506788960967134,
          1.4029295119828846,
          -0.22713183617817784,
          -0.4151658894506592,
          -1.1199089174030017,
          0.07481297574655127,
          1.3601499693644512,
          0.31291572263332773,
          -0.06287221846035959,
          -2.182274397926141,
          -0.3094187728351983,
          -0.3723050462503121,
          -0.2705783985981596,
          -1.3699273521469844,
          -1.7090837246794668,
          1.2902874147047512,
          -0.11282817827060777,
          -1.3699273521469844,
          -0.7535172955339313,
          0.08409719677724896,
          -0.8193038598208082,
          -0.8476280971414237,
          0.042877739340760716,
          -0.7554424030569832,
          -0.8476280971414237,
          -1.1495022184231185,
          -0.0631252003785522,
          -1.3699273521469844,
          -0.510902983029679,
          -1.4641592559927603,
          0.07027246860283572,
          -2.182274397926141,
          -0.3094187728351983,
          -1.4953336360722744,
          -0.6273299288523535,
          -0.5323370670754677,
          -0.8278243747117026,
          0.2641529996306844,
          -0.799221181738593,
          -0.8491145456739269,
          -2.0885854051086934,
          -1.2886197130763124,
          -0.20885822492439413,
          -0.9649246876164852,
          -1.3497498163126316,
          -0.8392763964640727,
          -0.20762767535977267,
          -0.8042400918222857,
          1.4950144008639028,
          -1.2295090376153344,
          -0.5725373543393578,
          -0.814875424311317,
          -0.1864974280655731,
          -0.15425529113855763,
          -0.8201166741085152,
          -0.8136389973649877,
          -0.15425529113855763,
          -0.7388746421310352,
          -1.2688859724265977,
          -0.5777414228535571,
          -1.1639253349234313,
          -1.0700445328589485,
          -0.9962248052351265,
          -0.6828286679494487,
          -1.003660710016165,
          -1.1109273927332144,
          -0.8178884069373604,
          -0.8456858334343951,
          -0.5836101995298112,
          -0.8113541739169378,
          -1.2106534744255606,
          -1.1478694193597945,
          -1.1495993209665643,
          -0.7458533889322875,
          -0.2560561314806003,
          -1.0804809105951398,
          -0.7424507174794305,
          -0.17197756385038124,
          -1.2886197130763124,
          -0.1942121616701071,
          -1.2713194549467648,
          -0.11829988329524467,
          -0.32615669919786283,
          -0.6438623716776568,
          -0.5637594527247266,
          -0.9504622538012306,
          -0.8103634320415747,
          -0.6329051466289403,
          -1.0522147407009,
          -0.44999499353503275,
          2.365096013743303,
          2.8206705495795257,
          1.4682522730218317,
          1.0213517820504598,
          2.2457620754671432,
          1.6094107719815982,
          1.6602678596602378,
          2.4139070416276676,
          1.8885807610779919,
          -0.9737741241486654,
          1.7189817509316494,
          -0.5457807389434295,
          -0.20489116351265013,
          0.3775224280563568,
          -0.11986752988186351,
          1.1125275395017766,
          -0.9418819788506985,
          0.036138967209537395,
          -1.3184066276008932,
          -0.41233649406527234,
          0.2819288658634854,
          -0.9649721316844342,
          -0.36760924703052733,
          0.4205881989793797,
          -0.8157917905341451,
          0.4779312673185972,
          -0.9741920411159399,
          0.2417071389176706,
          -1.4903882797344687,
          -1.2359783245314047,
          0.8857474183173643,
          -0.5501859718527923,
          0.5656475253255903,
          -1.7202833017711214,
          -1.3491207244327867,
          -1.5311815707661258,
          -1.596205008755004,
          -1.015919708700042,
          -0.9983884893153506,
          -0.09216049493265188,
          0.4088199542211187,
          -1.0013447371570685,
          1.0761373134754793,
          -0.38407234905657167,
          -1.7171419204357143,
          -0.3888639210115938,
          -0.004873305168689686,
          -1.665168978032779,
          -0.6587449289978087,
          0.10366563632385642,
          -1.4202565412275892,
          -0.3225193551135394,
          -1.5777355887935445,
          -0.5390273284443785,
          1.0667666374216018,
          -0.9228463257212766,
          -0.287478946825463,
          -1.4485006198625094,
          -0.9224405411144172,
          -2.2756829845918682,
          -1.2459098774030535,
          -0.35576622741162606,
          -1.103271280619414,
          0.6647338391628366,
          -1.7107983687380384,
          1.3752336682274269,
          -0.004873305168689686,
          0.22933583804096283,
          1.702316301463195,
          -0.909315757299976,
          -0.7542104132890878,
          -0.8850241946490941,
          -0.20897183219943513,
          -1.1368139635371968,
          -1.2384078414710773,
          2.3373331105916177,
          -0.23537144480119332,
          -2.253830730171897,
          0.8889404759127415,
          -1.960161442271247,
          0.3987911831097432,
          -0.3418201921394136,
          -0.4680048547505177,
          1.0503587714358342,
          0.26647358790015463,
          -0.26532115635021425,
          0.17435339807858302,
          -1.7382747107960235,
          -0.8044287571385673,
          -1.8384232041660904,
          1.8246651085981485,
          -0.9301738427456829,
          -0.0017340196018756982,
          -0.8614414302258571,
          -1.9321580165386028,
          0.6520437598210975,
          -0.9938158195458086,
          0.17435339807858302,
          0.07046823129046721,
          -0.36917253746925827,
          2.0164204935473107,
          -1.498398300947874,
          -1.4593944380876724,
          -1.3261167904897406,
          -1.1476182170658265,
          -0.1834332607114022,
          -0.901085842343832,
          -1.4152397934694698,
          -1.0192685968404998,
          -1.384007462142627,
          -1.4648201306457855,
          -1.203264507577948,
          -1.4062607597287338,
          -0.4924013920785338,
          -1.252484234302181,
          -0.9574112611964573,
          -1.172475214948727,
          -1.7212907393679917,
          0.28019575283857967,
          1.3582026037197912,
          -0.18092286790705422,
          0.06271000188689484,
          -2.2011332928847036,
          -1.9227528309332083,
          -2.095673490082447,
          -0.9910593015290566,
          -1.4085287349398556,
          -1.0696378659538968,
          -1.5531970268745259,
          -0.7811480306280716,
          -2.250563249343872,
          0.99339384191365,
          -2.272462880054312,
          -0.6247103135337914,
          -2.2442983474852594,
          -1.7305443045757514,
          -2.15611623732964,
          -1.4156321644852985,
          -0.8586107484746001,
          0.2607788146233947,
          -2.1883897462013033,
          -2.0855711824246206,
          -2.043412536506395,
          -1.6369800433513555,
          0.7945444119517225,
          -1.4463142465101344,
          2.7074995363923384,
          1.6195700995030489,
          3.0137738979891853,
          0.07217308847645827,
          2.081639232536183,
          -0.5121072025200492,
          1.8398917053429418,
          1.5208668487353243,
          1.161519853151728,
          1.2770864816818845,
          4.575067104297556,
          0.6308053945117178,
          2.117035424531622,
          0.6416524709809257,
          1.3130996951901568,
          1.9431530118770437,
          -1.190095308903186,
          0.2808854068763351,
          -0.8082456066097898,
          2.337113382917131,
          3.769162860561843,
          -1.8008364370200298,
          1.5649097055204273,
          1.272970079366879,
          -0.21814478115955224,
          -2.2150297028382,
          2.6580866242221273,
          2.1626518562013204,
          -0.628593687596169,
          2.9682612436498306,
          2.2826207463673853,
          2.6717703959908734,
          -1.1698994889505614,
          1.523962440229763,
          -1.0043872026716558,
          2.9029887091937496,
          -0.7202606898510263,
          1.7773554421188875,
          -0.387611310896203,
          1.2052624220826564,
          3.047618665953711,
          -1.264291323298734,
          0.5108654124855512,
          -1.254324785732975,
          -0.2903807944045015,
          1.0693531623482935,
          1.2281163246864577,
          -1.4860825780243432,
          1.9205789228348724,
          -1.5559783934060167,
          0.7694242810919598,
          -1.0355324770294023,
          3.02445827493717,
          -2.2396048337135936,
          1.355030149345002,
          -1.0062829950609502,
          1.9282345565928067,
          -0.901781612559367,
          0.5814081404074156,
          -1.7129603708322267,
          0.7288237883357587,
          -1.546279426495645,
          2.68972452347024,
          -1.6316848712297836,
          2.7525790935053243,
          -1.5099277313564694,
          0.6346045144196211,
          -1.3729225528731586,
          0.7875086854387916,
          -0.6980133724873787,
          1.4374594585289866,
          -1.3884145224508186,
          2.3111819731146386,
          -1.2825653580129024,
          0.5018540510132125,
          1.4310052941625548,
          -1.677840816828522,
          0.775254916964191,
          1.4388742992232906,
          1.6446726980458461,
          -0.7545378230698305,
          1.4284216483418897,
          2.8255132164714274,
          -1.6065787490124663,
          0.6358423857132156,
          -0.11380931451834622,
          1.988395521171263,
          1.7708853571371406,
          3.1954537330962074,
          0.862361752894697,
          2.089307241171468,
          -1.2804831667042555,
          1.009837113875615,
          -1.831103836225296,
          -0.017195938696596746,
          -0.9646828148940374,
          2.4105009665966857,
          -0.9850792405347534,
          1.8366526792582676,
          -1.25100389360089,
          1.5340893575495094,
          -0.6241773915179304,
          1.4862407422676809,
          -0.42113685468253514,
          0.8056264529512478,
          -2.1289289947995793,
          -0.00438236814750202,
          -0.7839688512100418,
          2.246727442920585,
          -1.5046725445955673,
          1.3639692525621767,
          1.2594877274872107,
          2.6999808965224883,
          1.754480267789135,
          1.623573338580655,
          -1.2604327243935036,
          1.4433828021207864,
          -1.9319197540764939,
          2.085648732258638,
          -1.226704508011703,
          0.9896649784934927,
          -1.55235327930851,
          -0.12735688125894012,
          -1.5828335185601994,
          2.0782237858952617,
          -1.2460466327067121,
          2.8843843922027843,
          -0.9886712216814665,
          1.0970729788482863,
          -1.224928422440751,
          0.33072896160762594,
          1.3605472585266996,
          2.213767991335716,
          0.17572060221490968,
          1.7803536089887106,
          1.0459084645888082,
          1.7618950155513153,
          1.289021463101014,
          0.3152419697005986,
          -1.7022459905472025,
          0.5387643464668501,
          -1.0244792007608954,
          0.8314840357024126,
          2.6943401085481185,
          1.999250767691503,
          1.063985903586168,
          -1.2749431194604635,
          0.7811308015968108,
          -1.7938053342227276,
          1.4719401226219702,
          -0.962021132537362,
          1.6700703823947713,
          -1.584658443355214,
          0.5249210110359985,
          -0.5723481404237921,
          1.8862659516690419,
          1.4596463703134748,
          2.278546926748337,
          2.576410799927349,
          1.7573872615782349,
          -1.0669516018910663,
          2.4628364149956945,
          -1.721996346443695,
          0.6736986002288138,
          1.2989167078264772,
          2.3950904457284516,
          0.5936292053727462,
          0.7923151733492861,
          0.7841277234581446,
          1.5200382797034808,
          -2.4125392492001425,
          1.131692547942043,
          -1.7820366093768718,
          0.10331064529124706,
          -0.7869351097324213,
          0.8334178016643731,
          -2.038560762583704,
          1.500288413869208,
          -1.1948281978499584,
          2.3217765283672063,
          -1.2833191409557416,
          3.15807754911373,
          -2.099338606353583,
          0.44339552596984977,
          -1.2532477198918006,
          1.7278185326223985,
          -1.5050422870547788,
          1.1412076850671085,
          0.30194103681425977,
          -2.182274397926141,
          -0.3094187728351983,
          -1.4953336360722744,
          -0.6273299288523535,
          -0.5323370670754677,
          -0.8278243747117026,
          0.2641529996306844,
          -0.799221181738593,
          -0.8491145456739269,
          -2.0885854051086934,
          -1.2886197130763124,
          -0.20885822492439413,
          -0.9649246876164852,
          -1.3497498163126316,
          -0.8392763964640727,
          -0.20762767535977267,
          -0.8042400918222857,
          1.4950144008639028,
          -1.2295090376153344,
          -0.5725373543393578,
          -0.814875424311317,
          -0.1864974280655731,
          -0.15425529113855763,
          -0.8201166741085152,
          -0.8136389973649877,
          -0.15425529113855763,
          -0.7388746421310352,
          -1.2688859724265977,
          -0.5777414228535571,
          -1.1639253349234313,
          -1.0700445328589485,
          -0.9962248052351265,
          -0.6828286679494487,
          -1.003660710016165,
          -1.1109273927332144,
          -0.8178884069373604,
          -0.8456858334343951,
          -0.5836101995298112,
          -0.8113541739169378,
          -1.2106534744255606,
          -1.1478694193597945,
          -1.1495993209665643,
          -0.7458533889322875,
          -0.2560561314806003,
          -1.0804809105951398,
          -0.7424507174794305,
          -0.17197756385038124,
          -1.2886197130763124,
          -0.1942121616701071,
          -1.2713194549467648,
          -0.11829988329524467,
          -0.32615669919786283,
          -0.6329051466289403,
          -1.0522147407009,
          -0.6438623716776568,
          -0.5637594527247266,
          -0.9504622538012306,
          -0.8103634320415747,
          -0.44999499353503275,
          2.365096013743303,
          2.8206705495795257,
          1.4682522730218317,
          1.0213517820504598,
          2.2457620754671432,
          1.6094107719815982,
          1.6602678596602378,
          2.4139070416276676,
          1.8885807610779919,
          -0.9737741241486654,
          1.7189817509316494,
          -0.5457807389434295,
          -0.20489116351265013,
          0.3775224280563568,
          -0.11986752988186351,
          1.1125275395017766,
          -0.9418819788506985,
          0.036138967209537395,
          -1.3184066276008932,
          -0.41233649406527234,
          0.043773924850783644,
          0.5998515284045765,
          1.2086350502074987,
          0.3082056112474931,
          1.1798528062297822,
          0.256692888331481,
          1.1326908414926404,
          1.3801251705024324,
          1.1327723371362413,
          0.7456016578664072,
          1.6524558285241806,
          -0.2056999269766669,
          -0.2571269897291263,
          -0.07863324255645014,
          -0.5292637663760686,
          0.07027246860283572,
          0.7896525773419326,
          0.3533814274809485,
          -1.4512568051024526,
          3.1677827580826,
          0.2774000014180333,
          -0.2032266395253727,
          0.07746467952356828,
          -0.47083085541129455,
          -1.302839589398007,
          -1.3461940288100993,
          -1.8510483257574852,
          -0.14438071434559355,
          0.3864468661371245,
          -1.3037999618960863,
          -0.48913654745772844,
          -0.49760458332840524,
          -1.248288057057089,
          1.253631407132344,
          1.330251876153664,
          -1.0085996211367279,
          -0.7936177119138643,
          1.1637327634663261,
          -0.9998898353464242,
          1.3739465708936003,
          -0.22799261848882263,
          -0.9843960080086341,
          -0.6972926173643269,
          1.3306781071342912,
          -1.709243470885838,
          -1.2640617899202282,
          -0.9683242638031436,
          -1.9192753285530118,
          -1.3604734892526884,
          -0.5892561760960597,
          0.8473659984083262,
          -1.1220774308538748,
          -0.7871499616728641,
          -0.7129038789368446,
          -0.7296620349234765,
          -2.5274003357397827,
          0.48996290267644876,
          -2.6077783448852148,
          -1.8023554527370012,
          -0.9080264663381066,
          -0.6545302185109139,
          -0.7732661834155273,
          -0.0124721778837882,
          -1.1718643548428036,
          -2.3367658062168584,
          -0.35081510583818926,
          -0.5956798592627418,
          -0.744133640031922,
          -0.7035866962063622,
          0.3840817137520942,
          -0.7931612229004021,
          -0.8324209857058816,
          -0.2955264642290468,
          -1.24636345161814,
          -1.6907520500891193,
          1.2866386821676041,
          -0.12277050976496334,
          1.069885733017541,
          -0.3039287116177077,
          -1.08520846134454,
          -1.9231158831573059,
          0.06755684315377344,
          -1.8127153141712462,
          0.2316683364269675,
          -0.5293987434903742,
          -0.14054711703214684,
          -0.39947365609984054,
          -1.523776783570707,
          -0.0664332503488606,
          -3.040366470024388,
          0.0781800948906993,
          -1.2353743474958372,
          -0.9510966997768213,
          0.24358351278516718,
          -1.2980497766311385,
          0.11817394429771025,
          0.2853369702235179,
          -2.4759304919960328,
          -2.5730516393504974,
          -3.1726393173773055,
          -2.877905811792397,
          -2.2307004869866933,
          -2.5620413074089843,
          -2.3457006878725273,
          1.702316301463195,
          0.2417071389176706,
          0.7912339617412779,
          0.17925921583450188,
          0.8857474183173643,
          -0.6216133144182089,
          -0.5566021432226275,
          -2.0862962613692755,
          0.4456802407049442,
          -1.5425547659335108,
          -0.2820822146307774,
          -1.8349891723943874,
          -0.44930390315173035,
          -0.6685665476840865,
          -0.8058795886726563,
          -0.4685927992004223,
          -0.6895429535172906,
          -0.6470536851026736,
          -1.0573343088471667,
          -1.409930359637505,
          -1.2130816650014684,
          -1.2622625873994244,
          -0.3921250572783506,
          -0.3921250572783506,
          -0.6587449289978087,
          0.10366563632385642,
          -0.287478946825463,
          -0.3225193551135394,
          -1.4485006198625094,
          -1.4202565412275892,
          -0.9224405411144172,
          1.0667666374216018,
          -0.9228463257212766,
          -1.5777355887935445,
          -0.5390273284443785,
          0.6043519455403563,
          -1.0609590417761028,
          -1.186050149442867,
          -2.1795166054499067,
          -0.8181632438407076,
          1.1123563205355167,
          0.6597889972672187,
          -1.3377581576200448,
          -0.17577627705344956,
          -1.5104380472328014,
          -2.0784229846022666,
          -1.9811206840470617,
          -0.9260635584221596,
          -1.693129628091251,
          -0.6479286585854033,
          -1.1445732829666408,
          -1.5406791054148532,
          1.505988739054391,
          -1.7932911966700231,
          -1.9880255579131072,
          -0.014646242108893016,
          0.9136096098415539,
          0.1652572787430257,
          -1.7113859563130813,
          -0.8276958724409986,
          0.1339419404468084,
          -0.39446582916305867,
          -0.10498380082581445,
          -1.1408220791327803,
          -0.7416387039245318,
          -1.4323205563929051,
          1.475288584243656,
          0.5822067349295612,
          -0.10535159214842835,
          1.0237142042827208,
          -0.18602151480680848,
          1.9133770094648686,
          1.9133770094648686,
          -1.659869161012782,
          -1.715542341969097,
          0.47324317671434996,
          -0.7066513888788756,
          1.3113298822564654,
          -0.5718699486620172,
          0.6260342810427028,
          -0.1809566216400272,
          -0.5669151408986818,
          0.3827873274955308,
          0.4483023900939459,
          -0.8232474996689009,
          -2.2761132786586273,
          -1.7877335196349637,
          -1.2942733560340303,
          -1.0576553354822245,
          -1.2134427526327143,
          -1.438616152651166,
          -0.013294703730776875,
          1.769220353167857,
          -1.8314141814035083,
          -1.7189970459191029,
          -2.0393778316302784,
          -1.2836107130616994,
          -1.676528224181991,
          2.7931266036857356,
          0.5185455893316288,
          -0.9172384331853876,
          -0.525369088187688,
          -1.4133174198692098,
          1.65823266717905,
          -0.525369088187688,
          -0.525369088187688,
          0.2830325145442388,
          -0.525369088187688,
          -0.525369088187688,
          -0.525369088187688,
          -0.525369088187688,
          0.3489203974633989,
          -0.8910241135734271,
          1.2606793312682116,
          0.4098159504611335,
          0.7000026809297013,
          -1.6774773070783484,
          1.9799786921861535,
          0.9013245017036033,
          1.7827409660821327,
          1.0844359640673067,
          4.188255800329761,
          -1.754234566533538,
          -0.17326874587057986,
          -1.2669634787496822,
          1.6272457267603861,
          -0.917527105605624,
          1.28906273766867,
          -0.25769526677136606,
          1.7784722979108145,
          -0.7953794091045621,
          0.581762822545836,
          -0.9429609255513222,
          1.9309086158346558,
          -0.6789307622945076,
          2.7525524348468613,
          -1.3701326230540873,
          1.8905576151042793,
          -2.0511910885535634,
          2.892781512487248,
          -2.162409796928179,
          1.9108035062738937,
          -1.1439237082775744,
          0.8866685281832972,
          -0.08567038282169828,
          1.4163554010949717,
          1.7279888894497515,
          1.1356457227649503,
          1.438784887476176,
          -0.19948316785894615,
          0.4585639794910755,
          0.9368803649089761,
          0.43615328835846223,
          -0.2784425320619792,
          2.5232749442760136,
          2.7616676872457324,
          -1.7790203101721012,
          0.28872813652087,
          -1.708303424750689,
          1.222058880430202,
          -0.16999772873816166,
          2.512273343020842,
          -0.5096233747632246,
          0.8766646478274512,
          -1.0321718011929566,
          1.8569572792709792,
          -1.5246598369017637,
          1.1678493247950252,
          -1.1893481690241023,
          2.9194940281830672,
          -1.3656442797926378,
          1.684083254055688,
          -1.1747880425963007,
          2.2078697650177723,
          -0.6298310802934116,
          2.1567774526489436,
          -1.134213057707595,
          2.572505062878017,
          -1.9168355668745798,
          3.3773895605843163,
          -1.293508260724963,
          -0.4692560887810373,
          -1.8669195449125613,
          1.9480363334178934,
          -1.632485636506382,
          2.1771821428250435,
          0.4152384304324379,
          1.6193601730551344,
          -1.0676580477148763,
          2.659366868544744,
          -1.7127779706037725,
          2.5122458000602435,
          0.2795395574722119,
          1.4000289284541794,
          1.2072178153391577,
          2.162902982333218,
          1.8397254057504555,
          1.2361849671350087,
          -2.113304150994729,
          1.9893648146420162,
          -0.7944090921841297,
          0.4450101847331682,
          -1.629964442188246,
          1.1822833977494696,
          -1.2886315389888807,
          0.713302755544927,
          -1.408652665630212,
          1.9321374409991576,
          2.059254616544999,
          -1.7760533873584794,
          2.8171278481206676,
          -1.7530167963386434,
          2.242349644760292,
          -1.064331427422404,
          2.151969967747922,
          -1.6936519742471376,
          1.6157180530900899,
          -0.7596743549633513,
          0.8936471692081535,
          1.1225004722611793,
          0.38432657419665495,
          -1.9426459002493286,
          1.2266476673416113,
          -2.0879067977492305,
          0.11693837918027572,
          -1.2127769456592357,
          0.7470271068399071,
          -1.5591523032555532,
          -0.6179834312475794,
          -0.7937027306831989,
          2.266239492571021,
          1.5871754161827787,
          2.2364427186635276,
          2.4494794757629923,
          1.8919889878959357,
          1.0249614224730423,
          0.3928173648125496,
          0.9640908871858602,
          1.813319210294283,
          -0.5123729345666503,
          0.8931317164554989,
          -1.3277606603277168,
          2.036580462782693,
          -2.054524361628956,
          0.49495892630714344,
          -1.4243932033681799,
          2.294827139331112,
          -1.8072567731327067,
          0.19021849888536688,
          0.45873319684644015,
          0.8252660060550667,
          -0.8904988860853975,
          0.05799707024972421,
          -0.9417068381838885,
          2.8942579952321457,
          -1.3176849192257196,
          0.0013230190435172952,
          -1.2147442856297612,
          1.925615734555455,
          -1.688243404670169,
          0.03651880939823657,
          -1.6172110313230104,
          2.946651244583472,
          -2.2771710769634628,
          3.589650945527567,
          0.08016758059399683,
          2.8948151093181336,
          1.4641877176758964,
          0.8741532676558178,
          1.2342836499055432,
          3.972014509755115,
          -1.6377984012684994,
          0.6103793478958556,
          -1.188775304811817,
          1.9596255224010168,
          -1.7893104819450276,
          1.0513806821595801,
          -1.3297397752121591,
          2.6322817224415114,
          -1.573340308488866,
          1.7042122279035707,
          -0.4588817213641151,
          1.615120657199805,
          -1.1951826278696784,
          2.0170441014897103,
          -1.6186379720717452,
          1.0940084632362426,
          -1.2493736260399004,
          1.8826907238112438,
          -0.5643092091058349,
          2.550700780220217,
          -1.245742459783594,
          3.4689324042947183,
          -1.866678159778939,
          2.3606154218097064,
          2.720321826368739,
          -1.0006125827748698,
          1.944573641419264,
          0.5378318498890902,
          1.11995010014905,
          -1.4008423500442688,
          2.4917302960403958,
          1.490786568189902,
          -0.1693998413805107,
          -0.7849263773862821,
          -0.07402896432660773,
          0.6351074291334866,
          0.7382850534572843,
          1.662377321824091,
          1.1887103026347818,
          0.8886958779357083,
          0.6013925004061337,
          1.2699805457509603,
          -0.49760458332840524,
          -1.248288057057089,
          1.253631407132344,
          1.330251876153664,
          -1.0085996211367279,
          -0.7936177119138643,
          1.1637327634663261,
          -0.9998898353464242,
          1.3739465708936003,
          -0.22799261848882263,
          -0.9843960080086341,
          -0.6972926173643269,
          1.3306781071342912,
          -1.709243470885838,
          -1.2640617899202282,
          -0.9683242638031436,
          -1.9192753285530118,
          -1.3604734892526884,
          -0.5892561760960597,
          0.8473659984083262,
          -1.1220774308538748,
          -0.7871499616728641,
          -0.7129038789368446,
          -0.7296620349234765,
          -2.5274003357397827,
          0.48996290267644876,
          1.523606756255779,
          -1.859942507602892,
          1.0072807787837958,
          -1.4738932186043152,
          1.8292559998165847,
          -0.18616018357538908,
          -0.9762205437032825,
          -2.287704790388006,
          -2.5980735608993646,
          2.1269031627821895,
          0.9967758749340709,
          -2.5980735608993646,
          -0.16734837071852984,
          0.022246916573536862,
          1.6326905351477812,
          1.65823266717905,
          0.3480350000735972,
          -0.6750614942350404,
          1.2693296621516736,
          2.2551201836708077,
          0.6856135275369529,
          0.22909469195595814,
          1.0924483101788511,
          0.3213267510445926,
          0.24553590844415102,
          -0.3888639210115938,
          0.2811439813911866,
          2.287934744551572,
          -0.8046796182321644,
          -0.19275509550096223,
          1.67006087821022,
          0.6656566937537798,
          1.7099103396557054,
          0.7841899832137975,
          -0.09403853164428806,
          2.239860274284824,
          0.6633290593732194,
          0.46021739159146885,
          0.5302101298105739,
          0.7111690281356307,
          -0.8485535995248037,
          -2.648991395863812,
          -2.5484347629936113,
          -1.7407882856113592,
          -0.6022236776165402,
          -0.8797293588088545,
          -2.1080650115621387,
          -2.000174297367861,
          -2.352232769723815,
          -1.6823792236153154,
          0.40291815838623524,
          -0.5079922387147012,
          0.502075883980795,
          -0.9062058852328984,
          -0.30404676686862264,
          0.4206354515400937,
          -0.6827089586136145,
          -0.8060969284566181,
          -1.500343534889308,
          0.7609201916352204,
          0.44787103872007006,
          -0.8952334839936156,
          -2.153342139130732,
          -1.4022393897538783,
          0.36127427369998927,
          -0.6357714980321743,
          0.8840641607730878,
          -0.393962524895535,
          -0.22856098257182306,
          0.009874223374375941,
          -1.2814483484005839,
          1.3653112924725788,
          -0.8382198910972265,
          -0.5788150943976568,
          1.2728379207009035,
          0.29224732466391756,
          1.27687760948243,
          0.35717018516802906,
          -1.1858434927941852,
          -0.637845878176814,
          0.09184431702416482,
          0.661085663831908,
          -1.1653023697563254,
          -1.1137000511925252,
          -1.8022727439645927,
          1.7820071784352594,
          0.26324282845821156,
          0.2853369702235179,
          1.8753044193350008,
          -1.31704075656656,
          0.17940939190830216,
          -2.125080257444438,
          1.8189668663136465,
          0.7420946930970111,
          -0.3275906436823767,
          0.7782100232046101,
          -2.0325221937126523,
          -0.9573877950251374,
          -0.5307891688448946,
          0.24234889198890533,
          0.531503781991601,
          1.1841772608756809,
          -1.9578862010169413,
          -0.24746428026989217,
          -1.1871686215685557,
          -1.6672135915637458,
          -0.5612635025521462,
          -2.020544559949571,
          0.6379797144830073,
          -1.4297999632317406,
          -2.559976331984028,
          -1.854982263564276,
          -1.0965620059308367,
          -0.8149344894713137,
          1.2730481271050023,
          -0.09989401794790316,
          2.022918410541262,
          -0.2162237129908239,
          2.1394698763932096,
          -1.8465636258899187,
          1.2812197723310277,
          -2.1625061830231807,
          2.1808485240675033,
          -0.14579854942912474,
          -1.4956592791258259,
          1.0202812157315344,
          1.3353120799000722,
          -0.8268360045367805,
          -1.474945413091572,
          0.8756616552909563,
          0.941044844871373,
          -1.2241297496779722,
          -0.12015896926255357,
          0.11035092084598609,
          -0.9496717776315992,
          -0.9059094723816536,
          0.7727844030915431,
          -0.22024075964455547,
          -1.4472073175908504,
          -0.127045438266301,
          -1.2212999691663327,
          1.7789160876048367,
          1.2902495914579466,
          -1.1772681794338216,
          -0.2566601471891403,
          -2.034530788611019,
          -1.1533328354201142,
          -1.0376194485310393,
          -0.7385989818912723,
          0.7615280733268655,
          -2.007742627080458,
          -2.6606220626961488,
          -2.683959233522499,
          -2.2671938755229855,
          -2.884104595732035,
          -2.457033629370219,
          -3.242822429684494,
          -2.08076671187527,
          1.7789160876048367,
          1.2902495914579466,
          -1.9625087585170493,
          0.2397472998048279,
          -0.44363450533294513,
          0.3784257927039974,
          -0.9829696253954608,
          0.14547641379877466,
          -0.703387807728098,
          -0.3920280618846344,
          -1.4900618237507675,
          -0.728172177347497,
          -0.6408105366168125,
          1.630052255789644,
          -0.6408105366168125,
          -0.7777555927516004,
          1.1508034348431557,
          0.8350471440944824,
          -0.653140752475037,
          0.5037469594387256,
          0.33249470392922914,
          -0.5509279302170866,
          -1.2031308989660192,
          -1.8828277778253997,
          -1.428295677100208,
          -0.2051445022443115,
          1.4827376768277465,
          -1.3265954941004652,
          -0.38558109641895233,
          -1.7107983687380384,
          -0.9219692055651127,
          -0.6551321048655585,
          -0.29979806569482453,
          -0.34360827375715763,
          -1.9776696706084274,
          -1.5640120850018107,
          -1.3841914732714478,
          -1.0929722304830831,
          -1.2142318071137996,
          -1.4285862625521482,
          -1.367932871524462,
          0.6513545471874264,
          -0.4019529761008151,
          0.8309308276623586,
          -1.0890796323205802,
          -1.4042850002936011,
          -1.3477014425973124,
          -0.9646551477017887,
          -1.6034597383755116,
          0.041018905830353926,
          -2.000629166301337,
          1.6072608668301587,
          -0.5687272058572814,
          -1.2754763758755043,
          0.1459435873050182,
          -1.5882963022846424,
          -0.04477818146255727,
          -0.24896202948905208,
          -0.6457755385049442,
          -0.011191027858331414,
          3.4773887968126216,
          -1.3071690910773266,
          -1.150761663341237,
          -0.040391935751172794,
          2.0733873098494664,
          0.6546758875023416,
          2.8095024084880733,
          -0.16544056531996326,
          0.284260847887701,
          1.7678356303368776,
          -1.9288028459865487,
          -0.019245253978309996,
          3.92520138909793,
          -1.089424888299255,
          0.7889016733161922,
          1.9051616592149205,
          3.4519748252001268,
          -0.525369088187688,
          -0.5202132362720144,
          0.48624148837544784,
          -0.06772763627486425,
          -0.9131190679321055,
          -0.8699010081996408,
          -0.5527898242591571,
          -0.5253071205523813,
          -3.0400824308379524,
          -0.9827168735522618,
          -1.9909248047607917,
          -0.2793813493053887,
          -1.680661240585258,
          -2.4645189531933034,
          -0.7425917647203586,
          -0.5324545146341844,
          0.39133795988922254,
          -0.41080594118337194,
          -1.9266322915541112,
          -0.7231200390469311,
          -1.3034550613955977,
          -0.8467697019325491,
          -2.2451222212814295,
          -0.6120255739237497,
          -2.0319411003369963,
          2.071476597330831,
          -1.306830985707823,
          2.071476597330831,
          2.071476597330831,
          -1.1467570566391985,
          -1.3329903748923677,
          -2.701997483012235,
          -1.8100585412680152,
          2.086926321019531,
          -1.7559645590124429,
          2.620175604088641,
          -1.7968073854865154,
          0.7667937023377436,
          -0.23509749273697747,
          0.88653475444943,
          -1.7108780699291197,
          1.6960339109846554,
          -1.21816915243744,
          1.1967227313904356,
          -1.1970048249809406,
          -0.5808446791754118,
          -0.6718678719637308,
          2.9258182420069225,
          -1.4516080574795567,
          2.064228680950107,
          -1.4342886446319463,
          2.278771132883308,
          -1.0131481174193595,
          1.8941992963153447,
          -1.546405928963222,
          1.7137982448451416,
          -0.3916950694149753,
          -2.167840419389093,
          -0.03271203858933392,
          -1.748763816292809,
          0.8941110134736424,
          2.465034995381665,
          1.1769472081362888,
          0.22717766641358708,
          2.113526444226207,
          1.8374962760405857,
          1.5401304739398836,
          0.6564582488580826,
          -0.4085167891555835,
          0.128208638583393,
          0.44078507035106107,
          0.27215418552592463,
          1.9224271444470484,
          0.9663540915127985,
          0.5179787730102715,
          2.4424827969184877,
          0.8385515300195123,
          1.8305940404223642,
          1.9182569024197678,
          -1.8753779410323623,
          2.6497561391953286,
          -1.7096154087630788,
          1.10373003990535,
          -1.9916028621359567,
          0.3266361716271504,
          -1.509924319996529,
          2.243932321210522,
          -1.6408136771453967,
          0.06244490784484708,
          0.7826925919354961,
          -1.7580617150663465,
          3.6450469889107904,
          -1.725435368581398,
          0.8484006307171466,
          -1.6778175679371559,
          2.168521406690163,
          0.560623339454621,
          1.7161892468101185,
          -1.6746166520046055,
          1.8765365549196764,
          -2.0363853007201445,
          -0.2988154613699213,
          -1.7901046268982832,
          2.419164496755376,
          -2.514932955383069,
          2.9447925190266617,
          2.9972814017245346,
          3.527950548086319,
          1.7154044490061413,
          2.2913092182288244,
          1.5177688406773784,
          2.092642446829903,
          0.9251742522196837,
          3.520544284598294,
          2.3417662023293575,
          3.2241991596748836,
          0.44629767547173976,
          0.11213938619009327,
          1.030593903211122,
          1.583541904003272,
          2.0577667553445296,
          1.2301894721181788,
          -1.0857504084523073,
          2.0714087554542933,
          1.4460755074507305,
          0.430611933027683,
          1.8264427645235124,
          1.5468578858208992,
          -1.4217123915915835,
          2.049451502610182,
          0.9165463992946496,
          0.5574919071144088,
          0.011523042710019964,
          -0.12072735500094683,
          1.114998934657002,
          -0.9683869668219554,
          1.9559840934009336,
          0.3957061126781942,
          1.907360429848998,
          -1.4270731956581078,
          1.1239225305049594,
          -1.593610832540873,
          1.0446971098051054,
          -1.4436883572418213,
          1.9933623746904958,
          -1.9295296953244505,
          1.2379128204192322,
          -1.0866391486542861,
          2.4457175620443246,
          -0.7858849396397078,
          0.5335590675631351,
          1.1946566928872124,
          -0.8179796444973035,
          1.1925496584218482,
          -1.3645077272242494,
          -0.2604979381558051,
          2.974940538110021,
          -2.085527269710493,
          0.10534349646021933,
          -1.415564213068772,
          1.1988981491088886,
          -2.2113363115864098,
          2.1049645962230175,
          -1.3791408427948508,
          2.5219952269077517,
          2.401124951668189,
          -1.2669190361846336,
          1.3214588390332416,
          -2.3525124497674965,
          2.431090277645245,
          -1.5363596171823435,
          1.1262966629512696,
          -1.2404208284746376,
          1.2439392334053778,
          0.5870172181209437,
          0.09121002776001942,
          1.7124599591409018,
          0.562013290763708,
          -0.1340391128586449,
          1.8391621227940111,
          1.7730150086630823,
          -0.8033283671776215,
          0.9616725238856192,
          -1.1155479095980294,
          1.9555689561656904,
          -2.082684362921659,
          0.8531356061953742,
          -2.124561764799225,
          2.449303924294442,
          -1.6209474219457003,
          2.680097463465957,
          -1.6047913264056006,
          2.8720058202808896,
          -1.8481675990450264,
          1.0959454350716107,
          -1.6765405876550163,
          1.8364477388137899,
          1.7757034556428521,
          -1.1680391078707915,
          1.7331554122488053,
          -1.893395682392484,
          -0.13696460939481703,
          -1.5359675302180686,
          1.0088026031419104,
          -0.9041702525882592,
          4.597778376110358,
          -1.3451602596125873,
          3.1775436077875234,
          -1.2197407756687433,
          0.4970386413475346,
          -1.8604868679685773,
          1.1497883023520217,
          -2.188701344254995,
          1.0005747347831369,
          -1.9979434522439152,
          2.0708385903877624,
          -1.9504929445283399,
          -2.5980735608993646,
          2.1269031627821895,
          0.9967758749340709,
          -2.5980735608993646,
          -0.16734837071852984,
          0.022246916573536862,
          1.6326905351477812,
          1.65823266717905,
          0.3480350000735972,
          -0.6750614942350404,
          1.2693296621516736,
          2.2551201836708077,
          0.6856135275369529,
          0.22909469195595814,
          1.0924483101788511,
          0.3213267510445926,
          0.24553590844415102,
          -0.3888639210115938,
          0.2811439813911866,
          2.287934744551572,
          -0.8046796182321644,
          -0.19275509550096223,
          1.67006087821022,
          0.6656566937537798,
          1.7099103396557054,
          0.7841899832137975,
          -0.09403853164428806,
          2.239860274284824,
          0.6633290593732194,
          0.46021739159146885,
          0.5302101298105739,
          0.7111690281356307,
          -0.8485535995248037,
          -2.648991395863812,
          -2.5484347629936113,
          1.2000425572632571,
          -1.019742367085488,
          1.3295084208170258,
          -0.892827493435243,
          -0.5539037513784718,
          -0.2624136391419246,
          -0.41436774393497255,
          0.3074138644849036,
          -0.9742526510642172,
          -0.10873681667249246,
          2.9970495145834146,
          -0.670224358657894,
          0.0705116395056942,
          -1.8286485675548532,
          -0.1208167334772919,
          -2.1558980064044415,
          -1.5034442402463382,
          -1.830286251054128,
          -0.43946234759857283,
          2.866996837437951,
          -0.8726124226717545,
          -1.7213018984440855,
          -1.298119729744355,
          -1.304303106358251,
          -2.166791899613658,
          -2.709095462311112,
          -1.304303106358251,
          0.3402925152281215,
          -1.3721752902306252,
          -1.4621549553609234,
          -0.6647154401297893,
          -0.1556304078832842,
          0.36587213198765844,
          -1.2428922822479427,
          1.5383453554709414,
          -0.7617449540834048,
          -0.8249389773564877,
          0.3601774822919917,
          -1.3422006399103825,
          -0.1882204515791887,
          0.7854224037885263,
          0.20136382519296597,
          -0.22288929506563732,
          0.010777654812242205,
          0.5475236112088402,
          0.505083290055654,
          0.16600603827466068,
          0.5795953026954597,
          0.5465858921749353,
          0.5400906297699458,
          -0.5444238755858424,
          -1.1644633388626227,
          0.5099847028984231,
          -1.2980497766311385,
          -2.1625061830231807,
          -1.4956592791258259,
          -0.8149344894713137,
          -1.24636345161814,
          -0.9496717776315992,
          -0.8268360045367805,
          -1.474945413091572,
          -1.4472073175908504,
          -1.2212999691663327,
          -1.1772681794338216,
          -2.418679691736231,
          -1.08520846134454,
          -1.31704075656656,
          -1.9231158831573059,
          -1.9981618203103537,
          -0.5612635025521462,
          -2.853589019233779,
          -1.4297999632317406,
          -1.0965620059308367,
          -2.302824056893571,
          -1.2353743474958372,
          -2.4294563634101047,
          -1.8328960851605638,
          -2.4207337318827915,
          -2.1131104648626504,
          -2.9217020602551864,
          -1.2241297496779722,
          -1.6907520500891193,
          -1.1533328354201142,
          -1.0376194485310393,
          -0.7385989818912723,
          -1.1871686215685557,
          -2.10096755408736,
          -1.6672135915637458,
          -0.9573877950251374,
          -0.5971854194784535,
          -0.34116532574360126,
          0.5883059715647766,
          -0.8090843268771072,
          0.1646681710513566,
          -0.4240465778255461,
          -0.043133369681403196,
          -0.7039140086617643,
          -0.10373588674937247,
          0.13199962514678076,
          0.4891617479226101,
          0.014419596789312077,
          0.25168720666095146,
          1.136453373669651,
          -0.41652166039490185,
          -1.0451069337694465,
          -2.173917070618177,
          -2.5321523544480877,
          -2.1881711584329855,
          -2.5606280184874066,
          -2.4522368629393694,
          1.2866386821676041,
          -1.913281742985174,
          0.871151751065933,
          1.0202812157315344,
          1.3353120799000722,
          -2.729480365454738,
          -2.2253275531836225,
          -1.8470839260006529,
          -2.635206854965127,
          -2.7164892784150187,
          -1.4399228065128373,
          -2.1453894790081653,
          -2.0181119255278968,
          -2.7012247461952796,
          -2.0405284960468584,
          -2.1105448401943994,
          -0.7777555927516004,
          1.1508034348431557,
          0.8350471440944824,
          -0.32022598765968585,
          -0.05758273804909605,
          0.8274379745907257,
          -0.5299986993919052,
          0.4721643009151479,
          -0.24268940051358323,
          -1.0551502623505478,
          -0.7711690371936445,
          0.8283470673972424,
          -0.3086065897638907,
          1.0517272162908282,
          1.281989733758074,
          1.4403302785126562,
          -0.6717482795659446,
          0.3464508924232908,
          -0.8665979150612917,
          -0.40696570728752923,
          -0.8311795937823232,
          -0.21213960315871433,
          -0.5870720843429845,
          -0.8052892125242167,
          -0.5058599218408344,
          0.22845166619251486,
          -2.1914214276570823,
          -1.523776783570707,
          -2.039401396846761,
          -0.8099272996823601,
          0.09322934357004213,
          0.05678908190506953,
          -0.7124676105161748,
          -0.8301315272808025,
          0.14549395832419934,
          -0.22412769985497782,
          -0.6094538664527872,
          -0.020875061467235383,
          0.21699270505594606,
          0.1641876714644124,
          -0.9931175144019366,
          0.01813534634501793,
          -0.15187612364736539,
          -1.204783202691685,
          -0.5138474371593545,
          3.69885713040868,
          2.119455951337733,
          0.20401739134302685,
          -1.2949770600194874,
          -2.1022010285357697,
          -0.055357943844114944,
          0.4751038038104453,
          -1.132587062247433,
          0.3287976838120892,
          -0.5327477427498485,
          -0.9103194366100444,
          -0.7713082580406131,
          -0.8568539851208963,
          0.40228307412790915,
          -1.1769532495926578,
          3.4519748252001268,
          0.7604623405004245,
          -2.007963278255395,
          -0.525369088187688,
          -2.7225115115669034,
          -0.60026270613623,
          -1.2866166749987664,
          -2.1420322642598557,
          -1.9897883672690377,
          -2.2767618940769605,
          -1.374406821865712,
          -2.357641408565697,
          -1.869118517333626,
          -0.7985110750184597,
          -1.653729789664542,
          -1.8854427911970841,
          -1.2568917314867871,
          -1.3342746356784863,
          -1.0436824051657376,
          -0.8864294090783599,
          -1.504799626870805,
          -0.6830797233257508,
          -0.7288323250206818,
          1.6259782053232863,
          -0.9454706708403504,
          0.2122106609049089,
          -1.8824146984940446,
          -1.1817074761146729,
          -0.6470114722710268,
          -1.1834559503767352,
          -0.9129125955316997,
          -0.22130427331574007,
          -2.7354794250689034,
          -1.814084201597643,
          0.3915843280551343,
          -0.26715742666634457,
          0.49725627178273263,
          -1.687817904264293,
          0.5397973162346319,
          -0.6120349308752151,
          -2.7240325073971214,
          -1.5457844948672401,
          0.6698675844823195,
          -1.961198395034502,
          2.446129003059363,
          -1.8492397139339407,
          -0.26501694002449444,
          -1.5827088019076507,
          -1.2870143673195116,
          -1.2496056433157314,
          -0.564802417715557,
          -2.0144265663496905,
          -0.7905077793625619,
          -2.869174532991469,
          1.650910455020181,
          1.9610981496751339,
          -1.1949426972549133,
          -0.29022320986298444,
          0.2636425688410432,
          0.6749935126412272,
          -2.4246086127924515,
          2.8153260526375057,
          1.2275703626557521,
          3.0991021773807885,
          2.519459397340643,
          0.7567814326816664,
          -0.05462593964205608,
          1.9090153870510627,
          -2.3455243406145763,
          0.19562629567955478,
          -1.1349926139836466,
          2.1026866567306994,
          1.773405140609012,
          -0.33158167234931374,
          1.3790339359986934,
          -0.5986715391020634,
          0.6138573371817265,
          -1.9475695080663522,
          -0.21571322508052926,
          -1.6554503949088757,
          3.0663908599716807,
          2.0194545333623912,
          1.8083856436994166,
          -1.4960959043011028,
          1.5914522368845712,
          -0.23813378351450723,
          -1.924884512525712,
          3.203632571581834,
          -1.5961552906753353,
          4.175556256961792,
          1.9564891037992624,
          3.1963405220565897,
          -2.1435978226356553,
          2.1012831433783647,
          -1.2418868322425478,
          2.1986794654586843,
          -0.012017108048165618,
          0.28712757085921975,
          1.9101109048844724,
          3.1916106312776367,
          2.420266733868482,
          -2.18319160184807,
          3.692860822958229,
          -1.69341459099207,
          0.2613834595351774,
          -2.1657550544730104,
          3.238570062484627,
          0.8601819142700295,
          1.6668244150685063,
          -1.8013888825768372,
          3.2148835585400035,
          -0.24381985251315755,
          0.17959767628645334,
          -1.796204739401616,
          2.3827599484606563,
          -1.2705729710020426,
          1.725561354725302,
          0.3127117830074913,
          2.2937590701996484,
          -1.0126557569853556,
          1.6465859758990666,
          -1.690123967651081,
          2.7121612755166438,
          -1.6570621652653252,
          0.7871123119930269,
          -1.7411413420987665,
          2.152681207857819,
          -2.095392000405154,
          0.46388410628384597,
          -2.1889968856472084,
          1.0035439700105757,
          -1.2342819043755455,
          2.523151003638088,
          -1.9475733226643466,
          -0.09599090357233482,
          -2.529928633465324,
          2.976420365903607,
          -1.9676224474363966,
          2.6833507366455778,
          -1.9265173621285232,
          1.1800198620094076,
          -0.5972948512147097,
          -0.59727330680666,
          -1.5350241233933068,
          -0.6904416717420484,
          -1.9817159639775992,
          2.60430557255723,
          -1.8635576365946358,
          2.5732393369406266,
          -1.448110615931145,
          0.1708363843758554,
          -2.1211101327169484,
          2.5890977962674695,
          -1.9502503503516149,
          2.5442973330885166,
          -0.16925312691513825,
          1.932791451676692,
          2.61226564392374,
          -2.010091893166946,
          0.0070803254656632226,
          0.6051348981959211,
          1.6114103321761146,
          3.5112312214983716,
          0.4917580627217768,
          2.265688249953328,
          0.715985652508989,
          2.22557973307008,
          1.5565933705213737,
          -1.6935244489853714,
          2.5882634410194614,
          1.9881199064590171,
          3.2826364669116757,
          1.8971819361093898,
          1.828309650603223,
          1.0864574472272188,
          -1.1297073284698096,
          0.5095928723070904,
          -1.415365456240837,
          1.181328334361499,
          -2.0792198680898033,
          4.026139340530426,
          0.19485015265851957,
          -0.1906610311492189,
          1.9265271208506674,
          -1.1267335602143742,
          2.08913888253351,
          -2.0592937161497513,
          2.173271233923343,
          -1.9058458258283177,
          0.3617807046045031,
          -2.4356979986072402,
          1.8340346460723893,
          -1.939573240734721,
          4.746224977018494,
          -2.642864695943278,
          2.7484850388479796,
          -1.3035890952194322,
          2.8847930820014565,
          1.5288601572175373,
          3.1162710804608973,
          0.9176427752277055,
          1.3997541134105425,
          2.4547996451369056,
          1.5150491512071271,
          3.1738080542244305,
          -1.2188199587280455,
          3.6837275176694737,
          -2.073133434852944,
          0.40588790749511233,
          -1.8183276933143577,
          0.682084845571429,
          -2.4277061701971308,
          1.0795131704849545,
          -1.3521616954332705,
          1.7853478447643578,
          -1.959118672250531,
          2.271185230570547,
          -2.079558724223536,
          2.271085541906187,
          -1.9807985207464682,
          0.4137776189353077,
          -1.6955526874604026,
          2.2526018655579,
          -2.0057921626867956,
          -0.2907965250495577,
          -2.1926609399789903,
          2.9970495145834146,
          -0.670224358657894,
          0.0705116395056942,
          -1.8286485675548532,
          -0.1208167334772919,
          -2.1558980064044415,
          -1.5034442402463382,
          -1.830286251054128,
          -0.43946234759857283,
          2.866996837437951,
          -0.8726124226717545,
          -1.7213018984440855,
          -1.298119729744355,
          -1.304303106358251,
          -2.166791899613658,
          -2.709095462311112,
          -1.304303106358251,
          0.3402925152281215,
          -1.3721752902306252,
          -1.4621549553609234,
          -0.6647154401297893,
          -0.1556304078832842,
          0.36587213198765844,
          -1.2428922822479427,
          1.5383453554709414,
          -0.7617449540834048,
          -0.8249389773564877,
          0.3601774822919917,
          -1.3422006399103825,
          -0.1882204515791887,
          -1.2459098774030535,
          -1.4527787860311487,
          -0.022758666509943976,
          -0.022758666509943976,
          -0.5903405511003859,
          -0.19707776313138267,
          -2.3610164593214993,
          -1.3688527718795775,
          -1.1434462370270433,
          -0.4521899479782672,
          -0.9996856809739291,
          -0.9600524847767111,
          -0.1556304078832842,
          0.36587213198765844,
          -1.2428922822479427,
          1.5383453554709414,
          -0.7617449540834048,
          -0.8249389773564877,
          0.3601774822919917,
          -1.133175541278671,
          -1.431367612482161,
          -0.36596538290214364,
          -0.7866649110195021,
          0.17558654193374731,
          -0.9118141599457421,
          -1.4549486986634133,
          0.904970189531798,
          -1.6595837370351683,
          -1.0447098008521984,
          -1.309444651470343,
          -1.6739229184734181,
          -1.0154258205193663,
          -1.0060889769799248,
          -0.9920782101120911,
          -1.6595837370351683,
          -1.0447098008521984,
          -1.309444651470343,
          -0.5554645878129286,
          -0.5579719747658904,
          -1.1461859668661267,
          0.17761783389554955,
          -0.4054076081767178,
          -0.5923299760213365,
          -1.5923437434447536,
          -1.093707381808692,
          -0.9674388646913687,
          0.03809744468296831,
          -1.093707381808692,
          -0.9674388646913687,
          0.5612481585230759,
          1.44612585582383,
          -0.7949243208757237,
          0.5387536165210977,
          -0.7554492279450497,
          -0.7607824535458337,
          -0.7704195329791069,
          0.6344684442549658,
          -1.0886244249434176,
          -0.52585666309141,
          -0.7023522875644197,
          0.5612481585230759,
          -1.5811576303965298,
          -0.6501347367174629,
          0.07304659102744164,
          -0.9667744638562873,
          -0.3404182583234025,
          1.44612585582383,
          -0.7949243208757237,
          -1.4455776635947355,
          -0.09430915619042654,
          0.3111338023415854,
          -0.682527631479058,
          0.22697278912417382,
          -0.48665368926434616,
          -0.5063417684976823,
          -2.0552331325115256,
          -1.4828480448804124,
          -0.6885385630957129,
          -1.6362269027819256,
          -2.3353287497316013,
          -0.46110929378261417,
          -1.7578980681724317,
          -0.7333857230262947,
          0.5961496224175822,
          -0.2262083707250607,
          0.2543229395736055,
          -1.6997110233756956,
          -1.1539090534397092,
          -1.0397058315862429,
          0.1539425633290378,
          -0.404565391112906,
          -1.1072473449748894,
          -0.20548405095348143,
          -0.1328950472114234,
          0.4495582765841339,
          -0.6270009682341631,
          -1.394718895413671,
          0.7799822777323029,
          -1.1078958635653406,
          -0.5658100984158576,
          0.23041955568932465,
          -0.31355117198440063,
          -0.8279657416129648,
          0.09558874787515259,
          -1.6369367470317568,
          -0.9181637790358943,
          -0.6689655740249034,
          -0.7774124195622616,
          -2.031801706295094,
          -0.5163957251186476,
          -0.3676130241327647,
          0.6131524388902886,
          0.1626747272353182,
          -0.434741971329688,
          0.1445190157202412,
          0.982877496106936,
          0.9040181415948544,
          -1.3319708270999449,
          0.46316278283891926,
          -0.4642978013061655,
          -0.7782781030915203,
          -0.9252460634821921,
          -1.6762636873514023,
          -0.3075624571327701,
          -0.22340637911586755,
          -0.4222367594343362,
          -0.7925014174582159,
          0.39447645455019187,
          0.7523168967381194,
          -1.1493604853128805,
          -0.2227483492440569,
          0.5711931097775655,
          0.0037154100025355136,
          -0.9118981769650083,
          -0.41337762275823264,
          0.3339516147515854,
          -0.08452907794272066,
          0.22617536951557485,
          0.02368215116147977,
          0.4482494020680289,
          -0.05723535783104054,
          0.7797008007165944,
          -0.490751812070555,
          -2.762497026082836,
          -2.4245110786440454,
          0.7727844030915431,
          -2.4245110786440454,
          0.6379797144830073,
          -1.166544770012615,
          -1.0775456790265292,
          -0.5342932200919971,
          -0.49751696692918884,
          -1.018100853802486,
          -1.7672394452017333,
          -0.23537144480119332,
          -2.662297779190919,
          -2.0493484979899614,
          -0.1809566216400272,
          -1.5819012544372586,
          1.8753044193350008,
          -0.8324209857058816,
          -1.849147912925024,
          0.17940939190830216,
          1.8189668663136465,
          -1.9780628873994601,
          -2.5350737298624546,
          0.11035092084598609,
          0.11035092084598609,
          0.531503781991601,
          2.022918410541262,
          -0.2162237129908239,
          -2.5232898598062947,
          -2.6602413331496417,
          0.7420946930970111,
          0.7782100232046101,
          2.1808485240675033,
          -2.294234118887277,
          0.8756616552909563,
          -1.807276003830226,
          -1.5860111360948936,
          -1.730225911530063,
          -2.0090726132002534,
          0.6187416702801691,
          -0.6391043540047422,
          -1.1386905222504786,
          0.06782790157129348,
          -0.06646932340477428,
          0.19957965689145873,
          -1.1868326752512597,
          0.687814267937212,
          -0.45127035488217077,
          1.021947246982545,
          -1.3041413392070083,
          0.3532415361062878,
          1.0529591945729726,
          -0.3200238924298226,
          -1.5229034965890216,
          -0.15990603281727475,
          -0.6720341900302663,
          -1.0800538124890249,
          0.906525764302953,
          0.05076247170157314,
          0.18168274584757804,
          0.6550431451279187,
          -1.6456370941804646,
          -0.3353884713865095,
          -0.2543976213141974,
          0.0991264422381703,
          -0.722314913947713,
          -0.08485622406455068,
          0.08616084589162097,
          -1.235120004750304,
          -2.1396285896404654,
          -0.6962321421683358,
          -2.009301754190062,
          -0.545798213974197,
          -1.2885144453555872,
          -0.18427134829926914,
          0.1244762892114707,
          -1.2949770600194874,
          0.2819288658634854,
          0.2788140965770958,
          0.8803688558248898,
          0.3484605110424089,
          -1.4984559964036717,
          0.8700640562292278,
          -1.873513308268836,
          -1.3807421910905462,
          -0.7991026881790325,
          1.8923415525071585,
          0.6459261534137074,
          -0.6805960065839243,
          1.8370812728452721,
          -1.0173034755605683,
          1.7669684429272794,
          2.052207205444071,
          0.6634548130176747,
          0.39203252241418596,
          -1.4501649282401277,
          0.8055563490613611,
          2.102621499248711,
          -1.4988080404950703,
          0.7756251871647232,
          2.274558816375215,
          2.0317930002381557,
          0.7701568557273648,
          3.196390319642672,
          0.5784685296680386,
          -1.1877700543496277,
          1.7172008931152276,
          3.6129708338561524,
          -2.2431098488570838,
          2.093217078141145,
          1.7547939299866004,
          0.07387039656073992,
          2.296224552021872,
          0.942956268513654,
          -2.224074426910037,
          0.9822345533480763,
          -1.697701335958197,
          1.5730129279956684,
          -1.7220076547460357,
          2.562597047411882,
          -0.6551912923702363,
          2.2519804104010843,
          1.0373199742949757,
          2.2856544414277233,
          -1.345878161825016,
          1.699689204524176,
          -1.66630667446438,
          3.266653596668915,
          -2.1829738316512786,
          1.3244681949827035,
          -1.7035237278787345,
          3.433699904431124,
          -2.3910897773032245,
          1.947841036206639,
          2.3557632131825126,
          -2.335023952848813,
          0.8772661229388632,
          0.8143500852419129,
          2.3177503731187414,
          -1.096196550042713,
          2.744899466077717,
          -1.257534152820178,
          2.5238896947409586,
          0.561643993042683,
          -1.4360682430348224,
          1.605345248390568,
          -1.2832480568725817,
          2.3489804862612624,
          -2.658853384987626,
          1.6264133216348287,
          -2.100895269316016,
          1.9544230677992616,
          -1.1252177850727003,
          2.2479413141347577,
          1.5252336102809263,
          1.8685694294401929,
          0.063190457379935,
          0.13563838672147668,
          2.209305469410322,
          0.8055494483547613,
          3.125231277234731,
          3.5164454770782543,
          2.534132655565486,
          -1.9072421880890225,
          1.0661374947558564,
          0.4814983666700563,
          -2.151566821457591,
          1.7695049959675992,
          -1.765516337820933,
          2.158529980789235,
          1.8968217866119208,
          1.964253492611726,
          -0.021199094182103372,
          1.7042520778872194,
          -2.516341728146573,
          1.1422040544666943,
          0.34543195384499936,
          3.0519004910120477,
          -1.5579220875219226,
          2.5296916785849897,
          -2.00861622407272,
          2.2549321594105805,
          -2.1190074067167064,
          1.176740393589365,
          -2.035204708544188,
          2.627837581756,
          -1.7962001229948268,
          1.9939430793480664,
          -1.5665188143908348,
          1.6416617512620713,
          2.1275623289049395,
          1.9078668176675264,
          -0.36458849451266717,
          0.016198899699475695,
          0.2116635706758431,
          0.5022273045736989,
          -1.5769532951258043,
          0.5065954435386789,
          -1.8734872417839776,
          0.7023969067563781,
          -1.9199911556329867,
          0.6989009241675249,
          -1.459642636785848,
          2.874320189656314,
          -2.3001674576262645,
          1.424469209742104,
          -0.9299751543688751,
          2.707593696706853,
          -1.9582907678763979,
          1.3310873125654916,
          1.3336414830155923,
          1.351661672493961,
          0.38206386307738555,
          2.692113644873683,
          0.05951648354754476,
          1.933500077340248,
          0.14279906628209257,
          0.05341744928364896,
          2.2691867519100777,
          -0.005427541819239436,
          0.000917072298018492,
          1.5413445187386074,
          1.464285667274479,
          1.3313614638281324,
          1.1409585930110293,
          -0.22155135158076367,
          2.67717385337214,
          -1.958999605873624,
          2.183742095698331,
          -2.183281584050696,
          0.9134847094764836,
          1.5922003816864736,
          -0.9920782101120911,
          -1.6595837370351683,
          -1.0447098008521984,
          -1.309444651470343,
          -0.5554645878129286,
          -0.5579719747658904,
          -1.1461859668661267,
          0.17761783389554955,
          -0.4054076081767178,
          -0.5923299760213365,
          -1.5923437434447536,
          -1.093707381808692,
          -0.9674388646913687,
          0.03809744468296831,
          -1.093707381808692,
          -0.9674388646913687,
          0.5612481585230759,
          1.44612585582383,
          -0.7949243208757237,
          0.5387536165210977,
          -0.7554492279450497,
          -0.7607824535458337,
          -0.7704195329791069,
          0.6344684442549658,
          -1.0886244249434176,
          -0.52585666309141,
          -0.7023522875644197,
          0.5612481585230759,
          -1.5811576303965298,
          -0.6501347367174629,
          0.07304659102744164,
          -0.9667744638562873,
          -0.3404182583234025,
          1.44612585582383,
          -0.7949243208757237,
          -1.4455776635947355,
          -0.09430915619042654,
          0.3111338023415854,
          -0.682527631479058,
          0.22697278912417382,
          -0.48665368926434616,
          -2.009810330667649,
          -1.9075300294628663,
          -0.6272461295091065,
          -0.04243327002097249,
          -0.6802633961587671,
          -0.20791064299044762,
          1.2780500212160013,
          0.3899265094944064,
          1.9540602674874077,
          -0.0012634471248075476,
          -0.2658279915893308,
          -0.9029995580536563,
          -1.0566809695385393,
          0.6525357132038618,
          -0.5499093829704155,
          -0.8286597628077094,
          -0.7261457891903684,
          -1.1236450497975403,
          -0.7267890938036319,
          -1.6880116086912096,
          -1.3041540328224255,
          -0.6098308206374755,
          0.10151224338591193,
          0.4103234031748673,
          -0.14555060587128338,
          -1.6222764402797252,
          -0.42783464209470057,
          0.10671649609117867,
          -1.1328313253269544,
          -1.1409679588437536,
          -0.6417452244792853,
          -0.6074234689920821,
          0.06894589004580172,
          -0.6020880252293567,
          -0.18463151375362305,
          0.014065484879562516,
          -1.7421288955949497,
          -0.8086285998873353,
          -1.1254120269533254,
          -0.2934649974512787,
          0.44103603980315964,
          0.14862453998198835,
          -0.4467898877775177,
          -0.9153812677492242,
          -1.3643008817682452,
          -0.2524439740374326,
          0.0986819487304605,
          1.3192004319238024,
          0.16207601224529292,
          1.0178220522317125,
          0.0314491905749686,
          0.2384099590543016,
          -0.48693598352333733,
          -1.5727322129698442,
          0.698756436606437,
          -0.8328664294480718,
          0.2309794887822339,
          -0.3384572814434391,
          0.496583187431159,
          0.6040133366799372,
          -0.30118839406581943,
          0.010241133731276612,
          0.09442509926537869,
          0.35916285157028305,
          0.9583832701377765,
          -0.26344433806838063,
          2.1057475250461675,
          1.0062196080335541,
          -0.26344433806838063,
          -0.3732887880225396,
          0.4867006255739452,
          -0.26344433806838063,
          0.9259058482648701,
          0.06407309851521913,
          -0.04040942151402453,
          0.0792454403407443,
          -0.6857745248441018,
          -0.11151287689101705,
          -0.8463385830574496,
          -0.18425343004645584,
          -0.845867733300296,
          -1.0919109244075975,
          0.09752424322643252,
          -1.2432813990191292,
          0.18901817986039354,
          0.5516040546330863,
          -1.4662662130672683,
          -1.687327427042089,
          -1.0841681601240993,
          -1.4972693928185992,
          1.2152650273501007,
          -0.3463058135847738,
          -0.8250260665046476,
          -0.07210047207866352,
          -0.9489687046966486,
          -1.1775991333764766,
          0.9772218953739181,
          -0.8636028222541136,
          0.528863308782985,
          -0.13110867223529696,
          -1.1528168027377026,
          0.0322218727805419,
          -1.3619870367989337,
          1.265021424101405,
          1.2596089505487214,
          -0.7392853589752548,
          1.9233726758933363,
          1.1589675077319952,
          1.0513013041606594,
          0.5389815694317376,
          0.6686629698008817,
          0.4662616338840986,
          0.042998019487076045,
          0.4690546244590938,
          0.14719402311127786,
          -0.19275577430898835,
          1.0621896720761945,
          1.595941027368067,
          0.41388081044238056,
          0.10790993902404257,
          1.467609492784264,
          -0.47991788920813994,
          1.4822943303081522,
          0.23347519057079377,
          0.8508397826530191,
          1.0385098215109794,
          1.1611075177108037,
          1.7073142521350069,
          -0.5963399538293013,
          0.6760720407479802,
          0.25902639610918976,
          1.112742084713321,
          0.7162097627116382,
          0.8204225165323037,
          0.8520394098264239,
          0.3622946207756095,
          -0.37885609264724057,
          0.48943208161617285,
          1.5449663829795885,
          -0.14516075828806094,
          1.605171227141775,
          0.8348117836593323,
          2.0012451189516907,
          -1.0797715529552074,
          0.4418254937263614,
          1.0726916289125634,
          0.7770620788972034,
          -0.840152180049189,
          0.7357855763878771,
          -0.8055516960235612,
          0.011707903467747532,
          1.1008859244597076,
          0.3474611086358518,
          1.6040334210625662,
          0.900431755434226,
          -0.6351877081143611,
          -0.7467151404225352,
          -0.09112086907318868,
          1.1067243243817542,
          -0.6132897953573235,
          0.9653056541833075,
          -0.38063973215721575,
          -1.7578980681724317,
          -0.7333857230262947,
          0.5961496224175822,
          -0.5063417684976823,
          -1.6362269027819256,
          -2.0552331325115256,
          -1.4828480448804124,
          -0.6885385630957129,
          -0.2262083707250607,
          -0.46110929378261417,
          -2.3353287497316013,
          -1.7777156969955052,
          -1.3661400509379444,
          -0.3167316899750193,
          0.4214194028078673,
          -0.24275830263653386,
          0.20272355329706737,
          -0.22558680829768524,
          -0.36784447734370285,
          0.17256506713489886,
          1.027367827957567,
          -0.11611446883278052,
          -0.34848050913686873,
          -1.2761620413677401,
          0.36647269394449605,
          -0.7829863580409399,
          -0.32886318286036403,
          -0.10610319875408648,
          -0.6851285560264397,
          0.32612663606681114,
          -0.8134578643181561,
          -0.9193324189185149,
          -1.0887674580286693,
          -1.0514585049830778,
          0.05682258641923764,
          -0.06072856063946321,
          -0.3457864644626693,
          0.941044844871373,
          1.2730481271050023,
          2.1394698763932096,
          1.2812197723310277,
          -3.0046260702462884,
          -2.3632044022838294,
          -2.483938886868734,
          -2.2714081683174463,
          1.1841772608756809,
          0.39133795988922254,
          -0.4680048547505177,
          -0.5475797199747033,
          -2.5976808779881155,
          -2.214533556576711,
          -0.43384467896169604,
          -1.9288028459865487,
          -0.7905077793625619,
          0.3287976838120892,
          -3.0938999471085595,
          -0.2770196552966039,
          0.10770564006420878,
          -0.5527898242591571,
          -0.5327477427498485,
          -0.06772763627486425,
          -2.249291515377602,
          -1.952311896499453,
          -0.10498380082581445,
          0.284260847887701,
          -2.3628301499213102,
          0.7889016733161922,
          -1.991182276069926,
          -1.0613717706009134,
          -1.3028738790633352,
          -0.5104981674241988,
          -2.140057790644876,
          -1.1719747959407856,
          -1.034419117809652,
          -1.1719747959407856,
          -1.034419117809652,
          -1.5594568145994465,
          0.42352814741655687,
          0.4213688749594044,
          0.7105375851383519,
          -0.31128953320396907,
          -1.5833766150869502,
          -1.2478990129855076,
          -1.923673637630532,
          -0.747713927701838,
          -1.0861502830732743,
          -0.9742526510642172,
          -0.7654021864687796,
          0.654637365042049,
          0.4213688749594044,
          -1.1196433560519008,
          -0.5307916076555793,
          2.062670439726991,
          -0.17577627705344956,
          2.3095005756908016,
          -1.8638104636117012,
          0.19000897880883308,
          -0.635121471551536,
          1.1118117088738175,
          0.1841966557803126,
          -1.919619924942239,
          -0.700700897754604,
          0.8701102084414645,
          -0.24842010110131962,
          -1.3460362042002723,
          0.7432771277992829,
          1.9696995223874392,
          4.168298493064889,
          2.147891887862001,
          -2.0369999153090355,
          0.9007157316519996,
          -1.5973168301671392,
          1.6862346820960075,
          -1.6700504364992543,
          1.834997211903482,
          -2.2466992760004443,
          2.272040201310367,
          0.36945052114122867,
          1.2200073439940327,
          -1.99775963503285,
          1.7485901367411372,
          -1.8634241569325831,
          1.5099647349339995,
          -2.1076977692417307,
          2.180801939882385,
          -1.9782005629765986,
          0.5908497266816535,
          -1.8972330672551894,
          1.3437218564714548,
          -2.0712369375241746,
          1.5105007842245894,
          2.89504144102224,
          -2.027027783787698,
          1.0846259505236966,
          -1.975060689404991,
          2.233231651346649,
          -1.1393692231047994,
          1.3105056952561802,
          -1.2766489777765881,
          3.103160420096569,
          -1.582353984622602,
          0.7385058645445842,
          -2.0133649749009237,
          1.4301425281891307,
          1.2005742538145026,
          -0.06875792009566171,
          -2.6738614226554076,
          2.7515214861698998,
          -2.5375423457435105,
          0.015406213205818881,
          4.975640303082221,
          3.05678255344532,
          0.4388342687001964,
          0.6990845561047289,
          -1.4611405560968418,
          0.8736295661008935,
          -1.6384981418912306,
          3.167450434737804,
          -0.5006145750747604,
          1.989727064466036,
          -0.7965036581825574,
          1.667651650653488,
          -1.5732102662972156,
          2.0202962376355185,
          -2.053248945021888,
          0.6087216700083685,
          0.9479215030349459,
          0.5785545817582576,
          1.5636330418090476,
          1.7566128112217723,
          1.5872197674245303,
          1.7978218286971686,
          1.2621491230138642,
          2.698392426709144,
          0.7294010957418121,
          2.533759866423199,
          1.7585230752368242,
          1.3347757307496992,
          0.5454779327065167,
          -1.8053186844943783,
          3.871400827868699,
          0.9915301239558135,
          2.4631891731460605,
          -2.0559599908131063,
          2.352106462470394,
          -2.3732718640657335,
          0.4587594587109188,
          0.23744349928598227,
          -1.126137076470894,
          -1.8973306948700883,
          -2.2722812152516676,
          3.1211509044792733,
          1.9613657492155163,
          -2.637129721694243,
          0.9271859887555322,
          0.5554819504064965,
          -2.2010179251837307,
          1.0691739285904722,
          0.9745743046071575,
          0.5956765996855583,
          0.7632951279149796,
          2.0006788403437414,
          -1.1659495058661826,
          1.6530854437399487,
          -0.5980915714688386,
          2.8003235713373416,
          2.300195215551584,
          0.6528792806410136,
          -1.756430478878147,
          2.6022550219780047,
          3.5795271951708467,
          3.2004814931689904,
          1.5988997577431325,
          2.0915808407296224,
          -0.5402051046278059,
          2.7525956591181493,
          0.984690339905114,
          1.3902432400291165,
          1.1779674362015427,
          1.3297121498324738,
          -1.660829629961112,
          1.3472624340156998,
          -0.3350391323820627,
          0.8837893548462413,
          -1.1596518809552299,
          -0.1137564327024681,
          0.1687348361940532,
          2.0511975417866233,
          -0.11875518618534663,
          -0.3188512159282146,
          -0.4085325115628367,
          -0.19155750057555335,
          -1.598619316398527,
          1.8530861566668475,
          -2.171947870266615,
          2.0881731191986597,
          -2.000168953098201,
          2.4273262480218016,
          -2.593515320529165,
          -0.02704759952377163,
          -2.134045468263184,
          1.031793489408213,
          -2.5710636160033657,
          2.6020962454946126,
          -2.777712990795571,
          0.6945305571929046,
          0.36692104501704376,
          0.14324495226614997,
          1.087093031166227,
          2.5360386904986045,
          -0.6070968902278927,
          2.2360168295040586,
          -0.2665112143376436,
          2.008995602308034,
          2.0174926102171007,
          2.673803167634958,
          2.6996080694155737,
          0.41379336281947504,
          -0.5287275999177161,
          1.7649894208767782,
          2.511177615801626,
          1.5780544720649168,
          0.0670315975923831,
          2.3366468459423335,
          -0.311796048784177,
          2.093264059326475,
          -0.6754097039183041,
          1.261864171257216,
          -0.5100504981935345,
          2.8288776694636293,
          -0.589878289378211,
          1.452789058991222,
          2.2800735836612507,
          -1.59135115062915,
          3.090006125532149,
          2.6405062922325047,
          -0.2071015348082079,
          -1.2405491874103778,
          1.0762053197387202,
          -1.118071919587871,
          -0.09430915619042654,
          0.3111338023415854,
          -0.682527631479058,
          0.22697278912417382,
          -0.9569495070038853,
          0.21631538272598483,
          -0.7624051861594289,
          -1.6473477169022739,
          -2.2148023775669428,
          -0.6020880252293567,
          -0.18463151375362305,
          0.014065484879562516,
          -1.7421288955949497,
          -0.8086285998873353,
          -1.1254120269533254,
          -0.2934649974512787,
          -0.9569495070038853,
          0.21631538272598483,
          -0.7624051861594289,
          -1.6473477169022739,
          -2.2148023775669428,
          -1.1254120269533254,
          -0.2934649974512787,
          -0.3470719083368143,
          -1.1630345170122727,
          -1.215356216047611,
          -0.9313246988736396,
          -1.9507789897590224,
          -0.7418599333863228,
          1.0023940861422627,
          -0.6152201702319735,
          -1.0811679557983784,
          -0.8748539767976988,
          -1.6412999892356186,
          0.7155953160699943,
          -1.0811679557983784,
          -0.604800117781574,
          -1.3844199911384083,
          -1.0041056744525536,
          -0.4107047963200949,
          -0.8530081025257742,
          -1.6298959505187371,
          -0.8663866500823251,
          -1.352644231676409,
          -0.8079793769301244,
          -1.4955838950188771,
          -2.0311273222412667,
          0.8866569476557143,
          -0.7418599333863228,
          1.0023940861422627,
          -0.6152201702319735,
          0.28233692433663965,
          -0.2377354650336536,
          -0.07587044257441361,
          -0.644938324988755,
          -0.7550367968535067,
          -0.2377354650336536,
          -0.07587044257441361,
          3.7925094341446406,
          0.6055118478679303,
          1.1019341690908764,
          2.580678682603904,
          1.9632129971432393,
          -1.2184772721001593,
          -0.9347878441157067,
          -1.8026560922401806,
          -1.5879614515934137,
          1.4193806426573867,
          -1.1236450497975403,
          2.007656475915677,
          2.1476101580252225,
          -0.7617449540834048,
          0.2922225610841176,
          -0.38654239408150864,
          -0.06745039524909302,
          -0.6879355738295347,
          -0.03435239065164484,
          0.19069404371112014,
          -0.21929538077815464,
          2.8067031082456597,
          0.2706540189695642,
          -0.735690925118122,
          -0.9414169394874213,
          -0.9159020089439642,
          -0.682527631479058,
          -0.03738792091221913,
          -0.757160195879254,
          -0.7949243208757237,
          2.3668861177334084,
          -1.1293973483799842,
          0.12062277576302272,
          1.4350234440107859,
          -1.1097805872648918,
          -0.9476058171070276,
          -0.9279462634104154,
          1.6744068538219423,
          -0.9432844677292497,
          0.31233231182562654,
          -0.16095663659140172,
          -0.9276362585251677,
          -0.07793285465830678,
          -0.7047661146373715,
          0.4857353963444022,
          -0.17848223445389685,
          -0.6664752272607497,
          -0.14663330269620817,
          0.028302372683825967,
          -1.5269547796112668,
          0.3352897580067872,
          -0.4461666504006402,
          -0.6364332268254609,
          -1.1125295600344567,
          -0.9813901221782035,
          0.09470204517973205,
          -1.394638409576512,
          -1.0142492391040563,
          0.6767312201179828,
          -1.0332050883148187,
          0.092420101080914,
          -1.2078189601400005,
          -0.3581481553307144,
          -0.30815816878022784,
          0.26917368509675854,
          -0.6188793407475172,
          -1.7202063917723414,
          0.5049673486993961,
          0.03645172675906106,
          -1.1531924034364085,
          -1.0399514406575814,
          0.47936071350749776,
          0.06814097300666354,
          -0.8890774832070227,
          -0.10099046672684169,
          -1.4240208510567038,
          -0.6739475971186648,
          0.31204793484864435,
          -0.006299557196218483,
          -1.0832522366280795,
          -0.40546815085804927,
          -0.5680654230292096,
          -1.2904041064278888,
          -1.0333559059407285,
          0.1199511275780834,
          -1.2445218066304702,
          -0.05427069115326262,
          -0.13250132600950842,
          0.29411261659623356,
          0.6631142770547714,
          -1.7407882856113592,
          -2.352232769723815,
          -1.8023554527370012,
          0.6654327382055374,
          1.694897343676396,
          2.0098232338914794,
          -0.10143526563685804,
          1.229488117235926,
          1.160893463082863,
          0.7605651061795665,
          0.6448690948116262,
          0.9663602067408116,
          1.8193798934722778,
          1.117123992890968,
          0.15200976605950356,
          0.7174806662702266,
          -0.16650895763862905,
          0.5967419048274549,
          -1.3959982583909647,
          0.7998908854218469,
          0.7916830442788882,
          0.3238745640218079,
          -0.7055016138306958,
          -1.08943911533001,
          -0.40231041775414134,
          -1.2074730981572004,
          -1.5557938218748872,
          -0.20006141211578446,
          -2.380350251216249,
          0.009143958204265461,
          -0.5640382672442765,
          -0.6478928056627641,
          -1.0288079667762353,
          -1.9614507586731278,
          -0.9037973176567392,
          -0.4774005060131251,
          -1.7715693691498635,
          -1.2327029423705105,
          -2.469696224368881,
          -2.2783379540830007,
          -1.6346175970000838,
          -1.3527255110987515,
          -0.4812046280286931,
          -0.8050603010616436,
          0.06676675252313354,
          0.3827789831855707,
          0.268470053222282,
          0.04708206303592296,
          -0.47679052103091174,
          -0.17511928507008478,
          -0.043605110533417195,
          -1.2566905032923537,
          -0.4994603548356728,
          -0.6686793162232005,
          -0.4639396476358793,
          -0.4158283580556268,
          3.238416326258018,
          -1.4893885193073033,
          -2.130522271434532,
          -2.3739423870505516,
          -1.6294186798598325,
          -1.6160609486440833,
          -2.189586507598032,
          -1.8203592895949339,
          -2.35708095742444,
          -0.05166330737152366,
          -2.7002958106077144,
          -2.06862789780803,
          -1.6149085857189776,
          -1.8016499753569508,
          -1.319487206966129,
          -1.4205579848625964,
          -2.4574163524175408,
          -2.30613223430248,
          -2.445304796938316,
          -2.221233018772612,
          -2.101536491740333,
          -1.9005911657477907,
          -1.4856103103570795,
          -1.3673652513581167,
          -2.258064702431226,
          -1.3124523244764932,
          -2.0947559844477714,
          -1.7394661751881153,
          -1.3580853206288361,
          -1.861122433322747,
          -0.8850241946490941,
          -1.9344853391777668,
          -1.4579066504901068,
          -1.1229591562172925,
          -0.8241746748934077,
          -1.2962398222219313,
          -1.8945253329809486,
          -2.0300417991981443,
          -2.0418902761634223,
          -1.7499648644004357,
          -1.2016073246535155,
          -0.5480847113301169,
          -2.152660122451675,
          -1.286909868667921,
          -1.7339048289533328,
          -2.199207159843367,
          -1.9558774984150034,
          -2.0100455706498965,
          -2.0021056130495354,
          -1.882046795910401,
          -1.5930645330067958,
          -2.2331772882541285,
          -0.2415603742352602,
          -1.23369247188522,
          -2.636207557627077,
          -2.6416345558631864,
          -2.93378119391551,
          -0.7982366368328708,
          -1.904627163445354,
          -2.224060832084202,
          -1.5603980648134594,
          2.052414872728164,
          0.8750731386768047,
          1.5374566880944285,
          0.5476001129597657,
          1.386939332181585,
          0.37986825138576163,
          0.18333716465112143,
          -1.4161327309592142,
          0.44421210053091437,
          -1.229365540511325,
          3.0840567027244585,
          -1.7308697903980421,
          3.236100658957236,
          -1.8977639839989673,
          -0.3004946813450956,
          -2.2288080596254924,
          2.1796155003364666,
          -2.0261600179658212,
          3.0070796321858855,
          -1.2596415393630176,
          0.7803135198341112,
          -1.8882355684893481,
          2.3295344275804752,
          -2.0048173490076353,
          1.705240128197722,
          -1.7715615069723756,
          1.6642546332779595,
          -1.2196959767840705,
          2.251889799046421,
          -2.126913200439214,
          2.106768069702407,
          -2.0530968634012714,
          0.8708306924055262,
          -1.0143473824769227,
          1.6414600163716848,
          -0.043327362418022944,
          1.6999430023088011,
          -1.0422478114602398,
          -0.04134802867604723,
          -0.8565219891808687,
          2.6650895209262138,
          0.11456945511772858,
          0.8938815595388264,
          2.551322827134876,
          0.99756669894955,
          0.16722587056150312,
          0.8167296490589718,
          -1.923412991958916,
          2.7906264706823225,
          -0.04538670232141818,
          -2.3650083399432904,
          -0.35647531362479423,
          -2.315313184131507,
          1.7036517736075454,
          1.853496567008724,
          -2.467559789144468,
          1.027868733694108,
          -2.3177559850586835,
          1.0637265800167475,
          -2.401877680438353,
          0.6094943537386759,
          -2.181611866919102,
          1.248712348973279,
          2.9294458299641057,
          -2.2421723325839364,
          1.1252608766610985,
          -2.8486013190604265,
          -0.02762481341653556,
          -2.0367208229571525,
          0.2591645095253232,
          1.105232984116641,
          -2.3439874281770314,
          2.1697897893517086,
          -2.3136602324341147,
          2.399507313804894,
          -1.5961048099384265,
          -0.41010276414682534,
          -1.1876684060075462,
          0.310823972432356,
          0.5146833364989458,
          0.756003096322525,
          -1.2981623043773776,
          2.2725981658215706,
          2.112909327407798,
          2.9899746489238064,
          0.2314043741327085,
          0.3681379538690069,
          0.018171660192144185,
          1.8106429558889428,
          0.4501710820474058,
          1.7353550826350075,
          -1.7037775850893107,
          3.3830104009923487,
          3.0459668670357654,
          0.10610616137340448,
          1.5377698194007505,
          3.3246454990033323,
          3.6489087059550664,
          -1.8687978178463405,
          1.331092173915663,
          -2.0647634185835324,
          -0.13045831136778158,
          -2.2673954776578227,
          0.3889808441669301,
          -2.4634546148822984,
          2.135364254467421,
          -2.2536036850236636,
          2.902225196441958,
          -2.0759371263458335,
          0.5782207585755752,
          -2.208745168095229,
          0.8336700193917966,
          -1.879043727792495,
          1.7217089663271696,
          0.5306794639725669,
          2.043022820805341,
          4.2335908837957685,
          2.6532892024187205,
          2.0396267843210416,
          1.680969866246369,
          1.4981889858362356,
          1.1477907043372995,
          3.1955351719059397,
          -1.652907709847144,
          2.477601680802694,
          2.529187921765017,
          0.8256463631726635,
          -0.2568614397591729,
          -2.3845094345765694,
          2.028331092043052,
          -2.0664440385440286,
          0.5645214408956615,
          -1.3934547173184675,
          1.1568869127127603,
          -2.4422349229453433,
          0.2670391055483152,
          -1.086578991165753,
          2.55623431102234,
          -2.0641474328764398,
          0.12048116549506008,
          -2.070397624465769,
          3.5576163598894612,
          -1.3685119459573265,
          0.4329989425473207,
          -2.5487480141074856,
          2.1452955233086417,
          -1.8448339028475085,
          2.1460226520450747,
          -0.8370842421517919,
          0.8852548687756983,
          -1.515000956785703,
          -0.339142437897179,
          -1.7289770541116365,
          1.2380944315587445,
          -2.0568702194431006,
          0.5772426263794462,
          -2.020020687114733,
          0.7176277903729267,
          -1.4140372229761362,
          0.27700406360755614,
          -1.9377935764953382,
          2.9890344318459254,
          3.058992905035832,
          1.614240256935403,
          1.5345326684099914,
          -1.427911351370016,
          2.5904409727940134,
          1.0460380928102269,
          0.9136509634880644,
          0.9564070922541115,
          0.24959499202985058,
          2.8293059237871447,
          2.4564366766701418,
          -0.662944336963083,
          0.3394785777121838,
          -0.6022599867756785,
          0.35966684480002015,
          0.33877144889894634,
          2.08080402531244,
          0.5088913883754376,
          2.2992917977950182,
          -0.4302871881533749,
          0.7155953160699943,
          -1.0811679557983784,
          -0.604800117781574,
          -1.3844199911384083,
          -1.0041056744525536,
          -0.4107047963200949,
          -0.8530081025257742,
          -1.6298959505187371,
          -0.8663866500823251,
          -1.352644231676409,
          -0.8079793769301244,
          -1.4955838950188771,
          -2.0311273222412667,
          0.8866569476557143,
          -0.7418599333863228,
          1.0023940861422627,
          -0.6152201702319735,
          0.28233692433663965,
          -0.2377354650336536,
          -0.07587044257441361,
          -0.644938324988755,
          -0.7550367968535067,
          -0.2377354650336536,
          -0.07587044257441361,
          3.7925094341446406,
          0.6055118478679303,
          1.1019341690908764,
          2.580678682603904,
          1.9632129971432393,
          -1.2184772721001593,
          -0.9347878441157067,
          -1.8026560922401806,
          -1.5879614515934137,
          1.4193806426573867,
          -1.1236450497975403,
          2.007656475915677,
          2.1476101580252225,
          -0.7617449540834048,
          0.2922225610841176,
          -0.38654239408150864,
          -0.06745039524909302,
          -0.6879355738295347,
          -0.03435239065164484,
          0.19069404371112014,
          -0.21929538077815464,
          2.8067031082456597,
          0.2706540189695642,
          -0.735690925118122,
          -0.9414169394874213,
          -0.9159020089439642,
          -0.682527631479058,
          -0.03738792091221913,
          -0.757160195879254,
          -0.7949243208757237,
          2.3668861177334084,
          -1.1293973483799842,
          0.12062277576302272,
          1.4350234440107859,
          -1.1097805872648918,
          -0.9476058171070276,
          -0.9279462634104154,
          1.6744068538219423,
          -0.9432844677292497,
          0.31233231182562654,
          -0.16095663659140172
         ],
         "yaxis": "y"
        }
       ],
       "layout": {
        "coloraxis": {
         "colorbar": {
          "title": {
           "text": "cluster"
          }
         },
         "colorscale": [
          [
           0,
           "#0d0887"
          ],
          [
           0.1111111111111111,
           "#46039f"
          ],
          [
           0.2222222222222222,
           "#7201a8"
          ],
          [
           0.3333333333333333,
           "#9c179e"
          ],
          [
           0.4444444444444444,
           "#bd3786"
          ],
          [
           0.5555555555555556,
           "#d8576b"
          ],
          [
           0.6666666666666666,
           "#ed7953"
          ],
          [
           0.7777777777777778,
           "#fb9f3a"
          ],
          [
           0.8888888888888888,
           "#fdca26"
          ],
          [
           1,
           "#f0f921"
          ]
         ]
        },
        "legend": {
         "tracegroupgap": 0
        },
        "margin": {
         "t": 60
        },
        "template": {
         "data": {
          "bar": [
           {
            "error_x": {
             "color": "#2a3f5f"
            },
            "error_y": {
             "color": "#2a3f5f"
            },
            "marker": {
             "line": {
              "color": "#E5ECF6",
              "width": 0.5
             }
            },
            "type": "bar"
           }
          ],
          "barpolar": [
           {
            "marker": {
             "line": {
              "color": "#E5ECF6",
              "width": 0.5
             }
            },
            "type": "barpolar"
           }
          ],
          "carpet": [
           {
            "aaxis": {
             "endlinecolor": "#2a3f5f",
             "gridcolor": "white",
             "linecolor": "white",
             "minorgridcolor": "white",
             "startlinecolor": "#2a3f5f"
            },
            "baxis": {
             "endlinecolor": "#2a3f5f",
             "gridcolor": "white",
             "linecolor": "white",
             "minorgridcolor": "white",
             "startlinecolor": "#2a3f5f"
            },
            "type": "carpet"
           }
          ],
          "choropleth": [
           {
            "colorbar": {
             "outlinewidth": 0,
             "ticks": ""
            },
            "type": "choropleth"
           }
          ],
          "contour": [
           {
            "colorbar": {
             "outlinewidth": 0,
             "ticks": ""
            },
            "colorscale": [
             [
              0,
              "#0d0887"
             ],
             [
              0.1111111111111111,
              "#46039f"
             ],
             [
              0.2222222222222222,
              "#7201a8"
             ],
             [
              0.3333333333333333,
              "#9c179e"
             ],
             [
              0.4444444444444444,
              "#bd3786"
             ],
             [
              0.5555555555555556,
              "#d8576b"
             ],
             [
              0.6666666666666666,
              "#ed7953"
             ],
             [
              0.7777777777777778,
              "#fb9f3a"
             ],
             [
              0.8888888888888888,
              "#fdca26"
             ],
             [
              1,
              "#f0f921"
             ]
            ],
            "type": "contour"
           }
          ],
          "contourcarpet": [
           {
            "colorbar": {
             "outlinewidth": 0,
             "ticks": ""
            },
            "type": "contourcarpet"
           }
          ],
          "heatmap": [
           {
            "colorbar": {
             "outlinewidth": 0,
             "ticks": ""
            },
            "colorscale": [
             [
              0,
              "#0d0887"
             ],
             [
              0.1111111111111111,
              "#46039f"
             ],
             [
              0.2222222222222222,
              "#7201a8"
             ],
             [
              0.3333333333333333,
              "#9c179e"
             ],
             [
              0.4444444444444444,
              "#bd3786"
             ],
             [
              0.5555555555555556,
              "#d8576b"
             ],
             [
              0.6666666666666666,
              "#ed7953"
             ],
             [
              0.7777777777777778,
              "#fb9f3a"
             ],
             [
              0.8888888888888888,
              "#fdca26"
             ],
             [
              1,
              "#f0f921"
             ]
            ],
            "type": "heatmap"
           }
          ],
          "heatmapgl": [
           {
            "colorbar": {
             "outlinewidth": 0,
             "ticks": ""
            },
            "colorscale": [
             [
              0,
              "#0d0887"
             ],
             [
              0.1111111111111111,
              "#46039f"
             ],
             [
              0.2222222222222222,
              "#7201a8"
             ],
             [
              0.3333333333333333,
              "#9c179e"
             ],
             [
              0.4444444444444444,
              "#bd3786"
             ],
             [
              0.5555555555555556,
              "#d8576b"
             ],
             [
              0.6666666666666666,
              "#ed7953"
             ],
             [
              0.7777777777777778,
              "#fb9f3a"
             ],
             [
              0.8888888888888888,
              "#fdca26"
             ],
             [
              1,
              "#f0f921"
             ]
            ],
            "type": "heatmapgl"
           }
          ],
          "histogram": [
           {
            "marker": {
             "colorbar": {
              "outlinewidth": 0,
              "ticks": ""
             }
            },
            "type": "histogram"
           }
          ],
          "histogram2d": [
           {
            "colorbar": {
             "outlinewidth": 0,
             "ticks": ""
            },
            "colorscale": [
             [
              0,
              "#0d0887"
             ],
             [
              0.1111111111111111,
              "#46039f"
             ],
             [
              0.2222222222222222,
              "#7201a8"
             ],
             [
              0.3333333333333333,
              "#9c179e"
             ],
             [
              0.4444444444444444,
              "#bd3786"
             ],
             [
              0.5555555555555556,
              "#d8576b"
             ],
             [
              0.6666666666666666,
              "#ed7953"
             ],
             [
              0.7777777777777778,
              "#fb9f3a"
             ],
             [
              0.8888888888888888,
              "#fdca26"
             ],
             [
              1,
              "#f0f921"
             ]
            ],
            "type": "histogram2d"
           }
          ],
          "histogram2dcontour": [
           {
            "colorbar": {
             "outlinewidth": 0,
             "ticks": ""
            },
            "colorscale": [
             [
              0,
              "#0d0887"
             ],
             [
              0.1111111111111111,
              "#46039f"
             ],
             [
              0.2222222222222222,
              "#7201a8"
             ],
             [
              0.3333333333333333,
              "#9c179e"
             ],
             [
              0.4444444444444444,
              "#bd3786"
             ],
             [
              0.5555555555555556,
              "#d8576b"
             ],
             [
              0.6666666666666666,
              "#ed7953"
             ],
             [
              0.7777777777777778,
              "#fb9f3a"
             ],
             [
              0.8888888888888888,
              "#fdca26"
             ],
             [
              1,
              "#f0f921"
             ]
            ],
            "type": "histogram2dcontour"
           }
          ],
          "mesh3d": [
           {
            "colorbar": {
             "outlinewidth": 0,
             "ticks": ""
            },
            "type": "mesh3d"
           }
          ],
          "parcoords": [
           {
            "line": {
             "colorbar": {
              "outlinewidth": 0,
              "ticks": ""
             }
            },
            "type": "parcoords"
           }
          ],
          "pie": [
           {
            "automargin": true,
            "type": "pie"
           }
          ],
          "scatter": [
           {
            "marker": {
             "colorbar": {
              "outlinewidth": 0,
              "ticks": ""
             }
            },
            "type": "scatter"
           }
          ],
          "scatter3d": [
           {
            "line": {
             "colorbar": {
              "outlinewidth": 0,
              "ticks": ""
             }
            },
            "marker": {
             "colorbar": {
              "outlinewidth": 0,
              "ticks": ""
             }
            },
            "type": "scatter3d"
           }
          ],
          "scattercarpet": [
           {
            "marker": {
             "colorbar": {
              "outlinewidth": 0,
              "ticks": ""
             }
            },
            "type": "scattercarpet"
           }
          ],
          "scattergeo": [
           {
            "marker": {
             "colorbar": {
              "outlinewidth": 0,
              "ticks": ""
             }
            },
            "type": "scattergeo"
           }
          ],
          "scattergl": [
           {
            "marker": {
             "colorbar": {
              "outlinewidth": 0,
              "ticks": ""
             }
            },
            "type": "scattergl"
           }
          ],
          "scattermapbox": [
           {
            "marker": {
             "colorbar": {
              "outlinewidth": 0,
              "ticks": ""
             }
            },
            "type": "scattermapbox"
           }
          ],
          "scatterpolar": [
           {
            "marker": {
             "colorbar": {
              "outlinewidth": 0,
              "ticks": ""
             }
            },
            "type": "scatterpolar"
           }
          ],
          "scatterpolargl": [
           {
            "marker": {
             "colorbar": {
              "outlinewidth": 0,
              "ticks": ""
             }
            },
            "type": "scatterpolargl"
           }
          ],
          "scatterternary": [
           {
            "marker": {
             "colorbar": {
              "outlinewidth": 0,
              "ticks": ""
             }
            },
            "type": "scatterternary"
           }
          ],
          "surface": [
           {
            "colorbar": {
             "outlinewidth": 0,
             "ticks": ""
            },
            "colorscale": [
             [
              0,
              "#0d0887"
             ],
             [
              0.1111111111111111,
              "#46039f"
             ],
             [
              0.2222222222222222,
              "#7201a8"
             ],
             [
              0.3333333333333333,
              "#9c179e"
             ],
             [
              0.4444444444444444,
              "#bd3786"
             ],
             [
              0.5555555555555556,
              "#d8576b"
             ],
             [
              0.6666666666666666,
              "#ed7953"
             ],
             [
              0.7777777777777778,
              "#fb9f3a"
             ],
             [
              0.8888888888888888,
              "#fdca26"
             ],
             [
              1,
              "#f0f921"
             ]
            ],
            "type": "surface"
           }
          ],
          "table": [
           {
            "cells": {
             "fill": {
              "color": "#EBF0F8"
             },
             "line": {
              "color": "white"
             }
            },
            "header": {
             "fill": {
              "color": "#C8D4E3"
             },
             "line": {
              "color": "white"
             }
            },
            "type": "table"
           }
          ]
         },
         "layout": {
          "annotationdefaults": {
           "arrowcolor": "#2a3f5f",
           "arrowhead": 0,
           "arrowwidth": 1
          },
          "autotypenumbers": "strict",
          "coloraxis": {
           "colorbar": {
            "outlinewidth": 0,
            "ticks": ""
           }
          },
          "colorscale": {
           "diverging": [
            [
             0,
             "#8e0152"
            ],
            [
             0.1,
             "#c51b7d"
            ],
            [
             0.2,
             "#de77ae"
            ],
            [
             0.3,
             "#f1b6da"
            ],
            [
             0.4,
             "#fde0ef"
            ],
            [
             0.5,
             "#f7f7f7"
            ],
            [
             0.6,
             "#e6f5d0"
            ],
            [
             0.7,
             "#b8e186"
            ],
            [
             0.8,
             "#7fbc41"
            ],
            [
             0.9,
             "#4d9221"
            ],
            [
             1,
             "#276419"
            ]
           ],
           "sequential": [
            [
             0,
             "#0d0887"
            ],
            [
             0.1111111111111111,
             "#46039f"
            ],
            [
             0.2222222222222222,
             "#7201a8"
            ],
            [
             0.3333333333333333,
             "#9c179e"
            ],
            [
             0.4444444444444444,
             "#bd3786"
            ],
            [
             0.5555555555555556,
             "#d8576b"
            ],
            [
             0.6666666666666666,
             "#ed7953"
            ],
            [
             0.7777777777777778,
             "#fb9f3a"
            ],
            [
             0.8888888888888888,
             "#fdca26"
            ],
            [
             1,
             "#f0f921"
            ]
           ],
           "sequentialminus": [
            [
             0,
             "#0d0887"
            ],
            [
             0.1111111111111111,
             "#46039f"
            ],
            [
             0.2222222222222222,
             "#7201a8"
            ],
            [
             0.3333333333333333,
             "#9c179e"
            ],
            [
             0.4444444444444444,
             "#bd3786"
            ],
            [
             0.5555555555555556,
             "#d8576b"
            ],
            [
             0.6666666666666666,
             "#ed7953"
            ],
            [
             0.7777777777777778,
             "#fb9f3a"
            ],
            [
             0.8888888888888888,
             "#fdca26"
            ],
            [
             1,
             "#f0f921"
            ]
           ]
          },
          "colorway": [
           "#636efa",
           "#EF553B",
           "#00cc96",
           "#ab63fa",
           "#FFA15A",
           "#19d3f3",
           "#FF6692",
           "#B6E880",
           "#FF97FF",
           "#FECB52"
          ],
          "font": {
           "color": "#2a3f5f"
          },
          "geo": {
           "bgcolor": "white",
           "lakecolor": "white",
           "landcolor": "#E5ECF6",
           "showlakes": true,
           "showland": true,
           "subunitcolor": "white"
          },
          "hoverlabel": {
           "align": "left"
          },
          "hovermode": "closest",
          "mapbox": {
           "style": "light"
          },
          "paper_bgcolor": "white",
          "plot_bgcolor": "#E5ECF6",
          "polar": {
           "angularaxis": {
            "gridcolor": "white",
            "linecolor": "white",
            "ticks": ""
           },
           "bgcolor": "#E5ECF6",
           "radialaxis": {
            "gridcolor": "white",
            "linecolor": "white",
            "ticks": ""
           }
          },
          "scene": {
           "xaxis": {
            "backgroundcolor": "#E5ECF6",
            "gridcolor": "white",
            "gridwidth": 2,
            "linecolor": "white",
            "showbackground": true,
            "ticks": "",
            "zerolinecolor": "white"
           },
           "yaxis": {
            "backgroundcolor": "#E5ECF6",
            "gridcolor": "white",
            "gridwidth": 2,
            "linecolor": "white",
            "showbackground": true,
            "ticks": "",
            "zerolinecolor": "white"
           },
           "zaxis": {
            "backgroundcolor": "#E5ECF6",
            "gridcolor": "white",
            "gridwidth": 2,
            "linecolor": "white",
            "showbackground": true,
            "ticks": "",
            "zerolinecolor": "white"
           }
          },
          "shapedefaults": {
           "line": {
            "color": "#2a3f5f"
           }
          },
          "ternary": {
           "aaxis": {
            "gridcolor": "white",
            "linecolor": "white",
            "ticks": ""
           },
           "baxis": {
            "gridcolor": "white",
            "linecolor": "white",
            "ticks": ""
           },
           "bgcolor": "#E5ECF6",
           "caxis": {
            "gridcolor": "white",
            "linecolor": "white",
            "ticks": ""
           }
          },
          "title": {
           "x": 0.05
          },
          "xaxis": {
           "automargin": true,
           "gridcolor": "white",
           "linecolor": "white",
           "ticks": "",
           "title": {
            "standoff": 15
           },
           "zerolinecolor": "white",
           "zerolinewidth": 2
          },
          "yaxis": {
           "automargin": true,
           "gridcolor": "white",
           "linecolor": "white",
           "ticks": "",
           "title": {
            "standoff": 15
           },
           "zerolinecolor": "white",
           "zerolinewidth": 2
          }
         }
        },
        "xaxis": {
         "anchor": "y",
         "domain": [
          0,
          1
         ],
         "title": {
          "text": "x"
         }
        },
        "yaxis": {
         "anchor": "x",
         "domain": [
          0,
          1
         ],
         "title": {
          "text": "y"
         }
        }
       }
      },
      "text/html": [
       "<div>                            <div id=\"2489e69f-f278-4f7c-a14d-7f7a9e395978\" class=\"plotly-graph-div\" style=\"height:525px; width:100%;\"></div>            <script type=\"text/javascript\">                require([\"plotly\"], function(Plotly) {                    window.PLOTLYENV=window.PLOTLYENV || {};                                    if (document.getElementById(\"2489e69f-f278-4f7c-a14d-7f7a9e395978\")) {                    Plotly.newPlot(                        \"2489e69f-f278-4f7c-a14d-7f7a9e395978\",                        [{\"customdata\": [[\"The Circle Game - Live at The 2nd Fret, Philadelphia, PA, 11/1966\"], [\"Urge For Going - Live at The 2nd Fret, Philadelphia, PA, 11/1966\"], [\"What's The Story Mr. Blue - Live at The 2nd Fret, Philadelphia, PA, 11/1966\"], [\"Brandy Eyes - Live at The 2nd Fret, Philadelphia, PA, 11/1966\"], [\"Intro To Urge For Going - Live at The 2nd Fret, Philadelphia, PA, 11/1966\"], [\"Intro To The Circle Game - Live at The 2nd Fret, Philadelphia, PA, 11/1966\"], [\"Eastern Rain - Live at The 2nd Fret, Philadelphia, PA, 11/1966\"], [\"Night In The City - Live at The 2nd Fret, Philadelphia, PA, 11/1966\"], [\"Intro To Night In The City - Live at The 2nd Fret, Philadelphia, PA, 11/1966\"], [\"Intro To What's The Story Mr. Blue - Live at The 2nd Fret, Philadelphia, PA, 11/1966\"], [\"Tristan und Isolde, WWV 90 / Act 3: Mild und leise wie er l\\u00e4chelt - Live at Bayreuther Festspiele / 1966\"], [\"To You, In 2000 Years\"], [\"2000 Light Years From Home / She\\u2019s A Rainbow / Keyboard Duet - Live\"], [\"Year 3000\"], [\"Year 2000 Flow\"], [\"Year 2020\"], [\"Longest Year - 2020\"], [\"Year,2015\"], [\"Poker Face\"], [\"2021\"], [\"Year 2008 - MSZ Remix\"], [\"Dreams - 2004 Remaster\"], [\"Lovers and Friends\"], [\"Year 2008 - MSZ Remix\"], [\"Year,2015\"], [\"Don't Shed a Tear - Live at Bonn, Germany, 2005\"], [\"When You Walk in the Room - Live at Bonn, Germany, 2005\"], [\"Year 2008 - MSZ Remix\"], [\"Year 2008 - MSZ Remix\"], [\"I'm Movin' On - Remastered 2008\"], [\"Always the Same\"], [\"Next Dimensional World (Qlimax Anthem 2008)\"], [\"Half New Year\"], [\"Year 2008 - MSZ Remix\"], [\"Scrap Attack (Defqon.1 Anthem 2009)\"], [\"A State Of Trance (ASOT 996) - Tune Of The Year 2019 Top 3, Pt. 2\"], [\"A State Of Trance (ASOT 996) - Tune Of The Year 2019 Top 3, Pt. 1\"], [\"CTRL.ALT.DELETE (In Qontrol Anthem 2009)\"], [\"Year 2020\"], [\"Year 2008 - MSZ Remix\"], [\"Gone (Acoustic 2010)\"], [\"Year,2015\"], [\"Longest Year - 2020\"], [\"We're Gonna Change The World - Remastered 2010\"], [\"A State Of Trance (ASOT 996) - A State Of Trance Tune Of The Year 2020\"], [\"A State Of Trance (ASOT 995) - ASOT Tune Of The Year 2020 voting now open: vote.astateoftrance.com, Pt. 1\"], [\"A State Of Trance (ASOT 995) - ASOT Tune Of The Year 2020 voting now open: vote.astateoftrance.com, Pt. 2\"], [\"A State Of Trance (ASOT 995) - ASOT Tune Of The Year 2020 voting now open: vote.astateoftrance.com, Pt. 3\"], [\"A State Of Trance (ASOT 996) - Tune Of The Year 2019 Top 3, Pt. 2\"], [\"A State Of Trance (ASOT 996) - Tune Of The Year 2019 Top 3, Pt. 1\"], [\"A State Of Trance (ASOT 995) - Tune Of The Year 2020 Special Episode, Pt. 1\"], [\"A State Of Trance (ASOT 994) - ASOT Tune Of The Year 2020 voting now open: vote.astateoftrance.com, Pt. 1\"], [\"A State Of Trance (ASOT 994) - ASOT Tune Of The Year 2020 voting now open: vote.astateoftrance.com, Pt. 2\"], [\"A State Of Trance (ASOT 994) - ASOT Tune Of The Year 2020 voting now open: vote.astateoftrance.com, Pt. 3\"], [\"All Of A Sudden - Remastered 2010\"], [\"Cool for the Summer\"], [\"Somebody To You\"], [\"Friends\"], [\"Each Year - Live in Kyoto 2010\"], [\"Thunder\"], [\"Year,2015\"], [\"A State Of Trance (ASOT 996) - Tune Of The Year 2019 Top 3, Pt. 2\"], [\"A State Of Trance (ASOT 996) - Tune Of The Year 2019 Top 3, Pt. 1\"], [\"Sun 2011 - Mixed\"], [\"Bad Year Blimp - Mixed\"], [\"Sun 2011 - Edit\"], [\"Year 2020\"], [\"Year,2015\"], [\"Longest Year - 2020\"], [\"A State Of Trance (ASOT 995) - ASOT Tune Of The Year 2020 voting now open: vote.astateoftrance.com, Pt. 1\"], [\"A State Of Trance (ASOT 995) - ASOT Tune Of The Year 2020 voting now open: vote.astateoftrance.com, Pt. 2\"], [\"A State Of Trance (ASOT 995) - ASOT Tune Of The Year 2020 voting now open: vote.astateoftrance.com, Pt. 3\"], [\"A State Of Trance (ASOT 996) - Tune Of The Year 2019 Top 3, Pt. 2\"], [\"A State Of Trance (ASOT 996) - Tune Of The Year 2019 Top 3, Pt. 1\"], [\"A State Of Trance (ASOT 996) - A State Of Trance Tune Of The Year 2020\"], [\"A State Of Trance (ASOT 995) - Tune Of The Year 2020 Special Episode, Pt. 1\"], [\"A State Of Trance (ASOT 994) - ASOT Tune Of The Year 2020 voting now open: vote.astateoftrance.com, Pt. 1\"], [\"A State Of Trance (ASOT 994) - ASOT Tune Of The Year 2020 voting now open: vote.astateoftrance.com, Pt. 2\"], [\"A State Of Trance (ASOT 994) - ASOT Tune Of The Year 2020 voting now open: vote.astateoftrance.com, Pt. 3\"], [\"A State Of Trance (ASOT 993) - ASOT Tune Of The Year 2020 voting now open: vote.astateoftrance.com, Pt. 1\"], [\"A State Of Trance (ASOT 993) - ASOT Tune Of The Year 2020 voting now open: vote.astateoftrance.com, Pt. 2\"], [\"A State Of Trance (ASOT 995) - Tune Of The Year 2020 Special Episode, Pt. 2\"], [\"A State Of Trance (ASOT 992) - ASOT Tune Of The Year 2020 voting now open: vote.astateoftrance.com, Pt. 2\"], [\"A State Of Trance (ASOT 992) - ASOT Tune Of The Year 2020 voting now open: vote.astateoftrance.com, Pt. 1\"], [\"A State Of Trance (ASOT 992) - ASOT Tune Of The Year 2020 voting now open: vote.astateoftrance.com, Pt. 3\"], [\"A State Of Trance (ASOT 991) - ASOT Tune Of The Year 2020 voting now open: vote.astateoftrance.com, Pt. 2\"], [\"A State Of Trance (ASOT 991) - ASOT Tune Of The Year 2020 voting now open: vote.astateoftrance.com, Pt. 1\"], [\"A State Of Trance (ASOT 991) - ASOT Tune Of The Year 2020 voting now open: vote.astateoftrance.com, Pt. 3\"], [\"Happy New Year 2012\"], [\"Happy New Year 2012 - Instrumental Mix\"], [\"The Epoch of Trance\"], [\"Enigma - Extended Mix\"], [\"Clock, Time of Live!\"], [\"Void\"], [\"Capacitor\"], [\"On The Board\"], [\"The First Step\"], [\"Fight For Your Dreams - Extended Mix\"], [\"Cult\"], [\"Listen\"], [\"Menjemput Impian - Live at Jakarta Convention Center, Plenary Hall, Senayan, 2013\"], [\"Raindrops - Misha Sinal Remix\"], [\"Spring Breathing\"], [\"2014: Year of Lady Gorilla\"], [\"12 Years a Slave (Jfl 2014)\"], [\"Year,2015\"], [\"Year,2015\"], [\"A State Of Trance (ASOT 996) - Tune Of The Year 2019 Top 3, Pt. 2\"], [\"A State Of Trance (ASOT 996) - Tune Of The Year 2019 Top 3, Pt. 1\"], [\"Last Drop\"], [\"Alright Alright\"], [\"Hook Me Up\"], [\"Get Home\"], [\"Personal Space\"], [\"Surely That's Enough\"], [\"Dribble Down\"], [\"Toy Boxing\"], [\"Walkingly\"], [\"Glassy\"], [\"Shared Darkness\"], [\"Gloom Unit - Demo\"], [\"If You Say So\"], [\"One Night In Bangkok - From \\u201cChess\\u201d / Remastered 2016\"], [\"New Year 2016\"], [\"Year 2008 - MSZ Remix\"], [\"Year,2015\"], [\"A State Of Trance (ASOT 996) - Tune Of The Year 2019 Top 3, Pt. 2\"], [\"A State Of Trance (ASOT 996) - Tune Of The Year 2019 Top 3, Pt. 1\"], [\"Ten Thousand Years\"], [\"Last Drop\"], [\"Alright Alright\"], [\"Hook Me Up\"], [\"Get Home\"], [\"Personal Space\"], [\"Surely That's Enough\"], [\"Dribble Down\"], [\"Toy Boxing\"], [\"Walkingly\"], [\"Shared Darkness\"], [\"If You Say So\"], [\"Glassy\"], [\"Gloom Unit - Demo\"], [\"A State Of Trance (ASOT 996) - Tune Of The Year 2019 Top 3, Pt. 2\"], [\"A State Of Trance (ASOT 996) - Tune Of The Year 2019 Top 3, Pt. 1\"], [\"The Music Played - 2019 Stereo Remix\"], [\"It's the Most Wonderful Time of the Year (Trap Remix)\"], [\"Ten Thousand Years\"], [\"Leap Year 9/14: Red Rocks - Live\"], [\"#tb \\uacfc\\uac70\\uc758 \\uc624\\ub298 - Remastered\"], [\"New Years Countdown - Live at Chase Center, San Francisco, CA, 12/31/2019\"], [\"Everybody's Talkin' - 2019 Stereo Remix\"], [\"In Between the Years - 2019 remaster\"], [\"Santa Maria - Live 2019\"], [\"Star Of The County Down - Live 2019\"], [\"Acid for Breakfast - Winter 2019 Demo\"], [\"Ten Years - 2019 Version\"], [\"Mood (feat. iann dior)\"], [\"Year 2020\"], [\"Good Days\"], [\"Dark Beyond the Blue - 2020\"], [\"positions\"], [\"Longest Year - 2020\"], [\"34+35\"], [\"A State Of Trance (ASOT 996) - A State Of Trance Tune Of The Year 2020\"], [\"Whoopty\"], [\"WITHOUT YOU\"], [\"A State Of Trance (ASOT 995) - ASOT Tune Of The Year 2020 voting now open: vote.astateoftrance.com, Pt. 1\"], [\"For The Night (feat. Lil Baby & DaBaby)\"], [\"Therefore I Am\"], [\"A State Of Trance (ASOT 995) - ASOT Tune Of The Year 2020 voting now open: vote.astateoftrance.com, Pt. 2\"], [\"What You Know Bout Love\"], [\"WAP (feat. Megan Thee Stallion)\"], [\"A State Of Trance (ASOT 995) - ASOT Tune Of The Year 2020 voting now open: vote.astateoftrance.com, Pt. 3\"], [\"Laugh Now Cry Later (feat. Lil Durk)\"], [\"HOLIDAY\"], [\"A State Of Trance (ASOT 995) - Tune Of The Year 2020 Special Episode, Pt. 1\"], [\"D\\u00c1KITI\"], [\"Body\"], [\"A State Of Trance (ASOT 994) - ASOT Tune Of The Year 2020 voting now open: vote.astateoftrance.com, Pt. 1\"], [\"Wishing Well\"], [\"ROCKSTAR (feat. Roddy Ricch)\"], [\"A State Of Trance (ASOT 994) - ASOT Tune Of The Year 2020 voting now open: vote.astateoftrance.com, Pt. 2\"], [\"Levitating (feat. DaBaby)\"], [\"Heather\"], [\"A State Of Trance (ASOT 994) - ASOT Tune Of The Year 2020 voting now open: vote.astateoftrance.com, Pt. 3\"], [\"willow\"], [\"you broke me first\"], [\"A State Of Trance (ASOT 993) - ASOT Tune Of The Year 2020 voting now open: vote.astateoftrance.com, Pt. 1\"], [\"Lemonade\"], [\"Reminds Me Of You\"], [\"A State Of Trance (ASOT 993) - ASOT Tune Of The Year 2020 voting now open: vote.astateoftrance.com, Pt. 2\"], [\"Hello (feat. A Boogie Wit da Hoodie)\"], [\"Lonely (with benny blanco)\"], [\"A State Of Trance (ASOT 995) - Tune Of The Year 2020 Special Episode, Pt. 2\"], [\"Come & Go (with Marshmello)\"], [\"Put Your Records On\"], [\"A State Of Trance (ASOT 992) - ASOT Tune Of The Year 2020 voting now open: vote.astateoftrance.com, Pt. 2\"], [\"my ex's best friend (with blackbear)\"], [\"Tyler Herro\"], [\"A State Of Trance (ASOT 992) - ASOT Tune Of The Year 2020 voting now open: vote.astateoftrance.com, Pt. 1\"], [\"Runnin\"], [\"WHATS POPPIN (feat. DaBaby, Tory Lanez & Lil Wayne) - Remix\"], [\"A State Of Trance (ASOT 992) - ASOT Tune Of The Year 2020 voting now open: vote.astateoftrance.com, Pt. 3\"], [\"champagne problems\"], [\"Monster (Shawn Mendes & Justin Bieber)\"], [\"A State Of Trance (ASOT 991) - ASOT Tune Of The Year 2020 voting now open: vote.astateoftrance.com, Pt. 2\"], [\"Martin & Gina\"], [\"LA NOCHE DE ANOCHE\"], [\"A State Of Trance (ASOT 991) - ASOT Tune Of The Year 2020 voting now open: vote.astateoftrance.com, Pt. 1\"], [\"Forever After All\"], [\"Cry Baby (feat. DaBaby)\"], [\"A State Of Trance (ASOT 991) - ASOT Tune Of The Year 2020 voting now open: vote.astateoftrance.com, Pt. 3\"], [\"Holy (feat. Chance The Rapper)\"], [\"Lemonade (feat. Gunna, Don Toliver & NAV)\"], [\"A State Of Trance (ASOT 990) - ASOT Tune Of The Year 2020 voting now open: vote.astateoftrance.com, Pt. 2\"], [\"Bang!\"], [\"PRACTICE\"], [\"A State Of Trance (ASOT 990) - ASOT Tune Of The Year 2020 voting now open: vote.astateoftrance.com, Pt. 1\"], [\"On Me\"], [\"pov\"], [\"A State Of Trance (ASOT 990) - ASOT Tune Of The Year 2020 voting now open: vote.astateoftrance.com, Pt. 3\"], [\"Tequila Shots\"], [\"Mr. Right Now (feat. Drake)\"], [\"Smile Year 2020 Pick up Line\"], [\"Somebody\\u2019s Problem\"], [\"E-GIRLS ARE RUINING MY LIFE!\"], [\"A State Of Trance (ASOT 989) - ASOT Tune Of The Year 2020 voting now open: vote.astateoftrance.com, Pt. 1\"], [\"death bed (coffee for your head)\"], [\"Daisy\"], [\"A State Of Trance (ASOT 989) - ASOT Tune Of The Year 2020 voting now open: vote.astateoftrance.com, Pt. 2\"], [\"Moonwalking in Calabasas (feat. Blueface) - Remix\"], [\"POPSTAR (feat. Drake)\"], [\"A State Of Trance (ASOT 989) - ASOT Tune Of The Year 2020 voting now open: vote.astateoftrance.com, Pt. 3\"], [\"Mood Swings (feat. Lil Tjay)\"], [\"Drankin N Smokin\"], [\"A State Of Trance (ASOT 988) - ASOT Tune Of The Year 2020 voting now open: vote.astateoftrance.com, Pt. 1\"], [\"Go Crazy\"], [\"GO (feat. Juice WRLD)\"], [\"A State Of Trance (ASOT 988) - ASOT Tune Of The Year 2020 voting now open: vote.astateoftrance.com, Pt. 2\"], [\"Dead Man Walking\"], [\"hot girl bummer\"], [\"A State Of Trance (ASOT 988) - ASOT Tune Of The Year 2020 voting now open: vote.astateoftrance.com, Pt. 3\"], [\"Life Goes On\"], [\"BICHOTA\"], [\"Righteous\"], [\"After Party\"], [\"Hate The Other Side (with Marshmello & The Kid Laroi)\"], [\"Dynamite\"], [\"21\"], [\"Afterglow\"], [\"Blueberry Faygo\"], [\"gold rush\"], [\"Be Like That - feat. Swae Lee & Khalid\"], [\"TE MUDASTE\"], [\"Wonder\"], [\"Godzilla (feat. Juice WRLD)\"], [\"Show Out (with Skepta & Pop Smoke)\"], [\"Hit Different\"], [\"We Paid (feat. 42 Dugg)\"], [\"July\"], [\"Took Her To The O\"], [\"SO DONE\"], [\"Errbody\"], [\"Haw\\u00e1i - Remix\"], [\"D\\u00c1KITI\"], [\"no body, no crime (feat. HAIM)\"], [\"7 Summers\"], [\"Prisoner (feat. Dua Lipa)\"], [\"Maniac\"], [\"\\u2018tis the damn season\"], [\"Life Is Good (feat. Drake)\"], [\"More Than My Hometown\"], [\"The Woo (feat. 50 Cent & Roddy Ricch)\"], [\"Way Out (feat. Big Sean)\"], [\"DOLLAZ ON MY HEAD (feat. Young Thug)\"], [\"Wolves (feat. Post Malone)\"], [\"PTSD\"], [\"Still Trappin' (with King Von)\"], [\"Your New Boyfriend\"], [\"Paradise (feat. Dermot Kennedy)\"], [\"ALWAYS DO\"], [\"THE SCOTTS\"], [\"tolerate it\"], [\"I Hope\"], [\"Spicy (feat. Post Malone)\"], [\"Take You Dancing\"], [\"Year 2020\"], [\"Longest Year - 2020\"], [\"Year,2015\"], [\"Poker Face\"], [\"2021\"], [\"New Year's With The Wife - Live On The Ed Sullivan Show, July 31, 1966\"], [\"Day 'N' Nite (Nightmare)\"], [\"2000000 Year Anniversary\"], [\"2000 Years Later (This Is Work)\"], [\"Christmas the Whole Year Round\"], [\"Year 3000\"], [\"2000 Years\"], [\"All The Things She Said\"], [\"I Gotta Feeling\"], [\"Lonely\"], [\"Years at My Fingertips (Coyote Hours 2015)\"], [\"Until the Day I Die\"], [\"Until the Day I Die\"], [\"2000 Light Years From Home - Remastered 2017 / Stereo\"], [\"Gotta Get Thru This - D'N'D Radio Edit\"], [\"Mercy\"], [\"Break Your Heart\"], [\"A Thousand Miles\"], [\"Stacy's Mom\"], [\"Dilemma\"], [\"This Love\"], [\"All The Small Things\"], [\"It Wasn't Me\"], [\"AM To PM\"], [\"Hollaback Girl\"], [\"Intro/Promiscuous\"], [\"Bulletproof\"], [\"Happy New Year\"], [\"Blinding Lights (Cardio + Running Workout Mix)\"], [\"Kings & Queens (Cardio + Running Workout Mix)\"], [\"Celebration - Single Version\"], [\"Bang! (Cardio + Running Workout Mix)\"], [\"Relax, Take It Easy\"], [\"Blurred Lines\"], [\"Breaking Me\"], [\"Holy (Cardio + Running Workout Mix)\"], [\"Holy (Cardio + Running Workout Mix)\"], [\"New Year's Swing Fling Jazz\"], [\"Happier\"], [\"It's Christmas, You Are 13 Years Old and Happy\"], [\"Wonder (Cardio + Running Workout Mix)\"], [\"Midnight Sky (Cardio + Running Workout Mix)\"], [\"Positions (Cardio + Running Workout Mix)\"], [\"Savage Love (Cardio + Running Workout Mix)\"], [\"Wake Me Up - Radio Edit\"], [\"2003\"], [\"Liquid Frequency 2003\"], [\"Radiant Vision 2003\"], [\"Last Year In Hawaii\"], [\"Sunny - Live at Buxton Opera House, 2004\"], [\"Another Cup of Coffee - Live at Buxton Opera House, 2004\"], [\"Don't Dream It's Over - Live at Liverpool Philharmonic Hall, 2004\"], [\"Dance to the Music - Live at Buxton Opera House, 2004\"], [\"Happy to See You Again - Live at Buxton Opera House, 2004\"], [\"Beggar on a Beach of Gold - Live at Liverpool Philharmonic Hall, 2004\"], [\"Simple Company\"], [\"The Distant Year 2005\"], [\"2005\"], [\"Earth Child (2005)\"], [\"Anthem 2005\"], [\"Telepathic Alienation 2005\"], [\"Neural Vertex 2005\"], [\"Niney Nine Years\"], [\"Hanging With Kevin in 2007 (Years Go On)\"], [\"2007\"], [\"It's The Most Wonderful Time Of The Year - Remastered 2007\"], [\"2007\"], [\"2008\"], [\"2008\"], [\"2009\"], [\"In a Year of Years\"], [\"Another Dream (2009)\"], [\"Born Free - From \\\"Born Free\\\" Soundtrack / Remastered 2010\"], [\"On Days Like These - Remastered 2010 / From \\\"The Italian Job\\\" Soundtrack\"], [\"Good Time\"], [\"Moves Like Jagger - Studio Recording From The Voice Performance\"], [\"Stay High - Habits Remix\"], [\"Counting Stars\"], [\"Dynamite\"], [\"Spectrum (Say My Name) - Calvin Harris Remix\"], [\"We Own The Night\"], [\"Burn\"], [\"a fiscal year 201011\"], [\"2010\"], [\"Simple Company\"], [\"2011\"], [\"Sunburn (2011)\"], [\"Winter II (2011)\"], [\"Starcrossed - 2011 - Remaster\"], [\"Hit the Dancefloor 2011\"], [\"What's Going On - Live in Holland, 2012\"], [\"Seduction 2012\"], [\"Symbols (Q-Base 2012 O.S.T.)\"], [\"Samsara\"], [\"Hold On To Me - Extended Mix\"], [\"All The Senses\"], [\"Myth & Legend - Rave Channel Remix\"], [\"Favorite Day of the Year\"], [\"Wake Me Up\"], [\"Mindreader\"], [\"Years at My Fingertips (Coyote Hours 2015)\"], [\"Dido Song on the Radio\"], [\"BEASTAR\"], [\"Cold As Christmas (In The Middle Of The Year) - Remastered 2016\"], [\"Copykat\"], [\"Diddy Kong + The Red Army\"], [\"Funniest Moments\"], [\"Vore\"], [\"IDWK\"], [\"Return 2 Dust\"], [\"I Wish\"], [\"Maybe Next Year - Live 2018\"], [\"Happy New Year Piano Instrumental\"], [\"Happy New Year & Christmas Celebration\"], [\"Drum Solo - Live 2019\"], [\"L - Remastered\"], [\"Sonorama \\uc18c\\ub178\\ub77c\\ub9c8\"], [\"Flex (feat. Juice WRLD)\"], [\"Chicago Freestyle (feat. Giveon)\"], [\"Goosebumps\"], [\"Adderall (Corvette Corvette) - Remix\"], [\"Still Goin Down\"], [\"Head & Heart (feat. MNEK)\"], [\"I Should Probably Go To Bed\"], [\"ivy\"], [\"100 Years Ago - 2020\"], [\"Roses - Imanbek Remix\"], [\"F*CK YOU, GOODBYE (feat. Machine Gun Kelly)\"], [\"The Voice (Mixed)\"], [\"happiness\"], [\"Beyond The Comfort Zone (Mixed)\"], [\"Stuck with U (with Justin Bieber)\"], [\"Illusion (Mixed)\"], [\"Real Shit (with benny blanco)\"], [\"One Love (Mixed)\"], [\"The Business\"], [\"Indian Summer - 2020 Encore Mix\"], [\"Conversations\"], [\"Everywhere I Go (Mixed)\"], [\"Savage Love (Laxed - Siren Beat)\"], [\"Welcome To Your Life (Mixed) - Jeremy Vancaulart Remix\"], [\"Livin\\u2019 The Dream\"], [\"Jupiter Boulevard (Mixed) - Taylor Torrence Remix\"], [\"cardigan\"], [\"Live For Tonight (Mixed)\"], [\"Got It On Me\"], [\"Yesterday (Mixed)\"], [\"Heartless (feat. Morgan Wallen)\"], [\"In My Head (Part II) [Mixed]\"], [\"UN DIA (ONE DAY) (Feat. Tainy)\"], [\"Seven Cities (Mixed) - Tom Staar Remix\"], [\"TRAGIC (feat. Youngboy Never Broke Again & Internet Money)\"], [\"Lost At Sea (Mixed)\"], [\"Remember That Night?\"], [\"One Another - 2020\"], [\"Suicidal (Remix) [feat. Juice WRLD]\"], [\"Blue Monday (Mixed)\"], [\"GREECE (feat. Drake)\"], [\"All On Me (Mixed)\"], [\"Dancing in My Room\"], [\"Punisher (Mixed)\"], [\"Be Kind (with Halsey)\"], [\"Water (Mixed)\"], [\"Deep End\"], [\"Dawn (Mixed)\"], [\"Myron\"], [\"Zuul (Mixed)\"], [\"Blueberry Faygo\"], [\"Tokyo (Mixed) - Fatum Remix\"], [\"Plastic Hearts\"], [\"Tarzan (Mixed)\"], [\"Smile (with The Weeknd)\"], [\"Walk Away (Mixed)\"], [\"...And To Those I Love, Thanks For Sticking Around\"], [\"Awakening (Mixed)\"], [\"long story short\"], [\"Come To Life (Mixed)\"], [\"Face Of My City (feat. Lil Baby)\"], [\"Lost Souls (Mixed) - AVIRA Remix\"], [\"exile (feat. Bon Iver)\"], [\"Cruel Sparks - 2020\"], [\"She Knows This\"], [\"Generation (Mixed)\"], [\"Way Out (feat. Big Sean)\"], [\"Animus Vox - 2020 Remaster\"], [\"Tap In\"], [\"Lonely, Some Quietly Wander in the Hall of Stars - 2020\"], [\"No Idea\"], [\"Reverie (Mixed) - Above & Beyond Club Mix\"], [\"coney island (feat. The National)\"], [\"In And Out Of Love (Mixed) - ilan Bluestone & Maor Levi Remix\"], [\"Party Girl\"], [\"What About Us (Mixed)\"], [\"GIRL LIKE ME\"], [\"No Warning Lights (Mixed) - ALPHA 9 Remix\"], [\"SO DONE\"], [\"Diving Out Of Love (Mixed)\"], [\"One Of Them Girls\"], [\"Everything Everything (Mixed)\"], [\"Element\"], [\"Mask (Mixed)\"], [\"forget me too (feat. Halsey)\"], [\"A State Of Trance Year Mix 2020 (Mixed) - Intro: What Is Out There?\"], [\"Heat Waves\"], [\"Say Hello (Mixed)\"], [\"You Got It\"], [\"Sankthansaften (Mixed)\"], [\"Rags2Riches 2 (feat. Lil Baby)\"], [\"It's the Most Wonderful Time of the Year (Trap Remix)\"], [\"Life's A Mess (feat. Halsey)\"], [\"Need You Now (Mixed)\"], [\"evermore (feat. Bon Iver)\"], [\"Between Two Points (feat. Swan) - 2020 Remaster\"], [\"dorothea\"], [\"Hollow (Mixed)\"], [\"Stay High\"], [\"After Tomorrow (Mixed)\"], [\"Blood On My Jeans\"], [\"Crossroads (Mixed)\"], [\"motive (with Doja Cat)\"], [\"If We Say Goodbye (Mixed)\"], [\"IDK You Yet\"], [\"Never Forgotten (Mixed)\"], [\"cowboy like me\"], [\"Heart Eyes (Mixed)\"], [\"Dynamite\"], [\"Sail (Mixed)\"], [\"Go Stupid\"], [\"Who Am I (Mixed)\"], [\"bloody valentine\"], [\"I Need You To Know (Mixed)\"], [\"the 1\"], [\"Punk (Mixed) - Tom Staar Remix\"], [\"HACIENDO QUE ME AMAS\"], [\"Bad Wings - 2020 Remaster\"], [\"Slay3r\"], [\"An der sch\\u00f6nen blauen Donau, Walzer, Op. 314\"], [\"Back In Blood (feat. Lil Durk)\"], [\"Let The Music Guide You (ASOT 950 Anthem) [Mixed] - Beatsole Remix\"], [\"Starting Over\"], [\"The Launch (Mixed)\"], [\"Savage Remix (feat. Beyonc\\u00e9)\"], [\"Could This Be (Mixed)\"], [\"Don't Need Friends (feat. Lil Baby)\"], [\"Go (Mixed)\"], [\"FRANCHISE (feat. Young Thug & M.I.A.)\"], [\"Sunrise Over The Bay (Mixed)\"], [\"R\\u00e4t\"], [\"Your Mind (Mixed)\"], [\"Love You Like I Used To\"], [\"Alive (Mixed)\"], [\"Relaci\\u00f3n - Remix\"], [\"You'll Be OK (Mixed)\"], [\"Dicked Down in Dallas\"], [\"Discopolis 2.0 (Mixed) - MEDUZA Remix\"], [\"Back to the Streets (feat. Jhen\\u00e9 Aiko)\"], [\"Fortune Days - 2020 Remaster\"], [\"Girls in the Hood\"], [\"Covered In Gold (Mixed) - PvD Extended Club Mix\"], [\"Angels Like You\"], [\"Our Moon (Mixed)\"], [\"Sky\"], [\"This I Vow (Mixed)\"], [\"BOOKER T\"], [\"Hypnotized (Mixed)\"], [\"Opp Stoppa\"], [\"Take Me Back (Mixed)\"], [\"marjorie\"], [\"Rooftops (Mixed) - Maarten de Jong Remix\"], [\"my future\"], [\"Mo Chara (Mixed)\"], [\"Safaera\"], [\"Drowning (Mixed)\"], [\"oops!\"], [\"Awakening (Mixed)\"], [\"3 Headed Goat (feat. Lil Baby & Polo G)\"], [\"Nothing Is Over (Mixed) - Roman Messer Remix\"], [\"Man Of The Year\"], [\"What Have I Got To Lose (Mixed)\"], [\"Heat Waves\"], [\"Our Journey (TFSFX Anthem) [Mixed]\"], [\"You\\u2019re Mines Still (feat. Drake)\"], [\"I Need Your Lovin' (Like The Sunshine) [Mixed]\"], [\"The Code (feat. Polo G)\"], [\"Dancing In The Dark (Mixed) - Alex M.O.R.P.H. Remix\"], [\"just like magic\"], [\"We Are The World (Mixed)\"], [\"Gnat\"], [\"Never Going Down (Mixed) - Richard Durand Remix\"], [\"Lose You To Love Me\"], [\"Oblivion (Mixed)\"], [\"That\\u2019s It\"], [\"Leonie (Mixed) - Beatsole Remix\"], [\"LIKE I WANT YOU\"], [\"This Year's Love - 2020 Remaster\"], [\"Adderall (Corvette Corvette)\"], [\"A Dream Within A Dream - 2020 Remaster\"], [\"Rain On Me (with Ariana Grande)\"], [\"How To Be Eaten By A Woman - 2020 Remaster\"], [\"At My Worst\"], [\"Drive It Like You Stole It - 2020 Remaster\"], [\"B.S. (feat. H.E.R.)\"], [\"A State Of Trance (ASOT 997) - ASOT Year Mix 2020 Intro\"], [\"Vamp Anthem\"], [\"My Remedy (Mixed)\"], [\"Throat Baby (Go Baby)\"], [\"All For Love (Mixed) - Giuseppe Ottaviani Remix\"], [\"La Nota\"], [\"A State Of Trance (ASOT 997) - Armin van Buuren Introducing ASOT Year Mix 2020\"], [\"Happy New Year\"], [\"Blinding Lights (Cardio + Running Workout Mix)\"], [\"Kings & Queens (Cardio + Running Workout Mix)\"], [\"Celebration - Single Version\"], [\"Bang! (Cardio + Running Workout Mix)\"], [\"Relax, Take It Easy\"], [\"Blurred Lines\"], [\"Breaking Me\"], [\"Holy (Cardio + Running Workout Mix)\"], [\"Holy (Cardio + Running Workout Mix)\"], [\"New Year's Swing Fling Jazz\"], [\"Happier\"], [\"It's Christmas, You Are 13 Years Old and Happy\"], [\"Wonder (Cardio + Running Workout Mix)\"], [\"Midnight Sky (Cardio + Running Workout Mix)\"], [\"Positions (Cardio + Running Workout Mix)\"], [\"Savage Love (Cardio + Running Workout Mix)\"], [\"Wake Me Up - Radio Edit\"], [\"Year 3000\"], [\"Year 3000\"], [\"What's Going On - Live in Holland, 2012\"], [\"Groovin' - Live at Cornbury Festival, 2019\"], [\"Half New Year\"], [\"Into the Mystic - Live at Royal Albert Hall, London, 2001\"], [\"Silent Running - Live at Shepherd's Bush Empire, London, 2000\"], [\"Eyes of Blue - Live at Shepherd's Bush Empire, London, 2000\"], [\"Love Will Keep Us Alive - Live at Shepherd's Bush Empire, London, 2000\"], [\"The Way I'm Feeling Tonight - Live at Shepherd's Bush Empire, London, 2000\"], [\"The Living Years - Live at Symphony Hall, Birmingham, 2017\"], [\"Mr. Brightside\"], [\"Grace Kelly\"], [\"The Tide Is High - Radio Mix\"], [\"Put Your Records On\"], [\"Smooth Criminal\"], [\"Swing, Swing\"], [\"Everybody's Changing\"], [\"Jai Ho! (You Are My Destiny)\"], [\"I Like The Way - Radio Edit\"], [\"Apologize\"], [\"Fergalicious\"], [\"Don't Cha\"], [\"I Don't Feel Like Dancin' - Radio Edit\"], [\"The Reason\"], [\"Push The Button\"], [\"Heading For - Radio Edit\"], [\"Flames Get Higher - Radio Edit\"], [\"What You Do - Single Version\"], [\"A New Cage - Radio Edit\"], [\"Love\"], [\"All Those City Lights - Radio Edit\"], [\"Since You're Gone - Edit\"], [\"Sunny - Live at Buxton Opera House, 2004\"], [\"Happy to See You Again - Live at Buxton Opera House, 2004\"], [\"Over My Shoulder - Live at Symphony Hall, Birmingham, 2017\"], [\"Don't Shed a Tear - Live at Bonn, Germany, 2005\"], [\"Beggar on a Beach of Gold - Live at Liverpool Philharmonic Hall, 2004\"], [\"Don't Dream It's Over - Live at Liverpool Philharmonic Hall, 2004\"], [\"How Long - Live at Symphony Hall, Birmingham, 2017\"], [\"Dance to the Music - Live at Buxton Opera House, 2004\"], [\"Too Good to Be True - Live at Symphony Hall, Birmingham, 2017\"], [\"When You Walk in the Room - Live at Bonn, Germany, 2005\"], [\"Another Cup of Coffee - Live at Buxton Opera House, 2004\"], [\"Let Me Love Again - Live at Preston Guild Hall, 2016\"], [\"If I Should Fall Behind - Live Acoustic Trio, 2018\"], [\"Tempted - Live at Symphony Hall, Birmingham, 2017\"], [\"Theme from the Immortal\"], [\"Life Would Be Different\"], [\"Lose Somebody (Cardio + Running Workout Mix)\"], [\"ily (i love you baby) Cardio + Running Workout Mix]\"], [\"Full Shuffle\"], [\"Fine Selection\"], [\"Midnight Performance\"], [\"Blue Steps\"], [\"Mellow Celebration\"], [\"Cool Night\"], [\"Star Melody\"], [\"Chicago Lounge\"], [\"Swing Lounge\"], [\"Positive Steppers\"], [\"Sneaky Moves\"], [\"Enjoy Dancing\"], [\"Swinging Wine Glass\"], [\"Don't Start Now (Cardio + Running Workout Mix)\"], [\"Breaking Me (Cardio + Running Workout Mix)\"], [\"Levitating (Cardio + Running Workout Mix)\"], [\"Watermelon Sugar (Cardio + Running Workout Mix)\"], [\"Dance Monkey (Cardio + Running Workout Mix)\"], [\"Come & Go (Cardio + Running Workout Mix)\"], [\"Stupid Love (Cardio + Running Workout Mix)\"], [\"Be Like That (Cardio + Running Workout Mix)\"], [\"Happy New Year 2021 Dj Song\"], [\"2021 Might Have to Be My Year\"], [\"Heather\"], [\"Wake Me Up - Radio Edit\"], [\"All Swinging Vibes\"], [\"\\u541b\\u306e\\u77e5\\u3089\\u306a\\u3044\\u4e16\\u754c\\u3078\"], [\"7 Years\"], [\"Sunflower (Cardio + Running Workout Mix)\"], [\"7 Years\"], [\"Only Human (Cardio + Running Workout Mix)\"], [\"Dancing with a Stranger (Cardio + Running Workout Mix)\"], [\"Bad Guy (Cardio + Running Workout Mix)\"], [\"I Love Me (Cardio + Running Workout Mix)\"], [\"Beautiful People (Cardio + Running Workout Mix)\"], [\"Never Really Over (Cardio + Running Workout Mix)\"], [\"Take What You Want (Cardio + Running Workout Mix)\"], [\"One Thing Right (Cardio + Running Workout Mix)\"], [\"Lighter (Cardio + Running Workout Mix)\"], [\"Shallow (Cardio + Running Workout Mix)\"], [\"Circles (Cardio + Running Workout Mix)\"], [\"Here With Me (Cardio + Running Workout Mix)\"], [\"Say So (Cardio + Running Workout Mix)\"], [\"RITMO (Bad Boys For Life) [Cardio + Running Workout Mix]\"], [\"Tusa (Cardio + Running Workout Mix)\"], [\"Hope For The New Year\"], [\"Sugar\"], [\"Pursuit Of Happiness - Extended Steve Aoki Remix (Explicit)\"], [\"I Took A Pill In Ibiza - Seeb Remix\"], [\"Come On Eileen\"], [\"Let Me Go\"], [\"I Gotta Feeling\"], [\"Safe And Sound\"], [\"Bad Romance\"], [\"My People\"], [\"Dynamite\"], [\"Dance (A$$)\"], [\"Kali Katha Sabu Jaa Re Bhuli\"], [\"Move\"], [\"Dog Days Are Over\"], [\"On Top Of The World\"], [\"We Run The Night\"], [\"2020\\u5e74\\u30d0\\u30fc\\u30c1\\u30e3\\u30eb\\u5e74\\u8d8a\\u3057ASMR RADIO[\\u6642\\u9593\\u5408\\u308f\\u305b12\\u670831\\u65e523\\u664229\\u520643\\u79d2\\u304b\\u3089]\"], [\"Kachcha Papad Pakka Papad\"], [\"Old Town Road (Cardio + Running Workout Mix)\"], [\"10,000 Hours (Cardio + Running Workout Mix)\"], [\"Rescue (Cardio + Running Workout Mix)\"], [\"Sucker (Cardio + Running Workout Mix)\"], [\"Teeth (Cardio + Running Workout Mix)\"], [\"2004\"], [\"The Trial (2004)\"], [\"Part 5 (1989 - 2004)\"], [\"Part 6 (2004 - 2018)\"], [\"Dead and Buried [Demo 2004]\"], [\"Empty Years\"], [\"This Year\"], [\"It's 2014, the Past Six Years of Your Life Were a Dream (2005 Remix)\"], [\"Anthem 2005 - Radio Edit\"], [\"Year of the Bat\"], [\"New Year\"], [\"12 Years Down the Drain\"], [\"Ten Years in the Arctic\"], [\"first dream of New Year\"], [\"Inspire Me - Live at Bonn, Germany, 2005\"], [\"Sniffing About - Live at Bonn, Germany, 2005\"], [\"2006\"], [\"Serious - 2006\"], [\"Glam Circ\\u00fcs - 2006\"], [\"A Reckoning (2006)\"], [\"Pepperoni Live 2006\"], [\"Waves of Oblivion (2006)\"], [\"Loco Live 2006 Milwookis Fest\"], [\"Coming Back to Haunt You [Demo 2006]\"], [\"The Lone Soldier (2007)\"], [\"Gallowhill - Live at The Bongo Club, Edinburgh, 2007\"], [\"Four Years to Be an Artist - Live\"], [\"The Power of the Mind (Qlimax Anthem 2007) - Modern Science Mix\"], [\"Infinity 2008\"], [\"Back to 2008\"], [\"Back to 2008\"], [\"T Rex - 2008 - Remaster\"], [\"A Rose in Time (2008)\"], [\"Last Four Years\"], [\"Once a Year\"], [\"Nano Water 2009 - Nano Age Version\"], [\"Esclave En 2010\"], [\"Kiss That Kills (2010)\"], [\"Surrender To Love (2010)\"], [\"Spanish Eyes - Remastered 2010\"], [\"Revival (Demo EP 2010)\"], [\"Wednesday's Child - Remastered 2010\"], [\"5 years\"], [\"Revolution No 2010 (refinished 2020)\"], [\"For Years - Remastered\"], [\"2010 Music Odyssey (refinished 2020)\"], [\"Nano Water 2010 - Nano Life Version\"], [\"Three Years\"], [\"New Year\"], [\"Wisdom Gate - Exciting Mix Reloaded 2010\"], [\"Honey On The Vine - Remastered 2010\"], [\"The Same Things (Demo EP 2010)\"], [\"Into The Sunlight (2011)\"], [\"Epic Fail (Single 2011)\"], [\"Sun 2011 - Extended Mix\"], [\"It Must Be Christmas - 2011\"], [\"Return Of White Rabbit - 2011 - Remaster\"], [\"'Til the End of the Days - 2011\"], [\"Leith Walk - Dallonte & Tali Muss Remix\"], [\"Vision\"], [\"Forgive\"], [\"Deep Power\"], [\"Thirty Years Ago - Live 2013\"], [\"New Years Eve 2013 - Original Mix\"], [\"Tell Me\"], [\"The Great Divine\"], [\"Shame\"], [\"Running On Empty\"], [\"Nightmare\"], [\"2015 Year Old Man - Digitally Remastered\"], [\"Pain - Extended Version\"], [\"Away\"], [\"No Guts No Glory - Defqon.1 Anthem 2015\"], [\"Solitary Nights\"], [\"Wanna B\"], [\"Let Me Love Again - Live at Preston Guild Hall, 2016\"], [\"2000 Light Years From Home - Remastered 2017 / Stereo\"], [\"The Living Years - Live at Symphony Hall, Birmingham, 2017\"], [\"A State Of Trance (ASOT 987) - ASOT Tune Of The Year 2019 Top 3, Pt. 2\"], [\"A State Of Trance (ASOT 987) - ASOT Tune Of The Year 2019 Top 3, Pt. 1\"], [\"2019 the Year Phunk Broke\"], [\"Camellia Flower \\ub3d9\\ubc31\\uaf43 - Remastered\"], [\"Intro (The Thousand Year Door) - Live in der Columbiahalle Berlin, 09.11.2019\"], [\"Groovin' - Live at Cornbury Festival, 2019\"], [\"Straight Pride\"], [\"Kung Fu - 2019 - Remaster\"], [\"Broke In A Minute\"], [\"Wasteland (with James Dymond) [Mixed]\"], [\"Good News\"], [\"What Makes You Feel Alive (Mixed)\"], [\"Yo Perreo Sola\"], [\"EveryWhen - Bonus Track\"], [\"YO VISTO AS\\u00cd\"], [\"2020: A Year to Remember\"], [\"Si Veo a Tu Mam\\u00e1\"], [\"Fistful of Silence - 2020 Remaster\"], [\"Clouded\"], [\"The Phoenix (FSOE 650 Anthem) [Mixed]\"], [\"Diva (feat. Lil Tecca)\"], [\"Bravo (Mixed)\"], [\"P2\"], [\"We Swarm - 2020 Remaster\"], [\"Losses\"], [\"Daring To Love (Mixed)\"], [\"Kings & Queens\"], [\"I Believe (Mixed)\"], [\"Another Day\"], [\"A State Of Trance Year Mix 2020 (Mixed) - Road To 1000 - Outro\"], [\"24 (feat. Lil Baby)\"], [\"Silent Waves (Mixed) - Vinny DeGeorge Remix\"], [\"Walk Em Down (feat. Roddy Ricch)\"], [\"Time Machine (Mixed)\"], [\"What A Man Gotta Do\"], [\"Another You (Mixed)\"], [\"Pussy Talk\"], [\"Walk Through Walls (Mixed) - Markus Schulz Remix\"], [\"Levitating (feat. DaBaby)\"], [\"One Last Time (Mixed) - Roman Messer Remix\"], [\"Midnight Sky\"], [\"Stars Collide (Mixed)\"], [\"Coco (feat. DaBaby)\"], [\"A Thousand Years\"], [\"Boss Bitch\"], [\"Somebody Loves You (Mixed)\"], [\"closure\"], [\"Till We Meet Again (Mixed)\"], [\"Bad Energy\"], [\"The Sound Of Letting Go (Tribute To Yotam) [Mixed]\"], [\"Toosie Slide\"], [\"Wanderlust (Mixed) - Eugenio Tokarev Remix\"], [\"Miss YOU!\"], [\"Fallen (Mixed) - Richard Durand Remix\"], [\"Rich Nigga Shit (feat. Young Thug)\"], [\"Starve The Ego, Feed The Soul - 2020 Remaster\"], [\"Stay Next To Me (with Chelsea Cutler)\"], [\"Waiting On The Other Side (Mixed) - Club Mix\"], [\"Tell Me U Luv Me (with Trippie Redd)\"], [\"Lit This Year\"], [\"Sensitive\"], [\"Skyline (Mixed)\"], [\"You should be sad\"], [\"Close My Eyes (Mixed)\"], [\"Epidemic\"], [\"Splice (Mixed)\"], [\"Monsters (feat. blackbear)\"], [\"Telescope (Mixed)\"], [\"Intentions (feat. Quavo)\"], [\"Only A Heartbeat Away (Mixed)\"], [\"GOSHA\"], [\"Winter Night on New Years Eve\"], [\"Mood (Remix) feat. Justin Bieber, J Balvin & iann dior\"], [\"Downfall (Mixed)\"], [\"C\\u00d3MO SE SIENTE - Remix\"], [\"Still Alive (Mixed)\"], [\"Blue & Grey\"], [\"Don't Give Up (Mixed) - Giuseppe Ottaviani Remix\"], [\"How You Like That\"], [\"Morpheus (Mixed)\"], [\"The Bigger Picture\"], [\"The Phuture (Mixed)\"], [\"Almost Maybes\"], [\"2020 (Sexy Miami Tech House Party Crossfit Workout Hits DJ Club Remix)\"], [\"Onna Come Up\"], [\"The Legacy (Mixed) - ReOrder Remix\"], [\"Up Up And Away\"], [\"\\u30d5\\u30e9\\u30c3\\u30b7\\u30e5\\u30d0\\u30c3\\u30af\\u30e2\\u30fc\\u30cb\\u30f3\\u30b0\\u30a2\\u30d5\\u30bf\\u30fc - 2020\"], [\"Selfish\"], [\"A State Of Trance (ASOT 995) - A State Of Trance Year Mix 2020\"], [\"GOOD TIME\"], [\"A State Of Trance (ASOT 996) - Previous Tunes Of The Year, Pt. 2\"], [\"Borderline\"], [\"A State Of Trance (ASOT 996) - Previous Tunes Of The Year, Pt. 1\"], [\"Heartless (feat. Mustard)\"], [\"It\\u2019s Been A Year\"], [\"Happy Anywhere (feat. Gwen Stefani)\"], [\"VIII. yearning\"], [\"nasty\"], [\"A State Of Trance (ASOT 996) - ASOT Year Mix 2020 Contest\"], [\"Hell Of A View\"], [\"A State Of Trance (ASOT 996) - We Wish You A Merry Christmas And A Happy New Year\"], [\"willow\"], [\"A State Of Trance (ASOT 997) - ASOT Year Mix 2020 Outro\"], [\"Die Very Rough\"], [\"CHANDELIER\"], [\"Prisoner (feat. Dua Lipa)\"], [\"A State Of Trance (ASOT 996) - Armin's Highlight Of The Year\"], [\"Titanic\"], [\"A State Of Trance (ASOT 994) - A State Of Trance Year Mix 2020 Contest\"], [\"Costa Rica (feat. The Kid LAROI) - Remix\"], [\"Mateluna 2020\"], [\"Josslyn\"], [\"400 Years\"], [\"Paparazzi\"], [\"The Blackest Years - 2020 Remaster\"], [\"Potential Breakup Song\"], [\"A State Of Trance (ASOT 996) - Last Show Of The Year\"], [\"Me and My Guitar\"], [\"DJ's Party on Sunset Boulevard Living the Hollywood Life (Electronic Dance Music Festival Hits Remix)\"], [\"Take It To Trial (feat. Yak Gotti)\"], [\"NY Lipps - Dries Van Noten 2020 Remix\"], [\"Broken\"], [\"More Love, Techno, & Rave DJ (Amsterdam Electronic Dance Music Festival Hits Radio Version)\"], [\"safety net (feat. Ty Dolla $ign)\"], [\"Feeling It Feel It DJ (Jakarta Electronic Dance Music Festival Hits Remix)\"], [\"One Too Many\"], [\"Reach in the Sky DJ (Favorite Progressive House EDM Crossfit Workout Hits DJ Club Remix)\"], [\"Intentions\"], [\"Drop the Bass DJ (Melbourne Bounce Shuffle Cutting Shapes Hits Remix)\"], [\"Emotionally Scarred\"], [\"The Sign (NYC Deep House Party Crossfit Workout Hits DJ Club Remix)\"], [\"TELL ME WHY\"], [\"Gravity Pulls Us Together Djs (Usa Deep House Party Crossfit Workout Hits DJ Club Remix)\"], [\"Captain Hook\"], [\"Tell Me You Want Me DJ (Ktown Electronic Dance Music Festival DJ Hits Remix)\"], [\"white tee\"], [\"Welcome to Los Angeles (Electronic Dance Music Festival DJ Hits Remix)\"], [\"Savage\"], [\"After Party DJ (UK Progressive Trance Edm Gym Workout Hits Remix)\"], [\"Ay, DiOs M\\u00edo!\"], [\"Rise Together DJ (Las Vegas Electronic Dance Music Festival Edm Hits Radio Version)\"], [\"Mad at Disney\"], [\"Take Me Higher to Tomorrowland DJ (Electronic Dance Music Festival EDM Hits Club Remix)\"], [\"New N3on\"], [\"Exchange of Love (Los Angeles Late Night Dance Party EDM DJ Hits Club Remix)\"], [\"Moon & Stars (feat. Maggie Lindemann)\"], [\"A State Of Trance (ASOT 997) - Intro\"], [\"Glock In My Lap\"], [\"A State Of Trance (ASOT 996) - Tune Of The Year Top 10\"], [\"Violent\"], [\"At That Point In Time - Mixed\"], [\"ILoveUIHateU\"], [\"Nothing Lasts (Mixed) - Progressive Mix\"], [\"WRONG (feat. Lil Mosey)\"], [\"A State Of Trance (ASOT 996) - Special Video Year Mix\"], [\"off the table (with The Weeknd)\"], [\"I Have a Dream (Deep House Dance Party Remix)\"], [\"HOY COBR\\u00c9\"], [\"Can't Stop This Feeling (Deep House Dance Party Remix)\"], [\"What\\u2019s Your Country Song\"], [\"Light It Up (Chill Electronic Music Remix)\"], [\"Break My Heart\"], [\"Oh Baby Baby (Electronic Dance Party Remix)\"], [\"Rags2Riches (feat. ATR Son Son)\"], [\"Feel Love in the Music (Chill Electronic Music Remix)\"], [\"Don't Start Now\"], [\"A State Of Trance (ASOT 996) - Tune Of The Year 2019 Top 3, Pt. 2\"], [\"Tommy Lee (feat. Post Malone)\"], [\"Can We Take This to the Next Level (Fitness Workout Music Remix)\"], [\"La Santa\"], [\"One More Time Hands up Hollywood (Electronic Dance Party Remix)\"], [\"Fuck The World (Summer in London)\"], [\"Lose My Defenses (Yoga & Pilates Chill Electronic Music Remix)\"], [\"Blastoff (feat. Juice Wrld & Trippie Redd)\"], [\"Follow Me (Chill Electronic Music Remix)\"], [\"pov\"], [\"I Just Want You Baby (Chill Electronic Music Remix)\"], [\"La Dif\\u00edcil\"], [\"Thinking About You (Chill Deep House Remix)\"], [\"august\"], [\"All My Life (Chill Electronic Music Remix)\"], [\"Backyard Boy\"], [\"Baby You're One of a Kind (Chill Electronic Music Remix)\"], [\"You Should Probably Leave\"], [\"I Can Feel the Love from You (Deep House Dance Party Remix)\"], [\"Dive\"], [\"Paradise Like Islands in the Sky (Deep House Dance Party Remix)\"], [\"Heart Of Glass (Live from the iHeart Festival)\"], [\"Two Hearts All In (Deep House Dance Party Remix)\"], [\"Know Your Worth\"], [\"Let's Play (Deep House Dance Party Remix)\"], [\"Without You\"], [\"The DJ Played My Favorite Song (Deep House Dance Party Remix)\"], [\"BEST INTEREST\"], [\"My Body Is so into You (Deep House Dance Party Remix)\"], [\"Single Saturday Night\"], [\"A State Of Trance (ASOT 996) - Tune Of The Year 2019 Top 3, Pt. 1\"], [\"Una Locura\"], [\"A State Of Trance (ASOT 993) - Pre-Order: A State Of Trance Year Mix 2020\"], [\"Space Girl\"], [\"Worst Year of My Life (2020)\"], [\"Con Tus Besos\"], [\"Famous Friends\"], [\"Holding On\"], [\"It's the Most Wonderful Time of the Year\"], [\"Lose Somebody (Cardio + Running Workout Mix)\"], [\"ily (i love you baby) Cardio + Running Workout Mix]\"], [\"Full Shuffle\"], [\"Fine Selection\"], [\"Midnight Performance\"], [\"Blue Steps\"], [\"Mellow Celebration\"], [\"Cool Night\"], [\"Star Melody\"], [\"Shallow (Cardio + Running Workout Mix)\"], [\"Circles (Cardio + Running Workout Mix)\"], [\"Here With Me (Cardio + Running Workout Mix)\"], [\"Say So (Cardio + Running Workout Mix)\"], [\"RITMO (Bad Boys For Life) [Cardio + Running Workout Mix]\"], [\"Tusa (Cardio + Running Workout Mix)\"], [\"Hope For The New Year\"], [\"Sugar\"], [\"Pursuit Of Happiness - Extended Steve Aoki Remix (Explicit)\"], [\"I Took A Pill In Ibiza - Seeb Remix\"], [\"Come On Eileen\"], [\"Let Me Go\"], [\"I Gotta Feeling\"], [\"Safe And Sound\"], [\"Bad Romance\"], [\"My People\"], [\"Dynamite\"], [\"Kali Katha Sabu Jaa Re Bhuli\"], [\"Dance (A$$)\"], [\"On Top Of The World\"], [\"Move\"], [\"Dog Days Are Over\"], [\"We Run The Night\"], [\"2020\\u5e74\\u30d0\\u30fc\\u30c1\\u30e3\\u30eb\\u5e74\\u8d8a\\u3057ASMR RADIO[\\u6642\\u9593\\u5408\\u308f\\u305b12\\u670831\\u65e523\\u664229\\u520643\\u79d2\\u304b\\u3089]\"], [\"Kachcha Papad Pakka Papad\"], [\"Old Town Road (Cardio + Running Workout Mix)\"], [\"10,000 Hours (Cardio + Running Workout Mix)\"], [\"Rescue (Cardio + Running Workout Mix)\"], [\"Sucker (Cardio + Running Workout Mix)\"], [\"Teeth (Cardio + Running Workout Mix)\"], [\"2000 Years\"], [\"2000 Years\"], [\"2000 Years\"], [\"Year 2000\"], [\"2000 Years\"], [\"2000 Years\"], [\"2000 Years\"], [\"2000 Years\"], [\"Year 2000\"], [\"2000 Years\"], [\"2000 Years\"], [\"Year 2000\"], [\"2000 Years\"], [\"2000 Years\"], [\"2000 Years\"], [\"Radio\\u043f\\u0440\\u0438\\u0435\\u043c\\u043d\\u0438\\u043a - Year 2000\"], [\"2000 Years Ago\"], [\"20000 Years After\"], [\"10,000 Hours (Cardio + Running Workout Mix)\"], [\"Rescue (Cardio + Running Workout Mix)\"], [\"Lose You to Love Me (Cardio + Running Workout Mix)\"], [\"Stressed Out (Cardio + Running Workout Mix)\"], [\"How Do You Sleep? (Cardio + Running Workout Mix)\"], [\"High Hopes (Cardio + Running Workout Mix)\"], [\"I'm Ready (Cardio + Running Workout Mix)\"], [\"Taki Taki (Cardio + Running Workout Mix)\"], [\"Raising Hell (Cardio + Running Workout Mix)\"], [\"Lights Up (Cardio + Running Workout Mix)\"], [\"Senorita (Cardio + Running Workout Mix)\"], [\"Despacito (Cardio + Running Workout Mix)\"], [\"Good as Hell (Cardio + Running Workout Mix)\"], [\"The Champion (Cardio + Running Workout Mix)\"], [\"Love Me Anyway (Cardio + Running Workout Mix)\"], [\"Rewrite the Stars (Cardio + Running Workout Mix)\"], [\"Better Now (Cardio + Running Workout Mix)\"], [\"Love Yourself (Cardio + Running Workout Mix)\"], [\"Hymn for the Weekend (Cardio + Running Workout Mix)\"], [\"Truth Hurts (Cardio + Running Workout Mix)\"], [\"Million Reasons (Cardio + Running Workout Mix)\"], [\"Someone You Loved (Cardio + Running Workout Mix)\"], [\"Photograph (Cardio + Running Workout Mix)\"], [\"This is Me (Cardio + Running Workout Mix)\"], [\"High on Life (Cardio + Running Workout Mix)\"], [\"Photograph (Cardio + Running Workout Mix)\"], [\"Heartless (Cardio + Running Workout Mix)\"], [\"ME! (Cardio + Running Workout Mix)\"], [\"Alone (Cardio + Running Workout Mix)\"], [\"Good Things Fall Apart (Running Mix)\"], [\"The Middle (Cardio + Running Workout Mix)\"], [\"Something Just Like This (Cardio + Running Workout Mix)\"], [\"Electricity (Cardio + Running Workout Mix)\"], [\"You Need to Calm Down (Cardio + Running Workout Mix)\"], [\"Lover (Cardio + Running Workout Mix)\"], [\"Natural (Cardio + Running Workout Mix)\"], [\"You Say (Cardio + Running Workout Mix)\"], [\"Shape of You (Cardio + Running Workout Mix)\"], [\"Thunder (Cardio + Running Workout Mix)\"], [\"Timber (Cardio + Running Workout Mix)\"], [\"My House (Cardio + Running Workout Mix)\"], [\"I Don't Care (Cardio + Running Workout Mix)\"], [\"Sour Candy (Cardio + Running Workout Mix)\"], [\"Youngblood (Cardio + Running Workout Mix)\"], [\"Bad Liar (Cardio + Running Workout Mix)\"], [\"Maps (Cardio + Running Workout Mix)\"], [\"Without Me (Cardio + Running Workout Mix)\"], [\"Secrets (Cardio + Running Workout Mix)\"], [\"Never Be the Same (Cardio + Running Workout Mix)\"], [\"Ex\\u2019s & Oh\\u2019s (Cardio + Running Workout Mix)\"], [\"CAN'T STOP THE FEELING (Cardio + Running Workout Mix)\"], [\"Uptown Funk (Cardio + Running Workout Mix)\"], [\"24K Magic (Cardio + Running Workout Mix)\"], [\"The Git Up (Cardio + Running Workout Mix)\"], [\"Workin' On It (Cardio + Running Workout Mix)\"], [\"Juice (Cardio + Running Workout Mix)\"], [\"Happier (Cardio + Running Workout Mix)\"], [\"Radioactive (Cardio + Running Workout Mix)\"], [\"Paradise\"], [\"This Year (2021)\"], [\"New Years 2021\"], [\"New Year 2021\"], [\"New Year 2021\"], [\"Happy Year 2021\"], [\"2021 My Year\"], [\"2021 New Year\"], [\"2021 (Graduation Year)\"], [\"New Years 2021 intro\"], [\"2021 New Year Bounce\"], [\"Happy New Year 2021\"], [\"Happy New Year 2021\"], [\"Rocking New Year 2021\"], [\"Happy New (2021) Year\"], [\"2021 Is My Year\"], [\"New Year Collection 2021\"], [\"\\u10dc\\u10d0\\u10db\\u10d4\\u10e2\\u10d0\\u10dc\\u10d8\\u10d0 (Zoommer New Year 2021)\"], [\"New Years Eve 2021 Countdown\"], [\"Bad Christmas (New Year 2021)\"], [\"Happy New Year 2021 (Fireworks)\"], [\"A Good Year\"], [\"Years Ago\"], [\"SEA WAS THE BIGGEST (2004)\"], [\"\\u304f\\u3061\\u3076\\u3048 (feat. \\u30a6\\u30a7\\u30a4\\u30a6\\u30a7\\u30a4\\u30fb\\u30a6\\u30fc) - Live at ROOTS OF THE MUSIC 2004, \\u6e6f\\u5cf6\\u8056\\u5802, 2004.9.26, 2020 Remaster\"], [\"My Kind - Live at Buxton Opera House, 2004\"], [\"One Small Step - Live at Buxton Opera House, 2004\"], [\"Never Too Late - Live at Buxton Opera House, 2004\"], [\"A 15 Year Old's Letters to Nick Endo\"], [\"No Easy Way Out - Live at Bonn, Germany, 2005\"], [\"Harvest for the World - Live at Bonn, Germany, 2005\"], [\"A 15 Year Old's Letters to Nick Endo (Acoustic)\"], [\"Where Did I Go Wrong - Live at Bonn, Germany, 2005\"], [\"Dresden, den 15.05.2005 - Mixed\"], [\"We Don't Care Anymore\"], [\"Friday Night Song\"], [\"Brand New Day\"], [\"Rollercoaster\"], [\"Chopper\"], [\"ZZ\"], [\"One Eye Opened\"], [\"The Answer\"], [\"Mexico\"], [\"Something About the Waiting\"], [\"End of Summer\"], [\"Say Goodbye\"], [\"Hard Year\"], [\"Five Years Ahead Of My Time\"], [\"Remember in 2006 When It Was Fashionable to Have the Longest Song Names You Could Think Of, Literally Like a Short Story\"], [\"Come Back Anytime\"], [\"Under the Radar\"], [\"Everytime This Happens\"], [\"Hey, That's No Way to Say Goodbye\"], [\"Regret Is All\"], [\"Moving On\"], [\"Elijah's Lullaby\"], [\"Sunlight Shines Through Me\"], [\"Way Gone By\"], [\"Lifetime of Deception\"], [\"Repeat My Fate\"], [\"Exactly (Paul Miller 2008 Rework) - Mixed\"], [\"Not New Year's History\"], [\"All That You Were (Demo EP 2010)\"], [\"Changing Seasons (Main 2010 Instrumental Mix)\"], [\"Don't Answer Me (Ti Vedo Uscire) - Remastered 2010\"], [\"14 Hormonal Years - Ginola Remix\"], [\"New Year's Eve - Live\"], [\"Five Years Ahead Of My Time\"], [\"On A Clear Day You Can See Forever - Remastered 2010\"], [\"Good Year to Be on Top\"], [\"Thirty Days, Sixty Years (Live)\"], [\"A Thousand Years\"], [\"Happy New Year (Kicking Ass!)\"], [\"Follow Me (Ultrasoni'K 2011 Tech It Up Vox Mix)\"], [\"2012\"], [\"2012\"], [\"2012\"], [\"Beautiful Mind (2012)\"], [\"Supernal - 2012 Re-Edit\"], [\"Late Nights in Horto, 2012\"], [\"2013\"], [\"Superhot (2013)\"], [\"Memories Misconstrued (2013)\"], [\"Mother Earth (2013)\"], [\"We Grind Everyday 2013\"], [\"Yearning\"], [\"Shitty Blues (Fall 2013)\"], [\"2014-2016 Best Years\"], [\"2014 Was a Gooddd Year\"], [\"You Know That I Need You\"], [\"Who Will Die For Us\"], [\"It's So Sexy\"], [\"My Life\"], [\"Peponi - Jewel Dance Radio Remix\"], [\"Polarity\"], [\"The girl on that merry-go-round looks all too sad\"], [\"2016 Years\"], [\"Chinese New Year 2016 \\u2013 Year of Monkey\"], [\"2014-2016 Best Years\"], [\"The Year Was 2016\"], [\"Tempted - Live at Symphony Hall, Birmingham, 2017\"], [\"Itami - Live at Cafe Oto, June 11/09/2017\"], [\"How Long - Live at Symphony Hall, Birmingham, 2017\"], [\"Over My Shoulder - Live at Symphony Hall, Birmingham, 2017\"], [\"Too Good to Be True - Live at Symphony Hall, Birmingham, 2017\"], [\"Wake Me Up\"], [\"If I Should Fall Behind - Live Acoustic Trio, 2018\"], [\"Tell Me\"], [\"The Great Divine\"], [\"Nightmare\"], [\"Shame\"], [\"Running On Empty\"], [\"Crash (CC652)\"], [\"Freefall (CC652) - DIM3NSION Remix\"], [\"Run (CC652)\"], [\"Fell In Love With An Alien - Live 2019\"], [\"A Trip Down the Highway - Summer 2019 Demo\"], [\"Three Years Gone- Caroline Daisy - Live\"], [\"Carry On (FYHYM2019) - Myon Return To 95 Remix\"], [\"Losing Game \\ub354 \\uc88b\\uc544\\ud55c \\ub0b4\\uac00 \\uc9c4 \\uac70\\uc57c - Remastered\"], [\"I Hate You - Remastered\"], [\"Murky Time\"], [\"You Are No Good \\ub10c \\ub0b4\\uac8c \\ubaa8\\uc695\\uc744 \\uc92c\\uc5b4\"], [\"Knightvision (CC652)\"], [\"Amber Sun (CC652)\"], [\"Carpe Noctum (CC652) - Mark Sherry Remix\"], [\"Racing Against Time (CC652) - Ferry Corsten Edit\"], [\"Come With Me (CC652)\"], [\"Helsinki Scorchin' (CC652)\"], [\"Galaxia (CC652)\"], [\"Horizon Dawn (CC652)\"], [\"Panama (CC652)\"], [\"Hate Crime\"], [\"Surga (CC652)\"], [\"Tokyo (CC652)\"], [\"I Am You (CC652)\"], [\"Memento (CC652)\"], [\"Blue Deck (CC652)\"], [\"Another Angel (CC652)\"], [\"Budapest (CC652)\"], [\"Corsten's Countdown 652 Intro\"], [\"Santa Monica (CC652)\"], [\"Lunar Lander (CC652)\"], [\"Parallel Dimension (CC652)\"], [\"Homeward (CC652)\"], [\"Let Me In M'lady\"], [\"Hear It Now (CC652) - Ferry\\u2019s Fix\"], [\"4 Thangs (feat. Big Sean & Hit-Boy)\"], [\"Gavotte\"], [\"Mean\"], [\"You'll Be OK\"], [\"TE DESEO LO MEJOR\"], [\"Lost At Sea\"], [\"M3tamorphosis (feat. Kid Cudi)\"], [\"La Curiosidad\"], [\"A State Of Trance (ASOT 992) - Pre-Order: A State Of Trance Year Mix 2020, Pt. 1\"], [\"Hecha Pa' Mi\"], [\"Eyes Blue Like The Atlantic (feat. Subvrbs)\"], [\"Breathe\"], [\"Place\"], [\"A State Of Trance (ASOT 992) - Pre-Order: A State Of Trance Year Mix 2020, Pt. 2\"], [\"Solo Dolo, Pt. III\"], [\"Can't Die\"], [\"sometimes it\\u2019s scary\\u2026but it\\u2019s still you and me - Mixed\"], [\"Lovesick Girls\"], [\"A State Of Trance (ASOT 997) - Outro\"], [\"Bitter\"], [\"Blue World\"], [\"Big H 2020 - Mixed\"], [\"Sad People\"], [\"Year 2020\"], [\"Crazy Train\"], [\"Mantra - David Elston Extended Remix\"], [\"Said Sum (feat. City Girls & DaBaby) - Remix\"], [\"BLIND (feat. Young Thug)\"], [\"Upswing - Mixed\"], [\"betty\"], [\"New Years Eve 2020\"], [\"Quicksand\"], [\"Another Riff For The Good Times - Mixed\"], [\"Fly To My Room\"], [\"In And Out Of Love - ilan Bluestone & Maor Levi Remix\"], [\"Buss It\"], [\"It's the Most Wonderful Time of the Year (Trap Remix)\"], [\"Need It\"], [\"Yesterday\"], [\"Haw\\u00e1i\"], [\"Go2DaMoon (feat. Kanye West)\"], [\"Yesterday (FYHYM2020)\"], [\"Love Not War (The Tampa Beat)\"], [\"Infinity (FYHYM2020)\"], [\"I CAN'T STOP ME\"], [\"2020 Is Our Year...... Ahhh Fukk\"], [\"Mi Ni\\u00f1a\"], [\"Walk Away (FYHYM2020)\"], [\"Cat Girls Are Ruining My Life!\"], [\"Best Years - 2020 Remix\"], [\"Diamonds\"], [\"Black & Blue (FYHYM2020)\"], [\"Life Is Good (feat. Drake)\"], [\"Moonwalker (FYHYM2020)\"], [\"Move On\"], [\"Elise (FYHYM2020)\"], [\"Doing Life With Me\"], [\"Leka (FYHYM2020)\"], [\"Dis-ease\"], [\"Elements (FYHYM2020)\"], [\"Telepathy\"], [\"Pure - Mixed\"], [\"Said Sum\"], [\"Diving Out Of Love (FYHYM2020)\"], [\"Sum 2 Prove\"], [\"Tied Up - Kenny Dope Remix (Mixed)\"], [\"Stuck On You\"], [\"Under Water (FYHYM2020)\"], [\"Damage\"], [\"Everything Everything (FYHYM2020)\"], [\"Funny Thing\"], [\"The South (FYHYM2020)\"], [\"Heaven On Earth\"], [\"Something Real (FYHYM2020) - Cosmic Gate Remix\"], [\"OK Not To Be OK\"], [\"MALDITA POBREZA\"], [\"This World - Mixed\"], [\"Beers And Sunshine\"], [\"It's The Most Wonderful Time Of The Year\"], [\"Slide (Remix) (feat. Pop Smoke, A Boogie Wit da Hoodie & Chris Brown)\"], [\"Reverie - Above & Beyond Club Mix\"], [\"Worship You\"], [\"Stuck In The Middle\"], [\"Somebody Loves You (with Plumb)\"], [\"Bandido\"], [\"21 Years\"], [\"Ashes\"], [\"ny90\"], [\"Rehab (Winter In Paris)\"], [\"Far From Home\"], [\"Blastoff (feat. Juice Wrld & Trippie Redd)\"], [\"Lasers (FYHYM2020)\"], [\"Sick and Tired (ft. Machine Gun Kelly and Travis Barker)\"], [\"Perpetual (FYHYM2020)\"], [\"Fallin\\u2019 (Adrenaline)\"], [\"Sonata (FYHYM2020)\"], [\"May I\"], [\"Destination (FYHYM2020) - Orjan Nilsen Remix\"], [\"Fighting Demons\"], [\"Bittersweet & Blue (FYHYM2020) - Above & Beyond Club Mix\"], [\"BELIEVE IT\"], [\"Welcome To Your Life - Jeremy Vancaulart Remix\"], [\"obvious\"], [\"Come To Life\"], [\"Over\"], [\"Stranger Inside (FYHYM2020)\"], [\"I Hope You\\u2019re Happy Now\"], [\"Universal Love (FYHYM2020)\"], [\"DRUGS\"], [\"Wake Me Up - Tale Of Us Remix (Mixed)\"], [\"Rockstar Knights (with Trippie Redd)\"], [\"Let It Snow! Let It Snow! Let It Snow!\"], [\"shut up\"], [\"Grey Area\"], [\"White Tee\"], [\"5th Dimension (FYHYM2020)\"], [\"SORRY PAPI\"], [\"What About Us (FYHYM2020)\"], [\"Lets Link\"], [\"Losing My Mind (FYHYM2020)\"], [\"Cabr\\u00f3n y Vago - En Vivo\"], [\"Diving Out Of Love\"], [\"Rain On Me (with Ariana Grande)\"], [\"Horsepower (FYHYM2020)\"], [\"the last great american dynasty\"], [\"Phantom (FYHYM2020)\"], [\"six thirty\"], [\"Aura (FYHYM2020)\"], [\"Daylight\"], [\"Silence - Mixed\"], [\"Stargazing\"], [\"Mirage\"], [\"Get Back\"], [\"What Was Before\"], [\"LA DROGA\"], [\"Plants\"], [\"Screw Juice\"], [\"Keep Going\"], [\"Stay\"], [\"Waiting On The Other Side - Club Mix\"], [\"Chica Ideal\"], [\"Tokyo - Fatum Remix\"], [\"Lose You\"], [\"Mi Cuarto\"], [\"New Years 2020\"], [\"ANTES QUE SE ACABE\"], [\"Come Together - Matthias Meyer Remix (Mixed)\"], [\"cheers (with Wiz Khalifa)\"], [\"Nightwhisper - Mixed\"], [\"The Void\"], [\"Lion - Mixed\"], [\"120\"], [\"New Day - Mixed\"], [\"Sweet but Psycho\"], [\"Pandemic Love or the Year Without a Spring (Live in Johnson City 10/30/2020)\"], [\"my tears ricochet\"], [\"Years\"], [\"invisible string\"], [\"Happy New Year Piano Instrumental\"], [\"Zeus (feat. White Gold)\"], [\"Beyond The Comfort Zone\"], [\"Papi Chulo\"], [\"In My Head (Part II)\"], [\"The Good Ones\"], [\"Qiu Hu Yue Yie\"], [\"Something Special\"], [\"Witch Hat\"], [\"Wild (feat. Gary Clark Jr.)\"], [\"After Dark\"], [\"HEARTBREAK ANNIVERSARY\"], [\"Redshift (FYHYM2020)\"], [\"La T\\u00f3xica\"], [\"Moonwave (FYHYM2020)\"], [\"Easy (with Kacey Musgraves feat. Mark Ronson)\"], [\"Ecstasy (FYHYM2020)\"], [\"Lose Somebody\"], [\"Moonchild (FYHYM2020)\"], [\"Freak\"], [\"Satellites (FYHYM2020)\"], [\"Yessirskiii\"], [\"Paid For Love - Mixed\"], [\"Handgun (feat. NoCap & Polo G)\"], [\"Reverie (FYHYM2020) - Above & Beyond Club Mix\"], [\"Every Other Memory\"], [\"Live For Tonight\"], [\"Tyler Herro\"], [\"Escape The Night (FYHYM2020)\"], [\"my hair\"], [\"What Are You Doing New Year's Eve?\"], [\"10,000 Hours (Cardio + Running Workout Mix)\"], [\"Rescue (Cardio + Running Workout Mix)\"], [\"Lose You to Love Me (Cardio + Running Workout Mix)\"], [\"Stressed Out (Cardio + Running Workout Mix)\"], [\"How Do You Sleep? (Cardio + Running Workout Mix)\"], [\"High Hopes (Cardio + Running Workout Mix)\"], [\"I'm Ready (Cardio + Running Workout Mix)\"], [\"Taki Taki (Cardio + Running Workout Mix)\"], [\"Raising Hell (Cardio + Running Workout Mix)\"], [\"Lights Up (Cardio + Running Workout Mix)\"], [\"Senorita (Cardio + Running Workout Mix)\"], [\"Despacito (Cardio + Running Workout Mix)\"], [\"Good as Hell (Cardio + Running Workout Mix)\"], [\"The Champion (Cardio + Running Workout Mix)\"], [\"Love Me Anyway (Cardio + Running Workout Mix)\"], [\"Rewrite the Stars (Cardio + Running Workout Mix)\"], [\"Better Now (Cardio + Running Workout Mix)\"], [\"Love Yourself (Cardio + Running Workout Mix)\"], [\"Hymn for the Weekend (Cardio + Running Workout Mix)\"], [\"Truth Hurts (Cardio + Running Workout Mix)\"], [\"Million Reasons (Cardio + Running Workout Mix)\"], [\"Someone You Loved (Cardio + Running Workout Mix)\"], [\"Photograph (Cardio + Running Workout Mix)\"], [\"This is Me (Cardio + Running Workout Mix)\"], [\"High on Life (Cardio + Running Workout Mix)\"], [\"Photograph (Cardio + Running Workout Mix)\"], [\"Heartless (Cardio + Running Workout Mix)\"], [\"ME! (Cardio + Running Workout Mix)\"], [\"Alone (Cardio + Running Workout Mix)\"], [\"Good Things Fall Apart (Running Mix)\"], [\"The Middle (Cardio + Running Workout Mix)\"], [\"Something Just Like This (Cardio + Running Workout Mix)\"], [\"Electricity (Cardio + Running Workout Mix)\"], [\"You Need to Calm Down (Cardio + Running Workout Mix)\"], [\"Lover (Cardio + Running Workout Mix)\"], [\"Natural (Cardio + Running Workout Mix)\"], [\"You Say (Cardio + Running Workout Mix)\"], [\"Shape of You (Cardio + Running Workout Mix)\"], [\"Thunder (Cardio + Running Workout Mix)\"], [\"Timber (Cardio + Running Workout Mix)\"], [\"My House (Cardio + Running Workout Mix)\"], [\"I Don't Care (Cardio + Running Workout Mix)\"], [\"Sour Candy (Cardio + Running Workout Mix)\"], [\"Youngblood (Cardio + Running Workout Mix)\"], [\"Bad Liar (Cardio + Running Workout Mix)\"], [\"Maps (Cardio + Running Workout Mix)\"], [\"Without Me (Cardio + Running Workout Mix)\"], [\"Secrets (Cardio + Running Workout Mix)\"], [\"Never Be the Same (Cardio + Running Workout Mix)\"], [\"Ex\\u2019s & Oh\\u2019s (Cardio + Running Workout Mix)\"], [\"CAN'T STOP THE FEELING (Cardio + Running Workout Mix)\"], [\"Uptown Funk (Cardio + Running Workout Mix)\"], [\"Happier (Cardio + Running Workout Mix)\"], [\"Radioactive (Cardio + Running Workout Mix)\"], [\"24K Magic (Cardio + Running Workout Mix)\"], [\"The Git Up (Cardio + Running Workout Mix)\"], [\"Workin' On It (Cardio + Running Workout Mix)\"], [\"Juice (Cardio + Running Workout Mix)\"], [\"Paradise\"], [\"This Year (2021)\"], [\"New Years 2021\"], [\"New Year 2021\"], [\"New Year 2021\"], [\"Happy Year 2021\"], [\"2021 My Year\"], [\"2021 New Year\"], [\"2021 (Graduation Year)\"], [\"New Years 2021 intro\"], [\"2021 New Year Bounce\"], [\"Happy New Year 2021\"], [\"Happy New Year 2021\"], [\"Rocking New Year 2021\"], [\"Happy New (2021) Year\"], [\"2021 Is My Year\"], [\"New Year Collection 2021\"], [\"\\u10dc\\u10d0\\u10db\\u10d4\\u10e2\\u10d0\\u10dc\\u10d8\\u10d0 (Zoommer New Year 2021)\"], [\"New Years Eve 2021 Countdown\"], [\"Bad Christmas (New Year 2021)\"], [\"Happy New Year 2021 (Fireworks)\"], [\"Can't Buy Me Love\"], [\"I Want to Hold Your Hand\"], [\"If I Fell\"], [\"Twist and Shout\"], [\"Help!\"], [\"A Hard Day's Night\"], [\"Yesterday\"], [\"Eleanor Rigby\"], [\"And I Love Her\"], [\"Love Me Do\"], [\"Michelle\"], [\"Nowhere Man\"], [\"Got to Get You Into My Life\"], [\"Ticket to Ride\"], [\"She Loves You\"], [\"20000 Years After\"], [\"The Year 2000\"], [\"in 2000 years\"], [\"2000 Years Ago\"], [\"2000 Year Prelude\"], [\"Deep House Years 2000\"], [\"2000 Years from Now\"], [\"2000 Years (Sheffield Release)\"], [\"2000 Light Years Away\"], [\"2000 Light Years Away\"], [\"2000 Years From Now\"], [\"Back to Year 2000\"], [\"In the Year 2000\"], [\"Nam 75 Year 2000 Unknown\"], [\"2000 Light Years From Home\"], [\"Destroy 2000 Years Of Culture\"], [\"Year of the Lord 2021\"], [\"New Year Dandiya Fest 2021\"], [\"New Year 2021 - Hangar Theme 2\"], [\"New Year 2021 - Hangar Guitar Theme\"], [\"Brawl Stars \\u2014 Lunar New Year 2021\"], [\"Your YEAR 2021 Expectation Miracles Praise\"], [\"New Year 2021 - Hangar Theme 3\"], [\"Happy New Year 2021 Party Song\"], [\"New Year 2021 - Hangar Theme 1\"], [\"Jaan Happy New Year 2021 - 2020\"], [\"YEARFIXZ2021\"], [\"Astrit Brahja Orkestrale happy new year 2021\"], [\"2021 Might Have to Be My Year\"], [\"Happy new year 2021 (Deep house style)\"], [\"A Mor Jaan Happy New Year 2021\"], [\"Griting Naya Sal Ke - New Year Song 2021\"], [\"Happy New Year 2021 (The DJ Kor Remixes)\"], [\"Jingle Bells (Merry Christmas & Happy New Year 2021)\"], [\"2021\"], [\"2021\"], [\"2021 New Years Mixtape (Punjabi v.s. HipHop Edition) [DJ NICK]\"], [\"2021 Song\"], [\"Number Mange Greeting Card Dukan Wala - Happy New Year 2021 Song\"], [\"my philosophy 2021\"], [\"Billions Light Years - Progressive Goa Psytrance 2021 Top 100 Hits DJ Mixed\"], [\"The \\\" Brood X\\\" Periodical Cicada Will Emerge in 2021 After 17 Years\"], [\"Nekropolis\"], [\"Alkohol t\\u00f6tet langsam\"], [\"Liebeslied\"], [\"Nick of Time - Live at Liverpool Philharmonic Hall, 2004\"], [\"It Ain't Over - Live at Buxton Opera House, 2004\"], [\"Any Day Now - Live at Buxton Opera House, 2004\"], [\"Nothing to Lose - Live at Liverpool Philharmonic Hall, 2004\"], [\"Just a Little Lie - Live at Liverpool Philharmonic Hall, 2004\"], [\"If I Were You - Live at Liverpool Philharmonic Hall, 2004\"], [\"Running Out of Time - Live at Liverpool Philharmonic Hall, 2004\"], [\"For Once in Our Lives - Live at Liverpool Philharmonic Hall, 2004\"], [\"Nothing More Than a Memory - Live at Buxton Opera House, 2004\"], [\"She Lived Down the Street - Live at Liverpool Philharmonic Hall, 2004\"], [\"Until the Day I Die\"], [\"Less Than Wonderful\"], [\"\\u00d6lme\"], [\"Asshole Of The Month\"], [\"My Shoes\"], [\"The Road Less Travelled\"], [\"Ab\\u015feronun \\u00dcz\\u00fcm\\u00fc\"], [\"He\\u00e7 Kime Men Seni Veren Deyilem\"], [\"Gecdi Daha\"], [\"Welcome To Our Show\"], [\"We Can\\u2019t Skate\"], [\"Yalan D\\u00fcnya\"], [\"Oceanborn - John Askew Rework\"], [\"Azerbaycan\\u0131m\"], [\"Keren or Hebrew\"], [\"K\\u00fcsd\\u00fcrd\\u00fcn Meni\"], [\"Yasu Yasu Hebrew\"], [\"Shrinks Suck\"], [\"Pakize\"], [\"Aurora - DJ Kristoff Mix\"], [\"Nigaranam Juhuri\"], [\"Troublebound\"], [\"\\u0425\\u043e\\u0447\\u0435\\u0448\\u044c\"], [\"Mektub\"], [\"Metaltheme\"], [\"Neynirem Sensiz\"], [\"Tu Gereki Mere Juhuri\"], [\"Slaves to the Machine - Original Mix\"], [\"Global System - Original Mix\"], [\"Cold Fusion - Sean Tyas Mix\"], [\"String Theory - Original Mix\"], [\"Lift - Original Mix\"], [\"Evaporate - Stoneface & Terminal Mix\"], [\"Ellipse - Araich Mix\"], [\"Good Year to Be on Top\"], [\"A 15 Year Old's Letters to Nick Endo\"], [\"99 Year Blues - Live - Show 1\"], [\"99 Year Blues - Live - Set 2\"], [\"A 15 Year Old's Letters to Nick Endo (Acoustic)\"], [\"first dream of New Year\"], [\"99 Year Blues - Live\"], [\"I am, The Originator of Afro Acid Beat (2010 To 2020 Vision Mix)\"], [\"That Film From Last Year Isn't A Musical And We Didn't Score It, But If We Did It Would Sound Like This\"], [\"Gyal Passion Riddim\"], [\"Reality Check Riddim\"], [\"More Life Riddim\"], [\"She a Bounce Riddim\"], [\"So Sweet Riddim\"], [\"G Force Riddim\"], [\"Better Times Riddim\"], [\"Fire Foot Riddim\"], [\"Vybz up Riddim\"], [\"Summa Fuck Riddim\"], [\"The En4orcer Riddim\"], [\"Simple Life Riddim\"], [\"Sunlight Riddim\"], [\"Main Square Riddim\"], [\"Main Square Riddim\"], [\"Come Back Anytime\"], [\"Under the Radar\"], [\"Way Gone By\"], [\"Hey, That's No Way to Say Goodbye\"], [\"Lifetime of Deception\"], [\"Everytime This Happens\"], [\"Repeat My Fate\"], [\"Elijah's Lullaby\"], [\"Sunlight Shines Through Me\"], [\"Regret Is All\"], [\"Moving On\"], [\"Royals\"], [\"Don't You Worry Child - Radio Edit\"], [\"Inkondlo (Original 2012 Mix)\"], [\"Street Party - 2012 Re-Work Version\"], [\"New Year\"], [\"All I Can Say [Acoustic 2012] - Live\"], [\"Years Of The Dragon\"], [\"This Year\"], [\"Twenty Years Ago\"], [\"Hey!! - Live at Jakarta Convention Center, Plenary Hall, Senayan, 2013\"], [\"Dekadensi - Live at Jakarta Convention Center, Plenary Hall, Senayan, 2013\"], [\"Prahara - Live at Jakarta Convention Center, Plenary Hall, Senayan, 2013\"], [\"Baiknya - Live at Jakarta Convention Center, Plenary Hall, Senayan, 2013\"], [\"Laguku - Live at Jakarta Convention Center, Plenary Hall, Senayan, 2013\"], [\"Saujana - Live at Jakarta Convention Center, Plenary Hall, Senayan, 2013\"], [\"Romansa - Live at Jakarta Convention Center, Plenary Hall, Senayan, 2013\"], [\"Yogyakarta - Live at Jakarta Convention Center, Plenary Hall, Senayan, 2013\"], [\"While the Years Go Drifting By (Victor 20147) [Recorded 1926]\"], [\"2014\"], [\"2014\"], [\"Echoes (2014)\"], [\"Mr Weirdo (2014)\"], [\"Lookout! (2014)\"], [\"Be Trash - 2014\"], [\"No Promises - 2014\"], [\"Hey Girl - 2014\"], [\"Party On - 2014\"], [\"Eastland (Remastered) (2014)\"], [\"Tell Me (2014)\"], [\"It's 2014, the Past Six Years of Your Life Were a Dream (2005 Remix)\"], [\"This Frown (2014)\"], [\"Let Me Be - 2014\"], [\"You're the One - Demo 2014\"], [\"Enlightenment on the Path (2014)\"], [\"First of the Year 2015\"], [\"A Year in This Home - 2015\"], [\"January 15, 2015 (Five Years On)\"], [\"January 15, 2015 (Five Years On)\"], [\"2015\"], [\"2015\"], [\"Cold As Christmas (In The Middle Of The Year) - Remastered 2016\"], [\"Bot (2016)\"], [\"Milkshake (2016)\"], [\"A Foreboding (2016)\"], [\"2016 Hollywood Blvd\"], [\"Time Travel (2016)\"], [\"No Gas (Nov 2016)\"], [\"In The Year 2017\"], [\"To the Year 2017\"], [\"Silver Years (Pelican Sessions 2017)\"], [\"Grace - Live from Asbury Park\"], [\"Pieces - Live from Asbury Park\"], [\"Fade Away - Live from Asbury Park\"], [\"Sorry - Live from Asbury Park\"], [\"Burn the Ships - Live from Asbury Park\"], [\"Happy New Year 2018\"], [\"2018 Happy New Year\"], [\"To the Year 2018\"], [\"Drive on week (S.B.N Live ver.)\"], [\"gr8est journey (S.B.N Live ver.)\"], [\"PUMP ME UP (S.B.N Live ver.)\"], [\"On & On (S.B.N Live ver.)\"], [\"Billion Beats (S.B.N Live ver.)\"], [\"Year 2019\"], [\"dec / year 2019\"], [\"Happy New Year 2019\"], [\"New Year Eve 2019\"], [\"Happy New Year 2019\"], [\"New Year Collection 2019\"], [\"New Year Eve 2019\"], [\"New Year Eve 2019\"], [\"30 Years [2019 Edit]\"], [\"New Year Eve 2019\"], [\"New Year Eve 2019\"], [\"New Year Eve 2019\"], [\"New Year Eve 2019\"], [\"\\u29fc THE YEAR IS 2019 A.D. \\u29fd\"], [\"Santa Claus New Year 2019\"], [\"What A Year (Rak-su 2019)\"], [\"The Best Of Last Year 2019\"], [\"Daisies\"], [\"Runaway (FYHYM2020) - Fisherman Remix\"], [\"Damaged\"], [\"All In Good Spirit\"], [\"Trap Anthem\"], [\"In the Night of New Year's Eve - The 2020 Version\"], [\"Deep End Freestyle\"], [\"Awakening\"], [\"Next Girl\"], [\"Blue Monday\"], [\"I Want It\"], [\"Arizona - Mixed\"], [\"Fly Away\"], [\"Lost Souls - AVIRA Remix\"], [\"Turks (feat. Travis Scott)\"], [\"Don't Give Up - Giuseppe Ottaviani Remix\"], [\"Down To One\"], [\"Everything Everything\"], [\"Vida de Rico\"], [\"Part Of Me - Mixed\"], [\"Be Something (feat. Lil Baby)\"], [\"Rinascimento - Mixed\"], [\"me & ur ghost\"], [\"Punisher (FYHYM2020)\"], [\"Beno!\"], [\"Crash (FYHYM2020)\"], [\"Invincible\"], [\"The Beast With Five Hands\"], [\"La Luz\"], [\"BETTER DAYS\"], [\"EL MUNDO ES M\\u00cdO\"], [\"Ocean Patio\"], [\"Die From A Broken Heart\"], [\"Canary Forest\"], [\"Gone\"], [\"Sleepover\"], [\"i'm so tired...\"], [\"Harvest\"], [\"Excitement\"], [\"Happy New Year & Christmas Celebration\"], [\"Girl Of My Dreams\"], [\"Years - Remastered 2020\"], [\"Not Another Love Song\"], [\"Seven Years In Tibet - Live at Radio City Music Hall New York, 15th October, 1997; 2020 Remaster\"], [\"Se Te Nota (with Guaynaa)\"], [\"Say Hello\"], [\"I'm in Love With an E-Girl\"], [\"Hollow\"], [\"Head Shoulders Knees & Toes (feat. Norma Jean Martine)\"], [\"Water\"], [\"Flex Up (feat. Future & Playboi Carti)\"], [\"What About Us\"], [\"A Tu Merced\"], [\"Walk Away\"], [\"Overwhelmed\"], [\"No Warning Lights - ALPHA 9 Remix\"], [\"Hasta Que Dios Diga\"], [\"One Love\"], [\"Weeeeee\"], [\"Keep On - Mixed\"], [\"I Know\"], [\"The Blind Navigator - Mixed\"], [\"Killer\"], [\"Blackbirds - Mixed\"], [\"Do It On The Tip (feat. City Girls & Hot Girl Meg)\"], [\"Come Back - Mixed\"], [\"SUPERBLOOM\"], [\"Pam Pam (Phat Bass) [FYMYM2020]\"], [\"Me Vs Me\"], [\"Something Bigger (FYHYM2020) - Elevven Remix\"], [\"Stop Breathing\"], [\"Reindeer Boogie\"], [\"Still Be Friends (feat. Tory Lanez & Tyga)\"], [\"No Woman, No Cry - Live At Rainbow Theatre, London / 1977 / Remastered 2020\"], [\"Pretty Girls\"], [\"Falling Out Of The Sky (FYHYM2020)\"], [\"No Time To Die\"], [\"False Hope\"], [\"BEB\\u00c9\"], [\"Inside\"], [\"Moonlight (feat. Big Sean)\"], [\"Aqueduct\"], [\"Never Satisfied\"], [\"Anything Like You (FYHYM2020) - Daxson Remix\"], [\"La Jeepeta - Remix\"], [\"If We Say Goodbye\"], [\"Naughty List (with Dixie D\\u2019Amelio)\"], [\"Water (FYHYM2020)\"], [\"Leave Some Day\"], [\"Lovecraft (FYHYM2020)\"], [\"Memory I Don't Mess With\"], [\"After Tomorrow\"], [\"Stuntin' On You (feat. DaBaby)\"], [\"Mystery Lady (feat. Don Toliver)\"], [\"Let The Light Shine In (FYHYM2020) - Crusy & Jose de Mara Remix\"], [\"Riot\"], [\"Walk The Line - Mixed\"], [\"Reloj\"], [\"Close To Me - Mixed\"], [\"BEST ON EARTH (feat. BIA) - Bonus\"], [\"Pursuance - Mixed\"], [\"Hate The Way (feat. blackbear)\"], [\"Phases - Mixed\"], [\"I Hope (feat. Charlie Puth)\"], [\"Christmas Will Be Different This Year\"], [\"Pretty Savage\"], [\"Never Been Alone (FYHYM2020)\"], [\"Blueberry Eyes (feat. SUGA of BTS)\"], [\"Feel The Waves (FYHYM2020)\"], [\"Black And White\"], [\"Close My Eyes\"], [\"Angels & Demons\"], [\"Fallen - Richard Durand Remix\"], [\"Broken Up\"], [\"All On Me\"], [\"24 (feat. Lil Baby)\"], [\"Backyard Puddles\"], [\"The Parables\"], [\"Bookshelves\"], [\"west side\"], [\"Through Trees\"], [\"acting like that (feat. Machine Gun Kelly)\"], [\"Anemone\"], [\"FEEL SOMETHING (feat. Marshmello)\"], [\"Ocean View\"], [\"Cardigan\"], [\"Tokyo (feat. XIRA) - Seven Lions Remix (Mixed)\"], [\"Rockstar Made\"], [\"Eternal Summer - Mixed\"], [\"Lovin\\u2019 Me (feat. Phoebe Bridgers)\"], [\"Foggy August - Mixed\"], [\"love language\"], [\"Collide - Mixed\"], [\"Hard To Forget\"], [\"It's All Over - Mixed\"], [\"Honeypie\"], [\"This I Vow\"], [\"Midnight Sky\"], [\"Sail\"], [\"Walk Em Down (feat. Roddy Ricch)\"], [\"The Love You Give (FYHYM2020) - BUMA Remix\"], [\"Long Live\"], [\"Christmas the Whole Year Round\"], [\"24\"], [\"Tell Me (FYHYM2020)\"], [\"It's About Time (feat. Florida Georgia Line)\"], [\"One Love (FYHYM2020)\"], [\"Stay Down (with 6LACK & Young Thug)\"], [\"Out Of The Blue (FYHYM2020) - Ilan Bluestone Remix\"], [\"Onna Come Up\"], [\"Calm\"], [\"3 Musketeers\"], [\"Cloud Carpets\"], [\"Nothing's Better\"], [\"p i c k m e u p\"], [\"E-ER (feat. Danny Towers & Lil Yachty)\"], [\"Light Side Of The Harmony (FYH 200 Anthem) [FYHYM2020]\"], [\"Filter\"], [\"The Epoch of Trance\"], [\"New Tank\"], [\"B4 Montreal - TSHA Remix (Mixed)\"], [\"Monster (Shawn Mendes & Justin Bieber)\"], [\"We\\u2019re All In This Together - Above & Beyond Respray (Mixed)\"], [\"Said Sum (feat. City Girls & DaBaby) - Remix\"], [\"Feel Free - Mixed\"], [\"Baby Pluto\"], [\"Static - Mixed\"], [\"Parce (feat. Justin Quiles)\"], [\"Breathing - Boris Brejcha Remix (Mixed)\"], [\"Circles\"], [\"The Accord - Mixed\"], [\"All We Got (feat. KIDDO)\"], [\"What Have I Got To Lose\"], [\"Gifted (feat. Roddy Ricch)\"], [\"Need You Now\"], [\"Moral of the Story (feat. Niall Horan)\"], [\"Rooftops - Maarten de Jong Remix\"], [\"Toosie Slide\"], [\"Nothing Is Over - Roman Messer Remix\"], [\"PIKACHU\"], [\"P*$$Y Fairy (OTW)\"], [\"The Copper War (Remastered 2020)\"], [\"Walked Through Hell\"], [\"1 YEAR\"], [\"Black Magic (feat. Skylar Grey)\"], [\"Are You Lonesome Tonight (Remastered 2020)\"], [\"Numbers (feat. Roddy Ricch, Gunna and London On Da Track)\"], [\"Good Year\"], [\"Gone Too Soon\"], [\"Blood, Sweat and Tears (Remastered 2020)\"], [\"Burn 'Em All\"], [\"Oceania\"], [\"Dance with Me (feat. Thomas Rhett & Young Thug)\"], [\"Cascada\"], [\"Haw\\u00e1i\"], [\"Wrong Way\"], [\"Take Me Home For Christmas\"], [\"Girls Just Wanna Have Sun\"], [\"Year of the Lord 2021\"], [\"New Year Dandiya Fest 2021\"], [\"New Year 2021 - Hangar Theme 2\"], [\"New Year 2021 - Hangar Guitar Theme\"], [\"Brawl Stars \\u2014 Lunar New Year 2021\"], [\"Your YEAR 2021 Expectation Miracles Praise\"], [\"New Year 2021 - Hangar Theme 3\"], [\"Happy New Year 2021 Party Song\"], [\"New Year 2021 - Hangar Theme 1\"], [\"Jaan Happy New Year 2021 - 2020\"], [\"YEARFIXZ2021\"], [\"Astrit Brahja Orkestrale happy new year 2021\"], [\"2021 Might Have to Be My Year\"], [\"Happy new year 2021 (Deep house style)\"], [\"A Mor Jaan Happy New Year 2021\"], [\"Griting Naya Sal Ke - New Year Song 2021\"], [\"Happy New Year 2021 (The DJ Kor Remixes)\"], [\"Jingle Bells (Merry Christmas & Happy New Year 2021)\"], [\"2021\"], [\"2021\"], [\"2021 New Years Mixtape (Punjabi v.s. HipHop Edition) [DJ NICK]\"], [\"2021 Song\"], [\"Number Mange Greeting Card Dukan Wala - Happy New Year 2021 Song\"], [\"my philosophy 2021\"], [\"Billions Light Years - Progressive Goa Psytrance 2021 Top 100 Hits DJ Mixed\"], [\"The \\\" Brood X\\\" Periodical Cicada Will Emerge in 2021 After 17 Years\"], [\"Anthem For The Year 2000\"], [\"The Legend of 2000 Years\"], [\"We're in the Year 2000\"], [\"2000 Light Years from Home\"], [\"Anthem For The Year 2000\"], [\"From Petra to Istanbul, 2000 Years\"], [\"\\u041a\\u043e\\u0433\\u0434\\u0430 \\u0432\\u0441\\u0451 \\u043f\\u043e\\u0448\\u043b\\u043e \\u043d\\u0435 \\u0442\\u0430\\u043a - Year 2000\"], [\"The Legend of 2000 Years (Bootleg version)\"], [\"Billions Light Years\"], [\"Happy New Year Bitch\"], [\"7 Years\"], [\"Billions Light Years\"], [\"New Year Jazz Party\"], [\"This Is Next Year\"], [\"New Year - Version 6\"], [\"New Year Collection 2019\"], [\"New Year - Version 3\"], [\"New Year - Version 1\"], [\"New Year - Version 2\"], [\"New Year - Piano Version\"], [\"New Year - Version 5\"], [\"New Year - Version 4\"], [\"New Year Collection 2020\"], [\"Happy Years\"], [\"Country Dawg (early years)\"], [\"Hard Year\"], [\"Lunar New Year - Version 4\"], [\"Magic New Year - Piano Version\"], [\"Lunar New Year - Version 3\"], [\"Lunar New Year - Version 2\"], [\"Lunar New Year - Version 6\"], [\"Lunar New Year - Version 5\"], [\"Magic New Year - Version 5\"], [\"Lunar New Year - Version 1\"], [\"Magic New Year - Version 1\"], [\"Lunar New Year - Piano Version\"], [\"Magic New Year - Version 2\"], [\"Magic New Year - Version 3\"], [\"Magic New Year - Version 4\"], [\"Happy New Year\"], [\"Happy New Year (I Don't Want to Fight Tonight)\"], [\"Lost a Ticked\"], [\"Energy Driver - Extended Mix\"], [\"Werd nicht alt\"], [\"Stupid white men\"], [\"Lauf\"], [\"Phony Punk\"], [\"Achse des B\\u00f6sen\"], [\"M\\u00fcnchen\"], [\"Ready for us\"], [\"Picture\"], [\"Hey Ya!\"], [\"Crazy in Love\"], [\"Here Without You\"], [\"Big Yellow Taxi\"], [\"Get My Party On\"], [\"White Flag\"], [\"California - From \\\"The O.C.\\\"\"], [\"Fighter\"], [\"P.I.M.P.\"], [\"Reign\"], [\"It's My Life\"], [\"Going Under\"], [\"Come Undone\"], [\"Sorry Seems to Be the Hardest Word\"], [\"Sing for the Moment\"], [\"Where's the Love?\"], [\"The Way You Move\"], [\"When the Lights Go Down\"], [\"Baby Boy\"], [\"Bring Me to Life\"], [\"Dance with My Father\"], [\"Aicha\"], [\"Feel Good Time - From \\\"Charlie's Angels: Full Throttle\\\"\"], [\"Come Away with Me\"], [\"Satisfaction\"], [\"Right Thurr\"], [\"Shake Ya Tailfeather\"], [\"I Drove All Night\"], [\"In the Shadows\"], [\"Shut Up\"], [\"Mesmerize\"], [\"Are You Happy Now?\"], [\"Forever and for Always\"], [\"Set Me Free - From \\\"Hulk\\\"\"], [\"Miss You\"], [\"Get Busy\"], [\"Tu Gereki Mere Juhuri\"], [\"Ain't Talking to You (Lounge Version)\"], [\"Start My Life\"], [\"Done\"], [\"Skyline - Arizona Mix\"], [\"Russian Mail Order Bride\"], [\"Take It\"], [\"Bala Gelin\"], [\"No Cover\"], [\"Equilibrium - Original Mix\"], [\"Time To Say Goodbye\"], [\"Yeni Il\"], [\"Na\\u011f\\u0131llar D\\u00fcnyas\\u0131\"], [\"Ain't Talking to You (Alternative Version)\"], [\"Ghost\"], [\"Different Way - Woody Van Eyden Dub\"], [\"Deniz\"], [\"Kids Today\"], [\"Motivation\"], [\"Unexpected Error\"], [\"Game Over - Version 1\"], [\"And They Say Ox City\"], [\"So What\"], [\"Train of Thought - Original Mix\"], [\"Kissed - Original Mix\"], [\"Progress\"], [\"Poetry\"], [\"I Hate You Love\"], [\"Xeyir Ola\"], [\"Milgram Sheep\"], [\"Two for Me, One for Jesus\"], [\"I've Got a Dream\"], [\"Sintra - Original Mix\"], [\"Boogie Down Revolution\"], [\"Everybodys Queen\"], [\"Daddy's Little Girl\"], [\"Ayr\\u0131lsak da Beraberiz\"], [\"Working Ant\"], [\"B-Boy's Anthem\"], [\"It Ain't Nothin' like\"], [\"Nothing But The Fun Of It\"], [\"Drop A Bomb\"], [\"Lather, Rinse, Repeat\"], [\"Shadows of My Reflection\"], [\"Ugly Nation\"], [\"K\\u00fcsme K\\u00fcsme\"], [\"Tilt My Girl on the Tilt-a-Whirl\"], [\"Date On A Plate\"], [\"Giroshte Ruzho Juhuri\"], [\"Everybody Rise\"], [\"Popuri Juhuri\"], [\"First Day Of Spring\"], [\"Vurulmu\\u015fam\"], [\"Now That You\\u2019re Gone\"], [\"War\"], [\"Brand New Day\"], [\"Selfcentered Bastards\"], [\"Giroshte Ruzho Juhuri Club\"], [\"Futuristic - John Askew's Acid Mix\"], [\"Get Her Grandma Drunk\"], [\"Stalker\"], [\"Slip\"], [\"Yerine Sevemem\"], [\"All or Nothing - Original Mix\"], [\"Stay Away - Original Mix\"], [\"K.i.a. - Original Mix\"], [\"Danger - Original Mix\"], [\"Drop - Original Mix\"], [\"Moving On - Original Mix\"], [\"Lluminate - Original Mix\"], [\"Suspect - Apogee Remix\"], [\"War\"], [\"Brand New Day\"], [\"Say the Words - Johan Ekman Remix\"], [\"Treat You Better\"], [\"Hideaway\"], [\"Jealous - Remix\"], [\"Love Myself\"], [\"Stay\"], [\"Wolves\"], [\"This Girl - Kungs Vs. Cookin' On 3 Burners\"], [\"Love Me Again\"], [\"Best Day Of My Life - Single Version\"], [\"Party Rock Anthem\"], [\"Fancy\"], [\"Party Rock Anthem\"], [\"I Got U\"], [\"Panda\"], [\"Cake By The Ocean\"], [\"Pianorolka - Mixed\"], [\"State of Mind - Mixed\"], [\"The Way You Treat Me - Mixed\"], [\"Herr Glotz - Mixed\"], [\"Beautiful World - Live in Holland, 2012\"], [\"World of Madness - Defqon.1 Anthem 2012\"], [\"The Pipe Hunter (Original 2012 Mix)\"], [\"Long Ago - Live in Holland, 2012\"], [\"Five Years & Change\"], [\"Nothing Without You - Live in Holland, 2012\"], [\"From Now On - Live in Holland, 2012\"], [\"14 Hormonal Years - Ginola Remix\"], [\"My Baby Said She Loved Me (Highway 125) [2012]\"], [\"Semoga - Live at Jakarta Convention Center, Plenary Hall, Senayan, 2013\"], [\"Lusaka Ritual (Elis Iluht's 2013 Drum & Bass Rerub)\"], [\"Lara Melanda - Live at Jakarta Convention Center, Plenary Hall, Senayan, 2013\"], [\"Tentang Kita - Live at Jakarta Convention Center, Plenary Hall, Senayan, 2013\"], [\"Belahan Jiwa - Live at Jakarta Convention Center, Plenary Hall, Senayan, 2013\"], [\"Mana Kutahu - Live at Jakarta Convention Center, Plenary Hall, Senayan, 2013\"], [\"Waktu Tersisa - Live at Jakarta Convention Center, Plenary Hall, Senayan, 2013\"], [\"Kidung Mesra - Live at Jakarta Convention Center, Plenary Hall, Senayan, 2013\"], [\"Bahagia Tanpamu - Live at Jakarta Convention Center, Plenary Hall, Senayan, 2013\"], [\"Jiwa Merapuh - Live at Jakarta Convention Center, Plenary Hall, Senayan, 2013\"], [\"Anak Dara - Live at Jakarta Convention Center, Plenary Hall, Senayan, 2013\"], [\"They Walk Among Us / 1000 Year Stare\"], [\"Wasting My Young Years\"], [\"Sudi Turun Kebumi - Live at Jakarta Convention Center, Plenary Hall, Senayan, 2013\"], [\"Satu Kayuh Berdua - Live at Jakarta Convention Center, Plenary Hall, Senayan, 2013\"], [\"Kau Pulihkan Luka - Live at Jakarta Convention Center, Plenary Hall, Senayan, 2013\"], [\"Terpuruk Ku Disini - Live at Jakarta Convention Center, Plenary Hall, Senayan, 2013\"], [\"Meski Tlah Jauh - Live at Jakarta Convention Center, Plenary Hall, Senayan, 2013\"], [\"99 Year Blues - Live - Set 2\"], [\"Tak Bisa Ke Lain Hati - Live at Jakarta Convention Center, Plenary Hall, Senayan, 2013\"], [\"People Crossing The City At The End Of The Year\"], [\"3years All My Love\"], [\"Accelerate (Official XXlerator Anthem 2014)\"], [\"In a Dark Place (2014)\"], [\"A Little Bit Free - 2014 remastered\"], [\"La La La (Brazil 2014)\"], [\"Monsters (MrDEGHT's 2014 Night Edit)\"], [\"You Don't Know My Mind (2014)\"], [\"One Piece of Your Heart - 2014 remastered\"], [\"Another Bad Year\"], [\"Dhahabu Meets Elis Iluht (Original 2014 Mix)\"], [\"Re: T. S. Eliot // 2015-2020\"], [\"Stoneheart (2015)\"], [\"Guilt (2015)\"], [\"2015\"], [\"2015 Suicidal\"], [\"Heartless One (2015)\"], [\"Harmony (2015)\"], [\"Bass Down Low (2015)\"], [\"Nature (2015) - Uplifting Mix\"], [\"Walk on Boy (2015)\"], [\"Hallmansg\\u00e5rden 2015-12-06\"], [\"All Year Summer\"], [\"Philosophy Of Life (2016)\"], [\"Back Block of Brooklyn 2016\"], [\"Slumz 2016 - 2017 (Bonus Track)\"], [\"New Year Eve 2019\"], [\"Love Hangover - 2016 Remaster Edit\"], [\"7 Years\"], [\"Shabaneh (2017)\"], [\"10 YEARS FROM NOW (Live at Irorikan, Kozagawa, 2018)\"], [\"Angel - 2018\"], [\"Alone (2018)\"], [\"I will not send New Year's cards anymore (Live at Irorikan, Kozagawa, 2018)\"], [\"Eclipse - 2018 Remaster\"], [\"Live It - 2018\"], [\"Technoisj - 2018 Remaster\"], [\"Demoniac Woman - 2018\"], [\"Rock'n'roll Greetings - 2018\"], [\"The Raid - 2018\"], [\"Part 6 (2004 - 2018)\"], [\"Sepia Tone (2018)\"], [\"Shah Rah (2018)\"], [\"New Year 2020\"], [\"Noi_sj-04 - 2018 Remaster\"], [\"You're the One - 2018\"], [\"Distorted Sentience - 2018 Remaster\"], [\"For Beauty's Sake - 2018\"], [\"Oppressed Masses - 2018 Remaster\"], [\"Waiting for You - 2018\"], [\"Marching Out - 2018 Remaster\"], [\"Reunion after a Couple of Years\"], [\"Dark Water - Rework 2019\"], [\"Reunion after a Couple of Years\"], [\"Reunion after a Couple of Years\"], [\"Sweet Freedom - Live 2019\"], [\"Good Neighbor - Live 2019\"], [\"The Wolf - Live 2019\"], [\"Fathers Nose - Live 2019\"], [\"Party Girl\"], [\"Take Me Back\"], [\"TKN (feat. Travis Scott)\"], [\"Dancing In The Dark with Christian Burns - Alex M.O.R.P.H. Remix\"], [\"TRELLAS\"], [\"Loneliest Time Of Year\"], [\"Graveyard\"], [\"I Need Your Lovin' (Like The Sunshine)\"], [\"r u ok\"], [\"I Need You To Know\"], [\"drunk face\"], [\"We Are The World\"], [\"Champagne Night - From Songland\"], [\"The Death of the Cog (Remastered 2020)\"], [\"Yikes\"], [\"Lailonie - Mixed\"], [\"FRANCHISE (feat. Future, Young Thug & M.I.A.) - REMIX\"], [\"Water - Mixed\"], [\"Lemonade (Feat. Roddy Ricch & Don Toliver) [Remix]\"], [\"Colours - Mixed\"], [\"Oprah\\u2019s Bank Account (Lil Yachty & DaBaby feat. Drake)\"], [\"Blue Monday - Mixed\"], [\"I Love Me\"], [\"Under The Mistletoe\"], [\"All That I Can - Mixed\"], [\"Baby, I'm Jealous (feat. Doja Cat)\"], [\"Clones - 2020 - Remaster\"], [\"Nah Nah Nah (feat. DaBaby & 2 Chainz) - Remix\"], [\"In The Party\"], [\"Level of Concern\"], [\"Cozy Fire\"], [\"illicit affairs\"], [\"Ever Forward\"], [\"That Way\"], [\"Teen X (feat. Future)\"], [\"On Me (feat. Ava Max)\"], [\"Midnight (feat. Liam Payne)\"], [\"Last Night\"], [\"We Go Together Like\"], [\"London Love Letters\"], [\"Sept. 16\"], [\"Velocities\"], [\"The Climb Back\"], [\"Les Vacances\"], [\"mirrorball\"], [\"The Thrill\"], [\"Let You Go - Mixed\"], [\"Bean (Kobe) [feat. Chief Keef]\"], [\"Sacrifice - Mixed\"], [\"Come & Go (with Marshmello)\"], [\"Afterglow - Kryder Remix (Mixed)\"], [\"CRY FOR ME\"], [\"Reverie - Above & Beyond Club Mix (Mixed)\"], [\"Alien Boy\"], [\"Days Pass - Mixed\"], [\"ON\"], [\"Many Men\"], [\"Cyberpunk (FYHYM2020)\"], [\"ALL GIRLS ARE THE SAME\"], [\"Cova (FYHYM2020)\"], [\"this is me trying\"], [\"NVRLND (FYHYM2020)\"], [\"Toxic\"], [\"Black Is The Colour Of My True Love's Hair - Live In Dublin / Remastered 2020\"], [\"What That Speed Bout!?\"], [\"Never Going Down - Richard Durand Remix\"], [\"The Pale Moonlight\"], [\"Walk Through Walls - Markus Schulz Remix\"], [\"MORE\"], [\"All For Love - Giuseppe Ottaviani Remix\"], [\"GTA (feat. 42 Dugg)\"], [\"Enigma - Extended Mix\"], [\"fuck, i'm lonely (with Anne-Marie)\"], [\"Embers\"], [\"B.B. King Freestyle (with Drake)\"], [\"comfortable\"], [\"Prospect (ft. Lil Baby)\"], [\"bringmesun\"], [\"seven\"], [\"Casual\"], [\"Brothers (feat. Luh Kel)\"], [\"Cloud Dance\"], [\"Psycho!\"], [\"Sonar\"], [\"Stupid Love\"], [\"Anywhere But Here\"], [\"Agua (with J Balvin) - Music From \\\"Sponge On The Run\\\" Movie\"], [\"Can\\u2019t Find the Words\"], [\"Control\"], [\"Calm The Storm (FYHYM2020)\"], [\"queen of broken hearts\"], [\"Lagoons\"], [\"Lady\"], [\"Fireplace\"], [\"Out Of Love (feat. Internet Money)\"], [\"Secret (FYHYM2020) - KhoMha Remix\"], [\"Lord I Know\"], [\"Die Landstreicher: Ouvert\\u00fcre\"], [\"Baby\"], [\"Radetzky-Marsch, Op. 228\"], [\"This Side of Paradise\"], [\"Polvo\"], [\"The Darkest Light - Myon Club Mix (Mixed)\"], [\"Una Vez\"], [\"Lucky Ones - Leaving Laurel Remix (Mixed)\"], [\"Freak (feat. REI AMI)\"], [\"Stranger - Mixed\"], [\"no body, no crime (feat. HAIM)\"], [\"Wherever You Go (FYHYM2020) - Eximinds Remix\"], [\"WTF Do I Know\"], [\"Our Song (FYHYM2020) - Orjan Nilsen Remix\"], [\"I Am (feat. Flo Milli)\"], [\"Seven Cities - Tom Staar Remix\"], [\"Falling\"], [\"Stars Collide\"], [\"Not A Rapper (feat. Lil Baby & Yo Gotti)\"], [\"Loverboy (Remastered 2020)\"], [\"Eenie Meenie\"], [\"Ice Cream (with Selena Gomez)\"], [\"Hearts on Fire\"], [\"Another\"], [\"Clock, Time of Live!\"], [\"Nightlight\"], [\"Like Me (feat. iann dior)\"], [\"Void\"], [\"Wonder\"], [\"I Would've Stayed (Mixed)\"], [\"Elsie's Baby Boy (flashback)\"], [\"Beautiful Chains (Mixed)\"], [\"Mente Positiva\"], [\"Becoming (Mixed)\"], [\"Young & Alive\"], [\"Book of Rhymes (feat. DJ Premier)\"], [\"Somebody (FYHYM2020)\"], [\"Starting Over\"], [\"Stay (FYHYM2020)\"], [\"Already Best Friends (feat. Chris Brown)\"], [\"Pieces (FYHYM2020)\"], [\"I Need You Christmas\"], [\"Heartcore (FYHYM2020)\"], [\"4 Da Kidz\"], [\"Imagination\"], [\"Amazing Grace (My Chains Are Gone)\"], [\"Such Great Heights\"], [\"Over Now (with The Weeknd)\"], [\"Sundown\"], [\"Better Off Dead\"], [\"Back (feat. Yo Gotti)\"], [\"400 Years\"], [\"Desde Morro\"], [\"The Depths Below (Remastered 2020)\"], [\"Internet Ruined Me\"], [\"Better One (FYHYM2020)\"], [\"All I Want\"], [\"The Launch (FYHYM2020)\"], [\"COOLER THAN A BITCH (feat. Roddy Ricch)\"], [\"Stars Collide (FYHYM2020)\"], [\"M\\u00e1s De La Una\"], [\"Manaya - Mixed\"], [\"When You Down (with Polo G feat. Lil Durk)\"], [\"Tower - Mixed\"], [\"Christmas Without You\"], [\"Surreal - Mixed\"], [\"Can I\"], [\"Heat Waves\"], [\"Overtones - Mixed\"], [\"MAYBE\"], [\"Dawn\"], [\"Jenny (I Wanna Ruin Our Friendship)\"], [\"Somebody Loves You (FYHYM2020)\"], [\"Do It\"], [\"Happy New Year\"], [\"Old Streets\"], [\"Capacitor\"], [\"Grace (feat. 42 Dugg)\"], [\"On The Board\"], [\"Lasting Lover\"], [\"Fight For Your Dreams - Extended Mix\"], [\"My Kind Of Present\"], [\"The First Step\"], [\"Stacy\"], [\"Malam (FYHYM2020) - Richard Durand Remix\"], [\"Lonely\"], [\"Till We Meet Again (FYHYM2020)\"], [\"Billions Light Years\"], [\"Happy New Year Bitch\"], [\"7 Years\"], [\"Billions Light Years\"], [\"New Year Jazz Party\"], [\"This Is Next Year\"], [\"New Year - Version 6\"], [\"New Year Collection 2019\"], [\"New Year - Version 3\"], [\"New Year - Version 1\"], [\"New Year - Version 2\"], [\"New Year - Piano Version\"], [\"New Year - Version 5\"], [\"New Year - Version 4\"], [\"New Year Collection 2020\"], [\"Happy Years\"], [\"Country Dawg (early years)\"], [\"Hard Year\"], [\"Lunar New Year - Version 4\"], [\"Magic New Year - Piano Version\"], [\"Lunar New Year - Version 3\"], [\"Lunar New Year - Version 2\"], [\"Lunar New Year - Version 6\"], [\"Lunar New Year - Version 5\"], [\"Magic New Year - Version 5\"], [\"Lunar New Year - Version 1\"], [\"Magic New Year - Version 1\"], [\"Lunar New Year - Piano Version\"], [\"Magic New Year - Version 2\"], [\"Magic New Year - Version 3\"], [\"Magic New Year - Version 4\"], [\"Happy New Year\"], [\"Happy New Year (I Don't Want to Fight Tonight)\"], [\"Lost a Ticked\"], [\"Energy Driver - Extended Mix\"], [\"A 2000-year-old pretty teenage vampire girl\"], [\"2000 Light Years Away (8-Bit Computer Game Version)\"], [\"2000\"], [\"Smile House 2000\"], [\"Disco 2000\"], [\"2000 Guns - Edit\"], [\"When I Sleep [Demo 2000]\"], [\"7 Years\"], [\"10 Thousand Years - Remastered\"], [\"My First Two Years\"], [\"\\u0422\\u0430\\u0442\\u0438\"], [\"Fuga\"], [\"Close Your Eyes\"], [\"Spirits In My Life - Vatan Remix\"], [\"Sorry\"], [\"Captain\"], [\"Colorful\"], [\"Cocoon\"], [\"Mental Disorder\"], [\"Fuck the Shit\"], [\"X-10\"], [\"Kids Under Speeds\"], [\"Control - Drum & Bass Mix\"], [\"See You Light\"], [\"Atmosphere\"], [\"Strike\"], [\"See You Light\"], [\"\\u0410\\u043d\\u0430\\u043a\\u043e\\u043d\\u0434\\u0430\"], [\"Thunder\"], [\"God of War\"], [\"No No\"], [\"Close\"], [\"Ur so F**kIng COol\"], [\"Rush - Hotknife Remix\"], [\"Hot In Herre\"], [\"Ocean Breeze - Radio Edit\"], [\"Bella Ciao - Radio Edit\"], [\"Intentions\"], [\"Gossamer - ANTON%F Remix\"], [\"Stop This Flame\"], [\"21 Questions\"], [\"Anyone of Us\"], [\"No Letting Go\"], [\"Love's Divine\"], [\"Se\\u00f1orita\"], [\"Rock Your Body\"], [\"Seven Nation Army\"], [\"Bump Bump Bump\"], [\"In Da Club\"], [\"Like Glue\"], [\"Move Your Feet\"], [\"Trouble\"], [\"Never Leave You (Uh Ooh, Uh Oooh)\"], [\"Metaltheme\"], [\"Everybodys Queen\"], [\"Working Ant\"], [\"Poetry\"], [\"Asshole Of The Month\"], [\"Date On A Plate\"], [\"Nothing But The Fun Of It\"], [\"Drop A Bomb\"], [\"First Day Of Spring\"], [\"Now That You\\u2019re Gone\"], [\"Selfcentered Bastards\"], [\"Relativity - Greg Downey Remix\"], [\"Welcome To Our Show\"], [\"Start My Life\"], [\"We Can\\u2019t Skate\"], [\"The Rider - Arc In The Sky Mix\"], [\"Unexpected Error\"], [\"Blackout - Original Mix\"], [\"So What\"], [\"Progress\"], [\"Nairobi - Alex M.O.R.P.H's Synthetic Empire Remix\"], [\"Troublebound\"], [\"Different Way - Electraglide Club Mix\"], [\"Tranquility Bass - Original Mix\"], [\"Vainqueur - 7AM At Heavens Gate Mix\"], [\"Electraglide - Original Mix\"], [\"Flow - John O'Callaghan Remix\"], [\"Ugly Nation\"], [\"My Shoes\"], [\"Get Her Grandma Drunk\"], [\"Stalker\"], [\"Slip\"], [\"Kids Today\"], [\"Astra - Original Mix\"], [\"Motivation\"], [\"Time To Say Goodbye\"], [\"Touch the Sky\"], [\"Ain't No Other Man\"], [\"London Bridge\"], [\"Candyman\"], [\"Buttons\"], [\"Hips Don't Lie\"], [\"Sexyback\"], [\"U and Ur Hand\"], [\"Upside Down - From \\\"Curious George\\\"\"], [\"I Belong to You (Il Ritmo Della Passione)\"], [\"Rock This Party (Everybody Dance Now)\"], [\"Smile\"], [\"Glamorous\"], [\"Goodbye My Lover\"], [\"Take the Lead (Wanna Ride)\"], [\"Boogie 2Nite\"], [\"Distance - Original Mix\"], [\"Chime - Original Mix\"], [\"Black - Original Mix\"], [\"Halfway Home - Peetu S Remix\"], [\"Season - Original Mix\"], [\"The Road Less Travelled\"], [\"Express - Original Mix\"], [\"Miss Understood\"], [\"B-Boy's Anthem\"], [\"It Ain't Nothin' like\"], [\"Giving You Acid - Original Mix\"], [\"One Way - Original Mix\"], [\"Salt Drops - Original Mix\"], [\"The Vault - John Askew Remix\"], [\"Faceplant - Original Mix\"], [\"You - Original Mix\"], [\"Lost Odyssey - Original Mix\"], [\"The Door - Activa Remix\"], [\"Shade of Your Soul - Sly One Vs Jurrane Remix\"], [\"I Am DJ - Original Mix\"], [\"Vandalism - Original Mix\"], [\"I Got U\"], [\"Panda\"], [\"Cake By The Ocean\"], [\"Let Me Go\"], [\"Blurred Lines - Physical Version\"], [\"Ain't Nobody (Loves Me Better)\"], [\"Pompeii\"], [\"I Took A Pill In Ibiza - Seeb Remix\"], [\"Hold Back The River\"], [\"Wake Me Up - Radio Edit\"], [\"On My Mind\"], [\"I Will Follow You - Early Demo\"], [\"Vicious Circle\"], [\"Mexico - Early Demo\"], [\"On My Mind - Early Demo\"], [\"Therapeutic\"], [\"I Will Follow You\"], [\"Cage - Early Demo\"], [\"Mexico\"], [\"False - Alvaro Hylander Remix - Mixed\"], [\"Round Numbers - Mixed\"], [\"Cream Soda - Blakkat Remix - Mixed\"], [\"Just A Dream - Mixed\"], [\"Station Novembre - Mixed\"], [\"Tears from Spain - Mixed\"], [\"Forgotten By The Universe - Jeff Fontaine and Deep Spelle Lost In Space Remix - Mixed\"], [\"Everything to Me - Giuseppe Ottaviani Remix\"], [\"Shrinks Suck\"], [\"Velocity - Original Mix\"], [\"Dub 4 Delightin' & Not Debatin' (Elis Iluht's 2012 Why & How Edit)\"], [\"Kekkonnouta\"], [\"The World Turned White Again\"], [\"Cesare's Song\"], [\"The Overwhelming Flame\"], [\"Chronos\"], [\"Another Image Taken from a Dream\"], [\"Spaces\"], [\"Slip Through the Cracks\"], [\"Icarus\"], [\"I'm Losing You - Live at London Palladium, 2014\"], [\"Good Feelin' About It - Live at London Palladium, 2014\"], [\"One in a Million - Live at London Palladium, 2014\"], [\"Come Rain or Shine - Live at London Palladium, 2014\"], [\"Time Waits for No One - Live at London Palladium, 2014\"], [\"I Think It's Going to Rain Today - Live at London Palladium, 2014\"], [\"Svt Kulturnyheterna 2015-12-02\"], [\"The New Year\"], [\"All My Years\"], [\"30 years old\"], [\"Out There (Robert Nickson 2016 Remix) - Mixed\"], [\"Spread Love - Dave Lee 2016 Retouch Edit\"], [\"7 Years\"], [\"Can't Get High Without You - 2016 Remaster Edit\"], [\"Home (2017)\"], [\"Setareh (2017)\"], [\"Eternal Being (2017)\"], [\"Alininha 2017\"], [\"2017 Kaise Mani\"], [\"Turn This Train (2017)\"], [\"The Last Time (2017)\"], [\"Slumz 2016 - 2017 (Bonus Track)\"], [\"Life Ain't Fair (Jul 2017)\"], [\"Alone - September 2017 Demo\"], [\"New Year Eve 2019\"], [\"A Fine Sin - 2018 Remaster\"], [\"Im So Dope (Jan 2018)\"], [\"Count Us In - 2018 Remaster\"], [\"Machine of Death - 2018 Remaster\"], [\"What's That Noisj - 2018 Remaster\"], [\"Listen & Learn - 2018 Remaster\"], [\"Egad - Winter 2018 Demo\"], [\"Caged Fury - Part 1 - 2018 Remaster\"], [\"Carefree - Live, Berlin, 2018\"], [\"E Samba 2018 - Original Short Edit\"], [\"Battlefield - Carnage & Cluster Remix - 2018 Remaster\"], [\"Evolution - Helios Is Dead Remix - 2018 Remaster\"], [\"An Angel - Live 2019\"], [\"White Christmas - Live 2019\"], [\"Ares Qui - Live 2019\"], [\"She's Crazy - Live 2019\"], [\"Break Free - Live 2019\"], [\"24 Nights (Dec 2019)\"], [\"El Camino - Live 2019\"], [\"Six S Nov (2019)\"], [\"First Time - Live 2019\"], [\"Black Ops (Oct 2019)\"], [\"Baby Smile - Live 2019\"], [\"Technology [generation 2018-2019].\"], [\"The Remix of Dance 2019\"], [\"Night Sky - 2019 Mix\"], [\"Baila Mi Corazon - Live 2019\"], [\"Roses Of Red - Live 2019\"], [\"Why Why Why - Live 2019\"], [\"Over The Hump - Live 2019\"], [\"Dat's So True (Sep 2019)\"], [\"Oh Holy Night - Live 2019\"], [\"The Raid - Acoustic Session 2019\"], [\"Take My Hand - Live 2019\"], [\"Cover The Road - Live 2019\"], [\"Glimpse of a Dream (2019)\"], [\"388859 (flumpool Year-End Live\\\"FOR ROOTS\\\" Shiroten Feels Once More at Osaka Jo-Hall 2019.12.30)\"], [\"Harukaze (flumpool Year-End Live\\\"FOR ROOTS\\\" Shiroten Feels Once More at Osaka Jo-Hall 2019.12.30)\"], [\"Falling - November 2019 Demo\"], [\"HELP (flumpool Year-End Live\\\"FOR ROOTS\\\" Shiroten Feels Once More at Osaka Jo-Hall 2019.12.30)\"], [\"I Was Born About Four Thousand Years Ago - In the Shadow of the Hill Outtake, 2019\"], [\"Brace Yourself (IMPAQT 2019 Anthem)\"], [\"I Can't Help Myself - Live 2019\"], [\"We Are The World - Live 2019\"], [\"Let My People Go - Live 2019\"], [\"Once In A While - Live 2019\"], [\"We Had A Dream - Live 2019\"], [\"Key To My Heart - Live 2019\"], [\"Path Of You (2019) - Darbuka Version\"], [\"Jack Names the Planets - 2019 - Remaster\"], [\"Blues Loop - Fall 2019 Demo\"], [\"Alfred\\u2019s Theme\"], [\"King\"], [\"Blinding Lights (with ROSAL\\u00cdA) - Remix\"], [\"One Margarita\"], [\"Ando M\\u00e1s Que Mal\"], [\"Catharsis - Mixed\"], [\"Wayne's Story\"], [\"2020 (New Year)\"], [\"Redman\"], [\"Let's Put the Year to Bed\"], [\"Lonely (with Jonas Brothers)\"], [\"secret base \\u301c\\u541b\\u304c\\u304f\\u308c\\u305f\\u3082\\u306e\\u301c(10 years after Ver.) (\\u3042\\u306e\\u65e5\\u898b\\u305f\\u82b1\\u306e\\u540d\\u524d\\u3092\\u50d5\\u9054\\u306f\\u307e\\u3060\\u77e5\\u3089\\u306a\\u3044\\u3002)\"], [\"Havin My Way (feat. Lil Durk)\"], [\"The Legacy - ReOrder Remix\"], [\"One Whole Day (feat. Wiz Khalifa)\"], [\"Illusion\"], [\"The Lighthouse Keeper\"], [\"Isis (feat. Logic)\"], [\"Never Really Get There - Mixed\"], [\"\\u2018tis the damn season\"], [\"Tunnel Vision - Mixed\"], [\"Gimme What I Want\"], [\"Giant Steps - Mixed\"], [\"Just About Over You - Radio Edit\"], [\"The Next Chapter - Mixed\"], [\"Time Flies\"], [\"The Adventures of Moon Man & Slim Shady (with Eminem)\"], [\"Letter From Houston\"], [\"Something Bigger - Elevven Remix (Mixed)\"], [\"Narrow Road (feat. Lil Baby)\"], [\"Night Crawling (feat. Billy Idol)\"], [\"The Launch - Mixed\"], [\"Heatin Up (feat. Gunna)\"], [\"The Sound Of Letting Go (Tribute To Yotam) [FYHYM2020]\"], [\"Deep End Freestyle\"], [\"Bichiyal\"], [\"CANCI\\u00d3N CON YANDEL\"], [\"Cult\"], [\"All These Niggas (feat. Lil Durk)\"], [\"A State Of Trance (ASOT 987) - ASOT Tune Of The Year 2020 Random Tracks\"], [\"A Little Bit Yours\"], [\"The Most Wonderful Time Of The Year - Live From The Royal Albert Hall / 2020\"], [\"Mmmh\"], [\"Girls in the Hood\"], [\"F2020\"], [\"We Ball\"], [\"Awakening (FYHYM2020)\"], [\"Deep Sleep Recovery Noise\"], [\"Oblivion (FYHYM2020)\"], [\"Despeinada\"], [\"Stardust (FYHYM2020)\"], [\"Fade Away\"], [\"Happy New Year - 2020 Edit\"], [\"Bih Yah\"], [\"The Journey (FYHYM2020)\"], [\"Drip Like ME\"], [\"Mindreader\"], [\"Levitating\"], [\"Another You (FYHYM2020)\"], [\"I Like Him\"], [\"I Believe (FYHYM2020)\"], [\"Don\\u2019t Stop (feat. Young Thug)\"], [\"2020: One Hell of a Year\"], [\"What If I Told You That I Love You\"], [\"Hold Me Now (Mixed)\"], [\"None of Your Love\"], [\"Can I Count On You (Mixed)\"], [\"FIND MY WAY\"], [\"Time To Play (FYHYM2020)\"], [\"Lonely If You Are\"], [\"In My Mind (FYHYM2020)\"], [\"Armed & Dangerous\"], [\"Tale Of Light (FYHYM2020)\"], [\"Drinkin' Beer. Talkin' God. Amen. (feat. Florida Georgia Line)\"], [\"You'll Be OK (FYHYM2020)\"], [\"Higher\"], [\"Back To Life (FYHYM2020)\"], [\"Jeans\"], [\"This I Vow (FYHYM2020)\"], [\"Kyoto\"], [\"Into The Light - Mixed\"], [\"(i hope you) miss me\"], [\"Recovery (John O\\u2019Callaghan Remix) - Mixed\"], [\"Backdoor\"], [\"Life Half Lived - Mixed\"], [\"Cabin Fever\"], [\"Jupiter Boulevard - Taylor Torrence Remix\"], [\"Boku no Sensou - TV Size\"], [\"Punisher\"], [\"Together\"], [\"I Am The God (FYHYM2020)\"], [\"Zoo York (feat. Fivio Foreign & Pop Smoke)\"], [\"We Are The World (FYHYM2020)\"], [\"Dough\"], [\"Afterlight (FYHYM2020) - Extended Club Mix\"], [\"Excitement (feat. PARTYNEXTDOOR)\"], [\"D.A.A.D. (FYHYM2020)\"], [\"Sum 2 Prove\"], [\"Welcome To Your Life (FYHYM2020)\"], [\"Lo Mein\"], [\"Heart Of Glass (Live from the iHeart Festival)\"], [\"Tone Deaf\"], [\"Tattoos Together\"], [\"Turning Point (FYHYM2020) - Billy Gillies Remix\"], [\"Physical\"], [\"Leichte Kavallerie: Ouvert\\u00fcre\"], [\"Guns Blazing (feat. Dr. Dre & Sly Pyper)\"], [\"peace\"], [\"Liebesgr\\u00fc\\u00dfe, Walzer, Op. 56\"], [\"Demon\"], [\"Liechtenstein-Marsch, Op. 36\"], [\"Slidin\"], [\"That Way - Bonus Track\"], [\"The Light - Mixed\"], [\"Pardon (feat. Lil Baby)\"], [\"Words Cannot Describe - 2020 Version\"], [\"Then Leave (feat. Queendome Come)\"], [\"Del Mar\"], [\"SELFISH\"], [\"Coffee (feat. Marc E. Bassy)\"], [\"Listen\"], [\"Stayin Alive\"], [\"Never Going Down (FYHYM2020) - Richard Durand Remix\"], [\"Perfect\"], [\"What Have I Got To Lose (FYHYM2020)\"], [\"Beautiful Pain (Losin My Mind)\"], [\"hole in the bottle (with Shania Twain)\"], [\"Momma\\u2019s House\"], [\"Shake The Room (feat. Quavo)\"], [\"In Search Of Sunrise (FYHYM2020) - Dream Sequence Remix\"], [\"Whats Poppin (feat. DaBaby, Tory Lanez & Lil Wayne) [Remix] - Bonus Track\"], [\"I Need Your Lovin' (Like The Sunshine) [FYHYM2020]\"], [\"T.D (Lil Yachty & Tierra Whack feat. A$AP Rocky & Tyler, The Creator)\"], [\"The Phuture\"], [\"Under My Skin\"], [\"Clouds - Mixed\"], [\"Beautiful Trip\"], [\"Silent Waves - Mixed\"], [\"2020 Freestyle\"], [\"Winden - Mixed\"], [\"33\"], [\"Meraxes - Mixed\"], [\"Cigarette Ahegao\"], [\"High Right Now (feat. Wiz Khalifa) - Remix\"], [\"Commercial (feat. Lil Uzi Vert)\"], [\"Gimme Love\"], [\"Dirt Road\"], [\"Without Me\"], [\"NEED YOU MOST (So Sick)\"], [\"Meh\"], [\"THROWBACK\"], [\"BookBag 2.0 (feat. Polo G)\"], [\"Starstruck (FYHYM2020)\"], [\"Blue Hour\"], [\"Paradise (FYHYM2020)\"], [\"Azul\"], [\"Flash (FYHYM2020)\"], [\"Dame Tu Calor\"], [\"Bliss (FYHYM2020)\"], [\"GOOBA\"], [\"Raindrops - Misha Sinal Remix\"], [\"Better\"], [\"The Phuture (FYHYM2020)\"], [\"La Curiosidad (feat. Dj Nelson, Jhay Cortez, Lunay & Kendo Kaponi) - Blue Grand Prix Remix\"], [\"Re-Election (FYHYM2020)\"], [\"She Got That\"], [\"The Voice (FYHYM2020)\"], [\"Prospect (ft. Lil Baby)\"], [\"Dark Lullabies (FYHYM2020)\"], [\"Safe With Me (with Audrey Mika)\"], [\"My Remedy (FYHYM2020)\"], [\"\\u0422\\u0430\\u0442\\u0438\"], [\"Fuga\"], [\"Close Your Eyes\"], [\"Spirits In My Life - Vatan Remix\"], [\"Sorry\"], [\"Captain\"], [\"Colorful\"], [\"Cocoon\"], [\"Mental Disorder\"], [\"Fuck the Shit\"], [\"X-10\"], [\"Kids Under Speeds\"], [\"Control - Drum & Bass Mix\"], [\"See You Light\"], [\"Atmosphere\"], [\"Strike\"], [\"See You Light\"], [\"\\u0410\\u043d\\u0430\\u043a\\u043e\\u043d\\u0434\\u0430\"], [\"Thunder\"], [\"God of War\"], [\"No No\"], [\"Close\"], [\"Ur so F**kIng COol\"], [\"Rush - Hotknife Remix\"], [\"Hot In Herre\"], [\"Ocean Breeze - Radio Edit\"], [\"Bella Ciao - Radio Edit\"], [\"Intentions\"], [\"Gossamer - ANTON%F Remix\"], [\"Stop This Flame\"], [\"Not New Year's History\"], [\"Naked Fruit (The Six Year Song)\"], [\"My Next Thirty Years\"], [\"My Next Thirty Years\"], [\"99 Year Blues - Live\"], [\"Together - Live at Shepherd's Bush Empire, London 2000\"], [\"Ultra2000\"], [\"Coffemaker2000\"], [\"If You Ever Needed - Live at Shepherd's Bush Empire, London, 2000\"], [\"Shine\"], [\"Rabbit Hole\"], [\"Almost Nest You - Haveck Remix\"], [\"Close\"], [\"Ur so F**kIng COol\"], [\"Rush - Hotknife Remix\"], [\"Hot In Herre\"], [\"Ocean Breeze - Radio Edit\"], [\"Bella Ciao - Radio Edit\"], [\"Intentions\"], [\"Tarantella 2K20\"], [\"Dark Room\"], [\"Lonely\"], [\"Level of Awareness\"], [\"Those Kinda Nights\"], [\"Friendly Fire\"], [\"Blue (Da Ba Dee) 2K21 - Radio Edit\"], [\"Falling\"], [\"Freedom Forever - Kelle Remix\"], [\"I Like To Party - Kardano & Joel West VIP Remix\"], [\"Beast Mode Edm\"], [\"Medusa\"], [\"Losing My Mind - Radio Edit\"], [\"High As A Mafk\"], [\"Don't Take It Away\"], [\"Freedom Forever - Kelle Remix\"], [\"I Like To Party - Kardano & Joel West VIP Remix\"], [\"Beast Mode Edm\"], [\"Instant History\"], [\"Breathe\"], [\"Work It\"], [\"A Different Way\"], [\"Alone, Pt. II\"], [\"Wasting Time\"], [\"Lust\"], [\"Lift Me Up\"], [\"Gimme The Light - Radio Edit\"], [\"Alcohol\"], [\"Lift Me Up\"], [\"Gimme The Light - Radio Edit\"], [\"Akhire Nua Swapna\"], [\"Lockdown\"], [\"Come On - Radio Edit\"], [\"You & Me - Flume Remix\"], [\"Midnight (The Hanging Tree)\"], [\"All Night, All Day - Radio Edit\"], [\"By Your Side\"], [\"Holiday\"], [\"My Body\"], [\"Meet Me\"], [\"I'm The One\"], [\"Akhire Nua Swapna\"], [\"Empty Your Mind\"], [\"She's A Nobody - Banju's Deep Remix\"], [\"Breaking Me\"], [\"Be Yourself\"], [\"This Girl - Kungs Vs. Cookin' On 3 Burners\"], [\"Lockdown\"], [\"Come On - Radio Edit\"], [\"Let's Do This\"], [\"Infinity - Radio Edit\"], [\"Lose Somebody\"], [\"The Moment\"], [\"Ncs Style 2020\"], [\"Juliet & Romeo\"], [\"Zombie Safe-House\"], [\"The Ramjet Revolution\"], [\"The Universal Cage\"], [\"The Spirit of a Rootless Mountain\"], [\"Spinejuice Cocktails\"], [\"Fostertank Alter\"], [\"The Instant Army Ray-Gun\"], [\"Return of the Millipede World-Eater\"], [\"Living With Bugs\"], [\"Something in a Pit\"], [\"Uranium Grail\"], [\"Smack That\"], [\"Mas Que Nada\"], [\"Dreamgirls\"], [\"Life Is a Highway\"], [\"Chasing Cars\"], [\"Money Maker\"], [\"One\"], [\"Promiscuous\"], [\"Put Your Hands up for Detroit\"], [\"Fergalicious\"], [\"Maneater\"], [\"You Know My Name - From \\\"James Bond: Casino Royale\\\"\"], [\"Me & U\"], [\"I Write Sins Not Tragedies\"], [\"What Hurts the Most\"], [\"Irreplaceable\"], [\"(When You Gonna) Give It up to Me\"], [\"I Don't Feel Like Dancin'\"], [\"Sway\"], [\"Suddenly I See\"], [\"Supermassive Black Hole\"], [\"Who Knew\"], [\"S.O.S\"], [\"Keep Holding On - From \\\"Eragon\\\"\"], [\"My Love\"], [\"Say It Right\"], [\"Unfaithful\"], [\"All Good Things (Come to an End)\"], [\"Breaking Free - From \\\"High School Musical\\\"\"], [\"Hurt\"], [\"There It Go! (The Whistle Song)\"], [\"I Wanna Love You\"], [\"Patience\"], [\"Crazy\"], [\"Fairytale Gone Bad\"], [\"Relax, Take It Easy\"], [\"Summer Wine\"], [\"Our Song\"], [\"Do You Know? (The Ping Pong Song)\"], [\"1973\"], [\"Grace Kelly\"], [\"With Every Heartbeat\"], [\"Push\"], [\"Dear Mr. President\"], [\"Party Like a Rockstar\"], [\"Stronger\"], [\"Bartender\"], [\"Sweetest Girl (Dollar Bill)\"], [\"What I've Done\"], [\"Umbrella\"], [\"Give It to Me\"], [\"Makes Me Wonder\"], [\"Lovestoned\"], [\"Don't Matter\"], [\"Hey There Delilah\"], [\"Gimme More\"], [\"Bubbly\"], [\"The Sweet Escape\"], [\"Lift - John Askew Rework\"], [\"From Dubai with Love - Original Mix\"], [\"Everybody Rise\"], [\"From Dubai with Love - Original Mix\"], [\"And They Say Ox City\"], [\"Ties That Bind\"], [\"Small World\"], [\"Cage\"], [\"You Want Me (La-La-La)\"], [\"Movin' In\"], [\"Sunburn (2011)\"], [\"Beautiful Mind (2012)\"], [\"Changes - Original Mix\"], [\"Last Secret (2019)\"], [\"Time Travel (2016)\"], [\"My Fault - Bissen Remix\"], [\"Ain't Talking to You (Lounge Version)\"], [\"Less Than Wonderful\"], [\"The Witch - Peetu S 'Witch Hunt' Remix\"], [\"Done\"], [\"Russian Mail Order Bride\"], [\"Future Forward - Intro Mix\"], [\"Capricorn - Original Mix\"], [\"Tilt My Girl on the Tilt-a-Whirl\"], [\"Tilt My Girl on the Tilt-a-Whirl\"], [\"Ain't Talking to You (Alternative Version)\"], [\"Milgram Sheep\"], [\"Two for Me, One for Jesus\"], [\"Steam - Dark Mix\"], [\"Shady - Original Mix\"], [\"Take It\"], [\"No Cover\"], [\"Daddy's Little Girl\"], [\"Let Go - Indecent Noise Dark Sessions Edit\"], [\"Lather, Rinse, Repeat\"], [\"Speed of Light - Original Mix\"], [\"24\"], [\"Sailor\"], [\"Zombie\"], [\"The Distance Between Us and the Sea\"], [\"A Tree Falls in the Forest\"], [\"Second Sight\"], [\"Curiosity\"], [\"Dark Town\"], [\"Mellow\"], [\"Fierce\"], [\"Smooth\"], [\"Hard Knocker\"], [\"Earth Karma\"], [\"Trap\"], [\"Bbp 20\"], [\"Go Your Own Way\"], [\"Save Me\"], [\"2 Side Story\"], [\"As the Fates Might Have It (2015)\"], [\"It Took 50 Years\"], [\"Get on out there - F & B Club Mix 2016\"], [\"The Last Day of the Year\"], [\"Falling Through the Years (Live)\"], [\"That's How I Feel - Live at Preston Guild Hall, 2016\"], [\"Stars on My Wrist - 2017 Version\"], [\"Take Me Higher 2017 - Club Mix\"], [\"Move on Down the Line (2017)\"], [\"The One That Got Away (2017)\"], [\"Lust, Love & Broken Hearts (2017)\"], [\"Loneliness Ain't Got Nothin' on Me (2017)\"], [\"Imagined Conversations (2017) for Trumpet and Piano: I. Ponderous and Yearning; II. Still and Tender; III. Frenetic and Exuberant\"], [\"Dig Deep - Live Acoustic Trio, 2018\"], [\"Sanga Abaku\\u00e1 - Live, Berlin, 2018\"], [\"Deathrow - Carnage & Cluster's Distorted Edit - 2018 Remaster\"], [\"Life's Too Short - Live Acoustic Trio, 2018\"], [\"Melody for Melonae - Live, Berlin, 2018\"], [\"Villanelle for Six - Live, Berlin, 2018\"], [\"Let's Cool One - Live, Berlin, 2018\"], [\"Dedicated - Live at Royal Theatre Carr\\u00e9, Amsterdam, 2018\"], [\"This Year\"], [\"30 years old\"], [\"A Good Year\"], [\"That's All That Matters to Me - Live Acoustic Trio, 2018\"], [\"Remind Me - Summer 2019 Demo\"], [\"Dark Drones - Spring 2019 Demo\"], [\"Broken Stars - Winter 2019 Demo\"], [\"Do What You Do - 2019 Mix\"], [\"Never Gonna Break Me Down - Live 2019\"], [\"Celestia (UNTOLD Fortune 2019 Anthem) [FYHYM2019]\"], [\"Vegan Asses of Rock'n'roll - 2019 John's Version\"], [\"Two Years\"], [\"Long Way From Home - Acoustic Session 2019\"], [\"End of Me - Winter 2019 Demo\"], [\"A Fresh Start - November 2019 Demo\"], [\"Fly to Mars - Fall 2019 Demo\"], [\"Two Years...\"], [\"This Year\"], [\"A Year Ago\"], [\"Nano Water 2019 - From Inner To Outer Space Version\"], [\"Shadow Of Us (Electronic Family 2019 Anthem) [FYHYM2019]\"], [\"Years (Written in 2018)\"], [\"One Thousand Years\"], [\"Fifteen Long Years (Live)\"], [\"Summer Feelings (feat. Charlie Puth) - From 'SCOOB!' The Album\"], [\"Blumenfest-Polka, Op. 111\"], [\"Moana\"], [\"Wo die Zitronen bl\\u00fch'n, Walzer, Op. 364\"], [\"Window\"], [\"Monsters (feat. Demi Lovato and blackbear)\"], [\"Bittersweet & Blue - Above & Beyond Club Mix (Mixed)\"], [\"Trust\"], [\"Refugee\"], [\"Catharsis - Mixed\"], [\"mad woman\"], [\"U Played (feat. Lil Baby)\"], [\"wAnt me back\"], [\"Fake\"], [\"Past Life (with Selena Gomez)\"], [\"Everything (FYHYM2020) - STANDERWICK Remix\"], [\"Outta Time (feat. Drake)\"], [\"Come Back Home (FYHYM2020)\"], [\"Sweet Night\"], [\"Close My Eyes (FYHYM2020)\"], [\"Stunnin' (feat. Harm Franklin)\"], [\"Stars (Oscar Wilde)\"], [\"Don Don\"], [\"I'm Ready\"], [\"Enjoy Yourself (feat. Karol G)\"], [\"Raccoon\"], [\"Not PLaying\"], [\"Gold (FYHYM2020) - Richard Durand Remix\"], [\"Jubilee Line\"], [\"Away From The Sun (FYHYM2020)\"], [\"Control\"], [\"Castles In The Sky (FYHYM2020)\"], [\"Break Shit\"], [\"Only A Heartbeat Away (FYHYM2020)\"], [\"Whole Lotta Choppas\"], [\"Eyes Blue Like The Atlantic, Pt. 2 (feat. Powfu, Alec Benjamin & Rxseboy)\"], [\"Reach Out (FYHYM2020) - Madwave Remix\"], [\"Happy Does\"], [\"Rambling Robin - Remastered 2020\"], [\"Cold World\"], [\"Mask\"], [\"Route 66 (feat. EST Gee)\"], [\"Time Machine\"], [\"Stunnin' (feat. Harm Franklin)\"], [\"Take It Easy\"], [\"Zuul\"], [\"Solitaires (feat. Travis Scott)\"], [\"Morpheus\"], [\"THICK\"], [\"Splice\"], [\"Patek\"], [\"Till We Meet Again\"], [\"Wet (She Got That\\u2026)\"], [\"Only A Heartbeat Away\"], [\"Young Wheezy (with Gunna)\"], [\"All the Smoke (feat. Gunna & Wiz Khalifa)\"], [\"i don't want another sorry\"], [\"Tarzan\"], [\"VILLAIN\"], [\"De Cora <3\"], [\"OK\"], [\"Internet Sensation\"], [\"Skechers\"], [\"Addison Rae\"], [\"Waiting On The Other Side (FYHYM2020)\"], [\"Ice Cream (with Selena Gomez)\"], [\"Wine, Beer, Whiskey\"], [\"Dark Warrior (FYHYM2020) - Chris Schweizer Remix\"], [\"King Vamp\"], [\"Love Will Find Its Way (FYHYM2020)\"], [\"Discombobulated\"], [\"Lion King On Ice\"], [\"that way\"], [\"Happiest Year\"], [\"El Envidioso\"], [\"All I Want (FYHYM2020) - Mark Sherry Remix\"], [\"Hurt\"], [\"Church by the sea\"], [\"Punk Monk\"], [\"One With Me (FYHYM2020) - Joel Hirsch Remix\"], [\"Chosen (feat. Ty Dolla $ign)\"], [\"Symphonic - Mixed\"], [\"THICK (feat. Megan Thee Stallion) - Remix\"], [\"Frozen - Mixed\"], [\"Ponte Pa' Mi\"], [\"Say My Name (Paul Denton Remix) - Mixed\"], [\"JumpOutTheHouse\"], [\"Heaven (FYHYM2020) - Robbie Seed & Digital Vision Remix\"], [\"Heartless (with Julia Michaels & Morgan Wallen)\"], [\"Learn To Fly (FYHYM2020) - Mhammed El Alami Remix\"], [\"I Love You's\"], [\"Say So (feat. Nicki Minaj)\"], [\"These Demons (feat. MAJ)\"], [\"Steady Forest Rain\"], [\"Steam Powered Stories (Intro) [Remastered 2020]\"], [\"Teach Me How To Love\"], [\"Oh Santa! (feat. Ariana Grande & Jennifer Hudson)\"], [\"In Euphoria We Rise (Mixed) - Progressive Mix\"], [\"High\"], [\"Nothing Lasts (Mixed) - Deep Instrumental Mix\"], [\"blind\"], [\"I've Been Needing You (FYHYM2020) - Mhammed El Alami Remix\"], [\"Relaci\\u00f3n\"], [\"From Dust To Ground (Mixed) - Progressive Mix\"], [\"Snow On Tha Bluff\"], [\"Dark Side Of The Harmony (FYH 200 Anthem) [FYHYM2020]\"], [\"Tattoo - Remix with Camilo\"], [\"Happy New Year\"], [\"Coffin\"], [\"Spring Breathing\"], [\"FAVORITE MISTAKE\"], [\"A Thousand Years\"], [\"A Little Bit Off\"], [\"Graduation 2020 (Worst Year Ever)\"], [\"Pain 1993 (with Playboi Carti)\"], [\"\\u795d\\u4f60 Happy New Year\"], [\"epiphany\"], [\"Neujahrsgru\\u00df / New Year's Address / Allocution du Nouvel An\"], [\"Tinted Eyes (feat. blackbear & 24kGoldn)\"], [\"Cupido, Polka fran\\u00e7aise, Op. 81\"], [\"Caramelo\"], [\"Knall und Fall, Polka schnell, Op. 132\"], [\"Pick Up Your Feelings\"], [\"Tritsch-Tratsch Polka, Op. 214\"], [\"La Vi Llorar\"], [\"Freuet euch des Lebens, Walzer, Op. 340\"], [\"Freakin' Out On the Interstate\"], [\"Beat Box\"], [\"Never Forget - Mixed\"], [\"Movie (feat. Lil Durk)\"], [\"The Great Story - Mixed\"], [\"Nobody's Love\"], [\"Daisy 2.0 (feat. Hatsune Miku)\"], [\"Don't Take It Away\"], [\"Freedom Forever - Kelle Remix\"], [\"I Like To Party - Kardano & Joel West VIP Remix\"], [\"Beast Mode Edm\"], [\"Instant History\"], [\"Breathe\"], [\"Work It\"], [\"A Different Way\"], [\"Alone, Pt. II\"], [\"Wasting Time\"], [\"Lust\"], [\"Lift Me Up\"], [\"Gimme The Light - Radio Edit\"], [\"Alcohol\"], [\"Lift Me Up\"], [\"Gimme The Light - Radio Edit\"], [\"Akhire Nua Swapna\"], [\"Lockdown\"], [\"Come On - Radio Edit\"], [\"You & Me - Flume Remix\"], [\"Midnight (The Hanging Tree)\"], [\"All Night, All Day - Radio Edit\"], [\"By Your Side\"], [\"Holiday\"], [\"My Body\"], [\"Meet Me\"], [\"I'm The One\"], [\"Akhire Nua Swapna\"], [\"Empty Your Mind\"], [\"She's A Nobody - Banju's Deep Remix\"], [\"Breaking Me\"], [\"Be Yourself\"], [\"This Girl - Kungs Vs. Cookin' On 3 Burners\"], [\"Lockdown\"], [\"Come On - Radio Edit\"], [\"Let's Do This\"], [\"Infinity - Radio Edit\"], [\"Lose Somebody\"], [\"The Moment\"], [\"Ncs Style 2020\"], [\"Juliet & Romeo\"], [\"Master Player - Rokka Remix\"], [\"Master Player - Rokka Remix Edit\"], [\"Empty Box\"], [\"Coming Home\"], [\"Mona Lisa Cries\"], [\"Fables in Feline\"], [\"Lil 2020\"], [\"Free\"], [\"Legacy\"], [\"Soul for Sale\"], [\"Groove\"], [\"Wild Side\"], [\"Dinga Dinga - Radio Edit\"], [\"Be Kind\"], [\"Wip It\"], [\"What's going on\"], [\"I Got U\"], [\"Go Up\"], [\"Lost And Found - Radio Edit\"], [\"Memories\"], [\"Silence\"], [\"What U Need - Radio Edit\"], [\"Out of Control\"], [\"Faded Edm\"], [\"Love Got You - Radio Edit\"], [\"Friky Snake\"], [\"Twisted\"], [\"The Bones\"], [\"Daylight\"], [\"Destination - Extended Mix\"], [\"Idti - Anton Kholodny Remix\"], [\"Murder On The Dancefloor - Radio Edit\"], [\"There's Nothing Holdin' Me Back\"], [\"Your Love\"], [\"Need You - Radio Edit\"], [\"Vulnerable\"], [\"No One Like U\"], [\"Happy People - Radio Edit\"], [\"Time to Party - Extended Mix\"], [\"Righteous\"], [\"City of Angels\"], [\"Natalie Don't\"], [\"Calling on Me\"], [\"The Key to Life on Earth\"], [\"Lost in Yesterday\"], [\"The Reaper\"], [\"You Should Be Sad\"], [\"Forever\"], [\"Out of Control\"], [\"Boyfriend\"], [\"Say Something\"], [\"The Other Side\"], [\"Birthday\"], [\"Atlas\"], [\"Level of Concern\"], [\"Bloody Valentine\"], [\"Worry About Me\"], [\"911\"], [\"Now I'm in It\"], [\"The Woodchuck Song\"], [\"Stupid Love\"], [\"Power over Me\"], [\"Levitating\"], [\"Rockstar\"], [\"Godzilla\"], [\"That Time of Year\"], [\"Happy New Year\"], [\"7 Years\"], [\"That Time of Year\"], [\"Happy New Year\"], [\"New Years Celebration\"], [\"That Time of Year\"], [\"New Year's Eve Jazz\"], [\"New Year\\u2019s Eve Beats\"], [\"Chill House \\u2013 Happy New Year\"], [\"We Belong Together\"], [\"Cool\"], [\"Too\"], [\"Hung Up\"], [\"Don't Lie\"], [\"Chopped\"], [\"Feel - Doza's Remix\"], [\"Lose Control\"], [\"Pump It\"], [\"Candy Shop\"], [\"Ghetto Gospel\"], [\"Werkin With\"], [\"Solid Ground - Fred Everything Unreleased Lazy Dub\"], [\"Speed of Sound\"], [\"Memories\"], [\"Unbreakable\"], [\"Oh\"], [\"Simply Yes\"], [\"Friday - Trentemoller Remix\"], [\"Since U Been Gone\"], [\"Have a Nice Day\"], [\"How We Do\"], [\"Fix You\"], [\"Remember the Name\"], [\"Gold Digger\"], [\"Photograph\"], [\"Don't Cha\"], [\"On My Mind - Montreal Dub\"], [\"Nine Million Bicycles\"], [\"Laffy Taffy\"], [\"On The Highway\"], [\"Sunset\"], [\"The Bell That Never Rang - Radio Edit\"], [\"Strike the Colours\"], [\"Latenite\"], [\"My Favourite Dress\"], [\"Gallowhill - Live at The Bongo Club, Edinburgh, 2007\"], [\"Half Alive\"], [\"I Love the Sun\"], [\"Poor Man's Son - Remastered\"], [\"Dreamland\"], [\"Awake Isn't Good\"], [\"For About a Month\"], [\"Strange Sky\"], [\"Hinba\"], [\"Dolly\"], [\"The Portal\"], [\"Give Away Your Heart, Pt.1\"], [\"Beautiful Disguise\"], [\"Shoot Out the Stars\"], [\"Vigil I\"], [\"Sister in Song\"], [\"Tomorrow - Gustaf Remix\"], [\"I Defy\"], [\"I Saw the Dead\"], [\"To America\"], [\"Human\"], [\"Whitechapel\"], [\"She Put on Her Headphones - Radio Edit\"], [\"Tin Drum\"], [\"Love Is the Answer\"], [\"Far from Portland\"], [\"Take Me to Your Leader\"], [\"Silhouette\"], [\"More Than You Know\"], [\"Real Life\"], [\"Mark the Hard Earth\"], [\"Red Flowers\"], [\"Shining Bright\"], [\"Wild Mountainside\"], [\"Weightlifting - Instrumental\"], [\"In Luck - Radio Edit\"], [\"Tricky Love Stuff\"], [\"The Poorest Company\"], [\"The Flow Country\"], [\"The State of the English\"], [\"If You Want It\"], [\"Atomise\"], [\"The Language of Love\"], [\"Ghosts\"], [\"Scapa Flow 1919\"], [\"Blooming\"], [\"Vagabond\"], [\"Valid Jagger - Live\"], [\"Broke Me in Two\"], [\"Marina Blue\"], [\"Love Has Left the Room\"], [\"Return of the Millipede World-Eater\"], [\"Living With Bugs\"], [\"Something in a Pit\"], [\"Zombie Safe-House\"], [\"Spinejuice Cocktails\"], [\"The Ramjet Revolution\"], [\"The Universal Cage\"], [\"The Spirit of a Rootless Mountain\"], [\"Uranium Grail\"], [\"The Instant Army Ray-Gun\"], [\"Fostertank Alter\"], [\"Ruby\"], [\"Girlfriend\"], [\"Shine\"], [\"Don't Stop the Music\"], [\"The Way I Are\"], [\"Good Life\"], [\"Apologize\"], [\"Ayo Technology\"], [\"Same Mistake\"], [\"Low\"], [\"Big Girls Don't Cry\"], [\"Kiss Kiss\"], [\"Rehab\"], [\"No One\"], [\"When You're Gone\"], [\"S.O.S\"], [\"Beautiful Girls\"], [\"Rockstar\"], [\"Hate That I Love You\"], [\"Me Love\"], [\"This Ain't a Scene, It's an Arms Race\"], [\"Teardrops on My Guitar\"], [\"Me & Mr Jones\"], [\"Beautiful Liar\"], [\"Bleeding Love\"], [\"Sexy Movimiento\"], [\"Shadows of My Reflection\"], [\"I Hate You Love\"], [\"I've Got a Dream\"], [\"Boogie Down Revolution\"], [\"Shape Up - Paul Miller Remix\"], [\"King Dong - Original Mix\"], [\"Paradigm Shift - Terrafusion Remix\"], [\"Timebomb - Original Mix\"], [\"Ghost\"], [\"Shah Rah (2018)\"], [\"Mother Earth (2013)\"], [\"Into The Sunlight (2011)\"], [\"All or Nothing - Haris C Remix\"], [\"Everblue - Original Mix\"], [\"Southern Voice (2019)\"], [\"Nature (2015) - Uplifting Mix\"], [\"Path Of You (2019) - Darbuka Version\"], [\"Home (2017)\"], [\"Say the Words - Aly & Fila Remix\"], [\"Hope (2020)\"], [\"If We Want (2020)\"], [\"Alone (2018)\"], [\"Setareh (2017)\"], [\"Shabaneh (2017)\"], [\"Fade to Black - Sean Tyas Remix\"], [\"Sunyata - Original Mix\"], [\"Eastland (Remastered) (2014)\"], [\"Harmony (2015)\"], [\"Everything to Me - Acute Remix\"], [\"Philosophy Of Life (2016)\"], [\"Footprints - Before The Sunset Mix\"], [\"Sail over the Storm\"], [\"Golden Chalk - Version Idjut\"], [\"DF Bounce\"], [\"Kaze\"], [\"Arunatsunohi\"], [\"It's all right\"], [\"Arunatsunohi\"], [\"It's all right\"], [\"YumejyaAenaikara\"], [\"Borderline - Live at Symphony Hall, Birmingham, 2017\"], [\"Hope Amongst the Yearlings\"], [\"Satisfy My Soul - Live at Symphony Hall, Birmingham, 2017\"], [\"Watching over Me - Live at Symphony Hall, Birmingham, 2017\"], [\"Late at Night - Live at Symphony Hall, Birmingham, 2017\"], [\"Better Than Nothing - Live at Symphony Hall, Birmingham, 2017\"], [\"Bet Your Life - Live at Symphony Hall, Birmingham, 2017\"], [\"40 Year Old Libertarian\"], [\"Sleep on It - Live at Symphony Hall, Birmingham, 2017\"], [\"10 Thousand Years - Remastered\"], [\"Four Years - Live\"], [\"Pretty Polly - From \\\"Pretty Polly\\\" Soundtrack / 2019 Stereo Remix\"], [\"Hope Amongst the Yearlings\"], [\"Perfect Storm - Live at Cork Opera House, 2019\"], [\"These Days - Live at The Brighton Centre, 2019\"], [\"Freestyle of the Year\"], [\"Twenty Years Ago\"], [\"Happy New Years!! (Clear Vision)\"], [\"Light Years (WYM302)\"], [\"A Year With My Love\"], [\"What's Another Year - Live\"], [\"Last Day of Another Year\"], [\"The Green Hinge of the Year\"], [\"Light Years (WYM300)\"], [\"Life in a Bubble - Live at The Brighton Centre, 2019\"], [\"Raining in My Heart - Live at The Brighton Centre, 2019\"], [\"5 Years (Live at ERA)\"], [\"Make Your Mind Up - Live at Cork Opera House, 2019\"], [\"Too Many Years - Live\"], [\"Creature\"], [\"20/20\"], [\"Burn The Hoods\"], [\"Tomahawk (FYHYM2020)\"], [\"Dime C\\u00f3mo Quieres\"], [\"Hypnotized (FYHYM2020)\"], [\"Muwop (feat. Gucci Mane)\"], [\"Paradise (FYHYM2020)\"], [\"Whole Lotta Choppas (Remix) [feat. Nicki Minaj]\"], [\"Leonie (FYHYM2020)\"], [\"Stripes Like Burberry\"], [\"The Crack Was Ninety In The Isle Of Man - Live In Dublin / Remastered 2020\"], [\"drink my piss you nasty slut yeah yeah\"], [\"Stardust (Nikolauss Remix) - Mixed\"], [\"Turks (with Gunna & ft. Travis Scott)\"], [\"Buenos (Paul Denton Remix) - Mixed\"], [\"Power\"], [\"Tale Of Light - Mixed\"], [\"Green Dot\"], [\"Faustino - Mixed\"], [\"Tequila Shots\"], [\"All About You - Mixed\"], [\"Favorite Bitch (feat. Ty Dolla $ign)\"], [\"Time Machine (FYHYM2020)\"], [\"Forever (feat. Post Malone & Clever)\"], [\"Stay Down (with 6LACK & Young Thug)\"], [\"Fly (FYHYM2020) - Tycoos Remix\"], [\"hellboy\"], [\"I Love You (FYHYM2020)\"], [\"Gangstas\"], [\"Shakespeare Road\"], [\"Lil Bit\"], [\"Trance At The Opera (FYHYM2020)\"], [\"RELENTLESS (feat. Lil Uzi Vert)\"], [\"You'll Be Fine (Mixed) - Progressive Mix\"], [\"Between You & Me\"], [\"Rise Again (We Shall Overcome) [FYHYM2020]\"], [\"No Sl33p\"], [\"2020\"], [\"Come Back To Bed\"], [\"No Warning Lights (FYHYM2020) - Sean Tyas Remix\"], [\"Circles\"], [\"All For Love (FYHYM2020) - Giuseppe Ottaviani Remix\"], [\"Nada\"], [\"Psa 2020\"], [\"Chasing_(Demo)\"], [\"2020 Interlude\"], [\"Be A Light\"], [\"Crossroads\"], [\"Bet You Wanna (feat. Cardi B)\"], [\"Skyline\"], [\"3 Headed Goat (feat. Lil Baby & Polo G)\"], [\"Sankthansaften\"], [\"Around\"], [\"Everywhere I Go\"], [\"Share That Love (feat. G-Eazy)\"], [\"Heart Eyes\"], [\"All Week\"], [\"Let The Music Guide You (ASOT 950 Anthem) - Beatsole Remix\"], [\"Hate Me\"], [\"Seid umschlungen, Millionen! Walzer, Op. 443\"], [\"lie to me\"], [\"Eisblume, Polka mazur, Op. 55\"], [\"Secrets\"], [\"12 Contret\\u00e4nze, WoO 14\"], [\"champagne problems\"], [\"Im Fluge, Polka schnell, Op. 230\"], [\"Tap In (feat. Post Malone, DaBaby & Jack Harlow)\"], [\"Postillon Galop, Op. 16/2\"], [\"Pardon Me (Lil Yachty feat. Future & Mike WiLL Made-It)\"], [\"Amazing Grace\"], [\"Wrong Direction\"], [\"No Eres La Oficial\"], [\"Vortex - Mixed\"], [\"Saline Solution\"], [\"Unsaid Emily (feat. Charlie Gillespie)\"], [\"Tic Tac\"], [\"8.06 - Mixed\"], [\"21C/Delta\"], [\"Summer Sincerity - Mixed\"], [\"i miss u (with Au/Ra)\"], [\"Cool Again\"], [\"Atom - Mixed\"], [\"Heavy Rain\"], [\"Our Destiny - Mixed\"], [\"PICK UP (feat. Quavo)\"], [\"DND\"], [\"In My Head - Mixed\"], [\"Some Say - Felix Jaehn Remix\"], [\"Better Days\"], [\"Midnight - Mixed\"], [\"Yummy\"], [\"\\u685c - 2020 Remaster\"], [\"Texas Sun\"], [\"Spancilhill - Remastered 2020\"], [\"Photo ID\"], [\"SHINING\"], [\"Smile (with The Weeknd)\"], [\"Aimee (Remastered 2020)\"], [\"hoax\"], [\"hooligan\"], [\"concert for aliens\"], [\"Take a Ride\"], [\"Like You Do\"], [\"Sweet Hibiscus Tea\"], [\"Don't Rush (feat. DaBaby)\"], [\"Prices\"], [\"Lil Top\"], [\"The Adults Are Talking\"], [\"Demons and Monsters\"], [\"Pero Ya No\"], [\"Afterthought\"], [\"Joe McCann - Remastered 2020\"], [\"On That Time\"], [\"HAPPY NEW BPM 2020\"], [\"Easier\"], [\"Time Machine (Remastered 2020)\"], [\"Freedom\"], [\"Mechanical Menagerie (Remastered 2020)\"], [\"Goodbye\"], [\"New Year\"], [\"BYE ME FUI\"], [\"Our Year\"], [\"Ridin\\u2019 Roads\"], [\"The Inventor's Daughter (Remastered 2020)\"], [\"Too Much (feat. Usher)\"], [\"Mauna Kea - Mixed\"], [\"The Story\"], [\"Bravo - Mixed\"], [\"Good In Goodbye\"], [\"Emotions - Mixed\"], [\"Wishing For A Hero (feat. BJ The Chicago Kid)\"], [\"Vicious Tickle - Mixed\"], [\"I Don't Know Why\"], [\"\\u00c9liv\\u00e1gar - Mixed\"], [\"body bag (feat. YUNGBLUD & Bert McCracken of The Used)\"], [\"Falling Apart\"], [\"Silly Watch\"], [\"Demolition - Mixed\"], [\"Let Me Move You - From the Netflix film Work It\"], [\"The Cliffs Of Dooneen - Remastered 2020\"], [\"Good Days\"], [\"7 Years\"], [\"Vete\"], [\"A Letter to Michelle (Remastered 2020)\"], [\"Moonwalking in Calabasas - YG Remix\"], [\"I Want Only You (Remastered 2020)\"], [\"2021\"], [\"Chanel Bag\"], [\"Ignorantes\"], [\"Ignorantes\"], [\"Given-Taken\"], [\"Hey Sandy - Live In Dublin / Remastered 2020\"], [\"BOYSHIT\"], [\"New Year Resolutions\"], [\"YES! (feat. Rich The Kid & K CAMP)\"], [\"Holding Back the Year\"], [\"The Christmas Song (Shawn Mendes & Camila Cabello)\"], [\"Let Me Be Your Man (Remastered 2020)\"], [\"Bad Karma (feat. Joan Jett)\"], [\"Light Years - Mixed\"], [\"Travesuras\"], [\"Forever of Light Years\"], [\"Soda (feat. Take A Daytrip)\"], [\"Hold On To Me - Extended Mix\"], [\"Still Your Best\"], [\"Be Happy\"], [\"Samsara\"], [\"No No No (feat. A Boogie Wit Da Hoodie)\"], [\"New Year New You\"], [\"Never Be Me\"], [\"Christmas the Whole Year Round\"], [\"Eleven (feat. Summer Walker)\"], [\"Best Time Of The Year\"], [\"Infinity - Radio Edit\"], [\"Lose Somebody\"], [\"The Moment\"], [\"Ncs Style 2020\"], [\"Alla\"], [\"Focus\"], [\"Who's Laughing Now\"], [\"In My Head\"], [\"Lineage\"], [\"Your Love\"], [\"Need You - Radio Edit\"], [\"Vulnerable\"], [\"No One Like U\"], [\"Happy People - Radio Edit\"], [\"Time to Party - Extended Mix\"], [\"Righteous\"], [\"Alla\"], [\"Focus\"], [\"Who's Laughing Now\"], [\"In My Head\"], [\"Lineage\"], [\"Time to Party - Extended Mix\"], [\"Righteous\"], [\"Way Down\"], [\"The Money - Melleefresh Tech Remix\"], [\"Another Way\"], [\"Church\"], [\"Lights & Music\"], [\"Can't Stop Me - Radio Edit\"], [\"frontLine\"], [\"Marshmello and Hot Chocolate\"], [\"Five\"], [\"Life Is A Rollercoaster\"], [\"Roll\"], [\"Wish I Knew\"], [\"Five\"], [\"Move My Body - Club Mix\"], [\"Diadem\"], [\"What's Your Love\"], [\"Wannabe\"], [\"Break Free - Radio Edit\"], [\"Caution\"], [\"Never Go Away - Radio Edit\"], [\"Caramello - Danny Jay Remix\"], [\"Falling - Radio Edit\"], [\"Bliss\"], [\"Dreams (Will Come Alive) - Radio Edit\"], [\"Cake By The Ocean\"], [\"Can't Stop Me - Radio Edit\"], [\"frontLine\"], [\"Marshmello and Hot Chocolate\"], [\"New Love\"], [\"Talking To Myself\"], [\"Conversation After Hours\"], [\"Free\"], [\"Miss You\"], [\"Talking To Myself\"], [\"Conversation After Hours\"], [\"T Shirt (Interlude)\"], [\"At Midnight\"], [\"Celebrating\"], [\"Big Serpent\"], [\"Vent\"], [\"Just Be Alone\"], [\"Noche Junto al Mar\"], [\"Body Shake\"], [\"Gawi Bawi Bo - Radio Edit\"], [\"(BONUS) Cold Summers [feat. QuickBandz & YPC Kool]\"], [\"Go Up\"], [\"No Naps\"], [\"Issue\"], [\"Ocean Breeze - Radio Edit\"], [\"Joy & Fun\"], [\"The Middle\"], [\"Weekend\"], [\"Get Down\"], [\"Sea\"], [\"Smooth Funky Moods\"], [\"Relaxing Coffee Time\"], [\"Palm Angels Freestyle\"], [\"Best Moments\"], [\"Take On The World\"], [\"Yes No Yes\"], [\"Wild Side\"], [\"The Moment\"], [\"Our Way - Niels Van Gogh Remix Edit\"], [\"So Toast!\"], [\"Come On - Radio Edit\"], [\"Legacy\"], [\"Forever In Paradise\"], [\"Saturday\"], [\"Snot Thot\"], [\"Periscope\"], [\"Signals - Radio Edit\"], [\"Only Tonight - Radio Edit\"], [\"LayUp\"], [\"The One\"], [\"Together\"], [\"Improvisations\"], [\"I Know What You're Thinking\"], [\"Linda\"], [\"I See Stars\"], [\"Bitch\"], [\"Silver Space Shoes (Acoustic Version)\"], [\"Hit the Ground\"], [\"'til Death Do Us Part\"], [\"My Girlfriend\"], [\"Blow Up!\"], [\"Wakin' Up\"], [\"Crackers at Tea Parties\"], [\"Lights Out\"], [\"Everyone\"], [\"Silver Space Shoes\"], [\"Goodbye Goodnight\"], [\"Rollercoaster Ride\"], [\"Reggie Dwight\"], [\"What an Afternoon\"], [\"You're a Star\"], [\"Lemon Shaker (Sunnyday Version)\"], [\"The Weekend\"], [\"Down So Low\"], [\"Grind with Me\"], [\"Pon De Replay\"], [\"Bad Day\"], [\"I Predict a Riot\"], [\"La Camisa Negra\"], [\"Like Toy Soldiers\"], [\"Mr. Brightside\"], [\"Feel Good Inc.\"], [\"Run It!\"], [\"Lonely\"], [\"I Said\"], [\"Love Generation\"], [\"Don't Phunk with My Heart\"], [\"Drop It on Me\"], [\"We Be Burnin' (Recognize It)\"], [\"My Humps\"], [\"Back Together\"], [\"Boulevard of Broken Dreams\"], [\"Because of You\"], [\"Wake Me up When September Ends\"], [\"N2Deep\"], [\"Galvanize\"], [\"Lift Me Up\"], [\"Signs\"], [\"Feeling Good\"], [\"Hollaback Girl\"], [\"Stickwitu\"], [\"Werd nicht alt\"], [\"M\\u00fcnchen\"], [\"Alkohol t\\u00f6tet langsam\"], [\"Emellan\\u00e5t, stundom\"], [\"The Accidental Triumphs of Pulcinella, Prince of Everything: III. Serenata\"], [\"Diptychon\"], [\"Light Winter Light\"], [\"Is\\u00e4r\"], [\"The Accidental Triumphs of Pulcinella, Prince of Everything: IV. Toccata\"], [\"Reflections on the Self\"], [\"La Princesse de Babylone\"], [\"Konsert f\\u00f6r fl\\u00f6jt och ensemble\"], [\"The Accidental Triumphs of Pulcinella, Prince of Everything: II. Scherzino Cadenza - Presto\"], [\"Madrigali, hommage \\u00e1 Barbara Strozzi\"], [\"Fantasia per sei strumenti\"], [\"The Secrets of Eros\"], [\"House of False Things\"], [\"The Accidental Triumphs of Pulcinella, Prince of Everything: I. Sinfonia\"], [\"Fluorescences naturelles\"], [\"Silent Plan\"], [\"Rebellion in Greenery\"], [\"Run This Town\"], [\"Not Fair\"], [\"The Source - Mudd's Slow Rave Mix\"], [\"Falling Petals\"], [\"She Walks - Pete Herbert Remix\"], [\"Doldrums\"], [\"New Day\"], [\"Les Portes De La Perception\"], [\"Numbers Game\"], [\"Luna\"], [\"Susta - Instrumental\"], [\"North Shore - Max Essa Instrumental\"], [\"Saturnine\"], [\"Backward Love\"], [\"Secret About You\"], [\"Hikaridasu\"], [\"Love Is Blind\"], [\"Sunset\"], [\"Beautiful my life\"], [\"SURF\"], [\"ever blue\"], [\"Bye, Bye Baby\"], [\"It Never Rains but It Pours - Mixed\"], [\"Rockin' angel\"], [\"Summertime\"], [\"Take a Chance on Me\"], [\"TSU.BA.SA\"], [\"You Don't Know Me - Live at Symphony Hall, Birmingham, 2017\"], [\"99 Year Blues - Live\"], [\"Don't Let the Sun Catch You Crying - Live at Symphony Hall, Birmingham, 2017\"], [\"7 Years - Extended House Drum Mix\"], [\"02.02.2018 Part 4 - Instrumental\"], [\"02.02.2018 Part 3 - Instrumental\"], [\"02.02.2018 Part 2 - Instrumental\"], [\"02.02.2018 Part 1 - Instrumental\"], [\"A Year Gone By\"], [\"Midnight Adventures - 10 Years Special Mix\"], [\"You Make Me Feel Good - Live at The Brighton Centre, 2019\"], [\"Avalanche (FYHYM2019)\"], [\"Eli (FYHYM2019)\"], [\"Rebound (FYHYM2019)\"], [\"Allies (FYHYM2019)\"], [\"Rabbithole (FYHYM2019)\"], [\"Thrive (FYHYM2019)\"], [\"A Thousand Years (arr. L. Moore)\"], [\"U (FYHYM2019)\"], [\"Magitek (FYHYM2019)\"], [\"Trigger (FYHYM2019)\"], [\"Diamonds (FYHYM2019)\"], [\"Runaway (FYHYM2019)\"], [\"Revolution (FYHYM2019)\"], [\"Paradox (FYHYM2019)\"], [\"Solar (FYHYM2019)\"], [\"Hologram (FYHYM2019)\"], [\"Misconception (FYHYM2019)\"], [\"Serenity (FYHYM2019)\"], [\"Panama (FYHYM2019)\"], [\"Anjunafamily (FYHYM2019)\"], [\"Rave (FYHYM2019)\"], [\"Surga (FYHYM2019)\"], [\"Fauda (FYHYM2019)\"], [\"Cosmos (FYHYM2019)\"], [\"Anasthasia (FYHYM2019)\"], [\"Whisper (FYHYM2019)\"], [\"Lionheart (FYHYM2019)\"], [\"Happy New Year (Kicking Ass!)\"], [\"Blackhawk (FYHYM2019)\"], [\"Benedictus (FYHYM2019)\"], [\"The Connection (FYHYM2019)\"], [\"Cosmic Order (FYHYM2019)\"], [\"God's Creation (FYHYM2019)\"], [\"Alpha Centauri (FYHYM2019)\"], [\"Escape Time (FYHYM2019)\"], [\"Karpe Noktem (FYHYM2019)\"], [\"Empty World (FYHYM2019)\"], [\"Kingdom United (FYHYM2019)\"], [\"The Awakening (FYHYM2019)\"], [\"Save You (FYHYM2019)\"], [\"The Network (FYHYM2019)\"], [\"Get Down (FYHYM2019)\"], [\"Sapphire (Recut) [FYHYM2019]\"], [\"8K (FYHYM2019)\"], [\"Distorted Truth (FYHYM2019)\"], [\"Thousand Pieces (FYHYM2019)\"], [\"Lucky Penny (FYHYM2019)\"], [\"Mr. Navigator (FYHYM2019)\"], [\"Saving Angel (FYHYM2019)\"], [\"Voltage Control (FYHYM2019)\"], [\"The Melody (FYHYM2019)\"], [\"Connected [Year Mix '19] - Mix Cut\"], [\"Stratocumulus [Year Mix '19] - Mix Cut\"], [\"Paper Mountains [Year Mix'19] - Mix Cut\"], [\"Freefall [Year Mix '19] - Mix Cut\"], [\"Serenity [Year Mix '19] - Mix Cut\"], [\"Awakening [Year Mix '19] - Mix Cut\"], [\"See The End (FYHYM2019)\"], [\"Arcade (feat. FLETCHER)\"], [\"The Raggle Taggle Gypsy; Tabhair Dom Do L\\u00e1mh - Remastered 2020\"], [\"To Die For\"], [\"The Most Wonderful Time Of The Year\"], [\"cobain\"], [\"The Most Wonderful Time Of The Year\"], [\"Black Mamba\"], [\"Sunrise Over The Bay\"], [\"Ego Death (feat. Kanye West, FKA twigs & Skrillex)\"], [\"Never Forgotten\"], [\"Death Ain't Easy\"], [\"Downfall\"], [\"Schlafmittel\"], [\"Go\"], [\"THE BADDEST\"], [\"Covered In Gold - PvD Club Mix\"], [\"Woah\"], [\"Who Am I\"], [\"Back Again (feat. Lil Durk)\"], [\"Drowning\"], [\"La Mejor de Todas\"], [\"The Launch\"], [\"PERSIAN RUGS\"], [\"Oblivion\"], [\"Savage Remix (feat. Beyonc\\u00e9)\"], [\"Punk - Tom Staar Remix\"], [\"White Tee - Alternate Bass Boosted Version\"], [\"Our Moon\"], [\"Freaky Girls (feat. SZA)\"], [\"Mo Chara\"], [\"Reggaetonera\"], [\"Our Journey (TFSFX Anthem)\"], [\"Pretty Boy (feat. Lil Yachty)\"], [\"CHAIN BREAKER\"], [\"Madrid (feat. Myke Towers)\"], [\"Hark! The Herald Angels Sing\"], [\"LOYAL (feat. Drake)\"], [\"Wake Me Up - Radio Edit\"], [\"Breaking Up Was Easy In The 90's\"], [\"I Gotta Feeling\"], [\"Backdoor\"], [\"Years at My Fingertips (Coyote Hours 2015)\"], [\"Daechwita\"], [\"lil jeep\"], [\"Dynamiden, Walzer, Op. 173\"], [\"Maria\"], [\"My Time\"], [\"Frozen - Mixed\"], [\"Garden Song\"], [\"Teenage Dream\"], [\"Mimosa - Mixed\"], [\"Lost In Yesterday\"], [\"Libra Rising - Mixed\"], [\"MAYBE\"], [\"Plastic\"], [\"Break The Chain - Mixed\"], [\"Let Me Down\"], [\"Reconnected - Mixed\"], [\"Qu\\u00e9 Maldici\\u00f3n\"], [\"Nebular - Mixed\"], [\"De Vuelta Pa' La Vuelta\"], [\"Time - Mixed\"], [\"Mi Vicio\"], [\"Euphoria (feat. Travis Scott & Kaash Paige)\"], [\"Snow Pure - Mixed\"], [\"survivin'\"], [\"Come in from the Cold - Mixed\"], [\"LOST IN PARADISE\"], [\"I'll Be Your Chemical - Mixed\"], [\"Is It True\"], [\"17\"], [\"Mirage - Mixed\"], [\"all I know (feat. Trippie Redd)\"], [\"Head Over Heels - Mixed\"], [\"ZTFO\"], [\"Year 2020\"], [\"God\\u2019s Menu\"], [\"Year 2020\"], [\"Michelle\"], [\"Breathe\"], [\"Lose Somebody\"], [\"King\"], [\"damn!\"], [\"Firefly\"], [\"CIVIL WAR - Bonus\"], [\"Drifting\"], [\"Six Feet Apart\"], [\"Malibu Mornings\"], [\"By Yourself (feat. Jhen\\u00e9 Aiko & Mustard)\"], [\"Breathe\"], [\"Camelot\"], [\"Romance 22\"], [\"Imperfections (Interlude)\"], [\"BERETTA (feat. Wifisfuneral)\"], [\"2020 Is My Year\"], [\"Free Jamell (with YNW Melly)\"], [\"2020 (Year Of Fear)\"], [\"Trying My Best\"], [\"Complex Solution - Mixed\"], [\"Good Example (with Andy Grammer)\"], [\"We Are Not Alone - Mixed\"], [\"How Many Times\"], [\"Rewind - Mixed\"], [\"Break My Heart\"], [\"Adrenaline (James Dymond Remix) - Mixed\"], [\"dreamy night\"], [\"Revelations - Mixed\"], [\"Home\"], [\"Stay Close - Mixed\"], [\"Hallucinate\"], [\"Fluidity - Mixed\"], [\"More Hearts Than Mine\"], [\"Origins (Billy Gillies Remix) - Mixed\"], [\"PRIMADONA\"], [\"Smile (with The Weeknd)\"], [\"Beef FloMix\"], [\"Molly (feat. Sheff G)\"], [\"Real Baby Pluto\"], [\"Diosa\"], [\"El T\\u00f3xico\"], [\"Chinese New Year Song 2020\"], [\"Back Door\"], [\"OHFR?\"], [\"All The Senses\"], [\"Long Beach\"], [\"Chopper City\"], [\"Wild, Wild Heart\"], [\"Tonight (feat. iann dior)\"], [\"Bravo\"], [\"NOT FAIR (feat. Corbin)\"], [\"Awakening\"], [\"Bummerland\"], [\"Alive\"], [\"Crying Over You\"], [\"The Phoenix (FSOE 650 Anthem)\"], [\"Edge of Midnight (Midnight Sky Remix) (feat. Stevie Nicks)\"], [\"Your Mind\"], [\"Compensating (feat. Young Thug)\"], [\"The Voice\"], [\"WANNABE\"], [\"Leonie - Beatsole Remix\"], [\"On The Way (feat. Mila J)\"], [\"Daring To Love\"], [\"Kinfolks\"], [\"What Makes You Feel Alive\"], [\"Flood My Wrist (feat. Lil Uzi Vert)\"], [\"One Last Time - Roman Messer Remix\"], [\"Arriba\"], [\"I Believe\"], [\"MODUS\"], [\"Discopolis 2.0 - MEDUZA Remix\"], [\"I\\u2019m Ready (with Demi Lovato)\"], [\"My Remedy\"], [\"Savage Love (Laxed - Siren Beat)\"], [\"Silent Waves - Vinny DeGeorge Remix\"], [\"Roses\"], [\"Wasteland\"], [\"LMK\"], [\"Hypnotized\"], [\"25/8\"], [\"Could This Be\"], [\"Know My Rights (feat. Lil Baby)\"], [\"Step It Up\"], [\"CHRISTMAS 2020 (my favorite time of the year)\"], [\"gold rush\"], [\"Turn Me On (Dr. Love) - 132 Bpm, 32 Count Pro Edition\"], [\"JUMP (feat. YoungBoy Never Broke Again)\"], [\"Kingslayer (feat. BABYMETAL)\"], [\"A State Of Trance Year Mix 2020 - Intro: What Is Out There?\"], [\"Just for a Moment - From \\\"High School Musical: The Musical: The Series\\\"\"], [\"10years vintage - LiVE from 2020.3.5 @EBISU LIQUIDROOM\"], [\"People I Don't Like\"], [\"Saint Bernard\"], [\"Common Enemy\"], [\"Black Swan\"], [\"Diverger\"], [\"Regardless\"], [\"King of the Blind\"], [\"Crisis\"], [\"Indigo Child\"], [\"@ MEH\"], [\"Bastard Paradise\"], [\"Wish I Knew\"], [\"Five\"], [\"Move My Body - Club Mix\"], [\"Diadem\"], [\"What's Your Love\"], [\"Wannabe\"], [\"Break Free - Radio Edit\"], [\"Caution\"], [\"Never Go Away - Radio Edit\"], [\"Caramello - Danny Jay Remix\"], [\"Falling - Radio Edit\"], [\"Bliss\"], [\"Dreams (Will Come Alive) - Radio Edit\"], [\"Cake By The Ocean\"], [\"Can't Stop Me - Radio Edit\"], [\"frontLine\"], [\"Marshmello and Hot Chocolate\"], [\"New Love\"], [\"Talking To Myself\"], [\"Conversation After Hours\"], [\"Free\"], [\"Miss You\"], [\"Talking To Myself\"], [\"Conversation After Hours\"], [\"T Shirt (Interlude)\"], [\"At Midnight\"], [\"Celebrating\"], [\"Big Serpent\"], [\"Vent\"], [\"Just Be Alone\"], [\"Noche Junto al Mar\"], [\"Body Shake\"], [\"Gawi Bawi Bo - Radio Edit\"], [\"(BONUS) Cold Summers [feat. QuickBandz & YPC Kool]\"], [\"Go Up\"], [\"No Naps\"], [\"Issue\"], [\"Ocean Breeze - Radio Edit\"], [\"Joy & Fun\"], [\"The Middle\"], [\"Weekend\"], [\"Get Down\"], [\"Sea\"], [\"Smooth Funky Moods\"], [\"Relaxing Coffee Time\"], [\"Palm Angels Freestyle\"], [\"Best Moments\"], [\"Take On The World\"], [\"Yes No Yes\"], [\"Wild Side\"], [\"The Moment\"], [\"Our Way - Niels Van Gogh Remix Edit\"], [\"So Toast!\"], [\"Come On - Radio Edit\"], [\"Legacy\"], [\"Forever In Paradise\"], [\"Saturday\"], [\"Snot Thot\"], [\"Periscope\"], [\"Signals - Radio Edit\"], [\"Only Tonight - Radio Edit\"], [\"LayUp\"], [\"The One\"], [\"Together\"], [\"Improvisations\"]], \"hovertemplate\": \"x=%{x}<br>y=%{y}<br>title=%{customdata[0]}<br>cluster=%{marker.color}<extra></extra>\", \"legendgroup\": \"\", \"marker\": {\"color\": [4, 4, 4, 10, 16, 7, 4, 4, 16, 7, 4, 11, 10, 0, 6, 7, 9, 16, 1, 4, 13, 1, 15, 13, 16, 10, 10, 13, 13, 4, 5, 17, 4, 13, 5, 6, 6, 15, 7, 13, 17, 16, 9, 0, 6, 6, 6, 6, 6, 6, 6, 6, 17, 6, 4, 18, 1, 0, 17, 5, 16, 6, 6, 13, 13, 3, 7, 16, 9, 6, 6, 6, 6, 6, 6, 6, 6, 17, 6, 6, 6, 6, 6, 6, 6, 17, 6, 6, 3, 3, 13, 11, 13, 11, 3, 3, 13, 13, 13, 17, 5, 13, 13, 4, 19, 16, 16, 6, 6, 7, 7, 7, 7, 3, 16, 7, 7, 16, 6, 11, 7, 16, 15, 13, 13, 16, 6, 6, 17, 7, 7, 7, 7, 3, 16, 7, 7, 16, 11, 16, 6, 7, 6, 6, 4, 15, 17, 9, 12, 9, 0, 16, 10, 10, 3, 17, 2, 7, 2, 16, 2, 9, 2, 6, 8, 2, 6, 8, 14, 6, 19, 19, 6, 2, 8, 6, 2, 8, 6, 8, 2, 17, 14, 12, 6, 12, 12, 6, 2, 2, 6, 8, 12, 6, 2, 12, 6, 2, 8, 6, 8, 8, 6, 12, 14, 17, 2, 14, 6, 14, 19, 6, 14, 2, 6, 14, 19, 6, 19, 12, 6, 2, 8, 4, 12, 2, 6, 12, 2, 5, 8, 8, 6, 8, 19, 6, 2, 2, 6, 8, 8, 6, 14, 8, 2, 2, 2, 14, 19, 12, 2, 12, 14, 8, 17, 8, 2, 2, 19, 12, 19, 14, 19, 8, 2, 14, 14, 14, 14, 12, 19, 14, 2, 8, 2, 2, 8, 8, 12, 14, 8, 2, 12, 14, 2, 14, 7, 9, 16, 1, 4, 6, 15, 15, 6, 1, 0, 15, 8, 1, 18, 15, 15, 15, 17, 15, 1, 1, 0, 1, 18, 15, 5, 1, 10, 18, 15, 15, 4, 0, 15, 1, 15, 15, 0, 15, 17, 17, 7, 0, 3, 15, 15, 0, 15, 1, 4, 13, 13, 16, 10, 10, 10, 10, 10, 10, 5, 0, 11, 3, 13, 13, 13, 1, 10, 7, 4, 18, 3, 3, 4, 15, 17, 4, 4, 1, 15, 3, 5, 1, 15, 0, 5, 16, 0, 5, 7, 3, 3, 5, 0, 10, 3, 5, 5, 0, 5, 15, 19, 5, 6, 15, 17, 10, 4, 18, 17, 18, 5, 17, 4, 18, 10, 16, 16, 3, 15, 15, 8, 19, 2, 8, 14, 14, 12, 12, 17, 2, 2, 15, 12, 17, 14, 11, 2, 17, 14, 5, 8, 17, 2, 5, 2, 6, 14, 11, 2, 17, 2, 11, 14, 11, 2, 10, 14, 16, 8, 1, 2, 5, 8, 10, 14, 10, 8, 10, 8, 11, 2, 5, 14, 2, 8, 17, 2, 11, 14, 3, 19, 11, 12, 16, 8, 11, 8, 13, 8, 16, 14, 5, 12, 1, 12, 11, 2, 11, 14, 17, 14, 17, 2, 1, 2, 10, 14, 17, 2, 11, 8, 0, 2, 17, 12, 17, 12, 3, 2, 17, 2, 11, 8, 17, 12, 17, 2, 17, 14, 6, 2, 11, 2, 17, 2, 11, 8, 13, 8, 9, 8, 11, 12, 11, 8, 11, 2, 11, 8, 11, 2, 17, 14, 17, 14, 11, 2, 17, 2, 3, 8, 11, 14, 17, 2, 11, 19, 17, 2, 17, 12, 11, 12, 11, 19, 11, 8, 11, 8, 6, 2, 11, 14, 11, 2, 11, 8, 17, 2, 11, 8, 5, 12, 11, 8, 10, 12, 4, 19, 13, 14, 3, 12, 13, 8, 10, 8, 17, 8, 5, 14, 6, 4, 0, 15, 1, 15, 15, 0, 15, 17, 17, 7, 0, 3, 15, 15, 0, 15, 1, 0, 0, 10, 10, 4, 10, 10, 4, 10, 10, 10, 5, 1, 0, 0, 15, 5, 1, 15, 1, 0, 18, 1, 0, 5, 0, 1, 1, 5, 15, 17, 1, 0, 10, 10, 10, 10, 10, 10, 10, 10, 10, 10, 10, 10, 10, 10, 17, 5, 1, 15, 7, 4, 4, 7, 7, 4, 7, 7, 7, 7, 16, 7, 7, 0, 15, 15, 0, 15, 1, 0, 1, 1, 18, 4, 1, 7, 17, 4, 1, 4, 1, 0, 3, 1, 5, 15, 1, 15, 1, 0, 1, 0, 15, 15, 1, 7, 18, 18, 18, 1, 0, 1, 1, 1, 5, 1, 19, 15, 15, 5, 1, 18, 9, 15, 0, 15, 6, 0, 1, 3, 7, 9, 9, 15, 17, 4, 3, 11, 17, 3, 5, 16, 5, 10, 10, 15, 0, 5, 3, 18, 7, 5, 5, 3, 4, 6, 5, 5, 0, 0, 5, 16, 5, 17, 11, 7, 1, 16, 4, 5, 4, 5, 5, 4, 5, 4, 4, 3, 13, 7, 17, 13, 18, 13, 4, 15, 5, 15, 13, 13, 13, 0, 13, 17, 5, 17, 5, 17, 19, 1, 3, 17, 13, 0, 10, 17, 10, 6, 11, 11, 17, 7, 10, 18, 5, 2, 17, 12, 11, 14, 16, 14, 7, 14, 10, 12, 11, 8, 11, 8, 13, 19, 17, 14, 17, 8, 6, 2, 11, 2, 11, 14, 5, 2, 5, 14, 11, 14, 17, 2, 4, 14, 11, 14, 11, 2, 0, 2, 5, 2, 11, 2, 11, 6, 5, 2, 1, 2, 11, 2, 11, 19, 10, 2, 11, 14, 17, 19, 4, 2, 10, 2, 11, 14, 5, 14, 11, 19, 11, 14, 3, 19, 11, 2, 15, 12, 6, 14, 6, 14, 5, 8, 16, 14, 16, 8, 6, 14, 6, 12, 6, 2, 1, 14, 0, 2, 6, 19, 13, 2, 15, 2, 5, 8, 6, 8, 17, 2, 13, 2, 0, 14, 3, 14, 15, 14, 3, 2, 3, 8, 3, 8, 3, 8, 3, 8, 3, 14, 3, 14, 5, 8, 17, 2, 5, 8, 6, 14, 11, 2, 5, 2, 10, 12, 0, 8, 15, 5, 3, 14, 1, 2, 7, 14, 6, 2, 1, 2, 15, 12, 7, 2, 3, 12, 15, 8, 13, 12, 15, 14, 0, 14, 15, 8, 0, 14, 3, 14, 7, 14, 3, 2, 13, 14, 6, 14, 6, 12, 0, 2, 14, 2, 4, 1, 15, 7, 4, 4, 7, 7, 4, 7, 0, 1, 0, 15, 15, 1, 7, 18, 18, 18, 1, 0, 1, 1, 1, 5, 1, 15, 19, 1, 15, 5, 18, 9, 15, 0, 15, 6, 0, 1, 15, 11, 19, 1, 15, 15, 18, 5, 0, 6, 15, 0, 17, 1, 15, 1, 13, 4, 15, 6, 15, 0, 15, 1, 1, 15, 1, 15, 1, 15, 15, 15, 0, 0, 15, 0, 10, 1, 1, 1, 1, 1, 15, 1, 0, 0, 1, 1, 1, 15, 1, 15, 0, 15, 1, 15, 1, 0, 0, 1, 15, 15, 5, 15, 0, 1, 1, 15, 1, 15, 1, 15, 0, 15, 1, 5, 3, 18, 19, 6, 15, 18, 19, 18, 18, 18, 3, 7, 1, 3, 7, 0, 16, 15, 6, 5, 0, 4, 1, 15, 4, 10, 4, 10, 18, 10, 10, 18, 10, 7, 17, 5, 1, 5, 0, 1, 4, 0, 5, 4, 0, 5, 1, 4, 5, 15, 1, 5, 4, 5, 1, 4, 5, 15, 1, 1, 11, 13, 18, 3, 4, 3, 4, 4, 5, 4, 10, 5, 1, 3, 15, 13, 18, 15, 13, 4, 5, 18, 3, 7, 18, 4, 0, 1, 13, 15, 17, 6, 17, 15, 15, 3, 0, 3, 1, 0, 10, 18, 10, 10, 10, 5, 10, 17, 5, 17, 17, 5, 11, 5, 15, 10, 10, 9, 17, 4, 4, 1, 0, 11, 17, 11, 15, 17, 3, 11, 0, 11, 18, 11, 6, 11, 11, 11, 17, 17, 6, 11, 11, 11, 11, 18, 17, 8, 16, 19, 5, 2, 5, 2, 14, 6, 14, 19, 0, 2, 6, 8, 2, 13, 14, 6, 8, 19, 13, 8, 7, 14, 13, 8, 8, 0, 2, 16, 8, 13, 14, 5, 8, 15, 8, 17, 8, 19, 5, 14, 17, 14, 18, 14, 17, 19, 17, 14, 5, 19, 11, 2, 17, 12, 17, 14, 11, 14, 11, 8, 11, 19, 13, 14, 10, 14, 17, 6, 11, 2, 5, 14, 8, 13, 14, 4, 14, 5, 12, 2, 5, 14, 0, 2, 7, 12, 7, 2, 5, 14, 11, 14, 5, 2, 11, 8, 17, 8, 1, 2, 1, 8, 11, 14, 6, 2, 13, 8, 4, 2, 8, 8, 5, 2, 11, 8, 5, 14, 17, 14, 5, 2, 17, 2, 17, 2, 3, 14, 7, 8, 7, 2, 7, 8, 7, 14, 17, 14, 1, 14, 12, 18, 14, 3, 14, 3, 2, 17, 8, 13, 14, 5, 12, 4, 12, 16, 8, 17, 8, 13, 14, 16, 2, 7, 14, 7, 12, 11, 14, 11, 14, 5, 14, 11, 2, 17, 8, 17, 19, 11, 14, 17, 8, 5, 14, 4, 15, 6, 15, 0, 15, 1, 1, 15, 1, 15, 1, 15, 15, 15, 0, 0, 15, 0, 10, 1, 1, 1, 1, 1, 15, 1, 0, 0, 1, 1, 1, 15, 1, 15, 0, 15, 1, 15, 1, 0, 0, 1, 15, 15, 5, 15, 0, 1, 1, 15, 1, 15, 1, 5, 1, 15, 0, 15, 3, 18, 19, 6, 15, 18, 19, 18, 18, 18, 3, 7, 1, 3, 7, 0, 16, 15, 6, 5, 0, 1, 4, 4, 0, 4, 1, 4, 4, 7, 4, 7, 10, 1, 0, 10, 4, 4, 4, 13, 16, 7, 5, 0, 0, 10, 3, 13, 18, 6, 17, 18, 15, 9, 16, 16, 11, 9, 16, 1, 16, 0, 1, 15, 18, 13, 17, 0, 13, 5, 7, 15, 10, 10, 6, 3, 13, 4, 11, 11, 0, 10, 10, 10, 10, 10, 5, 10, 10, 5, 4, 15, 5, 15, 5, 5, 18, 1, 4, 4, 1, 5, 1, 13, 15, 15, 15, 15, 5, 15, 13, 15, 5, 17, 4, 5, 1, 1, 13, 13, 13, 13, 13, 13, 13, 4, 18, 4, 10, 18, 5, 10, 13, 18, 15, 3, 11, 0, 0, 15, 15, 3, 7, 3, 1, 15, 3, 15, 15, 15, 1, 15, 4, 1, 5, 1, 4, 5, 5, 1, 0, 15, 13, 13, 0, 4, 16, 0, 7, 10, 10, 10, 10, 10, 17, 10, 10, 4, 13, 13, 0, 1, 0, 5, 10, 4, 0, 16, 1, 3, 5, 4, 4, 0, 18, 4, 4, 4, 13, 1, 4, 0, 18, 3, 18, 16, 6, 16, 16, 17, 10, 10, 10, 10, 17, 6, 0, 16, 17, 10, 5, 10, 10, 19, 7, 6, 3, 1, 16, 3, 3, 16, 3, 3, 3, 3, 6, 3, 0, 1, 14, 10, 2, 3, 8, 4, 19, 17, 14, 5, 2, 13, 14, 3, 8, 5, 14, 17, 14, 17, 19, 3, 2, 11, 19, 11, 8, 1, 14, 10, 14, 7, 12, 7, 14, 7, 14, 7, 17, 16, 2, 5, 14, 10, 14, 5, 12, 3, 14, 17, 8, 17, 14, 17, 12, 11, 8, 17, 2, 1, 8, 13, 8, 3, 19, 13, 14, 11, 8, 5, 8, 0, 2, 10, 2, 10, 12, 3, 14, 7, 8, 16, 19, 11, 8, 17, 14, 11, 2, 11, 14, 17, 8, 14, 17, 19, 17, 8, 5, 2, 13, 2, 13, 14, 4, 14, 11, 14, 11, 14, 17, 2, 11, 14, 17, 2, 7, 19, 7, 14, 7, 2, 7, 2, 3, 14, 5, 8, 11, 14, 13, 8, 13, 14, 16, 14, 5, 14, 17, 2, 5, 14, 1, 2, 11, 14, 10, 8, 11, 19, 7, 2, 7, 14, 16, 19, 10, 14, 13, 8, 11, 14, 17, 8, 3, 8, 1, 14, 13, 8, 17, 2, 17, 8, 17, 2, 5, 2, 17, 2, 2, 17, 12, 1, 2, 5, 8, 4, 14, 15, 14, 7, 14, 7, 8, 7, 14, 4, 15, 9, 16, 16, 11, 9, 16, 1, 16, 0, 1, 15, 18, 13, 17, 0, 13, 5, 7, 15, 10, 10, 6, 3, 13, 4, 16, 13, 16, 5, 16, 4, 15, 3, 13, 18, 4, 13, 0, 7, 16, 16, 3, 3, 16, 16, 16, 16, 16, 7, 9, 1, 16, 16, 3, 3, 16, 16, 16, 16, 3, 16, 4, 7, 4, 7, 5, 11, 11, 11, 1, 15, 11, 11, 11, 11, 0, 15, 15, 17, 0, 15, 5, 5, 17, 6, 6, 15, 17, 5, 4, 17, 0, 0, 4, 0, 17, 4, 15, 15, 4, 0, 1, 1, 0, 15, 15, 6, 1, 5, 5, 4, 15, 1, 4, 0, 18, 13, 18, 4, 10, 18, 13, 0, 15, 4, 18, 18, 13, 15, 5, 17, 1, 13, 18, 17, 13, 13, 5, 1, 18, 1, 18, 15, 18, 13, 18, 11, 18, 15, 5, 18, 18, 5, 5, 18, 18, 5, 15, 18, 0, 15, 18, 1, 5, 0, 5, 18, 18, 5, 15, 13, 17, 5, 15, 4, 13, 13, 13, 13, 13, 13, 13, 13, 18, 18, 13, 6, 15, 18, 17, 15, 15, 15, 17, 1, 15, 2, 15, 15, 19, 18, 13, 3, 7, 3, 10, 13, 13, 10, 16, 10, 10, 3, 1, 10, 15, 10, 10, 10, 10, 10, 10, 10, 10, 4, 7, 4, 10, 10, 10, 17, 10, 10, 10, 4, 5, 17, 4, 5, 0, 15, 1, 4, 19, 13, 13, 1, 18, 18, 19, 0, 4, 18, 3, 15, 7, 13, 7, 19, 19, 3, 1, 0, 4, 10, 1, 3, 10, 11, 1, 11, 1, 17, 11, 9, 3, 7, 7, 11, 1, 5, 5, 11, 0, 11, 7, 13, 7, 7, 10, 10, 10, 10, 12, 5, 19, 5, 12, 0, 14, 17, 2, 5, 2, 5, 14, 17, 19, 3, 8, 17, 2, 5, 2, 5, 2, 14, 10, 14, 11, 6, 8, 14, 7, 12, 7, 8, 2, 14, 14, 7, 14, 7, 12, 7, 19, 4, 12, 8, 5, 19, 17, 2, 13, 14, 5, 2, 13, 14, 2, 11, 8, 11, 12, 5, 2, 4, 8, 5, 8, 17, 14, 11, 2, 11, 2, 16, 19, 7, 2, 7, 12, 7, 8, 16, 2, 4, 14, 7, 14, 7, 2, 5, 2, 7, 14, 7, 8, 17, 2, 16, 14, 10, 14, 14, 17, 2, 16, 6, 11, 14, 17, 8, 11, 2, 11, 14, 5, 8, 15, 14, 6, 5, 12, 13, 14, 2, 11, 17, 5, 2, 13, 2, 17, 2, 19, 5, 12, 11, 8, 17, 12, 10, 2, 16, 12, 16, 8, 7, 2, 2, 15, 14, 1, 12, 11, 12, 11, 8, 5, 8, 3, 19, 11, 14, 17, 2, 14, 3, 2, 11, 14, 5, 14, 5, 19, 3, 19, 3, 14, 13, 14, 13, 14, 11, 12, 11, 13, 18, 4, 13, 0, 7, 16, 16, 3, 3, 16, 16, 16, 16, 16, 7, 9, 1, 16, 16, 3, 3, 16, 16, 16, 16, 3, 16, 4, 7, 4, 7, 5, 11, 11, 4, 6, 16, 13, 0, 1, 0, 0, 3, 1, 18, 5, 15, 3, 5, 11, 15, 3, 1, 19, 3, 13, 3, 17, 11, 13, 17, 0, 3, 13, 3, 15, 15, 15, 18, 0, 15, 0, 13, 15, 15, 1, 15, 4, 0, 15, 15, 15, 1, 6, 15, 0, 15, 5, 11, 5, 1, 5, 0, 5, 5, 5, 5, 5, 13, 1, 0, 5, 13, 1, 13, 17, 5, 13, 5, 13, 13, 13, 13, 13, 5, 5, 17, 5, 15, 5, 13, 17, 0, 0, 0, 1, 6, 1, 15, 0, 1, 15, 4, 15, 15, 1, 4, 15, 1, 13, 13, 13, 13, 13, 18, 13, 18, 18, 18, 13, 13, 13, 13, 13, 13, 13, 13, 13, 13, 13, 15, 19, 18, 0, 0, 15, 0, 18, 0, 1, 1, 4, 1, 4, 4, 4, 1, 4, 0, 3, 3, 7, 13, 13, 3, 7, 13, 5, 13, 13, 4, 4, 4, 3, 4, 4, 4, 16, 4, 4, 10, 10, 10, 10, 10, 6, 16, 4, 0, 13, 15, 0, 0, 7, 3, 3, 3, 15, 15, 5, 19, 6, 11, 3, 11, 10, 3, 11, 11, 13, 13, 11, 9, 0, 11, 11, 10, 10, 10, 11, 10, 6, 10, 4, 10, 6, 10, 3, 7, 15, 10, 10, 10, 10, 6, 10, 4, 10, 4, 4, 10, 10, 7, 10, 4, 17, 10, 10, 5, 10, 10, 10, 3, 11, 7, 19, 17, 14, 14, 12, 11, 19, 18, 8, 16, 14, 4, 8, 11, 14, 3, 12, 2, 0, 12, 17, 14, 11, 14, 13, 2, 2, 8, 17, 2, 14, 3, 19, 17, 19, 8, 19, 13, 8, 6, 12, 4, 14, 8, 2, 8, 11, 16, 11, 14, 11, 8, 15, 2, 11, 2, 6, 14, 11, 8, 17, 2, 4, 12, 13, 2, 13, 8, 11, 14, 11, 19, 11, 14, 11, 8, 5, 2, 17, 14, 13, 19, 11, 19, 3, 2, 5, 14, 11, 14, 11, 19, 11, 19, 5, 17, 11, 8, 5, 19, 14, 2, 2, 11, 14, 16, 8, 12, 16, 8, 7, 19, 8, 13, 8, 4, 19, 2, 2, 14, 17, 14, 17, 2, 11, 19, 14, 14, 2, 5, 8, 11, 8, 11, 14, 11, 6, 17, 19, 11, 19, 3, 2, 8, 8, 12, 12, 2, 2, 19, 10, 19, 11, 14, 5, 14, 11, 12, 11, 19, 13, 12, 11, 2, 11, 14, 5, 2, 11, 14, 17, 18, 5, 15, 3, 5, 11, 15, 3, 1, 19, 3, 13, 3, 17, 11, 13, 17, 0, 3, 13, 3, 15, 15, 15, 18, 0, 15, 0, 13, 15, 13, 5, 0, 0, 10, 1, 13, 13, 10, 15, 1, 13, 15, 15, 15, 18, 0, 15, 0, 15, 13, 0, 3, 0, 15, 13, 4, 13, 15, 11, 3, 15, 0, 13, 13, 15, 11, 15, 15, 1, 0, 5, 0, 15, 13, 15, 15, 13, 15, 1, 1, 15, 4, 1, 17, 17, 0, 1, 15, 15, 1, 10, 15, 15, 3, 15, 1, 15, 15, 6, 1, 0, 1, 0, 0, 11, 3, 3, 3, 11, 3, 3, 3, 0, 3, 15, 15, 15, 1, 4, 1, 5, 15, 0, 0, 15, 17, 0, 15, 0, 15, 0, 0, 0, 5, 15, 0, 0, 5, 15, 1, 4, 1, 17, 4, 1, 7, 5, 0, 15, 15, 15, 1, 0, 0, 0, 17, 15, 4, 15, 1, 0, 0, 5, 1, 1, 15, 15, 15, 4, 15, 4, 15, 13, 13, 18, 13, 18, 5, 0, 3, 0, 15, 3, 15, 13, 13, 16, 17, 4, 5, 3, 18, 18, 13, 13, 18, 18, 18, 18, 15, 13, 13, 4, 18, 18, 13, 18, 13, 1, 5, 5, 4, 5, 17, 4, 7, 3, 3, 7, 3, 7, 3, 7, 7, 15, 1, 7, 3, 1, 16, 15, 10, 19, 3, 1, 15, 4, 0, 9, 4, 9, 11, 10, 9, 9, 9, 10, 4, 0, 4, 10, 16, 7, 13, 4, 10, 17, 15, 7, 4, 7, 16, 4, 7, 19, 4, 3, 17, 4, 4, 10, 14, 16, 19, 9, 2, 2, 17, 8, 19, 11, 2, 2, 14, 2, 14, 11, 14, 11, 12, 17, 8, 5, 8, 14, 8, 13, 2, 5, 12, 11, 12, 5, 19, 11, 2, 12, 11, 14, 4, 2, 13, 8, 17, 8, 14, 3, 2, 13, 19, 11, 2, 11, 2, 5, 2, 2, 2, 18, 14, 8, 14, 2, 2, 8, 17, 6, 14, 11, 8, 11, 2, 8, 12, 1, 14, 11, 2, 4, 19, 5, 2, 11, 19, 13, 14, 11, 2, 11, 2, 5, 2, 8, 19, 10, 6, 14, 14, 13, 14, 13, 14, 17, 14, 13, 12, 11, 14, 5, 8, 13, 12, 4, 2, 1, 2, 1, 12, 10, 14, 16, 14, 7, 14, 7, 12, 16, 14, 19, 3, 8, 11, 12, 2, 13, 13, 15, 11, 15, 15, 1, 0, 5, 0, 15, 13, 15, 15, 13, 15, 1, 1, 15, 4, 1, 17, 17, 0, 1, 15, 15, 1, 10, 15, 15, 3, 15, 1, 15, 15, 6, 1, 0, 1, 0, 13, 11, 1, 4, 17, 4, 18, 0, 16, 1, 0, 3, 0, 0, 1, 3, 15, 1, 17, 13, 3, 15, 0, 0, 0, 10, 3, 15, 0, 3, 3, 15, 15, 17, 1, 0, 13, 15, 15, 1, 0, 15, 17, 15, 5, 15, 1, 15, 0, 15, 15, 0, 0, 17, 0, 17, 15, 0, 0, 6, 0, 6, 15, 15, 0, 7, 7, 4, 7, 3, 7, 7, 7, 7, 7, 1, 1, 0, 1, 15, 13, 13, 15, 1, 0, 15, 13, 13, 15, 13, 7, 0, 13, 3, 0, 15, 6, 5, 0, 0, 5, 15, 13, 4, 6, 13, 4, 4, 4, 4, 4, 4, 4, 7, 4, 17, 16, 16, 4, 4, 4, 3, 4, 4, 4, 16, 4, 16, 15, 4, 4, 4, 4, 4, 4, 4, 16, 7, 4, 4, 16, 4, 4, 0, 4, 16, 6, 0, 4, 4, 3, 4, 4, 4, 4, 1, 16, 4, 7, 1, 4, 5, 3, 3, 0, 0, 3, 11, 3, 3, 3, 3, 11, 17, 15, 0, 15, 3, 6, 0, 17, 4, 1, 0, 0, 10, 15, 17, 0, 0, 1, 0, 1, 0, 5, 10, 0, 0, 15, 18, 18, 18, 18, 13, 13, 13, 13, 18, 7, 7, 13, 13, 13, 4, 3, 3, 7, 13, 7, 3, 3, 3, 4, 13, 3, 16, 4, 13, 7, 13, 3, 13, 15, 5, 0, 0, 0, 0, 1, 10, 7, 10, 10, 10, 10, 10, 1, 10, 3, 5, 4, 7, 10, 10, 18, 7, 16, 13, 4, 5, 16, 9, 13, 10, 4, 1, 10, 4, 2, 19, 8, 11, 14, 17, 8, 11, 8, 11, 8, 10, 8, 11, 8, 11, 2, 11, 19, 11, 14, 17, 19, 11, 14, 8, 11, 2, 11, 2, 5, 2, 11, 19, 13, 14, 10, 2, 18, 14, 11, 12, 11, 14, 19, 12, 15, 14, 11, 14, 5, 8, 17, 8, 17, 8, 17, 2, 11, 14, 9, 14, 16, 8, 16, 12, 7, 2, 7, 8, 12, 12, 14, 11, 12, 12, 8, 11, 8, 11, 14, 14, 5, 10, 11, 19, 19, 11, 14, 14, 11, 14, 4, 14, 4, 2, 17, 8, 10, 12, 8, 2, 13, 12, 12, 19, 2, 8, 14, 12, 14, 12, 4, 2, 17, 14, 4, 14, 5, 14, 15, 8, 4, 14, 0, 14, 11, 12, 11, 8, 11, 2, 11, 14, 11, 2, 11, 19, 11, 14, 4, 10, 4, 2, 5, 8, 1, 12, 8, 2, 2, 14, 10, 2, 16, 8, 0, 12, 1, 2, 3, 2, 0, 8, 0, 12, 2, 5, 19, 16, 17, 1, 14, 1, 6, 1, 0, 1, 13, 15, 5, 17, 13, 17, 1, 0, 13, 15, 15, 1, 13, 15, 5, 17, 13, 15, 1, 15, 0, 17, 17, 10, 1, 7, 3, 3, 1, 13, 18, 3, 15, 3, 3, 0, 0, 5, 0, 13, 17, 17, 10, 18, 1, 7, 3, 15, 0, 0, 1, 15, 0, 0, 19, 7, 7, 18, 19, 3, 3, 10, 15, 18, 1, 18, 19, 0, 7, 1, 15, 17, 7, 7, 7, 19, 15, 15, 15, 3, 0, 6, 15, 15, 19, 5, 0, 18, 3, 1, 1, 18, 17, 7, 7, 1, 1, 1, 18, 0, 15, 1, 1, 5, 4, 5, 1, 5, 0, 0, 5, 1, 4, 5, 4, 15, 0, 1, 15, 1, 17, 0, 15, 5, 15, 15, 0, 13, 1, 10, 15, 1, 15, 13, 17, 17, 5, 3, 1, 5, 15, 4, 1, 0, 11, 11, 11, 16, 16, 16, 9, 9, 16, 9, 9, 9, 16, 9, 9, 9, 9, 16, 9, 9, 9, 15, 1, 13, 7, 13, 3, 3, 10, 3, 13, 3, 3, 13, 1, 3, 5, 1, 5, 5, 5, 1, 1, 13, 0, 0, 0, 0, 10, 4, 10, 3, 17, 15, 0, 7, 16, 13, 17, 11, 17, 11, 11, 11, 10, 4, 11, 5, 5, 17, 17, 6, 11, 11, 11, 11, 10, 11, 17, 5, 11, 17, 11, 17, 5, 17, 1, 11, 5, 6, 10, 17, 11, 11, 11, 5, 17, 6, 11, 17, 17, 11, 11, 11, 17, 11, 11, 11, 6, 6, 11, 13, 11, 6, 17, 17, 5, 12, 4, 12, 4, 2, 4, 14, 17, 14, 17, 19, 5, 16, 11, 14, 11, 8, 11, 19, 5, 14, 11, 2, 11, 8, 11, 2, 17, 2, 11, 2, 11, 2, 15, 8, 7, 12, 1, 14, 1, 19, 15, 2, 2, 9, 14, 14, 17, 12, 14, 11, 1, 11, 2, 19, 11, 2, 13, 8, 11, 14, 11, 12, 12, 11, 14, 11, 14, 11, 14, 12, 13, 2, 11, 2, 3, 14, 15, 12, 0, 14, 17, 2, 16, 19, 7, 14, 3, 2, 0, 19, 13, 2, 19, 1, 8, 19, 12, 3, 12, 11, 14, 11, 14, 13, 12, 11, 12, 11, 14, 11, 12, 11, 2, 14, 8, 19, 19, 2, 14, 16, 14, 19, 5, 2, 19, 4, 14, 11, 2, 11, 14, 3, 12, 11, 14, 17, 2, 17, 14, 17, 8, 5, 14, 11, 2, 17, 2, 17, 14, 11, 5, 5, 14, 11, 14, 11, 14, 17, 14, 11, 2, 19, 4, 12, 3, 19, 2, 4, 12, 4, 8, 12, 0, 14, 4, 14, 4, 8, 4, 8, 4, 18, 3, 15, 3, 3, 0, 0, 5, 0, 13, 17, 17, 10, 18, 1, 7, 3, 15, 0, 0, 1, 15, 0, 0, 19, 7, 7, 18, 19, 3, 3, 10, 15, 18, 1, 18, 19, 0, 7, 1, 15, 17, 7, 7, 7, 19, 15, 15, 15, 3, 0, 6, 15, 15, 19, 5, 0, 18, 3, 1, 1, 18, 17, 7, 7], \"coloraxis\": \"coloraxis\", \"symbol\": \"circle\"}, \"mode\": \"markers\", \"name\": \"\", \"showlegend\": false, \"type\": \"scattergl\", \"x\": [2.5493262815968616, 3.255882516679572, 2.0100245742922347, 2.098015782880261, 2.950208753636882, 2.9288059909597375, 3.01823928481114, 2.1332189910964585, 3.0513995631497766, 2.3554748604979716, 4.546283595134508, 0.607488688553788, 1.0374518020515335, -0.5968682899398136, -0.6652999581954375, 1.5114933014251306, 4.862472999032278, 4.728364758485185, -1.545282071548383, 1.216707846654841, 0.09680042589739565, -0.036239104164508075, -0.07280596249557941, 0.09680042589739565, 4.728364758485185, 0.6588506616652927, -0.4435750197142441, 0.09680042589739565, 0.09680042589739565, 1.9100975942522604, -0.37775501350164487, -0.03888368098520575, 2.1551599604060017, 0.09680042589739565, -0.49092451177959767, -0.6689568050435869, -1.792522351408773, -1.0603966903052073, 1.5114933014251306, 0.09680042589739565, 0.6427613335902276, 4.728364758485185, 4.862472999032278, 0.7237051477173704, -2.123884286634987, -1.5788739890506795, -1.396506912053404, -1.412520341636585, -0.6689568050435869, -1.792522351408773, -1.6952290896678193, -1.4139587650479166, -1.1073667179713869, -0.9648959107975024, 2.5006792528573305, -0.819428011653356, -1.1511025534558015, -0.8933261457403487, -0.456443741099314, -0.670800617165087, 4.728364758485185, -0.6689568050435869, -1.792522351408773, 0.7907213486189056, 0.5321529625742831, 0.3787689715771999, 1.5114933014251306, 4.728364758485185, 4.862472999032278, -1.5788739890506795, -1.396506912053404, -1.412520341636585, -0.6689568050435869, -1.792522351408773, -2.123884286634987, -1.6952290896678193, -1.4139587650479166, -1.1073667179713869, -0.9648959107975024, -0.9503160970691754, -1.40033511676693, -1.398615345538326, -1.5182819247955115, -1.1972658518324, -1.468539781887803, -1.3988325526886993, -1.0922546351706661, -1.8149011313332966, 0.6998353468161419, 0.9521313299043552, 0.3977267931556819, 0.28476387640570877, -0.3029217193522382, -0.5170925187405517, 0.2409979816425657, 1.0372104305405125, -0.88114975823141, -0.2744020964394345, -0.6919650769821117, 0.17966025250969253, 1.0641066065610225, -0.44704861479961766, 0.27736492225924203, 3.6216394461647488, 0.44582855831612217, 4.728364758485185, 4.728364758485185, -0.6689568050435869, -1.792522351408773, 0.9957522374878344, 1.6240978301216813, 2.517892088481861, 2.4113301569574572, 1.4578023282500752, 5.173228716459687, 0.8940628295691243, 1.4412885419332548, 4.607297082903606, -0.6486503851907811, 1.6663646256032332, 2.1691807843564153, 6.367496865821698, -0.5845435700250657, 1.1360852455506774, 0.09680042589739565, 4.728364758485185, -0.6689568050435869, -1.792522351408773, 0.9148475377069922, 0.9957522374878344, 1.6240978301216813, 2.517892088481861, 2.4113301569574572, 1.4578023282500752, 5.173228716459687, 0.8940628295691243, 1.4412885419332548, 4.607297082903606, 1.6663646256032332, 6.367496865821698, -0.6486503851907811, 2.1691807843564153, -0.6689568050435869, -1.792522351408773, 2.0221261840219644, -1.6049201673552262, 0.9148475377069922, 3.44661920362732, 0.9349360186706338, 3.2623030767373247, 0.5231463504181415, 4.213000312703287, 0.10050171165350404, -0.9025711711681673, 1.192274924938143, 1.602293256985159, -2.1579813513287704, 1.5114933014251306, -0.24634495434589826, 5.017715037667551, -1.9524830348605997, 4.862472999032278, -1.42178084400235, -2.123884286634987, -2.0946640492471165, -0.4999764769277031, -1.5788739890506795, -1.9473562726193172, -0.6714020005559773, -1.396506912053404, -0.9131329757534765, -2.137798312874514, -1.412520341636585, -1.0284979140542923, -2.429559918175328, -1.6952290896678193, -0.2914363480059309, -2.558715337912761, -1.4139587650479166, -1.6613644983722817, -1.4080651956259391, -1.1073667179713869, -2.1316430262026516, 1.2427881777270704, -0.9648959107975024, 1.1098059376381022, 1.3521873339415518, -0.9503160970691754, -1.7686989369694712, -1.4958005212036671, -1.40033511676693, -2.4176747094839857, 0.8669060488992957, -1.398615345538326, -2.0421114080599447, 0.7966139456107142, -1.5182819247955115, -1.8891229971162706, -2.425250878457844, -1.1972658518324, -2.5211815939673645, -3.337499328602116, -1.468539781887803, 1.428576665038547, -0.7006635311458617, -1.3988325526886993, -0.9747494668672247, -1.5332846668763267, -1.0922546351706661, -0.4808907301045823, -2.5306579774773663, -1.8149011313332966, -0.8644412734167481, -1.7519112998109752, -1.3083102527443318, -1.2647794770862046, -2.1194795206650934, -1.8192534574069976, -2.3539301290572716, 0.1689897364756945, -1.601748419464258, -0.9306366189294518, -2.432473669350014, 1.9747923964776197, 0.09727665651024596, -1.6179488316884525, -1.261911509423855, 0.11132364452782274, -2.212595962684123, -0.7894127274831187, -1.6815866626247662, -2.5955893560636696, -1.5176398794386323, -1.536611417098107, -2.255714661447839, -1.5687471965516777, -1.0545774006169122, -1.1887914037087026, -0.8943787698845748, 0.3854159265021134, -1.8807280135458413, -1.4213657001012054, -0.582504635333156, -2.970117614019363, -1.07059853372018, -1.4032008464041348, -1.3237082589310873, -2.0121796643995142, -2.267115550107356, 0.7391151894054876, -0.728433087711752, 0.9722030775732694, -0.3315947538285617, -1.7825041780081186, -0.21860116811696137, -3.4271039759865074, -0.6809219979593806, -1.341385795797871, -2.3964189951437955, 1.5645036776718642, -2.2027962608518754, -0.7971107658106018, -2.200446865046457, -2.8550448229639294, -0.2615818707473183, 0.2244958650845904, -0.8470901922816325, -1.7796355891488869, -0.942790157813498, 0.9028868919192554, -2.578132182865736, -0.6348178474318747, -0.9132691892020608, -2.1934377925267516, -0.9332221468278936, -1.81397812885432, -3.1447757684818343, -3.164846278092912, 0.6608893478888282, -0.7644896892026805, -1.8825901931170452, -0.9160157597938767, 1.8908988375107785, 0.2194679749232669, -1.0070578494569336, -1.6556484581269297, 1.5114933014251306, 4.862472999032278, 4.728364758485185, -1.545282071548383, 1.216707846654841, 0.821990857328116, -0.5577871959297952, -1.3968914815021396, -1.0020399253412302, -1.9720190490945433, -0.5371593354225886, -0.9725295270847607, -1.676704355110988, -0.8345553155744998, -0.4532101942001557, 0.7189149410012644, -0.86081793056213, -0.8531813155838051, 1.0546756831141766, -1.845798816097557, -1.3347965858194932, -0.9969402166092459, -0.14551082048342712, -1.3136928775606838, -1.2540667790426345, -1.289649664028314, -0.8697256313570957, -0.808557192978258, -1.9554521321678229, -2.5904969446851025, -1.671317415407472, -1.5301289887239191, 1.8652121725004882, -2.2228138511934477, -1.1918551280558594, -1.2830165740495618, -1.1055738739469796, -1.3243333182831203, -0.7629754471129753, -1.333632631500184, -0.10326755202234239, -0.10326755202234239, 1.546354968175471, -0.9089679814365181, 0.5036655031140043, -1.2520885124618064, -1.6477824066471511, -1.1082391584473275, -1.8334476426807171, -0.7911671078785, 2.809038669100205, 0.9844537256583614, 1.0521438134737653, 4.27220055739599, -0.20995596197440308, 0.011384939730561325, 1.2026190835793638, -0.9378231711125745, -0.6593114128924364, -0.17736828790930115, -0.20454587124472492, 1.0984861796658971, -0.01607613989106397, 1.5061201296437612, 0.5137947336381936, 0.5248248725505492, 0.7292373798229304, 0.8036523749591759, 0.9368324512913417, 1.6811339718495903, 1.8383774004706732, -1.4152340645880963, 1.4217311705687417, 1.3489368049915649, 3.160269094437364, 0.03011089367313011, 2.018109815170522, 3.14949816000612, 2.844876158987293, -1.2843355474896327, -1.5035259270559522, 0.6398812207391341, -0.6909470333615452, -1.5553096648831883, -1.3844352648807832, -1.1640030509501842, 0.44200039500956256, 4.796500407262713, -0.9973992814714873, -0.20454587124472492, 1.1614964879627703, 1.3155386086241274, 1.433121841034171, 0.16124356965895748, -0.9008865082510482, -0.36681922481602286, 1.7638125610173283, -0.7444772863131677, -0.4309612452027864, -0.521720212751576, 0.034991292053423675, -1.690423403139144, -1.302499253855789, -0.6159860573354569, -0.6273759215041972, 0.7189149410012644, 0.18151633046466176, 0.23413398189096357, 1.5687569029448627, -0.16113343671658706, -0.826254483541164, -1.6346744744860162, 0.7727208191254996, -0.43212846163226093, 2.3551661463144846, -0.25154872552163066, -0.8980713961697285, 5.881538512427737, 5.901985169277837, 1.2922426548239785, -0.5402691970611133, -0.5544040568767913, -2.3402058108715567, -0.5006619302092272, -1.1434025424323149, -3.1283716071850916, -0.8316910866000925, -2.2055548746205096, 0.7904975043510073, 0.7982522444097676, -0.5666088144935457, -2.3628295829444745, -1.2354981069876743, -0.9749770003685311, 1.29664023944423, -0.9537371734517692, -0.6441106026839833, -0.03992723651538353, -1.0622456147613502, -0.4837826256976685, -0.8267216729607997, 0.76041886124608, -1.9891154440683931, -0.5650955144931668, -1.5750939564692195, -0.6120602148768653, -0.9219423277162198, -1.717455677131748, 0.15554661055461144, 0.00401540097647676, -1.159999751909924, -0.435907954956595, -0.9445358342755642, 0.2759904398245886, -1.014402186756116, 0.34335027375783317, -1.6587626058614902, -0.3039492659082399, 0.2719666045939035, 5.136231892885036, -0.7239240285619155, -1.053432808102306, 0.12820524439909506, -0.4987499646317328, -0.8387930015503028, -1.2988730237744073, -0.5119700491248638, -0.7381418058866622, -1.0568780428229287, -0.4540551794196541, -2.5698111217576565, -0.006115006394068462, -0.7209694683970991, -0.5016877344279659, -1.4911009150662062, -1.4659814320157178, -1.7079893542597064, -0.7703217851642226, -0.7653371104696008, 0.15528836630370288, 0.16380226213452637, -0.4331785953020671, -2.1207528774320377, 0.20145633520380032, 2.345271392227037, 3.7833338282191136, -1.1490988333850753, -0.8223279931159354, -2.1859741732120987, 1.1481620112276218, -2.399366955216822, 5.076652395618536, -0.4130766174237053, -0.9556672076840317, 1.5699405429234758, -1.099715376274697, 0.33406514191101394, -0.3718171463405769, -1.5088827111971403, 0.0031681271202373264, -0.7821835271812957, -0.5959421050211737, -0.8351452806347852, -0.34418196415274693, -2.280375393960132, -0.7298038714587952, -1.9484272948606443, 1.2148643689006553, -0.0825032302021042, -1.0002280314743497, -0.725746076619737, -0.31412770772109566, -1.1818252259508857, -0.17837750947123318, -0.05459311666961943, -1.6400905855334234, 2.429837879686611, 0.4574325341658027, 0.9360951286559538, -0.12885705416542773, -0.6862090142950534, -0.9931586185045284, -1.8072469372476752, -0.1465548022843413, -2.341746077130006, -0.6637721008412444, 2.3526974344405667, -0.8535302051619233, 0.3396116116861172, -0.9240886156326988, -1.9823251871409016, -0.9964463249579271, -3.2789646274610487, -0.5013280455991098, -2.1724556867455496, -0.45396229479780514, 0.21328722141567874, -0.09827743240431148, -0.25476292021905944, 0.7896107052683295, -2.28806983171232, 5.131107884578527, -2.493753329213904, -0.5168561179764231, 0.6724194136906984, 0.10524779536520576, -2.6460971878485084, 0.08488362570340639, -2.566763512751905, 0.22472194218842578, -2.9777868865694157, -0.4585000470653576, 0.27220262351172164, -0.572875169347089, -1.2805315287914047, -0.5165999911288943, -2.494067449063304, -0.32561221636907395, -1.733966440142719, -0.6815346986822258, -2.067875374649652, 1.7906060849157361, -4.0271224145985105, -0.34063527761164347, -1.0230577607443794, -0.8924693817917757, -2.531764741808336, -0.3114039926101277, -2.503506918921333, -1.3261398864826701, -0.739573782899681, -0.4233096168539446, 1.8076269706704176, -0.3892336305052595, 2.2683833924997123, -1.0859965789693677, -2.5332300429617063, -0.6921887668192197, -2.8069787686658816, -0.736623356301434, -1.8567134254242215, -1.5094716839964015, -1.9399328475196607, -0.6050046481034486, -0.07503961088745062, -0.6219879222017674, -0.8330284807576394, -0.3363441645696812, -2.327959004570548, -1.1854423683757194, -1.9289267616433594, -0.7088948531805708, -3.2425138179614232, -0.7170857479706614, 1.5727821015964658, 0.07906331612640508, -2.6175124917035304, -0.4558806661713423, 0.756394297193686, 1.8469598127328855, -1.8286489365968757, 0.9617229713807154, -1.8320622582051882, 3.301081962638204, 0.3073921310378199, 0.9849006102374782, -0.2509508251647481, 0.577575059942392, -2.783520073553388, -0.9082939993622465, -1.620500811851277, -0.5642794769618793, -1.0780354485282724, -0.621716542369095, 1.8652121725004882, -2.2228138511934477, -1.1918551280558594, -1.2830165740495618, -1.1055738739469796, -1.3243333182831203, -0.7629754471129753, -1.333632631500184, -0.10326755202234239, -0.10326755202234239, 1.546354968175471, -0.9089679814365181, 0.5036655031140043, -1.2520885124618064, -1.6477824066471511, -1.1082391584473275, -1.8334476426807171, -0.7911671078785, -0.4998412388493231, -0.9813021492686361, -0.36681922481602286, -0.34860986676263833, 2.1551599604060017, 1.7909462751388059, 0.3858731021479094, 2.761204316279201, 1.6446113277766403, -0.18836354829828586, 0.7190246405344041, -0.5203140095260799, -1.0359265299117066, -1.2171782834760017, 0.2564249480914564, -1.7615180850170642, -0.053237553043192935, -0.36488676928620845, -1.982534078316245, -1.245197006044633, 0.12000406401762445, -2.12431333788187, -1.0561695899526857, -1.7492838741505639, 0.5844894528334631, -1.4333461527518603, -0.9818526326921804, -0.8746104587587644, -0.537130121919248, -0.9148821551056505, 0.298228837407202, -0.913948698346403, 0.26132694493719194, -0.20995596197440308, -0.6593114128924364, -0.5168994852386427, 0.6588506616652927, -0.17736828790930115, 1.2026190835793638, -0.9367465018998707, -0.9378231711125745, -0.7323703639977026, -0.4435750197142441, 0.011384939730561325, 1.450273405088136, 1.5324055882278855, 0.4428784292608075, 0.2812201995838761, -0.4320302153644035, -0.7296299017808225, -0.5354458274106463, 3.749101977226213, 2.4189267712201503, 1.7909220930075453, 2.468086285748091, 2.9951639378124093, 1.8825742207105527, 3.790486232576622, 3.460529623189733, 1.8560544415383093, 2.7925995219203394, 4.073336417449094, 1.8902202619884174, 1.4641878230413112, -1.6444784415482399, -1.6657446898454704, -1.4010911161797275, -1.6907151476667721, -0.4402839384999172, -0.8221267454244616, -1.6506464898541882, -0.7963785560462697, -1.4835655980435614, -0.2907266300517972, 2.1435935130930854, -0.7687762499345404, 3.6635442205626316, -0.3531364393278002, 1.9037842886857976, -1.3467143747105021, 1.893377267578758, -1.0384100373178649, -1.6516043697866694, -0.2643040655910833, -1.6752391232194956, -0.8621230486479025, -1.7283456970764994, -0.7445482342840264, -1.8254934673927798, -0.40885635786901275, -1.096105126952338, -1.1930648053877446, -1.325460071338952, -1.9411542640530275, -1.5696660934279287, -1.8658986466761394, 2.765832890520698, -1.5612625805477913, -1.1805537704468088, -1.7193917077771887, 0.9445344613251563, -0.9163958045904448, -0.8196280769451937, -1.002279161242297, -1.8497648242060454, -0.7811078130237117, -1.5926277614564532, -2.2098968317561805, -1.2351757061479194, -1.6542498857525205, -0.49918847231333685, -1.0022092916174878, -2.4441023975296585, 4.298245234987285, -1.596067312434786, -0.6430339331644843, -1.6562036097168966, -1.8225035260241327, -1.1718501667026244, -0.1973197863322878, 2.3826172988077254, 2.794541191500855, 3.2412887529800924, 3.205234164354546, -1.0285855983355057, 0.2366088319529147, 0.9985008017523752, 1.9475581798720873, 0.3060820140011105, 0.038635540344031126, 1.150733803914636, -0.2364597236711097, 4.218209890691408, 0.5660495503373537, 0.3581792144384304, 0.10528285300115708, -0.37867216701611467, 0.19782702187143264, -0.0456290312739876, 2.1655300437858602, 0.6064262264788073, 3.2741403131268516, 0.2903854407996415, -0.29760025356368347, 1.8212980751074006, 4.205435492412437, 1.5540791169123467, -0.2456124930451967, 0.13453333380879, -0.19201321590942425, -0.20694045453873058, -0.5706496781299012, 4.233388828229711, 0.35579315256033583, -0.7797862204568617, 1.947091302204353, 1.8593906525366704, -0.2919353735981208, 5.106565135239552, 1.9779721269479578, -0.052943292493777154, 3.692298463247008, -0.29147926381043027, -0.0902824592513434, 2.9404666965466157, -0.44601559910792266, 2.958338346177158, 1.8460884630167618, 0.28691443722727306, 1.1173721029377945, 1.2999606994115283, -0.2684520542146769, 0.674641640243087, -0.9664065362550375, 0.819326521525557, 1.8764447945642635, -1.3211744508167849, 0.969634776688808, -0.9694539827965479, 0.6318056302606424, 1.3653491716539166, -0.02633417187372107, 1.0923829549538802, 0.8403279392886189, -0.3831303366209941, -0.7550081983360826, -0.32066065161382656, -0.6179936195791653, -0.15135013244987813, -1.1128631862650782, 0.8608772282713785, 1.0371348287195974, -0.7501050601127075, 1.4367322876547188, -0.08164370544774625, 1.450273405088136, 1.0546756831141766, 0.7190246405344041, -1.443513838376753, 0.5479273118277772, 0.0639864426788424, -0.012356750924867687, 3.049942255203714, -0.34860986676263833, -1.5355993884236452, -0.9982248866332458, -2.51920527034165, -1.1884301730265134, 1.2484792019453526, -0.34850663619489713, -1.5356352643742015, 4.719080899142638, -1.7889796488555587, 1.0489903924622939, -1.2596420516772275, 0.36366364707134924, 0.7517421771463153, -0.4739819986190157, -1.9990981231329072, -0.5301740322799641, -2.6332826187819776, 0.5457231907590521, -0.8194864081989421, -1.0235697494495413, -1.351409992617802, -0.975029004370339, -0.7966279026067887, 0.3685410618204888, -1.4308958316754183, -0.3931126960344176, -2.013363132111721, -0.45628956411456234, -1.0776521557402337, -0.7960172291350945, -1.8176133148178955, -0.7709680956905243, -2.0943249296293858, -0.42088837143396607, -1.1242661957255062, -0.7044060464781975, -2.0203518714749347, 1.5219392556820763, -2.3416945330193357, -0.4169308400409916, -0.5132390202192905, -0.24444956687699304, -1.1075275595395375, -0.318133810377681, -1.0856258599872308, -0.6283276339225313, -1.9329192762777503, -0.04651624259363572, -1.6687422551511861, 2.2842228144765397, -1.8362565661092332, -0.675831281416202, -1.368509062835372, -0.32976926403579926, -0.9409257315782278, -0.22104187886884863, -0.7159210616104421, -0.7587192407925646, -2.2446012369514627, -0.46101843405917076, -1.7399163781407374, -0.06903596470369093, -1.2142509585169858, -1.308497408622853, -0.3992659913543889, 1.3254427688315022, -2.126798988307007, -1.1049567337058457, -1.0309274859116548, -0.4290589577636184, 0.160529700471061, -0.7241836680453081, -1.7097258830817794, -0.4766903843688168, -1.2599865418622036, -0.04224176297538383, -1.1313147506645915, 0.3232072279161109, -0.9175871574964123, -0.2627896248681844, -0.6211052939030378, -0.5838181414374982, 1.3680935237519947, -2.0088141143671585, -1.2138007197941265, -1.6972956325221895, -1.8398114586046503, -0.8296215066668695, -1.6530694423866206, 5.099362561406017, -1.2957036821713985, 5.30763047326103, -1.6645852823762202, -0.6668703883828869, -0.8091616185171558, -1.0980580587809379, 1.1554583848331665, -0.3362868082074959, -2.084922503737405, -1.6600649923338269, -1.7423174925756206, -0.9015669130641694, -1.0679722681740713, -1.4950726848153029, -2.077201565753461, 0.35141708133181876, -1.4090322602804473, -1.668384248358389, -1.152596559128715, 0.011485982456689532, -2.400234633737278, -1.9426473600248082, -2.0814969177080185, -0.1516131128449163, -2.0488245018463207, 0.86790691364362, -1.7138964559333583, 0.24713549606975863, -0.4806131107320596, 1.0956104234059938, -0.2891187904032533, -0.3165120560641905, -1.175771639739092, 0.2453797741202127, -1.4037317438318826, 0.6320406884560009, -2.0842831937093065, 0.5274519071160874, -3.071866925468166, -0.005861302082803523, -1.4432176552932978, 0.7967005677895382, -3.3119812682150838, 0.3499675881116983, -1.514481184127985, 0.2512867059992136, -0.550539863259658, -0.5160489836042849, -2.944917761872945, -0.2731234723209754, 0.385861751613267, -0.8574297214492307, -2.1293319963681934, -0.8901438262473176, -0.9173748939996698, 0.5215496083669752, -1.439996717949537, -0.3952723977309011, -1.3312550870000837, -1.0454542433518126, 0.9711015406321661, -0.8865427853484233, -2.479912685458172, -0.04809303642147287, -0.8578827402255021, 0.07525916349014544, -1.417897773518187, -0.4683677994153407, 0.5000880025733447, 1.5139479381286869, -2.158404939392687, -0.6689568050435869, -0.9635111492657177, 0.08301635114287954, -2.015906831773004, -0.0687974616822809, 1.667268376116712, 1.2285998545884609, -1.4868266794860157, 0.8056101841243718, 0.26672841017618093, -0.1815541503001922, -3.0125800729008656, -0.22385233596285511, 0.9220487943874337, -0.4976808437458913, -0.9783388976172034, 0.4427172000131595, -0.3761998297361251, -1.384911281884385, -0.4050095444801172, -0.36321009173967655, -1.111065822323449, 0.27816772222982905, -1.0117870742471982, 0.876183716958773, -0.16959679940139927, 0.34531694526542167, -0.9197675084626213, 0.05618328883871202, -0.9889693500038635, -1.792522351408773, -2.152749762421154, -1.676537801391694, 0.5574467059989219, 0.44942142027436566, -1.2424133659182035, -1.3682447078768585, -1.87696439562591, 0.802569461459913, -0.7296299017808225, -0.5354458274106463, 3.749101977226213, 2.4189267712201503, 1.7909220930075453, 2.468086285748091, 2.9951639378124093, 1.8825742207105527, 3.790486232576622, -1.096105126952338, -1.1930648053877446, -1.325460071338952, -1.9411542640530275, -1.5696660934279287, -1.8658986466761394, 2.765832890520698, -1.5612625805477913, -1.1805537704468088, -1.7193917077771887, 0.9445344613251563, -0.9163958045904448, -0.8196280769451937, -1.002279161242297, -1.8497648242060454, -0.7811078130237117, -1.5926277614564532, -1.2351757061479194, -2.2098968317561805, -1.0022092916174878, -1.6542498857525205, -0.49918847231333685, -2.4441023975296585, 4.298245234987285, -1.596067312434786, -0.6430339331644843, -1.6562036097168966, -1.8225035260241327, -1.1718501667026244, -0.1973197863322878, 0.1633929978283042, 1.1426638330971783, -1.2630319873285452, -0.7863524895797818, 0.1633929978283042, -1.565890701739855, -0.7854841001803505, 0.24090492052917234, -1.6053207430664829, -0.9362430713428032, -1.564582937109083, -1.6053207430664829, -0.0959081515942785, -0.5390251376979748, 0.1633929978283042, 0.059972043420566265, -0.1751222424408389, 3.0440670783440607, -1.6562036097168966, -1.8225035260241327, -1.0155127847831815, -1.1762676687920766, -1.6968063025428262, -1.3060562969643748, -0.5643313051417232, -1.8765661828367945, -1.8439496832055375, -1.1365912020820048, -1.426099981411201, -1.84317969607299, -2.007685036155633, -1.4060204863357113, -1.1022001899915481, -2.125992532984828, -1.407537214979527, 0.4714630797127887, -0.8642066820575535, -1.5678844446765987, -0.5887791752863549, -0.8305611343297832, -0.6548557843108782, -1.0597258615456635, -1.207776268465721, -0.6548557843108782, -1.557324700999681, -1.4605231446899472, -1.7060511231147504, -1.7713439606171566, -0.7056554843009671, -0.8348903222997319, -1.364022796368393, -1.8391354371057709, -0.7249077630221928, -1.300652341425279, -0.8037833053479467, -0.6212260568287757, -1.1114536338063286, -1.7616566622747505, -1.4008695307232872, -0.1552333694365417, -0.9144082738992108, -1.542693723431061, -1.402566637418846, -1.4739914285413624, -0.8184929826674482, -1.426099981411201, -1.0998407014074743, -1.7380901780069966, -1.0583042862952738, -1.7848824385948692, -1.1574815337260869, -1.9854380302598214, -1.4291042973839336, -2.1178991956313187, -1.170755507522497, -0.492934291986964, 1.5305593220668983, -0.594156389549185, -0.7274090996774588, 0.10121496426265202, 0.24063326224593176, -1.2391082966460996, -1.157693609066515, -1.8299783235953218, -0.3133082807590195, 1.3514989947691614, 1.0164971780983507, 3.1250416981087743, -1.7025412310697745, 1.0253010102828624, 2.5555055948896466, -0.6435332736120936, 5.998579725355168, -1.6606054725297215, -2.3360061761695894, -0.09992077727551305, -0.4413322350555341, 1.5526509638901842, -0.7193191725765302, 0.14548419746161778, 2.9755637338769416, 1.1610646346353795, 2.8054061559125123, -0.5727210533969352, 0.37435988721744495, 0.06487905754852552, -0.4756401216079397, 0.6634838230741124, 0.1093078886009951, 2.658175822325318, -0.891957497025645, -0.22286426018814096, -0.7564285213897601, -0.44168222209667224, -0.5483032843105661, -0.8126131056575782, 1.1004270969532555, 1.0411449140139692, 0.40691109237786904, 2.3320879918500887, 0.6881818575793784, -0.2491400336943983, -0.07897641996932246, 2.365050292848368, -0.8963867944242259, -1.303551206222354, 0.9322228284034049, -0.3863447760754144, 1.3077185771303235, -0.4558936895065574, 0.38130520375361543, 2.336371723293211, 0.13648115946122943, 0.5511239825070661, -0.739066350025209, -0.13953235257850263, 0.6104135464714303, 2.3906027619706807, -0.5469853854061799, 0.7648779688396649, 2.7418779413807837, 2.5969201183598987, 3.557677031031999, 2.365050292848368, 0.55581646989423, 1.7592401588933835, 0.5770667115540092, 1.142181088359057, -0.9647521851686087, 1.068925922453236, -1.1953680951134154, 1.0667047546489261, -1.0314006826815203, -0.08010179411174313, 0.20521693292636942, 2.9409275491667923, -0.10801162303188304, -0.15435580132987278, 1.9172772483617742, 2.399724730361621, -2.3639087143829576, 1.5252994770105093, 0.13689137076552566, 0.04097453371395502, 0.28742621742019164, -0.831070068253578, -0.11850284680874437, 0.3528980995284443, -0.0093340173094934, -0.7291274951495651, -1.2050283056617668, 1.707898388516347, 0.7187403987818599, 0.2865278071095651, 0.04097453371395502, 0.8668993461160446, 0.4428784292608075, 0.43301709832106716, -0.9367465018998707, -0.5168994852386427, -0.7323703639977026, -0.6159860573354569, 1.5324055882278855, -0.3831303366209941, -0.7550081983360826, -0.15135013244987813, -0.32066065161382656, -0.6179936195791653, -0.12699724748484348, -0.12395872412630889, -0.9490026162133035, 0.08838190673844655, 0.71511069683966, 2.7258286632033712, -0.6503106364978671, 0.6536660357210826, 2.1521798676063275, 0.01772356139226749, -0.6284318508895893, 0.44576056656701835, 0.043008299355263076, -0.26666132608302917, -1.2438153012414657, -1.0968153774849303, 0.019944148247382637, -0.07579700622047425, -1.3877980126004903, -0.30710332072497765, -2.0434559549716442, 0.09461364608593044, -1.610178042151601, -0.5211548484002066, -0.482913848889451, 0.3513585738131788, -1.063961330502016, -1.3598610158517572, -1.6125882371095435, -0.32888009758906495, 0.33256485161903027, -0.13498992609610813, 0.2703494042331203, -1.1371530924710516, -0.9228503043208915, -2.0091559421130296, 5.453664149115687, -2.2344174443917684, 1.1168890912945464, -1.2388752849996023, -0.23483398042279985, -0.3962973185803701, -1.5182875258860022, -1.302333329551772, -1.158303718675417, -0.15678807222923077, 0.3195343595147718, -1.5534606687181935, -1.6758209511664808, -1.5578493881851831, -1.0281940967592735, 0.3798584952580804, -1.266551236348802, -1.5981581530524707, -1.1610619372781985, -1.1570992145333865, 0.2540475310351493, -1.3344167353821077, 0.7432362734967689, -0.8889571950357658, 0.10257607976523854, -2.446826898106833, -3.080567048634994, -0.06344432696060825, 0.6477278022298145, 6.645146316840146, -2.5071147950411303, 0.041458737703351775, -1.1548546140515328, 0.030991328331469108, -2.3957193902714127, -1.6049201673552262, -3.3649534034200537, -0.09316845704963007, -2.7254061287744786, -1.7731163726590426, -0.8364284432489965, -1.9922607043683624, -0.9037310327466196, -2.3225040403625634, -1.2190699465263601, -2.0464656292283983, -0.9028940768037814, -3.05337829894126, -0.6139958012301431, -0.8119866137435021, -0.24419112899929, -2.5973239168615594, -0.4779388469953843, -0.457825624715912, -1.2588369392881467, 0.96344617279225, -0.9004524086469355, -1.4567407092071978, 0.2901648792929415, -1.4873576476031471, 0.886537374704092, -2.5473592376255656, 0.035043146679584414, -2.0358963758603523, -0.6963675702382103, 0.0240333222768213, -0.07700791413669103, -0.028116377562229667, -1.0129506696546198, -0.4664284113654533, 0.9681605342919656, -0.7322896251452898, -0.9740738919560404, -1.2662302355152164, -2.4386280212869273, -0.06071447899104321, -0.45520794230902983, 1.964888537117524, -0.33805179058324103, 0.3616214503618336, 0.516001936547884, -1.1780205066812877, -0.5560025929621792, -1.6755348692104002, 0.18023515369645265, -1.369621421697234, 1.7478931118366483, 1.2233450287942245, 3.0522634814957215, -1.4718994408567092, -0.5664539700039136, -0.6065937898656681, -0.06138698725039117, -1.2520540890867442, 0.2357135199878905, -2.8728473132019077, -0.9053405819681007, -2.092133313961332, -0.5892853113132592, -2.1936899529287035, -0.4699336068338608, -1.563951559763074, -0.49292460960519763, -2.2735562194071472, 0.15215358566927617, -0.7774287919015901, -0.922679474537923, -1.520442788599053, 0.09027609310439545, -1.5179025164711892, 1.055356342829306, 0.00982515226985669, -2.7109234165461835, -2.993750478577007, -0.26197000891662, -1.6823886706457396, -0.5582347224544678, -2.005538679976667, -0.6806461800326273, -1.197473853577388, 0.3085302203652416, -1.8096714002612282, 0.0852154246825113, -1.0323351518018051, -0.8928384012539413, -0.2379521371854383, -0.35560121546834506, -1.8994620540212175, 1.1616511292119418, -0.1451490059486099, 1.8534208570061868, -2.5962220453882097, 2.217624489844459, -1.1608208863024692, 3.215798955730545, -1.4105470621830045, 2.7056197943053353, -0.7026372494969807, -0.8069874155654625, -1.8214219288774873, -0.4733442819070246, -0.24744415334607853, -0.4161268882023727, 0.8398823740273687, -0.1873002215471579, 0.558235075519168, -1.300488321644229, 0.5681528671797782, 0.5347583484301297, -0.11964136693637042, -1.4684867268050834, -0.3020678843176328, -1.3773247839771499, 0.9484108042725037, 2.3175994446069863, 1.7046452678058386, 1.4586223175674702, 5.881538512427737, -1.9287190276146962, -0.5581379359960369, -1.6649467358233792, 0.2459020254411151, 0.19542160251252066, 3.9187421805624427, -1.2955875764318654, 2.04629746032191, 0.03625033776766764, 2.751661250604818, 1.0355699409930106, 0.2371803106681195, -1.4477535129334578, 0.1930226786592152, -0.8242174833219796, -0.22399950249158823, -0.21599287623521823, 0.011969591030571743, -1.31350135697089, -0.46821751041994397, -2.8892895121557376, -0.3408570740907426, -2.2206073992028617, 0.2804154323714484, -0.5990600075902058, -0.9563388071143725, -2.4451471844270523, -0.8954291200324578, -0.12637447766231896, 2.903547166208649, -1.6562036097168966, -1.8225035260241327, -1.0155127847831815, -1.1762676687920766, -1.6968063025428262, -1.3060562969643748, -0.5643313051417232, -1.8765661828367945, -1.8439496832055375, -1.1365912020820048, -1.426099981411201, -1.84317969607299, -2.007685036155633, -1.4060204863357113, -1.1022001899915481, -2.125992532984828, -1.407537214979527, 0.4714630797127887, -0.8642066820575535, -1.5678844446765987, -0.5887791752863549, -0.8305611343297832, -0.6548557843108782, -1.0597258615456635, -1.207776268465721, -0.6548557843108782, -1.557324700999681, -1.4605231446899472, -1.7060511231147504, -1.7713439606171566, -0.7056554843009671, -0.8348903222997319, -1.364022796368393, -1.8391354371057709, -0.7249077630221928, -1.300652341425279, -0.8037833053479467, -0.6212260568287757, -1.1114536338063286, -1.7616566622747505, -1.4008695307232872, -0.1552333694365417, -0.9144082738992108, -1.542693723431061, -1.402566637418846, -1.4739914285413624, -0.8184929826674482, -1.426099981411201, -1.0998407014074743, -1.7380901780069966, -1.0583042862952738, -1.7848824385948692, -1.170755507522497, -0.492934291986964, -1.1574815337260869, -1.9854380302598214, -1.4291042973839336, -2.1178991956313187, 1.5305593220668983, -0.594156389549185, -0.7274090996774588, 0.10121496426265202, 0.24063326224593176, -1.2391082966460996, -1.157693609066515, -1.8299783235953218, -0.3133082807590195, 1.3514989947691614, 1.0164971780983507, 3.1250416981087743, -1.7025412310697745, 1.0253010102828624, 2.5555055948896466, -0.6435332736120936, 5.998579725355168, -1.6606054725297215, -2.3360061761695894, -0.09992077727551305, -0.4413322350555341, 0.22085145219927818, 1.0782865617874302, 1.584379600239038, 0.6998012220814953, 1.5167321014968507, 0.5587870611460274, 3.771326876023447, 1.7884497571062976, 0.9431785661160001, 1.2259169915303691, 3.552827680690617, 0.24845519042092742, 0.49955168374558745, 1.062402922668525, 0.027351968370085123, 3.0440670783440607, 3.0572518617351108, 2.916920295979455, -0.18258586175549185, 2.7811472919683715, 1.9456437972590406, 1.1294225433126683, 0.8600910703130537, 0.18327274785057845, 0.10985472259720727, 0.8381137972058517, 1.9236046152895308, -0.6143451294206033, -0.3469281389604784, -0.07148251942460238, -1.553224668416507, 0.6959814903490062, 2.562728826126467, 6.4175091726456035, 3.9462040804227145, 0.7770345204805676, 1.0248514052984519, 5.784264771714657, -1.4627511140680363, 6.992461472007597, 0.18863964219377927, -1.149464452743219, -0.09372614882828639, -0.2608721527931847, -0.3781277294227181, -0.44423324541181675, -1.4595744613378987, 0.5788440721076133, -0.11528009881085664, 0.6677717369212868, 0.2828911926207936, -0.5782377940189659, -0.3455097900409727, -2.118516643922627, -0.17081435630611547, -0.7006641088653597, 1.6834948983811748, -0.396232464232619, -0.008178568786244188, -1.0173804425459303, 0.20298603466332546, 0.7985197334426039, 2.250267899575162, -0.3217317654361835, -0.8200135944925447, 1.2124201036292837, 1.1360595825982978, 0.9310078526237573, 0.9350097538474599, 2.458417701642423, -0.8083995996958864, 0.12097571742702798, -1.2972553618352665, 0.15361893285853423, 0.43634897208419854, -0.831643463809274, -0.13662929098219076, 2.4929681326689366, 1.7099086823340721, -0.34574540748460025, -0.6303605738394081, 0.3329593579963191, 0.43328538482934287, 0.7387646188983672, -0.5686536980715016, 0.04520420237716641, -0.6741305302609506, 0.1790715461659772, 0.2493514134279263, 0.6098495859829354, 0.12311140799053215, -0.07919596320538322, 0.7500203848900753, 1.1382461368091694, -0.20226321539983275, -0.3283641778142899, -0.147476898852919, 0.2006781232520457, -0.06956694165363903, 0.40722789438285023, 0.32281967282770196, 0.5170960272205114, 0.11080969314426832, 1.13619701043438, 1.7592401588933835, 0.37435988721744495, 2.489804922864446, 1.966337119353704, 0.6634838230741124, 0.5660495503373537, 3.0470284280595825, -0.6903694269183904, -0.037616478592637774, -0.9238589556643884, 0.9075803601889054, 0.22125669022052985, 0.3741908715459981, -0.7496344154209863, 0.0630187579746552, 0.29933841833091784, 0.4640900901729536, 1.5345436546990654, -0.035888546734782235, -0.7300999489102922, -0.6007198881639961, 1.154121875370059, 0.19935556164558035, 0.19935556164558035, -1.303551206222354, 0.9322228284034049, 0.5511239825070661, 1.3077185771303235, -0.739066350025209, -0.3863447760754144, -0.13953235257850263, 2.336371723293211, 0.13648115946122943, -0.4558936895065574, 0.38130520375361543, 0.3920695651927845, -1.0636409472544557, 0.3966329910309698, 0.5893982528231404, -0.7309001951071836, 1.204417979024773, 4.005171406511671, -0.34958495495269903, 3.710067640154537, -0.42098215230652547, -0.6842313412083243, 0.3567678051689922, 0.45242930216494115, -0.4882314914134799, 1.3703287512787974, 0.9517954200250804, 0.07354580878467341, 2.140886451342689, 0.5794509800260585, 0.7035027327137223, 0.9098722757761173, 0.20259295825491733, -0.11471070671626048, 0.7414275829007704, 0.8863454646935961, 1.172731832445776, 0.36051417635638944, 3.8317779585465543, -0.8542551208253042, 1.9475581798720873, -0.09335426524072409, 3.4633849559091328, 2.328318671974633, 0.8302859821390124, 0.894465469556038, 1.4885480083429643, 2.0525330169512968, 2.0525330169512968, 0.30504502652812426, -0.2815179738522278, 1.6508567154060474, -0.9946847660068618, -1.7338047050762586, 1.978112663429474, -1.5723927635893853, 3.90240904018186, -0.7667970398711429, 3.7041427526485626, 4.704347682779591, 1.0858728469195345, 0.1633481240139481, -0.10102414213118972, 1.3632728395611626, 0.45563799886411194, 0.34446397667704104, -1.9554077506842433, -1.3000015197469434, 6.244161810545171, -0.5230929659819915, 0.4518871228576164, -0.4883609228963795, -0.13907419957412967, -0.08337737278341946, -1.0590462925820743, 2.486456949448251, -1.776086085557283, 1.4351732755007502, -1.7601358695913054, 6.235470923773312, 1.4351732755007502, 1.4351732755007502, 4.91449715958886, 1.4351732755007502, 1.4351732755007502, 1.4351732755007502, 1.4351732755007502, -1.502868131853134, 1.322129063836736, -0.24185258599987441, 0.5070583476586147, -0.2445002648579281, -0.5235227820819353, -0.4065829271582831, 1.66493352438822, -3.0426622974775266, 2.237921887549368, -1.9842636428655958, -0.9867756274054542, -2.076898690487271, -0.5253093191700041, 0.009169435523500838, 0.7267268823054688, -0.7483640301708397, 0.7644865096583386, -2.2030638323028744, -0.700562580074801, -0.6023627267007766, -0.8046500101803311, -1.1041990469897307, 0.17108794220527995, -1.4288884132456745, 0.8320484427409299, -2.0225603636357827, 0.1449097704144515, -2.301881468297856, -0.2434953669372987, -2.590947908764011, -1.639934621456742, -0.9403066953560317, 0.4505840639960072, 0.07900638078368787, 2.435450044100566, 0.3601856601451462, 2.3058362147031, -0.9087225120094933, 1.0315684419764155, -0.9735355047241234, 1.6679787125081307, -0.37597137556698634, 5.901985169277837, -0.11225992985210673, -0.27636913168793087, -0.5389443952962444, 0.27228371408981444, -2.1077305647612867, 0.09076685651852535, 1.724470859889099, 0.4014553027266308, -1.9655993914795025, -0.046408772723777775, -2.5646325317017733, -1.046425573436542, -1.610385593370529, -0.8556274181745579, 0.05328013995013001, 0.18989307404952063, -2.2206753667038943, -0.4427415970386527, -0.71246876353004, 0.28167475301020206, -2.773123682465815, -0.006250032419998512, -2.819287814483499, 0.5628300110558828, -1.8881546155727875, 0.406303236142586, -1.847262076300152, 0.4329385634571136, -2.7079353482360964, -0.560694296612297, -2.2727140965185857, 0.3388430213890708, -1.9184646306832853, 0.6249127344659097, -0.9863505230138416, -0.23320080050811406, 3.1926736939916887, 1.3500253101517077, -1.5622002660001129, 2.3835147208478475, -1.5916087730084971, 3.8412029558197998, -3.095322203098325, 0.241345163569403, -2.6780847003379473, -0.4496979508125822, -1.5387379575102489, -0.1639219233918539, -1.681369985618546, -0.5632832097556139, -0.46294024656921207, 0.14641078814589076, -3.302489776929693, -0.10374414719613179, -0.4214071201885724, -1.336412445619477, -0.47967436853481693, -2.730650304489759, -0.1998905278744853, -2.1604890304169637, 0.34689121217822255, -2.0247001504785054, 0.32582819179500216, 0.16071247136764186, 2.276370722574869, -1.097540414905889, 0.10750313612238019, -0.5793001745109511, -0.2987872643342801, -0.2579811732953155, -0.7211019403241598, -1.7106766776272262, 0.36042417024009915, -1.7178407770483524, -0.9335619527784951, -1.4085049737314586, 2.528007901592756, -2.272837374423006, 2.956635640929351, -0.5123245384146671, 3.0504012726167957, -2.601348168474754, 2.2799790579173123, -1.312195709586725, 1.6635799853643527, -0.21988158363798083, -0.1563595276693386, -2.126239377815307, -0.08806753068520703, -0.02410523034862493, -0.12197953018611055, -2.0070040056229055, 0.4113041601512164, -0.9881252955877897, 4.126800064715247, -1.9765171632072929, 0.510361475098433, -1.0211907160767664, -1.301899721255614, -1.9835086548531087, -0.8365034279425192, -1.3840109970017356, -1.9645554297798893, -1.8896753453349608, -0.07307015353447317, -1.8845012003414363, -0.3635205644290514, -1.9287613075192258, -0.2874645432720647, -0.8951962995524535, 1.7261377957582338, -1.0202971584771547, 2.2805888111958477, -1.3419565288952109, 3.592715597179899, -1.4725720261105628, 0.41760233696963167, -1.9875497283453238, 0.3977267931556819, -2.4368575519757165, 0.05534131064209855, -0.579961583379144, -0.24573947207593272, -2.4318996594775264, 0.06885295926964091, -2.520107540765197, -0.35926439056077875, -1.5720921157973857, 0.8736059525260983, -2.429054333967771, 0.2916413564695811, -1.9205121058905317, -0.49146550428060903, -1.9155082631605287, -0.840132091102317, 0.3020097645862222, -0.4523648018522607, -1.2806117529789196, -0.9738073980415212, -0.990925767662531, -0.5951578185695183, -1.0851346473357557, 1.8653089514549888, -1.2782599202098754, -2.1725479146554627, -0.015104137431375857, -1.4706982638448098, 3.064891267808117, -0.8463785065966916, -0.6624292403927646, -1.6727005649042093, 1.5780106921828108, -1.774374051687628, 1.5863039978640592, -2.7305900725114425, 2.5683074625562234, -1.0202810674429066, 2.4290921787967634, 0.6959814903490062, 2.562728826126467, 6.4175091726456035, 3.9462040804227145, 0.7770345204805676, 1.0248514052984519, 5.784264771714657, -1.4627511140680363, 6.992461472007597, 0.18863964219377927, -1.149464452743219, -0.09372614882828639, -0.2608721527931847, -0.3781277294227181, -0.44423324541181675, -1.4595744613378987, 0.5788440721076133, -0.11528009881085664, 0.6677717369212868, 0.2828911926207936, -0.5782377940189659, -0.3455097900409727, -2.118516643922627, -0.17081435630611547, -0.7006641088653597, 1.6834948983811748, 4.991521029048662, 0.36989413499945395, 4.8938563269485815, -0.36491872099826705, 5.136180108399915, 2.9506692392066673, -0.5563145585246204, 0.8277143997248858, 0.18249243182092054, -0.7703719952402023, 2.0809333825982943, 0.18249243182092054, 0.3409402246826219, 1.7544897406823206, 3.7167986811845037, 6.235470923773312, 2.2964747283159075, 1.599599537074389, 4.064571865693097, 4.186125570962363, 3.2106221995685114, 3.3676894835888405, 5.603953785450012, 2.3378152733750595, 4.294748057976113, -0.07897641996932246, 3.947736942596342, 4.200583641686966, 2.003210942356664, 2.9443677999908484, 3.824411877169004, 4.096830341083534, 4.009737185822868, 3.870869754933407, 2.498382443781567, 4.299402819131421, 2.7132503810574344, 1.8683440425757223, 2.816747187732226, 1.9689563529311158, -0.012936000559493998, 0.4954509579865526, -1.1826885813967278, 0.2552260358822996, -0.5225896644678939, -0.3159756512372851, -0.8106166535157449, 0.15379617030905215, -1.1844903099574484, 0.22455957233364604, 1.010285974846107, -1.216295338639155, -0.9185503404939376, 0.5332152079731185, -0.7029559957282575, -1.084130740370432, 0.3025128532966728, 0.7447749703410879, -0.41979871623020604, -1.1320740973476686, -0.44019867960478143, -1.1329447431311477, -1.124491600783814, 0.5084917348081408, 1.1839154694989402, 0.14124018085263765, -0.4808344808652758, -0.6056626155304573, 1.6011483867374303, 0.11794967313720206, -0.0059810166949094915, 2.0215175249212884, -0.4445791436451104, -1.2003141043691696, 3.1752792721957275, -0.5137901219338554, -0.8757703647354524, -0.9308662967294811, -0.9388461204798892, -0.5855785901885344, -0.44336172884904407, -0.34518471203039, -0.6664206362770299, 0.2273191336674364, -0.5228742475515111, 2.148933400787864, -0.3376210083534843, -0.147476898852919, 1.8635398524434754, -0.4777450604093163, -0.12173924545687131, 0.22452938506889625, 0.48031486741435164, 1.8251081964038043, 0.23134681823109127, -0.46199076697665425, 0.5064557391479905, 0.16329357651311494, 0.3143144093738337, 1.1285075473446677, 0.22723472559092714, -1.7238725673802944, 0.4279385085362836, 0.1297098250323021, 0.015049736447370341, -0.25824706066012953, -0.8676354547836447, 0.5913611339230551, -1.5211244310145826, 0.14016105983214994, 0.46614147222800334, 0.6432643826535808, -0.2834563948046819, 0.10297374942829338, -0.31121794947806913, 0.3091531565283797, 0.8608875425643087, -0.5031110890352789, -0.6413601615987803, 0.7197461876217346, -2.2777577846379966, 0.9087850864898515, 0.7691654005727475, 0.13545127549066077, -0.1389242473280153, -1.6973909209795017, -0.8709682582520533, -0.5524547919198007, -0.06134255844204926, 0.09649122945537648, -1.4207261249182177, 0.14373149671373153, -0.34371335879586357, 0.16889139149819038, -0.3677052258752751, -0.858179093818741, -1.0011094002843506, 0.5133889043651962, -0.695325308478489, -0.21201863475343727, -0.3247482312833483, -0.35689069156031417, -0.6018870457218906, -0.023865733432901416, -0.6147198864072779, -0.0826512388966462, 0.11253981732624155, 0.1284425006409961, -0.4390005762471739, 1.6812912844217591, -0.5420027700802433, 0.3383361719284345, 0.3028569167300281, 0.25829343001027893, 0.5149214159938803, 0.645330492107641, -0.6159710932695227, 0.6375274783501093, -0.35689069156031417, -0.6018870457218906, 0.5755013350872232, -1.3851701147238362, -0.6579936708612677, -1.4547750899500642, -0.5925719961940912, -0.27539281743933175, -0.8885682078565951, -0.7789397313822244, -0.580802829310031, -0.9671540849892692, -1.042196552355442, -1.555337750519238, -1.042196552355442, -0.34788064568909827, -2.2851328888934836, -1.8398301067100626, 1.9837454854232526, 0.8445587898111392, 2.5658226986418615, 0.8854636760126142, 0.2595545884931392, -0.3095944074445273, 0.5668907368292201, 1.2694706456843732, 4.560734267010809, -0.3927475997569369, 1.2950748212259682, 2.5969201183598987, -1.3970386096012044, 2.013026202024357, 0.3901080519302942, 2.6197557092313035, -0.1446193907615824, -0.2619388696322704, 0.38309630170114234, 0.9605720949725696, 0.2510204975793908, -0.1940270875966497, 1.1440314430575227, 3.101952552101447, 2.4276942095475427, 2.2320385149798074, 0.30910192946641674, 0.11177920610361332, 0.07954456834902052, 0.7607539483416897, 1.1193353243536772, 3.048433846576763, 0.15237988543575048, 2.815298610761656, -1.4209004255321622, -1.966428063653937, 1.3860970857339734, -0.14299334484438805, -0.9397233569072136, 0.31143741481399156, -0.7167613268365297, 1.6084989985853724, 0.3392311354070867, 0.9892196306539381, 2.254857946528482, -0.24523777685359052, -1.3710764065555012, -2.1575689455138725, -1.0873543877234397, -0.8118434524500743, 3.6623040820383266, -0.9185693711749358, 1.112855651581103, 0.7191264323048602, 2.3940554871409945, 0.7847038107970841, 2.079259208240021, -1.231702828565126, 0.08764602753523879, 1.4351732755007502, 0.11982963458463261, 0.9197828643238708, 2.372014372311616, 1.4698232034499272, 0.17328719202556814, 1.602965589685034, 1.7618349862137392, -0.26286903312502724, -0.5814155371657362, -0.5245284187143453, 0.3731788212976034, 0.417743927486082, 1.030599285345232, 3.205234164354546, 1.9902317814253887, 1.92747012906485, 1.3251363303775905, -0.41262050564785124, 0.009305687521320511, -1.0353607323696807, 0.3624037639189794, -0.4610158715720302, 0.8196202188125615, -0.5954870223327163, 3.248291219022607, 0.7540811124504343, 3.248291219022607, 3.248291219022607, 1.5703312096707533, -0.14880210095183746, 0.12663474820001602, -0.9911123248901145, 0.36485470380195717, 0.09430504500779657, -1.4285594948936042, -0.7452555008571842, 0.8049518266487645, 0.3542432118313179, -0.3631108770501613, -0.2779904116881683, -0.948657099796283, -0.06505098848408826, -1.7643012836512768, -0.45092693568950926, -2.1253378140639745, 0.08267926446602947, -2.9014637268044954, 0.23873575179848597, -2.9960636417245343, -0.033758430383787355, -1.2855121771440314, -0.2765371758140071, -2.173874565363991, -0.5580846660040983, -1.699186901241057, -1.5231082035544343, -1.499240274007131, -1.9410971800223642, -0.23215013449615216, -2.25997006298684, -2.570361943687755, -0.7606472675073215, 2.612740648758317, 1.5925347887255819, 2.384899820242949, -1.7635288367605564, -1.4380825732084934, -1.5959747297034008, -0.7421455333800782, 2.392544485893053, -0.9869436933026319, 2.9389189353636764, 0.29670765882022465, 3.0663303232712353, -1.0198695126787063, 3.134828639714438, 1.4349092997020665, -2.4391161384805713, 0.19817361196419236, -1.2967870681618106, -0.019354275832585775, -1.94452613132895, 0.2750020220094602, -1.2436110350691916, 0.1406976550618073, -1.6458632959467658, 0.2948112760114192, -1.1248055472208345, -0.9378420254691432, 0.3071757304309137, -0.12393187718478718, -0.09360446775125322, 0.49101452602719914, -0.667851746301714, -0.42668663676783913, 2.136198790947956, -2.3008711945247726, -0.07451979646259357, -1.8111488474491158, -0.09966860790594423, -1.1907970787948214, 0.3810554508509005, -1.4485448556169402, 0.28476387640570877, -1.0255567501539475, 3.5477606600641463, -1.271957219912957, 2.407679240802624, -1.2485127784880383, 2.87124566636363, 1.661901821434922, 3.1198447388228625, -1.3681396067952678, 4.747798847575286, -0.10725246290817642, 2.946870235517645, -1.8561622393353496, 2.93450851902348, -1.4923385086708172, 3.1830658867846426, -1.6786090171796961, -0.3743211285975505, -1.8789654248987504, 3.5006811210557207, 0.317744381916749, 3.3597541079291036, -1.6884476094776442, -1.074468640915622, 0.14787669520266788, 3.7259924617838367, -0.9211797694857625, 2.6369799622216634, 0.2650439958730215, -1.1634892310408278, -0.45230947577616726, -1.1995776725653953, 3.4843171209857022, -0.7186480366319897, 0.3356139950196521, 0.3143128613136884, 0.062339387433562994, -3.0837354129423793, -0.5640796052572069, -3.1919066540796046, 0.9233224714852344, -0.2849714439632179, -0.5348907930674667, -2.942731843303511, -1.6285905704521344, -1.501320704484568, -2.7893798353078028, -0.7442635559625006, 0.40078343889636703, -0.3029217193522382, -0.7545164852213732, -1.3185051922932267, -0.5170925187405517, -0.27932190606706747, -0.653233818578511, 0.1148823524284095, -0.14410225134483143, -0.9978997960785247, -0.3527868345226056, -0.8076459646857143, -2.0745506003907788, -0.7554892479917235, 0.717201129578617, -0.030033942773337482, -2.020088268520541, -0.8055986222324224, 1.4517343258793507, 0.6526679488386193, 0.058634071814179886, 3.3149617942313943, 0.9653616604542161, 6.139981601351513, -2.693274465475994, 2.033495174301802, -1.3286307381713147, -2.043169092914952, -1.586284435897205, -1.4090739975286304, -1.1594142522942446, 1.0333350530259353, 0.1155686345377818, 0.8169524147852304, 0.19124200889873297, -1.4275245787645334, -0.39886019111612214, -1.9850755695416995, -0.10559144606329961, -0.9239229697106814, -0.23242327485594322, -0.19929313111391175, 0.32943226697447775, -1.4665859530462795, -0.04518513362883854, 0.044753153476251396, -0.9665442196406068, -0.07676857331990433, -1.443093322721327, -0.3078790839810705, -0.7366800152305196, -0.29683430355901846, -1.0199857740588016, 0.2409979816425657, -1.556574299654791, 1.0372104305405125, -1.0386139552050198, -0.2744020964394345, -0.7133586501811654, -0.88114975823141, -0.5804397026477138, 0.2004042910900538, 1.3996270353309839, -0.2471774007894683, 0.18249243182092054, -0.7703719952402023, 2.0809333825982943, 0.18249243182092054, 0.3409402246826219, 1.7544897406823206, 3.7167986811845037, 6.235470923773312, 2.2964747283159075, 1.599599537074389, 4.064571865693097, 4.186125570962363, 3.2106221995685114, 3.3676894835888405, 5.603953785450012, 2.3378152733750595, 4.294748057976113, -0.07897641996932246, 3.947736942596342, 4.200583641686966, 2.003210942356664, 2.9443677999908484, 3.824411877169004, 4.096830341083534, 4.009737185822868, 3.870869754933407, 2.498382443781567, 4.299402819131421, 2.7132503810574344, 1.8683440425757223, 2.816747187732226, 1.9689563529311158, -0.012936000559493998, 0.4954509579865526, -1.1826885813967278, 3.2031426582157416, -1.7511159130491425, 4.340687039667542, 0.2707902812617519, 0.21783117874537822, -0.0534650101162068, 1.0366433271863007, 0.30382603447272893, 1.9038261497599858, -0.6521655183945064, -0.036683814833019024, 0.3017580836530289, 0.31383581699210605, 0.4657068767621445, 0.7645816992756103, 0.2648444112957467, -0.9555652712553768, 0.5725184322649476, -0.16262575387141012, 0.19289683639529204, 1.9173353783695932, -0.4409983894223711, -0.5094662720211957, 0.030915119467082457, -0.6228807977519266, -0.6672198119316197, 0.030915119467082457, -0.3153292056828834, 0.7062197154403246, 0.33428597428327744, 0.9270585706667474, -0.21101722137813858, -0.37475445663029294, -1.1722833402448198, -2.2664076184652986, -1.21104136850358, -0.6167212203695623, -0.05825491255085082, 0.2608534190761714, -0.1552645911864235, 0.005170253110412681, 0.40049213146733303, -0.06646697763751533, 1.868668558603038, -0.1452592750246756, -1.1144755867121459, 0.3989620199824528, -0.7913622425599484, -1.0721218269424173, -0.10363550417285276, -1.0608195220235477, -1.4842154349587091, -0.9551933176402218, -0.20226321539983275, 0.9087850864898515, -0.1389242473280153, 0.10297374942829338, 0.15361893285853423, -0.3677052258752751, -0.5524547919198007, -0.06134255844204926, -0.695325308478489, -0.3247482312833483, -0.023865733432901416, 0.34662168072964267, -0.34574540748460025, -0.4777450604093163, -0.6303605738394081, 0.4535141741282103, -0.8676354547836447, 0.002763956132345016, 0.14016105983214994, -0.2834563948046819, -0.2739517128994956, -0.07919596320538322, 0.6604319773341499, 0.8334102805662708, 0.3296444044983543, -0.5180696541151858, 0.007664539643973357, 0.14373149671373153, 0.43634897208419854, 0.11253981732624155, 0.1284425006409961, -0.4390005762471739, 0.015049736447370341, 0.8462782218918494, -0.25824706066012953, 0.16329357651311494, -0.7115254445209854, -1.0267398136548138, -0.6317808715025284, -2.25147021908376, -0.38777803968590263, -1.1684375896463925, -1.2006220376306238, -1.4302897988640568, 0.10817756599213023, 1.8258852673395256, -0.673659935183812, -0.1360277275676166, -0.27934281140981376, 2.3876294700299705, -1.3049191422163993, -0.915174517273443, 0.6000436006045259, -0.09193494003288087, 0.4750097224350762, 0.044728155254911264, -0.006026472828812089, -0.831643463809274, -0.3181154163724225, -1.0328274030321023, -1.6973909209795017, -0.8709682582520533, -0.42874139795839816, 0.4602398338763563, 1.2110654645672931, 0.4573392958801684, 0.5032389085205232, 0.038256029565103676, 0.3336227929411395, -0.06169822664945129, -0.16872119367174873, 0.21275302629589785, -0.070607924809187, -0.34788064568909827, -2.2851328888934836, -1.8398301067100626, -0.8865413273318324, -1.0735965621981427, 0.5796120742936551, -0.5622264424100749, -1.6522191339453107, -0.547435110490308, -0.7165309147319687, -0.1297434247869575, 2.1107890886572998, -0.24233528774515362, 1.9883163176735292, 2.59174841789161, 3.3737023576468874, 0.13716170100446345, 3.7775703979125677, -0.44295781940734064, 1.9318183790288739, 0.4263511629299957, 1.4934544656952866, 1.1150385142726464, 1.7038672667565962, 1.5926082506076524, 1.3311230653730095, 0.3600946436109062, 0.1790715461659772, 0.4189976787771638, 0.554105876066121, 1.2101440870800657, 1.9701637825535485, 2.085999837885507, 2.6687948046912027, 2.1327845276611903, 1.2661650933615352, 3.9645735655702588, 4.25070362985792, 3.2700492566066655, 2.7658871681111634, -0.3103610602342994, 1.167183984458534, 1.936578002680813, 0.25482798029534, 1.0884413129389483, 0.9401633748139157, 4.999431634463598, 1.7450118031729975, -1.1149326754708324, 0.4485408380246326, -0.9255591515682166, 0.914959492720118, -1.1234355794749122, 3.2250201933121008, 1.1689189044627732, 1.643496553235301, 1.4675954636986648, -1.9120497486331507, 0.9285777169653932, -0.16434077688226484, 0.08764602753523879, 0.17517716650355136, 1.0215101382739968, 1.4351732755007502, -0.49428280722166484, -0.22936113163685884, -0.1468161465113062, -0.533405984383568, -0.977892410450261, -0.05536225973015462, 0.5490654848084475, -0.567685044896151, 4.226211205576255, -0.0857779085006982, -0.8183523701895656, -0.5084629983144417, 1.159316825546609, 0.20550019316399068, -0.8605544820517355, 2.9453834369893435, -1.1767969996738965, -1.7618879999921488, 1.1151039196480952, 1.4081452814244138, 1.536262424980462, -0.8026131557254124, -0.9946782041009985, 0.5233142245019176, 2.4456556686012005, -0.9001106603104568, -0.5263769148278544, 0.5270452898748246, -0.050823227698514675, -0.7062679266105842, -0.22077926863302882, 2.2806389653786496, 0.9860967424681937, 0.005401207470081407, 2.4676051607075147, 3.4578631693151776, -0.40960608716931307, 0.09867663066021042, 3.011000801975362, -0.40424372518427815, 3.028099137106473, -1.02056689432386, 0.8377060713486548, 0.37788620413948243, -0.2618635560151341, -0.3680335054466045, 1.259538442058215, -1.1179258144258066, 0.29175467266608235, -0.35241586910959044, 2.5106622507758347, -2.758564390909091, -0.7776545385441828, -0.9424723115085248, -1.253855250638813, 1.1101373464147313, 0.366449113890178, -1.7125366736746586, -1.2912880188106224, -1.6236165389745851, 5.068272148431966, -1.0785169703104396, 0.6097231079693355, -2.1200573759984307, -0.17191127391578245, -1.3912725829822241, 1.1163148543961958, 2.403319169562714, -2.7485931476118997, 0.43453916552865235, 0.9681042952625462, 0.6357299318960729, -0.9180068119543405, 0.4364820658297647, -1.2161698663427845, -0.3131692373367092, -1.5241345162906106, -2.0350889637825698, -1.532120981279417, -0.5894834307850951, -1.0841746054548511, -1.8096444135841707, 0.8011020292768558, -1.3530909974018328, -0.8256422545572875, -1.9799261151948644, -1.847539499504884, -1.8865917976957556, -0.6919650769821117, -1.5981557548001184, -1.2409965772964797, 1.7268709968640221, 1.3242180113558504, -0.897944069813459, -3.7415460605414825, -0.44947507241267703, -1.2174112394267482, -0.13016972002511876, 7.05647303104726, -0.21495227280077112, -1.919316489270173, -0.24398456890734949, -0.7750642747290376, 0.8953584284747927, -2.181644543702919, 0.3288720134946386, -1.7871164130238701, -0.6273759215041972, -2.293879367436763, -0.09772045668732143, -1.8554601063325145, -0.6129642654353479, -2.7371535641369493, 1.8081462346276893, 1.575813626690259, -0.508299896402975, -2.073359604934119, 0.04296062873030913, -1.9808792096176262, -0.4548933928378713, -1.0467140212918788, 0.3316204139025951, -1.9800725602013216, 0.12983942152943143, -0.8256838735820893, -0.369473252805157, -2.779803945225102, -0.6800285035408015, -2.4499833912355835, -1.0110191534762243, -0.660350484904398, 0.06390908499646121, -1.309953274358017, 0.7655534206857181, -1.0918127470211947, 0.6654393745325724, -2.074045146707651, -0.45952815099040384, -1.5714176072535013, 0.011422150294680565, -1.2090219441858185, -0.6213715029971569, -1.5517600124349373, -0.11621329925474698, -1.994684884965576, -0.8130056870611253, 0.4741303051859456, 0.5705965829113464, -1.906639123908276, -0.24424228860490654, -2.3781485541245937, -1.0812113450648364, -2.257153210057369, -1.444852020133192, -0.14189185816219232, -1.8658259036543, 4.404055529630478, -2.953053744435564, 1.1805145676394815, 4.7662864797845845, -1.8952311603703045, 2.7177199633071116, -2.4086202889376698, -1.6984492029760336, 0.18907127623798944, -2.7809267127123336, 1.5619858983871904, -2.697270497809787, -1.6789466579387722, 0.05643407457300039, -0.8572919419177436, 0.17966025250969253, -1.2290939282967388, -0.9081307025695627, -2.601764789298791, -0.21773271261007943, -1.5302025147117195, -1.4788117351202181, -1.3187880995107708, -1.98988863431166, -0.5331762611643073, -3.2404722775116244, -0.12152288347139792, -2.590887882169311, -0.21797116962996932, -0.6094188943783371, 0.3103776546962441, 1.3990672680392255, -0.27519977012382585, -0.01447513129421888, 0.44209342509732014, -1.5572369167979676, -0.08450799097957763, 0.6646533976580417, -1.402902632703016, -2.1856610990878518, 0.8732844898275497, 0.12710517148321118, -1.0851391495440899, -1.3417428564881497, -1.6928160012856464, -1.4802851268975656, -2.690041560329341, -0.47318459434840643, -1.844135301823735, -0.6001928084576693, -2.153077318968082, -0.08048269067653885, 0.793184013590734, -0.5429640350801562, -2.434521538206572, -0.44704861479961766, 0.3400409040726934, -0.031205112906867387, -1.7408813580802114, -0.31079257605169974, -0.7401567595016325, -0.4410859480035531, -1.2261219205440785, -0.21899107639045368, -1.552752202955265, -0.6317447701158357, -0.036683814833019024, 0.3017580836530289, 0.31383581699210605, 0.4657068767621445, 0.7645816992756103, 0.2648444112957467, -0.9555652712553768, 0.5725184322649476, -0.16262575387141012, 0.19289683639529204, 1.9173353783695932, -0.4409983894223711, -0.5094662720211957, 0.030915119467082457, -0.6228807977519266, -0.6672198119316197, 0.030915119467082457, -0.3153292056828834, 0.7062197154403246, 0.33428597428327744, 0.9270585706667474, -0.21101722137813858, -0.37475445663029294, -1.1722833402448198, -2.2664076184652986, -1.21104136850358, -0.6167212203695623, -0.05825491255085082, 0.2608534190761714, -0.1552645911864235, 2.3906027619706807, -0.30046371974958663, 0.7462946799507019, 0.7462946799507019, 3.5456454646508515, 0.691394432894907, 0.3091735321549256, -0.15780013383068398, -0.2858048308939584, -0.06576541107613976, -1.155486789132711, 0.23357654912371525, -0.21101722137813858, -0.37475445663029294, -1.1722833402448198, -2.2664076184652986, -1.21104136850358, -0.6167212203695623, -0.05825491255085082, -1.1618380293926391, 0.6536988135426735, -0.4558010355427195, 0.7190199988056075, -0.5068004559740059, -0.5994918444650069, -0.6864001272073526, 1.7249680569740897, 0.9249592452476172, -0.6626227707180484, 0.25562055699726305, 0.47866911117607625, -1.1855841328539578, -0.7408239040427022, 0.685398580713449, 0.9249592452476172, -0.6626227707180484, 0.25562055699726305, -0.4530920274734301, -1.1368916014055097, -0.09729182875235673, -0.399144518319702, 0.20563504618949532, -0.48348918462359985, -1.0325112007398116, 0.6380126708770351, -0.8714924112963748, 0.05787951628791748, 0.6380126708770351, -0.8714924112963748, -1.6463945494024277, -0.23359442295725572, -1.8357698291892321, 1.2555810010272759, -0.4810421167753037, -0.0678936700810166, 0.19523962326477393, -0.643824548393836, -0.7327510873041314, -0.6472405250577081, -1.7394744717769972, -1.6463945494024277, -0.9956517873539085, -0.5144440596315251, -0.5015554669073314, 1.437944570028127, -0.8087942086408372, -0.23359442295725572, -1.8357698291892321, -0.4483311286355745, -1.0065742454223556, 0.43611976997414326, -0.7952889305257858, 0.2556558934066288, -0.40612083689075185, 0.8543351579555509, 0.02447404407863721, 0.9689719590504808, 1.3347004881920965, 0.2923950602670566, 0.5637425907634616, 2.3347892068342406, 0.6193915254340541, 1.0816831006508116, 0.5796790050158662, 0.8559287856787134, -1.074446322339344, -1.6068346465396708, -1.1547928242069585, -0.7840173431245335, 1.7365248438836096, 0.323833959409153, 0.30693960601855524, -0.37471482559288644, -1.092844359702647, -1.2813958302849882, -0.925906186227379, -0.25406882949676385, -0.037073327751211575, -1.2067543755840917, 0.24536639243448718, -0.7380308787080966, -0.6163704876542901, -1.3514528059410889, 0.10031168699684112, -0.6571726485617198, -0.8330087817761782, -0.2506118115951629, -0.8448690847534337, 0.08831643302739721, -1.2157724052294374, -1.220314910268839, 1.4844470354767907, 1.1975795435817655, -0.002487934385666235, 2.4394556351063605, -0.4162396514069212, 0.868302010322997, 0.2499834256847733, 0.2522202291583888, -0.7063416579254342, -1.146443780645858, 0.12543486814815843, -1.2325116297284469, -0.3613971646427323, 0.13145422772443482, -0.6817919481005968, 0.25020970075523463, -0.41642968985880047, 1.767877750643947, -1.183766430196067, -0.34917786808374673, 0.4812081702873564, 0.10512712493776155, -0.33510417654789176, -1.1923063059362207, -0.8106041796366635, -1.452844343757789, -0.5045427937886747, -0.669970610439278, 2.7537977696439455, -0.5057296741611378, 1.586952878373705, -0.8707041266724238, 0.23528380306508206, -0.333510093766127, -1.0011094002843506, -0.333510093766127, -1.5211244310145826, 0.6638170750158294, -0.6586989425249785, 1.350601300673325, -0.21659033651916704, -0.6571758963091516, 1.3155386086241274, -0.08010179411174313, -0.11545518717767587, 0.583354560283197, 3.90240904018186, -0.07816028019584827, 1.8635398524434754, 0.12097571742702798, 1.015548373908521, -0.12173924545687131, 0.48031486741435164, 0.589873027858801, 0.8729174681790141, 0.16889139149819038, 0.16889139149819038, 0.22723472559092714, 0.8608875425643087, -0.5031110890352789, 0.626146097743682, -0.01638324456566392, 1.8251081964038043, -0.46199076697665425, 0.7691654005727475, 0.7586414225230123, 0.09649122945537648, 0.4951352816540919, -0.9519120959760241, -1.0998523373939957, -1.314887368947634, 2.572816026808676, 0.9831945706877974, 0.19108380723283735, 2.4057701659815294, 1.6093564201984651, 1.6937755132158272, 0.2330161244957581, 1.2566649256925062, 0.8169381864971575, 1.8377786353339711, 0.627093759726668, 0.731902598208441, 1.9038753178614178, -0.3612260354485008, -0.24918438998188916, 1.7801164440256674, 0.9527893602364357, -0.7772786045431757, 4.470243229786719, 0.904797103213613, 1.3950411639916132, -0.3382214167801029, 0.5673444793544257, 0.4856228607960431, 0.6893333979876186, 1.380743649706673, 0.21979064746022198, 6.848825365632216, 1.719941497889971, 2.728452153889673, 0.061619307132093966, -0.6031674209228076, 2.6397730780405317, 3.3457430150583836, 3.6300198900099194, 1.4750118440151032, 0.9985008017523752, -1.1149326754708324, 1.5526509638901842, 1.019637438122408, 4.632666259930426, 3.1074510494015426, 1.7614511202495364, 2.5126126750115483, 1.0415474720479712, -0.9684166193786633, -0.5374668235289861, 4.023004478378873, 1.0227552798064834, 0.965480855351442, 5.643365084992444, 3.055804459513138, 3.810265175319663, -1.5857281929741507, 2.557307713844248, 1.9951246866858923, -0.3283651066539812, 3.035874987390129, 2.381519686906089, -1.1287143975997977, -0.999546458230313, 4.511106914067917, -2.0959138439115925, 5.7974477606593355, -0.7973619045023053, -2.462452558387475, -0.29183868152400444, -2.6065497993921065, -1.007381994764751, 0.09931668341399087, -0.25954036570246175, -3.3585442122850986, -1.1701845588854891, -1.2919965743355741, -0.07287192642127838, -0.2725800500429203, -0.5214038760226971, -0.7091790582810286, 1.553555651142314, -0.7418926878306861, -2.144666584414265, -1.0016459697890616, -2.366669553865146, -0.8099065316037454, -1.2389716714655143, 0.9631769145010132, -2.386207030148499, -0.8583440464246392, 2.1168199960454706, -0.08085332132664469, 0.8582692532583417, -0.6899049225523983, -1.934069973366916, 0.174190777156822, -2.7400808932300134, -0.4453066443897579, 0.07560624854511619, -0.663506710654556, 1.1974615252449248, -1.3304384968159761, 1.9039529816024465, -1.7343787745967525, 0.0528735780849543, -2.122275726470306, -1.007051954985149, 0.22610241288323862, -1.4239142343280147, 0.3709046641635732, -2.874201939355565, 0.0006401320648403063, -1.2076331182085753, 0.3135597578576767, -1.4317862161348873, 0.19045911275894242, -1.996201335443269, -2.191344225951827, -0.8761929402570054, -0.8792587970912117, -1.0470034065337586, -2.866109596178031, -1.1123522381113284, -0.5219098529003178, -0.3464208464777896, -1.6131574548298986, -0.7816739988500834, -2.875811075572287, -0.9145792051251924, 0.05959292829381955, -2.643426452342835, -0.5875767646212426, -2.122700529541454, -1.603845516341684, 1.5980634964128295, -0.7559548897959962, -0.5644037916978775, 0.03371779876316604, -1.2577849070526705, 1.2355075082952176, -0.9880223152676604, -0.2842550661530189, -1.5690747395261113, 0.5729883282276671, -3.0012737769732856, 0.29093619008974153, -1.703544258286795, 0.4180964445092155, -2.072589631258259, 0.1262770226372348, -0.7591184667544246, -0.8744419919035332, -1.8747223230581032, -2.620000935220372, -2.816145022961643, 3.2462316295644067, -0.7433782655213367, -1.6198033264824598, -1.7714910794260625, -0.33307014193930873, 0.37690743436996044, 0.8776084440160716, -1.393859501867358, -0.828209901668971, -2.2022085666900564, -0.21589027397540628, 0.6424567093610906, -0.18486376167462615, -1.621538977105794, -0.28190706492971224, -2.856913238794313, 0.27736492225924203, 0.9965289519136186, 2.4570023590328876, -1.9290955092170075, 0.5102562727129767, -0.7702275998772445, -1.2088914051119215, 3.0680295930159955, 2.9058268434733945, -1.5320449488502523, 4.359451342936816, -2.1113316861819746, 2.173320477159511, -0.13294004385897987, 3.0963422828144385, 1.4743066764441588, 5.196757010765932, -0.27653300222418203, -1.7835930308016135, 0.007295186134197531, -3.1284976692382425, 0.6758431934009282, 0.6924398522336651, -1.9204956950385783, 0.685398580713449, 0.9249592452476172, -0.6626227707180484, 0.25562055699726305, -0.4530920274734301, -1.1368916014055097, -0.09729182875235673, -0.399144518319702, 0.20563504618949532, -0.48348918462359985, -1.0325112007398116, 0.6380126708770351, -0.8714924112963748, 0.05787951628791748, 0.6380126708770351, -0.8714924112963748, -1.6463945494024277, -0.23359442295725572, -1.8357698291892321, 1.2555810010272759, -0.4810421167753037, -0.0678936700810166, 0.19523962326477393, -0.643824548393836, -0.7327510873041314, -0.6472405250577081, -1.7394744717769972, -1.6463945494024277, -0.9956517873539085, -0.5144440596315251, -0.5015554669073314, 1.437944570028127, -0.8087942086408372, -0.23359442295725572, -1.8357698291892321, -0.4483311286355745, -1.0065742454223556, 0.43611976997414326, -0.7952889305257858, 0.2556558934066288, -0.40612083689075185, 0.2709773119132776, -0.37123891748533727, 0.05981645608315886, 1.1007268558008132, 0.6956846562804192, 1.7437278560694316, -0.7618107011557848, 0.9513705315867045, 3.663176874732593, 1.1521283825948263, 0.21540106389496805, -0.2453875436369583, -1.9848721750423446, 0.4509995847103293, -0.8332056446774271, 0.963781380185673, -0.37773512294771067, -1.9101961793706945, 0.5979238536044142, -0.6621570821724639, 0.485807721238544, -1.6802771445533613, -0.533097157008551, 1.7007258844164188, -0.20754287803002963, 0.4460200851725274, 0.524842842719253, 0.18863020912326423, -1.0234201411855353, 1.0424022259359889, 0.609702037489078, -1.4316768314836086, -1.547983263150414, -0.6212449084413009, 0.17249810866222387, -0.4591608012628054, 0.003440704360211693, -1.7134140832681726, -0.43021394701253646, 0.5120154387638776, -0.4585974928456383, -0.40305014902899394, 0.4524551811584478, -0.9365582957376815, -0.5295873842039331, 0.10817124129616357, 0.5392524912220844, 0.14422594438521127, -0.5620309937850912, -0.6589531286468548, -0.09381490368112393, -0.25961522882304505, -1.0609317830987202, 0.22058734189362286, 0.26047929146823584, -0.8828974389054355, -0.6749962469082831, -1.0646245225866862, 0.6315826009992538, -1.21926439590604, -0.8291127036139079, -0.649307354940576, -0.691372348631703, 0.20018240545463759, -0.8875766074864908, 3.254641410485411, 4.045327445727725, 2.072504131130433, 3.254641410485411, 2.447323495638171, 1.5676970415762868, 3.254641410485411, 2.469564044613256, 1.8516772585985308, 2.347102718278245, -0.4839414654616312, -0.9021686595769839, -0.4455656040451525, -0.25090711564398077, -0.5728481795341532, 0.12254225594365666, 0.06995856506855094, -1.0356660676274696, -1.428606614418328, 0.05608016313438526, 0.06069726518201443, 0.6274733314019298, 0.36430519208443424, -0.3195864703880728, -0.3022808812326123, 1.5482741940439855, -0.3191243191174096, 0.0044068560248452515, 1.400277220102186, -0.750399955228838, -1.0767591454684482, -1.0746860245429688, 1.6377386784757677, -0.4588186023608121, -0.6238373295814654, -0.4059893897383755, -0.8722854367282479, -0.4903356931254834, 2.659000851595141, -1.008600195230738, 0.36543267360532034, 3.000778520505468, 3.135375613846219, 2.4336197884852764, 1.5773090315184357, 3.0876370551678556, 4.205435492412437, 1.4812544558165939, 3.1400170661936593, 1.3391748616906007, 0.929714285487555, 5.74222114937152, 5.231827213951297, 3.1370296210052917, 1.0758299612021787, 3.8528427269671797, 0.31814307732378644, 3.108966271253232, 1.1613002975625748, 1.9065780544351978, 5.328802749841141, 3.808258642919773, 3.636291637436294, -0.1564200139912137, 3.9213812321125245, 2.357283393720419, 3.8881514707726232, 1.8594029423412874, 3.15683555657067, 2.8397555926379945, 1.3022029618208606, 4.075733701217267, 2.715667068073305, 3.106612096463102, 2.0367244508863567, 4.619138843465415, 2.274243997411614, 3.301303652715627, -1.0069842443986454, 3.1232561152233296, 4.396178863522211, -0.3362785352118371, -1.1334678251779124, 3.0617931068485196, 2.891013078892364, 2.2246340953341, 1.166230016167477, 1.3376878674119443, 2.6563147097038016, 3.5047676309615965, 0.8965480057206773, 3.9157488601194084, 1.3663823991641304, 2.9737253193147604, -0.5484852749343803, 2.247749582052734, 0.5015331130544114, 0.6193915254340541, 1.0816831006508116, 0.5796790050158662, 0.8543351579555509, 0.2923950602670566, 0.02447404407863721, 0.9689719590504808, 1.3347004881920965, 0.8559287856787134, 2.3347892068342406, 0.5637425907634616, -0.7777286819398179, -1.7879520410253817, -0.17734588335861837, -1.1973862544333795, 0.23638199732273665, 0.009076844961475507, 0.5778338278429214, 0.06596992467834419, 2.050037420569817, -0.08683240987294595, 0.1816562486332717, -0.9872523459325365, -0.2844933347966675, 0.9394729846121317, 0.4020369469908345, -0.7918420041359906, -0.02900269456061197, -0.16305111797204122, 0.05388133373426805, -1.0946145155361562, -0.6514290258077546, -0.11199051586738773, -0.23714975247684664, -0.6673223634628295, 0.7931060499868647, -0.7041666554093593, -1.4207261249182177, -0.31121794947806913, -0.6413601615987803, -2.2777577846379966, 0.7179498566618835, -0.11177359948456604, 0.6556246387270683, -0.2284023974422881, -1.7238725673802944, 1.92747012906485, 2.399724730361621, 0.674641640243087, 0.609087676832754, 0.6494333940044872, 2.196091907040212, 1.112855651581103, 0.29175467266608235, 3.2250201933121008, 0.15270812703737235, 2.298311417280089, 2.0582731349661922, 1.602965589685034, 1.1689189044627732, 2.372014372311616, 1.1347886917224215, 0.3031097861419207, 3.8317779585465543, 3.6623040820383266, 0.5080077457064816, 2.079259208240021, 0.4279072121082377, 0.24547745178236918, 1.6720747056345968, 0.33228906378409295, -1.4203641659066042, -1.7614659752689128, -1.3568101073138485, -1.7614659752689128, -1.3568101073138485, -1.3317743211730917, 2.026740928036645, 3.0556791196420585, 1.1642756530804048, 0.04145876610943945, -0.6002067905664075, 0.20693945462854613, -0.27229351929248463, -0.9642910268461529, -0.4229875913230775, 1.9038261497599858, 2.0028027207306995, 3.1697600078226533, 3.0556791196420585, -0.4956462384067632, -0.6337980640451214, -1.1140659915670592, 3.710067640154537, 4.84309811331335, 1.0459139305717597, 1.8591121910503086, 1.1131931948766023, 5.373401871779814, 8.662035799560178, 0.8794416754792578, -0.033329004025162215, 2.5722105214501982, -0.23474819131431554, -0.36317738296293306, 3.0129341267550283, -1.0144489763625528, -0.005650356227238946, -1.9933407533768182, -0.3326126618661204, -1.7857050676562354, -1.2134299813788623, -2.0656110374278835, -0.7869739139584443, -2.81829944067318, 0.12744252150720928, -1.8531423749148672, 0.691758256855847, -4.525211293187699, 0.3175014446007134, -2.211654700866321, 0.32542777320408833, -0.7403118109911633, 0.21267786205559308, -2.9079617426785322, 0.06309870729702902, -0.22282745287309655, -0.32766114969326443, -2.7495742125147196, -0.13994719149199414, -1.0019566868563285, -1.898906830260613, 0.005161784869465565, -1.2423079548298797, -0.3593481608490117, -0.9651908595232168, -1.2569709640367712, -1.4903011240009907, -0.9431204377198392, -2.098954504283645, -0.29854389185791047, -0.37666450961706066, -0.7882588457639448, -2.3815863913872555, 0.4883194735478907, -1.1021568152089247, 0.0055823962964961175, 2.401259419508517, -0.14007363219062133, -2.165711904469687, -0.8654183312416664, 3.1297200955858107, -0.8162647496972975, 0.3354253329042791, 1.0210243519949678, -1.497218973621119, -0.4921251991392881, -1.8104922236552603, 0.04905030297431151, -2.157019373695833, -0.3267803108304782, -2.572350864604898, -0.7753636625797979, -0.5712580587119933, -0.4102997318588036, -0.4613487022757481, 5.75920293912301, -0.0036839873305103, 5.360598907345822, -2.574987512163776, 4.17425017688257, 2.1292053640243624, 2.984049945491989, -1.795143052911615, 2.6239922864334746, -2.3117307887514422, 2.8823526792796565, 1.7189877487387344, -0.8488331463735371, -0.1290667267653851, 2.341240427673943, 0.616034959291228, -2.3843255089872177, 0.6578901937264044, -1.3436470709646877, 0.44550805630824936, -0.9153918149558458, -1.0358235110140566, -0.9944027771218373, 2.3278135881303017, 0.5028412413336909, -3.0179949721961155, -2.615254996829987, 0.5511748110496403, -0.7244576410902754, -0.3370414571963177, 0.35316276310809913, -0.6159276854761423, 2.284724629120651, -0.17175515107170755, 2.1546339492071547, -2.1257567024336756, -0.9195372074669662, -1.6333531611131744, 0.7891464482217974, 2.4068120469276164, -1.2459352037191869, -2.289072751418474, 0.5450664331844677, 2.679482237232319, 0.9390947324266877, -1.4814879724251824, -2.0569620372011244, -2.771568938849918, -1.2319382988869763, 1.5379524195222387, -1.7824295766873295, 0.8364034318525109, 1.6173512999011865, -1.0840367493720444, -1.161059061521745, -0.9807952664190549, 1.030740547734734, -0.6397364965915487, -0.5252543779936663, -2.176989216865496, -0.6525985596152848, -1.7509392392975272, 1.2864652908596055, -1.2973314298932768, -0.9208070360186316, -2.2780159969649723, -0.017345250226345144, 1.8303383413736214, 0.3742976263444644, -1.6648494794612814, 0.8252607286599514, -0.8509862085613131, 1.3665464442889887, -1.539100952037888, 0.8183236199357438, -2.5878830471714904, -0.05264847597777869, -1.8468653759830143, 0.37199444503222195, -1.1484157517620919, 1.586703010852435, 0.4647793936732125, 2.028688047395722, -2.1253790633415615, 1.230691208891222, -2.1474226714653453, -0.7703291957695199, 0.467947104447784, -2.128560824194147, -1.1512368087313498, -1.166164047360656, -0.8337745427512895, 0.6666324526805779, -1.592343420892804, 4.673385315142741, -2.145424363805133, 0.14254886070076342, 2.9116061173560293, -2.0704673940023848, -1.4026435283071945, 1.9663734366976882, -2.1822171798812393, -0.29700763939631286, -2.315442997162536, -0.521720212751576, 1.0857118709108018, -1.398587676541227, -0.4309612452027864, -1.16260286287263, 4.721752558541294, -0.11688656333083129, -1.949628191150583, 0.23061234635826733, -0.39935505760628814, -1.0065742454223556, 0.43611976997414326, -0.7952889305257858, 0.2556558934066288, 0.7871181215361127, -0.658867637784411, -0.6601938018182063, -0.7834923818915124, -0.4369119472041195, -0.6212449084413009, 0.17249810866222387, -0.4591608012628054, 0.003440704360211693, -1.7134140832681726, -0.43021394701253646, 0.5120154387638776, 0.7871181215361127, -0.658867637784411, -0.6601938018182063, -0.7834923818915124, -0.4369119472041195, -0.43021394701253646, 0.5120154387638776, -0.6120837246010978, -0.49886249752144673, 0.6444967452862049, -0.16652098781170432, -1.0714929359197942, -1.009034749029214, 1.0294550995270964, 1.8804713794668868, 0.36122056241651523, -0.705717902226341, 0.9166666627615646, -1.1641924391100185, 0.36122056241651523, -0.2773130594240757, 0.5066945971308027, 1.285492342484921, -1.2570371509388776, -1.4017977705235203, -0.7155723492035071, -1.2388323478359924, 0.5479647016418148, 0.3331348050864841, -0.5331332854364504, -0.730869565395982, -1.869684583968675, -1.009034749029214, 1.0294550995270964, 1.8804713794668868, 0.2353944572165072, -0.34007271894580593, 0.9949204715099659, -0.4557321563204071, 0.06743654000332705, -0.34007271894580593, 0.9949204715099659, -0.9525887149331984, 0.9533080097551395, 2.9325584932534636, 0.6589950955787838, -1.326956130473461, 0.47087960853130767, 0.6952914048761525, -1.727813469350189, -1.808394521923122, 0.26173944682367556, -1.9101961793706945, -1.3265329728802353, -1.723399712760948, -1.21104136850358, 1.17620288313069, -1.035146088922918, 0.44000799625024867, -0.46751100084729036, 2.5437118577526108, 1.5921687535463904, 1.0932486135273167, -1.0345306453517533, 0.00033593917783041277, -1.0565198135720608, -2.007172952191171, -0.2379239243223052, -0.7952889305257858, -1.6498701907892512, 0.1395279033763316, -1.8357698291892321, -0.9929164884881453, -0.5910688593672297, 0.8323350963528395, -1.5704970265532816, 0.4195222036520003, -1.025468403793034, -0.933408880078599, 0.08525871401740434, -0.9285045568388114, 2.125295527703002, 1.5059656394726746, -0.42310508910270167, 0.4835046237254172, -0.9244845459591048, -0.9997371618168727, 0.6903846608927253, -0.1653357693615018, -0.05892780139770835, -0.2458841668931856, -0.895639745605533, 2.358561782187742, 1.1520067342325766, 0.1279974363118328, 0.2680124405242939, -0.290852897707257, 0.0314089408050549, -0.17767693242324797, -0.4074201286429997, 2.1845552122248035, -0.15914508055036902, 2.1232900638868037, -1.50283205105642, 0.02765368113464368, 0.16395067990343082, -0.7936689574290188, 0.022591159330293778, -1.0978679113201255, -0.4699820663130219, -0.6513649774818363, 0.1686879575604797, -1.590184119791359, -0.48423246148651033, 0.4470217212545101, 0.0039392078018819915, -0.913838813829289, -1.4791865427221857, -1.614667211916525, -0.7602228786810257, -1.4641526573428076, 1.2033056216019882, 0.4704839398412994, 0.3781007704637826, 0.037975209826557936, 0.37978546193151497, -0.3798930128219799, -0.7166502323121837, -1.5706764144270664, 1.3391577702260058, -0.7373795322409054, 0.8175124016886357, 0.2552260358822996, -1.1844903099574484, -0.008178568786244188, 5.859497648375832, 6.339813126792858, 6.549205413935543, 5.022677539888844, 6.823547629655187, 5.354175792032868, 6.794227428391478, 5.995626011241323, 6.452963434968663, 5.880666735235154, 7.889328286341658, 5.2797774966990225, 6.569943338558785, 5.146359437708189, 5.308793746502784, 3.000227868493088, 7.225342483012425, 5.779889450667781, -0.3702709228503859, -0.4514003727524872, 0.649219523056764, 2.639476897709051, 0.7155147898480819, 3.116719219927706, 2.2639258934865882, -0.39440394660759814, 1.2898035378028816, 1.9092178255444168, 1.0956043815117509, 1.3070945622305188, 2.692565507754588, -0.24050351371282222, 3.1343275627895966, -1.2232250289932936, -1.5665631785022767, -1.7055008248253647, -1.1290204349525153, -1.819817996773816, -1.204511629714089, -0.6481294287404921, 1.3623700756105344, -0.4956762546970528, 0.7015793726033087, 0.05367188393983638, 0.6633898409335538, 0.4701395610811218, 2.2293652822216754, 1.3982946535665413, 0.4999262866579484, 1.0895528087122692, 0.2574466070347349, 1.3304129337713666, 1.3807405541648752, 4.563212617882135, 0.07861426926463383, -1.217445795362161, 0.1734054410684973, -0.49230017286645184, -0.29449974732218964, -0.0030295746783228434, 0.012144310700317925, 0.004014037931931074, 3.7961273969887595, -0.3269075947070722, -0.2984636785894772, -0.7264117895316425, 0.13894433516617508, -1.1376656200884003, -2.2280548076490465, 0.8099613522534621, -0.2871862201812754, 0.36715461082236367, -0.35100639927871097, -0.6839064018773807, -0.17241638773520482, -1.4851231545751695, -0.8065996526853614, -0.07392461990678506, -0.41015786364484585, -0.6645737456703154, -0.9139521508820785, -0.037455535431278573, -0.12929052925749854, -0.9647521851686087, -0.11157708222131157, -0.09827363489980966, -0.9780522998845971, -0.8054413209455931, 0.3750505284681241, -0.1471458631688226, 0.11384668180472765, -0.04055496360762153, -0.42451703569902016, -0.9370916774530231, -1.6845343777353239, 0.1066679543830503, -1.093455442938849, -0.9845989794519938, -0.25874207589996384, 0.026571823290029804, -0.2744521312471583, -0.5837691049693261, 0.06503031343144583, -0.266669804814733, -0.08962008680249949, -1.727698817704649, -1.6078087564641947, 0.9846493905961552, 0.9957532452949419, 0.29206917877163774, -0.9218141687130522, 0.268892185470593, -0.11823164674763328, -0.7096542391135944, 2.1440318029535, 1.686321987324085, 1.1291226792936273, 0.8463578993366335, -1.4600031332355434, 0.9433849504271233, -1.2796731034626962, 0.5112484602831708, -1.1301514790105969, -0.39651181270807456, -1.2545165528155147, -0.6205467004909315, 7.210391283770788, 0.07004120097458358, -2.17488093854706, 0.7327824712603936, -2.3953673026524425, -0.013976757156924239, -2.7919607665213464, -0.2134246428862332, -0.013543360300743122, 0.38346143745573447, -0.6094041888512484, 0.2984928743554625, -3.18208509081975, 0.1271341046502822, -2.783373395957673, -0.40028566037769125, -1.5627551193172833, 0.41306826768017074, -1.221707925351554, 0.33701755676331335, -1.6891349733671914, -1.385887652958738, -2.7025726655966285, 2.0627935895937757, 0.08686769276513975, -0.7239945340466217, -0.5331790113495963, -0.774846361057275, -1.1075646407496758, 0.7189149410012644, -1.910371173383059, -0.6515482397686683, 5.883195566787008, -1.3696092458217055, -0.8175582431296857, -0.279182944961206, 2.935101905741091, -0.5146610104574181, 0.12017975087953937, -1.9489522676394309, 0.8199030734600657, -0.9518113046045216, -2.7607751756313483, 0.4962815931848888, -1.8417415609826648, 0.5606310790024837, -1.4433525528116, 0.3036361497665866, -1.1395547550124117, 0.2798757088979946, 0.20650940433217585, 0.8942441316056934, 0.10986112153576362, -1.3330789491881943, 0.36649454208120114, -1.6541903186620432, 0.5178047849231353, -0.7865830776318328, 0.47970010503092986, 0.11495873374596438, -1.064706029115669, 0.38678505738691854, -0.6732213094455193, 1.163028512252619, -1.7674300235972251, 0.13724282778088007, 0.5524288811850154, 0.38670693334664985, -0.17121116034729975, -0.7179455840269577, -1.4592110850897126, 5.3191543441818565, -2.010093999865657, 0.8838225296349408, -0.3139658842505878, 1.0830991235761946, -0.8858645087657187, 0.42402502991991564, -3.3404520423146122, 0.44063227265331173, -0.1297428992339702, -1.4060338316355108, -0.641004331521512, -2.664648670050189, -0.10315949695709405, 3.2811747707233825, 0.03816930959670525, 0.6708973141427591, 0.6435209196717382, -0.4894641769225779, 0.21222292634312057, -1.3513374265065345, 0.5560127954663219, 0.9046777476707887, 0.5724518160055274, 2.1895788892832093, 0.09825558287227217, -1.5066246478147023, 0.07573901260332579, 0.9522923012656453, -0.38196972405680324, -1.7685771169941509, -0.8799649289783346, -2.874264131764881, -1.1548365791548771, -2.370998216585599, -1.4530012965872043, -0.45761748553676374, 7.1109861617424945, -2.1238120975267147, -3.076802307909659, 0.034991292053423675, -1.3757210405607025, -2.4376722239030455, 2.9198968606926163, -0.8656528901615147, 0.11034161436887235, -0.6556543607870758, 0.26125981956416916, -0.8098402187910513, 0.747409093502402, 1.1697665562945274, -0.1889892620218921, -0.865876141448675, -0.6387598425402815, -1.6867642446231381, -0.17305672350982873, -2.1582629361647108, -0.35217924106035037, -0.009096931623439367, -0.2262042164153092, -1.0184050068010497, 0.4097808008877481, -2.1379833771127736, -0.9948992201335243, -0.4906787025229122, -0.036053981594061466, -0.20872979232237054, 0.4585069555407898, -0.4707850418389147, -0.40484459350599233, -0.7285896955695905, 0.0426342019292628, -1.2185935421071856, 0.1241452147629327, -0.5135866006558196, -1.1548269859406715, -1.4879786367075871, 0.032089813052332716, -0.832544715518291, -2.632365749109609, 2.207661250166341, 1.6237448687755585, -0.31377003156695826, -3.057548702104415, -1.7837905928668374, 2.316747791436637, 0.3781369873151577, 1.1440015865305104, -1.737308097441709, 1.5149926361755415, -1.1564096620309532, -1.439238721776014, 2.504759045640117, -1.3638584668492888, 2.555439511368927, -3.0799301588651784, 2.0947254832237054, -1.9287160346383085, 1.0884162477066952, -1.1641924391100185, 0.36122056241651523, -0.2773130594240757, 0.5066945971308027, 1.285492342484921, -1.2570371509388776, -1.4017977705235203, -0.7155723492035071, -1.2388323478359924, 0.5479647016418148, 0.3331348050864841, -0.5331332854364504, -0.730869565395982, -1.869684583968675, -1.009034749029214, 1.0294550995270964, 1.8804713794668868, 0.2353944572165072, -0.34007271894580593, 0.9949204715099659, -0.4557321563204071, 0.06743654000332705, -0.34007271894580593, 0.9949204715099659, -0.9525887149331984, 0.9533080097551395, 2.9325584932534636, 0.6589950955787838, -1.326956130473461, 0.47087960853130767, 0.6952914048761525, -1.727813469350189, -1.808394521923122, 0.26173944682367556, -1.9101961793706945, -1.3265329728802353, -1.723399712760948, -1.21104136850358, 1.17620288313069, -1.035146088922918, 0.44000799625024867, -0.46751100084729036, 2.5437118577526108, 1.5921687535463904, 1.0932486135273167, -1.0345306453517533, 0.00033593917783041277, -1.0565198135720608, -2.007172952191171, -0.2379239243223052, -0.7952889305257858, -1.6498701907892512, 0.1395279033763316, -1.8357698291892321, -0.9929164884881453, -0.5910688593672297, 0.8323350963528395, -1.5704970265532816, 0.4195222036520003, -1.025468403793034, -0.933408880078599, 0.08525871401740434, -0.9285045568388114, 2.125295527703002, 1.5059656394726746], \"xaxis\": \"x\", \"y\": [1.1366308489286856, 2.1115360824944633, 2.4534928736412542, 0.7143048459357189, 3.0504819859048182, 2.992503172008767, 1.392198958542541, 0.1499218571869841, 4.074349753342686, 3.473359588557711, 0.9536003498966448, -1.893619917504985, -1.9382012063757033, -0.3324784721764732, 1.526908836671297, 0.41772744106550197, 0.27881844916607695, 1.6813269171246568, 0.1703431354412637, 1.608646178635888, -1.8797330482286725, 0.5073084962687208, 0.6823913666159168, -1.8797330482286725, 1.6813269171246568, -1.0441451774553034, -1.1913301741689666, -1.8797330482286725, -1.8797330482286725, 1.2654489742657538, -1.2133533548999182, -1.333488115157928, -0.14594989302995307, -1.8797330482286725, -1.1081081123509229, -0.13059970310544505, 0.20668912210738186, -1.0510830321511382, 0.41772744106550197, -1.8797330482286725, -0.7453527153692262, 1.6813269171246568, 0.27881844916607695, 0.9368058027124528, 0.37536936976201946, 1.0850375913137076, -0.6158416665000437, 0.9324410590385157, -0.13059970310544505, 0.20668912210738186, 0.143057356343585, 0.7069468562894621, -0.7255912747152452, 0.8864882212621057, -0.08757459305668876, 0.7511800786785651, -1.2815854730553264, -0.4375298657903507, -1.6900592642623118, -1.2265065288918604, 1.6813269171246568, -0.13059970310544505, 0.20668912210738186, -2.0966449970544536, -1.5602963626709818, -1.9453791045444127, 0.41772744106550197, 1.6813269171246568, 0.27881844916607695, 1.0850375913137076, -0.6158416665000437, 0.9324410590385157, -0.13059970310544505, 0.20668912210738186, 0.37536936976201946, 0.143057356343585, 0.7069468562894621, -0.7255912747152452, 0.8864882212621057, -0.08709878196997263, -0.3685701913516202, 0.5634719493516409, -0.16852115375446605, 0.9681212912236633, -0.4766420994433223, -0.8622346196851606, 0.1642405593067066, 1.4740281233363333, -0.9733896647042405, -0.968367997165027, -1.188775304811817, -2.514932955383069, -1.3645077272242494, -2.085527269710493, -1.3451602596125873, -1.2197407756687433, -2.188701344254995, -1.8604868679685773, -2.1435978226356553, -1.1297073284698096, -0.48117907164055573, -1.959118672250531, -1.9582907678763979, 0.6801644140535579, 5.0162034432003075, 1.6813269171246568, 1.6813269171246568, -0.13059970310544505, 0.20668912210738186, 0.4787968256869152, 2.2114113112259313, 1.6450417826160695, 3.325639282348466, -0.4264063494132838, 1.9894394484093476, 1.6467513709363484, 0.2835549496877042, 2.4478179671029547, 2.5542082099614856, -1.2533178442388144, 1.142498026665642, 1.6968806464976418, 1.4610666098345135, -1.6763173647979361, -1.8797330482286725, 1.6813269171246568, -0.13059970310544505, 0.20668912210738186, 0.09167047068355944, 0.4787968256869152, 2.2114113112259313, 1.6450417826160695, 3.325639282348466, -0.4264063494132838, 1.9894394484093476, 1.6467513709363484, 0.2835549496877042, 2.4478179671029547, -1.2533178442388144, 1.6968806464976418, 2.5542082099614856, 1.142498026665642, -0.13059970310544505, 0.20668912210738186, 0.836853451017571, -0.7202606898510263, 0.09167047068355944, -1.9330017494678322, 1.0447072485654179, -1.3506045853114135, 0.2124103564843681, 0.1472331468732515, -1.5135046809986874, -1.4749377400710821, 0.08187461024441263, -0.9502355304993249, 2.0791400173553614, 0.41772744106550197, 1.5407084094685997, 1.045820380172754, 2.2868742206461654, 0.27881844916607695, 2.7220048927216487, 0.37536936976201946, 2.6551154727783084, 2.892426154940146, 1.0850375913137076, 2.557978902481562, 2.2233672693104984, -0.6158416665000437, 4.0494934538198235, 3.5443322658080283, 0.9324410590385157, 2.758916343812715, 2.724597277754752, 0.143057356343585, 2.7726600253692304, 2.7040328487830925, 0.7069468562894621, 1.492177880561712, 2.7632178190615884, -0.7255912747152452, 0.566776314853858, 1.2398937890695854, 0.8864882212621057, 2.0647305269508607, 2.2422815623504055, -0.08709878196997263, 2.2541898813236467, 1.7935438904334895, -0.3685701913516202, 1.9252437499767519, 3.7634170474127355, 0.5634719493516409, 1.254757540035733, 0.950276881462579, -0.16852115375446605, 1.708593124750714, 2.115117761943049, 0.9681212912236633, 1.948364617040675, 2.256870744107514, -0.4766420994433223, 3.148739773712365, 1.20441381608681, -0.8622346196851606, 3.3861319007293917, 1.9428461302279065, 0.1642405593067066, 0.21100634787208508, 3.3645903788247358, 1.4740281233363333, 1.9372879197358395, 2.2237812555673693, 0.6367591331166581, 0.9618204082621339, 3.0239521053928216, -0.18787952287910248, 3.4127757313005844, 0.8595510412533944, -0.0066053465211209725, 1.8959395924926428, 2.2129141727829738, 3.5429109750753773, 1.5159048000140944, 1.7930451249589565, 0.3495388536376735, 1.5863281757921617, 2.37876621057741, -0.4868883251886069, 3.0408141529147166, 2.3191704993704234, 0.4512793184174075, 2.3747078169950013, 2.4628307862781074, 1.5005487347193525, 2.949010036203165, 1.4321554442892688, -0.03873326486098076, 2.618551467092784, 2.081003048205656, 0.08489310108945614, 0.48608881392899356, 2.3890921972338215, 1.6714932071827362, 0.7175209984499952, 2.6009716287116014, 0.7447831369497001, 3.524108878431401, 1.7876805680246182, 2.6291650479280877, 2.8847600245413676, 1.1462436585677669, 2.5062242598496396, 0.03039830884824287, 2.1554719532551694, 2.05907544211204, 2.340835917496264, 3.06135437911324, 3.019193968032488, 2.4547408630651733, 0.9764439624299333, 2.6388168318295273, 0.6783865952243209, 2.7210502218079995, 1.2251463695983527, -0.1877264823742799, 0.7359406738043438, 0.39815233550147777, 1.4941404774750826, 2.7861884314003498, 0.5775976817211964, 1.700994033600273, 2.7329335979397524, 2.352743966294619, 1.4058704940401776, 1.9443688494963376, 2.6152425579954994, 1.885924177879098, 0.7088733452180908, 2.291618718011395, 2.294718538719368, 3.1577897891762854, 0.854124817487433, 2.412531944786258, 0.8797677556730353, 0.41772744106550197, 0.27881844916607695, 1.6813269171246568, 0.1703431354412637, 1.608646178635888, 2.2448060004368235, 0.9889095693714548, -0.6513101473723018, 1.227380179145954, -1.2018418347394533, -0.43569807929893734, -0.7112574539658881, 0.03425134309382057, -0.7533023820584048, 1.295314453971551, 0.11456945511772858, -0.7197358060509254, -0.7157465175585547, -0.929070101900775, -0.013285772191250503, -0.2933236227926928, -0.9768360899937404, -0.782629554110428, -0.28049568970718325, 1.1571717929329708, -0.3929593266057312, -1.5365318693863572, 0.10036733410404274, -0.786235158766987, 1.2103263024142974, -0.6846894022222716, -0.8631103157207168, 0.8001291327019953, -0.7851783246288889, -0.6853373835634832, -0.05158103738268656, 0.23052841104102437, -0.5490837338515983, 0.46173131148379504, 0.4796566797834514, -1.440719403937927, -1.440719403937927, 1.3586607765967211, -0.2745481967206063, -0.6496356374808904, -0.8096600478278885, -0.6931006538256539, -0.46571885915882605, -0.20524086047728968, -0.9261257534474677, -0.4521742826563076, -2.454552820007537, -2.850448605156356, 0.7126740713313869, -1.3788336471691245, -1.2332919246607568, -0.43746930024108166, -1.6220182056228116, -1.4929960148907095, -1.5140826426698162, -1.5390855304785744, 0.5271789549238327, -1.4995324740835985, -0.9621357322929425, -2.247046881817784, -2.09515257815579, -2.6879145469791084, -0.24766990242855655, -1.0501566422026456, 0.9947080250098395, 0.8458515426338195, 1.6281661901451905, -0.7876505306673278, -1.386677208911889, 0.20714193080387755, -1.501887914548669, -1.3093149774260289, 1.1280229436146696, 1.3837207821585755, -1.0486062161620195, -1.0099880552840161, -1.083744501637809, -1.2955596903232955, -0.34920173096134105, -1.2793979363698094, -1.1148510383177008, -0.6375362330636926, 0.03902548314329209, -1.9319631265828932, -1.5390855304785744, -0.38604948746357287, -1.7672394452017333, -0.5126240913862222, -1.6620210865072762, 0.08506759344807725, -1.264815432731014, -1.3113514704418636, -1.1098674473870573, -1.59135115062915, -0.589878289378211, -1.652907709847144, -1.1474058101067346, 4.295571847438945, -1.1476182170658265, -0.24381985251315755, 0.11456945511772858, -0.45234421529566765, -0.29386218403606845, 0.6151701365077382, 0.8824527730815261, -1.6667447493375234, -0.06770985258446777, -0.3528533229146928, -0.8021858237941022, -0.6679505310106478, 1.006624538287559, -0.48712691350375403, 2.576410799927349, 2.5232749442760136, -1.4784487104565602, 0.5715695055570867, -0.37062806834615397, 1.655653116567744, 3.5641955440565103, 2.4353533890885912, 2.5393682279630876, 0.3433095497357012, 0.6280588420956619, 2.0408611149545073, 3.0194907884769915, -0.9041647186286795, 1.4999501812904568, 1.9389559639243918, -1.1407490764497743, 3.047274196395779, -0.897492586901695, 0.44351796212422573, -0.8815474991364158, 2.973312553180687, -1.3963088271923882, 1.860315955881467, -0.9108806062162295, 1.796748710015451, -0.6596221172282477, 2.5245416808831957, -0.2187591510677485, 1.713344518790068, 0.2061709590371676, 1.1535734975746685, -1.2036457112238605, 2.4443952438723104, -0.2018434075191874, 2.3449149509798572, -1.307355406211798, 0.03305464929772509, -0.7508204446460245, 2.284390721634295, -0.8854620984066051, 1.4221435972729441, 0.33037436319157293, 2.3064656686641083, -0.8896846924705187, 2.8790636494564814, -0.3334518046849994, 3.8350105471349893, -0.896450659102583, 0.9486124001202937, -0.8610586605498403, 3.336420090142624, -0.7835938188862311, 2.145801699704203, -1.4655845195188615, 2.6162625970377795, -0.5847429461778823, -0.07942058035130274, 0.8194895813859644, 1.78210995264303, -0.34253088391859876, 2.3300786710063925, -1.1570012903089935, 0.6993497832760351, -0.5097299693148967, 2.116646863301428, -0.4032623850969464, 1.618321548687027, 0.14696058231478498, 0.7376809001187764, -1.2672047507555533, 2.7200311470494434, -0.45319477399725755, 2.665670050694597, 0.35901598885752944, 1.1468961379928782, -0.8234854058652942, 1.6884621776031463, 0.17701911964961678, 2.1912533145040713, -1.3292250978719538, 3.0619287110963564, -1.2986672709487963, 0.9506390606493167, -0.8461887972803821, 0.8421241569111955, -0.5294217197915968, 2.4879325835182926, -0.11977163202706285, 1.4225585454048186, 0.8114518687748377, 1.8402157100943923, -0.6379415421956965, 3.2663805644414796, -0.6908954412371628, 3.096537836090192, -0.4981869193398832, 2.2616491896306306, -1.0245602559072335, 1.9550742891257296, -0.49222899100582373, 1.5557247259010336, -0.31297698278264974, 3.171338897536599, -0.4811662534221594, 2.9265996843591386, -1.2359585826547632, 1.790489814340486, -1.0372265530949214, 2.7378817046432786, -0.783729267321555, 2.755153924518292, -1.1457836473087986, 0.693173333388468, -0.48447608975524625, 2.1401781530322714, -1.2099807532325442, 0.7564180171835172, -0.6758960962545805, 3.1685383975957064, -1.8432368355046966, 2.734722850439703, -1.556015574850578, 2.0147232555328616, 0.4262806524014131, 2.9759663030629397, -1.0362741240646247, 1.39887354437509, -1.4021352250866568, 2.442467635002336, -1.4584722446942653, 2.2357577887700155, -1.4285494304916837, 2.033345839176278, -1.6169769229895228, 3.412137489622877, -0.7427741021688049, -0.25661117140058737, -0.8536604236105183, 0.1619867190806701, -1.3574891227518897, 0.8177432015752182, -0.9289970907750154, 2.0388543572887508, -0.05791152420395982, 1.9123164708328833, -1.144350042087697, 0.5815471339998352, -0.542364559023565, 1.838542151522013, -1.468744339754637, 3.367160267512636, -1.1423784788630305, 3.2633916136393286, -1.178145511908423, 1.8488512648822382, -1.7398797426609183, 1.7318271688304157, -1.184361180462472, 2.2342068010678577, -1.5498547073733622, 2.1182928243717196, -1.1843910901916377, 3.2745406674987887, -0.2843792663260825, 1.2271569583103052, -1.5136794324744618, 1.8273132592040842, -1.3656084709848273, 2.2917165707502263, -1.3211230753255743, 2.7521858207560577, -1.150265593943279, 2.1479022269139993, -1.2844830912231433, 1.8075369246950226, -0.5459183077994648, 1.6305863446549185, -1.5651545336495378, 3.1073579355797394, -1.2583394621043216, 1.8773740813083517, 0.49022262065152156, 3.9881730534513875, -1.4316296611712516, -0.0886495285880165, -0.3292608604090528, 2.523741509616025, -0.6305039245007005, 2.593404961201236, 0.18423613533808816, 1.5859700730067645, -1.274817848347627, 2.3769093893933206, -1.0747574363392878, 0.9022203695878529, 1.840999880477703, 0.8001291327019953, -0.7851783246288889, -0.6853373835634832, -0.05158103738268656, 0.23052841104102437, -0.5490837338515983, 0.46173131148379504, 0.4796566797834514, -1.440719403937927, -1.440719403937927, 1.3586607765967211, -0.2745481967206063, -0.6496356374808904, -0.8096600478278885, -0.6931006538256539, -0.46571885915882605, -0.20524086047728968, -0.9261257534474677, -0.5002103337504773, -0.6511994909229953, -1.264815432731014, -0.3408714597172506, -0.14594989302995307, -0.6872316833176754, -0.9720663202149123, 0.49623620612312697, -0.17759729709226735, -1.1461273531161584, -0.954133026455505, -1.5608168322888414, -0.9845178364782388, -0.3269739177838771, 0.42817003328190845, -0.9958675123095392, -0.8950961333154192, -0.9151124490710486, -0.7222277432593535, -0.8049306912423024, -0.321025053224162, 1.9535306529480416, -0.00669906506280806, -0.4717586992830547, -0.7065582835174894, 0.17260068372437218, -0.29856619379157734, -0.716719619842731, -1.1532997121935147, -1.0736319478308314, -0.8925896671447201, -0.23617608953765346, 0.25937251998210575, -1.3788336471691245, -1.4929960148907095, -1.4593944380876724, -1.0441451774553034, -1.5140826426698162, -0.43746930024108166, -1.498398300947874, -1.6220182056228116, -1.3261167904897406, -1.1913301741689666, -1.2332919246607568, -0.07181582127967136, -0.1834332607114022, -0.36917253746925827, -1.1912539944934135, -1.4091744589408723, -0.16615327504844488, 0.2750091908029578, 1.7419229366607774, 1.5235794712997055, 1.9244714270422985, 2.1523305197789284, 0.973244729421598, 1.703653873822743, 2.0729662726523124, 1.4489731722430375, 1.762617544623172, 1.0201915975347957, 2.7888216330397757, 0.8728522482783535, 0.71633841739877, -0.3905854786615277, -0.1402500466308514, -0.7469836479987403, -0.5362542831391975, -0.6333824624024581, -0.93376861799714, -0.909699126766544, 0.03597877758784452, -0.9835284198205131, 1.3822879106955235, 0.6311112067590968, -0.9648331061183917, 1.3716648077807065, -1.420639617872378, 1.303801194409086, -0.9028116027079198, 1.315878429400946, -0.577194788182971, -1.3224186847048718, -0.9102602123600849, -1.1621944268788724, -1.3056314959007527, -0.6059634800691661, -0.8362461256411294, -0.5323456828226346, 0.2984116504947783, -1.2228630738359003, -0.16351454794739728, 0.17541409663239838, -0.6010918322997932, -0.5218188975637288, -0.6622104054155242, 1.7414132324721634, 0.9653474133008253, 0.7151725428393767, 0.5882863589279197, 0.14976956975986486, -0.2686161840984537, -0.7791072838390207, -0.5771114395339234, 0.32055290430133665, -1.4373872500245866, -0.28468947650980087, 1.4029295119828846, -0.5506788960967134, -0.4151658894506592, -1.1199089174030017, -0.22713183617817784, 0.07481297574655127, 1.3601499693644512, 0.31291572263332773, -0.06287221846035959, -2.182274397926141, -0.3094187728351983, -0.3723050462503121, -0.2705783985981596, -0.7137169599394857, -0.08606852620889502, 0.016190249517935854, -0.7425917647203586, -1.357966004173889, -0.7520043286279859, 0.1244762892114707, -0.7416387039245318, -2.292229126861772, -0.3711930914323505, -0.7249548253075884, -1.4853350884578789, -0.14765417072710596, -0.6216133144182089, -0.888153374120332, -1.871329890258319, -0.572077016498532, -1.0440334886531515, -1.916491906127807, -0.46185294983333663, 0.533453846170113, -0.2370242355333457, -0.6195151502835565, -1.3287723560596156, -1.6494658201042722, 0.4662616338840986, 0.4366759694431914, -1.2484830905331505, -0.9544721146175963, -0.7744151059480366, -0.7486102041674206, -2.4089696625089116, -0.20688541248588546, -1.958836794521388, -1.6699949756640387, -0.6848930022184625, -0.37759357613467265, -0.9357458257997093, 0.2780190646409894, 1.2062769179198594, -0.6236488834213454, 1.3523483575439759, -1.8640941614046023, -0.7948814124933328, 0.677512682129144, -1.5521290068300388, 0.44129232632556126, -0.3935595093317662, -1.882144153695119, -0.9034994223415999, 1.2710219566295773, -0.4839875254483225, -0.5475797199747033, -0.31132662593135, -2.036314381763163, 0.34106296876079184, -1.215486709791779, -1.0066382352856644, -1.5257066843032296, -2.3051695948860935, -0.7180494428963514, -2.207782178833687, -0.03153225659283807, -1.1620517273955413, -0.901085842343832, -1.4152397934694698, -1.384007462142627, -1.4648201306457855, -1.0192685968404998, 4.084963520205629, 0.4580362971784283, -0.7714070046768879, -1.9499769531178055, -0.9111754540844841, -0.02557880957797136, -0.07181582127967136, -0.929070101900775, -0.954133026455505, 0.6022674298671625, -2.04268950896332, -1.628364786019109, -0.6020684105087978, 0.14673449109010878, -0.3408714597172506, 1.1769485886984299, -1.2903787702217189, 2.2021278145139114, -0.5600241309933995, 2.262249108084851, -1.6352471633947538, 0.6397972110899015, 0.5233756917902993, 0.23896590831236034, 1.9552577873146533, 1.582036636432703, -1.8653008050123514, 3.7318820914272948, -1.3234891423734434, 1.4612007351152525, -1.4822564414502113, 1.6437350454433906, -1.0868326985292112, 3.4886011940506947, -1.1620444100404328, 0.34993585169671254, -1.0374899961485395, 1.4329810087047687, 0.5457918235209414, 2.3049468452419455, -1.3060125661321347, 2.945867798793378, -0.8819122426773911, 0.9056923719878192, -1.1953787505546611, 2.47005074590667, -1.026891310757825, 0.5022640604023182, -1.5736007927834545, 0.1726757860773811, -0.5606449231547248, 1.8468382882415366, 0.44343882301875126, 0.4652555884654633, -1.414633026393526, 1.995877703328458, -1.3278476283697902, 2.094249325363288, -0.21831218542036349, 3.6699126059687086, -0.5934124491206977, 1.8904115492405795, -1.546676020073374, 2.4685806942420974, -0.7027571428833274, 0.5542241835903466, -1.2745884834356531, 1.3324384169191121, 0.18984725823443505, 2.1859399995491064, -1.5139707447653072, 1.8964660087505407, -1.5021706812213487, 2.7129541973016584, -1.416232879784402, 0.9528900211651757, -1.7394122725301335, 1.2442935282138112, -0.7240976585465885, 4.691682581607732, 2.182634315175854, 1.6539857945187781, -1.4378471640512342, 2.497710504031029, -1.3012501411024928, 0.8369657255695336, -0.685458059910988, 0.44574300859477517, -1.2421628938347455, 2.259787766181745, -1.517927638705002, 0.21126228806147823, -1.0310108809235423, 3.62835829819849, -1.2932785097339452, 2.6551417312118697, 0.4767773085756134, 1.0908017594954584, 0.46010255863517324, 0.5364942342436572, 0.6789549738773669, 0.12760827222209892, -0.9816970553776448, 2.0927935191810816, 0.834685632128312, -0.07459357994347322, 2.6996140123187113, 2.2697184463085405, 2.3283812691162016, 1.0734801877725997, -0.1965275352324894, 1.9456038995757452, -0.09272538396382247, 1.161657965759476, -0.16984627514196607, 0.6714284193528037, -0.03892555085763087, 1.4668582853883412, 0.07533782110559976, 3.495073769768281, -2.436605143996466, 0.9262914169152536, -0.6614014073842333, 1.8416501366578606, -2.2240131918431176, 0.5224869321866035, 0.5065791960120666, 2.753807373454675, -1.191130381701753, 2.5926869007233857, -1.2434326637570476, 1.7648118053428359, -0.9571724908506994, 0.07851508264870487, -0.3524842339246015, 1.0625353894563567, -1.4687497523414892, 1.2198613318670823, -0.16290507823950726, 1.628465391327761, -0.41437261179958584, 1.4212078601657616, -0.8200656915535803, 1.993052368503116, -0.8067914274359659, 2.460229332697908, -0.7338575441842031, 2.2041900587731345, -1.5882039222838045, 0.9497231442265123, -1.2296632278927435, 1.0368256631067327, -1.4934217938216932, 1.9031745075563298, -1.0369891375314362, 2.9484747364906916, -0.9248247633482675, 1.7832173438234418, 0.5596023014054234, 0.8584304897112396, -1.9531355872618832, 1.0488531579954723, -1.6541885018888765, 1.7773112960671675, 0.3198862934925122, 1.1216014781140657, -0.6460901066714589, 2.236398104231757, 0.013073958451820817, -0.6525948214243775, -0.836031393829605, 0.5043280513760596, 0.21678938004813494, 3.811060694999556, 0.504139281598719, 0.5164060288843242, -0.13059970310544505, 2.1132160044201176, -0.38029846264138817, 1.6894627385574346, -0.3036674016497846, 4.319689440640433, 0.17219692325343836, 2.1151121429520834, -0.5113910195549731, 0.7224229192264233, -0.6165517729672403, 1.0992318297152401, -1.3151034749792698, 1.2558423385834891, -0.8677895554257777, 1.5172351083147637, -0.055461170709086835, 0.5138815389558347, -0.546810117494933, 2.252441348470996, 0.6058068910437411, -0.11764332335390632, -0.5198585351586691, 0.8892536941906465, -0.1420817231204401, 0.2960818581980372, -0.15494946594784273, 1.804991042621774, -1.2891826691349486, 0.45271322764864796, 0.20668912210738186, 0.1585047402687121, 0.29871103658270054, 1.0476876843133711, 0.8937383648698299, 2.3327090539385877, -0.25582023578872226, 1.6677553376145309, 0.7056294573221505, -0.16615327504844488, 0.2750091908029578, 1.7419229366607774, 1.5235794712997055, 1.9244714270422985, 2.1523305197789284, 0.973244729421598, 1.703653873822743, 2.0729662726523124, -1.2228630738359003, -0.16351454794739728, 0.17541409663239838, -0.6010918322997932, -0.5218188975637288, -0.6622104054155242, 1.7414132324721634, 0.9653474133008253, 0.7151725428393767, 0.5882863589279197, 0.14976956975986486, -0.2686161840984537, -0.7791072838390207, -0.5771114395339234, 0.32055290430133665, -1.4373872500245866, -0.28468947650980087, -0.5506788960967134, 1.4029295119828846, -0.22713183617817784, -0.4151658894506592, -1.1199089174030017, 0.07481297574655127, 1.3601499693644512, 0.31291572263332773, -0.06287221846035959, -2.182274397926141, -0.3094187728351983, -0.3723050462503121, -0.2705783985981596, -1.3699273521469844, -1.7090837246794668, 1.2902874147047512, -0.11282817827060777, -1.3699273521469844, -0.7535172955339313, 0.08409719677724896, -0.8193038598208082, -0.8476280971414237, 0.042877739340760716, -0.7554424030569832, -0.8476280971414237, -1.1495022184231185, -0.0631252003785522, -1.3699273521469844, -0.510902983029679, -1.4641592559927603, 0.07027246860283572, -2.182274397926141, -0.3094187728351983, -1.4953336360722744, -0.6273299288523535, -0.5323370670754677, -0.8278243747117026, 0.2641529996306844, -0.799221181738593, -0.8491145456739269, -2.0885854051086934, -1.2886197130763124, -0.20885822492439413, -0.9649246876164852, -1.3497498163126316, -0.8392763964640727, -0.20762767535977267, -0.8042400918222857, 1.4950144008639028, -1.2295090376153344, -0.5725373543393578, -0.814875424311317, -0.1864974280655731, -0.15425529113855763, -0.8201166741085152, -0.8136389973649877, -0.15425529113855763, -0.7388746421310352, -1.2688859724265977, -0.5777414228535571, -1.1639253349234313, -1.0700445328589485, -0.9962248052351265, -0.6828286679494487, -1.003660710016165, -1.1109273927332144, -0.8178884069373604, -0.8456858334343951, -0.5836101995298112, -0.8113541739169378, -1.2106534744255606, -1.1478694193597945, -1.1495993209665643, -0.7458533889322875, -0.2560561314806003, -1.0804809105951398, -0.7424507174794305, -0.17197756385038124, -1.2886197130763124, -0.1942121616701071, -1.2713194549467648, -0.11829988329524467, -0.32615669919786283, -0.6438623716776568, -0.5637594527247266, -0.9504622538012306, -0.8103634320415747, -0.6329051466289403, -1.0522147407009, -0.44999499353503275, 2.365096013743303, 2.8206705495795257, 1.4682522730218317, 1.0213517820504598, 2.2457620754671432, 1.6094107719815982, 1.6602678596602378, 2.4139070416276676, 1.8885807610779919, -0.9737741241486654, 1.7189817509316494, -0.5457807389434295, -0.20489116351265013, 0.3775224280563568, -0.11986752988186351, 1.1125275395017766, -0.9418819788506985, 0.036138967209537395, -1.3184066276008932, -0.41233649406527234, 0.2819288658634854, -0.9649721316844342, -0.36760924703052733, 0.4205881989793797, -0.8157917905341451, 0.4779312673185972, -0.9741920411159399, 0.2417071389176706, -1.4903882797344687, -1.2359783245314047, 0.8857474183173643, -0.5501859718527923, 0.5656475253255903, -1.7202833017711214, -1.3491207244327867, -1.5311815707661258, -1.596205008755004, -1.015919708700042, -0.9983884893153506, -0.09216049493265188, 0.4088199542211187, -1.0013447371570685, 1.0761373134754793, -0.38407234905657167, -1.7171419204357143, -0.3888639210115938, -0.004873305168689686, -1.665168978032779, -0.6587449289978087, 0.10366563632385642, -1.4202565412275892, -0.3225193551135394, -1.5777355887935445, -0.5390273284443785, 1.0667666374216018, -0.9228463257212766, -0.287478946825463, -1.4485006198625094, -0.9224405411144172, -2.2756829845918682, -1.2459098774030535, -0.35576622741162606, -1.103271280619414, 0.6647338391628366, -1.7107983687380384, 1.3752336682274269, -0.004873305168689686, 0.22933583804096283, 1.702316301463195, -0.909315757299976, -0.7542104132890878, -0.8850241946490941, -0.20897183219943513, -1.1368139635371968, -1.2384078414710773, 2.3373331105916177, -0.23537144480119332, -2.253830730171897, 0.8889404759127415, -1.960161442271247, 0.3987911831097432, -0.3418201921394136, -0.4680048547505177, 1.0503587714358342, 0.26647358790015463, -0.26532115635021425, 0.17435339807858302, -1.7382747107960235, -0.8044287571385673, -1.8384232041660904, 1.8246651085981485, -0.9301738427456829, -0.0017340196018756982, -0.8614414302258571, -1.9321580165386028, 0.6520437598210975, -0.9938158195458086, 0.17435339807858302, 0.07046823129046721, -0.36917253746925827, 2.0164204935473107, -1.498398300947874, -1.4593944380876724, -1.3261167904897406, -1.1476182170658265, -0.1834332607114022, -0.901085842343832, -1.4152397934694698, -1.0192685968404998, -1.384007462142627, -1.4648201306457855, -1.203264507577948, -1.4062607597287338, -0.4924013920785338, -1.252484234302181, -0.9574112611964573, -1.172475214948727, -1.7212907393679917, 0.28019575283857967, 1.3582026037197912, -0.18092286790705422, 0.06271000188689484, -2.2011332928847036, -1.9227528309332083, -2.095673490082447, -0.9910593015290566, -1.4085287349398556, -1.0696378659538968, -1.5531970268745259, -0.7811480306280716, -2.250563249343872, 0.99339384191365, -2.272462880054312, -0.6247103135337914, -2.2442983474852594, -1.7305443045757514, -2.15611623732964, -1.4156321644852985, -0.8586107484746001, 0.2607788146233947, -2.1883897462013033, -2.0855711824246206, -2.043412536506395, -1.6369800433513555, 0.7945444119517225, -1.4463142465101344, 2.7074995363923384, 1.6195700995030489, 3.0137738979891853, 0.07217308847645827, 2.081639232536183, -0.5121072025200492, 1.8398917053429418, 1.5208668487353243, 1.161519853151728, 1.2770864816818845, 4.575067104297556, 0.6308053945117178, 2.117035424531622, 0.6416524709809257, 1.3130996951901568, 1.9431530118770437, -1.190095308903186, 0.2808854068763351, -0.8082456066097898, 2.337113382917131, 3.769162860561843, -1.8008364370200298, 1.5649097055204273, 1.272970079366879, -0.21814478115955224, -2.2150297028382, 2.6580866242221273, 2.1626518562013204, -0.628593687596169, 2.9682612436498306, 2.2826207463673853, 2.6717703959908734, -1.1698994889505614, 1.523962440229763, -1.0043872026716558, 2.9029887091937496, -0.7202606898510263, 1.7773554421188875, -0.387611310896203, 1.2052624220826564, 3.047618665953711, -1.264291323298734, 0.5108654124855512, -1.254324785732975, -0.2903807944045015, 1.0693531623482935, 1.2281163246864577, -1.4860825780243432, 1.9205789228348724, -1.5559783934060167, 0.7694242810919598, -1.0355324770294023, 3.02445827493717, -2.2396048337135936, 1.355030149345002, -1.0062829950609502, 1.9282345565928067, -0.901781612559367, 0.5814081404074156, -1.7129603708322267, 0.7288237883357587, -1.546279426495645, 2.68972452347024, -1.6316848712297836, 2.7525790935053243, -1.5099277313564694, 0.6346045144196211, -1.3729225528731586, 0.7875086854387916, -0.6980133724873787, 1.4374594585289866, -1.3884145224508186, 2.3111819731146386, -1.2825653580129024, 0.5018540510132125, 1.4310052941625548, -1.677840816828522, 0.775254916964191, 1.4388742992232906, 1.6446726980458461, -0.7545378230698305, 1.4284216483418897, 2.8255132164714274, -1.6065787490124663, 0.6358423857132156, -0.11380931451834622, 1.988395521171263, 1.7708853571371406, 3.1954537330962074, 0.862361752894697, 2.089307241171468, -1.2804831667042555, 1.009837113875615, -1.831103836225296, -0.017195938696596746, -0.9646828148940374, 2.4105009665966857, -0.9850792405347534, 1.8366526792582676, -1.25100389360089, 1.5340893575495094, -0.6241773915179304, 1.4862407422676809, -0.42113685468253514, 0.8056264529512478, -2.1289289947995793, -0.00438236814750202, -0.7839688512100418, 2.246727442920585, -1.5046725445955673, 1.3639692525621767, 1.2594877274872107, 2.6999808965224883, 1.754480267789135, 1.623573338580655, -1.2604327243935036, 1.4433828021207864, -1.9319197540764939, 2.085648732258638, -1.226704508011703, 0.9896649784934927, -1.55235327930851, -0.12735688125894012, -1.5828335185601994, 2.0782237858952617, -1.2460466327067121, 2.8843843922027843, -0.9886712216814665, 1.0970729788482863, -1.224928422440751, 0.33072896160762594, 1.3605472585266996, 2.213767991335716, 0.17572060221490968, 1.7803536089887106, 1.0459084645888082, 1.7618950155513153, 1.289021463101014, 0.3152419697005986, -1.7022459905472025, 0.5387643464668501, -1.0244792007608954, 0.8314840357024126, 2.6943401085481185, 1.999250767691503, 1.063985903586168, -1.2749431194604635, 0.7811308015968108, -1.7938053342227276, 1.4719401226219702, -0.962021132537362, 1.6700703823947713, -1.584658443355214, 0.5249210110359985, -0.5723481404237921, 1.8862659516690419, 1.4596463703134748, 2.278546926748337, 2.576410799927349, 1.7573872615782349, -1.0669516018910663, 2.4628364149956945, -1.721996346443695, 0.6736986002288138, 1.2989167078264772, 2.3950904457284516, 0.5936292053727462, 0.7923151733492861, 0.7841277234581446, 1.5200382797034808, -2.4125392492001425, 1.131692547942043, -1.7820366093768718, 0.10331064529124706, -0.7869351097324213, 0.8334178016643731, -2.038560762583704, 1.500288413869208, -1.1948281978499584, 2.3217765283672063, -1.2833191409557416, 3.15807754911373, -2.099338606353583, 0.44339552596984977, -1.2532477198918006, 1.7278185326223985, -1.5050422870547788, 1.1412076850671085, 0.30194103681425977, -2.182274397926141, -0.3094187728351983, -1.4953336360722744, -0.6273299288523535, -0.5323370670754677, -0.8278243747117026, 0.2641529996306844, -0.799221181738593, -0.8491145456739269, -2.0885854051086934, -1.2886197130763124, -0.20885822492439413, -0.9649246876164852, -1.3497498163126316, -0.8392763964640727, -0.20762767535977267, -0.8042400918222857, 1.4950144008639028, -1.2295090376153344, -0.5725373543393578, -0.814875424311317, -0.1864974280655731, -0.15425529113855763, -0.8201166741085152, -0.8136389973649877, -0.15425529113855763, -0.7388746421310352, -1.2688859724265977, -0.5777414228535571, -1.1639253349234313, -1.0700445328589485, -0.9962248052351265, -0.6828286679494487, -1.003660710016165, -1.1109273927332144, -0.8178884069373604, -0.8456858334343951, -0.5836101995298112, -0.8113541739169378, -1.2106534744255606, -1.1478694193597945, -1.1495993209665643, -0.7458533889322875, -0.2560561314806003, -1.0804809105951398, -0.7424507174794305, -0.17197756385038124, -1.2886197130763124, -0.1942121616701071, -1.2713194549467648, -0.11829988329524467, -0.32615669919786283, -0.6329051466289403, -1.0522147407009, -0.6438623716776568, -0.5637594527247266, -0.9504622538012306, -0.8103634320415747, -0.44999499353503275, 2.365096013743303, 2.8206705495795257, 1.4682522730218317, 1.0213517820504598, 2.2457620754671432, 1.6094107719815982, 1.6602678596602378, 2.4139070416276676, 1.8885807610779919, -0.9737741241486654, 1.7189817509316494, -0.5457807389434295, -0.20489116351265013, 0.3775224280563568, -0.11986752988186351, 1.1125275395017766, -0.9418819788506985, 0.036138967209537395, -1.3184066276008932, -0.41233649406527234, 0.043773924850783644, 0.5998515284045765, 1.2086350502074987, 0.3082056112474931, 1.1798528062297822, 0.256692888331481, 1.1326908414926404, 1.3801251705024324, 1.1327723371362413, 0.7456016578664072, 1.6524558285241806, -0.2056999269766669, -0.2571269897291263, -0.07863324255645014, -0.5292637663760686, 0.07027246860283572, 0.7896525773419326, 0.3533814274809485, -1.4512568051024526, 3.1677827580826, 0.2774000014180333, -0.2032266395253727, 0.07746467952356828, -0.47083085541129455, -1.302839589398007, -1.3461940288100993, -1.8510483257574852, -0.14438071434559355, 0.3864468661371245, -1.3037999618960863, -0.48913654745772844, -0.49760458332840524, -1.248288057057089, 1.253631407132344, 1.330251876153664, -1.0085996211367279, -0.7936177119138643, 1.1637327634663261, -0.9998898353464242, 1.3739465708936003, -0.22799261848882263, -0.9843960080086341, -0.6972926173643269, 1.3306781071342912, -1.709243470885838, -1.2640617899202282, -0.9683242638031436, -1.9192753285530118, -1.3604734892526884, -0.5892561760960597, 0.8473659984083262, -1.1220774308538748, -0.7871499616728641, -0.7129038789368446, -0.7296620349234765, -2.5274003357397827, 0.48996290267644876, -2.6077783448852148, -1.8023554527370012, -0.9080264663381066, -0.6545302185109139, -0.7732661834155273, -0.0124721778837882, -1.1718643548428036, -2.3367658062168584, -0.35081510583818926, -0.5956798592627418, -0.744133640031922, -0.7035866962063622, 0.3840817137520942, -0.7931612229004021, -0.8324209857058816, -0.2955264642290468, -1.24636345161814, -1.6907520500891193, 1.2866386821676041, -0.12277050976496334, 1.069885733017541, -0.3039287116177077, -1.08520846134454, -1.9231158831573059, 0.06755684315377344, -1.8127153141712462, 0.2316683364269675, -0.5293987434903742, -0.14054711703214684, -0.39947365609984054, -1.523776783570707, -0.0664332503488606, -3.040366470024388, 0.0781800948906993, -1.2353743474958372, -0.9510966997768213, 0.24358351278516718, -1.2980497766311385, 0.11817394429771025, 0.2853369702235179, -2.4759304919960328, -2.5730516393504974, -3.1726393173773055, -2.877905811792397, -2.2307004869866933, -2.5620413074089843, -2.3457006878725273, 1.702316301463195, 0.2417071389176706, 0.7912339617412779, 0.17925921583450188, 0.8857474183173643, -0.6216133144182089, -0.5566021432226275, -2.0862962613692755, 0.4456802407049442, -1.5425547659335108, -0.2820822146307774, -1.8349891723943874, -0.44930390315173035, -0.6685665476840865, -0.8058795886726563, -0.4685927992004223, -0.6895429535172906, -0.6470536851026736, -1.0573343088471667, -1.409930359637505, -1.2130816650014684, -1.2622625873994244, -0.3921250572783506, -0.3921250572783506, -0.6587449289978087, 0.10366563632385642, -0.287478946825463, -0.3225193551135394, -1.4485006198625094, -1.4202565412275892, -0.9224405411144172, 1.0667666374216018, -0.9228463257212766, -1.5777355887935445, -0.5390273284443785, 0.6043519455403563, -1.0609590417761028, -1.186050149442867, -2.1795166054499067, -0.8181632438407076, 1.1123563205355167, 0.6597889972672187, -1.3377581576200448, -0.17577627705344956, -1.5104380472328014, -2.0784229846022666, -1.9811206840470617, -0.9260635584221596, -1.693129628091251, -0.6479286585854033, -1.1445732829666408, -1.5406791054148532, 1.505988739054391, -1.7932911966700231, -1.9880255579131072, -0.014646242108893016, 0.9136096098415539, 0.1652572787430257, -1.7113859563130813, -0.8276958724409986, 0.1339419404468084, -0.39446582916305867, -0.10498380082581445, -1.1408220791327803, -0.7416387039245318, -1.4323205563929051, 1.475288584243656, 0.5822067349295612, -0.10535159214842835, 1.0237142042827208, -0.18602151480680848, 1.9133770094648686, 1.9133770094648686, -1.659869161012782, -1.715542341969097, 0.47324317671434996, -0.7066513888788756, 1.3113298822564654, -0.5718699486620172, 0.6260342810427028, -0.1809566216400272, -0.5669151408986818, 0.3827873274955308, 0.4483023900939459, -0.8232474996689009, -2.2761132786586273, -1.7877335196349637, -1.2942733560340303, -1.0576553354822245, -1.2134427526327143, -1.438616152651166, -0.013294703730776875, 1.769220353167857, -1.8314141814035083, -1.7189970459191029, -2.0393778316302784, -1.2836107130616994, -1.676528224181991, 2.7931266036857356, 0.5185455893316288, -0.9172384331853876, -0.525369088187688, -1.4133174198692098, 1.65823266717905, -0.525369088187688, -0.525369088187688, 0.2830325145442388, -0.525369088187688, -0.525369088187688, -0.525369088187688, -0.525369088187688, 0.3489203974633989, -0.8910241135734271, 1.2606793312682116, 0.4098159504611335, 0.7000026809297013, -1.6774773070783484, 1.9799786921861535, 0.9013245017036033, 1.7827409660821327, 1.0844359640673067, 4.188255800329761, -1.754234566533538, -0.17326874587057986, -1.2669634787496822, 1.6272457267603861, -0.917527105605624, 1.28906273766867, -0.25769526677136606, 1.7784722979108145, -0.7953794091045621, 0.581762822545836, -0.9429609255513222, 1.9309086158346558, -0.6789307622945076, 2.7525524348468613, -1.3701326230540873, 1.8905576151042793, -2.0511910885535634, 2.892781512487248, -2.162409796928179, 1.9108035062738937, -1.1439237082775744, 0.8866685281832972, -0.08567038282169828, 1.4163554010949717, 1.7279888894497515, 1.1356457227649503, 1.438784887476176, -0.19948316785894615, 0.4585639794910755, 0.9368803649089761, 0.43615328835846223, -0.2784425320619792, 2.5232749442760136, 2.7616676872457324, -1.7790203101721012, 0.28872813652087, -1.708303424750689, 1.222058880430202, -0.16999772873816166, 2.512273343020842, -0.5096233747632246, 0.8766646478274512, -1.0321718011929566, 1.8569572792709792, -1.5246598369017637, 1.1678493247950252, -1.1893481690241023, 2.9194940281830672, -1.3656442797926378, 1.684083254055688, -1.1747880425963007, 2.2078697650177723, -0.6298310802934116, 2.1567774526489436, -1.134213057707595, 2.572505062878017, -1.9168355668745798, 3.3773895605843163, -1.293508260724963, -0.4692560887810373, -1.8669195449125613, 1.9480363334178934, -1.632485636506382, 2.1771821428250435, 0.4152384304324379, 1.6193601730551344, -1.0676580477148763, 2.659366868544744, -1.7127779706037725, 2.5122458000602435, 0.2795395574722119, 1.4000289284541794, 1.2072178153391577, 2.162902982333218, 1.8397254057504555, 1.2361849671350087, -2.113304150994729, 1.9893648146420162, -0.7944090921841297, 0.4450101847331682, -1.629964442188246, 1.1822833977494696, -1.2886315389888807, 0.713302755544927, -1.408652665630212, 1.9321374409991576, 2.059254616544999, -1.7760533873584794, 2.8171278481206676, -1.7530167963386434, 2.242349644760292, -1.064331427422404, 2.151969967747922, -1.6936519742471376, 1.6157180530900899, -0.7596743549633513, 0.8936471692081535, 1.1225004722611793, 0.38432657419665495, -1.9426459002493286, 1.2266476673416113, -2.0879067977492305, 0.11693837918027572, -1.2127769456592357, 0.7470271068399071, -1.5591523032555532, -0.6179834312475794, -0.7937027306831989, 2.266239492571021, 1.5871754161827787, 2.2364427186635276, 2.4494794757629923, 1.8919889878959357, 1.0249614224730423, 0.3928173648125496, 0.9640908871858602, 1.813319210294283, -0.5123729345666503, 0.8931317164554989, -1.3277606603277168, 2.036580462782693, -2.054524361628956, 0.49495892630714344, -1.4243932033681799, 2.294827139331112, -1.8072567731327067, 0.19021849888536688, 0.45873319684644015, 0.8252660060550667, -0.8904988860853975, 0.05799707024972421, -0.9417068381838885, 2.8942579952321457, -1.3176849192257196, 0.0013230190435172952, -1.2147442856297612, 1.925615734555455, -1.688243404670169, 0.03651880939823657, -1.6172110313230104, 2.946651244583472, -2.2771710769634628, 3.589650945527567, 0.08016758059399683, 2.8948151093181336, 1.4641877176758964, 0.8741532676558178, 1.2342836499055432, 3.972014509755115, -1.6377984012684994, 0.6103793478958556, -1.188775304811817, 1.9596255224010168, -1.7893104819450276, 1.0513806821595801, -1.3297397752121591, 2.6322817224415114, -1.573340308488866, 1.7042122279035707, -0.4588817213641151, 1.615120657199805, -1.1951826278696784, 2.0170441014897103, -1.6186379720717452, 1.0940084632362426, -1.2493736260399004, 1.8826907238112438, -0.5643092091058349, 2.550700780220217, -1.245742459783594, 3.4689324042947183, -1.866678159778939, 2.3606154218097064, 2.720321826368739, -1.0006125827748698, 1.944573641419264, 0.5378318498890902, 1.11995010014905, -1.4008423500442688, 2.4917302960403958, 1.490786568189902, -0.1693998413805107, -0.7849263773862821, -0.07402896432660773, 0.6351074291334866, 0.7382850534572843, 1.662377321824091, 1.1887103026347818, 0.8886958779357083, 0.6013925004061337, 1.2699805457509603, -0.49760458332840524, -1.248288057057089, 1.253631407132344, 1.330251876153664, -1.0085996211367279, -0.7936177119138643, 1.1637327634663261, -0.9998898353464242, 1.3739465708936003, -0.22799261848882263, -0.9843960080086341, -0.6972926173643269, 1.3306781071342912, -1.709243470885838, -1.2640617899202282, -0.9683242638031436, -1.9192753285530118, -1.3604734892526884, -0.5892561760960597, 0.8473659984083262, -1.1220774308538748, -0.7871499616728641, -0.7129038789368446, -0.7296620349234765, -2.5274003357397827, 0.48996290267644876, 1.523606756255779, -1.859942507602892, 1.0072807787837958, -1.4738932186043152, 1.8292559998165847, -0.18616018357538908, -0.9762205437032825, -2.287704790388006, -2.5980735608993646, 2.1269031627821895, 0.9967758749340709, -2.5980735608993646, -0.16734837071852984, 0.022246916573536862, 1.6326905351477812, 1.65823266717905, 0.3480350000735972, -0.6750614942350404, 1.2693296621516736, 2.2551201836708077, 0.6856135275369529, 0.22909469195595814, 1.0924483101788511, 0.3213267510445926, 0.24553590844415102, -0.3888639210115938, 0.2811439813911866, 2.287934744551572, -0.8046796182321644, -0.19275509550096223, 1.67006087821022, 0.6656566937537798, 1.7099103396557054, 0.7841899832137975, -0.09403853164428806, 2.239860274284824, 0.6633290593732194, 0.46021739159146885, 0.5302101298105739, 0.7111690281356307, -0.8485535995248037, -2.648991395863812, -2.5484347629936113, -1.7407882856113592, -0.6022236776165402, -0.8797293588088545, -2.1080650115621387, -2.000174297367861, -2.352232769723815, -1.6823792236153154, 0.40291815838623524, -0.5079922387147012, 0.502075883980795, -0.9062058852328984, -0.30404676686862264, 0.4206354515400937, -0.6827089586136145, -0.8060969284566181, -1.500343534889308, 0.7609201916352204, 0.44787103872007006, -0.8952334839936156, -2.153342139130732, -1.4022393897538783, 0.36127427369998927, -0.6357714980321743, 0.8840641607730878, -0.393962524895535, -0.22856098257182306, 0.009874223374375941, -1.2814483484005839, 1.3653112924725788, -0.8382198910972265, -0.5788150943976568, 1.2728379207009035, 0.29224732466391756, 1.27687760948243, 0.35717018516802906, -1.1858434927941852, -0.637845878176814, 0.09184431702416482, 0.661085663831908, -1.1653023697563254, -1.1137000511925252, -1.8022727439645927, 1.7820071784352594, 0.26324282845821156, 0.2853369702235179, 1.8753044193350008, -1.31704075656656, 0.17940939190830216, -2.125080257444438, 1.8189668663136465, 0.7420946930970111, -0.3275906436823767, 0.7782100232046101, -2.0325221937126523, -0.9573877950251374, -0.5307891688448946, 0.24234889198890533, 0.531503781991601, 1.1841772608756809, -1.9578862010169413, -0.24746428026989217, -1.1871686215685557, -1.6672135915637458, -0.5612635025521462, -2.020544559949571, 0.6379797144830073, -1.4297999632317406, -2.559976331984028, -1.854982263564276, -1.0965620059308367, -0.8149344894713137, 1.2730481271050023, -0.09989401794790316, 2.022918410541262, -0.2162237129908239, 2.1394698763932096, -1.8465636258899187, 1.2812197723310277, -2.1625061830231807, 2.1808485240675033, -0.14579854942912474, -1.4956592791258259, 1.0202812157315344, 1.3353120799000722, -0.8268360045367805, -1.474945413091572, 0.8756616552909563, 0.941044844871373, -1.2241297496779722, -0.12015896926255357, 0.11035092084598609, -0.9496717776315992, -0.9059094723816536, 0.7727844030915431, -0.22024075964455547, -1.4472073175908504, -0.127045438266301, -1.2212999691663327, 1.7789160876048367, 1.2902495914579466, -1.1772681794338216, -0.2566601471891403, -2.034530788611019, -1.1533328354201142, -1.0376194485310393, -0.7385989818912723, 0.7615280733268655, -2.007742627080458, -2.6606220626961488, -2.683959233522499, -2.2671938755229855, -2.884104595732035, -2.457033629370219, -3.242822429684494, -2.08076671187527, 1.7789160876048367, 1.2902495914579466, -1.9625087585170493, 0.2397472998048279, -0.44363450533294513, 0.3784257927039974, -0.9829696253954608, 0.14547641379877466, -0.703387807728098, -0.3920280618846344, -1.4900618237507675, -0.728172177347497, -0.6408105366168125, 1.630052255789644, -0.6408105366168125, -0.7777555927516004, 1.1508034348431557, 0.8350471440944824, -0.653140752475037, 0.5037469594387256, 0.33249470392922914, -0.5509279302170866, -1.2031308989660192, -1.8828277778253997, -1.428295677100208, -0.2051445022443115, 1.4827376768277465, -1.3265954941004652, -0.38558109641895233, -1.7107983687380384, -0.9219692055651127, -0.6551321048655585, -0.29979806569482453, -0.34360827375715763, -1.9776696706084274, -1.5640120850018107, -1.3841914732714478, -1.0929722304830831, -1.2142318071137996, -1.4285862625521482, -1.367932871524462, 0.6513545471874264, -0.4019529761008151, 0.8309308276623586, -1.0890796323205802, -1.4042850002936011, -1.3477014425973124, -0.9646551477017887, -1.6034597383755116, 0.041018905830353926, -2.000629166301337, 1.6072608668301587, -0.5687272058572814, -1.2754763758755043, 0.1459435873050182, -1.5882963022846424, -0.04477818146255727, -0.24896202948905208, -0.6457755385049442, -0.011191027858331414, 3.4773887968126216, -1.3071690910773266, -1.150761663341237, -0.040391935751172794, 2.0733873098494664, 0.6546758875023416, 2.8095024084880733, -0.16544056531996326, 0.284260847887701, 1.7678356303368776, -1.9288028459865487, -0.019245253978309996, 3.92520138909793, -1.089424888299255, 0.7889016733161922, 1.9051616592149205, 3.4519748252001268, -0.525369088187688, -0.5202132362720144, 0.48624148837544784, -0.06772763627486425, -0.9131190679321055, -0.8699010081996408, -0.5527898242591571, -0.5253071205523813, -3.0400824308379524, -0.9827168735522618, -1.9909248047607917, -0.2793813493053887, -1.680661240585258, -2.4645189531933034, -0.7425917647203586, -0.5324545146341844, 0.39133795988922254, -0.41080594118337194, -1.9266322915541112, -0.7231200390469311, -1.3034550613955977, -0.8467697019325491, -2.2451222212814295, -0.6120255739237497, -2.0319411003369963, 2.071476597330831, -1.306830985707823, 2.071476597330831, 2.071476597330831, -1.1467570566391985, -1.3329903748923677, -2.701997483012235, -1.8100585412680152, 2.086926321019531, -1.7559645590124429, 2.620175604088641, -1.7968073854865154, 0.7667937023377436, -0.23509749273697747, 0.88653475444943, -1.7108780699291197, 1.6960339109846554, -1.21816915243744, 1.1967227313904356, -1.1970048249809406, -0.5808446791754118, -0.6718678719637308, 2.9258182420069225, -1.4516080574795567, 2.064228680950107, -1.4342886446319463, 2.278771132883308, -1.0131481174193595, 1.8941992963153447, -1.546405928963222, 1.7137982448451416, -0.3916950694149753, -2.167840419389093, -0.03271203858933392, -1.748763816292809, 0.8941110134736424, 2.465034995381665, 1.1769472081362888, 0.22717766641358708, 2.113526444226207, 1.8374962760405857, 1.5401304739398836, 0.6564582488580826, -0.4085167891555835, 0.128208638583393, 0.44078507035106107, 0.27215418552592463, 1.9224271444470484, 0.9663540915127985, 0.5179787730102715, 2.4424827969184877, 0.8385515300195123, 1.8305940404223642, 1.9182569024197678, -1.8753779410323623, 2.6497561391953286, -1.7096154087630788, 1.10373003990535, -1.9916028621359567, 0.3266361716271504, -1.509924319996529, 2.243932321210522, -1.6408136771453967, 0.06244490784484708, 0.7826925919354961, -1.7580617150663465, 3.6450469889107904, -1.725435368581398, 0.8484006307171466, -1.6778175679371559, 2.168521406690163, 0.560623339454621, 1.7161892468101185, -1.6746166520046055, 1.8765365549196764, -2.0363853007201445, -0.2988154613699213, -1.7901046268982832, 2.419164496755376, -2.514932955383069, 2.9447925190266617, 2.9972814017245346, 3.527950548086319, 1.7154044490061413, 2.2913092182288244, 1.5177688406773784, 2.092642446829903, 0.9251742522196837, 3.520544284598294, 2.3417662023293575, 3.2241991596748836, 0.44629767547173976, 0.11213938619009327, 1.030593903211122, 1.583541904003272, 2.0577667553445296, 1.2301894721181788, -1.0857504084523073, 2.0714087554542933, 1.4460755074507305, 0.430611933027683, 1.8264427645235124, 1.5468578858208992, -1.4217123915915835, 2.049451502610182, 0.9165463992946496, 0.5574919071144088, 0.011523042710019964, -0.12072735500094683, 1.114998934657002, -0.9683869668219554, 1.9559840934009336, 0.3957061126781942, 1.907360429848998, -1.4270731956581078, 1.1239225305049594, -1.593610832540873, 1.0446971098051054, -1.4436883572418213, 1.9933623746904958, -1.9295296953244505, 1.2379128204192322, -1.0866391486542861, 2.4457175620443246, -0.7858849396397078, 0.5335590675631351, 1.1946566928872124, -0.8179796444973035, 1.1925496584218482, -1.3645077272242494, -0.2604979381558051, 2.974940538110021, -2.085527269710493, 0.10534349646021933, -1.415564213068772, 1.1988981491088886, -2.2113363115864098, 2.1049645962230175, -1.3791408427948508, 2.5219952269077517, 2.401124951668189, -1.2669190361846336, 1.3214588390332416, -2.3525124497674965, 2.431090277645245, -1.5363596171823435, 1.1262966629512696, -1.2404208284746376, 1.2439392334053778, 0.5870172181209437, 0.09121002776001942, 1.7124599591409018, 0.562013290763708, -0.1340391128586449, 1.8391621227940111, 1.7730150086630823, -0.8033283671776215, 0.9616725238856192, -1.1155479095980294, 1.9555689561656904, -2.082684362921659, 0.8531356061953742, -2.124561764799225, 2.449303924294442, -1.6209474219457003, 2.680097463465957, -1.6047913264056006, 2.8720058202808896, -1.8481675990450264, 1.0959454350716107, -1.6765405876550163, 1.8364477388137899, 1.7757034556428521, -1.1680391078707915, 1.7331554122488053, -1.893395682392484, -0.13696460939481703, -1.5359675302180686, 1.0088026031419104, -0.9041702525882592, 4.597778376110358, -1.3451602596125873, 3.1775436077875234, -1.2197407756687433, 0.4970386413475346, -1.8604868679685773, 1.1497883023520217, -2.188701344254995, 1.0005747347831369, -1.9979434522439152, 2.0708385903877624, -1.9504929445283399, -2.5980735608993646, 2.1269031627821895, 0.9967758749340709, -2.5980735608993646, -0.16734837071852984, 0.022246916573536862, 1.6326905351477812, 1.65823266717905, 0.3480350000735972, -0.6750614942350404, 1.2693296621516736, 2.2551201836708077, 0.6856135275369529, 0.22909469195595814, 1.0924483101788511, 0.3213267510445926, 0.24553590844415102, -0.3888639210115938, 0.2811439813911866, 2.287934744551572, -0.8046796182321644, -0.19275509550096223, 1.67006087821022, 0.6656566937537798, 1.7099103396557054, 0.7841899832137975, -0.09403853164428806, 2.239860274284824, 0.6633290593732194, 0.46021739159146885, 0.5302101298105739, 0.7111690281356307, -0.8485535995248037, -2.648991395863812, -2.5484347629936113, 1.2000425572632571, -1.019742367085488, 1.3295084208170258, -0.892827493435243, -0.5539037513784718, -0.2624136391419246, -0.41436774393497255, 0.3074138644849036, -0.9742526510642172, -0.10873681667249246, 2.9970495145834146, -0.670224358657894, 0.0705116395056942, -1.8286485675548532, -0.1208167334772919, -2.1558980064044415, -1.5034442402463382, -1.830286251054128, -0.43946234759857283, 2.866996837437951, -0.8726124226717545, -1.7213018984440855, -1.298119729744355, -1.304303106358251, -2.166791899613658, -2.709095462311112, -1.304303106358251, 0.3402925152281215, -1.3721752902306252, -1.4621549553609234, -0.6647154401297893, -0.1556304078832842, 0.36587213198765844, -1.2428922822479427, 1.5383453554709414, -0.7617449540834048, -0.8249389773564877, 0.3601774822919917, -1.3422006399103825, -0.1882204515791887, 0.7854224037885263, 0.20136382519296597, -0.22288929506563732, 0.010777654812242205, 0.5475236112088402, 0.505083290055654, 0.16600603827466068, 0.5795953026954597, 0.5465858921749353, 0.5400906297699458, -0.5444238755858424, -1.1644633388626227, 0.5099847028984231, -1.2980497766311385, -2.1625061830231807, -1.4956592791258259, -0.8149344894713137, -1.24636345161814, -0.9496717776315992, -0.8268360045367805, -1.474945413091572, -1.4472073175908504, -1.2212999691663327, -1.1772681794338216, -2.418679691736231, -1.08520846134454, -1.31704075656656, -1.9231158831573059, -1.9981618203103537, -0.5612635025521462, -2.853589019233779, -1.4297999632317406, -1.0965620059308367, -2.302824056893571, -1.2353743474958372, -2.4294563634101047, -1.8328960851605638, -2.4207337318827915, -2.1131104648626504, -2.9217020602551864, -1.2241297496779722, -1.6907520500891193, -1.1533328354201142, -1.0376194485310393, -0.7385989818912723, -1.1871686215685557, -2.10096755408736, -1.6672135915637458, -0.9573877950251374, -0.5971854194784535, -0.34116532574360126, 0.5883059715647766, -0.8090843268771072, 0.1646681710513566, -0.4240465778255461, -0.043133369681403196, -0.7039140086617643, -0.10373588674937247, 0.13199962514678076, 0.4891617479226101, 0.014419596789312077, 0.25168720666095146, 1.136453373669651, -0.41652166039490185, -1.0451069337694465, -2.173917070618177, -2.5321523544480877, -2.1881711584329855, -2.5606280184874066, -2.4522368629393694, 1.2866386821676041, -1.913281742985174, 0.871151751065933, 1.0202812157315344, 1.3353120799000722, -2.729480365454738, -2.2253275531836225, -1.8470839260006529, -2.635206854965127, -2.7164892784150187, -1.4399228065128373, -2.1453894790081653, -2.0181119255278968, -2.7012247461952796, -2.0405284960468584, -2.1105448401943994, -0.7777555927516004, 1.1508034348431557, 0.8350471440944824, -0.32022598765968585, -0.05758273804909605, 0.8274379745907257, -0.5299986993919052, 0.4721643009151479, -0.24268940051358323, -1.0551502623505478, -0.7711690371936445, 0.8283470673972424, -0.3086065897638907, 1.0517272162908282, 1.281989733758074, 1.4403302785126562, -0.6717482795659446, 0.3464508924232908, -0.8665979150612917, -0.40696570728752923, -0.8311795937823232, -0.21213960315871433, -0.5870720843429845, -0.8052892125242167, -0.5058599218408344, 0.22845166619251486, -2.1914214276570823, -1.523776783570707, -2.039401396846761, -0.8099272996823601, 0.09322934357004213, 0.05678908190506953, -0.7124676105161748, -0.8301315272808025, 0.14549395832419934, -0.22412769985497782, -0.6094538664527872, -0.020875061467235383, 0.21699270505594606, 0.1641876714644124, -0.9931175144019366, 0.01813534634501793, -0.15187612364736539, -1.204783202691685, -0.5138474371593545, 3.69885713040868, 2.119455951337733, 0.20401739134302685, -1.2949770600194874, -2.1022010285357697, -0.055357943844114944, 0.4751038038104453, -1.132587062247433, 0.3287976838120892, -0.5327477427498485, -0.9103194366100444, -0.7713082580406131, -0.8568539851208963, 0.40228307412790915, -1.1769532495926578, 3.4519748252001268, 0.7604623405004245, -2.007963278255395, -0.525369088187688, -2.7225115115669034, -0.60026270613623, -1.2866166749987664, -2.1420322642598557, -1.9897883672690377, -2.2767618940769605, -1.374406821865712, -2.357641408565697, -1.869118517333626, -0.7985110750184597, -1.653729789664542, -1.8854427911970841, -1.2568917314867871, -1.3342746356784863, -1.0436824051657376, -0.8864294090783599, -1.504799626870805, -0.6830797233257508, -0.7288323250206818, 1.6259782053232863, -0.9454706708403504, 0.2122106609049089, -1.8824146984940446, -1.1817074761146729, -0.6470114722710268, -1.1834559503767352, -0.9129125955316997, -0.22130427331574007, -2.7354794250689034, -1.814084201597643, 0.3915843280551343, -0.26715742666634457, 0.49725627178273263, -1.687817904264293, 0.5397973162346319, -0.6120349308752151, -2.7240325073971214, -1.5457844948672401, 0.6698675844823195, -1.961198395034502, 2.446129003059363, -1.8492397139339407, -0.26501694002449444, -1.5827088019076507, -1.2870143673195116, -1.2496056433157314, -0.564802417715557, -2.0144265663496905, -0.7905077793625619, -2.869174532991469, 1.650910455020181, 1.9610981496751339, -1.1949426972549133, -0.29022320986298444, 0.2636425688410432, 0.6749935126412272, -2.4246086127924515, 2.8153260526375057, 1.2275703626557521, 3.0991021773807885, 2.519459397340643, 0.7567814326816664, -0.05462593964205608, 1.9090153870510627, -2.3455243406145763, 0.19562629567955478, -1.1349926139836466, 2.1026866567306994, 1.773405140609012, -0.33158167234931374, 1.3790339359986934, -0.5986715391020634, 0.6138573371817265, -1.9475695080663522, -0.21571322508052926, -1.6554503949088757, 3.0663908599716807, 2.0194545333623912, 1.8083856436994166, -1.4960959043011028, 1.5914522368845712, -0.23813378351450723, -1.924884512525712, 3.203632571581834, -1.5961552906753353, 4.175556256961792, 1.9564891037992624, 3.1963405220565897, -2.1435978226356553, 2.1012831433783647, -1.2418868322425478, 2.1986794654586843, -0.012017108048165618, 0.28712757085921975, 1.9101109048844724, 3.1916106312776367, 2.420266733868482, -2.18319160184807, 3.692860822958229, -1.69341459099207, 0.2613834595351774, -2.1657550544730104, 3.238570062484627, 0.8601819142700295, 1.6668244150685063, -1.8013888825768372, 3.2148835585400035, -0.24381985251315755, 0.17959767628645334, -1.796204739401616, 2.3827599484606563, -1.2705729710020426, 1.725561354725302, 0.3127117830074913, 2.2937590701996484, -1.0126557569853556, 1.6465859758990666, -1.690123967651081, 2.7121612755166438, -1.6570621652653252, 0.7871123119930269, -1.7411413420987665, 2.152681207857819, -2.095392000405154, 0.46388410628384597, -2.1889968856472084, 1.0035439700105757, -1.2342819043755455, 2.523151003638088, -1.9475733226643466, -0.09599090357233482, -2.529928633465324, 2.976420365903607, -1.9676224474363966, 2.6833507366455778, -1.9265173621285232, 1.1800198620094076, -0.5972948512147097, -0.59727330680666, -1.5350241233933068, -0.6904416717420484, -1.9817159639775992, 2.60430557255723, -1.8635576365946358, 2.5732393369406266, -1.448110615931145, 0.1708363843758554, -2.1211101327169484, 2.5890977962674695, -1.9502503503516149, 2.5442973330885166, -0.16925312691513825, 1.932791451676692, 2.61226564392374, -2.010091893166946, 0.0070803254656632226, 0.6051348981959211, 1.6114103321761146, 3.5112312214983716, 0.4917580627217768, 2.265688249953328, 0.715985652508989, 2.22557973307008, 1.5565933705213737, -1.6935244489853714, 2.5882634410194614, 1.9881199064590171, 3.2826364669116757, 1.8971819361093898, 1.828309650603223, 1.0864574472272188, -1.1297073284698096, 0.5095928723070904, -1.415365456240837, 1.181328334361499, -2.0792198680898033, 4.026139340530426, 0.19485015265851957, -0.1906610311492189, 1.9265271208506674, -1.1267335602143742, 2.08913888253351, -2.0592937161497513, 2.173271233923343, -1.9058458258283177, 0.3617807046045031, -2.4356979986072402, 1.8340346460723893, -1.939573240734721, 4.746224977018494, -2.642864695943278, 2.7484850388479796, -1.3035890952194322, 2.8847930820014565, 1.5288601572175373, 3.1162710804608973, 0.9176427752277055, 1.3997541134105425, 2.4547996451369056, 1.5150491512071271, 3.1738080542244305, -1.2188199587280455, 3.6837275176694737, -2.073133434852944, 0.40588790749511233, -1.8183276933143577, 0.682084845571429, -2.4277061701971308, 1.0795131704849545, -1.3521616954332705, 1.7853478447643578, -1.959118672250531, 2.271185230570547, -2.079558724223536, 2.271085541906187, -1.9807985207464682, 0.4137776189353077, -1.6955526874604026, 2.2526018655579, -2.0057921626867956, -0.2907965250495577, -2.1926609399789903, 2.9970495145834146, -0.670224358657894, 0.0705116395056942, -1.8286485675548532, -0.1208167334772919, -2.1558980064044415, -1.5034442402463382, -1.830286251054128, -0.43946234759857283, 2.866996837437951, -0.8726124226717545, -1.7213018984440855, -1.298119729744355, -1.304303106358251, -2.166791899613658, -2.709095462311112, -1.304303106358251, 0.3402925152281215, -1.3721752902306252, -1.4621549553609234, -0.6647154401297893, -0.1556304078832842, 0.36587213198765844, -1.2428922822479427, 1.5383453554709414, -0.7617449540834048, -0.8249389773564877, 0.3601774822919917, -1.3422006399103825, -0.1882204515791887, -1.2459098774030535, -1.4527787860311487, -0.022758666509943976, -0.022758666509943976, -0.5903405511003859, -0.19707776313138267, -2.3610164593214993, -1.3688527718795775, -1.1434462370270433, -0.4521899479782672, -0.9996856809739291, -0.9600524847767111, -0.1556304078832842, 0.36587213198765844, -1.2428922822479427, 1.5383453554709414, -0.7617449540834048, -0.8249389773564877, 0.3601774822919917, -1.133175541278671, -1.431367612482161, -0.36596538290214364, -0.7866649110195021, 0.17558654193374731, -0.9118141599457421, -1.4549486986634133, 0.904970189531798, -1.6595837370351683, -1.0447098008521984, -1.309444651470343, -1.6739229184734181, -1.0154258205193663, -1.0060889769799248, -0.9920782101120911, -1.6595837370351683, -1.0447098008521984, -1.309444651470343, -0.5554645878129286, -0.5579719747658904, -1.1461859668661267, 0.17761783389554955, -0.4054076081767178, -0.5923299760213365, -1.5923437434447536, -1.093707381808692, -0.9674388646913687, 0.03809744468296831, -1.093707381808692, -0.9674388646913687, 0.5612481585230759, 1.44612585582383, -0.7949243208757237, 0.5387536165210977, -0.7554492279450497, -0.7607824535458337, -0.7704195329791069, 0.6344684442549658, -1.0886244249434176, -0.52585666309141, -0.7023522875644197, 0.5612481585230759, -1.5811576303965298, -0.6501347367174629, 0.07304659102744164, -0.9667744638562873, -0.3404182583234025, 1.44612585582383, -0.7949243208757237, -1.4455776635947355, -0.09430915619042654, 0.3111338023415854, -0.682527631479058, 0.22697278912417382, -0.48665368926434616, -0.5063417684976823, -2.0552331325115256, -1.4828480448804124, -0.6885385630957129, -1.6362269027819256, -2.3353287497316013, -0.46110929378261417, -1.7578980681724317, -0.7333857230262947, 0.5961496224175822, -0.2262083707250607, 0.2543229395736055, -1.6997110233756956, -1.1539090534397092, -1.0397058315862429, 0.1539425633290378, -0.404565391112906, -1.1072473449748894, -0.20548405095348143, -0.1328950472114234, 0.4495582765841339, -0.6270009682341631, -1.394718895413671, 0.7799822777323029, -1.1078958635653406, -0.5658100984158576, 0.23041955568932465, -0.31355117198440063, -0.8279657416129648, 0.09558874787515259, -1.6369367470317568, -0.9181637790358943, -0.6689655740249034, -0.7774124195622616, -2.031801706295094, -0.5163957251186476, -0.3676130241327647, 0.6131524388902886, 0.1626747272353182, -0.434741971329688, 0.1445190157202412, 0.982877496106936, 0.9040181415948544, -1.3319708270999449, 0.46316278283891926, -0.4642978013061655, -0.7782781030915203, -0.9252460634821921, -1.6762636873514023, -0.3075624571327701, -0.22340637911586755, -0.4222367594343362, -0.7925014174582159, 0.39447645455019187, 0.7523168967381194, -1.1493604853128805, -0.2227483492440569, 0.5711931097775655, 0.0037154100025355136, -0.9118981769650083, -0.41337762275823264, 0.3339516147515854, -0.08452907794272066, 0.22617536951557485, 0.02368215116147977, 0.4482494020680289, -0.05723535783104054, 0.7797008007165944, -0.490751812070555, -2.762497026082836, -2.4245110786440454, 0.7727844030915431, -2.4245110786440454, 0.6379797144830073, -1.166544770012615, -1.0775456790265292, -0.5342932200919971, -0.49751696692918884, -1.018100853802486, -1.7672394452017333, -0.23537144480119332, -2.662297779190919, -2.0493484979899614, -0.1809566216400272, -1.5819012544372586, 1.8753044193350008, -0.8324209857058816, -1.849147912925024, 0.17940939190830216, 1.8189668663136465, -1.9780628873994601, -2.5350737298624546, 0.11035092084598609, 0.11035092084598609, 0.531503781991601, 2.022918410541262, -0.2162237129908239, -2.5232898598062947, -2.6602413331496417, 0.7420946930970111, 0.7782100232046101, 2.1808485240675033, -2.294234118887277, 0.8756616552909563, -1.807276003830226, -1.5860111360948936, -1.730225911530063, -2.0090726132002534, 0.6187416702801691, -0.6391043540047422, -1.1386905222504786, 0.06782790157129348, -0.06646932340477428, 0.19957965689145873, -1.1868326752512597, 0.687814267937212, -0.45127035488217077, 1.021947246982545, -1.3041413392070083, 0.3532415361062878, 1.0529591945729726, -0.3200238924298226, -1.5229034965890216, -0.15990603281727475, -0.6720341900302663, -1.0800538124890249, 0.906525764302953, 0.05076247170157314, 0.18168274584757804, 0.6550431451279187, -1.6456370941804646, -0.3353884713865095, -0.2543976213141974, 0.0991264422381703, -0.722314913947713, -0.08485622406455068, 0.08616084589162097, -1.235120004750304, -2.1396285896404654, -0.6962321421683358, -2.009301754190062, -0.545798213974197, -1.2885144453555872, -0.18427134829926914, 0.1244762892114707, -1.2949770600194874, 0.2819288658634854, 0.2788140965770958, 0.8803688558248898, 0.3484605110424089, -1.4984559964036717, 0.8700640562292278, -1.873513308268836, -1.3807421910905462, -0.7991026881790325, 1.8923415525071585, 0.6459261534137074, -0.6805960065839243, 1.8370812728452721, -1.0173034755605683, 1.7669684429272794, 2.052207205444071, 0.6634548130176747, 0.39203252241418596, -1.4501649282401277, 0.8055563490613611, 2.102621499248711, -1.4988080404950703, 0.7756251871647232, 2.274558816375215, 2.0317930002381557, 0.7701568557273648, 3.196390319642672, 0.5784685296680386, -1.1877700543496277, 1.7172008931152276, 3.6129708338561524, -2.2431098488570838, 2.093217078141145, 1.7547939299866004, 0.07387039656073992, 2.296224552021872, 0.942956268513654, -2.224074426910037, 0.9822345533480763, -1.697701335958197, 1.5730129279956684, -1.7220076547460357, 2.562597047411882, -0.6551912923702363, 2.2519804104010843, 1.0373199742949757, 2.2856544414277233, -1.345878161825016, 1.699689204524176, -1.66630667446438, 3.266653596668915, -2.1829738316512786, 1.3244681949827035, -1.7035237278787345, 3.433699904431124, -2.3910897773032245, 1.947841036206639, 2.3557632131825126, -2.335023952848813, 0.8772661229388632, 0.8143500852419129, 2.3177503731187414, -1.096196550042713, 2.744899466077717, -1.257534152820178, 2.5238896947409586, 0.561643993042683, -1.4360682430348224, 1.605345248390568, -1.2832480568725817, 2.3489804862612624, -2.658853384987626, 1.6264133216348287, -2.100895269316016, 1.9544230677992616, -1.1252177850727003, 2.2479413141347577, 1.5252336102809263, 1.8685694294401929, 0.063190457379935, 0.13563838672147668, 2.209305469410322, 0.8055494483547613, 3.125231277234731, 3.5164454770782543, 2.534132655565486, -1.9072421880890225, 1.0661374947558564, 0.4814983666700563, -2.151566821457591, 1.7695049959675992, -1.765516337820933, 2.158529980789235, 1.8968217866119208, 1.964253492611726, -0.021199094182103372, 1.7042520778872194, -2.516341728146573, 1.1422040544666943, 0.34543195384499936, 3.0519004910120477, -1.5579220875219226, 2.5296916785849897, -2.00861622407272, 2.2549321594105805, -2.1190074067167064, 1.176740393589365, -2.035204708544188, 2.627837581756, -1.7962001229948268, 1.9939430793480664, -1.5665188143908348, 1.6416617512620713, 2.1275623289049395, 1.9078668176675264, -0.36458849451266717, 0.016198899699475695, 0.2116635706758431, 0.5022273045736989, -1.5769532951258043, 0.5065954435386789, -1.8734872417839776, 0.7023969067563781, -1.9199911556329867, 0.6989009241675249, -1.459642636785848, 2.874320189656314, -2.3001674576262645, 1.424469209742104, -0.9299751543688751, 2.707593696706853, -1.9582907678763979, 1.3310873125654916, 1.3336414830155923, 1.351661672493961, 0.38206386307738555, 2.692113644873683, 0.05951648354754476, 1.933500077340248, 0.14279906628209257, 0.05341744928364896, 2.2691867519100777, -0.005427541819239436, 0.000917072298018492, 1.5413445187386074, 1.464285667274479, 1.3313614638281324, 1.1409585930110293, -0.22155135158076367, 2.67717385337214, -1.958999605873624, 2.183742095698331, -2.183281584050696, 0.9134847094764836, 1.5922003816864736, -0.9920782101120911, -1.6595837370351683, -1.0447098008521984, -1.309444651470343, -0.5554645878129286, -0.5579719747658904, -1.1461859668661267, 0.17761783389554955, -0.4054076081767178, -0.5923299760213365, -1.5923437434447536, -1.093707381808692, -0.9674388646913687, 0.03809744468296831, -1.093707381808692, -0.9674388646913687, 0.5612481585230759, 1.44612585582383, -0.7949243208757237, 0.5387536165210977, -0.7554492279450497, -0.7607824535458337, -0.7704195329791069, 0.6344684442549658, -1.0886244249434176, -0.52585666309141, -0.7023522875644197, 0.5612481585230759, -1.5811576303965298, -0.6501347367174629, 0.07304659102744164, -0.9667744638562873, -0.3404182583234025, 1.44612585582383, -0.7949243208757237, -1.4455776635947355, -0.09430915619042654, 0.3111338023415854, -0.682527631479058, 0.22697278912417382, -0.48665368926434616, -2.009810330667649, -1.9075300294628663, -0.6272461295091065, -0.04243327002097249, -0.6802633961587671, -0.20791064299044762, 1.2780500212160013, 0.3899265094944064, 1.9540602674874077, -0.0012634471248075476, -0.2658279915893308, -0.9029995580536563, -1.0566809695385393, 0.6525357132038618, -0.5499093829704155, -0.8286597628077094, -0.7261457891903684, -1.1236450497975403, -0.7267890938036319, -1.6880116086912096, -1.3041540328224255, -0.6098308206374755, 0.10151224338591193, 0.4103234031748673, -0.14555060587128338, -1.6222764402797252, -0.42783464209470057, 0.10671649609117867, -1.1328313253269544, -1.1409679588437536, -0.6417452244792853, -0.6074234689920821, 0.06894589004580172, -0.6020880252293567, -0.18463151375362305, 0.014065484879562516, -1.7421288955949497, -0.8086285998873353, -1.1254120269533254, -0.2934649974512787, 0.44103603980315964, 0.14862453998198835, -0.4467898877775177, -0.9153812677492242, -1.3643008817682452, -0.2524439740374326, 0.0986819487304605, 1.3192004319238024, 0.16207601224529292, 1.0178220522317125, 0.0314491905749686, 0.2384099590543016, -0.48693598352333733, -1.5727322129698442, 0.698756436606437, -0.8328664294480718, 0.2309794887822339, -0.3384572814434391, 0.496583187431159, 0.6040133366799372, -0.30118839406581943, 0.010241133731276612, 0.09442509926537869, 0.35916285157028305, 0.9583832701377765, -0.26344433806838063, 2.1057475250461675, 1.0062196080335541, -0.26344433806838063, -0.3732887880225396, 0.4867006255739452, -0.26344433806838063, 0.9259058482648701, 0.06407309851521913, -0.04040942151402453, 0.0792454403407443, -0.6857745248441018, -0.11151287689101705, -0.8463385830574496, -0.18425343004645584, -0.845867733300296, -1.0919109244075975, 0.09752424322643252, -1.2432813990191292, 0.18901817986039354, 0.5516040546330863, -1.4662662130672683, -1.687327427042089, -1.0841681601240993, -1.4972693928185992, 1.2152650273501007, -0.3463058135847738, -0.8250260665046476, -0.07210047207866352, -0.9489687046966486, -1.1775991333764766, 0.9772218953739181, -0.8636028222541136, 0.528863308782985, -0.13110867223529696, -1.1528168027377026, 0.0322218727805419, -1.3619870367989337, 1.265021424101405, 1.2596089505487214, -0.7392853589752548, 1.9233726758933363, 1.1589675077319952, 1.0513013041606594, 0.5389815694317376, 0.6686629698008817, 0.4662616338840986, 0.042998019487076045, 0.4690546244590938, 0.14719402311127786, -0.19275577430898835, 1.0621896720761945, 1.595941027368067, 0.41388081044238056, 0.10790993902404257, 1.467609492784264, -0.47991788920813994, 1.4822943303081522, 0.23347519057079377, 0.8508397826530191, 1.0385098215109794, 1.1611075177108037, 1.7073142521350069, -0.5963399538293013, 0.6760720407479802, 0.25902639610918976, 1.112742084713321, 0.7162097627116382, 0.8204225165323037, 0.8520394098264239, 0.3622946207756095, -0.37885609264724057, 0.48943208161617285, 1.5449663829795885, -0.14516075828806094, 1.605171227141775, 0.8348117836593323, 2.0012451189516907, -1.0797715529552074, 0.4418254937263614, 1.0726916289125634, 0.7770620788972034, -0.840152180049189, 0.7357855763878771, -0.8055516960235612, 0.011707903467747532, 1.1008859244597076, 0.3474611086358518, 1.6040334210625662, 0.900431755434226, -0.6351877081143611, -0.7467151404225352, -0.09112086907318868, 1.1067243243817542, -0.6132897953573235, 0.9653056541833075, -0.38063973215721575, -1.7578980681724317, -0.7333857230262947, 0.5961496224175822, -0.5063417684976823, -1.6362269027819256, -2.0552331325115256, -1.4828480448804124, -0.6885385630957129, -0.2262083707250607, -0.46110929378261417, -2.3353287497316013, -1.7777156969955052, -1.3661400509379444, -0.3167316899750193, 0.4214194028078673, -0.24275830263653386, 0.20272355329706737, -0.22558680829768524, -0.36784447734370285, 0.17256506713489886, 1.027367827957567, -0.11611446883278052, -0.34848050913686873, -1.2761620413677401, 0.36647269394449605, -0.7829863580409399, -0.32886318286036403, -0.10610319875408648, -0.6851285560264397, 0.32612663606681114, -0.8134578643181561, -0.9193324189185149, -1.0887674580286693, -1.0514585049830778, 0.05682258641923764, -0.06072856063946321, -0.3457864644626693, 0.941044844871373, 1.2730481271050023, 2.1394698763932096, 1.2812197723310277, -3.0046260702462884, -2.3632044022838294, -2.483938886868734, -2.2714081683174463, 1.1841772608756809, 0.39133795988922254, -0.4680048547505177, -0.5475797199747033, -2.5976808779881155, -2.214533556576711, -0.43384467896169604, -1.9288028459865487, -0.7905077793625619, 0.3287976838120892, -3.0938999471085595, -0.2770196552966039, 0.10770564006420878, -0.5527898242591571, -0.5327477427498485, -0.06772763627486425, -2.249291515377602, -1.952311896499453, -0.10498380082581445, 0.284260847887701, -2.3628301499213102, 0.7889016733161922, -1.991182276069926, -1.0613717706009134, -1.3028738790633352, -0.5104981674241988, -2.140057790644876, -1.1719747959407856, -1.034419117809652, -1.1719747959407856, -1.034419117809652, -1.5594568145994465, 0.42352814741655687, 0.4213688749594044, 0.7105375851383519, -0.31128953320396907, -1.5833766150869502, -1.2478990129855076, -1.923673637630532, -0.747713927701838, -1.0861502830732743, -0.9742526510642172, -0.7654021864687796, 0.654637365042049, 0.4213688749594044, -1.1196433560519008, -0.5307916076555793, 2.062670439726991, -0.17577627705344956, 2.3095005756908016, -1.8638104636117012, 0.19000897880883308, -0.635121471551536, 1.1118117088738175, 0.1841966557803126, -1.919619924942239, -0.700700897754604, 0.8701102084414645, -0.24842010110131962, -1.3460362042002723, 0.7432771277992829, 1.9696995223874392, 4.168298493064889, 2.147891887862001, -2.0369999153090355, 0.9007157316519996, -1.5973168301671392, 1.6862346820960075, -1.6700504364992543, 1.834997211903482, -2.2466992760004443, 2.272040201310367, 0.36945052114122867, 1.2200073439940327, -1.99775963503285, 1.7485901367411372, -1.8634241569325831, 1.5099647349339995, -2.1076977692417307, 2.180801939882385, -1.9782005629765986, 0.5908497266816535, -1.8972330672551894, 1.3437218564714548, -2.0712369375241746, 1.5105007842245894, 2.89504144102224, -2.027027783787698, 1.0846259505236966, -1.975060689404991, 2.233231651346649, -1.1393692231047994, 1.3105056952561802, -1.2766489777765881, 3.103160420096569, -1.582353984622602, 0.7385058645445842, -2.0133649749009237, 1.4301425281891307, 1.2005742538145026, -0.06875792009566171, -2.6738614226554076, 2.7515214861698998, -2.5375423457435105, 0.015406213205818881, 4.975640303082221, 3.05678255344532, 0.4388342687001964, 0.6990845561047289, -1.4611405560968418, 0.8736295661008935, -1.6384981418912306, 3.167450434737804, -0.5006145750747604, 1.989727064466036, -0.7965036581825574, 1.667651650653488, -1.5732102662972156, 2.0202962376355185, -2.053248945021888, 0.6087216700083685, 0.9479215030349459, 0.5785545817582576, 1.5636330418090476, 1.7566128112217723, 1.5872197674245303, 1.7978218286971686, 1.2621491230138642, 2.698392426709144, 0.7294010957418121, 2.533759866423199, 1.7585230752368242, 1.3347757307496992, 0.5454779327065167, -1.8053186844943783, 3.871400827868699, 0.9915301239558135, 2.4631891731460605, -2.0559599908131063, 2.352106462470394, -2.3732718640657335, 0.4587594587109188, 0.23744349928598227, -1.126137076470894, -1.8973306948700883, -2.2722812152516676, 3.1211509044792733, 1.9613657492155163, -2.637129721694243, 0.9271859887555322, 0.5554819504064965, -2.2010179251837307, 1.0691739285904722, 0.9745743046071575, 0.5956765996855583, 0.7632951279149796, 2.0006788403437414, -1.1659495058661826, 1.6530854437399487, -0.5980915714688386, 2.8003235713373416, 2.300195215551584, 0.6528792806410136, -1.756430478878147, 2.6022550219780047, 3.5795271951708467, 3.2004814931689904, 1.5988997577431325, 2.0915808407296224, -0.5402051046278059, 2.7525956591181493, 0.984690339905114, 1.3902432400291165, 1.1779674362015427, 1.3297121498324738, -1.660829629961112, 1.3472624340156998, -0.3350391323820627, 0.8837893548462413, -1.1596518809552299, -0.1137564327024681, 0.1687348361940532, 2.0511975417866233, -0.11875518618534663, -0.3188512159282146, -0.4085325115628367, -0.19155750057555335, -1.598619316398527, 1.8530861566668475, -2.171947870266615, 2.0881731191986597, -2.000168953098201, 2.4273262480218016, -2.593515320529165, -0.02704759952377163, -2.134045468263184, 1.031793489408213, -2.5710636160033657, 2.6020962454946126, -2.777712990795571, 0.6945305571929046, 0.36692104501704376, 0.14324495226614997, 1.087093031166227, 2.5360386904986045, -0.6070968902278927, 2.2360168295040586, -0.2665112143376436, 2.008995602308034, 2.0174926102171007, 2.673803167634958, 2.6996080694155737, 0.41379336281947504, -0.5287275999177161, 1.7649894208767782, 2.511177615801626, 1.5780544720649168, 0.0670315975923831, 2.3366468459423335, -0.311796048784177, 2.093264059326475, -0.6754097039183041, 1.261864171257216, -0.5100504981935345, 2.8288776694636293, -0.589878289378211, 1.452789058991222, 2.2800735836612507, -1.59135115062915, 3.090006125532149, 2.6405062922325047, -0.2071015348082079, -1.2405491874103778, 1.0762053197387202, -1.118071919587871, -0.09430915619042654, 0.3111338023415854, -0.682527631479058, 0.22697278912417382, -0.9569495070038853, 0.21631538272598483, -0.7624051861594289, -1.6473477169022739, -2.2148023775669428, -0.6020880252293567, -0.18463151375362305, 0.014065484879562516, -1.7421288955949497, -0.8086285998873353, -1.1254120269533254, -0.2934649974512787, -0.9569495070038853, 0.21631538272598483, -0.7624051861594289, -1.6473477169022739, -2.2148023775669428, -1.1254120269533254, -0.2934649974512787, -0.3470719083368143, -1.1630345170122727, -1.215356216047611, -0.9313246988736396, -1.9507789897590224, -0.7418599333863228, 1.0023940861422627, -0.6152201702319735, -1.0811679557983784, -0.8748539767976988, -1.6412999892356186, 0.7155953160699943, -1.0811679557983784, -0.604800117781574, -1.3844199911384083, -1.0041056744525536, -0.4107047963200949, -0.8530081025257742, -1.6298959505187371, -0.8663866500823251, -1.352644231676409, -0.8079793769301244, -1.4955838950188771, -2.0311273222412667, 0.8866569476557143, -0.7418599333863228, 1.0023940861422627, -0.6152201702319735, 0.28233692433663965, -0.2377354650336536, -0.07587044257441361, -0.644938324988755, -0.7550367968535067, -0.2377354650336536, -0.07587044257441361, 3.7925094341446406, 0.6055118478679303, 1.1019341690908764, 2.580678682603904, 1.9632129971432393, -1.2184772721001593, -0.9347878441157067, -1.8026560922401806, -1.5879614515934137, 1.4193806426573867, -1.1236450497975403, 2.007656475915677, 2.1476101580252225, -0.7617449540834048, 0.2922225610841176, -0.38654239408150864, -0.06745039524909302, -0.6879355738295347, -0.03435239065164484, 0.19069404371112014, -0.21929538077815464, 2.8067031082456597, 0.2706540189695642, -0.735690925118122, -0.9414169394874213, -0.9159020089439642, -0.682527631479058, -0.03738792091221913, -0.757160195879254, -0.7949243208757237, 2.3668861177334084, -1.1293973483799842, 0.12062277576302272, 1.4350234440107859, -1.1097805872648918, -0.9476058171070276, -0.9279462634104154, 1.6744068538219423, -0.9432844677292497, 0.31233231182562654, -0.16095663659140172, -0.9276362585251677, -0.07793285465830678, -0.7047661146373715, 0.4857353963444022, -0.17848223445389685, -0.6664752272607497, -0.14663330269620817, 0.028302372683825967, -1.5269547796112668, 0.3352897580067872, -0.4461666504006402, -0.6364332268254609, -1.1125295600344567, -0.9813901221782035, 0.09470204517973205, -1.394638409576512, -1.0142492391040563, 0.6767312201179828, -1.0332050883148187, 0.092420101080914, -1.2078189601400005, -0.3581481553307144, -0.30815816878022784, 0.26917368509675854, -0.6188793407475172, -1.7202063917723414, 0.5049673486993961, 0.03645172675906106, -1.1531924034364085, -1.0399514406575814, 0.47936071350749776, 0.06814097300666354, -0.8890774832070227, -0.10099046672684169, -1.4240208510567038, -0.6739475971186648, 0.31204793484864435, -0.006299557196218483, -1.0832522366280795, -0.40546815085804927, -0.5680654230292096, -1.2904041064278888, -1.0333559059407285, 0.1199511275780834, -1.2445218066304702, -0.05427069115326262, -0.13250132600950842, 0.29411261659623356, 0.6631142770547714, -1.7407882856113592, -2.352232769723815, -1.8023554527370012, 0.6654327382055374, 1.694897343676396, 2.0098232338914794, -0.10143526563685804, 1.229488117235926, 1.160893463082863, 0.7605651061795665, 0.6448690948116262, 0.9663602067408116, 1.8193798934722778, 1.117123992890968, 0.15200976605950356, 0.7174806662702266, -0.16650895763862905, 0.5967419048274549, -1.3959982583909647, 0.7998908854218469, 0.7916830442788882, 0.3238745640218079, -0.7055016138306958, -1.08943911533001, -0.40231041775414134, -1.2074730981572004, -1.5557938218748872, -0.20006141211578446, -2.380350251216249, 0.009143958204265461, -0.5640382672442765, -0.6478928056627641, -1.0288079667762353, -1.9614507586731278, -0.9037973176567392, -0.4774005060131251, -1.7715693691498635, -1.2327029423705105, -2.469696224368881, -2.2783379540830007, -1.6346175970000838, -1.3527255110987515, -0.4812046280286931, -0.8050603010616436, 0.06676675252313354, 0.3827789831855707, 0.268470053222282, 0.04708206303592296, -0.47679052103091174, -0.17511928507008478, -0.043605110533417195, -1.2566905032923537, -0.4994603548356728, -0.6686793162232005, -0.4639396476358793, -0.4158283580556268, 3.238416326258018, -1.4893885193073033, -2.130522271434532, -2.3739423870505516, -1.6294186798598325, -1.6160609486440833, -2.189586507598032, -1.8203592895949339, -2.35708095742444, -0.05166330737152366, -2.7002958106077144, -2.06862789780803, -1.6149085857189776, -1.8016499753569508, -1.319487206966129, -1.4205579848625964, -2.4574163524175408, -2.30613223430248, -2.445304796938316, -2.221233018772612, -2.101536491740333, -1.9005911657477907, -1.4856103103570795, -1.3673652513581167, -2.258064702431226, -1.3124523244764932, -2.0947559844477714, -1.7394661751881153, -1.3580853206288361, -1.861122433322747, -0.8850241946490941, -1.9344853391777668, -1.4579066504901068, -1.1229591562172925, -0.8241746748934077, -1.2962398222219313, -1.8945253329809486, -2.0300417991981443, -2.0418902761634223, -1.7499648644004357, -1.2016073246535155, -0.5480847113301169, -2.152660122451675, -1.286909868667921, -1.7339048289533328, -2.199207159843367, -1.9558774984150034, -2.0100455706498965, -2.0021056130495354, -1.882046795910401, -1.5930645330067958, -2.2331772882541285, -0.2415603742352602, -1.23369247188522, -2.636207557627077, -2.6416345558631864, -2.93378119391551, -0.7982366368328708, -1.904627163445354, -2.224060832084202, -1.5603980648134594, 2.052414872728164, 0.8750731386768047, 1.5374566880944285, 0.5476001129597657, 1.386939332181585, 0.37986825138576163, 0.18333716465112143, -1.4161327309592142, 0.44421210053091437, -1.229365540511325, 3.0840567027244585, -1.7308697903980421, 3.236100658957236, -1.8977639839989673, -0.3004946813450956, -2.2288080596254924, 2.1796155003364666, -2.0261600179658212, 3.0070796321858855, -1.2596415393630176, 0.7803135198341112, -1.8882355684893481, 2.3295344275804752, -2.0048173490076353, 1.705240128197722, -1.7715615069723756, 1.6642546332779595, -1.2196959767840705, 2.251889799046421, -2.126913200439214, 2.106768069702407, -2.0530968634012714, 0.8708306924055262, -1.0143473824769227, 1.6414600163716848, -0.043327362418022944, 1.6999430023088011, -1.0422478114602398, -0.04134802867604723, -0.8565219891808687, 2.6650895209262138, 0.11456945511772858, 0.8938815595388264, 2.551322827134876, 0.99756669894955, 0.16722587056150312, 0.8167296490589718, -1.923412991958916, 2.7906264706823225, -0.04538670232141818, -2.3650083399432904, -0.35647531362479423, -2.315313184131507, 1.7036517736075454, 1.853496567008724, -2.467559789144468, 1.027868733694108, -2.3177559850586835, 1.0637265800167475, -2.401877680438353, 0.6094943537386759, -2.181611866919102, 1.248712348973279, 2.9294458299641057, -2.2421723325839364, 1.1252608766610985, -2.8486013190604265, -0.02762481341653556, -2.0367208229571525, 0.2591645095253232, 1.105232984116641, -2.3439874281770314, 2.1697897893517086, -2.3136602324341147, 2.399507313804894, -1.5961048099384265, -0.41010276414682534, -1.1876684060075462, 0.310823972432356, 0.5146833364989458, 0.756003096322525, -1.2981623043773776, 2.2725981658215706, 2.112909327407798, 2.9899746489238064, 0.2314043741327085, 0.3681379538690069, 0.018171660192144185, 1.8106429558889428, 0.4501710820474058, 1.7353550826350075, -1.7037775850893107, 3.3830104009923487, 3.0459668670357654, 0.10610616137340448, 1.5377698194007505, 3.3246454990033323, 3.6489087059550664, -1.8687978178463405, 1.331092173915663, -2.0647634185835324, -0.13045831136778158, -2.2673954776578227, 0.3889808441669301, -2.4634546148822984, 2.135364254467421, -2.2536036850236636, 2.902225196441958, -2.0759371263458335, 0.5782207585755752, -2.208745168095229, 0.8336700193917966, -1.879043727792495, 1.7217089663271696, 0.5306794639725669, 2.043022820805341, 4.2335908837957685, 2.6532892024187205, 2.0396267843210416, 1.680969866246369, 1.4981889858362356, 1.1477907043372995, 3.1955351719059397, -1.652907709847144, 2.477601680802694, 2.529187921765017, 0.8256463631726635, -0.2568614397591729, -2.3845094345765694, 2.028331092043052, -2.0664440385440286, 0.5645214408956615, -1.3934547173184675, 1.1568869127127603, -2.4422349229453433, 0.2670391055483152, -1.086578991165753, 2.55623431102234, -2.0641474328764398, 0.12048116549506008, -2.070397624465769, 3.5576163598894612, -1.3685119459573265, 0.4329989425473207, -2.5487480141074856, 2.1452955233086417, -1.8448339028475085, 2.1460226520450747, -0.8370842421517919, 0.8852548687756983, -1.515000956785703, -0.339142437897179, -1.7289770541116365, 1.2380944315587445, -2.0568702194431006, 0.5772426263794462, -2.020020687114733, 0.7176277903729267, -1.4140372229761362, 0.27700406360755614, -1.9377935764953382, 2.9890344318459254, 3.058992905035832, 1.614240256935403, 1.5345326684099914, -1.427911351370016, 2.5904409727940134, 1.0460380928102269, 0.9136509634880644, 0.9564070922541115, 0.24959499202985058, 2.8293059237871447, 2.4564366766701418, -0.662944336963083, 0.3394785777121838, -0.6022599867756785, 0.35966684480002015, 0.33877144889894634, 2.08080402531244, 0.5088913883754376, 2.2992917977950182, -0.4302871881533749, 0.7155953160699943, -1.0811679557983784, -0.604800117781574, -1.3844199911384083, -1.0041056744525536, -0.4107047963200949, -0.8530081025257742, -1.6298959505187371, -0.8663866500823251, -1.352644231676409, -0.8079793769301244, -1.4955838950188771, -2.0311273222412667, 0.8866569476557143, -0.7418599333863228, 1.0023940861422627, -0.6152201702319735, 0.28233692433663965, -0.2377354650336536, -0.07587044257441361, -0.644938324988755, -0.7550367968535067, -0.2377354650336536, -0.07587044257441361, 3.7925094341446406, 0.6055118478679303, 1.1019341690908764, 2.580678682603904, 1.9632129971432393, -1.2184772721001593, -0.9347878441157067, -1.8026560922401806, -1.5879614515934137, 1.4193806426573867, -1.1236450497975403, 2.007656475915677, 2.1476101580252225, -0.7617449540834048, 0.2922225610841176, -0.38654239408150864, -0.06745039524909302, -0.6879355738295347, -0.03435239065164484, 0.19069404371112014, -0.21929538077815464, 2.8067031082456597, 0.2706540189695642, -0.735690925118122, -0.9414169394874213, -0.9159020089439642, -0.682527631479058, -0.03738792091221913, -0.757160195879254, -0.7949243208757237, 2.3668861177334084, -1.1293973483799842, 0.12062277576302272, 1.4350234440107859, -1.1097805872648918, -0.9476058171070276, -0.9279462634104154, 1.6744068538219423, -0.9432844677292497, 0.31233231182562654, -0.16095663659140172], \"yaxis\": \"y\"}],                        {\"coloraxis\": {\"colorbar\": {\"title\": {\"text\": \"cluster\"}}, \"colorscale\": [[0.0, \"#0d0887\"], [0.1111111111111111, \"#46039f\"], [0.2222222222222222, \"#7201a8\"], [0.3333333333333333, \"#9c179e\"], [0.4444444444444444, \"#bd3786\"], [0.5555555555555556, \"#d8576b\"], [0.6666666666666666, \"#ed7953\"], [0.7777777777777778, \"#fb9f3a\"], [0.8888888888888888, \"#fdca26\"], [1.0, \"#f0f921\"]]}, \"legend\": {\"tracegroupgap\": 0}, \"margin\": {\"t\": 60}, \"template\": {\"data\": {\"bar\": [{\"error_x\": {\"color\": \"#2a3f5f\"}, \"error_y\": {\"color\": \"#2a3f5f\"}, \"marker\": {\"line\": {\"color\": \"#E5ECF6\", \"width\": 0.5}}, \"type\": \"bar\"}], \"barpolar\": [{\"marker\": {\"line\": {\"color\": \"#E5ECF6\", \"width\": 0.5}}, \"type\": \"barpolar\"}], \"carpet\": [{\"aaxis\": {\"endlinecolor\": \"#2a3f5f\", \"gridcolor\": \"white\", \"linecolor\": \"white\", \"minorgridcolor\": \"white\", \"startlinecolor\": \"#2a3f5f\"}, \"baxis\": {\"endlinecolor\": \"#2a3f5f\", \"gridcolor\": \"white\", \"linecolor\": \"white\", \"minorgridcolor\": \"white\", \"startlinecolor\": \"#2a3f5f\"}, \"type\": \"carpet\"}], \"choropleth\": [{\"colorbar\": {\"outlinewidth\": 0, \"ticks\": \"\"}, \"type\": \"choropleth\"}], \"contour\": [{\"colorbar\": {\"outlinewidth\": 0, \"ticks\": \"\"}, \"colorscale\": [[0.0, \"#0d0887\"], [0.1111111111111111, \"#46039f\"], [0.2222222222222222, \"#7201a8\"], [0.3333333333333333, \"#9c179e\"], [0.4444444444444444, \"#bd3786\"], [0.5555555555555556, \"#d8576b\"], [0.6666666666666666, \"#ed7953\"], [0.7777777777777778, \"#fb9f3a\"], [0.8888888888888888, \"#fdca26\"], [1.0, \"#f0f921\"]], \"type\": \"contour\"}], \"contourcarpet\": [{\"colorbar\": {\"outlinewidth\": 0, \"ticks\": \"\"}, \"type\": \"contourcarpet\"}], \"heatmap\": [{\"colorbar\": {\"outlinewidth\": 0, \"ticks\": \"\"}, \"colorscale\": [[0.0, \"#0d0887\"], [0.1111111111111111, \"#46039f\"], [0.2222222222222222, \"#7201a8\"], [0.3333333333333333, \"#9c179e\"], [0.4444444444444444, \"#bd3786\"], [0.5555555555555556, \"#d8576b\"], [0.6666666666666666, \"#ed7953\"], [0.7777777777777778, \"#fb9f3a\"], [0.8888888888888888, \"#fdca26\"], [1.0, \"#f0f921\"]], \"type\": \"heatmap\"}], \"heatmapgl\": [{\"colorbar\": {\"outlinewidth\": 0, \"ticks\": \"\"}, \"colorscale\": [[0.0, \"#0d0887\"], [0.1111111111111111, \"#46039f\"], [0.2222222222222222, \"#7201a8\"], [0.3333333333333333, \"#9c179e\"], [0.4444444444444444, \"#bd3786\"], [0.5555555555555556, \"#d8576b\"], [0.6666666666666666, \"#ed7953\"], [0.7777777777777778, \"#fb9f3a\"], [0.8888888888888888, \"#fdca26\"], [1.0, \"#f0f921\"]], \"type\": \"heatmapgl\"}], \"histogram\": [{\"marker\": {\"colorbar\": {\"outlinewidth\": 0, \"ticks\": \"\"}}, \"type\": \"histogram\"}], \"histogram2d\": [{\"colorbar\": {\"outlinewidth\": 0, \"ticks\": \"\"}, \"colorscale\": [[0.0, \"#0d0887\"], [0.1111111111111111, \"#46039f\"], [0.2222222222222222, \"#7201a8\"], [0.3333333333333333, \"#9c179e\"], [0.4444444444444444, \"#bd3786\"], [0.5555555555555556, \"#d8576b\"], [0.6666666666666666, \"#ed7953\"], [0.7777777777777778, \"#fb9f3a\"], [0.8888888888888888, \"#fdca26\"], [1.0, \"#f0f921\"]], \"type\": \"histogram2d\"}], \"histogram2dcontour\": [{\"colorbar\": {\"outlinewidth\": 0, \"ticks\": \"\"}, \"colorscale\": [[0.0, \"#0d0887\"], [0.1111111111111111, \"#46039f\"], [0.2222222222222222, \"#7201a8\"], [0.3333333333333333, \"#9c179e\"], [0.4444444444444444, \"#bd3786\"], [0.5555555555555556, \"#d8576b\"], [0.6666666666666666, \"#ed7953\"], [0.7777777777777778, \"#fb9f3a\"], [0.8888888888888888, \"#fdca26\"], [1.0, \"#f0f921\"]], \"type\": \"histogram2dcontour\"}], \"mesh3d\": [{\"colorbar\": {\"outlinewidth\": 0, \"ticks\": \"\"}, \"type\": \"mesh3d\"}], \"parcoords\": [{\"line\": {\"colorbar\": {\"outlinewidth\": 0, \"ticks\": \"\"}}, \"type\": \"parcoords\"}], \"pie\": [{\"automargin\": true, \"type\": \"pie\"}], \"scatter\": [{\"marker\": {\"colorbar\": {\"outlinewidth\": 0, \"ticks\": \"\"}}, \"type\": \"scatter\"}], \"scatter3d\": [{\"line\": {\"colorbar\": {\"outlinewidth\": 0, \"ticks\": \"\"}}, \"marker\": {\"colorbar\": {\"outlinewidth\": 0, \"ticks\": \"\"}}, \"type\": \"scatter3d\"}], \"scattercarpet\": [{\"marker\": {\"colorbar\": {\"outlinewidth\": 0, \"ticks\": \"\"}}, \"type\": \"scattercarpet\"}], \"scattergeo\": [{\"marker\": {\"colorbar\": {\"outlinewidth\": 0, \"ticks\": \"\"}}, \"type\": \"scattergeo\"}], \"scattergl\": [{\"marker\": {\"colorbar\": {\"outlinewidth\": 0, \"ticks\": \"\"}}, \"type\": \"scattergl\"}], \"scattermapbox\": [{\"marker\": {\"colorbar\": {\"outlinewidth\": 0, \"ticks\": \"\"}}, \"type\": \"scattermapbox\"}], \"scatterpolar\": [{\"marker\": {\"colorbar\": {\"outlinewidth\": 0, \"ticks\": \"\"}}, \"type\": \"scatterpolar\"}], \"scatterpolargl\": [{\"marker\": {\"colorbar\": {\"outlinewidth\": 0, \"ticks\": \"\"}}, \"type\": \"scatterpolargl\"}], \"scatterternary\": [{\"marker\": {\"colorbar\": {\"outlinewidth\": 0, \"ticks\": \"\"}}, \"type\": \"scatterternary\"}], \"surface\": [{\"colorbar\": {\"outlinewidth\": 0, \"ticks\": \"\"}, \"colorscale\": [[0.0, \"#0d0887\"], [0.1111111111111111, \"#46039f\"], [0.2222222222222222, \"#7201a8\"], [0.3333333333333333, \"#9c179e\"], [0.4444444444444444, \"#bd3786\"], [0.5555555555555556, \"#d8576b\"], [0.6666666666666666, \"#ed7953\"], [0.7777777777777778, \"#fb9f3a\"], [0.8888888888888888, \"#fdca26\"], [1.0, \"#f0f921\"]], \"type\": \"surface\"}], \"table\": [{\"cells\": {\"fill\": {\"color\": \"#EBF0F8\"}, \"line\": {\"color\": \"white\"}}, \"header\": {\"fill\": {\"color\": \"#C8D4E3\"}, \"line\": {\"color\": \"white\"}}, \"type\": \"table\"}]}, \"layout\": {\"annotationdefaults\": {\"arrowcolor\": \"#2a3f5f\", \"arrowhead\": 0, \"arrowwidth\": 1}, \"autotypenumbers\": \"strict\", \"coloraxis\": {\"colorbar\": {\"outlinewidth\": 0, \"ticks\": \"\"}}, \"colorscale\": {\"diverging\": [[0, \"#8e0152\"], [0.1, \"#c51b7d\"], [0.2, \"#de77ae\"], [0.3, \"#f1b6da\"], [0.4, \"#fde0ef\"], [0.5, \"#f7f7f7\"], [0.6, \"#e6f5d0\"], [0.7, \"#b8e186\"], [0.8, \"#7fbc41\"], [0.9, \"#4d9221\"], [1, \"#276419\"]], \"sequential\": [[0.0, \"#0d0887\"], [0.1111111111111111, \"#46039f\"], [0.2222222222222222, \"#7201a8\"], [0.3333333333333333, \"#9c179e\"], [0.4444444444444444, \"#bd3786\"], [0.5555555555555556, \"#d8576b\"], [0.6666666666666666, \"#ed7953\"], [0.7777777777777778, \"#fb9f3a\"], [0.8888888888888888, \"#fdca26\"], [1.0, \"#f0f921\"]], \"sequentialminus\": [[0.0, \"#0d0887\"], [0.1111111111111111, \"#46039f\"], [0.2222222222222222, \"#7201a8\"], [0.3333333333333333, \"#9c179e\"], [0.4444444444444444, \"#bd3786\"], [0.5555555555555556, \"#d8576b\"], [0.6666666666666666, \"#ed7953\"], [0.7777777777777778, \"#fb9f3a\"], [0.8888888888888888, \"#fdca26\"], [1.0, \"#f0f921\"]]}, \"colorway\": [\"#636efa\", \"#EF553B\", \"#00cc96\", \"#ab63fa\", \"#FFA15A\", \"#19d3f3\", \"#FF6692\", \"#B6E880\", \"#FF97FF\", \"#FECB52\"], \"font\": {\"color\": \"#2a3f5f\"}, \"geo\": {\"bgcolor\": \"white\", \"lakecolor\": \"white\", \"landcolor\": \"#E5ECF6\", \"showlakes\": true, \"showland\": true, \"subunitcolor\": \"white\"}, \"hoverlabel\": {\"align\": \"left\"}, \"hovermode\": \"closest\", \"mapbox\": {\"style\": \"light\"}, \"paper_bgcolor\": \"white\", \"plot_bgcolor\": \"#E5ECF6\", \"polar\": {\"angularaxis\": {\"gridcolor\": \"white\", \"linecolor\": \"white\", \"ticks\": \"\"}, \"bgcolor\": \"#E5ECF6\", \"radialaxis\": {\"gridcolor\": \"white\", \"linecolor\": \"white\", \"ticks\": \"\"}}, \"scene\": {\"xaxis\": {\"backgroundcolor\": \"#E5ECF6\", \"gridcolor\": \"white\", \"gridwidth\": 2, \"linecolor\": \"white\", \"showbackground\": true, \"ticks\": \"\", \"zerolinecolor\": \"white\"}, \"yaxis\": {\"backgroundcolor\": \"#E5ECF6\", \"gridcolor\": \"white\", \"gridwidth\": 2, \"linecolor\": \"white\", \"showbackground\": true, \"ticks\": \"\", \"zerolinecolor\": \"white\"}, \"zaxis\": {\"backgroundcolor\": \"#E5ECF6\", \"gridcolor\": \"white\", \"gridwidth\": 2, \"linecolor\": \"white\", \"showbackground\": true, \"ticks\": \"\", \"zerolinecolor\": \"white\"}}, \"shapedefaults\": {\"line\": {\"color\": \"#2a3f5f\"}}, \"ternary\": {\"aaxis\": {\"gridcolor\": \"white\", \"linecolor\": \"white\", \"ticks\": \"\"}, \"baxis\": {\"gridcolor\": \"white\", \"linecolor\": \"white\", \"ticks\": \"\"}, \"bgcolor\": \"#E5ECF6\", \"caxis\": {\"gridcolor\": \"white\", \"linecolor\": \"white\", \"ticks\": \"\"}}, \"title\": {\"x\": 0.05}, \"xaxis\": {\"automargin\": true, \"gridcolor\": \"white\", \"linecolor\": \"white\", \"ticks\": \"\", \"title\": {\"standoff\": 15}, \"zerolinecolor\": \"white\", \"zerolinewidth\": 2}, \"yaxis\": {\"automargin\": true, \"gridcolor\": \"white\", \"linecolor\": \"white\", \"ticks\": \"\", \"title\": {\"standoff\": 15}, \"zerolinecolor\": \"white\", \"zerolinewidth\": 2}}}, \"xaxis\": {\"anchor\": \"y\", \"domain\": [0.0, 1.0], \"title\": {\"text\": \"x\"}}, \"yaxis\": {\"anchor\": \"x\", \"domain\": [0.0, 1.0], \"title\": {\"text\": \"y\"}}},                        {\"responsive\": true}                    ).then(function(){\n",
       "                            \n",
       "var gd = document.getElementById('2489e69f-f278-4f7c-a14d-7f7a9e395978');\n",
       "var x = new MutationObserver(function (mutations, observer) {{\n",
       "        var display = window.getComputedStyle(gd).display;\n",
       "        if (!display || display === 'none') {{\n",
       "            console.log([gd, 'removed!']);\n",
       "            Plotly.purge(gd);\n",
       "            observer.disconnect();\n",
       "        }}\n",
       "}});\n",
       "\n",
       "// Listen for the removal of the full notebook cells\n",
       "var notebookContainer = gd.closest('#notebook-container');\n",
       "if (notebookContainer) {{\n",
       "    x.observe(notebookContainer, {childList: true});\n",
       "}}\n",
       "\n",
       "// Listen for the clearing of the current output cell\n",
       "var outputEl = gd.closest('.output');\n",
       "if (outputEl) {{\n",
       "    x.observe(outputEl, {childList: true});\n",
       "}}\n",
       "\n",
       "                        })                };                });            </script>        </div>"
      ]
     },
     "metadata": {},
     "output_type": "display_data"
    }
   ],
   "source": [
    "pca_pipeline = Pipeline([('scaler', StandardScaler()), ('PCA', PCA(n_components=2))])\n",
    "song_embedding = pca_pipeline.fit_transform(X)\n",
    "projection = pd.DataFrame(columns=['x', 'y'], data=song_embedding)\n",
    "projection['title'] = data['name']\n",
    "projection['cluster'] = data['cluster_label']\n",
    "\n",
    "fig = px.scatter(projection, x='x', y='y', color='cluster', hover_data=['x', 'y', 'title'])\n",
    "fig.show()"
   ]
  },
  {
   "cell_type": "code",
   "execution_count": null,
   "metadata": {},
   "outputs": [],
   "source": []
  }
 ],
 "metadata": {
  "kernelspec": {
   "display_name": "Python 3",
   "language": "python",
   "name": "python3"
  },
  "language_info": {
   "codemirror_mode": {
    "name": "ipython",
    "version": 3
   },
   "file_extension": ".py",
   "mimetype": "text/x-python",
   "name": "python",
   "nbconvert_exporter": "python",
   "pygments_lexer": "ipython3",
   "version": "3.8.5"
  }
 },
 "nbformat": 4,
 "nbformat_minor": 4
}
