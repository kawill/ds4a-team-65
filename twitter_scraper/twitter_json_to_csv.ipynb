{
 "cells": [
  {
   "cell_type": "code",
   "execution_count": 1,
   "metadata": {},
   "outputs": [],
   "source": [
    "import pandas as pd\n",
    "import glob\n",
    "\n",
    "from datetime import datetime"
   ]
  },
  {
   "cell_type": "code",
   "execution_count": 2,
   "metadata": {},
   "outputs": [],
   "source": [
    "path = r'./data' # use your path\n",
    "all_files = glob.glob(path + \"/*.json\")\n",
    "\n",
    "li = []\n",
    "\n",
    "for filename in all_files:\n",
    "    df = pd.read_json(filename)\n",
    "    li.append(df)\n",
    "\n"
   ]
  },
  {
   "cell_type": "code",
   "execution_count": 3,
   "metadata": {},
   "outputs": [],
   "source": [
    "df = pd.concat(li, axis=0, ignore_index=True)"
   ]
  },
  {
   "cell_type": "code",
   "execution_count": 4,
   "metadata": {},
   "outputs": [
    {
     "data": {
      "text/html": [
       "<div>\n",
       "<style scoped>\n",
       "    .dataframe tbody tr th:only-of-type {\n",
       "        vertical-align: middle;\n",
       "    }\n",
       "\n",
       "    .dataframe tbody tr th {\n",
       "        vertical-align: top;\n",
       "    }\n",
       "\n",
       "    .dataframe thead th {\n",
       "        text-align: right;\n",
       "    }\n",
       "</style>\n",
       "<table border=\"1\" class=\"dataframe\">\n",
       "  <thead>\n",
       "    <tr style=\"text-align: right;\">\n",
       "      <th></th>\n",
       "      <th>account</th>\n",
       "      <th>date</th>\n",
       "      <th>body</th>\n",
       "    </tr>\n",
       "  </thead>\n",
       "  <tbody>\n",
       "    <tr>\n",
       "      <th>0</th>\n",
       "      <td>@amazon</td>\n",
       "      <td>Jun 3</td>\n",
       "      <td>Amazon stands in solidarity with the Black com...</td>\n",
       "    </tr>\n",
       "    <tr>\n",
       "      <th>1</th>\n",
       "      <td>@amazon</td>\n",
       "      <td>Jun 3</td>\n",
       "      <td>Amazon stands in solidarity with the Black com...</td>\n",
       "    </tr>\n",
       "    <tr>\n",
       "      <th>2</th>\n",
       "      <td>@amazon</td>\n",
       "      <td>Jun 3</td>\n",
       "      <td>Amazon stands in solidarity with the Black com...</td>\n",
       "    </tr>\n",
       "    <tr>\n",
       "      <th>3</th>\n",
       "      <td>@amazon</td>\n",
       "      <td>Jun 3</td>\n",
       "      <td>Amazon stands in solidarity with the Black com...</td>\n",
       "    </tr>\n",
       "    <tr>\n",
       "      <th>4</th>\n",
       "      <td>@amazon</td>\n",
       "      <td>Jun 3</td>\n",
       "      <td>Amazon stands in solidarity with the Black com...</td>\n",
       "    </tr>\n",
       "  </tbody>\n",
       "</table>\n",
       "</div>"
      ],
      "text/plain": [
       "   account   date                                               body\n",
       "0  @amazon  Jun 3  Amazon stands in solidarity with the Black com...\n",
       "1  @amazon  Jun 3  Amazon stands in solidarity with the Black com...\n",
       "2  @amazon  Jun 3  Amazon stands in solidarity with the Black com...\n",
       "3  @amazon  Jun 3  Amazon stands in solidarity with the Black com...\n",
       "4  @amazon  Jun 3  Amazon stands in solidarity with the Black com..."
      ]
     },
     "execution_count": 4,
     "metadata": {},
     "output_type": "execute_result"
    }
   ],
   "source": [
    "df.head()"
   ]
  },
  {
   "cell_type": "code",
   "execution_count": 5,
   "metadata": {},
   "outputs": [],
   "source": [
    "df.drop_duplicates(inplace=True)"
   ]
  },
  {
   "cell_type": "code",
   "execution_count": 14,
   "metadata": {},
   "outputs": [],
   "source": [
    "# add black data\n",
    "\n",
    "path = r'./data/black' # use your path\n",
    "all_files = glob.glob(path + \"/*.json\")\n",
    "\n",
    "li = []\n",
    "\n",
    "for filename in all_files:\n",
    "    df_black = pd.read_json(filename)\n",
    "    li.append(df_black)"
   ]
  },
  {
   "cell_type": "code",
   "execution_count": 15,
   "metadata": {},
   "outputs": [
    {
     "data": {
      "text/html": [
       "<div>\n",
       "<style scoped>\n",
       "    .dataframe tbody tr th:only-of-type {\n",
       "        vertical-align: middle;\n",
       "    }\n",
       "\n",
       "    .dataframe tbody tr th {\n",
       "        vertical-align: top;\n",
       "    }\n",
       "\n",
       "    .dataframe thead th {\n",
       "        text-align: right;\n",
       "    }\n",
       "</style>\n",
       "<table border=\"1\" class=\"dataframe\">\n",
       "  <thead>\n",
       "    <tr style=\"text-align: right;\">\n",
       "      <th></th>\n",
       "      <th>account</th>\n",
       "      <th>date</th>\n",
       "      <th>body</th>\n",
       "    </tr>\n",
       "  </thead>\n",
       "  <tbody>\n",
       "    <tr>\n",
       "      <th>0</th>\n",
       "      <td>@AbbVieUS</td>\n",
       "      <td>Jul 21</td>\n",
       "      <td>Uterine fibroids disproportionately affect Bla...</td>\n",
       "    </tr>\n",
       "    <tr>\n",
       "      <th>1</th>\n",
       "      <td>@AbbVieUS</td>\n",
       "      <td>Feb 24</td>\n",
       "      <td>RT @abbvie: What does #BlackHistoryMonth mean ...</td>\n",
       "    </tr>\n",
       "    <tr>\n",
       "      <th>2</th>\n",
       "      <td>@AbbVieUS</td>\n",
       "      <td>Jul 21</td>\n",
       "      <td>Uterine fibroids disproportionately affect Bla...</td>\n",
       "    </tr>\n",
       "    <tr>\n",
       "      <th>3</th>\n",
       "      <td>@AbbVieUS</td>\n",
       "      <td>Feb 24</td>\n",
       "      <td>RT @abbvie: What does #BlackHistoryMonth mean ...</td>\n",
       "    </tr>\n",
       "    <tr>\n",
       "      <th>4</th>\n",
       "      <td>@AbbVieUS</td>\n",
       "      <td>Jul 21</td>\n",
       "      <td>Uterine fibroids disproportionately affect Bla...</td>\n",
       "    </tr>\n",
       "  </tbody>\n",
       "</table>\n",
       "</div>"
      ],
      "text/plain": [
       "     account    date                                               body\n",
       "0  @AbbVieUS  Jul 21  Uterine fibroids disproportionately affect Bla...\n",
       "1  @AbbVieUS  Feb 24  RT @abbvie: What does #BlackHistoryMonth mean ...\n",
       "2  @AbbVieUS  Jul 21  Uterine fibroids disproportionately affect Bla...\n",
       "3  @AbbVieUS  Feb 24  RT @abbvie: What does #BlackHistoryMonth mean ...\n",
       "4  @AbbVieUS  Jul 21  Uterine fibroids disproportionately affect Bla..."
      ]
     },
     "execution_count": 15,
     "metadata": {},
     "output_type": "execute_result"
    }
   ],
   "source": [
    "df_black.head()"
   ]
  },
  {
   "cell_type": "code",
   "execution_count": 18,
   "metadata": {},
   "outputs": [
    {
     "data": {
      "text/plain": [
       "(118, 3)"
      ]
     },
     "execution_count": 18,
     "metadata": {},
     "output_type": "execute_result"
    }
   ],
   "source": [
    "df_black.shape"
   ]
  },
  {
   "cell_type": "code",
   "execution_count": 17,
   "metadata": {},
   "outputs": [],
   "source": [
    "df_black.drop_duplicates(inplace=True)"
   ]
  },
  {
   "cell_type": "code",
   "execution_count": 19,
   "metadata": {},
   "outputs": [],
   "source": [
    "# add diversity data\n",
    "\n",
    "path = r'./data/diversity' # use your path\n",
    "all_files = glob.glob(path + \"/*.json\")\n",
    "\n",
    "li = []\n",
    "\n",
    "for filename in all_files:\n",
    "    df_diversity = pd.read_json(filename)\n",
    "    li.append(df_diversity)"
   ]
  },
  {
   "cell_type": "code",
   "execution_count": 33,
   "metadata": {},
   "outputs": [],
   "source": [
    "# joining the tables\n",
    "\n",
    "df_final = pd.concat([df, df_black], ignore_index=True)"
   ]
  },
  {
   "cell_type": "code",
   "execution_count": 34,
   "metadata": {},
   "outputs": [],
   "source": [
    "df_final['tweet_date'] = df_final.apply(lambda row: str(row['date']) + ' ' + str(2020), axis=1 )"
   ]
  },
  {
   "cell_type": "code",
   "execution_count": 35,
   "metadata": {},
   "outputs": [],
   "source": [
    "df_final['account'] = df_final.apply(lambda row: row['account'][1:], axis=1)"
   ]
  },
  {
   "cell_type": "code",
   "execution_count": 24,
   "metadata": {},
   "outputs": [],
   "source": [
    "df_final.to_csv('tweets.csv')"
   ]
  },
  {
   "cell_type": "code",
   "execution_count": 36,
   "metadata": {},
   "outputs": [
    {
     "data": {
      "text/html": [
       "<div>\n",
       "<style scoped>\n",
       "    .dataframe tbody tr th:only-of-type {\n",
       "        vertical-align: middle;\n",
       "    }\n",
       "\n",
       "    .dataframe tbody tr th {\n",
       "        vertical-align: top;\n",
       "    }\n",
       "\n",
       "    .dataframe thead th {\n",
       "        text-align: right;\n",
       "    }\n",
       "</style>\n",
       "<table border=\"1\" class=\"dataframe\">\n",
       "  <thead>\n",
       "    <tr style=\"text-align: right;\">\n",
       "      <th></th>\n",
       "      <th>account</th>\n",
       "      <th>date</th>\n",
       "      <th>body</th>\n",
       "      <th>tweet_date</th>\n",
       "    </tr>\n",
       "  </thead>\n",
       "  <tbody>\n",
       "    <tr>\n",
       "      <th>0</th>\n",
       "      <td>amazon</td>\n",
       "      <td>Jun 3</td>\n",
       "      <td>Amazon stands in solidarity with the Black com...</td>\n",
       "      <td>Jun 3 2020</td>\n",
       "    </tr>\n",
       "    <tr>\n",
       "      <th>1</th>\n",
       "      <td>biogen</td>\n",
       "      <td>Nov 19</td>\n",
       "      <td>Our own Stephanie Dyson, VP, Head of Governmen...</td>\n",
       "      <td>Nov 19 2020</td>\n",
       "    </tr>\n",
       "    <tr>\n",
       "      <th>2</th>\n",
       "      <td>pfizer</td>\n",
       "      <td>Sep 22</td>\n",
       "      <td>According to @AmericanCancer, Black men are ~1...</td>\n",
       "      <td>Sep 22 2020</td>\n",
       "    </tr>\n",
       "    <tr>\n",
       "      <th>3</th>\n",
       "      <td>pfizer</td>\n",
       "      <td>Sep 1</td>\n",
       "      <td>#COVID19 disproportionately affects Black, Nat...</td>\n",
       "      <td>Sep 1 2020</td>\n",
       "    </tr>\n",
       "    <tr>\n",
       "      <th>4</th>\n",
       "      <td>regencycenters</td>\n",
       "      <td>Jun 3</td>\n",
       "      <td>We stand in solidarity with the Black communit...</td>\n",
       "      <td>Jun 3 2020</td>\n",
       "    </tr>\n",
       "  </tbody>\n",
       "</table>\n",
       "</div>"
      ],
      "text/plain": [
       "          account    date                                               body  \\\n",
       "0          amazon   Jun 3  Amazon stands in solidarity with the Black com...   \n",
       "1          biogen  Nov 19  Our own Stephanie Dyson, VP, Head of Governmen...   \n",
       "2          pfizer  Sep 22  According to @AmericanCancer, Black men are ~1...   \n",
       "3          pfizer   Sep 1  #COVID19 disproportionately affects Black, Nat...   \n",
       "4  regencycenters   Jun 3  We stand in solidarity with the Black communit...   \n",
       "\n",
       "    tweet_date  \n",
       "0   Jun 3 2020  \n",
       "1  Nov 19 2020  \n",
       "2  Sep 22 2020  \n",
       "3   Sep 1 2020  \n",
       "4   Jun 3 2020  "
      ]
     },
     "execution_count": 36,
     "metadata": {},
     "output_type": "execute_result"
    }
   ],
   "source": [
    "df_final.head()"
   ]
  },
  {
   "cell_type": "code",
   "execution_count": null,
   "metadata": {},
   "outputs": [],
   "source": []
  }
 ],
 "metadata": {
  "kernelspec": {
   "display_name": "Python 3",
   "language": "python",
   "name": "python3"
  },
  "language_info": {
   "codemirror_mode": {
    "name": "ipython",
    "version": 3
   },
   "file_extension": ".py",
   "mimetype": "text/x-python",
   "name": "python",
   "nbconvert_exporter": "python",
   "pygments_lexer": "ipython3",
   "version": "3.8.5"
  }
 },
 "nbformat": 4,
 "nbformat_minor": 4
}
